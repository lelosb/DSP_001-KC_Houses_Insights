{
 "cells": [
  {
   "cell_type": "markdown",
   "id": "43c12e6f",
   "metadata": {
    "heading_collapsed": true
   },
   "source": [
    "# King Count Houses - Insights  Project"
   ]
  },
  {
   "cell_type": "markdown",
   "id": "31a537a6",
   "metadata": {
    "ExecuteTime": {
     "end_time": "2021-06-28T15:33:39.487347Z",
     "start_time": "2021-06-28T15:33:39.146704Z"
    },
    "heading_collapsed": true
   },
   "source": [
    "# Basic setups"
   ]
  },
  {
   "cell_type": "markdown",
   "id": "5188af92",
   "metadata": {
    "ExecuteTime": {
     "end_time": "2021-06-28T15:33:39.487347Z",
     "start_time": "2021-06-28T15:33:39.146704Z"
    },
    "hidden": true
   },
   "source": [
    "## IMPORTS"
   ]
  },
  {
   "cell_type": "code",
   "execution_count": 1,
   "id": "c705bc40",
   "metadata": {
    "ExecuteTime": {
     "end_time": "2021-08-30T14:15:20.821757Z",
     "start_time": "2021-08-30T14:15:18.780206Z"
    },
    "hidden": true
   },
   "outputs": [],
   "source": [
    "import math\n",
    "import plotly.express as px\n",
    "import pandas as pd\n",
    "from IPython.core.display     import HTML\n",
    "import seaborn       as sns\n",
    "import datetime\n",
    "import ipywidgets as widgets\n",
    "from   ipywidgets import fixed\n",
    "import matplotlib.pyplot as plt"
   ]
  },
  {
   "cell_type": "markdown",
   "id": "3751aad5",
   "metadata": {
    "hidden": true
   },
   "source": [
    "## Helper functions"
   ]
  },
  {
   "cell_type": "code",
   "execution_count": 2,
   "id": "85bfe522",
   "metadata": {
    "ExecuteTime": {
     "end_time": "2021-08-30T14:15:20.853717Z",
     "start_time": "2021-08-30T14:15:20.826749Z"
    },
    "hidden": true
   },
   "outputs": [
    {
     "name": "stdout",
     "output_type": "stream",
     "text": [
      "Populating the interactive namespace from numpy and matplotlib\n"
     ]
    },
    {
     "data": {
      "text/html": [
       "<style>.container { width:100% !important; }</style>"
      ],
      "text/plain": [
       "<IPython.core.display.HTML object>"
      ]
     },
     "metadata": {},
     "output_type": "display_data"
    }
   ],
   "source": [
    "#jupyter notebook settings\n",
    "def jupyter_settings():\n",
    "    %matplotlib inline\n",
    "    %pylab inline\n",
    "    plt.style.use( 'bmh' )\n",
    "    plt.rcParams['figure.figsize'] = [25, 12]\n",
    "    plt.rcParams['font.size'] = 24\n",
    "    display( HTML( '<style>.container { width:100% !important; }</style>') )\n",
    "    pd.options.display.max_columns = None\n",
    "    pd.options.display.max_rows = None\n",
    "    pd.set_option( 'display.expand_frame_repr', False )\n",
    "    sns.set()\n",
    "jupyter_settings()"
   ]
  },
  {
   "cell_type": "code",
   "execution_count": 3,
   "id": "1e9eb4de",
   "metadata": {
    "ExecuteTime": {
     "end_time": "2021-08-30T14:15:20.869666Z",
     "start_time": "2021-08-30T14:15:20.855674Z"
    },
    "hidden": true
   },
   "outputs": [],
   "source": [
    "# Supress Scientific Notation\n",
    "np.set_printoptions(suppress=True)\n",
    "pd.set_option('display.float_format', '{:.2f}'.format)"
   ]
  },
  {
   "cell_type": "markdown",
   "id": "91a3595d",
   "metadata": {
    "ExecuteTime": {
     "end_time": "2021-06-28T22:15:13.510514Z",
     "start_time": "2021-06-28T22:15:13.498546Z"
    },
    "heading_collapsed": true
   },
   "source": [
    "# Data Description"
   ]
  },
  {
   "cell_type": "markdown",
   "id": "f25c7714",
   "metadata": {
    "hidden": true
   },
   "source": [
    "## Data Load"
   ]
  },
  {
   "cell_type": "code",
   "execution_count": 4,
   "id": "eb461e26",
   "metadata": {
    "ExecuteTime": {
     "end_time": "2021-08-30T14:15:20.932111Z",
     "start_time": "2021-08-30T14:15:20.870630Z"
    },
    "hidden": true
   },
   "outputs": [],
   "source": [
    "df_raw = pd.read_csv(r'../data/raw/kc_house_data.csv') "
   ]
  },
  {
   "cell_type": "markdown",
   "id": "36b47910",
   "metadata": {
    "ExecuteTime": {
     "end_time": "2021-08-02T17:59:47.486649Z",
     "start_time": "2021-08-02T17:59:47.468664Z"
    },
    "hidden": true
   },
   "source": [
    "## Data Overview"
   ]
  },
  {
   "cell_type": "code",
   "execution_count": 5,
   "id": "d006be8a",
   "metadata": {
    "ExecuteTime": {
     "end_time": "2021-08-30T14:15:20.963987Z",
     "start_time": "2021-08-30T14:15:20.934033Z"
    },
    "hidden": true,
    "scrolled": true
   },
   "outputs": [
    {
     "data": {
      "text/html": [
       "<div>\n",
       "<style scoped>\n",
       "    .dataframe tbody tr th:only-of-type {\n",
       "        vertical-align: middle;\n",
       "    }\n",
       "\n",
       "    .dataframe tbody tr th {\n",
       "        vertical-align: top;\n",
       "    }\n",
       "\n",
       "    .dataframe thead th {\n",
       "        text-align: right;\n",
       "    }\n",
       "</style>\n",
       "<table border=\"1\" class=\"dataframe\">\n",
       "  <thead>\n",
       "    <tr style=\"text-align: right;\">\n",
       "      <th></th>\n",
       "      <th>id</th>\n",
       "      <th>date</th>\n",
       "      <th>price</th>\n",
       "      <th>bedrooms</th>\n",
       "      <th>bathrooms</th>\n",
       "      <th>sqft_living</th>\n",
       "      <th>sqft_lot</th>\n",
       "      <th>floors</th>\n",
       "      <th>waterfront</th>\n",
       "      <th>view</th>\n",
       "      <th>condition</th>\n",
       "      <th>grade</th>\n",
       "      <th>sqft_above</th>\n",
       "      <th>sqft_basement</th>\n",
       "      <th>yr_built</th>\n",
       "      <th>yr_renovated</th>\n",
       "      <th>zipcode</th>\n",
       "      <th>lat</th>\n",
       "      <th>long</th>\n",
       "      <th>sqft_living15</th>\n",
       "      <th>sqft_lot15</th>\n",
       "    </tr>\n",
       "  </thead>\n",
       "  <tbody>\n",
       "    <tr>\n",
       "      <th>12364</th>\n",
       "      <td>9464700340</td>\n",
       "      <td>20140708T000000</td>\n",
       "      <td>1115000.00</td>\n",
       "      <td>4</td>\n",
       "      <td>2.50</td>\n",
       "      <td>3180</td>\n",
       "      <td>31931</td>\n",
       "      <td>1.00</td>\n",
       "      <td>0</td>\n",
       "      <td>0</td>\n",
       "      <td>4</td>\n",
       "      <td>10</td>\n",
       "      <td>2390</td>\n",
       "      <td>790</td>\n",
       "      <td>1978</td>\n",
       "      <td>0</td>\n",
       "      <td>98007</td>\n",
       "      <td>47.64</td>\n",
       "      <td>-122.15</td>\n",
       "      <td>3180</td>\n",
       "      <td>35007</td>\n",
       "    </tr>\n",
       "    <tr>\n",
       "      <th>3321</th>\n",
       "      <td>2724200705</td>\n",
       "      <td>20141212T000000</td>\n",
       "      <td>95000.00</td>\n",
       "      <td>2</td>\n",
       "      <td>1.00</td>\n",
       "      <td>800</td>\n",
       "      <td>8550</td>\n",
       "      <td>1.00</td>\n",
       "      <td>0</td>\n",
       "      <td>0</td>\n",
       "      <td>3</td>\n",
       "      <td>7</td>\n",
       "      <td>800</td>\n",
       "      <td>0</td>\n",
       "      <td>1947</td>\n",
       "      <td>0</td>\n",
       "      <td>98198</td>\n",
       "      <td>47.41</td>\n",
       "      <td>-122.29</td>\n",
       "      <td>1490</td>\n",
       "      <td>8550</td>\n",
       "    </tr>\n",
       "    <tr>\n",
       "      <th>18738</th>\n",
       "      <td>2660500283</td>\n",
       "      <td>20140624T000000</td>\n",
       "      <td>210000.00</td>\n",
       "      <td>2</td>\n",
       "      <td>1.00</td>\n",
       "      <td>970</td>\n",
       "      <td>5500</td>\n",
       "      <td>1.00</td>\n",
       "      <td>0</td>\n",
       "      <td>0</td>\n",
       "      <td>3</td>\n",
       "      <td>7</td>\n",
       "      <td>970</td>\n",
       "      <td>0</td>\n",
       "      <td>1956</td>\n",
       "      <td>0</td>\n",
       "      <td>98118</td>\n",
       "      <td>47.56</td>\n",
       "      <td>-122.29</td>\n",
       "      <td>1180</td>\n",
       "      <td>6000</td>\n",
       "    </tr>\n",
       "    <tr>\n",
       "      <th>18384</th>\n",
       "      <td>4046710180</td>\n",
       "      <td>20150325T000000</td>\n",
       "      <td>660000.00</td>\n",
       "      <td>3</td>\n",
       "      <td>3.50</td>\n",
       "      <td>3600</td>\n",
       "      <td>37982</td>\n",
       "      <td>2.00</td>\n",
       "      <td>0</td>\n",
       "      <td>0</td>\n",
       "      <td>4</td>\n",
       "      <td>8</td>\n",
       "      <td>3600</td>\n",
       "      <td>0</td>\n",
       "      <td>1996</td>\n",
       "      <td>0</td>\n",
       "      <td>98014</td>\n",
       "      <td>47.70</td>\n",
       "      <td>-121.92</td>\n",
       "      <td>2050</td>\n",
       "      <td>18019</td>\n",
       "    </tr>\n",
       "    <tr>\n",
       "      <th>14587</th>\n",
       "      <td>7229900975</td>\n",
       "      <td>20140507T000000</td>\n",
       "      <td>314950.00</td>\n",
       "      <td>3</td>\n",
       "      <td>1.00</td>\n",
       "      <td>1040</td>\n",
       "      <td>16986</td>\n",
       "      <td>1.00</td>\n",
       "      <td>0</td>\n",
       "      <td>0</td>\n",
       "      <td>4</td>\n",
       "      <td>7</td>\n",
       "      <td>1040</td>\n",
       "      <td>0</td>\n",
       "      <td>1968</td>\n",
       "      <td>0</td>\n",
       "      <td>98059</td>\n",
       "      <td>47.48</td>\n",
       "      <td>-122.10</td>\n",
       "      <td>1660</td>\n",
       "      <td>16986</td>\n",
       "    </tr>\n",
       "  </tbody>\n",
       "</table>\n",
       "</div>"
      ],
      "text/plain": [
       "               id             date      price  bedrooms  bathrooms  sqft_living  sqft_lot  floors  waterfront  view  condition  grade  sqft_above  sqft_basement  yr_built  yr_renovated  zipcode   lat    long  sqft_living15  sqft_lot15\n",
       "12364  9464700340  20140708T000000 1115000.00         4       2.50         3180     31931    1.00           0     0          4     10        2390            790      1978             0    98007 47.64 -122.15           3180       35007\n",
       "3321   2724200705  20141212T000000   95000.00         2       1.00          800      8550    1.00           0     0          3      7         800              0      1947             0    98198 47.41 -122.29           1490        8550\n",
       "18738  2660500283  20140624T000000  210000.00         2       1.00          970      5500    1.00           0     0          3      7         970              0      1956             0    98118 47.56 -122.29           1180        6000\n",
       "18384  4046710180  20150325T000000  660000.00         3       3.50         3600     37982    2.00           0     0          4      8        3600              0      1996             0    98014 47.70 -121.92           2050       18019\n",
       "14587  7229900975  20140507T000000  314950.00         3       1.00         1040     16986    1.00           0     0          4      7        1040              0      1968             0    98059 47.48 -122.10           1660       16986"
      ]
     },
     "execution_count": 5,
     "metadata": {},
     "output_type": "execute_result"
    }
   ],
   "source": [
    "df_raw.sample(5)"
   ]
  },
  {
   "cell_type": "code",
   "execution_count": 6,
   "id": "f15c20a3",
   "metadata": {
    "ExecuteTime": {
     "end_time": "2021-08-30T14:15:20.979943Z",
     "start_time": "2021-08-30T14:15:20.964950Z"
    },
    "hidden": true
   },
   "outputs": [
    {
     "name": "stdout",
     "output_type": "stream",
     "text": [
      "The original dataset have 21613 transation registers with 21 attributes.\n"
     ]
    }
   ],
   "source": [
    "print ('The original dataset have {} transation registers with {} attributes.'.format(df_raw.shape[0], df_raw.shape[1]))"
   ]
  },
  {
   "cell_type": "code",
   "execution_count": 7,
   "id": "9fabc2e9",
   "metadata": {
    "ExecuteTime": {
     "end_time": "2021-08-30T14:15:20.994910Z",
     "start_time": "2021-08-30T14:15:20.980908Z"
    },
    "hidden": true,
    "scrolled": false
   },
   "outputs": [
    {
     "data": {
      "text/plain": [
       "Index(['id', 'date', 'price', 'bedrooms', 'bathrooms', 'sqft_living',\n",
       "       'sqft_lot', 'floors', 'waterfront', 'view', 'condition', 'grade',\n",
       "       'sqft_above', 'sqft_basement', 'yr_built', 'yr_renovated', 'zipcode',\n",
       "       'lat', 'long', 'sqft_living15', 'sqft_lot15'],\n",
       "      dtype='object')"
      ]
     },
     "execution_count": 7,
     "metadata": {},
     "output_type": "execute_result"
    }
   ],
   "source": [
    "df_raw.columns"
   ]
  },
  {
   "cell_type": "markdown",
   "id": "7867a233",
   "metadata": {
    "hidden": true
   },
   "source": [
    "1° Task: Check the attributes: 'grade','sqft_living15', 'sqft_lot15' and 'view'\n",
    "Identify, cleaning or drop."
   ]
  },
  {
   "cell_type": "markdown",
   "id": "21fe3f33",
   "metadata": {
    "hidden": true
   },
   "source": [
    "## Data Types"
   ]
  },
  {
   "cell_type": "code",
   "execution_count": 8,
   "id": "8d20ab9e",
   "metadata": {
    "ExecuteTime": {
     "end_time": "2021-08-30T14:15:21.010388Z",
     "start_time": "2021-08-30T14:15:20.996864Z"
    },
    "hidden": true,
    "scrolled": true
   },
   "outputs": [
    {
     "data": {
      "text/plain": [
       "id                 int64\n",
       "date              object\n",
       "price            float64\n",
       "bedrooms           int64\n",
       "bathrooms        float64\n",
       "sqft_living        int64\n",
       "sqft_lot           int64\n",
       "floors           float64\n",
       "waterfront         int64\n",
       "view               int64\n",
       "condition          int64\n",
       "grade              int64\n",
       "sqft_above         int64\n",
       "sqft_basement      int64\n",
       "yr_built           int64\n",
       "yr_renovated       int64\n",
       "zipcode            int64\n",
       "lat              float64\n",
       "long             float64\n",
       "sqft_living15      int64\n",
       "sqft_lot15         int64\n",
       "dtype: object"
      ]
     },
     "execution_count": 8,
     "metadata": {},
     "output_type": "execute_result"
    }
   ],
   "source": [
    "df_raw.dtypes"
   ]
  },
  {
   "cell_type": "markdown",
   "id": "c034c996",
   "metadata": {
    "hidden": true
   },
   "source": [
    "Tasks:\n",
    "\n",
    "2°)Change 'waterfront' from 0 or 1 to yes or no\n",
    "\n",
    "3°)Change 'date' to date format"
   ]
  },
  {
   "cell_type": "markdown",
   "id": "a006c391",
   "metadata": {
    "ExecuteTime": {
     "end_time": "2021-08-02T18:08:22.667732Z",
     "start_time": "2021-08-02T18:08:22.651736Z"
    },
    "hidden": true
   },
   "source": [
    "## Check NA"
   ]
  },
  {
   "cell_type": "code",
   "execution_count": 9,
   "id": "ba080444",
   "metadata": {
    "ExecuteTime": {
     "end_time": "2021-08-30T14:15:21.026325Z",
     "start_time": "2021-08-30T14:15:21.012331Z"
    },
    "hidden": true
   },
   "outputs": [
    {
     "data": {
      "text/plain": [
       "id               0\n",
       "date             0\n",
       "price            0\n",
       "bedrooms         0\n",
       "bathrooms        0\n",
       "sqft_living      0\n",
       "sqft_lot         0\n",
       "floors           0\n",
       "waterfront       0\n",
       "view             0\n",
       "condition        0\n",
       "grade            0\n",
       "sqft_above       0\n",
       "sqft_basement    0\n",
       "yr_built         0\n",
       "yr_renovated     0\n",
       "zipcode          0\n",
       "lat              0\n",
       "long             0\n",
       "sqft_living15    0\n",
       "sqft_lot15       0\n",
       "dtype: int64"
      ]
     },
     "execution_count": 9,
     "metadata": {},
     "output_type": "execute_result"
    }
   ],
   "source": [
    "df_raw.isna().sum()"
   ]
  },
  {
   "cell_type": "markdown",
   "id": "aa00dd82",
   "metadata": {
    "ExecuteTime": {
     "end_time": "2021-08-03T18:07:00.244902Z",
     "start_time": "2021-08-03T18:07:00.233930Z"
    },
    "hidden": true
   },
   "source": [
    "## Check Duplicated"
   ]
  },
  {
   "cell_type": "code",
   "execution_count": 10,
   "id": "4a2385a7",
   "metadata": {
    "ExecuteTime": {
     "end_time": "2021-08-30T14:15:21.042251Z",
     "start_time": "2021-08-30T14:15:21.027289Z"
    },
    "hidden": true,
    "scrolled": true
   },
   "outputs": [
    {
     "data": {
      "text/plain": [
       "177"
      ]
     },
     "execution_count": 10,
     "metadata": {},
     "output_type": "execute_result"
    }
   ],
   "source": [
    "df_raw['id'].duplicated().sum()"
   ]
  },
  {
   "cell_type": "markdown",
   "id": "f1239fd7",
   "metadata": {
    "ExecuteTime": {
     "end_time": "2021-08-04T20:06:58.716987Z",
     "start_time": "2021-08-04T20:06:58.701029Z"
    },
    "hidden": true
   },
   "source": [
    "Task:\n",
    "\n",
    "4) Identify the duplicated ones and drop if it is necessary."
   ]
  },
  {
   "cell_type": "markdown",
   "id": "2b070222",
   "metadata": {
    "ExecuteTime": {
     "end_time": "2021-08-06T13:00:41.651694Z",
     "start_time": "2021-08-06T13:00:41.633750Z"
    },
    "hidden": true
   },
   "source": [
    "## Check attributes"
   ]
  },
  {
   "cell_type": "markdown",
   "id": "50a0c573",
   "metadata": {
    "ExecuteTime": {
     "end_time": "2021-08-06T12:18:31.276386Z",
     "start_time": "2021-08-06T12:18:31.267378Z"
    },
    "hidden": true
   },
   "source": [
    "### Attribute 'grade'"
   ]
  },
  {
   "cell_type": "markdown",
   "id": "9d8eb092",
   "metadata": {
    "hidden": true
   },
   "source": [
    "It's an index from 1 to 13, where 1-3 falls short of building construction and design, 7 has an average level of construction and design, and 11-13 have a high quality level of construction and design."
   ]
  },
  {
   "cell_type": "code",
   "execution_count": 11,
   "id": "bd8d81c1",
   "metadata": {
    "ExecuteTime": {
     "end_time": "2021-08-30T14:15:21.058206Z",
     "start_time": "2021-08-30T14:15:21.043248Z"
    },
    "hidden": true
   },
   "outputs": [
    {
     "data": {
      "text/plain": [
       "array([ 7,  6,  8, 11,  9,  5, 10, 12,  4,  3, 13,  1], dtype=int64)"
      ]
     },
     "execution_count": 11,
     "metadata": {},
     "output_type": "execute_result"
    }
   ],
   "source": [
    "df_raw['grade'].unique()"
   ]
  },
  {
   "cell_type": "markdown",
   "id": "5fca632c",
   "metadata": {
    "ExecuteTime": {
     "end_time": "2021-08-06T12:15:24.252808Z",
     "start_time": "2021-08-06T12:15:24.238848Z"
    },
    "hidden": true
   },
   "source": [
    "### Attribute 'sqft_living15'"
   ]
  },
  {
   "cell_type": "markdown",
   "id": "66da9868",
   "metadata": {
    "hidden": true
   },
   "source": [
    "sqft_living15 - The square footage of interior housing living space for the nearest 15 neighbors"
   ]
  },
  {
   "cell_type": "code",
   "execution_count": 12,
   "id": "47b4e5ea",
   "metadata": {
    "ExecuteTime": {
     "end_time": "2021-08-30T14:15:21.074163Z",
     "start_time": "2021-08-30T14:15:21.060201Z"
    },
    "hidden": true,
    "scrolled": false
   },
   "outputs": [
    {
     "data": {
      "text/plain": [
       "array([1340, 1690, 2720, 1360, 1800, 4760, 2238, 1650, 1780, 2390, 2210,\n",
       "       1330, 1370, 2140, 1890, 1610, 1060, 1280, 1400, 4110, 2240, 1220,\n",
       "       2200, 1030, 1760, 1860, 1520, 2630, 2580, 1390, 1460, 1570, 2020,\n",
       "       1590, 2160, 1730, 1290, 2620, 2470, 2410, 3625, 1580, 3050, 1228,\n",
       "       2680,  970, 1190, 1990, 1410, 1480, 2730, 1950, 2250, 2690, 2960,\n",
       "       2270, 2570, 2500, 1440, 2750, 2221, 1010, 3390, 3530, 1640, 1510,\n",
       "       2420, 1940, 3240, 1680,  890, 1130, 3350, 2350, 1870, 1720, 1850,\n",
       "       1900, 1980, 2520, 1350, 1750, 1160, 2550, 2370, 1240, 1270, 2990,\n",
       "       1380, 1540, 2090, 2640, 1830, 1620, 1880, 2340, 1710, 2700, 3060,\n",
       "       2660, 1700, 1970, 1420, 2060, 2480, 1550, 1170, 2820, 1560, 2230,\n",
       "       2840, 1450, 1500, 3160, 1200, 3400, 2110, 2920, 1770, 1070, 1930,\n",
       "       3740, 2260, 1670, 2290, 1050, 2540, 2190, 2030, 1230, 2330, 1300,\n",
       "       1430, 2770, 1250, 1630, 2590, 2130, 1100, 3836, 1320, 2120, 3070,\n",
       "       1910, 2080, 1960, 2280, 1150, 3430, 2070, 2600,  830, 1260, 3120,\n",
       "       2010, 1660, 1600, 2380, 3890, 4180, 2653, 2670, 3920, 2300, 2310,\n",
       "       2320, 3150, 1740, 2400, 4550, 2510, 2440, 2880, 3860, 2150, 1310,\n",
       "       1820, 3080,  880, 2560, 3470, 1020, 2040, 2610, 1810, 2860, 3480,\n",
       "       3130, 3360, 4050, 2450, 1790, 3180, 3600, 2000, 2430, 2850, 4680,\n",
       "       2360, 3930, 1490, 2460, 2077, 1920, 3630, 3220, 2100, 3230, 4300,\n",
       "       3850, 2424, 2530, 3030, 2830, 2900, 2950, 1470,  940, 2740, 4210,\n",
       "       3340, 3980, 2180, 3715, 2050, 1080, 2095, 1000, 3330, 2170, 1408,\n",
       "       1530, 2760, 3110,  950, 3000, 1307, 2220, 4190, 3440, 3250, 1110,\n",
       "       2870, 1210, 2910, 1120, 4230, 1708, 3090, 3270, 2970, 1180, 3100,\n",
       "       4100, 2930, 3510, 2688, 1840, 2490, 4090, 2810, 3260, 3680, 3420,\n",
       "       1654, 1365,  980, 1677, 1140, 3640, 3460, 3140, 1502, 3720, 2790,\n",
       "       2940,  990, 2890,  860, 4750, 1525, 3950, 5790,  760, 2234,  960,\n",
       "       3210, 2780, 2800, 2305, 2665, 3620, 2710, 4320, 2650, 3370, 1509,\n",
       "       1277, 1981, 2434, 4640, 2242, 3040, 3970, 3200, 4600,  840, 3290,\n",
       "       2214, 1162, 3010, 5600, 3820, 3540, 1975, 4800,  740, 3990, 3170,\n",
       "       1576, 1768, 3310, 2980, 1429, 3900, 3380,  820, 1090, 4060, 3910,\n",
       "       3190, 3450, 3730,  620, 3020, 3760, 3320, 1132, 3300, 3770, 3960,\n",
       "        870, 3560, 4620, 3520, 1572, 3490, 1088, 3159, 4470, 3570, 4890,\n",
       "       3690, 3280, 2083, 3780,  920, 1941, 1566,  850, 2496, 1040, 3410,\n",
       "       4240, 4670, 4350, 1714, 5380, 4330, 3830, 5000, 2144, 1494, 1357,\n",
       "        930, 3580, 4250, 4080, 3660, 1458, 3736, 1894, 2037, 1295, 4170,\n",
       "       3750, 3550, 4630, 1439, 3500, 2091,  900, 3880, 3710, 1616,  720,\n",
       "        800, 2315, 1564, 2767, 3721, 4650, 4020,  780, 1728, 2027, 1264,\n",
       "       1404, 1459, 2028, 3639, 1943, 3425, 2641, 2114, 1309, 2412, 2517,\n",
       "       1802, 2011, 1466, 1414, 3193, 1845, 1156, 3670, 1696, 5340, 4440,\n",
       "       1745, 1884, 4690, 4920, 2406, 4160, 3810, 4480, 2848, 1746, 2634,\n",
       "       2049, 5330, 1536, 2273, 3056, 4010, 4700,  910, 2125, 1665, 2683,\n",
       "       3790,  700, 1855,  750, 1078, 4150, 4340, 2344, 1098, 1175, 1188,\n",
       "       3700, 3840, 4042, 2518, 3800, 2488, 3590, 2052,  810, 1528, 5030,\n",
       "       4740, 5070, 2967, 4280, 2724, 3610, 3940, 4940, 4770, 1811, 4830,\n",
       "       2876, 1805, 1216, 5170, 1304, 2474, 4590, 4130, 1492, 1364, 2168,\n",
       "       4140, 3543, 1303, 2005, 3650, 2583, 4310, 2451, 1448, 2955, 2142,\n",
       "        790, 1638, 2554, 2441, 2216, 4220, 1961, 4540,  770, 4200, 3413,\n",
       "       1664, 2136, 3568, 4510, 1484, 1358, 2106, 1834, 2014, 4390, 4570,\n",
       "       2175, 6110, 4260,  710, 2112, 1934, 1518, 1302, 2622, 2619, 2382,\n",
       "       4290, 4560, 4000, 1336, 3112, 4070, 1468, 1571, 2605, 1138, 5110,\n",
       "       4850, 2165, 4410, 1678, 5610, 1984, 4660, 3870, 4370,  460, 4610,\n",
       "       1914, 3515, 2246, 1786, 2109, 2326, 2728, 4400, 4950, 1767, 2054,\n",
       "       5500, 2555, 3674, 2765, 1862, 1352, 4030,  399, 2415, 2901, 1815,\n",
       "       2236, 2253, 2004, 1356, 2403, 1137, 1256, 4930, 4040, 2376, 4520,\n",
       "       4490, 2189, 2566, 2396, 1282, 2155, 1056, 2389, 2256, 3618, 1326,\n",
       "       1168, 4913,  806, 1369, 2405, 2875, 1425, 5220, 1442, 2333, 3335,\n",
       "       1321, 3045, 1546, 4730, 2697, 2822, 2076, 1757, 4780,  952, 4270,\n",
       "       2075, 2667, 1092, 1217, 1716, 1792, 2961, 1125, 1463, 1886,  670,\n",
       "       4460, 2336, 3557, 5200, 2258, 1377, 2019, 2092, 4900, 2615, 1639,\n",
       "       1765, 1554, 1381, 4120, 5080, 1445, 2793, 2475,  998, 2384, 2575,\n",
       "       1398, 1584, 2439, 2197, 2029, 4362, 1443, 4420, 1691, 2495, 2437,\n",
       "       2547, 6210, 2009, 1847, 1346, 2578, 2879, 2255, 2815, 1608,  690,\n",
       "       2425, 1481, 2458, 2358, 2056, 1921, 2419, 2996, 2502, 1798, 3087,\n",
       "       1076, 2981, 2363, 3191, 1763, 1876, 1949, 2598, 1979, 1415, 2002,\n",
       "       2574, 2166, 3726, 2099, 2154, 1522, 1544, 2912, 2648, 1658, 2755,\n",
       "       2798, 1405, 2704, 2738, 3008, 2586, 2873, 1232, 2597, 2516, 1537,\n",
       "       1128, 2849, 1399, 1131, 1569, 2381, 1084, 2304, 4530, 2297, 2279,\n",
       "       2303, 2669, 4225, 2513, 2725, 1955, 2527, 4443, 2478, 1919, 1813,\n",
       "       2533,  828, 2015, 3078, 4495, 2673, 2316, 2647, 3402, 3494, 2156,\n",
       "       3236, 2612, 2323, 2409, 2354, 1285, 2616, 1427, 1516, 2456, 2844,\n",
       "       1495, 2594, 2604, 1268, 2198, 3038, 2927], dtype=int64)"
      ]
     },
     "execution_count": 12,
     "metadata": {},
     "output_type": "execute_result"
    }
   ],
   "source": [
    "df_raw['sqft_living15'].unique()"
   ]
  },
  {
   "cell_type": "markdown",
   "id": "721099ec",
   "metadata": {
    "hidden": true
   },
   "source": [
    "Task 5) - Drop this feature"
   ]
  },
  {
   "cell_type": "markdown",
   "id": "58d7737c",
   "metadata": {
    "ExecuteTime": {
     "end_time": "2021-08-06T12:15:24.267768Z",
     "start_time": "2021-08-06T12:15:24.254803Z"
    },
    "hidden": true
   },
   "source": [
    "### Attibute 'sqft_lot15'"
   ]
  },
  {
   "cell_type": "markdown",
   "id": "935e430b",
   "metadata": {
    "ExecuteTime": {
     "end_time": "2021-08-06T12:21:26.677867Z",
     "start_time": "2021-08-06T12:21:26.670890Z"
    },
    "hidden": true
   },
   "source": [
    "sqft_lot15 - The square footage of the land lots of the nearest 15 neighbors"
   ]
  },
  {
   "cell_type": "code",
   "execution_count": 13,
   "id": "d8edd5cc",
   "metadata": {
    "ExecuteTime": {
     "end_time": "2021-08-30T14:15:21.090154Z",
     "start_time": "2021-08-30T14:15:21.075161Z"
    },
    "hidden": true
   },
   "outputs": [
    {
     "data": {
      "text/plain": [
       "array([5650, 7639, 8062, ..., 5731, 1509, 2007], dtype=int64)"
      ]
     },
     "execution_count": 13,
     "metadata": {},
     "output_type": "execute_result"
    }
   ],
   "source": [
    "df_raw['sqft_lot15'].unique()"
   ]
  },
  {
   "cell_type": "markdown",
   "id": "7519db0c",
   "metadata": {
    "hidden": true
   },
   "source": [
    "Task 6): Drop this feature"
   ]
  },
  {
   "cell_type": "markdown",
   "id": "a2f358db",
   "metadata": {
    "ExecuteTime": {
     "end_time": "2021-08-06T12:15:24.314642Z",
     "start_time": "2021-08-06T12:15:24.299683Z"
    },
    "hidden": true
   },
   "source": [
    "### Attribute 'view'"
   ]
  },
  {
   "cell_type": "markdown",
   "id": "612f847a",
   "metadata": {
    "hidden": true
   },
   "source": [
    "view - An index from 0 to 4 of how good the view of the property was"
   ]
  },
  {
   "cell_type": "code",
   "execution_count": 14,
   "id": "d49c2db4",
   "metadata": {
    "ExecuteTime": {
     "end_time": "2021-08-30T14:15:21.106111Z",
     "start_time": "2021-08-30T14:15:21.091118Z"
    },
    "hidden": true
   },
   "outputs": [
    {
     "data": {
      "text/plain": [
       "array([0, 3, 4, 2, 1], dtype=int64)"
      ]
     },
     "execution_count": 14,
     "metadata": {},
     "output_type": "execute_result"
    }
   ],
   "source": [
    "df_raw['view'].unique()"
   ]
  },
  {
   "cell_type": "markdown",
   "id": "c24f117f",
   "metadata": {
    "hidden": true
   },
   "source": [
    "***Decision*** \n",
    "\n",
    "Keep it."
   ]
  },
  {
   "cell_type": "markdown",
   "id": "df9863fb",
   "metadata": {
    "hidden": true
   },
   "source": [
    "## Statistics Data Overview"
   ]
  },
  {
   "cell_type": "code",
   "execution_count": 15,
   "id": "c3cd2678",
   "metadata": {
    "ExecuteTime": {
     "end_time": "2021-08-30T14:15:21.168418Z",
     "start_time": "2021-08-30T14:15:21.107075Z"
    },
    "hidden": true
   },
   "outputs": [
    {
     "data": {
      "text/html": [
       "<div>\n",
       "<style scoped>\n",
       "    .dataframe tbody tr th:only-of-type {\n",
       "        vertical-align: middle;\n",
       "    }\n",
       "\n",
       "    .dataframe tbody tr th {\n",
       "        vertical-align: top;\n",
       "    }\n",
       "\n",
       "    .dataframe thead th {\n",
       "        text-align: right;\n",
       "    }\n",
       "</style>\n",
       "<table border=\"1\" class=\"dataframe\">\n",
       "  <thead>\n",
       "    <tr style=\"text-align: right;\">\n",
       "      <th></th>\n",
       "      <th>count</th>\n",
       "      <th>mean</th>\n",
       "      <th>std</th>\n",
       "      <th>min</th>\n",
       "      <th>25%</th>\n",
       "      <th>50%</th>\n",
       "      <th>75%</th>\n",
       "      <th>max</th>\n",
       "    </tr>\n",
       "  </thead>\n",
       "  <tbody>\n",
       "    <tr>\n",
       "      <th>id</th>\n",
       "      <td>21613.00</td>\n",
       "      <td>4580301520.86</td>\n",
       "      <td>2876565571.31</td>\n",
       "      <td>1000102.00</td>\n",
       "      <td>2123049194.00</td>\n",
       "      <td>3904930410.00</td>\n",
       "      <td>7308900445.00</td>\n",
       "      <td>9900000190.00</td>\n",
       "    </tr>\n",
       "    <tr>\n",
       "      <th>price</th>\n",
       "      <td>21613.00</td>\n",
       "      <td>540088.14</td>\n",
       "      <td>367127.20</td>\n",
       "      <td>75000.00</td>\n",
       "      <td>321950.00</td>\n",
       "      <td>450000.00</td>\n",
       "      <td>645000.00</td>\n",
       "      <td>7700000.00</td>\n",
       "    </tr>\n",
       "    <tr>\n",
       "      <th>bedrooms</th>\n",
       "      <td>21613.00</td>\n",
       "      <td>3.37</td>\n",
       "      <td>0.93</td>\n",
       "      <td>0.00</td>\n",
       "      <td>3.00</td>\n",
       "      <td>3.00</td>\n",
       "      <td>4.00</td>\n",
       "      <td>33.00</td>\n",
       "    </tr>\n",
       "    <tr>\n",
       "      <th>bathrooms</th>\n",
       "      <td>21613.00</td>\n",
       "      <td>2.11</td>\n",
       "      <td>0.77</td>\n",
       "      <td>0.00</td>\n",
       "      <td>1.75</td>\n",
       "      <td>2.25</td>\n",
       "      <td>2.50</td>\n",
       "      <td>8.00</td>\n",
       "    </tr>\n",
       "    <tr>\n",
       "      <th>sqft_living</th>\n",
       "      <td>21613.00</td>\n",
       "      <td>2079.90</td>\n",
       "      <td>918.44</td>\n",
       "      <td>290.00</td>\n",
       "      <td>1427.00</td>\n",
       "      <td>1910.00</td>\n",
       "      <td>2550.00</td>\n",
       "      <td>13540.00</td>\n",
       "    </tr>\n",
       "    <tr>\n",
       "      <th>sqft_lot</th>\n",
       "      <td>21613.00</td>\n",
       "      <td>15106.97</td>\n",
       "      <td>41420.51</td>\n",
       "      <td>520.00</td>\n",
       "      <td>5040.00</td>\n",
       "      <td>7618.00</td>\n",
       "      <td>10688.00</td>\n",
       "      <td>1651359.00</td>\n",
       "    </tr>\n",
       "    <tr>\n",
       "      <th>floors</th>\n",
       "      <td>21613.00</td>\n",
       "      <td>1.49</td>\n",
       "      <td>0.54</td>\n",
       "      <td>1.00</td>\n",
       "      <td>1.00</td>\n",
       "      <td>1.50</td>\n",
       "      <td>2.00</td>\n",
       "      <td>3.50</td>\n",
       "    </tr>\n",
       "    <tr>\n",
       "      <th>waterfront</th>\n",
       "      <td>21613.00</td>\n",
       "      <td>0.01</td>\n",
       "      <td>0.09</td>\n",
       "      <td>0.00</td>\n",
       "      <td>0.00</td>\n",
       "      <td>0.00</td>\n",
       "      <td>0.00</td>\n",
       "      <td>1.00</td>\n",
       "    </tr>\n",
       "    <tr>\n",
       "      <th>view</th>\n",
       "      <td>21613.00</td>\n",
       "      <td>0.23</td>\n",
       "      <td>0.77</td>\n",
       "      <td>0.00</td>\n",
       "      <td>0.00</td>\n",
       "      <td>0.00</td>\n",
       "      <td>0.00</td>\n",
       "      <td>4.00</td>\n",
       "    </tr>\n",
       "    <tr>\n",
       "      <th>condition</th>\n",
       "      <td>21613.00</td>\n",
       "      <td>3.41</td>\n",
       "      <td>0.65</td>\n",
       "      <td>1.00</td>\n",
       "      <td>3.00</td>\n",
       "      <td>3.00</td>\n",
       "      <td>4.00</td>\n",
       "      <td>5.00</td>\n",
       "    </tr>\n",
       "    <tr>\n",
       "      <th>grade</th>\n",
       "      <td>21613.00</td>\n",
       "      <td>7.66</td>\n",
       "      <td>1.18</td>\n",
       "      <td>1.00</td>\n",
       "      <td>7.00</td>\n",
       "      <td>7.00</td>\n",
       "      <td>8.00</td>\n",
       "      <td>13.00</td>\n",
       "    </tr>\n",
       "    <tr>\n",
       "      <th>sqft_above</th>\n",
       "      <td>21613.00</td>\n",
       "      <td>1788.39</td>\n",
       "      <td>828.09</td>\n",
       "      <td>290.00</td>\n",
       "      <td>1190.00</td>\n",
       "      <td>1560.00</td>\n",
       "      <td>2210.00</td>\n",
       "      <td>9410.00</td>\n",
       "    </tr>\n",
       "    <tr>\n",
       "      <th>sqft_basement</th>\n",
       "      <td>21613.00</td>\n",
       "      <td>291.51</td>\n",
       "      <td>442.58</td>\n",
       "      <td>0.00</td>\n",
       "      <td>0.00</td>\n",
       "      <td>0.00</td>\n",
       "      <td>560.00</td>\n",
       "      <td>4820.00</td>\n",
       "    </tr>\n",
       "    <tr>\n",
       "      <th>yr_built</th>\n",
       "      <td>21613.00</td>\n",
       "      <td>1971.01</td>\n",
       "      <td>29.37</td>\n",
       "      <td>1900.00</td>\n",
       "      <td>1951.00</td>\n",
       "      <td>1975.00</td>\n",
       "      <td>1997.00</td>\n",
       "      <td>2015.00</td>\n",
       "    </tr>\n",
       "    <tr>\n",
       "      <th>yr_renovated</th>\n",
       "      <td>21613.00</td>\n",
       "      <td>84.40</td>\n",
       "      <td>401.68</td>\n",
       "      <td>0.00</td>\n",
       "      <td>0.00</td>\n",
       "      <td>0.00</td>\n",
       "      <td>0.00</td>\n",
       "      <td>2015.00</td>\n",
       "    </tr>\n",
       "    <tr>\n",
       "      <th>zipcode</th>\n",
       "      <td>21613.00</td>\n",
       "      <td>98077.94</td>\n",
       "      <td>53.51</td>\n",
       "      <td>98001.00</td>\n",
       "      <td>98033.00</td>\n",
       "      <td>98065.00</td>\n",
       "      <td>98118.00</td>\n",
       "      <td>98199.00</td>\n",
       "    </tr>\n",
       "    <tr>\n",
       "      <th>lat</th>\n",
       "      <td>21613.00</td>\n",
       "      <td>47.56</td>\n",
       "      <td>0.14</td>\n",
       "      <td>47.16</td>\n",
       "      <td>47.47</td>\n",
       "      <td>47.57</td>\n",
       "      <td>47.68</td>\n",
       "      <td>47.78</td>\n",
       "    </tr>\n",
       "    <tr>\n",
       "      <th>long</th>\n",
       "      <td>21613.00</td>\n",
       "      <td>-122.21</td>\n",
       "      <td>0.14</td>\n",
       "      <td>-122.52</td>\n",
       "      <td>-122.33</td>\n",
       "      <td>-122.23</td>\n",
       "      <td>-122.12</td>\n",
       "      <td>-121.31</td>\n",
       "    </tr>\n",
       "    <tr>\n",
       "      <th>sqft_living15</th>\n",
       "      <td>21613.00</td>\n",
       "      <td>1986.55</td>\n",
       "      <td>685.39</td>\n",
       "      <td>399.00</td>\n",
       "      <td>1490.00</td>\n",
       "      <td>1840.00</td>\n",
       "      <td>2360.00</td>\n",
       "      <td>6210.00</td>\n",
       "    </tr>\n",
       "    <tr>\n",
       "      <th>sqft_lot15</th>\n",
       "      <td>21613.00</td>\n",
       "      <td>12768.46</td>\n",
       "      <td>27304.18</td>\n",
       "      <td>651.00</td>\n",
       "      <td>5100.00</td>\n",
       "      <td>7620.00</td>\n",
       "      <td>10083.00</td>\n",
       "      <td>871200.00</td>\n",
       "    </tr>\n",
       "  </tbody>\n",
       "</table>\n",
       "</div>"
      ],
      "text/plain": [
       "                 count          mean           std        min           25%           50%           75%           max\n",
       "id            21613.00 4580301520.86 2876565571.31 1000102.00 2123049194.00 3904930410.00 7308900445.00 9900000190.00\n",
       "price         21613.00     540088.14     367127.20   75000.00     321950.00     450000.00     645000.00    7700000.00\n",
       "bedrooms      21613.00          3.37          0.93       0.00          3.00          3.00          4.00         33.00\n",
       "bathrooms     21613.00          2.11          0.77       0.00          1.75          2.25          2.50          8.00\n",
       "sqft_living   21613.00       2079.90        918.44     290.00       1427.00       1910.00       2550.00      13540.00\n",
       "sqft_lot      21613.00      15106.97      41420.51     520.00       5040.00       7618.00      10688.00    1651359.00\n",
       "floors        21613.00          1.49          0.54       1.00          1.00          1.50          2.00          3.50\n",
       "waterfront    21613.00          0.01          0.09       0.00          0.00          0.00          0.00          1.00\n",
       "view          21613.00          0.23          0.77       0.00          0.00          0.00          0.00          4.00\n",
       "condition     21613.00          3.41          0.65       1.00          3.00          3.00          4.00          5.00\n",
       "grade         21613.00          7.66          1.18       1.00          7.00          7.00          8.00         13.00\n",
       "sqft_above    21613.00       1788.39        828.09     290.00       1190.00       1560.00       2210.00       9410.00\n",
       "sqft_basement 21613.00        291.51        442.58       0.00          0.00          0.00        560.00       4820.00\n",
       "yr_built      21613.00       1971.01         29.37    1900.00       1951.00       1975.00       1997.00       2015.00\n",
       "yr_renovated  21613.00         84.40        401.68       0.00          0.00          0.00          0.00       2015.00\n",
       "zipcode       21613.00      98077.94         53.51   98001.00      98033.00      98065.00      98118.00      98199.00\n",
       "lat           21613.00         47.56          0.14      47.16         47.47         47.57         47.68         47.78\n",
       "long          21613.00       -122.21          0.14    -122.52       -122.33       -122.23       -122.12       -121.31\n",
       "sqft_living15 21613.00       1986.55        685.39     399.00       1490.00       1840.00       2360.00       6210.00\n",
       "sqft_lot15    21613.00      12768.46      27304.18     651.00       5100.00       7620.00      10083.00     871200.00"
      ]
     },
     "execution_count": 15,
     "metadata": {},
     "output_type": "execute_result"
    }
   ],
   "source": [
    "df_raw.describe().T"
   ]
  },
  {
   "cell_type": "markdown",
   "id": "58af61bf",
   "metadata": {
    "ExecuteTime": {
     "end_time": "2021-08-05T12:47:54.215490Z",
     "start_time": "2021-08-05T12:47:54.200497Z"
    },
    "hidden": true
   },
   "source": [
    "Tasks:\n",
    "\n",
    "7) There is a big std in the price, and seems to have outliers. Check it.\n",
    "\n",
    "8) There is at least one house without bedrooms and one with 33. Check it.\n",
    "\n",
    "9) There is at least one house without bathrooms. Check it.\n",
    "\n",
    "10) There are houses with the year of renovation with '0'. It has to be treated."
   ]
  },
  {
   "cell_type": "markdown",
   "id": "e53e3cdf",
   "metadata": {
    "heading_collapsed": true
   },
   "source": [
    "# Data Transform/Preparing"
   ]
  },
  {
   "cell_type": "code",
   "execution_count": 16,
   "id": "0db351f7",
   "metadata": {
    "ExecuteTime": {
     "end_time": "2021-08-30T14:15:21.183380Z",
     "start_time": "2021-08-30T14:15:21.169418Z"
    },
    "hidden": true
   },
   "outputs": [],
   "source": [
    "df3 = df_raw.copy()"
   ]
  },
  {
   "cell_type": "markdown",
   "id": "d8f173ab",
   "metadata": {
    "ExecuteTime": {
     "end_time": "2021-08-06T13:06:25.150346Z",
     "start_time": "2021-08-06T13:06:25.117471Z"
    },
    "hidden": true
   },
   "source": [
    "1) Drop 'sqft_living15'\n",
    "\n",
    "2) Drop 'sqft_lot15' "
   ]
  },
  {
   "cell_type": "code",
   "execution_count": 17,
   "id": "8210c41b",
   "metadata": {
    "ExecuteTime": {
     "end_time": "2021-08-30T14:15:21.199336Z",
     "start_time": "2021-08-30T14:15:21.184376Z"
    },
    "hidden": true,
    "scrolled": true
   },
   "outputs": [
    {
     "data": {
      "text/html": [
       "<div>\n",
       "<style scoped>\n",
       "    .dataframe tbody tr th:only-of-type {\n",
       "        vertical-align: middle;\n",
       "    }\n",
       "\n",
       "    .dataframe tbody tr th {\n",
       "        vertical-align: top;\n",
       "    }\n",
       "\n",
       "    .dataframe thead th {\n",
       "        text-align: right;\n",
       "    }\n",
       "</style>\n",
       "<table border=\"1\" class=\"dataframe\">\n",
       "  <thead>\n",
       "    <tr style=\"text-align: right;\">\n",
       "      <th></th>\n",
       "      <th>id</th>\n",
       "      <th>date</th>\n",
       "      <th>price</th>\n",
       "      <th>bedrooms</th>\n",
       "      <th>bathrooms</th>\n",
       "      <th>sqft_living</th>\n",
       "      <th>sqft_lot</th>\n",
       "      <th>floors</th>\n",
       "      <th>waterfront</th>\n",
       "      <th>view</th>\n",
       "      <th>condition</th>\n",
       "      <th>grade</th>\n",
       "      <th>sqft_above</th>\n",
       "      <th>sqft_basement</th>\n",
       "      <th>yr_built</th>\n",
       "      <th>yr_renovated</th>\n",
       "      <th>zipcode</th>\n",
       "      <th>lat</th>\n",
       "      <th>long</th>\n",
       "    </tr>\n",
       "  </thead>\n",
       "  <tbody>\n",
       "    <tr>\n",
       "      <th>0</th>\n",
       "      <td>7129300520</td>\n",
       "      <td>20141013T000000</td>\n",
       "      <td>221900.00</td>\n",
       "      <td>3</td>\n",
       "      <td>1.00</td>\n",
       "      <td>1180</td>\n",
       "      <td>5650</td>\n",
       "      <td>1.00</td>\n",
       "      <td>0</td>\n",
       "      <td>0</td>\n",
       "      <td>3</td>\n",
       "      <td>7</td>\n",
       "      <td>1180</td>\n",
       "      <td>0</td>\n",
       "      <td>1955</td>\n",
       "      <td>0</td>\n",
       "      <td>98178</td>\n",
       "      <td>47.51</td>\n",
       "      <td>-122.26</td>\n",
       "    </tr>\n",
       "    <tr>\n",
       "      <th>1</th>\n",
       "      <td>6414100192</td>\n",
       "      <td>20141209T000000</td>\n",
       "      <td>538000.00</td>\n",
       "      <td>3</td>\n",
       "      <td>2.25</td>\n",
       "      <td>2570</td>\n",
       "      <td>7242</td>\n",
       "      <td>2.00</td>\n",
       "      <td>0</td>\n",
       "      <td>0</td>\n",
       "      <td>3</td>\n",
       "      <td>7</td>\n",
       "      <td>2170</td>\n",
       "      <td>400</td>\n",
       "      <td>1951</td>\n",
       "      <td>1991</td>\n",
       "      <td>98125</td>\n",
       "      <td>47.72</td>\n",
       "      <td>-122.32</td>\n",
       "    </tr>\n",
       "    <tr>\n",
       "      <th>2</th>\n",
       "      <td>5631500400</td>\n",
       "      <td>20150225T000000</td>\n",
       "      <td>180000.00</td>\n",
       "      <td>2</td>\n",
       "      <td>1.00</td>\n",
       "      <td>770</td>\n",
       "      <td>10000</td>\n",
       "      <td>1.00</td>\n",
       "      <td>0</td>\n",
       "      <td>0</td>\n",
       "      <td>3</td>\n",
       "      <td>6</td>\n",
       "      <td>770</td>\n",
       "      <td>0</td>\n",
       "      <td>1933</td>\n",
       "      <td>0</td>\n",
       "      <td>98028</td>\n",
       "      <td>47.74</td>\n",
       "      <td>-122.23</td>\n",
       "    </tr>\n",
       "    <tr>\n",
       "      <th>3</th>\n",
       "      <td>2487200875</td>\n",
       "      <td>20141209T000000</td>\n",
       "      <td>604000.00</td>\n",
       "      <td>4</td>\n",
       "      <td>3.00</td>\n",
       "      <td>1960</td>\n",
       "      <td>5000</td>\n",
       "      <td>1.00</td>\n",
       "      <td>0</td>\n",
       "      <td>0</td>\n",
       "      <td>5</td>\n",
       "      <td>7</td>\n",
       "      <td>1050</td>\n",
       "      <td>910</td>\n",
       "      <td>1965</td>\n",
       "      <td>0</td>\n",
       "      <td>98136</td>\n",
       "      <td>47.52</td>\n",
       "      <td>-122.39</td>\n",
       "    </tr>\n",
       "    <tr>\n",
       "      <th>4</th>\n",
       "      <td>1954400510</td>\n",
       "      <td>20150218T000000</td>\n",
       "      <td>510000.00</td>\n",
       "      <td>3</td>\n",
       "      <td>2.00</td>\n",
       "      <td>1680</td>\n",
       "      <td>8080</td>\n",
       "      <td>1.00</td>\n",
       "      <td>0</td>\n",
       "      <td>0</td>\n",
       "      <td>3</td>\n",
       "      <td>8</td>\n",
       "      <td>1680</td>\n",
       "      <td>0</td>\n",
       "      <td>1987</td>\n",
       "      <td>0</td>\n",
       "      <td>98074</td>\n",
       "      <td>47.62</td>\n",
       "      <td>-122.05</td>\n",
       "    </tr>\n",
       "  </tbody>\n",
       "</table>\n",
       "</div>"
      ],
      "text/plain": [
       "           id             date     price  bedrooms  bathrooms  sqft_living  sqft_lot  floors  waterfront  view  condition  grade  sqft_above  sqft_basement  yr_built  yr_renovated  zipcode   lat    long\n",
       "0  7129300520  20141013T000000 221900.00         3       1.00         1180      5650    1.00           0     0          3      7        1180              0      1955             0    98178 47.51 -122.26\n",
       "1  6414100192  20141209T000000 538000.00         3       2.25         2570      7242    2.00           0     0          3      7        2170            400      1951          1991    98125 47.72 -122.32\n",
       "2  5631500400  20150225T000000 180000.00         2       1.00          770     10000    1.00           0     0          3      6         770              0      1933             0    98028 47.74 -122.23\n",
       "3  2487200875  20141209T000000 604000.00         4       3.00         1960      5000    1.00           0     0          5      7        1050            910      1965             0    98136 47.52 -122.39\n",
       "4  1954400510  20150218T000000 510000.00         3       2.00         1680      8080    1.00           0     0          3      8        1680              0      1987             0    98074 47.62 -122.05"
      ]
     },
     "execution_count": 17,
     "metadata": {},
     "output_type": "execute_result"
    }
   ],
   "source": [
    "df3 = df3.drop(columns = ['sqft_living15', 'sqft_lot15'], axis = 1)\n",
    "df3.head()"
   ]
  },
  {
   "cell_type": "markdown",
   "id": "8cafb47b",
   "metadata": {
    "hidden": true
   },
   "source": [
    "3) Change 'waterfront' from 0 or 1 to yes or no"
   ]
  },
  {
   "cell_type": "code",
   "execution_count": 18,
   "id": "aca17aba",
   "metadata": {
    "ExecuteTime": {
     "end_time": "2021-08-30T14:15:21.214298Z",
     "start_time": "2021-08-30T14:15:21.200333Z"
    },
    "hidden": true
   },
   "outputs": [],
   "source": [
    "df3['waterfront'] = df3['waterfront'].apply(lambda x: 'yes' if x==1 else 'no')"
   ]
  },
  {
   "cell_type": "markdown",
   "id": "5f80d672",
   "metadata": {
    "hidden": true
   },
   "source": [
    "4) Change 'date' to date format"
   ]
  },
  {
   "cell_type": "code",
   "execution_count": 19,
   "id": "bdcb5270",
   "metadata": {
    "ExecuteTime": {
     "end_time": "2021-08-30T14:15:21.229290Z",
     "start_time": "2021-08-30T14:15:21.216291Z"
    },
    "hidden": true
   },
   "outputs": [],
   "source": [
    "df3['date'] = pd.to_datetime(df3['date'])"
   ]
  },
  {
   "cell_type": "markdown",
   "id": "7c849497",
   "metadata": {
    "ExecuteTime": {
     "end_time": "2021-08-03T19:39:51.949040Z",
     "start_time": "2021-08-03T19:39:51.934083Z"
    },
    "hidden": true
   },
   "source": [
    "5) Identify the duplicated ones and drop if it is necessary"
   ]
  },
  {
   "cell_type": "code",
   "execution_count": 20,
   "id": "e041305e",
   "metadata": {
    "ExecuteTime": {
     "end_time": "2021-08-30T14:15:21.245246Z",
     "start_time": "2021-08-30T14:15:21.231253Z"
    },
    "hidden": true,
    "scrolled": false
   },
   "outputs": [
    {
     "data": {
      "text/plain": [
       "353"
      ]
     },
     "execution_count": 20,
     "metadata": {},
     "output_type": "execute_result"
    }
   ],
   "source": [
    "df_dup = df3[df3['id'].duplicated(keep = False )].reset_index(drop=True)\n",
    "df_dup.shape[0]"
   ]
  },
  {
   "cell_type": "code",
   "execution_count": 21,
   "id": "eb328e6d",
   "metadata": {
    "ExecuteTime": {
     "end_time": "2021-08-30T14:15:21.261208Z",
     "start_time": "2021-08-30T14:15:21.246211Z"
    },
    "hidden": true
   },
   "outputs": [
    {
     "name": "stdout",
     "output_type": "stream",
     "text": [
      "There is 353 duplicated registers in the dataframe. Duplicated registers with the same date will be dropped\n"
     ]
    }
   ],
   "source": [
    "print ('There is {} duplicated registers in the dataframe. Duplicated registers with the same date will be dropped'.format(df_dup.shape[0]))"
   ]
  },
  {
   "cell_type": "code",
   "execution_count": 22,
   "id": "31f8fb65",
   "metadata": {
    "ExecuteTime": {
     "end_time": "2021-08-30T14:15:21.292088Z",
     "start_time": "2021-08-30T14:15:21.263167Z"
    },
    "hidden": true
   },
   "outputs": [
    {
     "data": {
      "text/html": [
       "<div>\n",
       "<style scoped>\n",
       "    .dataframe tbody tr th:only-of-type {\n",
       "        vertical-align: middle;\n",
       "    }\n",
       "\n",
       "    .dataframe tbody tr th {\n",
       "        vertical-align: top;\n",
       "    }\n",
       "\n",
       "    .dataframe thead th {\n",
       "        text-align: right;\n",
       "    }\n",
       "</style>\n",
       "<table border=\"1\" class=\"dataframe\">\n",
       "  <thead>\n",
       "    <tr style=\"text-align: right;\">\n",
       "      <th></th>\n",
       "      <th>id</th>\n",
       "      <th>date</th>\n",
       "      <th>price</th>\n",
       "      <th>bedrooms</th>\n",
       "      <th>bathrooms</th>\n",
       "      <th>sqft_living</th>\n",
       "      <th>sqft_lot</th>\n",
       "      <th>floors</th>\n",
       "      <th>waterfront</th>\n",
       "      <th>view</th>\n",
       "      <th>condition</th>\n",
       "      <th>grade</th>\n",
       "      <th>sqft_above</th>\n",
       "      <th>sqft_basement</th>\n",
       "      <th>yr_built</th>\n",
       "      <th>yr_renovated</th>\n",
       "      <th>zipcode</th>\n",
       "      <th>lat</th>\n",
       "      <th>long</th>\n",
       "    </tr>\n",
       "  </thead>\n",
       "  <tbody>\n",
       "    <tr>\n",
       "      <th>0</th>\n",
       "      <td>6021501535</td>\n",
       "      <td>2014-07-25</td>\n",
       "      <td>430000.00</td>\n",
       "      <td>3</td>\n",
       "      <td>1.50</td>\n",
       "      <td>1580</td>\n",
       "      <td>5000</td>\n",
       "      <td>1.00</td>\n",
       "      <td>no</td>\n",
       "      <td>0</td>\n",
       "      <td>3</td>\n",
       "      <td>8</td>\n",
       "      <td>1290</td>\n",
       "      <td>290</td>\n",
       "      <td>1939</td>\n",
       "      <td>0</td>\n",
       "      <td>98117</td>\n",
       "      <td>47.69</td>\n",
       "      <td>-122.39</td>\n",
       "    </tr>\n",
       "    <tr>\n",
       "      <th>1</th>\n",
       "      <td>6021501535</td>\n",
       "      <td>2014-12-23</td>\n",
       "      <td>700000.00</td>\n",
       "      <td>3</td>\n",
       "      <td>1.50</td>\n",
       "      <td>1580</td>\n",
       "      <td>5000</td>\n",
       "      <td>1.00</td>\n",
       "      <td>no</td>\n",
       "      <td>0</td>\n",
       "      <td>3</td>\n",
       "      <td>8</td>\n",
       "      <td>1290</td>\n",
       "      <td>290</td>\n",
       "      <td>1939</td>\n",
       "      <td>0</td>\n",
       "      <td>98117</td>\n",
       "      <td>47.69</td>\n",
       "      <td>-122.39</td>\n",
       "    </tr>\n",
       "    <tr>\n",
       "      <th>2</th>\n",
       "      <td>4139480200</td>\n",
       "      <td>2014-06-18</td>\n",
       "      <td>1384000.00</td>\n",
       "      <td>4</td>\n",
       "      <td>3.25</td>\n",
       "      <td>4290</td>\n",
       "      <td>12103</td>\n",
       "      <td>1.00</td>\n",
       "      <td>no</td>\n",
       "      <td>3</td>\n",
       "      <td>3</td>\n",
       "      <td>11</td>\n",
       "      <td>2690</td>\n",
       "      <td>1600</td>\n",
       "      <td>1997</td>\n",
       "      <td>0</td>\n",
       "      <td>98006</td>\n",
       "      <td>47.55</td>\n",
       "      <td>-122.10</td>\n",
       "    </tr>\n",
       "    <tr>\n",
       "      <th>3</th>\n",
       "      <td>4139480200</td>\n",
       "      <td>2014-12-09</td>\n",
       "      <td>1400000.00</td>\n",
       "      <td>4</td>\n",
       "      <td>3.25</td>\n",
       "      <td>4290</td>\n",
       "      <td>12103</td>\n",
       "      <td>1.00</td>\n",
       "      <td>no</td>\n",
       "      <td>3</td>\n",
       "      <td>3</td>\n",
       "      <td>11</td>\n",
       "      <td>2690</td>\n",
       "      <td>1600</td>\n",
       "      <td>1997</td>\n",
       "      <td>0</td>\n",
       "      <td>98006</td>\n",
       "      <td>47.55</td>\n",
       "      <td>-122.10</td>\n",
       "    </tr>\n",
       "    <tr>\n",
       "      <th>4</th>\n",
       "      <td>7520000520</td>\n",
       "      <td>2014-09-05</td>\n",
       "      <td>232000.00</td>\n",
       "      <td>2</td>\n",
       "      <td>1.00</td>\n",
       "      <td>1240</td>\n",
       "      <td>12092</td>\n",
       "      <td>1.00</td>\n",
       "      <td>no</td>\n",
       "      <td>0</td>\n",
       "      <td>3</td>\n",
       "      <td>6</td>\n",
       "      <td>960</td>\n",
       "      <td>280</td>\n",
       "      <td>1922</td>\n",
       "      <td>1984</td>\n",
       "      <td>98146</td>\n",
       "      <td>47.50</td>\n",
       "      <td>-122.35</td>\n",
       "    </tr>\n",
       "    <tr>\n",
       "      <th>5</th>\n",
       "      <td>7520000520</td>\n",
       "      <td>2015-03-11</td>\n",
       "      <td>240500.00</td>\n",
       "      <td>2</td>\n",
       "      <td>1.00</td>\n",
       "      <td>1240</td>\n",
       "      <td>12092</td>\n",
       "      <td>1.00</td>\n",
       "      <td>no</td>\n",
       "      <td>0</td>\n",
       "      <td>3</td>\n",
       "      <td>6</td>\n",
       "      <td>960</td>\n",
       "      <td>280</td>\n",
       "      <td>1922</td>\n",
       "      <td>1984</td>\n",
       "      <td>98146</td>\n",
       "      <td>47.50</td>\n",
       "      <td>-122.35</td>\n",
       "    </tr>\n",
       "    <tr>\n",
       "      <th>6</th>\n",
       "      <td>3969300030</td>\n",
       "      <td>2014-07-23</td>\n",
       "      <td>165000.00</td>\n",
       "      <td>4</td>\n",
       "      <td>1.00</td>\n",
       "      <td>1000</td>\n",
       "      <td>7134</td>\n",
       "      <td>1.00</td>\n",
       "      <td>no</td>\n",
       "      <td>0</td>\n",
       "      <td>3</td>\n",
       "      <td>6</td>\n",
       "      <td>1000</td>\n",
       "      <td>0</td>\n",
       "      <td>1943</td>\n",
       "      <td>0</td>\n",
       "      <td>98178</td>\n",
       "      <td>47.49</td>\n",
       "      <td>-122.24</td>\n",
       "    </tr>\n",
       "    <tr>\n",
       "      <th>7</th>\n",
       "      <td>3969300030</td>\n",
       "      <td>2014-12-29</td>\n",
       "      <td>239900.00</td>\n",
       "      <td>4</td>\n",
       "      <td>1.00</td>\n",
       "      <td>1000</td>\n",
       "      <td>7134</td>\n",
       "      <td>1.00</td>\n",
       "      <td>no</td>\n",
       "      <td>0</td>\n",
       "      <td>3</td>\n",
       "      <td>6</td>\n",
       "      <td>1000</td>\n",
       "      <td>0</td>\n",
       "      <td>1943</td>\n",
       "      <td>0</td>\n",
       "      <td>98178</td>\n",
       "      <td>47.49</td>\n",
       "      <td>-122.24</td>\n",
       "    </tr>\n",
       "    <tr>\n",
       "      <th>8</th>\n",
       "      <td>2231500030</td>\n",
       "      <td>2014-10-01</td>\n",
       "      <td>315000.00</td>\n",
       "      <td>4</td>\n",
       "      <td>2.25</td>\n",
       "      <td>2180</td>\n",
       "      <td>10754</td>\n",
       "      <td>1.00</td>\n",
       "      <td>no</td>\n",
       "      <td>0</td>\n",
       "      <td>5</td>\n",
       "      <td>7</td>\n",
       "      <td>1100</td>\n",
       "      <td>1080</td>\n",
       "      <td>1954</td>\n",
       "      <td>0</td>\n",
       "      <td>98133</td>\n",
       "      <td>47.77</td>\n",
       "      <td>-122.34</td>\n",
       "    </tr>\n",
       "    <tr>\n",
       "      <th>9</th>\n",
       "      <td>2231500030</td>\n",
       "      <td>2015-03-24</td>\n",
       "      <td>530000.00</td>\n",
       "      <td>4</td>\n",
       "      <td>2.25</td>\n",
       "      <td>2180</td>\n",
       "      <td>10754</td>\n",
       "      <td>1.00</td>\n",
       "      <td>no</td>\n",
       "      <td>0</td>\n",
       "      <td>5</td>\n",
       "      <td>7</td>\n",
       "      <td>1100</td>\n",
       "      <td>1080</td>\n",
       "      <td>1954</td>\n",
       "      <td>0</td>\n",
       "      <td>98133</td>\n",
       "      <td>47.77</td>\n",
       "      <td>-122.34</td>\n",
       "    </tr>\n",
       "    <tr>\n",
       "      <th>10</th>\n",
       "      <td>8820903380</td>\n",
       "      <td>2014-07-28</td>\n",
       "      <td>452000.00</td>\n",
       "      <td>6</td>\n",
       "      <td>2.25</td>\n",
       "      <td>2660</td>\n",
       "      <td>13579</td>\n",
       "      <td>2.00</td>\n",
       "      <td>no</td>\n",
       "      <td>0</td>\n",
       "      <td>3</td>\n",
       "      <td>7</td>\n",
       "      <td>2660</td>\n",
       "      <td>0</td>\n",
       "      <td>1937</td>\n",
       "      <td>1990</td>\n",
       "      <td>98125</td>\n",
       "      <td>47.71</td>\n",
       "      <td>-122.29</td>\n",
       "    </tr>\n",
       "    <tr>\n",
       "      <th>11</th>\n",
       "      <td>8820903380</td>\n",
       "      <td>2015-01-02</td>\n",
       "      <td>730000.00</td>\n",
       "      <td>6</td>\n",
       "      <td>2.25</td>\n",
       "      <td>2660</td>\n",
       "      <td>13579</td>\n",
       "      <td>2.00</td>\n",
       "      <td>no</td>\n",
       "      <td>0</td>\n",
       "      <td>3</td>\n",
       "      <td>7</td>\n",
       "      <td>2660</td>\n",
       "      <td>0</td>\n",
       "      <td>1937</td>\n",
       "      <td>1990</td>\n",
       "      <td>98125</td>\n",
       "      <td>47.71</td>\n",
       "      <td>-122.29</td>\n",
       "    </tr>\n",
       "    <tr>\n",
       "      <th>12</th>\n",
       "      <td>726049190</td>\n",
       "      <td>2014-10-02</td>\n",
       "      <td>287500.00</td>\n",
       "      <td>3</td>\n",
       "      <td>1.00</td>\n",
       "      <td>1810</td>\n",
       "      <td>7200</td>\n",
       "      <td>1.00</td>\n",
       "      <td>no</td>\n",
       "      <td>0</td>\n",
       "      <td>4</td>\n",
       "      <td>7</td>\n",
       "      <td>1130</td>\n",
       "      <td>680</td>\n",
       "      <td>1954</td>\n",
       "      <td>0</td>\n",
       "      <td>98133</td>\n",
       "      <td>47.75</td>\n",
       "      <td>-122.35</td>\n",
       "    </tr>\n",
       "    <tr>\n",
       "      <th>13</th>\n",
       "      <td>726049190</td>\n",
       "      <td>2015-02-18</td>\n",
       "      <td>431000.00</td>\n",
       "      <td>3</td>\n",
       "      <td>1.00</td>\n",
       "      <td>1810</td>\n",
       "      <td>7200</td>\n",
       "      <td>1.00</td>\n",
       "      <td>no</td>\n",
       "      <td>0</td>\n",
       "      <td>4</td>\n",
       "      <td>7</td>\n",
       "      <td>1130</td>\n",
       "      <td>680</td>\n",
       "      <td>1954</td>\n",
       "      <td>0</td>\n",
       "      <td>98133</td>\n",
       "      <td>47.75</td>\n",
       "      <td>-122.35</td>\n",
       "    </tr>\n",
       "    <tr>\n",
       "      <th>14</th>\n",
       "      <td>8682262400</td>\n",
       "      <td>2014-07-18</td>\n",
       "      <td>430000.00</td>\n",
       "      <td>2</td>\n",
       "      <td>1.75</td>\n",
       "      <td>1350</td>\n",
       "      <td>4003</td>\n",
       "      <td>1.00</td>\n",
       "      <td>no</td>\n",
       "      <td>0</td>\n",
       "      <td>3</td>\n",
       "      <td>8</td>\n",
       "      <td>1350</td>\n",
       "      <td>0</td>\n",
       "      <td>2004</td>\n",
       "      <td>0</td>\n",
       "      <td>98053</td>\n",
       "      <td>47.72</td>\n",
       "      <td>-122.03</td>\n",
       "    </tr>\n",
       "    <tr>\n",
       "      <th>15</th>\n",
       "      <td>8682262400</td>\n",
       "      <td>2015-05-13</td>\n",
       "      <td>419950.00</td>\n",
       "      <td>2</td>\n",
       "      <td>1.75</td>\n",
       "      <td>1350</td>\n",
       "      <td>4003</td>\n",
       "      <td>1.00</td>\n",
       "      <td>no</td>\n",
       "      <td>0</td>\n",
       "      <td>3</td>\n",
       "      <td>8</td>\n",
       "      <td>1350</td>\n",
       "      <td>0</td>\n",
       "      <td>2004</td>\n",
       "      <td>0</td>\n",
       "      <td>98053</td>\n",
       "      <td>47.72</td>\n",
       "      <td>-122.03</td>\n",
       "    </tr>\n",
       "    <tr>\n",
       "      <th>16</th>\n",
       "      <td>9834200885</td>\n",
       "      <td>2014-07-17</td>\n",
       "      <td>360000.00</td>\n",
       "      <td>4</td>\n",
       "      <td>2.50</td>\n",
       "      <td>2080</td>\n",
       "      <td>4080</td>\n",
       "      <td>1.00</td>\n",
       "      <td>no</td>\n",
       "      <td>0</td>\n",
       "      <td>5</td>\n",
       "      <td>7</td>\n",
       "      <td>1040</td>\n",
       "      <td>1040</td>\n",
       "      <td>1962</td>\n",
       "      <td>0</td>\n",
       "      <td>98144</td>\n",
       "      <td>47.57</td>\n",
       "      <td>-122.29</td>\n",
       "    </tr>\n",
       "    <tr>\n",
       "      <th>17</th>\n",
       "      <td>9834200885</td>\n",
       "      <td>2015-04-20</td>\n",
       "      <td>550000.00</td>\n",
       "      <td>4</td>\n",
       "      <td>2.50</td>\n",
       "      <td>2080</td>\n",
       "      <td>4080</td>\n",
       "      <td>1.00</td>\n",
       "      <td>no</td>\n",
       "      <td>0</td>\n",
       "      <td>5</td>\n",
       "      <td>7</td>\n",
       "      <td>1040</td>\n",
       "      <td>1040</td>\n",
       "      <td>1962</td>\n",
       "      <td>0</td>\n",
       "      <td>98144</td>\n",
       "      <td>47.57</td>\n",
       "      <td>-122.29</td>\n",
       "    </tr>\n",
       "    <tr>\n",
       "      <th>18</th>\n",
       "      <td>8062900070</td>\n",
       "      <td>2014-09-09</td>\n",
       "      <td>272000.00</td>\n",
       "      <td>5</td>\n",
       "      <td>1.50</td>\n",
       "      <td>2550</td>\n",
       "      <td>6300</td>\n",
       "      <td>1.00</td>\n",
       "      <td>no</td>\n",
       "      <td>0</td>\n",
       "      <td>4</td>\n",
       "      <td>7</td>\n",
       "      <td>1560</td>\n",
       "      <td>990</td>\n",
       "      <td>1959</td>\n",
       "      <td>0</td>\n",
       "      <td>98056</td>\n",
       "      <td>47.50</td>\n",
       "      <td>-122.17</td>\n",
       "    </tr>\n",
       "    <tr>\n",
       "      <th>19</th>\n",
       "      <td>8062900070</td>\n",
       "      <td>2015-02-13</td>\n",
       "      <td>369000.00</td>\n",
       "      <td>5</td>\n",
       "      <td>1.50</td>\n",
       "      <td>2550</td>\n",
       "      <td>6300</td>\n",
       "      <td>1.00</td>\n",
       "      <td>no</td>\n",
       "      <td>0</td>\n",
       "      <td>4</td>\n",
       "      <td>7</td>\n",
       "      <td>1560</td>\n",
       "      <td>990</td>\n",
       "      <td>1959</td>\n",
       "      <td>0</td>\n",
       "      <td>98056</td>\n",
       "      <td>47.50</td>\n",
       "      <td>-122.17</td>\n",
       "    </tr>\n",
       "  </tbody>\n",
       "</table>\n",
       "</div>"
      ],
      "text/plain": [
       "            id       date      price  bedrooms  bathrooms  sqft_living  sqft_lot  floors waterfront  view  condition  grade  sqft_above  sqft_basement  yr_built  yr_renovated  zipcode   lat    long\n",
       "0   6021501535 2014-07-25  430000.00         3       1.50         1580      5000    1.00         no     0          3      8        1290            290      1939             0    98117 47.69 -122.39\n",
       "1   6021501535 2014-12-23  700000.00         3       1.50         1580      5000    1.00         no     0          3      8        1290            290      1939             0    98117 47.69 -122.39\n",
       "2   4139480200 2014-06-18 1384000.00         4       3.25         4290     12103    1.00         no     3          3     11        2690           1600      1997             0    98006 47.55 -122.10\n",
       "3   4139480200 2014-12-09 1400000.00         4       3.25         4290     12103    1.00         no     3          3     11        2690           1600      1997             0    98006 47.55 -122.10\n",
       "4   7520000520 2014-09-05  232000.00         2       1.00         1240     12092    1.00         no     0          3      6         960            280      1922          1984    98146 47.50 -122.35\n",
       "5   7520000520 2015-03-11  240500.00         2       1.00         1240     12092    1.00         no     0          3      6         960            280      1922          1984    98146 47.50 -122.35\n",
       "6   3969300030 2014-07-23  165000.00         4       1.00         1000      7134    1.00         no     0          3      6        1000              0      1943             0    98178 47.49 -122.24\n",
       "7   3969300030 2014-12-29  239900.00         4       1.00         1000      7134    1.00         no     0          3      6        1000              0      1943             0    98178 47.49 -122.24\n",
       "8   2231500030 2014-10-01  315000.00         4       2.25         2180     10754    1.00         no     0          5      7        1100           1080      1954             0    98133 47.77 -122.34\n",
       "9   2231500030 2015-03-24  530000.00         4       2.25         2180     10754    1.00         no     0          5      7        1100           1080      1954             0    98133 47.77 -122.34\n",
       "10  8820903380 2014-07-28  452000.00         6       2.25         2660     13579    2.00         no     0          3      7        2660              0      1937          1990    98125 47.71 -122.29\n",
       "11  8820903380 2015-01-02  730000.00         6       2.25         2660     13579    2.00         no     0          3      7        2660              0      1937          1990    98125 47.71 -122.29\n",
       "12   726049190 2014-10-02  287500.00         3       1.00         1810      7200    1.00         no     0          4      7        1130            680      1954             0    98133 47.75 -122.35\n",
       "13   726049190 2015-02-18  431000.00         3       1.00         1810      7200    1.00         no     0          4      7        1130            680      1954             0    98133 47.75 -122.35\n",
       "14  8682262400 2014-07-18  430000.00         2       1.75         1350      4003    1.00         no     0          3      8        1350              0      2004             0    98053 47.72 -122.03\n",
       "15  8682262400 2015-05-13  419950.00         2       1.75         1350      4003    1.00         no     0          3      8        1350              0      2004             0    98053 47.72 -122.03\n",
       "16  9834200885 2014-07-17  360000.00         4       2.50         2080      4080    1.00         no     0          5      7        1040           1040      1962             0    98144 47.57 -122.29\n",
       "17  9834200885 2015-04-20  550000.00         4       2.50         2080      4080    1.00         no     0          5      7        1040           1040      1962             0    98144 47.57 -122.29\n",
       "18  8062900070 2014-09-09  272000.00         5       1.50         2550      6300    1.00         no     0          4      7        1560            990      1959             0    98056 47.50 -122.17\n",
       "19  8062900070 2015-02-13  369000.00         5       1.50         2550      6300    1.00         no     0          4      7        1560            990      1959             0    98056 47.50 -122.17"
      ]
     },
     "execution_count": 22,
     "metadata": {},
     "output_type": "execute_result"
    }
   ],
   "source": [
    "df_dup.drop_duplicates(subset = ['id', 'date']).reset_index()\n",
    "df_dup.head(20)"
   ]
  },
  {
   "cell_type": "code",
   "execution_count": 23,
   "id": "ac9f5da6",
   "metadata": {
    "ExecuteTime": {
     "end_time": "2021-08-30T14:15:21.307082Z",
     "start_time": "2021-08-30T14:15:21.296077Z"
    },
    "hidden": true
   },
   "outputs": [
    {
     "data": {
      "text/plain": [
       "353"
      ]
     },
     "execution_count": 23,
     "metadata": {},
     "output_type": "execute_result"
    }
   ],
   "source": [
    "df_dup.shape[0]"
   ]
  },
  {
   "cell_type": "markdown",
   "id": "199f9f4d",
   "metadata": {
    "hidden": true
   },
   "source": [
    "There are not duplicated rows with the same id and date. "
   ]
  },
  {
   "cell_type": "markdown",
   "id": "bbcddf3b",
   "metadata": {
    "ExecuteTime": {
     "end_time": "2021-08-10T18:36:31.322265Z",
     "start_time": "2021-08-10T18:36:31.310267Z"
    },
    "hidden": true
   },
   "source": [
    "7) There is a big std in the price, and seems to have outliers. Check it."
   ]
  },
  {
   "cell_type": "code",
   "execution_count": 24,
   "id": "d79c26cc",
   "metadata": {
    "ExecuteTime": {
     "end_time": "2021-08-30T14:15:21.323007Z",
     "start_time": "2021-08-30T14:15:21.310040Z"
    },
    "hidden": true
   },
   "outputs": [
    {
     "data": {
      "text/html": [
       "<div>\n",
       "<style scoped>\n",
       "    .dataframe tbody tr th:only-of-type {\n",
       "        vertical-align: middle;\n",
       "    }\n",
       "\n",
       "    .dataframe tbody tr th {\n",
       "        vertical-align: top;\n",
       "    }\n",
       "\n",
       "    .dataframe thead th {\n",
       "        text-align: right;\n",
       "    }\n",
       "</style>\n",
       "<table border=\"1\" class=\"dataframe\">\n",
       "  <thead>\n",
       "    <tr style=\"text-align: right;\">\n",
       "      <th></th>\n",
       "      <th>id</th>\n",
       "      <th>date</th>\n",
       "      <th>price</th>\n",
       "      <th>bedrooms</th>\n",
       "      <th>bathrooms</th>\n",
       "      <th>sqft_living</th>\n",
       "      <th>sqft_lot</th>\n",
       "      <th>floors</th>\n",
       "      <th>waterfront</th>\n",
       "      <th>view</th>\n",
       "      <th>condition</th>\n",
       "      <th>grade</th>\n",
       "      <th>sqft_above</th>\n",
       "      <th>sqft_basement</th>\n",
       "      <th>yr_built</th>\n",
       "      <th>yr_renovated</th>\n",
       "      <th>zipcode</th>\n",
       "      <th>lat</th>\n",
       "      <th>long</th>\n",
       "    </tr>\n",
       "  </thead>\n",
       "  <tbody>\n",
       "    <tr>\n",
       "      <th>7252</th>\n",
       "      <td>6762700020</td>\n",
       "      <td>2014-10-13</td>\n",
       "      <td>7700000.00</td>\n",
       "      <td>6</td>\n",
       "      <td>8.00</td>\n",
       "      <td>12050</td>\n",
       "      <td>27600</td>\n",
       "      <td>2.50</td>\n",
       "      <td>no</td>\n",
       "      <td>3</td>\n",
       "      <td>4</td>\n",
       "      <td>13</td>\n",
       "      <td>8570</td>\n",
       "      <td>3480</td>\n",
       "      <td>1910</td>\n",
       "      <td>1987</td>\n",
       "      <td>98102</td>\n",
       "      <td>47.63</td>\n",
       "      <td>-122.32</td>\n",
       "    </tr>\n",
       "  </tbody>\n",
       "</table>\n",
       "</div>"
      ],
      "text/plain": [
       "              id       date      price  bedrooms  bathrooms  sqft_living  sqft_lot  floors waterfront  view  condition  grade  sqft_above  sqft_basement  yr_built  yr_renovated  zipcode   lat    long\n",
       "7252  6762700020 2014-10-13 7700000.00         6       8.00        12050     27600    2.50         no     3          4     13        8570           3480      1910          1987    98102 47.63 -122.32"
      ]
     },
     "execution_count": 24,
     "metadata": {},
     "output_type": "execute_result"
    }
   ],
   "source": [
    "df3[df3['price'] == 7700000] # most expensive house on dataset"
   ]
  },
  {
   "cell_type": "markdown",
   "id": "4d301bff",
   "metadata": {
    "hidden": true
   },
   "source": [
    "It seems a big classic house. The lot size fit with the size of the house. It will be keeped. "
   ]
  },
  {
   "cell_type": "markdown",
   "id": "0cd560cd",
   "metadata": {
    "hidden": true
   },
   "source": [
    "8) Registers with 0 and 33 bedrooms"
   ]
  },
  {
   "cell_type": "code",
   "execution_count": 25,
   "id": "78b56239",
   "metadata": {
    "ExecuteTime": {
     "end_time": "2021-08-30T14:15:21.338993Z",
     "start_time": "2021-08-30T14:15:21.324028Z"
    },
    "hidden": true,
    "scrolled": false
   },
   "outputs": [],
   "source": [
    "zero_bed_df = df3[df3['bedrooms'] == 0] [['id','bathrooms','bedrooms','sqft_living', 'sqft_lot']]"
   ]
  },
  {
   "cell_type": "code",
   "execution_count": 26,
   "id": "a947a06c",
   "metadata": {
    "ExecuteTime": {
     "end_time": "2021-08-30T14:15:21.353956Z",
     "start_time": "2021-08-30T14:15:21.339960Z"
    },
    "hidden": true
   },
   "outputs": [
    {
     "name": "stdout",
     "output_type": "stream",
     "text": [
      "There are 13 registers without bedrooms. It will be droped.\n"
     ]
    }
   ],
   "source": [
    "print('There are {} registers without bedrooms. It will be droped.'.format(zero_bed_df.shape[0]))"
   ]
  },
  {
   "cell_type": "code",
   "execution_count": 27,
   "id": "f7965220",
   "metadata": {
    "ExecuteTime": {
     "end_time": "2021-08-30T14:15:21.369921Z",
     "start_time": "2021-08-30T14:15:21.355949Z"
    },
    "hidden": true
   },
   "outputs": [],
   "source": [
    "zero_bed = df3[df3['bedrooms'] == 0] ['id'].reset_index(drop=True).to_list()\n",
    "df3 = df3[~df3['id'].isin(zero_bed)]"
   ]
  },
  {
   "cell_type": "code",
   "execution_count": 28,
   "id": "22ed0f6a",
   "metadata": {
    "ExecuteTime": {
     "end_time": "2021-08-30T14:15:21.385864Z",
     "start_time": "2021-08-30T14:15:21.370877Z"
    },
    "hidden": true
   },
   "outputs": [
    {
     "data": {
      "text/html": [
       "<div>\n",
       "<style scoped>\n",
       "    .dataframe tbody tr th:only-of-type {\n",
       "        vertical-align: middle;\n",
       "    }\n",
       "\n",
       "    .dataframe tbody tr th {\n",
       "        vertical-align: top;\n",
       "    }\n",
       "\n",
       "    .dataframe thead th {\n",
       "        text-align: right;\n",
       "    }\n",
       "</style>\n",
       "<table border=\"1\" class=\"dataframe\">\n",
       "  <thead>\n",
       "    <tr style=\"text-align: right;\">\n",
       "      <th></th>\n",
       "      <th>id</th>\n",
       "      <th>date</th>\n",
       "      <th>price</th>\n",
       "      <th>bedrooms</th>\n",
       "      <th>bathrooms</th>\n",
       "      <th>sqft_living</th>\n",
       "      <th>sqft_lot</th>\n",
       "      <th>floors</th>\n",
       "      <th>waterfront</th>\n",
       "      <th>view</th>\n",
       "      <th>condition</th>\n",
       "      <th>grade</th>\n",
       "      <th>sqft_above</th>\n",
       "      <th>sqft_basement</th>\n",
       "      <th>yr_built</th>\n",
       "      <th>yr_renovated</th>\n",
       "      <th>zipcode</th>\n",
       "      <th>lat</th>\n",
       "      <th>long</th>\n",
       "    </tr>\n",
       "  </thead>\n",
       "  <tbody>\n",
       "    <tr>\n",
       "      <th>15870</th>\n",
       "      <td>2402100895</td>\n",
       "      <td>2014-06-25</td>\n",
       "      <td>640000.00</td>\n",
       "      <td>33</td>\n",
       "      <td>1.75</td>\n",
       "      <td>1620</td>\n",
       "      <td>6000</td>\n",
       "      <td>1.00</td>\n",
       "      <td>no</td>\n",
       "      <td>0</td>\n",
       "      <td>5</td>\n",
       "      <td>7</td>\n",
       "      <td>1040</td>\n",
       "      <td>580</td>\n",
       "      <td>1947</td>\n",
       "      <td>0</td>\n",
       "      <td>98103</td>\n",
       "      <td>47.69</td>\n",
       "      <td>-122.33</td>\n",
       "    </tr>\n",
       "  </tbody>\n",
       "</table>\n",
       "</div>"
      ],
      "text/plain": [
       "               id       date     price  bedrooms  bathrooms  sqft_living  sqft_lot  floors waterfront  view  condition  grade  sqft_above  sqft_basement  yr_built  yr_renovated  zipcode   lat    long\n",
       "15870  2402100895 2014-06-25 640000.00        33       1.75         1620      6000    1.00         no     0          5      7        1040            580      1947             0    98103 47.69 -122.33"
      ]
     },
     "execution_count": 28,
     "metadata": {},
     "output_type": "execute_result"
    }
   ],
   "source": [
    "df3[df3['bedrooms']==33] # house with 33 bedrooms"
   ]
  },
  {
   "cell_type": "markdown",
   "id": "f1091347",
   "metadata": {
    "hidden": true
   },
   "source": [
    "The lot size and number of floor do not fit with a 33 bedrooms house. It will be droped."
   ]
  },
  {
   "cell_type": "code",
   "execution_count": 29,
   "id": "475bb178",
   "metadata": {
    "ExecuteTime": {
     "end_time": "2021-08-30T14:15:21.401794Z",
     "start_time": "2021-08-30T14:15:21.386836Z"
    },
    "hidden": true
   },
   "outputs": [],
   "source": [
    "df3 = df3.drop(index = 15870) # index of the 33-bedrooms house"
   ]
  },
  {
   "cell_type": "markdown",
   "id": "37426405",
   "metadata": {
    "hidden": true
   },
   "source": [
    "9) Registers without bathrooms"
   ]
  },
  {
   "cell_type": "code",
   "execution_count": 30,
   "id": "6a1b7bf7",
   "metadata": {
    "ExecuteTime": {
     "end_time": "2021-08-30T14:15:21.417786Z",
     "start_time": "2021-08-30T14:15:21.402791Z"
    },
    "hidden": true
   },
   "outputs": [],
   "source": [
    "zero_bath = df3[df3['bathrooms'] == 0] ['id'].reset_index(drop=True).to_list()"
   ]
  },
  {
   "cell_type": "code",
   "execution_count": 31,
   "id": "c5d8ed53",
   "metadata": {
    "ExecuteTime": {
     "end_time": "2021-08-30T14:15:21.433750Z",
     "start_time": "2021-08-30T14:15:21.418749Z"
    },
    "hidden": true
   },
   "outputs": [
    {
     "name": "stdout",
     "output_type": "stream",
     "text": [
      "There are 3 registers without bathrooms. It will be droped.\n"
     ]
    }
   ],
   "source": [
    "print ('There are {} registers without bathrooms. It will be droped.'.format(len(zero_bath)))"
   ]
  },
  {
   "cell_type": "code",
   "execution_count": 32,
   "id": "e21703e3",
   "metadata": {
    "ExecuteTime": {
     "end_time": "2021-08-30T14:15:21.449708Z",
     "start_time": "2021-08-30T14:15:21.434706Z"
    },
    "hidden": true
   },
   "outputs": [],
   "source": [
    "df3 = df3[~df3['id'].isin(zero_bath)]"
   ]
  },
  {
   "cell_type": "markdown",
   "id": "c483a09b",
   "metadata": {
    "ExecuteTime": {
     "end_time": "2021-08-11T01:35:04.930412Z",
     "start_time": "2021-08-11T01:35:04.915452Z"
    },
    "hidden": true
   },
   "source": [
    "10) There are houses with the year of renovation with '0'. "
   ]
  },
  {
   "cell_type": "markdown",
   "id": "1b5963a1",
   "metadata": {
    "hidden": true
   },
   "source": [
    "Decision: Keep this."
   ]
  },
  {
   "cell_type": "markdown",
   "id": "efe04275",
   "metadata": {},
   "source": [
    "# Feature Engeneering"
   ]
  },
  {
   "cell_type": "code",
   "execution_count": 33,
   "id": "cbc9401d",
   "metadata": {
    "ExecuteTime": {
     "end_time": "2021-08-30T14:15:21.465623Z",
     "start_time": "2021-08-30T14:15:21.450664Z"
    }
   },
   "outputs": [],
   "source": [
    "df4 = df3.copy()"
   ]
  },
  {
   "cell_type": "markdown",
   "id": "098dac43",
   "metadata": {
    "ExecuteTime": {
     "end_time": "2021-08-04T22:38:49.806449Z",
     "start_time": "2021-08-04T22:38:49.791490Z"
    }
   },
   "source": [
    "## Business Hipotesys"
   ]
  },
  {
   "cell_type": "markdown",
   "id": "6359dec2",
   "metadata": {
    "ExecuteTime": {
     "end_time": "2021-08-04T22:38:49.806449Z",
     "start_time": "2021-08-04T22:38:49.791490Z"
    }
   },
   "source": [
    "1) Houses with waterview are more expensive.\n",
    "\n",
    "2) Houses that were not renovated are cheaper.\n",
    "\n",
    "3) There is a season in the year that more houses are sell\n",
    "\n",
    "4) There is a main numerical feature that raise the prices\n",
    "\n",
    "5) There is a main categorical feature that raise the prices.\n"
   ]
  },
  {
   "cell_type": "markdown",
   "id": "015ba348",
   "metadata": {
    "ExecuteTime": {
     "end_time": "2021-08-05T14:10:52.734839Z",
     "start_time": "2021-08-05T14:10:50.681Z"
    }
   },
   "source": [
    "## Average price per area"
   ]
  },
  {
   "cell_type": "code",
   "execution_count": 34,
   "id": "d32dcb98",
   "metadata": {
    "ExecuteTime": {
     "end_time": "2021-08-30T14:15:21.481583Z",
     "start_time": "2021-08-30T14:15:21.466623Z"
    }
   },
   "outputs": [],
   "source": [
    "df4['price_area'] = df4['price'] / df4['sqft_living'] # price/sqft for each house\n",
    "#using the major area betwwen sqft_lot and sqft_living bring a distorcion in the average prices.\n",
    "df4.rename(columns = {'sqft_living': 'area'}, inplace=True)"
   ]
  },
  {
   "cell_type": "code",
   "execution_count": 35,
   "id": "09415e2b",
   "metadata": {
    "ExecuteTime": {
     "end_time": "2021-08-30T14:15:21.497543Z",
     "start_time": "2021-08-30T14:15:21.482581Z"
    }
   },
   "outputs": [
    {
     "data": {
      "text/plain": [
       "id               0\n",
       "date             0\n",
       "price            0\n",
       "bedrooms         0\n",
       "bathrooms        0\n",
       "area             0\n",
       "sqft_lot         0\n",
       "floors           0\n",
       "waterfront       0\n",
       "view             0\n",
       "condition        0\n",
       "grade            0\n",
       "sqft_above       0\n",
       "sqft_basement    0\n",
       "yr_built         0\n",
       "yr_renovated     0\n",
       "zipcode          0\n",
       "lat              0\n",
       "long             0\n",
       "price_area       0\n",
       "dtype: int64"
      ]
     },
     "execution_count": 35,
     "metadata": {},
     "output_type": "execute_result"
    }
   ],
   "source": [
    "df4.isna().sum()"
   ]
  },
  {
   "cell_type": "code",
   "execution_count": 36,
   "id": "2f8c1b2d",
   "metadata": {
    "ExecuteTime": {
     "end_time": "2021-08-30T14:15:21.513504Z",
     "start_time": "2021-08-30T14:15:21.498536Z"
    }
   },
   "outputs": [
    {
     "data": {
      "text/html": [
       "<div>\n",
       "<style scoped>\n",
       "    .dataframe tbody tr th:only-of-type {\n",
       "        vertical-align: middle;\n",
       "    }\n",
       "\n",
       "    .dataframe tbody tr th {\n",
       "        vertical-align: top;\n",
       "    }\n",
       "\n",
       "    .dataframe thead th {\n",
       "        text-align: right;\n",
       "    }\n",
       "</style>\n",
       "<table border=\"1\" class=\"dataframe\">\n",
       "  <thead>\n",
       "    <tr style=\"text-align: right;\">\n",
       "      <th></th>\n",
       "      <th>id</th>\n",
       "      <th>date</th>\n",
       "      <th>price</th>\n",
       "      <th>bedrooms</th>\n",
       "      <th>bathrooms</th>\n",
       "      <th>area</th>\n",
       "      <th>sqft_lot</th>\n",
       "      <th>floors</th>\n",
       "      <th>waterfront</th>\n",
       "      <th>view</th>\n",
       "      <th>condition</th>\n",
       "      <th>grade</th>\n",
       "      <th>sqft_above</th>\n",
       "      <th>sqft_basement</th>\n",
       "      <th>yr_built</th>\n",
       "      <th>yr_renovated</th>\n",
       "      <th>zipcode</th>\n",
       "      <th>lat</th>\n",
       "      <th>long</th>\n",
       "      <th>price_area</th>\n",
       "    </tr>\n",
       "  </thead>\n",
       "  <tbody>\n",
       "    <tr>\n",
       "      <th>0</th>\n",
       "      <td>7129300520</td>\n",
       "      <td>2014-10-13</td>\n",
       "      <td>221900.00</td>\n",
       "      <td>3</td>\n",
       "      <td>1.00</td>\n",
       "      <td>1180</td>\n",
       "      <td>5650</td>\n",
       "      <td>1.00</td>\n",
       "      <td>no</td>\n",
       "      <td>0</td>\n",
       "      <td>3</td>\n",
       "      <td>7</td>\n",
       "      <td>1180</td>\n",
       "      <td>0</td>\n",
       "      <td>1955</td>\n",
       "      <td>0</td>\n",
       "      <td>98178</td>\n",
       "      <td>47.51</td>\n",
       "      <td>-122.26</td>\n",
       "      <td>188.05</td>\n",
       "    </tr>\n",
       "    <tr>\n",
       "      <th>1</th>\n",
       "      <td>6414100192</td>\n",
       "      <td>2014-12-09</td>\n",
       "      <td>538000.00</td>\n",
       "      <td>3</td>\n",
       "      <td>2.25</td>\n",
       "      <td>2570</td>\n",
       "      <td>7242</td>\n",
       "      <td>2.00</td>\n",
       "      <td>no</td>\n",
       "      <td>0</td>\n",
       "      <td>3</td>\n",
       "      <td>7</td>\n",
       "      <td>2170</td>\n",
       "      <td>400</td>\n",
       "      <td>1951</td>\n",
       "      <td>1991</td>\n",
       "      <td>98125</td>\n",
       "      <td>47.72</td>\n",
       "      <td>-122.32</td>\n",
       "      <td>209.34</td>\n",
       "    </tr>\n",
       "    <tr>\n",
       "      <th>2</th>\n",
       "      <td>5631500400</td>\n",
       "      <td>2015-02-25</td>\n",
       "      <td>180000.00</td>\n",
       "      <td>2</td>\n",
       "      <td>1.00</td>\n",
       "      <td>770</td>\n",
       "      <td>10000</td>\n",
       "      <td>1.00</td>\n",
       "      <td>no</td>\n",
       "      <td>0</td>\n",
       "      <td>3</td>\n",
       "      <td>6</td>\n",
       "      <td>770</td>\n",
       "      <td>0</td>\n",
       "      <td>1933</td>\n",
       "      <td>0</td>\n",
       "      <td>98028</td>\n",
       "      <td>47.74</td>\n",
       "      <td>-122.23</td>\n",
       "      <td>233.77</td>\n",
       "    </tr>\n",
       "    <tr>\n",
       "      <th>3</th>\n",
       "      <td>2487200875</td>\n",
       "      <td>2014-12-09</td>\n",
       "      <td>604000.00</td>\n",
       "      <td>4</td>\n",
       "      <td>3.00</td>\n",
       "      <td>1960</td>\n",
       "      <td>5000</td>\n",
       "      <td>1.00</td>\n",
       "      <td>no</td>\n",
       "      <td>0</td>\n",
       "      <td>5</td>\n",
       "      <td>7</td>\n",
       "      <td>1050</td>\n",
       "      <td>910</td>\n",
       "      <td>1965</td>\n",
       "      <td>0</td>\n",
       "      <td>98136</td>\n",
       "      <td>47.52</td>\n",
       "      <td>-122.39</td>\n",
       "      <td>308.16</td>\n",
       "    </tr>\n",
       "    <tr>\n",
       "      <th>4</th>\n",
       "      <td>1954400510</td>\n",
       "      <td>2015-02-18</td>\n",
       "      <td>510000.00</td>\n",
       "      <td>3</td>\n",
       "      <td>2.00</td>\n",
       "      <td>1680</td>\n",
       "      <td>8080</td>\n",
       "      <td>1.00</td>\n",
       "      <td>no</td>\n",
       "      <td>0</td>\n",
       "      <td>3</td>\n",
       "      <td>8</td>\n",
       "      <td>1680</td>\n",
       "      <td>0</td>\n",
       "      <td>1987</td>\n",
       "      <td>0</td>\n",
       "      <td>98074</td>\n",
       "      <td>47.62</td>\n",
       "      <td>-122.05</td>\n",
       "      <td>303.57</td>\n",
       "    </tr>\n",
       "  </tbody>\n",
       "</table>\n",
       "</div>"
      ],
      "text/plain": [
       "           id       date     price  bedrooms  bathrooms  area  sqft_lot  floors waterfront  view  condition  grade  sqft_above  sqft_basement  yr_built  yr_renovated  zipcode   lat    long  price_area\n",
       "0  7129300520 2014-10-13 221900.00         3       1.00  1180      5650    1.00         no     0          3      7        1180              0      1955             0    98178 47.51 -122.26      188.05\n",
       "1  6414100192 2014-12-09 538000.00         3       2.25  2570      7242    2.00         no     0          3      7        2170            400      1951          1991    98125 47.72 -122.32      209.34\n",
       "2  5631500400 2015-02-25 180000.00         2       1.00   770     10000    1.00         no     0          3      6         770              0      1933             0    98028 47.74 -122.23      233.77\n",
       "3  2487200875 2014-12-09 604000.00         4       3.00  1960      5000    1.00         no     0          5      7        1050            910      1965             0    98136 47.52 -122.39      308.16\n",
       "4  1954400510 2015-02-18 510000.00         3       2.00  1680      8080    1.00         no     0          3      8        1680              0      1987             0    98074 47.62 -122.05      303.57"
      ]
     },
     "execution_count": 36,
     "metadata": {},
     "output_type": "execute_result"
    }
   ],
   "source": [
    "df4.head()"
   ]
  },
  {
   "cell_type": "markdown",
   "id": "b7313d92",
   "metadata": {
    "ExecuteTime": {
     "end_time": "2021-08-11T14:53:54.415326Z",
     "start_time": "2021-08-11T14:53:54.410340Z"
    }
   },
   "source": [
    "## Average price per area per zipcode"
   ]
  },
  {
   "cell_type": "code",
   "execution_count": 37,
   "id": "4c87b5cf",
   "metadata": {
    "ExecuteTime": {
     "end_time": "2021-08-30T14:15:21.529490Z",
     "start_time": "2021-08-30T14:15:21.514502Z"
    }
   },
   "outputs": [
    {
     "data": {
      "text/html": [
       "<div>\n",
       "<style scoped>\n",
       "    .dataframe tbody tr th:only-of-type {\n",
       "        vertical-align: middle;\n",
       "    }\n",
       "\n",
       "    .dataframe tbody tr th {\n",
       "        vertical-align: top;\n",
       "    }\n",
       "\n",
       "    .dataframe thead th {\n",
       "        text-align: right;\n",
       "    }\n",
       "</style>\n",
       "<table border=\"1\" class=\"dataframe\">\n",
       "  <thead>\n",
       "    <tr style=\"text-align: right;\">\n",
       "      <th></th>\n",
       "      <th>zipcode</th>\n",
       "      <th>zipcode_price</th>\n",
       "    </tr>\n",
       "  </thead>\n",
       "  <tbody>\n",
       "    <tr>\n",
       "      <th>0</th>\n",
       "      <td>98001</td>\n",
       "      <td>151.35</td>\n",
       "    </tr>\n",
       "    <tr>\n",
       "      <th>1</th>\n",
       "      <td>98002</td>\n",
       "      <td>151.17</td>\n",
       "    </tr>\n",
       "    <tr>\n",
       "      <th>2</th>\n",
       "      <td>98003</td>\n",
       "      <td>157.11</td>\n",
       "    </tr>\n",
       "    <tr>\n",
       "      <th>3</th>\n",
       "      <td>98004</td>\n",
       "      <td>475.44</td>\n",
       "    </tr>\n",
       "    <tr>\n",
       "      <th>4</th>\n",
       "      <td>98005</td>\n",
       "      <td>314.93</td>\n",
       "    </tr>\n",
       "  </tbody>\n",
       "</table>\n",
       "</div>"
      ],
      "text/plain": [
       "   zipcode  zipcode_price\n",
       "0    98001         151.35\n",
       "1    98002         151.17\n",
       "2    98003         157.11\n",
       "3    98004         475.44\n",
       "4    98005         314.93"
      ]
     },
     "execution_count": 37,
     "metadata": {},
     "output_type": "execute_result"
    }
   ],
   "source": [
    "zipcode_price_df = df4[['price_area', 'zipcode']].groupby('zipcode').mean().reset_index()\n",
    "zipcode_price_df.rename(columns ={'price_area':'zipcode_price'},inplace=True)\n",
    "zipcode_price_df.head()"
   ]
  },
  {
   "cell_type": "code",
   "execution_count": 38,
   "id": "42330f65",
   "metadata": {
    "ExecuteTime": {
     "end_time": "2021-08-30T14:15:21.561376Z",
     "start_time": "2021-08-30T14:15:21.530472Z"
    }
   },
   "outputs": [],
   "source": [
    "df4 = pd.merge(df4,zipcode_price_df, how='left', on='zipcode')"
   ]
  },
  {
   "cell_type": "code",
   "execution_count": 39,
   "id": "67916964",
   "metadata": {
    "ExecuteTime": {
     "end_time": "2021-08-30T14:15:21.577357Z",
     "start_time": "2021-08-30T14:15:21.563370Z"
    }
   },
   "outputs": [
    {
     "data": {
      "text/plain": [
       "id               0\n",
       "date             0\n",
       "price            0\n",
       "bedrooms         0\n",
       "bathrooms        0\n",
       "area             0\n",
       "sqft_lot         0\n",
       "floors           0\n",
       "waterfront       0\n",
       "view             0\n",
       "condition        0\n",
       "grade            0\n",
       "sqft_above       0\n",
       "sqft_basement    0\n",
       "yr_built         0\n",
       "yr_renovated     0\n",
       "zipcode          0\n",
       "lat              0\n",
       "long             0\n",
       "price_area       0\n",
       "zipcode_price    0\n",
       "dtype: int64"
      ]
     },
     "execution_count": 39,
     "metadata": {},
     "output_type": "execute_result"
    }
   ],
   "source": [
    "df4.isna().sum()"
   ]
  },
  {
   "cell_type": "markdown",
   "id": "451bf702",
   "metadata": {},
   "source": [
    "## location"
   ]
  },
  {
   "cell_type": "code",
   "execution_count": 40,
   "id": "2e0630bc",
   "metadata": {
    "ExecuteTime": {
     "end_time": "2021-08-30T14:15:21.593322Z",
     "start_time": "2021-08-30T14:15:21.578329Z"
    }
   },
   "outputs": [
    {
     "data": {
      "text/html": [
       "<div>\n",
       "<style scoped>\n",
       "    .dataframe tbody tr th:only-of-type {\n",
       "        vertical-align: middle;\n",
       "    }\n",
       "\n",
       "    .dataframe tbody tr th {\n",
       "        vertical-align: top;\n",
       "    }\n",
       "\n",
       "    .dataframe thead th {\n",
       "        text-align: right;\n",
       "    }\n",
       "</style>\n",
       "<table border=\"1\" class=\"dataframe\">\n",
       "  <thead>\n",
       "    <tr style=\"text-align: right;\">\n",
       "      <th></th>\n",
       "      <th>zipcode</th>\n",
       "      <th>zipcode_price</th>\n",
       "    </tr>\n",
       "  </thead>\n",
       "  <tbody>\n",
       "    <tr>\n",
       "      <th>0</th>\n",
       "      <td>98023</td>\n",
       "      <td>148.92</td>\n",
       "    </tr>\n",
       "    <tr>\n",
       "      <th>1</th>\n",
       "      <td>98002</td>\n",
       "      <td>151.17</td>\n",
       "    </tr>\n",
       "    <tr>\n",
       "      <th>2</th>\n",
       "      <td>98001</td>\n",
       "      <td>151.35</td>\n",
       "    </tr>\n",
       "    <tr>\n",
       "      <th>3</th>\n",
       "      <td>98032</td>\n",
       "      <td>154.22</td>\n",
       "    </tr>\n",
       "    <tr>\n",
       "      <th>4</th>\n",
       "      <td>98030</td>\n",
       "      <td>155.16</td>\n",
       "    </tr>\n",
       "  </tbody>\n",
       "</table>\n",
       "</div>"
      ],
      "text/plain": [
       "   zipcode  zipcode_price\n",
       "0    98023         148.92\n",
       "1    98002         151.17\n",
       "2    98001         151.35\n",
       "3    98032         154.22\n",
       "4    98030         155.16"
      ]
     },
     "execution_count": 40,
     "metadata": {},
     "output_type": "execute_result"
    }
   ],
   "source": [
    "# adequando o zip code\n",
    "zipcode_df = df4[['zipcode','zipcode_price']]\n",
    "zipcode_df = zipcode_df.drop_duplicates(subset = \"zipcode\")\n",
    "zipcode_df = zipcode_df.sort_values(by='zipcode_price').reset_index(drop=True)\n",
    "zipcode_df.head()"
   ]
  },
  {
   "cell_type": "code",
   "execution_count": 41,
   "id": "7621971e",
   "metadata": {
    "ExecuteTime": {
     "end_time": "2021-08-30T14:15:21.609248Z",
     "start_time": "2021-08-30T14:15:21.594288Z"
    },
    "scrolled": true
   },
   "outputs": [
    {
     "data": {
      "text/html": [
       "<div>\n",
       "<style scoped>\n",
       "    .dataframe tbody tr th:only-of-type {\n",
       "        vertical-align: middle;\n",
       "    }\n",
       "\n",
       "    .dataframe tbody tr th {\n",
       "        vertical-align: top;\n",
       "    }\n",
       "\n",
       "    .dataframe thead th {\n",
       "        text-align: right;\n",
       "    }\n",
       "</style>\n",
       "<table border=\"1\" class=\"dataframe\">\n",
       "  <thead>\n",
       "    <tr style=\"text-align: right;\">\n",
       "      <th></th>\n",
       "      <th>zipcode</th>\n",
       "      <th>zipcode_price</th>\n",
       "      <th>location</th>\n",
       "    </tr>\n",
       "  </thead>\n",
       "  <tbody>\n",
       "    <tr>\n",
       "      <th>0</th>\n",
       "      <td>98023</td>\n",
       "      <td>148.92</td>\n",
       "      <td>0</td>\n",
       "    </tr>\n",
       "    <tr>\n",
       "      <th>1</th>\n",
       "      <td>98002</td>\n",
       "      <td>151.17</td>\n",
       "      <td>1</td>\n",
       "    </tr>\n",
       "    <tr>\n",
       "      <th>2</th>\n",
       "      <td>98001</td>\n",
       "      <td>151.35</td>\n",
       "      <td>2</td>\n",
       "    </tr>\n",
       "    <tr>\n",
       "      <th>3</th>\n",
       "      <td>98032</td>\n",
       "      <td>154.22</td>\n",
       "      <td>3</td>\n",
       "    </tr>\n",
       "    <tr>\n",
       "      <th>4</th>\n",
       "      <td>98030</td>\n",
       "      <td>155.16</td>\n",
       "      <td>4</td>\n",
       "    </tr>\n",
       "    <tr>\n",
       "      <th>5</th>\n",
       "      <td>98092</td>\n",
       "      <td>155.81</td>\n",
       "      <td>5</td>\n",
       "    </tr>\n",
       "    <tr>\n",
       "      <th>6</th>\n",
       "      <td>98003</td>\n",
       "      <td>157.11</td>\n",
       "      <td>6</td>\n",
       "    </tr>\n",
       "    <tr>\n",
       "      <th>7</th>\n",
       "      <td>98031</td>\n",
       "      <td>161.10</td>\n",
       "      <td>7</td>\n",
       "    </tr>\n",
       "    <tr>\n",
       "      <th>8</th>\n",
       "      <td>98042</td>\n",
       "      <td>164.38</td>\n",
       "      <td>8</td>\n",
       "    </tr>\n",
       "    <tr>\n",
       "      <th>9</th>\n",
       "      <td>98188</td>\n",
       "      <td>169.01</td>\n",
       "      <td>9</td>\n",
       "    </tr>\n",
       "    <tr>\n",
       "      <th>10</th>\n",
       "      <td>98038</td>\n",
       "      <td>173.73</td>\n",
       "      <td>10</td>\n",
       "    </tr>\n",
       "    <tr>\n",
       "      <th>11</th>\n",
       "      <td>98168</td>\n",
       "      <td>175.37</td>\n",
       "      <td>11</td>\n",
       "    </tr>\n",
       "    <tr>\n",
       "      <th>12</th>\n",
       "      <td>98058</td>\n",
       "      <td>178.20</td>\n",
       "      <td>12</td>\n",
       "    </tr>\n",
       "    <tr>\n",
       "      <th>13</th>\n",
       "      <td>98198</td>\n",
       "      <td>178.43</td>\n",
       "      <td>13</td>\n",
       "    </tr>\n",
       "    <tr>\n",
       "      <th>14</th>\n",
       "      <td>98055</td>\n",
       "      <td>180.40</td>\n",
       "      <td>14</td>\n",
       "    </tr>\n",
       "    <tr>\n",
       "      <th>15</th>\n",
       "      <td>98022</td>\n",
       "      <td>182.11</td>\n",
       "      <td>15</td>\n",
       "    </tr>\n",
       "    <tr>\n",
       "      <th>16</th>\n",
       "      <td>98148</td>\n",
       "      <td>185.83</td>\n",
       "      <td>16</td>\n",
       "    </tr>\n",
       "    <tr>\n",
       "      <th>17</th>\n",
       "      <td>98178</td>\n",
       "      <td>189.17</td>\n",
       "      <td>17</td>\n",
       "    </tr>\n",
       "    <tr>\n",
       "      <th>18</th>\n",
       "      <td>98019</td>\n",
       "      <td>203.00</td>\n",
       "      <td>18</td>\n",
       "    </tr>\n",
       "    <tr>\n",
       "      <th>19</th>\n",
       "      <td>98059</td>\n",
       "      <td>207.24</td>\n",
       "      <td>19</td>\n",
       "    </tr>\n",
       "    <tr>\n",
       "      <th>20</th>\n",
       "      <td>98010</td>\n",
       "      <td>210.10</td>\n",
       "      <td>20</td>\n",
       "    </tr>\n",
       "    <tr>\n",
       "      <th>21</th>\n",
       "      <td>98065</td>\n",
       "      <td>211.04</td>\n",
       "      <td>21</td>\n",
       "    </tr>\n",
       "    <tr>\n",
       "      <th>22</th>\n",
       "      <td>98056</td>\n",
       "      <td>215.54</td>\n",
       "      <td>22</td>\n",
       "    </tr>\n",
       "    <tr>\n",
       "      <th>23</th>\n",
       "      <td>98045</td>\n",
       "      <td>219.35</td>\n",
       "      <td>23</td>\n",
       "    </tr>\n",
       "    <tr>\n",
       "      <th>24</th>\n",
       "      <td>98014</td>\n",
       "      <td>223.08</td>\n",
       "      <td>24</td>\n",
       "    </tr>\n",
       "    <tr>\n",
       "      <th>25</th>\n",
       "      <td>98108</td>\n",
       "      <td>224.44</td>\n",
       "      <td>25</td>\n",
       "    </tr>\n",
       "    <tr>\n",
       "      <th>26</th>\n",
       "      <td>98028</td>\n",
       "      <td>225.14</td>\n",
       "      <td>26</td>\n",
       "    </tr>\n",
       "    <tr>\n",
       "      <th>27</th>\n",
       "      <td>98146</td>\n",
       "      <td>225.49</td>\n",
       "      <td>27</td>\n",
       "    </tr>\n",
       "    <tr>\n",
       "      <th>28</th>\n",
       "      <td>98011</td>\n",
       "      <td>225.99</td>\n",
       "      <td>28</td>\n",
       "    </tr>\n",
       "    <tr>\n",
       "      <th>29</th>\n",
       "      <td>98166</td>\n",
       "      <td>226.20</td>\n",
       "      <td>29</td>\n",
       "    </tr>\n",
       "    <tr>\n",
       "      <th>30</th>\n",
       "      <td>98106</td>\n",
       "      <td>231.33</td>\n",
       "      <td>30</td>\n",
       "    </tr>\n",
       "    <tr>\n",
       "      <th>31</th>\n",
       "      <td>98077</td>\n",
       "      <td>244.28</td>\n",
       "      <td>31</td>\n",
       "    </tr>\n",
       "    <tr>\n",
       "      <th>32</th>\n",
       "      <td>98155</td>\n",
       "      <td>246.52</td>\n",
       "      <td>32</td>\n",
       "    </tr>\n",
       "    <tr>\n",
       "      <th>33</th>\n",
       "      <td>98072</td>\n",
       "      <td>247.51</td>\n",
       "      <td>33</td>\n",
       "    </tr>\n",
       "    <tr>\n",
       "      <th>34</th>\n",
       "      <td>98027</td>\n",
       "      <td>251.57</td>\n",
       "      <td>34</td>\n",
       "    </tr>\n",
       "    <tr>\n",
       "      <th>35</th>\n",
       "      <td>98024</td>\n",
       "      <td>252.30</td>\n",
       "      <td>35</td>\n",
       "    </tr>\n",
       "    <tr>\n",
       "      <th>36</th>\n",
       "      <td>98133</td>\n",
       "      <td>253.97</td>\n",
       "      <td>36</td>\n",
       "    </tr>\n",
       "    <tr>\n",
       "      <th>37</th>\n",
       "      <td>98118</td>\n",
       "      <td>262.62</td>\n",
       "      <td>37</td>\n",
       "    </tr>\n",
       "    <tr>\n",
       "      <th>38</th>\n",
       "      <td>98074</td>\n",
       "      <td>265.67</td>\n",
       "      <td>38</td>\n",
       "    </tr>\n",
       "    <tr>\n",
       "      <th>39</th>\n",
       "      <td>98034</td>\n",
       "      <td>265.95</td>\n",
       "      <td>39</td>\n",
       "    </tr>\n",
       "    <tr>\n",
       "      <th>40</th>\n",
       "      <td>98053</td>\n",
       "      <td>268.40</td>\n",
       "      <td>40</td>\n",
       "    </tr>\n",
       "    <tr>\n",
       "      <th>41</th>\n",
       "      <td>98075</td>\n",
       "      <td>268.64</td>\n",
       "      <td>41</td>\n",
       "    </tr>\n",
       "    <tr>\n",
       "      <th>42</th>\n",
       "      <td>98029</td>\n",
       "      <td>272.07</td>\n",
       "      <td>42</td>\n",
       "    </tr>\n",
       "    <tr>\n",
       "      <th>43</th>\n",
       "      <td>98070</td>\n",
       "      <td>277.85</td>\n",
       "      <td>43</td>\n",
       "    </tr>\n",
       "    <tr>\n",
       "      <th>44</th>\n",
       "      <td>98052</td>\n",
       "      <td>280.39</td>\n",
       "      <td>44</td>\n",
       "    </tr>\n",
       "    <tr>\n",
       "      <th>45</th>\n",
       "      <td>98125</td>\n",
       "      <td>282.67</td>\n",
       "      <td>45</td>\n",
       "    </tr>\n",
       "    <tr>\n",
       "      <th>46</th>\n",
       "      <td>98007</td>\n",
       "      <td>290.05</td>\n",
       "      <td>46</td>\n",
       "    </tr>\n",
       "    <tr>\n",
       "      <th>47</th>\n",
       "      <td>98126</td>\n",
       "      <td>292.80</td>\n",
       "      <td>47</td>\n",
       "    </tr>\n",
       "    <tr>\n",
       "      <th>48</th>\n",
       "      <td>98177</td>\n",
       "      <td>292.92</td>\n",
       "      <td>48</td>\n",
       "    </tr>\n",
       "    <tr>\n",
       "      <th>49</th>\n",
       "      <td>98006</td>\n",
       "      <td>299.09</td>\n",
       "      <td>49</td>\n",
       "    </tr>\n",
       "    <tr>\n",
       "      <th>50</th>\n",
       "      <td>98008</td>\n",
       "      <td>301.72</td>\n",
       "      <td>50</td>\n",
       "    </tr>\n",
       "    <tr>\n",
       "      <th>51</th>\n",
       "      <td>98144</td>\n",
       "      <td>312.24</td>\n",
       "      <td>51</td>\n",
       "    </tr>\n",
       "    <tr>\n",
       "      <th>52</th>\n",
       "      <td>98005</td>\n",
       "      <td>314.93</td>\n",
       "      <td>52</td>\n",
       "    </tr>\n",
       "    <tr>\n",
       "      <th>53</th>\n",
       "      <td>98136</td>\n",
       "      <td>337.22</td>\n",
       "      <td>53</td>\n",
       "    </tr>\n",
       "    <tr>\n",
       "      <th>54</th>\n",
       "      <td>98033</td>\n",
       "      <td>343.16</td>\n",
       "      <td>54</td>\n",
       "    </tr>\n",
       "    <tr>\n",
       "      <th>55</th>\n",
       "      <td>98116</td>\n",
       "      <td>348.55</td>\n",
       "      <td>55</td>\n",
       "    </tr>\n",
       "    <tr>\n",
       "      <th>56</th>\n",
       "      <td>98115</td>\n",
       "      <td>354.14</td>\n",
       "      <td>56</td>\n",
       "    </tr>\n",
       "    <tr>\n",
       "      <th>57</th>\n",
       "      <td>98117</td>\n",
       "      <td>363.54</td>\n",
       "      <td>57</td>\n",
       "    </tr>\n",
       "    <tr>\n",
       "      <th>58</th>\n",
       "      <td>98122</td>\n",
       "      <td>367.51</td>\n",
       "      <td>58</td>\n",
       "    </tr>\n",
       "    <tr>\n",
       "      <th>59</th>\n",
       "      <td>98103</td>\n",
       "      <td>369.80</td>\n",
       "      <td>59</td>\n",
       "    </tr>\n",
       "    <tr>\n",
       "      <th>60</th>\n",
       "      <td>98199</td>\n",
       "      <td>376.55</td>\n",
       "      <td>60</td>\n",
       "    </tr>\n",
       "    <tr>\n",
       "      <th>61</th>\n",
       "      <td>98107</td>\n",
       "      <td>382.95</td>\n",
       "      <td>61</td>\n",
       "    </tr>\n",
       "    <tr>\n",
       "      <th>62</th>\n",
       "      <td>98040</td>\n",
       "      <td>387.29</td>\n",
       "      <td>62</td>\n",
       "    </tr>\n",
       "    <tr>\n",
       "      <th>63</th>\n",
       "      <td>98105</td>\n",
       "      <td>405.15</td>\n",
       "      <td>63</td>\n",
       "    </tr>\n",
       "    <tr>\n",
       "      <th>64</th>\n",
       "      <td>98102</td>\n",
       "      <td>423.81</td>\n",
       "      <td>64</td>\n",
       "    </tr>\n",
       "    <tr>\n",
       "      <th>65</th>\n",
       "      <td>98119</td>\n",
       "      <td>432.26</td>\n",
       "      <td>65</td>\n",
       "    </tr>\n",
       "    <tr>\n",
       "      <th>66</th>\n",
       "      <td>98109</td>\n",
       "      <td>433.40</td>\n",
       "      <td>66</td>\n",
       "    </tr>\n",
       "    <tr>\n",
       "      <th>67</th>\n",
       "      <td>98112</td>\n",
       "      <td>438.64</td>\n",
       "      <td>67</td>\n",
       "    </tr>\n",
       "    <tr>\n",
       "      <th>68</th>\n",
       "      <td>98004</td>\n",
       "      <td>475.44</td>\n",
       "      <td>68</td>\n",
       "    </tr>\n",
       "    <tr>\n",
       "      <th>69</th>\n",
       "      <td>98039</td>\n",
       "      <td>568.08</td>\n",
       "      <td>69</td>\n",
       "    </tr>\n",
       "  </tbody>\n",
       "</table>\n",
       "</div>"
      ],
      "text/plain": [
       "    zipcode  zipcode_price  location\n",
       "0     98023         148.92         0\n",
       "1     98002         151.17         1\n",
       "2     98001         151.35         2\n",
       "3     98032         154.22         3\n",
       "4     98030         155.16         4\n",
       "5     98092         155.81         5\n",
       "6     98003         157.11         6\n",
       "7     98031         161.10         7\n",
       "8     98042         164.38         8\n",
       "9     98188         169.01         9\n",
       "10    98038         173.73        10\n",
       "11    98168         175.37        11\n",
       "12    98058         178.20        12\n",
       "13    98198         178.43        13\n",
       "14    98055         180.40        14\n",
       "15    98022         182.11        15\n",
       "16    98148         185.83        16\n",
       "17    98178         189.17        17\n",
       "18    98019         203.00        18\n",
       "19    98059         207.24        19\n",
       "20    98010         210.10        20\n",
       "21    98065         211.04        21\n",
       "22    98056         215.54        22\n",
       "23    98045         219.35        23\n",
       "24    98014         223.08        24\n",
       "25    98108         224.44        25\n",
       "26    98028         225.14        26\n",
       "27    98146         225.49        27\n",
       "28    98011         225.99        28\n",
       "29    98166         226.20        29\n",
       "30    98106         231.33        30\n",
       "31    98077         244.28        31\n",
       "32    98155         246.52        32\n",
       "33    98072         247.51        33\n",
       "34    98027         251.57        34\n",
       "35    98024         252.30        35\n",
       "36    98133         253.97        36\n",
       "37    98118         262.62        37\n",
       "38    98074         265.67        38\n",
       "39    98034         265.95        39\n",
       "40    98053         268.40        40\n",
       "41    98075         268.64        41\n",
       "42    98029         272.07        42\n",
       "43    98070         277.85        43\n",
       "44    98052         280.39        44\n",
       "45    98125         282.67        45\n",
       "46    98007         290.05        46\n",
       "47    98126         292.80        47\n",
       "48    98177         292.92        48\n",
       "49    98006         299.09        49\n",
       "50    98008         301.72        50\n",
       "51    98144         312.24        51\n",
       "52    98005         314.93        52\n",
       "53    98136         337.22        53\n",
       "54    98033         343.16        54\n",
       "55    98116         348.55        55\n",
       "56    98115         354.14        56\n",
       "57    98117         363.54        57\n",
       "58    98122         367.51        58\n",
       "59    98103         369.80        59\n",
       "60    98199         376.55        60\n",
       "61    98107         382.95        61\n",
       "62    98040         387.29        62\n",
       "63    98105         405.15        63\n",
       "64    98102         423.81        64\n",
       "65    98119         432.26        65\n",
       "66    98109         433.40        66\n",
       "67    98112         438.64        67\n",
       "68    98004         475.44        68\n",
       "69    98039         568.08        69"
      ]
     },
     "execution_count": 41,
     "metadata": {},
     "output_type": "execute_result"
    }
   ],
   "source": [
    "zipcode_df['location'] = np.arange(zipcode_df.shape[0]) #creating the level for zipcodes prices\n",
    "zipcode_df"
   ]
  },
  {
   "cell_type": "code",
   "execution_count": 42,
   "id": "dc2a983f",
   "metadata": {
    "ExecuteTime": {
     "end_time": "2021-08-30T14:15:21.640673Z",
     "start_time": "2021-08-30T14:15:21.610244Z"
    }
   },
   "outputs": [
    {
     "data": {
      "text/html": [
       "<div>\n",
       "<style scoped>\n",
       "    .dataframe tbody tr th:only-of-type {\n",
       "        vertical-align: middle;\n",
       "    }\n",
       "\n",
       "    .dataframe tbody tr th {\n",
       "        vertical-align: top;\n",
       "    }\n",
       "\n",
       "    .dataframe thead th {\n",
       "        text-align: right;\n",
       "    }\n",
       "</style>\n",
       "<table border=\"1\" class=\"dataframe\">\n",
       "  <thead>\n",
       "    <tr style=\"text-align: right;\">\n",
       "      <th></th>\n",
       "      <th>id</th>\n",
       "      <th>date</th>\n",
       "      <th>price</th>\n",
       "      <th>bedrooms</th>\n",
       "      <th>bathrooms</th>\n",
       "      <th>area</th>\n",
       "      <th>sqft_lot</th>\n",
       "      <th>floors</th>\n",
       "      <th>waterfront</th>\n",
       "      <th>view</th>\n",
       "      <th>condition</th>\n",
       "      <th>grade</th>\n",
       "      <th>sqft_above</th>\n",
       "      <th>sqft_basement</th>\n",
       "      <th>yr_built</th>\n",
       "      <th>yr_renovated</th>\n",
       "      <th>zipcode</th>\n",
       "      <th>lat</th>\n",
       "      <th>long</th>\n",
       "      <th>price_area</th>\n",
       "      <th>zipcode_price</th>\n",
       "      <th>location</th>\n",
       "    </tr>\n",
       "  </thead>\n",
       "  <tbody>\n",
       "    <tr>\n",
       "      <th>0</th>\n",
       "      <td>7129300520</td>\n",
       "      <td>2014-10-13</td>\n",
       "      <td>221900.00</td>\n",
       "      <td>3</td>\n",
       "      <td>1.00</td>\n",
       "      <td>1180</td>\n",
       "      <td>5650</td>\n",
       "      <td>1.00</td>\n",
       "      <td>no</td>\n",
       "      <td>0</td>\n",
       "      <td>3</td>\n",
       "      <td>7</td>\n",
       "      <td>1180</td>\n",
       "      <td>0</td>\n",
       "      <td>1955</td>\n",
       "      <td>0</td>\n",
       "      <td>98178</td>\n",
       "      <td>47.51</td>\n",
       "      <td>-122.26</td>\n",
       "      <td>188.05</td>\n",
       "      <td>189.17</td>\n",
       "      <td>17</td>\n",
       "    </tr>\n",
       "    <tr>\n",
       "      <th>1</th>\n",
       "      <td>6414100192</td>\n",
       "      <td>2014-12-09</td>\n",
       "      <td>538000.00</td>\n",
       "      <td>3</td>\n",
       "      <td>2.25</td>\n",
       "      <td>2570</td>\n",
       "      <td>7242</td>\n",
       "      <td>2.00</td>\n",
       "      <td>no</td>\n",
       "      <td>0</td>\n",
       "      <td>3</td>\n",
       "      <td>7</td>\n",
       "      <td>2170</td>\n",
       "      <td>400</td>\n",
       "      <td>1951</td>\n",
       "      <td>1991</td>\n",
       "      <td>98125</td>\n",
       "      <td>47.72</td>\n",
       "      <td>-122.32</td>\n",
       "      <td>209.34</td>\n",
       "      <td>282.67</td>\n",
       "      <td>45</td>\n",
       "    </tr>\n",
       "    <tr>\n",
       "      <th>2</th>\n",
       "      <td>5631500400</td>\n",
       "      <td>2015-02-25</td>\n",
       "      <td>180000.00</td>\n",
       "      <td>2</td>\n",
       "      <td>1.00</td>\n",
       "      <td>770</td>\n",
       "      <td>10000</td>\n",
       "      <td>1.00</td>\n",
       "      <td>no</td>\n",
       "      <td>0</td>\n",
       "      <td>3</td>\n",
       "      <td>6</td>\n",
       "      <td>770</td>\n",
       "      <td>0</td>\n",
       "      <td>1933</td>\n",
       "      <td>0</td>\n",
       "      <td>98028</td>\n",
       "      <td>47.74</td>\n",
       "      <td>-122.23</td>\n",
       "      <td>233.77</td>\n",
       "      <td>225.14</td>\n",
       "      <td>26</td>\n",
       "    </tr>\n",
       "    <tr>\n",
       "      <th>3</th>\n",
       "      <td>2487200875</td>\n",
       "      <td>2014-12-09</td>\n",
       "      <td>604000.00</td>\n",
       "      <td>4</td>\n",
       "      <td>3.00</td>\n",
       "      <td>1960</td>\n",
       "      <td>5000</td>\n",
       "      <td>1.00</td>\n",
       "      <td>no</td>\n",
       "      <td>0</td>\n",
       "      <td>5</td>\n",
       "      <td>7</td>\n",
       "      <td>1050</td>\n",
       "      <td>910</td>\n",
       "      <td>1965</td>\n",
       "      <td>0</td>\n",
       "      <td>98136</td>\n",
       "      <td>47.52</td>\n",
       "      <td>-122.39</td>\n",
       "      <td>308.16</td>\n",
       "      <td>337.22</td>\n",
       "      <td>53</td>\n",
       "    </tr>\n",
       "    <tr>\n",
       "      <th>4</th>\n",
       "      <td>1954400510</td>\n",
       "      <td>2015-02-18</td>\n",
       "      <td>510000.00</td>\n",
       "      <td>3</td>\n",
       "      <td>2.00</td>\n",
       "      <td>1680</td>\n",
       "      <td>8080</td>\n",
       "      <td>1.00</td>\n",
       "      <td>no</td>\n",
       "      <td>0</td>\n",
       "      <td>3</td>\n",
       "      <td>8</td>\n",
       "      <td>1680</td>\n",
       "      <td>0</td>\n",
       "      <td>1987</td>\n",
       "      <td>0</td>\n",
       "      <td>98074</td>\n",
       "      <td>47.62</td>\n",
       "      <td>-122.05</td>\n",
       "      <td>303.57</td>\n",
       "      <td>265.67</td>\n",
       "      <td>38</td>\n",
       "    </tr>\n",
       "  </tbody>\n",
       "</table>\n",
       "</div>"
      ],
      "text/plain": [
       "           id       date     price  bedrooms  bathrooms  area  sqft_lot  floors waterfront  view  condition  grade  sqft_above  sqft_basement  yr_built  yr_renovated  zipcode   lat    long  price_area  zipcode_price  location\n",
       "0  7129300520 2014-10-13 221900.00         3       1.00  1180      5650    1.00         no     0          3      7        1180              0      1955             0    98178 47.51 -122.26      188.05         189.17        17\n",
       "1  6414100192 2014-12-09 538000.00         3       2.25  2570      7242    2.00         no     0          3      7        2170            400      1951          1991    98125 47.72 -122.32      209.34         282.67        45\n",
       "2  5631500400 2015-02-25 180000.00         2       1.00   770     10000    1.00         no     0          3      6         770              0      1933             0    98028 47.74 -122.23      233.77         225.14        26\n",
       "3  2487200875 2014-12-09 604000.00         4       3.00  1960      5000    1.00         no     0          5      7        1050            910      1965             0    98136 47.52 -122.39      308.16         337.22        53\n",
       "4  1954400510 2015-02-18 510000.00         3       2.00  1680      8080    1.00         no     0          3      8        1680              0      1987             0    98074 47.62 -122.05      303.57         265.67        38"
      ]
     },
     "execution_count": 42,
     "metadata": {},
     "output_type": "execute_result"
    }
   ],
   "source": [
    "df4 = pd.merge(df4, zipcode_df[['zipcode', 'location']], how='left', on='zipcode' )\n",
    "df4.head()"
   ]
  },
  {
   "cell_type": "code",
   "execution_count": 43,
   "id": "f7a10a7a",
   "metadata": {
    "ExecuteTime": {
     "end_time": "2021-08-30T14:15:21.656663Z",
     "start_time": "2021-08-30T14:15:21.641670Z"
    }
   },
   "outputs": [
    {
     "data": {
      "text/plain": [
       "id               0\n",
       "date             0\n",
       "price            0\n",
       "bedrooms         0\n",
       "bathrooms        0\n",
       "area             0\n",
       "sqft_lot         0\n",
       "floors           0\n",
       "waterfront       0\n",
       "view             0\n",
       "condition        0\n",
       "grade            0\n",
       "sqft_above       0\n",
       "sqft_basement    0\n",
       "yr_built         0\n",
       "yr_renovated     0\n",
       "zipcode          0\n",
       "lat              0\n",
       "long             0\n",
       "price_area       0\n",
       "zipcode_price    0\n",
       "location         0\n",
       "dtype: int64"
      ]
     },
     "execution_count": 43,
     "metadata": {},
     "output_type": "execute_result"
    }
   ],
   "source": [
    "df4.isna().sum()"
   ]
  },
  {
   "cell_type": "markdown",
   "id": "54b440c4",
   "metadata": {
    "ExecuteTime": {
     "end_time": "2021-08-12T20:13:23.359407Z",
     "start_time": "2021-08-12T20:13:23.347404Z"
    }
   },
   "source": [
    "## Trimester"
   ]
  },
  {
   "cell_type": "code",
   "execution_count": 44,
   "id": "b217af92",
   "metadata": {
    "ExecuteTime": {
     "end_time": "2021-08-30T14:15:21.672620Z",
     "start_time": "2021-08-30T14:15:21.657627Z"
    }
   },
   "outputs": [
    {
     "name": "stdout",
     "output_type": "stream",
     "text": [
      "Dataset goes since 2014-05-02 00:00:00 to 2015-05-27 00:00:00.\n"
     ]
    }
   ],
   "source": [
    "print('Dataset goes since {} to {}.'.format(df4['date'].min(),df4['date'].max()) )"
   ]
  },
  {
   "cell_type": "code",
   "execution_count": 45,
   "id": "30d9c918",
   "metadata": {
    "ExecuteTime": {
     "end_time": "2021-08-30T14:15:21.688543Z",
     "start_time": "2021-08-30T14:15:21.673584Z"
    }
   },
   "outputs": [],
   "source": [
    "def trimester_of_year(date):\n",
    "    year = str(date.year)\n",
    "    trimesters={ 'First': pd.date_range( start='01/01/'+year, end ='31/03/' +year),\n",
    "            'Second': pd.date_range( start='01/04/'+year, end ='30/06/' +year),\n",
    "             'Third': pd.date_range( start='01/07/'+year, end ='30/09/' +year),\n",
    "            'Fourth': pd.date_range( start='01/10/'+year, end ='31/12/' +year)}\n",
    "    if date in trimesters['First']:\n",
    "        return 1.0\n",
    "    if date in trimesters['Second']:\n",
    "        return 2.0\n",
    "    if date in trimesters['Third' ]:\n",
    "        return 3.0\n",
    "    else:\n",
    "        return 4.0\n"
   ]
  },
  {
   "cell_type": "code",
   "execution_count": 46,
   "id": "c544344c",
   "metadata": {
    "ExecuteTime": {
     "end_time": "2021-08-30T14:15:31.257185Z",
     "start_time": "2021-08-30T14:15:21.689541Z"
    }
   },
   "outputs": [],
   "source": [
    "df4['trimester'] = df4['date'].map(trimester_of_year)"
   ]
  },
  {
   "cell_type": "code",
   "execution_count": 47,
   "id": "26577879",
   "metadata": {
    "ExecuteTime": {
     "end_time": "2021-08-30T14:15:31.272686Z",
     "start_time": "2021-08-30T14:15:31.259177Z"
    }
   },
   "outputs": [
    {
     "data": {
      "text/plain": [
       "id               0\n",
       "date             0\n",
       "price            0\n",
       "bedrooms         0\n",
       "bathrooms        0\n",
       "area             0\n",
       "sqft_lot         0\n",
       "floors           0\n",
       "waterfront       0\n",
       "view             0\n",
       "condition        0\n",
       "grade            0\n",
       "sqft_above       0\n",
       "sqft_basement    0\n",
       "yr_built         0\n",
       "yr_renovated     0\n",
       "zipcode          0\n",
       "lat              0\n",
       "long             0\n",
       "price_area       0\n",
       "zipcode_price    0\n",
       "location         0\n",
       "trimester        0\n",
       "dtype: int64"
      ]
     },
     "execution_count": 47,
     "metadata": {},
     "output_type": "execute_result"
    }
   ],
   "source": [
    "df4.isna().sum()"
   ]
  },
  {
   "cell_type": "code",
   "execution_count": 48,
   "id": "975a35b7",
   "metadata": {
    "ExecuteTime": {
     "end_time": "2021-08-30T14:15:31.287635Z",
     "start_time": "2021-08-30T14:15:31.273649Z"
    }
   },
   "outputs": [
    {
     "data": {
      "text/html": [
       "<div>\n",
       "<style scoped>\n",
       "    .dataframe tbody tr th:only-of-type {\n",
       "        vertical-align: middle;\n",
       "    }\n",
       "\n",
       "    .dataframe tbody tr th {\n",
       "        vertical-align: top;\n",
       "    }\n",
       "\n",
       "    .dataframe thead th {\n",
       "        text-align: right;\n",
       "    }\n",
       "</style>\n",
       "<table border=\"1\" class=\"dataframe\">\n",
       "  <thead>\n",
       "    <tr style=\"text-align: right;\">\n",
       "      <th></th>\n",
       "      <th>id</th>\n",
       "      <th>date</th>\n",
       "      <th>price</th>\n",
       "      <th>bedrooms</th>\n",
       "      <th>bathrooms</th>\n",
       "      <th>area</th>\n",
       "      <th>sqft_lot</th>\n",
       "      <th>floors</th>\n",
       "      <th>waterfront</th>\n",
       "      <th>view</th>\n",
       "      <th>condition</th>\n",
       "      <th>grade</th>\n",
       "      <th>sqft_above</th>\n",
       "      <th>sqft_basement</th>\n",
       "      <th>yr_built</th>\n",
       "      <th>yr_renovated</th>\n",
       "      <th>zipcode</th>\n",
       "      <th>lat</th>\n",
       "      <th>long</th>\n",
       "      <th>price_area</th>\n",
       "      <th>zipcode_price</th>\n",
       "      <th>location</th>\n",
       "      <th>trimester</th>\n",
       "    </tr>\n",
       "  </thead>\n",
       "  <tbody>\n",
       "    <tr>\n",
       "      <th>0</th>\n",
       "      <td>7129300520</td>\n",
       "      <td>2014-10-13</td>\n",
       "      <td>221900.00</td>\n",
       "      <td>3</td>\n",
       "      <td>1.00</td>\n",
       "      <td>1180</td>\n",
       "      <td>5650</td>\n",
       "      <td>1.00</td>\n",
       "      <td>no</td>\n",
       "      <td>0</td>\n",
       "      <td>3</td>\n",
       "      <td>7</td>\n",
       "      <td>1180</td>\n",
       "      <td>0</td>\n",
       "      <td>1955</td>\n",
       "      <td>0</td>\n",
       "      <td>98178</td>\n",
       "      <td>47.51</td>\n",
       "      <td>-122.26</td>\n",
       "      <td>188.05</td>\n",
       "      <td>189.17</td>\n",
       "      <td>17</td>\n",
       "      <td>4.00</td>\n",
       "    </tr>\n",
       "    <tr>\n",
       "      <th>1</th>\n",
       "      <td>6414100192</td>\n",
       "      <td>2014-12-09</td>\n",
       "      <td>538000.00</td>\n",
       "      <td>3</td>\n",
       "      <td>2.25</td>\n",
       "      <td>2570</td>\n",
       "      <td>7242</td>\n",
       "      <td>2.00</td>\n",
       "      <td>no</td>\n",
       "      <td>0</td>\n",
       "      <td>3</td>\n",
       "      <td>7</td>\n",
       "      <td>2170</td>\n",
       "      <td>400</td>\n",
       "      <td>1951</td>\n",
       "      <td>1991</td>\n",
       "      <td>98125</td>\n",
       "      <td>47.72</td>\n",
       "      <td>-122.32</td>\n",
       "      <td>209.34</td>\n",
       "      <td>282.67</td>\n",
       "      <td>45</td>\n",
       "      <td>4.00</td>\n",
       "    </tr>\n",
       "    <tr>\n",
       "      <th>2</th>\n",
       "      <td>5631500400</td>\n",
       "      <td>2015-02-25</td>\n",
       "      <td>180000.00</td>\n",
       "      <td>2</td>\n",
       "      <td>1.00</td>\n",
       "      <td>770</td>\n",
       "      <td>10000</td>\n",
       "      <td>1.00</td>\n",
       "      <td>no</td>\n",
       "      <td>0</td>\n",
       "      <td>3</td>\n",
       "      <td>6</td>\n",
       "      <td>770</td>\n",
       "      <td>0</td>\n",
       "      <td>1933</td>\n",
       "      <td>0</td>\n",
       "      <td>98028</td>\n",
       "      <td>47.74</td>\n",
       "      <td>-122.23</td>\n",
       "      <td>233.77</td>\n",
       "      <td>225.14</td>\n",
       "      <td>26</td>\n",
       "      <td>1.00</td>\n",
       "    </tr>\n",
       "    <tr>\n",
       "      <th>3</th>\n",
       "      <td>2487200875</td>\n",
       "      <td>2014-12-09</td>\n",
       "      <td>604000.00</td>\n",
       "      <td>4</td>\n",
       "      <td>3.00</td>\n",
       "      <td>1960</td>\n",
       "      <td>5000</td>\n",
       "      <td>1.00</td>\n",
       "      <td>no</td>\n",
       "      <td>0</td>\n",
       "      <td>5</td>\n",
       "      <td>7</td>\n",
       "      <td>1050</td>\n",
       "      <td>910</td>\n",
       "      <td>1965</td>\n",
       "      <td>0</td>\n",
       "      <td>98136</td>\n",
       "      <td>47.52</td>\n",
       "      <td>-122.39</td>\n",
       "      <td>308.16</td>\n",
       "      <td>337.22</td>\n",
       "      <td>53</td>\n",
       "      <td>4.00</td>\n",
       "    </tr>\n",
       "    <tr>\n",
       "      <th>4</th>\n",
       "      <td>1954400510</td>\n",
       "      <td>2015-02-18</td>\n",
       "      <td>510000.00</td>\n",
       "      <td>3</td>\n",
       "      <td>2.00</td>\n",
       "      <td>1680</td>\n",
       "      <td>8080</td>\n",
       "      <td>1.00</td>\n",
       "      <td>no</td>\n",
       "      <td>0</td>\n",
       "      <td>3</td>\n",
       "      <td>8</td>\n",
       "      <td>1680</td>\n",
       "      <td>0</td>\n",
       "      <td>1987</td>\n",
       "      <td>0</td>\n",
       "      <td>98074</td>\n",
       "      <td>47.62</td>\n",
       "      <td>-122.05</td>\n",
       "      <td>303.57</td>\n",
       "      <td>265.67</td>\n",
       "      <td>38</td>\n",
       "      <td>1.00</td>\n",
       "    </tr>\n",
       "  </tbody>\n",
       "</table>\n",
       "</div>"
      ],
      "text/plain": [
       "           id       date     price  bedrooms  bathrooms  area  sqft_lot  floors waterfront  view  condition  grade  sqft_above  sqft_basement  yr_built  yr_renovated  zipcode   lat    long  price_area  zipcode_price  location  trimester\n",
       "0  7129300520 2014-10-13 221900.00         3       1.00  1180      5650    1.00         no     0          3      7        1180              0      1955             0    98178 47.51 -122.26      188.05         189.17        17       4.00\n",
       "1  6414100192 2014-12-09 538000.00         3       2.25  2570      7242    2.00         no     0          3      7        2170            400      1951          1991    98125 47.72 -122.32      209.34         282.67        45       4.00\n",
       "2  5631500400 2015-02-25 180000.00         2       1.00   770     10000    1.00         no     0          3      6         770              0      1933             0    98028 47.74 -122.23      233.77         225.14        26       1.00\n",
       "3  2487200875 2014-12-09 604000.00         4       3.00  1960      5000    1.00         no     0          5      7        1050            910      1965             0    98136 47.52 -122.39      308.16         337.22        53       4.00\n",
       "4  1954400510 2015-02-18 510000.00         3       2.00  1680      8080    1.00         no     0          3      8        1680              0      1987             0    98074 47.62 -122.05      303.57         265.67        38       1.00"
      ]
     },
     "execution_count": 48,
     "metadata": {},
     "output_type": "execute_result"
    }
   ],
   "source": [
    "df4.head()"
   ]
  },
  {
   "cell_type": "markdown",
   "id": "ed611dd5",
   "metadata": {},
   "source": [
    "# Exploratory Data Analisys (EDA)"
   ]
  },
  {
   "cell_type": "code",
   "execution_count": 49,
   "id": "74540f18",
   "metadata": {
    "ExecuteTime": {
     "end_time": "2021-08-30T14:15:31.303599Z",
     "start_time": "2021-08-30T14:15:31.288608Z"
    }
   },
   "outputs": [],
   "source": [
    "df5 = df4.copy()"
   ]
  },
  {
   "cell_type": "markdown",
   "id": "8832deaa",
   "metadata": {},
   "source": [
    "## Feature filtering"
   ]
  },
  {
   "cell_type": "code",
   "execution_count": 50,
   "id": "46f5f947",
   "metadata": {
    "ExecuteTime": {
     "end_time": "2021-08-30T14:15:31.334486Z",
     "start_time": "2021-08-30T14:15:31.304564Z"
    }
   },
   "outputs": [
    {
     "data": {
      "text/html": [
       "<div>\n",
       "<style scoped>\n",
       "    .dataframe tbody tr th:only-of-type {\n",
       "        vertical-align: middle;\n",
       "    }\n",
       "\n",
       "    .dataframe tbody tr th {\n",
       "        vertical-align: top;\n",
       "    }\n",
       "\n",
       "    .dataframe thead th {\n",
       "        text-align: right;\n",
       "    }\n",
       "</style>\n",
       "<table border=\"1\" class=\"dataframe\">\n",
       "  <thead>\n",
       "    <tr style=\"text-align: right;\">\n",
       "      <th></th>\n",
       "      <th>id</th>\n",
       "      <th>date</th>\n",
       "      <th>bedrooms</th>\n",
       "      <th>bathrooms</th>\n",
       "      <th>area</th>\n",
       "      <th>floors</th>\n",
       "      <th>waterfront</th>\n",
       "      <th>view</th>\n",
       "      <th>condition</th>\n",
       "      <th>grade</th>\n",
       "      <th>yr_built</th>\n",
       "      <th>yr_renovated</th>\n",
       "      <th>zipcode</th>\n",
       "      <th>price_area</th>\n",
       "      <th>zipcode_price</th>\n",
       "      <th>location</th>\n",
       "      <th>trimester</th>\n",
       "    </tr>\n",
       "  </thead>\n",
       "  <tbody>\n",
       "    <tr>\n",
       "      <th>0</th>\n",
       "      <td>7129300520</td>\n",
       "      <td>2014-10-13</td>\n",
       "      <td>3</td>\n",
       "      <td>1.00</td>\n",
       "      <td>1180</td>\n",
       "      <td>1.00</td>\n",
       "      <td>no</td>\n",
       "      <td>0</td>\n",
       "      <td>3</td>\n",
       "      <td>7</td>\n",
       "      <td>1955</td>\n",
       "      <td>0</td>\n",
       "      <td>98178</td>\n",
       "      <td>188.05</td>\n",
       "      <td>189.17</td>\n",
       "      <td>17</td>\n",
       "      <td>4.00</td>\n",
       "    </tr>\n",
       "    <tr>\n",
       "      <th>1</th>\n",
       "      <td>6414100192</td>\n",
       "      <td>2014-12-09</td>\n",
       "      <td>3</td>\n",
       "      <td>2.25</td>\n",
       "      <td>2570</td>\n",
       "      <td>2.00</td>\n",
       "      <td>no</td>\n",
       "      <td>0</td>\n",
       "      <td>3</td>\n",
       "      <td>7</td>\n",
       "      <td>1951</td>\n",
       "      <td>1991</td>\n",
       "      <td>98125</td>\n",
       "      <td>209.34</td>\n",
       "      <td>282.67</td>\n",
       "      <td>45</td>\n",
       "      <td>4.00</td>\n",
       "    </tr>\n",
       "    <tr>\n",
       "      <th>2</th>\n",
       "      <td>5631500400</td>\n",
       "      <td>2015-02-25</td>\n",
       "      <td>2</td>\n",
       "      <td>1.00</td>\n",
       "      <td>770</td>\n",
       "      <td>1.00</td>\n",
       "      <td>no</td>\n",
       "      <td>0</td>\n",
       "      <td>3</td>\n",
       "      <td>6</td>\n",
       "      <td>1933</td>\n",
       "      <td>0</td>\n",
       "      <td>98028</td>\n",
       "      <td>233.77</td>\n",
       "      <td>225.14</td>\n",
       "      <td>26</td>\n",
       "      <td>1.00</td>\n",
       "    </tr>\n",
       "    <tr>\n",
       "      <th>3</th>\n",
       "      <td>2487200875</td>\n",
       "      <td>2014-12-09</td>\n",
       "      <td>4</td>\n",
       "      <td>3.00</td>\n",
       "      <td>1960</td>\n",
       "      <td>1.00</td>\n",
       "      <td>no</td>\n",
       "      <td>0</td>\n",
       "      <td>5</td>\n",
       "      <td>7</td>\n",
       "      <td>1965</td>\n",
       "      <td>0</td>\n",
       "      <td>98136</td>\n",
       "      <td>308.16</td>\n",
       "      <td>337.22</td>\n",
       "      <td>53</td>\n",
       "      <td>4.00</td>\n",
       "    </tr>\n",
       "    <tr>\n",
       "      <th>4</th>\n",
       "      <td>1954400510</td>\n",
       "      <td>2015-02-18</td>\n",
       "      <td>3</td>\n",
       "      <td>2.00</td>\n",
       "      <td>1680</td>\n",
       "      <td>1.00</td>\n",
       "      <td>no</td>\n",
       "      <td>0</td>\n",
       "      <td>3</td>\n",
       "      <td>8</td>\n",
       "      <td>1987</td>\n",
       "      <td>0</td>\n",
       "      <td>98074</td>\n",
       "      <td>303.57</td>\n",
       "      <td>265.67</td>\n",
       "      <td>38</td>\n",
       "      <td>1.00</td>\n",
       "    </tr>\n",
       "  </tbody>\n",
       "</table>\n",
       "</div>"
      ],
      "text/plain": [
       "           id       date  bedrooms  bathrooms  area  floors waterfront  view  condition  grade  yr_built  yr_renovated  zipcode  price_area  zipcode_price  location  trimester\n",
       "0  7129300520 2014-10-13         3       1.00  1180    1.00         no     0          3      7      1955             0    98178      188.05         189.17        17       4.00\n",
       "1  6414100192 2014-12-09         3       2.25  2570    2.00         no     0          3      7      1951          1991    98125      209.34         282.67        45       4.00\n",
       "2  5631500400 2015-02-25         2       1.00   770    1.00         no     0          3      6      1933             0    98028      233.77         225.14        26       1.00\n",
       "3  2487200875 2014-12-09         4       3.00  1960    1.00         no     0          5      7      1965             0    98136      308.16         337.22        53       4.00\n",
       "4  1954400510 2015-02-18         3       2.00  1680    1.00         no     0          3      8      1987             0    98074      303.57         265.67        38       1.00"
      ]
     },
     "execution_count": 50,
     "metadata": {},
     "output_type": "execute_result"
    }
   ],
   "source": [
    "df5 = df5.drop(columns = ['price','sqft_lot', 'sqft_above', 'sqft_basement', 'lat', 'long'], axis=1)\n",
    "df5.head()"
   ]
  },
  {
   "cell_type": "code",
   "execution_count": 51,
   "id": "355138f0",
   "metadata": {
    "ExecuteTime": {
     "end_time": "2021-08-30T14:15:31.349446Z",
     "start_time": "2021-08-30T14:15:31.335483Z"
    }
   },
   "outputs": [],
   "source": [
    "# attributes filtering\n",
    "num_attributes = df5[['bedrooms', 'bathrooms', 'floors','area','price_area','zipcode_price']]\n",
    "\n",
    "cat_attributes = df5[['id','price_area','date','trimester', 'waterfront', 'view', 'condition', 'grade', 'yr_built', 'yr_renovated', 'location']]\n",
    "#price_area in cat_attributes just to use for comparation\n",
    "       "
   ]
  },
  {
   "cell_type": "markdown",
   "id": "08369138",
   "metadata": {
    "ExecuteTime": {
     "end_time": "2021-08-11T13:19:34.356578Z",
     "start_time": "2021-08-11T13:19:34.345640Z"
    }
   },
   "source": [
    "## Univariate Analisys"
   ]
  },
  {
   "cell_type": "markdown",
   "id": "86b905bc",
   "metadata": {
    "ExecuteTime": {
     "end_time": "2021-08-04T19:39:09.844095Z",
     "start_time": "2021-08-04T19:39:07.828Z"
    }
   },
   "source": [
    "### Numerical Attributes"
   ]
  },
  {
   "cell_type": "code",
   "execution_count": 52,
   "id": "dc563eb3",
   "metadata": {
    "ExecuteTime": {
     "end_time": "2021-08-30T14:15:31.364947Z",
     "start_time": "2021-08-30T14:15:31.352437Z"
    }
   },
   "outputs": [],
   "source": [
    "#central tendency statistics - mean, median\n",
    "ct_mean   = pd.DataFrame ( num_attributes.apply (np.mean   ) ).T\n",
    "ct_median = pd.DataFrame ( num_attributes.apply (np.median ) ).T"
   ]
  },
  {
   "cell_type": "code",
   "execution_count": 53,
   "id": "7350cae1",
   "metadata": {
    "ExecuteTime": {
     "end_time": "2021-08-30T14:15:31.395830Z",
     "start_time": "2021-08-30T14:15:31.367905Z"
    }
   },
   "outputs": [],
   "source": [
    "# dispersion statistics - standard deviation, minimum, maximum, range, skew, kurtosis\n",
    "d_std      = pd.DataFrame ( num_attributes.apply (np.std) ).T\n",
    "d_min      = pd.DataFrame ( num_attributes.apply (np.min) ).T\n",
    "d_max      = pd.DataFrame ( num_attributes.apply (np.max) ).T\n",
    "d_range    = pd.DataFrame ( num_attributes.apply ( lambda x: x.max() - x.min())).T\n",
    "d_skew     = pd.DataFrame ( num_attributes.apply ( lambda x: x.skew() ) ).T\n",
    "d_kurtosis = pd.DataFrame ( num_attributes.apply ( lambda x: x.kurtosis() ) ).T"
   ]
  },
  {
   "cell_type": "code",
   "execution_count": 54,
   "id": "69184e9d",
   "metadata": {
    "ExecuteTime": {
     "end_time": "2021-08-30T14:15:31.411789Z",
     "start_time": "2021-08-30T14:15:31.396829Z"
    }
   },
   "outputs": [
    {
     "data": {
      "text/html": [
       "<div>\n",
       "<style scoped>\n",
       "    .dataframe tbody tr th:only-of-type {\n",
       "        vertical-align: middle;\n",
       "    }\n",
       "\n",
       "    .dataframe tbody tr th {\n",
       "        vertical-align: top;\n",
       "    }\n",
       "\n",
       "    .dataframe thead th {\n",
       "        text-align: right;\n",
       "    }\n",
       "</style>\n",
       "<table border=\"1\" class=\"dataframe\">\n",
       "  <thead>\n",
       "    <tr style=\"text-align: right;\">\n",
       "      <th></th>\n",
       "      <th>attributes</th>\n",
       "      <th>min.</th>\n",
       "      <th>max</th>\n",
       "      <th>range</th>\n",
       "      <th>mean</th>\n",
       "      <th>median</th>\n",
       "      <th>std</th>\n",
       "      <th>skew</th>\n",
       "      <th>kurtosis</th>\n",
       "    </tr>\n",
       "  </thead>\n",
       "  <tbody>\n",
       "    <tr>\n",
       "      <th>0</th>\n",
       "      <td>bedrooms</td>\n",
       "      <td>1.00</td>\n",
       "      <td>11.00</td>\n",
       "      <td>10.00</td>\n",
       "      <td>3.37</td>\n",
       "      <td>3.00</td>\n",
       "      <td>0.90</td>\n",
       "      <td>0.55</td>\n",
       "      <td>1.80</td>\n",
       "    </tr>\n",
       "    <tr>\n",
       "      <th>1</th>\n",
       "      <td>bathrooms</td>\n",
       "      <td>0.50</td>\n",
       "      <td>8.00</td>\n",
       "      <td>7.50</td>\n",
       "      <td>2.12</td>\n",
       "      <td>2.25</td>\n",
       "      <td>0.77</td>\n",
       "      <td>0.52</td>\n",
       "      <td>1.28</td>\n",
       "    </tr>\n",
       "    <tr>\n",
       "      <th>2</th>\n",
       "      <td>floors</td>\n",
       "      <td>1.00</td>\n",
       "      <td>3.50</td>\n",
       "      <td>2.50</td>\n",
       "      <td>1.49</td>\n",
       "      <td>1.50</td>\n",
       "      <td>0.54</td>\n",
       "      <td>0.61</td>\n",
       "      <td>-0.49</td>\n",
       "    </tr>\n",
       "    <tr>\n",
       "      <th>3</th>\n",
       "      <td>area</td>\n",
       "      <td>370.00</td>\n",
       "      <td>13540.00</td>\n",
       "      <td>13170.00</td>\n",
       "      <td>2080.34</td>\n",
       "      <td>1910.00</td>\n",
       "      <td>918.10</td>\n",
       "      <td>1.47</td>\n",
       "      <td>5.25</td>\n",
       "    </tr>\n",
       "    <tr>\n",
       "      <th>4</th>\n",
       "      <td>price_area</td>\n",
       "      <td>87.59</td>\n",
       "      <td>810.14</td>\n",
       "      <td>722.55</td>\n",
       "      <td>264.11</td>\n",
       "      <td>244.63</td>\n",
       "      <td>109.96</td>\n",
       "      <td>1.25</td>\n",
       "      <td>2.10</td>\n",
       "    </tr>\n",
       "    <tr>\n",
       "      <th>5</th>\n",
       "      <td>zipcode_price</td>\n",
       "      <td>148.92</td>\n",
       "      <td>568.08</td>\n",
       "      <td>419.16</td>\n",
       "      <td>264.11</td>\n",
       "      <td>262.62</td>\n",
       "      <td>81.82</td>\n",
       "      <td>0.56</td>\n",
       "      <td>-0.23</td>\n",
       "    </tr>\n",
       "  </tbody>\n",
       "</table>\n",
       "</div>"
      ],
      "text/plain": [
       "      attributes   min.      max    range    mean  median    std  skew  kurtosis\n",
       "0       bedrooms   1.00    11.00    10.00    3.37    3.00   0.90  0.55      1.80\n",
       "1      bathrooms   0.50     8.00     7.50    2.12    2.25   0.77  0.52      1.28\n",
       "2         floors   1.00     3.50     2.50    1.49    1.50   0.54  0.61     -0.49\n",
       "3           area 370.00 13540.00 13170.00 2080.34 1910.00 918.10  1.47      5.25\n",
       "4     price_area  87.59   810.14   722.55  264.11  244.63 109.96  1.25      2.10\n",
       "5  zipcode_price 148.92   568.08   419.16  264.11  262.62  81.82  0.56     -0.23"
      ]
     },
     "execution_count": 54,
     "metadata": {},
     "output_type": "execute_result"
    }
   ],
   "source": [
    "#concatenate\n",
    "df_metrics = pd.concat ([d_min,d_max,d_range,ct_mean,ct_median,d_std,d_skew,d_kurtosis]).T.reset_index()\n",
    "df_metrics.columns = ['attributes', 'min.','max','range', 'mean', 'median', 'std', 'skew', 'kurtosis']\n",
    "df_metrics"
   ]
  },
  {
   "cell_type": "code",
   "execution_count": 55,
   "id": "90267374",
   "metadata": {
    "ExecuteTime": {
     "end_time": "2021-08-30T14:15:32.060634Z",
     "start_time": "2021-08-30T14:15:31.413783Z"
    }
   },
   "outputs": [
    {
     "data": {
      "text/plain": [
       "array([[<AxesSubplot:title={'center':'price_area'}>]], dtype=object)"
      ]
     },
     "execution_count": 55,
     "metadata": {},
     "output_type": "execute_result"
    },
    {
     "data": {
      "image/png": "[encoded data removed]",
      "text/plain": [
       "<Figure size 1800x864 with 1 Axes>"
      ]
     },
     "metadata": {},
     "output_type": "display_data"
    }
   ],
   "source": [
    "df5.hist(column='price_area', bins=100)"
   ]
  },
  {
   "cell_type": "code",
   "execution_count": 105,
   "id": "324dad0a",
   "metadata": {
    "ExecuteTime": {
     "end_time": "2021-08-30T14:19:59.936791Z",
     "start_time": "2021-08-30T14:19:59.761280Z"
    }
   },
   "outputs": [
    {
     "data": {
      "text/plain": [
       "array([[<AxesSubplot:title={'center':'zipcode_price'}>]], dtype=object)"
      ]
     },
     "execution_count": 105,
     "metadata": {},
     "output_type": "execute_result"
    },
    {
     "data": {
      "image/png": "[encoded data removed]",
      "text/plain": [
       "<Figure size 1800x864 with 1 Axes>"
      ]
     },
     "metadata": {},
     "output_type": "display_data"
    }
   ],
   "source": [
    "df5.hist(column='zipcode_price')"
   ]
  },
  {
   "cell_type": "code",
   "execution_count": 56,
   "id": "90514b4b",
   "metadata": {
    "ExecuteTime": {
     "end_time": "2021-08-30T14:15:32.108506Z",
     "start_time": "2021-08-30T14:15:32.061634Z"
    }
   },
   "outputs": [
    {
     "data": {
      "text/html": [
       "<div>\n",
       "<style scoped>\n",
       "    .dataframe tbody tr th:only-of-type {\n",
       "        vertical-align: middle;\n",
       "    }\n",
       "\n",
       "    .dataframe tbody tr th {\n",
       "        vertical-align: top;\n",
       "    }\n",
       "\n",
       "    .dataframe thead th {\n",
       "        text-align: right;\n",
       "    }\n",
       "</style>\n",
       "<table border=\"1\" class=\"dataframe\">\n",
       "  <thead>\n",
       "    <tr style=\"text-align: right;\">\n",
       "      <th></th>\n",
       "      <th>count</th>\n",
       "      <th>mean</th>\n",
       "      <th>std</th>\n",
       "      <th>min</th>\n",
       "      <th>25%</th>\n",
       "      <th>50%</th>\n",
       "      <th>75%</th>\n",
       "      <th>max</th>\n",
       "    </tr>\n",
       "  </thead>\n",
       "  <tbody>\n",
       "    <tr>\n",
       "      <th>id</th>\n",
       "      <td>12329.00</td>\n",
       "      <td>4572869844.38</td>\n",
       "      <td>2857832630.09</td>\n",
       "      <td>1000102.00</td>\n",
       "      <td>2143700861.00</td>\n",
       "      <td>3904902510.00</td>\n",
       "      <td>7276100282.00</td>\n",
       "      <td>9900000190.00</td>\n",
       "    </tr>\n",
       "    <tr>\n",
       "      <th>bedrooms</th>\n",
       "      <td>12329.00</td>\n",
       "      <td>3.58</td>\n",
       "      <td>0.90</td>\n",
       "      <td>1.00</td>\n",
       "      <td>3.00</td>\n",
       "      <td>4.00</td>\n",
       "      <td>4.00</td>\n",
       "      <td>11.00</td>\n",
       "    </tr>\n",
       "    <tr>\n",
       "      <th>bathrooms</th>\n",
       "      <td>12329.00</td>\n",
       "      <td>2.25</td>\n",
       "      <td>0.72</td>\n",
       "      <td>0.50</td>\n",
       "      <td>1.75</td>\n",
       "      <td>2.50</td>\n",
       "      <td>2.50</td>\n",
       "      <td>8.00</td>\n",
       "    </tr>\n",
       "    <tr>\n",
       "      <th>area</th>\n",
       "      <td>12329.00</td>\n",
       "      <td>2280.80</td>\n",
       "      <td>840.72</td>\n",
       "      <td>430.00</td>\n",
       "      <td>1690.00</td>\n",
       "      <td>2150.00</td>\n",
       "      <td>2730.00</td>\n",
       "      <td>13540.00</td>\n",
       "    </tr>\n",
       "    <tr>\n",
       "      <th>floors</th>\n",
       "      <td>12329.00</td>\n",
       "      <td>1.55</td>\n",
       "      <td>0.55</td>\n",
       "      <td>1.00</td>\n",
       "      <td>1.00</td>\n",
       "      <td>1.50</td>\n",
       "      <td>2.00</td>\n",
       "      <td>3.50</td>\n",
       "    </tr>\n",
       "    <tr>\n",
       "      <th>view</th>\n",
       "      <td>12329.00</td>\n",
       "      <td>0.16</td>\n",
       "      <td>0.61</td>\n",
       "      <td>0.00</td>\n",
       "      <td>0.00</td>\n",
       "      <td>0.00</td>\n",
       "      <td>0.00</td>\n",
       "      <td>4.00</td>\n",
       "    </tr>\n",
       "    <tr>\n",
       "      <th>condition</th>\n",
       "      <td>12329.00</td>\n",
       "      <td>3.37</td>\n",
       "      <td>0.63</td>\n",
       "      <td>1.00</td>\n",
       "      <td>3.00</td>\n",
       "      <td>3.00</td>\n",
       "      <td>4.00</td>\n",
       "      <td>5.00</td>\n",
       "    </tr>\n",
       "    <tr>\n",
       "      <th>grade</th>\n",
       "      <td>12329.00</td>\n",
       "      <td>7.69</td>\n",
       "      <td>1.08</td>\n",
       "      <td>4.00</td>\n",
       "      <td>7.00</td>\n",
       "      <td>8.00</td>\n",
       "      <td>8.00</td>\n",
       "      <td>13.00</td>\n",
       "    </tr>\n",
       "    <tr>\n",
       "      <th>yr_built</th>\n",
       "      <td>12329.00</td>\n",
       "      <td>1973.63</td>\n",
       "      <td>28.89</td>\n",
       "      <td>1900.00</td>\n",
       "      <td>1955.00</td>\n",
       "      <td>1978.00</td>\n",
       "      <td>1999.00</td>\n",
       "      <td>2015.00</td>\n",
       "    </tr>\n",
       "    <tr>\n",
       "      <th>yr_renovated</th>\n",
       "      <td>12329.00</td>\n",
       "      <td>74.26</td>\n",
       "      <td>377.66</td>\n",
       "      <td>0.00</td>\n",
       "      <td>0.00</td>\n",
       "      <td>0.00</td>\n",
       "      <td>0.00</td>\n",
       "      <td>2015.00</td>\n",
       "    </tr>\n",
       "    <tr>\n",
       "      <th>zipcode</th>\n",
       "      <td>12329.00</td>\n",
       "      <td>98078.76</td>\n",
       "      <td>53.61</td>\n",
       "      <td>98001.00</td>\n",
       "      <td>98033.00</td>\n",
       "      <td>98070.00</td>\n",
       "      <td>98118.00</td>\n",
       "      <td>98199.00</td>\n",
       "    </tr>\n",
       "    <tr>\n",
       "      <th>price_area</th>\n",
       "      <td>12329.00</td>\n",
       "      <td>219.64</td>\n",
       "      <td>73.96</td>\n",
       "      <td>87.59</td>\n",
       "      <td>158.88</td>\n",
       "      <td>211.73</td>\n",
       "      <td>264.82</td>\n",
       "      <td>565.36</td>\n",
       "    </tr>\n",
       "    <tr>\n",
       "      <th>zipcode_price</th>\n",
       "      <td>12329.00</td>\n",
       "      <td>263.78</td>\n",
       "      <td>81.31</td>\n",
       "      <td>148.92</td>\n",
       "      <td>189.17</td>\n",
       "      <td>262.62</td>\n",
       "      <td>312.24</td>\n",
       "      <td>568.08</td>\n",
       "    </tr>\n",
       "    <tr>\n",
       "      <th>location</th>\n",
       "      <td>12329.00</td>\n",
       "      <td>34.51</td>\n",
       "      <td>19.51</td>\n",
       "      <td>0.00</td>\n",
       "      <td>17.00</td>\n",
       "      <td>37.00</td>\n",
       "      <td>51.00</td>\n",
       "      <td>69.00</td>\n",
       "    </tr>\n",
       "    <tr>\n",
       "      <th>trimester</th>\n",
       "      <td>12329.00</td>\n",
       "      <td>2.58</td>\n",
       "      <td>1.03</td>\n",
       "      <td>1.00</td>\n",
       "      <td>2.00</td>\n",
       "      <td>3.00</td>\n",
       "      <td>3.00</td>\n",
       "      <td>4.00</td>\n",
       "    </tr>\n",
       "  </tbody>\n",
       "</table>\n",
       "</div>"
      ],
      "text/plain": [
       "                 count          mean           std        min           25%           50%           75%           max\n",
       "id            12329.00 4572869844.38 2857832630.09 1000102.00 2143700861.00 3904902510.00 7276100282.00 9900000190.00\n",
       "bedrooms      12329.00          3.58          0.90       1.00          3.00          4.00          4.00         11.00\n",
       "bathrooms     12329.00          2.25          0.72       0.50          1.75          2.50          2.50          8.00\n",
       "area          12329.00       2280.80        840.72     430.00       1690.00       2150.00       2730.00      13540.00\n",
       "floors        12329.00          1.55          0.55       1.00          1.00          1.50          2.00          3.50\n",
       "view          12329.00          0.16          0.61       0.00          0.00          0.00          0.00          4.00\n",
       "condition     12329.00          3.37          0.63       1.00          3.00          3.00          4.00          5.00\n",
       "grade         12329.00          7.69          1.08       4.00          7.00          8.00          8.00         13.00\n",
       "yr_built      12329.00       1973.63         28.89    1900.00       1955.00       1978.00       1999.00       2015.00\n",
       "yr_renovated  12329.00         74.26        377.66       0.00          0.00          0.00          0.00       2015.00\n",
       "zipcode       12329.00      98078.76         53.61   98001.00      98033.00      98070.00      98118.00      98199.00\n",
       "price_area    12329.00        219.64         73.96      87.59        158.88        211.73        264.82        565.36\n",
       "zipcode_price 12329.00        263.78         81.31     148.92        189.17        262.62        312.24        568.08\n",
       "location      12329.00         34.51         19.51       0.00         17.00         37.00         51.00         69.00\n",
       "trimester     12329.00          2.58          1.03       1.00          2.00          3.00          3.00          4.00"
      ]
     },
     "execution_count": 56,
     "metadata": {},
     "output_type": "execute_result"
    }
   ],
   "source": [
    "#statistics of the houses below the average price \n",
    "below_median = df5[df5['price_area'] < df5['zipcode_price']]\n",
    "below_median.describe().T"
   ]
  },
  {
   "cell_type": "markdown",
   "id": "207eba11",
   "metadata": {
    "ExecuteTime": {
     "end_time": "2021-08-04T19:39:09.845093Z",
     "start_time": "2021-08-04T19:39:07.830Z"
    }
   },
   "source": [
    "### Categorical Attributes"
   ]
  },
  {
   "cell_type": "code",
   "execution_count": 57,
   "id": "38ff4d53",
   "metadata": {
    "ExecuteTime": {
     "end_time": "2021-08-30T14:15:32.124464Z",
     "start_time": "2021-08-30T14:15:32.109504Z"
    },
    "scrolled": false
   },
   "outputs": [
    {
     "data": {
      "text/html": [
       "<div>\n",
       "<style scoped>\n",
       "    .dataframe tbody tr th:only-of-type {\n",
       "        vertical-align: middle;\n",
       "    }\n",
       "\n",
       "    .dataframe tbody tr th {\n",
       "        vertical-align: top;\n",
       "    }\n",
       "\n",
       "    .dataframe thead th {\n",
       "        text-align: right;\n",
       "    }\n",
       "</style>\n",
       "<table border=\"1\" class=\"dataframe\">\n",
       "  <thead>\n",
       "    <tr style=\"text-align: right;\">\n",
       "      <th></th>\n",
       "      <th>id</th>\n",
       "      <th>price_area</th>\n",
       "      <th>date</th>\n",
       "      <th>trimester</th>\n",
       "      <th>waterfront</th>\n",
       "      <th>view</th>\n",
       "      <th>condition</th>\n",
       "      <th>grade</th>\n",
       "      <th>yr_built</th>\n",
       "      <th>yr_renovated</th>\n",
       "      <th>location</th>\n",
       "    </tr>\n",
       "  </thead>\n",
       "  <tbody>\n",
       "    <tr>\n",
       "      <th>0</th>\n",
       "      <td>7129300520</td>\n",
       "      <td>188.05</td>\n",
       "      <td>2014-10-13</td>\n",
       "      <td>4.00</td>\n",
       "      <td>no</td>\n",
       "      <td>0</td>\n",
       "      <td>3</td>\n",
       "      <td>7</td>\n",
       "      <td>1955</td>\n",
       "      <td>0</td>\n",
       "      <td>17</td>\n",
       "    </tr>\n",
       "    <tr>\n",
       "      <th>1</th>\n",
       "      <td>6414100192</td>\n",
       "      <td>209.34</td>\n",
       "      <td>2014-12-09</td>\n",
       "      <td>4.00</td>\n",
       "      <td>no</td>\n",
       "      <td>0</td>\n",
       "      <td>3</td>\n",
       "      <td>7</td>\n",
       "      <td>1951</td>\n",
       "      <td>1991</td>\n",
       "      <td>45</td>\n",
       "    </tr>\n",
       "    <tr>\n",
       "      <th>2</th>\n",
       "      <td>5631500400</td>\n",
       "      <td>233.77</td>\n",
       "      <td>2015-02-25</td>\n",
       "      <td>1.00</td>\n",
       "      <td>no</td>\n",
       "      <td>0</td>\n",
       "      <td>3</td>\n",
       "      <td>6</td>\n",
       "      <td>1933</td>\n",
       "      <td>0</td>\n",
       "      <td>26</td>\n",
       "    </tr>\n",
       "    <tr>\n",
       "      <th>3</th>\n",
       "      <td>2487200875</td>\n",
       "      <td>308.16</td>\n",
       "      <td>2014-12-09</td>\n",
       "      <td>4.00</td>\n",
       "      <td>no</td>\n",
       "      <td>0</td>\n",
       "      <td>5</td>\n",
       "      <td>7</td>\n",
       "      <td>1965</td>\n",
       "      <td>0</td>\n",
       "      <td>53</td>\n",
       "    </tr>\n",
       "    <tr>\n",
       "      <th>4</th>\n",
       "      <td>1954400510</td>\n",
       "      <td>303.57</td>\n",
       "      <td>2015-02-18</td>\n",
       "      <td>1.00</td>\n",
       "      <td>no</td>\n",
       "      <td>0</td>\n",
       "      <td>3</td>\n",
       "      <td>8</td>\n",
       "      <td>1987</td>\n",
       "      <td>0</td>\n",
       "      <td>38</td>\n",
       "    </tr>\n",
       "  </tbody>\n",
       "</table>\n",
       "</div>"
      ],
      "text/plain": [
       "           id  price_area       date  trimester waterfront  view  condition  grade  yr_built  yr_renovated  location\n",
       "0  7129300520      188.05 2014-10-13       4.00         no     0          3      7      1955             0        17\n",
       "1  6414100192      209.34 2014-12-09       4.00         no     0          3      7      1951          1991        45\n",
       "2  5631500400      233.77 2015-02-25       1.00         no     0          3      6      1933             0        26\n",
       "3  2487200875      308.16 2014-12-09       4.00         no     0          5      7      1965             0        53\n",
       "4  1954400510      303.57 2015-02-18       1.00         no     0          3      8      1987             0        38"
      ]
     },
     "execution_count": 57,
     "metadata": {},
     "output_type": "execute_result"
    }
   ],
   "source": [
    "cat_attributes.head()"
   ]
  },
  {
   "cell_type": "code",
   "execution_count": 58,
   "id": "8faa0c01",
   "metadata": {
    "ExecuteTime": {
     "end_time": "2021-08-30T14:15:32.140463Z",
     "start_time": "2021-08-30T14:15:32.125462Z"
    }
   },
   "outputs": [],
   "source": [
    "total_houses = df5.shape[0]\n",
    "\n",
    "wf_number    = cat_attributes [ cat_attributes ['waterfront'] == 'yes'].shape[0]\n",
    "\n",
    "lqd_number   = cat_attributes [ cat_attributes ['grade'] <=3 ].shape[0]\n",
    "\n",
    "hq_number    = cat_attributes [ cat_attributes ['grade'] >= 11].shape[0]\n",
    "\n",
    "avgq_number  = total_houses - lqd_number - hq_number"
   ]
  },
  {
   "cell_type": "code",
   "execution_count": 59,
   "id": "b9c79211",
   "metadata": {
    "ExecuteTime": {
     "end_time": "2021-08-30T14:15:32.156380Z",
     "start_time": "2021-08-30T14:15:32.141419Z"
    },
    "scrolled": true
   },
   "outputs": [
    {
     "name": "stdout",
     "output_type": "stream",
     "text": [
      "Dataset has 163 houses with waterview, what corresponding to 0.75 % of the dataset\n",
      "\n",
      "Dataset has 1 houses with low quality design , what corresponding to 0.00 % of the dataset\n",
      "\n",
      "Dataset has 21094 houses with average quality design , what corresponding to 97.68 % of the dataset\n",
      "\n",
      "Dataset has 501 houses with high quality design , what corresponding to 2.32 % of the dataset\n"
     ]
    }
   ],
   "source": [
    "print ( 'Dataset has {} houses with waterview, what corresponding to {:.2f} % of the dataset\\n' .format( wf_number, (wf_number/total_houses)*100))\n",
    "print ( 'Dataset has {} houses with low quality design , what corresponding to {:.2f} % of the dataset\\n' .format( lqd_number, (lqd_number/total_houses)*100))\n",
    "print ( 'Dataset has {} houses with average quality design , what corresponding to {:.2f} % of the dataset\\n' .format( avgq_number, (avgq_number/total_houses)*100))\n",
    "print ( 'Dataset has {} houses with high quality design , what corresponding to {:.2f} % of the dataset' .format( hq_number, (hq_number/total_houses)*100))"
   ]
  },
  {
   "cell_type": "markdown",
   "id": "f01971fb",
   "metadata": {},
   "source": [
    "## Bivariate Analysis"
   ]
  },
  {
   "cell_type": "markdown",
   "id": "ddce75d6",
   "metadata": {
    "ExecuteTime": {
     "end_time": "2021-08-30T13:48:53.022837Z",
     "start_time": "2021-08-30T13:48:53.002724Z"
    }
   },
   "source": [
    "### Numerical attributes"
   ]
  },
  {
   "cell_type": "markdown",
   "id": "8791c5f1",
   "metadata": {
    "ExecuteTime": {
     "end_time": "2021-08-25T13:31:33.096878Z",
     "start_time": "2021-08-25T13:31:33.085871Z"
    }
   },
   "source": [
    "### Price variation with number of bedrooms"
   ]
  },
  {
   "cell_type": "code",
   "execution_count": 106,
   "id": "78b416ae",
   "metadata": {
    "ExecuteTime": {
     "end_time": "2021-08-30T14:22:59.090905Z",
     "start_time": "2021-08-30T14:22:58.799492Z"
    }
   },
   "outputs": [
    {
     "data": {
      "image/png": "[encoded data removed]",
      "text/plain": [
       "<Figure size 1800x864 with 1 Axes>"
      ]
     },
     "metadata": {},
     "output_type": "display_data"
    }
   ],
   "source": [
    "aux57 = num_attributes[['price_area','bedrooms']].groupby('bedrooms').mean().reset_index()\n",
    "sns.barplot(x='bedrooms', y='price_area', data = aux57).set_title('Average price  X Number of bedrooms');\n",
    "plt.savefig(r'../reports/figures/avg_price_per__bedrooms.png')"
   ]
  },
  {
   "cell_type": "markdown",
   "id": "b6a804cb",
   "metadata": {},
   "source": [
    "### Price variation with number of bathrooms"
   ]
  },
  {
   "cell_type": "code",
   "execution_count": 107,
   "id": "e0f72702",
   "metadata": {
    "ExecuteTime": {
     "end_time": "2021-08-30T14:23:08.744314Z",
     "start_time": "2021-08-30T14:23:08.284513Z"
    }
   },
   "outputs": [
    {
     "data": {
      "image/png": "[encoded data removed]",
      "text/plain": [
       "<Figure size 1800x864 with 1 Axes>"
      ]
     },
     "metadata": {},
     "output_type": "display_data"
    }
   ],
   "source": [
    "aux57 = num_attributes[['price_area','bathrooms']].groupby('bathrooms').mean().reset_index()\n",
    "sns.barplot(x='bathrooms', y='price_area', data = aux57).set_title('Average price  X Number of bathrooms');\n",
    "plt.savefig(r'../reports/figures/avg_price_per__bathrooms.png')"
   ]
  },
  {
   "cell_type": "markdown",
   "id": "2bbec92b",
   "metadata": {},
   "source": [
    "### Price variation with number of floors"
   ]
  },
  {
   "cell_type": "code",
   "execution_count": 63,
   "id": "b0f74589",
   "metadata": {
    "ExecuteTime": {
     "end_time": "2021-08-30T14:15:33.229953Z",
     "start_time": "2021-08-30T14:15:32.976945Z"
    }
   },
   "outputs": [
    {
     "data": {
      "image/png": "[encoded data removed]",
      "text/plain": [
       "<Figure size 1800x864 with 1 Axes>"
      ]
     },
     "metadata": {},
     "output_type": "display_data"
    }
   ],
   "source": [
    "aux57 = num_attributes[['price_area','floors']].groupby('floors').mean().reset_index()\n",
    "sns.barplot(x='floors', y='price_area', data = aux57).set_title('Average price  X Number of floors');\n",
    "plt.savefig(r'../reports/figures/avg_price_per__floors.png')"
   ]
  },
  {
   "cell_type": "markdown",
   "id": "9d7c9b55",
   "metadata": {
    "heading_collapsed": true
   },
   "source": [
    "### Categorical attibutes"
   ]
  },
  {
   "cell_type": "code",
   "execution_count": 65,
   "id": "6b4290e8",
   "metadata": {
    "ExecuteTime": {
     "end_time": "2021-08-30T14:15:59.146118Z",
     "start_time": "2021-08-30T14:15:58.582909Z"
    },
    "hidden": true
   },
   "outputs": [
    {
     "data": {
      "text/plain": [
       "<AxesSubplot:xlabel='view', ylabel='price_area'>"
      ]
     },
     "execution_count": 65,
     "metadata": {},
     "output_type": "execute_result"
    },
    {
     "data": {
      "image/png": "[encoded data removed]",
      "text/plain": [
       "<Figure size 1800x864 with 2 Axes>"
      ]
     },
     "metadata": {},
     "output_type": "display_data"
    }
   ],
   "source": [
    "plt.subplot (1,2,1)\n",
    "sns.boxplot ( x = 'trimester' ,   y = 'price_area', data = cat_attributes)\n",
    "plt.subplot (1,2,2) \n",
    "sns.boxplot ( x = 'view',         y = 'price_area', data = cat_attributes)"
   ]
  },
  {
   "cell_type": "code",
   "execution_count": 66,
   "id": "b9e2b664",
   "metadata": {
    "ExecuteTime": {
     "end_time": "2021-08-30T14:15:59.408779Z",
     "start_time": "2021-08-30T14:15:59.147117Z"
    },
    "hidden": true
   },
   "outputs": [
    {
     "data": {
      "text/plain": [
       "<AxesSubplot:xlabel='condition', ylabel='price_area'>"
      ]
     },
     "execution_count": 66,
     "metadata": {},
     "output_type": "execute_result"
    },
    {
     "data": {
      "image/png": "[encoded data removed]",
      "text/plain": [
       "<Figure size 1800x864 with 1 Axes>"
      ]
     },
     "metadata": {},
     "output_type": "display_data"
    }
   ],
   "source": [
    "sns.boxplot ( x = 'condition',    y = 'price_area', data = cat_attributes)"
   ]
  },
  {
   "cell_type": "code",
   "execution_count": 67,
   "id": "b029c7a4",
   "metadata": {
    "ExecuteTime": {
     "end_time": "2021-08-30T14:15:59.756091Z",
     "start_time": "2021-08-30T14:15:59.411767Z"
    },
    "hidden": true
   },
   "outputs": [
    {
     "data": {
      "text/plain": [
       "<AxesSubplot:xlabel='grade', ylabel='price_area'>"
      ]
     },
     "execution_count": 67,
     "metadata": {},
     "output_type": "execute_result"
    },
    {
     "data": {
      "image/png": "[encoded data removed]",
      "text/plain": [
       "<Figure size 1800x864 with 1 Axes>"
      ]
     },
     "metadata": {},
     "output_type": "display_data"
    }
   ],
   "source": [
    "sns.boxplot ( x = 'grade',        y = 'price_area', data = cat_attributes)"
   ]
  },
  {
   "cell_type": "code",
   "execution_count": 68,
   "id": "9c8c2ae5",
   "metadata": {
    "ExecuteTime": {
     "end_time": "2021-08-30T14:16:02.796137Z",
     "start_time": "2021-08-30T14:15:59.769186Z"
    },
    "hidden": true
   },
   "outputs": [
    {
     "data": {
      "text/plain": [
       "<AxesSubplot:xlabel='yr_built', ylabel='price_area'>"
      ]
     },
     "execution_count": 68,
     "metadata": {},
     "output_type": "execute_result"
    },
    {
     "data": {
      "image/png": "[encoded data removed]",
      "text/plain": [
       "<Figure size 1800x864 with 1 Axes>"
      ]
     },
     "metadata": {},
     "output_type": "display_data"
    }
   ],
   "source": [
    "sns.boxplot ( x = 'yr_built',     y = 'price_area', data = cat_attributes)"
   ]
  },
  {
   "cell_type": "code",
   "execution_count": 69,
   "id": "795d6454",
   "metadata": {
    "ExecuteTime": {
     "end_time": "2021-08-30T14:16:04.630795Z",
     "start_time": "2021-08-30T14:16:02.797935Z"
    },
    "hidden": true
   },
   "outputs": [
    {
     "data": {
      "text/plain": [
       "<AxesSubplot:xlabel='yr_renovated', ylabel='price_area'>"
      ]
     },
     "execution_count": 69,
     "metadata": {},
     "output_type": "execute_result"
    },
    {
     "data": {
      "image/png": "[encoded data removed]",
      "text/plain": [
       "<Figure size 1800x864 with 1 Axes>"
      ]
     },
     "metadata": {},
     "output_type": "display_data"
    }
   ],
   "source": [
    "sns.boxplot ( x = 'yr_renovated', y = 'price_area', data = cat_attributes)"
   ]
  },
  {
   "cell_type": "code",
   "execution_count": 70,
   "id": "ee52e106",
   "metadata": {
    "ExecuteTime": {
     "end_time": "2021-08-30T14:16:06.301572Z",
     "start_time": "2021-08-30T14:16:04.634765Z"
    },
    "hidden": true
   },
   "outputs": [
    {
     "data": {
      "text/plain": [
       "<AxesSubplot:xlabel='location', ylabel='price_area'>"
      ]
     },
     "execution_count": 70,
     "metadata": {},
     "output_type": "execute_result"
    },
    {
     "data": {
      "image/png": "[encoded data removed]",
      "text/plain": [
       "<Figure size 1800x864 with 1 Axes>"
      ]
     },
     "metadata": {},
     "output_type": "display_data"
    }
   ],
   "source": [
    "sns.boxplot ( x = 'location',     y = 'price_area', data = cat_attributes)"
   ]
  },
  {
   "cell_type": "markdown",
   "id": "3b2c3dd6",
   "metadata": {
    "ExecuteTime": {
     "end_time": "2021-08-06T13:23:15.588493Z",
     "start_time": "2021-08-06T13:23:15.346147Z"
    },
    "hidden": true
   },
   "source": [
    "#### Average price for view"
   ]
  },
  {
   "cell_type": "code",
   "execution_count": 71,
   "id": "0df2f036",
   "metadata": {
    "ExecuteTime": {
     "end_time": "2021-08-30T14:16:06.547979Z",
     "start_time": "2021-08-30T14:16:06.302569Z"
    },
    "hidden": true
   },
   "outputs": [
    {
     "data": {
      "image/png": "[encoded data removed]",
      "text/plain": [
       "<Figure size 1800x864 with 1 Axes>"
      ]
     },
     "metadata": {},
     "output_type": "display_data"
    }
   ],
   "source": [
    "aux5 = cat_attributes[['price_area','view']].groupby('view').mean().reset_index()\n",
    "sns.barplot(x='view', y ='price_area', data=aux5).set_title('Average price X View')\n",
    "plt.savefig(r'../reports/figures/avg_price_view.png')"
   ]
  },
  {
   "cell_type": "markdown",
   "id": "da9355e7",
   "metadata": {
    "ExecuteTime": {
     "end_time": "2021-08-09T12:27:01.380092Z",
     "start_time": "2021-08-09T12:27:01.365133Z"
    },
    "hidden": true
   },
   "source": [
    "As we can spected, the view has a big contribuition to the price."
   ]
  },
  {
   "cell_type": "markdown",
   "id": "04c5dbf5",
   "metadata": {
    "ExecuteTime": {
     "end_time": "2021-08-09T12:45:30.706067Z",
     "start_time": "2021-08-09T12:45:30.689079Z"
    },
    "hidden": true
   },
   "source": [
    "#### Average price for grade"
   ]
  },
  {
   "cell_type": "code",
   "execution_count": 72,
   "id": "591f7eda",
   "metadata": {
    "ExecuteTime": {
     "end_time": "2021-08-30T14:16:06.831348Z",
     "start_time": "2021-08-30T14:16:06.548901Z"
    },
    "hidden": true
   },
   "outputs": [
    {
     "data": {
      "image/png": "[encoded data removed]",
      "text/plain": [
       "<Figure size 1800x864 with 1 Axes>"
      ]
     },
     "metadata": {},
     "output_type": "display_data"
    }
   ],
   "source": [
    "aux51 = cat_attributes[['price_area', 'grade']].groupby('grade').mean().reset_index()\n",
    "sns.barplot(x='grade', y='price_area', data=aux51).set_title('Average Price X Grade')\n",
    "plt.savefig(r'../reports/figures/avg_price_grade.png')"
   ]
  },
  {
   "cell_type": "markdown",
   "id": "93ae189c",
   "metadata": {
    "hidden": true
   },
   "source": [
    "There is a big elevation in the price from 7 to 8 and 12 to 13"
   ]
  },
  {
   "cell_type": "markdown",
   "id": "4f828231",
   "metadata": {
    "hidden": true
   },
   "source": [
    "#### Average price for condition"
   ]
  },
  {
   "cell_type": "code",
   "execution_count": 73,
   "id": "629e976f",
   "metadata": {
    "ExecuteTime": {
     "end_time": "2021-08-30T14:16:07.066376Z",
     "start_time": "2021-08-30T14:16:06.832191Z"
    },
    "hidden": true
   },
   "outputs": [
    {
     "data": {
      "image/png": "[encoded data removed]",
      "text/plain": [
       "<Figure size 1800x864 with 1 Axes>"
      ]
     },
     "metadata": {},
     "output_type": "display_data"
    }
   ],
   "source": [
    "aux52 = cat_attributes[['price_area', 'condition']].groupby('condition').mean().reset_index()\n",
    "sns.barplot (x='condition', y='price_area', data = aux52).set_title('Average Price X Condition');\n",
    "plt.savefig(r'../reports/figures/avg_price_condition.png')"
   ]
  },
  {
   "cell_type": "markdown",
   "id": "3895fc26",
   "metadata": {
    "ExecuteTime": {
     "end_time": "2021-08-09T12:27:01.383084Z",
     "start_time": "2021-08-09T12:26:58.085Z"
    },
    "hidden": true
   },
   "source": [
    "It seems that its more valuable buy a 2-condition house and make a lift than buy a 4-conditon one"
   ]
  },
  {
   "cell_type": "markdown",
   "id": "ada553b5",
   "metadata": {
    "ExecuteTime": {
     "end_time": "2021-08-09T12:27:01.383084Z",
     "start_time": "2021-08-09T12:26:58.088Z"
    },
    "hidden": true
   },
   "source": [
    "#### Average price per Location"
   ]
  },
  {
   "cell_type": "code",
   "execution_count": 74,
   "id": "22b4a8a2",
   "metadata": {
    "ExecuteTime": {
     "end_time": "2021-08-30T14:16:07.081173Z",
     "start_time": "2021-08-30T14:16:07.067213Z"
    },
    "hidden": true
   },
   "outputs": [
    {
     "data": {
      "text/html": [
       "<div>\n",
       "<style scoped>\n",
       "    .dataframe tbody tr th:only-of-type {\n",
       "        vertical-align: middle;\n",
       "    }\n",
       "\n",
       "    .dataframe tbody tr th {\n",
       "        vertical-align: top;\n",
       "    }\n",
       "\n",
       "    .dataframe thead th {\n",
       "        text-align: right;\n",
       "    }\n",
       "</style>\n",
       "<table border=\"1\" class=\"dataframe\">\n",
       "  <thead>\n",
       "    <tr style=\"text-align: right;\">\n",
       "      <th></th>\n",
       "      <th>location</th>\n",
       "      <th>price_area</th>\n",
       "    </tr>\n",
       "  </thead>\n",
       "  <tbody>\n",
       "    <tr>\n",
       "      <th>0</th>\n",
       "      <td>0</td>\n",
       "      <td>148.92</td>\n",
       "    </tr>\n",
       "    <tr>\n",
       "      <th>1</th>\n",
       "      <td>1</td>\n",
       "      <td>151.17</td>\n",
       "    </tr>\n",
       "    <tr>\n",
       "      <th>2</th>\n",
       "      <td>2</td>\n",
       "      <td>151.35</td>\n",
       "    </tr>\n",
       "    <tr>\n",
       "      <th>3</th>\n",
       "      <td>3</td>\n",
       "      <td>154.22</td>\n",
       "    </tr>\n",
       "    <tr>\n",
       "      <th>4</th>\n",
       "      <td>4</td>\n",
       "      <td>155.16</td>\n",
       "    </tr>\n",
       "  </tbody>\n",
       "</table>\n",
       "</div>"
      ],
      "text/plain": [
       "   location  price_area\n",
       "0         0      148.92\n",
       "1         1      151.17\n",
       "2         2      151.35\n",
       "3         3      154.22\n",
       "4         4      155.16"
      ]
     },
     "execution_count": 74,
     "metadata": {},
     "output_type": "execute_result"
    }
   ],
   "source": [
    "aux53 = cat_attributes[['price_area', 'location']].groupby('location').mean().reset_index()\n",
    "aux53 = aux53.sort_values(['price_area']).reset_index(drop=True)\n",
    "aux53.head()"
   ]
  },
  {
   "cell_type": "code",
   "execution_count": 75,
   "id": "30e05336",
   "metadata": {
    "ExecuteTime": {
     "end_time": "2021-08-30T14:16:08.312538Z",
     "start_time": "2021-08-30T14:16:07.082170Z"
    },
    "hidden": true,
    "scrolled": true
   },
   "outputs": [
    {
     "data": {
      "image/png": "[encoded data removed]",
      "text/plain": [
       "<Figure size 1800x864 with 1 Axes>"
      ]
     },
     "metadata": {},
     "output_type": "display_data"
    }
   ],
   "source": [
    "sns.barplot(x='location', y='price_area', data = aux53);"
   ]
  },
  {
   "cell_type": "markdown",
   "id": "35b24215",
   "metadata": {
    "hidden": true
   },
   "source": [
    "#### Average price per year built"
   ]
  },
  {
   "cell_type": "code",
   "execution_count": 76,
   "id": "10e89231",
   "metadata": {
    "ExecuteTime": {
     "end_time": "2021-08-30T14:16:11.340200Z",
     "start_time": "2021-08-30T14:16:08.313527Z"
    },
    "hidden": true
   },
   "outputs": [
    {
     "data": {
      "image/png": "[encoded data removed]",
      "text/plain": [
       "<Figure size 1800x864 with 1 Axes>"
      ]
     },
     "metadata": {},
     "output_type": "display_data"
    }
   ],
   "source": [
    "aux54 = cat_attributes[['price_area', 'yr_built']].groupby('yr_built').mean().reset_index()\n",
    "sns.barplot(x='yr_built', y='price_area', data = aux54).set_title('Average Price X Yr. Built');\n",
    "plt.savefig(r'../reports/figures/avg_price_yr_built')"
   ]
  },
  {
   "cell_type": "markdown",
   "id": "be33f0f1",
   "metadata": {
    "ExecuteTime": {
     "end_time": "2021-08-10T14:39:22.574759Z",
     "start_time": "2021-08-10T14:39:20.177Z"
    },
    "hidden": true
   },
   "source": [
    "#### Average price per year renovated"
   ]
  },
  {
   "cell_type": "code",
   "execution_count": 77,
   "id": "4751d2c6",
   "metadata": {
    "ExecuteTime": {
     "end_time": "2021-08-30T14:16:13.255762Z",
     "start_time": "2021-08-30T14:16:11.341156Z"
    },
    "hidden": true
   },
   "outputs": [
    {
     "data": {
      "image/png": "[encoded data removed]",
      "text/plain": [
       "<Figure size 1800x864 with 1 Axes>"
      ]
     },
     "metadata": {},
     "output_type": "display_data"
    }
   ],
   "source": [
    "aux55 = cat_attributes[['price_area', 'yr_renovated']].groupby('yr_renovated').mean().reset_index()\n",
    "sns.barplot(x='yr_renovated', y='price_area', data = aux55).set_title('Average Price X Yr. Renovated');\n",
    "plt.savefig(r'../reports/figures/avg_price_yr_renovated.png')"
   ]
  },
  {
   "cell_type": "markdown",
   "id": "34cb1317",
   "metadata": {
    "ExecuteTime": {
     "end_time": "2021-08-12T22:16:03.460138Z",
     "start_time": "2021-08-12T22:16:03.446126Z"
    },
    "hidden": true
   },
   "source": [
    "#### Number of transations for time of year"
   ]
  },
  {
   "cell_type": "code",
   "execution_count": 78,
   "id": "3287db6e",
   "metadata": {
    "ExecuteTime": {
     "end_time": "2021-08-30T14:16:13.475108Z",
     "start_time": "2021-08-30T14:16:13.256760Z"
    },
    "hidden": true
   },
   "outputs": [
    {
     "data": {
      "image/png": "[encoded data removed]",
      "text/plain": [
       "<Figure size 1800x864 with 1 Axes>"
      ]
     },
     "metadata": {},
     "output_type": "display_data"
    }
   ],
   "source": [
    "aux56 = cat_attributes[['id','trimester']].groupby('trimester').count().reset_index()\n",
    "sns.barplot(x='trimester', y='id', data = aux56).set_title('Number of transations X Time of year');\n",
    "plt.savefig(r'../reports/figures/transations_per__yr.png')"
   ]
  },
  {
   "cell_type": "markdown",
   "id": "2a587193",
   "metadata": {
    "ExecuteTime": {
     "end_time": "2021-08-23T15:10:49.556275Z",
     "start_time": "2021-08-23T15:10:49.546174Z"
    },
    "hidden": true
   },
   "source": [
    "The major part of house transations occurs in the second trimester, as the minor is in the first."
   ]
  },
  {
   "cell_type": "markdown",
   "id": "a569d25a",
   "metadata": {
    "ExecuteTime": {
     "end_time": "2021-08-25T13:37:17.679681Z",
     "start_time": "2021-08-25T13:37:17.673667Z"
    }
   },
   "source": [
    "## Mutivariated Analisys"
   ]
  },
  {
   "cell_type": "code",
   "execution_count": 79,
   "id": "0c508cc4",
   "metadata": {
    "ExecuteTime": {
     "end_time": "2021-08-30T14:16:13.491233Z",
     "start_time": "2021-08-30T14:16:13.476106Z"
    }
   },
   "outputs": [],
   "source": [
    "multi_analysis = df5.copy()\n",
    "multi_analysis.drop(labels = ['id', 'date', 'waterfront','zipcode'],axis=1, inplace=True)"
   ]
  },
  {
   "cell_type": "code",
   "execution_count": 80,
   "id": "e2df2e31",
   "metadata": {
    "ExecuteTime": {
     "end_time": "2021-08-30T14:16:14.521921Z",
     "start_time": "2021-08-30T14:16:13.492168Z"
    },
    "scrolled": false
   },
   "outputs": [
    {
     "data": {
      "image/png": "[encoded data removed]",
      "text/plain": [
       "<Figure size 1800x864 with 2 Axes>"
      ]
     },
     "metadata": {},
     "output_type": "display_data"
    }
   ],
   "source": [
    "sns.heatmap(multi_analysis.corr(), annot=True, vmin = -1, vmax=1, cmap='coolwarm')\n",
    "plt.title('\\nHEATMAP OF CORRELATIONS AMONG THE MAIN ATTRIBUTES\\n')\n",
    "plt.savefig(r'../reports/figures/corr_heatmap.png')"
   ]
  },
  {
   "cell_type": "code",
   "execution_count": 126,
   "id": "8ff8c868",
   "metadata": {
    "ExecuteTime": {
     "end_time": "2021-08-30T15:13:50.178141Z",
     "start_time": "2021-08-30T15:13:50.168124Z"
    }
   },
   "outputs": [
    {
     "name": "stdout",
     "output_type": "stream",
     "text": [
      "The most significant correlation wih the price_area is with location/zipcode_price\n"
     ]
    }
   ],
   "source": [
    "print('The most significant correlation wih the price_area is with location/zipcode_price')"
   ]
  },
  {
   "cell_type": "markdown",
   "id": "7a81c5b7",
   "metadata": {},
   "source": [
    "# Hipotesys validation"
   ]
  },
  {
   "cell_type": "code",
   "execution_count": 108,
   "id": "c568208a",
   "metadata": {
    "ExecuteTime": {
     "end_time": "2021-08-30T14:25:09.347660Z",
     "start_time": "2021-08-30T14:25:09.332668Z"
    }
   },
   "outputs": [],
   "source": [
    "df6 = df5.copy()"
   ]
  },
  {
   "cell_type": "markdown",
   "id": "8d098034",
   "metadata": {},
   "source": [
    "## Houses with waterfront are more expensive - True"
   ]
  },
  {
   "cell_type": "code",
   "execution_count": 117,
   "id": "c3e24706",
   "metadata": {
    "ExecuteTime": {
     "end_time": "2021-08-30T14:30:49.008276Z",
     "start_time": "2021-08-30T14:30:48.986338Z"
    }
   },
   "outputs": [
    {
     "name": "stdout",
     "output_type": "stream",
     "text": [
      "The average price per squarefoot of the no waterview houses is U$ 262.25\n",
      "The average price per squarefoot of the  waterview houses is U$ 508.10\n",
      "The houses with waterview are 193.74 % more expansive in average than the no-view ones\n"
     ]
    }
   ],
   "source": [
    "df_nowater = df6[df6 ['waterfront'] == 'no' ]\n",
    "df_water   = df6[df6 ['waterfront'] == 'yes']\n",
    "\n",
    "print('The average price per squarefoot of the no waterview houses is U$ {:.2f}'.format( df_nowater['price_area'].mean() ) )\n",
    "\n",
    "print('The average price per squarefoot of the  waterview houses is U$ {:.2f}'.  format( df_water  ['price_area'].mean() ) )\n",
    "\n",
    "print('The houses with waterview are {:.2f} % more expansive in average than the no-view ones'.format((df_water['price_area'].mean() / df_nowater['price_area'].mean() )*100))"
   ]
  },
  {
   "cell_type": "code",
   "execution_count": 118,
   "id": "9f38b345",
   "metadata": {
    "ExecuteTime": {
     "end_time": "2021-08-30T14:32:02.293729Z",
     "start_time": "2021-08-30T14:32:02.280765Z"
    }
   },
   "outputs": [
    {
     "name": "stdout",
     "output_type": "stream",
     "text": [
      "The average price per squarefoot of the no waterview houses that are in the same zipcode that the ones with it is U$ 282.55\n",
      "The difference remains even if we compare houses without view near the view ones.\n"
     ]
    }
   ],
   "source": [
    "#Comparing water and zipcodes\n",
    "zipcode_water = df_water['zipcode'].tolist()\n",
    "aux6 = df_nowater[df_nowater['zipcode'].isin(zipcode_water)]\n",
    "\n",
    "print('The average price per squarefoot of the no waterview houses that are in the same zipcode that the ones with it is U$ {:.2f}'.format( aux6['price_area'].mean())  )\n",
    "print('The difference remains even if we compare houses without view near the view ones.')"
   ]
  },
  {
   "cell_type": "markdown",
   "id": "afc07e2c",
   "metadata": {},
   "source": [
    "## Houses that were not renovated are cheaper - True"
   ]
  },
  {
   "cell_type": "code",
   "execution_count": 119,
   "id": "261b1314",
   "metadata": {
    "ExecuteTime": {
     "end_time": "2021-08-30T14:32:15.558704Z",
     "start_time": "2021-08-30T14:32:15.541718Z"
    }
   },
   "outputs": [],
   "source": [
    "aux6 = df6[df6['yr_renovated'] == 0]\n",
    "not_renovated_price= aux6['price_area'].mean()"
   ]
  },
  {
   "cell_type": "code",
   "execution_count": 120,
   "id": "12e2c398",
   "metadata": {
    "ExecuteTime": {
     "end_time": "2021-08-30T14:32:16.473964Z",
     "start_time": "2021-08-30T14:32:16.463991Z"
    }
   },
   "outputs": [],
   "source": [
    "aux6 = df6[df6['yr_renovated'] != 0]\n",
    "renovated_price=aux6['price_area'].mean()"
   ]
  },
  {
   "cell_type": "code",
   "execution_count": 121,
   "id": "7cefb357",
   "metadata": {
    "ExecuteTime": {
     "end_time": "2021-08-30T14:32:17.294905Z",
     "start_time": "2021-08-30T14:32:17.288886Z"
    }
   },
   "outputs": [
    {
     "name": "stdout",
     "output_type": "stream",
     "text": [
      "House that were not renovated are 22.02 % cheaper than the renovated ones\n"
     ]
    }
   ],
   "source": [
    "print('House that were not renovated are {:.2f} % cheaper than the renovated ones'.format(  ((renovated_price/not_renovated_price) - 1 )*100))"
   ]
  },
  {
   "cell_type": "markdown",
   "id": "7f8f3be9",
   "metadata": {},
   "source": [
    "## There is a time of year that more houses are sold - True"
   ]
  },
  {
   "cell_type": "code",
   "execution_count": 122,
   "id": "c4ae0b92",
   "metadata": {
    "ExecuteTime": {
     "end_time": "2021-08-30T14:32:25.397454Z",
     "start_time": "2021-08-30T14:32:25.384489Z"
    }
   },
   "outputs": [
    {
     "data": {
      "text/html": [
       "<div>\n",
       "<style scoped>\n",
       "    .dataframe tbody tr th:only-of-type {\n",
       "        vertical-align: middle;\n",
       "    }\n",
       "\n",
       "    .dataframe tbody tr th {\n",
       "        vertical-align: top;\n",
       "    }\n",
       "\n",
       "    .dataframe thead th {\n",
       "        text-align: right;\n",
       "    }\n",
       "</style>\n",
       "<table border=\"1\" class=\"dataframe\">\n",
       "  <thead>\n",
       "    <tr style=\"text-align: right;\">\n",
       "      <th></th>\n",
       "      <th>id</th>\n",
       "      <th>date</th>\n",
       "      <th>bedrooms</th>\n",
       "      <th>bathrooms</th>\n",
       "      <th>area</th>\n",
       "      <th>floors</th>\n",
       "      <th>waterfront</th>\n",
       "      <th>view</th>\n",
       "      <th>condition</th>\n",
       "      <th>grade</th>\n",
       "      <th>yr_built</th>\n",
       "      <th>yr_renovated</th>\n",
       "      <th>zipcode</th>\n",
       "      <th>price_area</th>\n",
       "      <th>zipcode_price</th>\n",
       "      <th>location</th>\n",
       "      <th>trimester</th>\n",
       "    </tr>\n",
       "  </thead>\n",
       "  <tbody>\n",
       "    <tr>\n",
       "      <th>0</th>\n",
       "      <td>7129300520</td>\n",
       "      <td>2014-10-13</td>\n",
       "      <td>3</td>\n",
       "      <td>1.00</td>\n",
       "      <td>1180</td>\n",
       "      <td>1.00</td>\n",
       "      <td>no</td>\n",
       "      <td>0</td>\n",
       "      <td>3</td>\n",
       "      <td>7</td>\n",
       "      <td>1955</td>\n",
       "      <td>0</td>\n",
       "      <td>98178</td>\n",
       "      <td>188.05</td>\n",
       "      <td>189.17</td>\n",
       "      <td>17</td>\n",
       "      <td>4.00</td>\n",
       "    </tr>\n",
       "    <tr>\n",
       "      <th>1</th>\n",
       "      <td>6414100192</td>\n",
       "      <td>2014-12-09</td>\n",
       "      <td>3</td>\n",
       "      <td>2.25</td>\n",
       "      <td>2570</td>\n",
       "      <td>2.00</td>\n",
       "      <td>no</td>\n",
       "      <td>0</td>\n",
       "      <td>3</td>\n",
       "      <td>7</td>\n",
       "      <td>1951</td>\n",
       "      <td>1991</td>\n",
       "      <td>98125</td>\n",
       "      <td>209.34</td>\n",
       "      <td>282.67</td>\n",
       "      <td>45</td>\n",
       "      <td>4.00</td>\n",
       "    </tr>\n",
       "    <tr>\n",
       "      <th>2</th>\n",
       "      <td>5631500400</td>\n",
       "      <td>2015-02-25</td>\n",
       "      <td>2</td>\n",
       "      <td>1.00</td>\n",
       "      <td>770</td>\n",
       "      <td>1.00</td>\n",
       "      <td>no</td>\n",
       "      <td>0</td>\n",
       "      <td>3</td>\n",
       "      <td>6</td>\n",
       "      <td>1933</td>\n",
       "      <td>0</td>\n",
       "      <td>98028</td>\n",
       "      <td>233.77</td>\n",
       "      <td>225.14</td>\n",
       "      <td>26</td>\n",
       "      <td>1.00</td>\n",
       "    </tr>\n",
       "    <tr>\n",
       "      <th>3</th>\n",
       "      <td>2487200875</td>\n",
       "      <td>2014-12-09</td>\n",
       "      <td>4</td>\n",
       "      <td>3.00</td>\n",
       "      <td>1960</td>\n",
       "      <td>1.00</td>\n",
       "      <td>no</td>\n",
       "      <td>0</td>\n",
       "      <td>5</td>\n",
       "      <td>7</td>\n",
       "      <td>1965</td>\n",
       "      <td>0</td>\n",
       "      <td>98136</td>\n",
       "      <td>308.16</td>\n",
       "      <td>337.22</td>\n",
       "      <td>53</td>\n",
       "      <td>4.00</td>\n",
       "    </tr>\n",
       "    <tr>\n",
       "      <th>4</th>\n",
       "      <td>1954400510</td>\n",
       "      <td>2015-02-18</td>\n",
       "      <td>3</td>\n",
       "      <td>2.00</td>\n",
       "      <td>1680</td>\n",
       "      <td>1.00</td>\n",
       "      <td>no</td>\n",
       "      <td>0</td>\n",
       "      <td>3</td>\n",
       "      <td>8</td>\n",
       "      <td>1987</td>\n",
       "      <td>0</td>\n",
       "      <td>98074</td>\n",
       "      <td>303.57</td>\n",
       "      <td>265.67</td>\n",
       "      <td>38</td>\n",
       "      <td>1.00</td>\n",
       "    </tr>\n",
       "  </tbody>\n",
       "</table>\n",
       "</div>"
      ],
      "text/plain": [
       "           id       date  bedrooms  bathrooms  area  floors waterfront  view  condition  grade  yr_built  yr_renovated  zipcode  price_area  zipcode_price  location  trimester\n",
       "0  7129300520 2014-10-13         3       1.00  1180    1.00         no     0          3      7      1955             0    98178      188.05         189.17        17       4.00\n",
       "1  6414100192 2014-12-09         3       2.25  2570    2.00         no     0          3      7      1951          1991    98125      209.34         282.67        45       4.00\n",
       "2  5631500400 2015-02-25         2       1.00   770    1.00         no     0          3      6      1933             0    98028      233.77         225.14        26       1.00\n",
       "3  2487200875 2014-12-09         4       3.00  1960    1.00         no     0          5      7      1965             0    98136      308.16         337.22        53       4.00\n",
       "4  1954400510 2015-02-18         3       2.00  1680    1.00         no     0          3      8      1987             0    98074      303.57         265.67        38       1.00"
      ]
     },
     "execution_count": 122,
     "metadata": {},
     "output_type": "execute_result"
    }
   ],
   "source": [
    "df6.head()"
   ]
  },
  {
   "cell_type": "code",
   "execution_count": 123,
   "id": "73130364",
   "metadata": {
    "ExecuteTime": {
     "end_time": "2021-08-30T14:32:27.336237Z",
     "start_time": "2021-08-30T14:32:27.320243Z"
    }
   },
   "outputs": [
    {
     "data": {
      "text/html": [
       "<div>\n",
       "<style scoped>\n",
       "    .dataframe tbody tr th:only-of-type {\n",
       "        vertical-align: middle;\n",
       "    }\n",
       "\n",
       "    .dataframe tbody tr th {\n",
       "        vertical-align: top;\n",
       "    }\n",
       "\n",
       "    .dataframe thead th {\n",
       "        text-align: right;\n",
       "    }\n",
       "</style>\n",
       "<table border=\"1\" class=\"dataframe\">\n",
       "  <thead>\n",
       "    <tr style=\"text-align: right;\">\n",
       "      <th></th>\n",
       "      <th>trimester</th>\n",
       "      <th>id</th>\n",
       "    </tr>\n",
       "  </thead>\n",
       "  <tbody>\n",
       "    <tr>\n",
       "      <th>0</th>\n",
       "      <td>1.00</td>\n",
       "      <td>4100</td>\n",
       "    </tr>\n",
       "    <tr>\n",
       "      <th>1</th>\n",
       "      <td>2.00</td>\n",
       "      <td>6820</td>\n",
       "    </tr>\n",
       "    <tr>\n",
       "      <th>2</th>\n",
       "      <td>3.00</td>\n",
       "      <td>5921</td>\n",
       "    </tr>\n",
       "    <tr>\n",
       "      <th>3</th>\n",
       "      <td>4.00</td>\n",
       "      <td>4755</td>\n",
       "    </tr>\n",
       "  </tbody>\n",
       "</table>\n",
       "</div>"
      ],
      "text/plain": [
       "   trimester    id\n",
       "0       1.00  4100\n",
       "1       2.00  6820\n",
       "2       3.00  5921\n",
       "3       4.00  4755"
      ]
     },
     "execution_count": 123,
     "metadata": {},
     "output_type": "execute_result"
    }
   ],
   "source": [
    "trimester_sales = df6[['id','trimester']].groupby('trimester').count().reset_index()\n",
    "trimester_sales"
   ]
  },
  {
   "cell_type": "code",
   "execution_count": 124,
   "id": "eb4077cb",
   "metadata": {
    "ExecuteTime": {
     "end_time": "2021-08-30T14:32:31.854223Z",
     "start_time": "2021-08-30T14:32:31.833281Z"
    }
   },
   "outputs": [
    {
     "data": {
      "text/html": [
       "<div>\n",
       "<style scoped>\n",
       "    .dataframe tbody tr th:only-of-type {\n",
       "        vertical-align: middle;\n",
       "    }\n",
       "\n",
       "    .dataframe tbody tr th {\n",
       "        vertical-align: top;\n",
       "    }\n",
       "\n",
       "    .dataframe thead th {\n",
       "        text-align: right;\n",
       "    }\n",
       "</style>\n",
       "<table border=\"1\" class=\"dataframe\">\n",
       "  <thead>\n",
       "    <tr style=\"text-align: right;\">\n",
       "      <th></th>\n",
       "      <th>trimester</th>\n",
       "      <th>id</th>\n",
       "      <th>%</th>\n",
       "    </tr>\n",
       "  </thead>\n",
       "  <tbody>\n",
       "    <tr>\n",
       "      <th>0</th>\n",
       "      <td>1.00</td>\n",
       "      <td>4100</td>\n",
       "      <td>18.98</td>\n",
       "    </tr>\n",
       "    <tr>\n",
       "      <th>1</th>\n",
       "      <td>2.00</td>\n",
       "      <td>6820</td>\n",
       "      <td>31.58</td>\n",
       "    </tr>\n",
       "    <tr>\n",
       "      <th>2</th>\n",
       "      <td>3.00</td>\n",
       "      <td>5921</td>\n",
       "      <td>27.42</td>\n",
       "    </tr>\n",
       "    <tr>\n",
       "      <th>3</th>\n",
       "      <td>4.00</td>\n",
       "      <td>4755</td>\n",
       "      <td>22.02</td>\n",
       "    </tr>\n",
       "  </tbody>\n",
       "</table>\n",
       "</div>"
      ],
      "text/plain": [
       "   trimester    id     %\n",
       "0       1.00  4100 18.98\n",
       "1       2.00  6820 31.58\n",
       "2       3.00  5921 27.42\n",
       "3       4.00  4755 22.02"
      ]
     },
     "execution_count": 124,
     "metadata": {},
     "output_type": "execute_result"
    }
   ],
   "source": [
    "trimester_sales['%'] = (trimester_sales['id'] / total_houses) * 100\n",
    "trimester_sales"
   ]
  },
  {
   "cell_type": "code",
   "execution_count": 125,
   "id": "b3bb4271",
   "metadata": {
    "ExecuteTime": {
     "end_time": "2021-08-30T14:32:35.396983Z",
     "start_time": "2021-08-30T14:32:35.385017Z"
    },
    "scrolled": true
   },
   "outputs": [
    {
     "name": "stdout",
     "output_type": "stream",
     "text": [
      "The second trimester is when most houses were sold, and the lower number of houses where negociated in the first trimester\n"
     ]
    }
   ],
   "source": [
    "print('The second trimester is when most houses were sold, and the lower number of houses where negociated in the first trimester')"
   ]
  },
  {
   "cell_type": "markdown",
   "id": "ef771d33",
   "metadata": {},
   "source": [
    "## There is a main categorical feature that raise the prices - True"
   ]
  },
  {
   "cell_type": "code",
   "execution_count": 127,
   "id": "48e36ac9",
   "metadata": {
    "ExecuteTime": {
     "end_time": "2021-08-30T15:14:06.940718Z",
     "start_time": "2021-08-30T15:14:06.934772Z"
    }
   },
   "outputs": [
    {
     "name": "stdout",
     "output_type": "stream",
     "text": [
      "The most important feature that raise the prices is the location\n"
     ]
    }
   ],
   "source": [
    "print('The most important feature that raise the prices is the location')"
   ]
  },
  {
   "cell_type": "markdown",
   "id": "980ade6c",
   "metadata": {},
   "source": [
    "## There is a main numerical feature that raise the prices - False"
   ]
  },
  {
   "cell_type": "code",
   "execution_count": 129,
   "id": "a68290fc",
   "metadata": {
    "ExecuteTime": {
     "end_time": "2021-08-30T15:16:26.112081Z",
     "start_time": "2021-08-30T15:16:26.107096Z"
    }
   },
   "outputs": [
    {
     "name": "stdout",
     "output_type": "stream",
     "text": [
      "Among the numerical attributes beyond the obvious relationship between price/area and price/location (zipcode),  there is no significant correlation with the numerical features\n"
     ]
    }
   ],
   "source": [
    "print('Among the numerical attributes beyond the obvious relationship between price/area and price/location (zipcode),  there is no significant correlation with the numerical features')"
   ]
  },
  {
   "cell_type": "markdown",
   "id": "a7513547",
   "metadata": {},
   "source": [
    "# Business Insights"
   ]
  },
  {
   "cell_type": "code",
   "execution_count": 131,
   "id": "2da45543",
   "metadata": {
    "ExecuteTime": {
     "end_time": "2021-08-30T15:17:16.989792Z",
     "start_time": "2021-08-30T15:17:16.972836Z"
    }
   },
   "outputs": [],
   "source": [
    "df7 = df6.copy()"
   ]
  },
  {
   "cell_type": "markdown",
   "id": "26fb02ea",
   "metadata": {},
   "source": [
    "## Houses with price below the average price for the zip code would be a good deal"
   ]
  },
  {
   "cell_type": "code",
   "execution_count": 156,
   "id": "8424862a",
   "metadata": {
    "ExecuteTime": {
     "end_time": "2021-08-30T15:36:44.571870Z",
     "start_time": "2021-08-30T15:36:44.561854Z"
    }
   },
   "outputs": [],
   "source": [
    "aux7 = df7[['id','price_area','area','zipcode_price', 'condition']]\n",
    "cheap_houses = aux7[aux7['price_area'] < aux7['zipcode_price']]"
   ]
  },
  {
   "cell_type": "code",
   "execution_count": 161,
   "id": "9b5a36ee",
   "metadata": {
    "ExecuteTime": {
     "end_time": "2021-08-30T15:38:28.030753Z",
     "start_time": "2021-08-30T15:38:28.019782Z"
    }
   },
   "outputs": [],
   "source": [
    "cheap_houses = cheap_houses [(cheap_houses['condition'] != 2) & (cheap_houses['condition'] != 4)]\n",
    "#houses with condition equal 2 and 4 will be retrofited before the selling"
   ]
  },
  {
   "cell_type": "code",
   "execution_count": 164,
   "id": "b9950059",
   "metadata": {
    "ExecuteTime": {
     "end_time": "2021-08-30T15:39:32.812379Z",
     "start_time": "2021-08-30T15:39:32.795384Z"
    }
   },
   "outputs": [
    {
     "data": {
      "text/html": [
       "<div>\n",
       "<style scoped>\n",
       "    .dataframe tbody tr th:only-of-type {\n",
       "        vertical-align: middle;\n",
       "    }\n",
       "\n",
       "    .dataframe tbody tr th {\n",
       "        vertical-align: top;\n",
       "    }\n",
       "\n",
       "    .dataframe thead th {\n",
       "        text-align: right;\n",
       "    }\n",
       "</style>\n",
       "<table border=\"1\" class=\"dataframe\">\n",
       "  <thead>\n",
       "    <tr style=\"text-align: right;\">\n",
       "      <th></th>\n",
       "      <th>id</th>\n",
       "      <th>price_area</th>\n",
       "      <th>area</th>\n",
       "      <th>zipcode_price</th>\n",
       "      <th>condition</th>\n",
       "      <th>profit</th>\n",
       "    </tr>\n",
       "  </thead>\n",
       "  <tbody>\n",
       "    <tr>\n",
       "      <th>0</th>\n",
       "      <td>7129300520</td>\n",
       "      <td>188.05</td>\n",
       "      <td>1180</td>\n",
       "      <td>189.17</td>\n",
       "      <td>3</td>\n",
       "      <td>1323.58</td>\n",
       "    </tr>\n",
       "    <tr>\n",
       "      <th>1</th>\n",
       "      <td>6414100192</td>\n",
       "      <td>209.34</td>\n",
       "      <td>2570</td>\n",
       "      <td>282.67</td>\n",
       "      <td>3</td>\n",
       "      <td>188461.61</td>\n",
       "    </tr>\n",
       "    <tr>\n",
       "      <th>3</th>\n",
       "      <td>2487200875</td>\n",
       "      <td>308.16</td>\n",
       "      <td>1960</td>\n",
       "      <td>337.22</td>\n",
       "      <td>5</td>\n",
       "      <td>56947.35</td>\n",
       "    </tr>\n",
       "    <tr>\n",
       "      <th>5</th>\n",
       "      <td>7237550310</td>\n",
       "      <td>226.01</td>\n",
       "      <td>5420</td>\n",
       "      <td>268.40</td>\n",
       "      <td>3</td>\n",
       "      <td>229729.01</td>\n",
       "    </tr>\n",
       "    <tr>\n",
       "      <th>6</th>\n",
       "      <td>1321400060</td>\n",
       "      <td>150.15</td>\n",
       "      <td>1715</td>\n",
       "      <td>157.11</td>\n",
       "      <td>3</td>\n",
       "      <td>11949.51</td>\n",
       "    </tr>\n",
       "  </tbody>\n",
       "</table>\n",
       "</div>"
      ],
      "text/plain": [
       "           id  price_area  area  zipcode_price  condition    profit\n",
       "0  7129300520      188.05  1180         189.17          3   1323.58\n",
       "1  6414100192      209.34  2570         282.67          3 188461.61\n",
       "3  2487200875      308.16  1960         337.22          5  56947.35\n",
       "5  7237550310      226.01  5420         268.40          3 229729.01\n",
       "6  1321400060      150.15  1715         157.11          3  11949.51"
      ]
     },
     "execution_count": 164,
     "metadata": {},
     "output_type": "execute_result"
    }
   ],
   "source": [
    "cheap_houses['profit'] = (cheap_houses['zipcode_price'] - cheap_houses['price_area']) * cheap_houses['area']\n",
    "cheap_houses.head()"
   ]
  },
  {
   "cell_type": "code",
   "execution_count": 166,
   "id": "bbce1a51",
   "metadata": {
    "ExecuteTime": {
     "end_time": "2021-08-30T15:40:25.554774Z",
     "start_time": "2021-08-30T15:40:25.536822Z"
    }
   },
   "outputs": [
    {
     "name": "stdout",
     "output_type": "stream",
     "text": [
      "There is 9254 houses who price is below the average price for its region. This houses should be bought. The gross profit is about U$ 961053665.82\n"
     ]
    }
   ],
   "source": [
    "print('There is {} houses who price is below the average price for its region. This houses should be bought. The gross profit is about U$ {:.2f}'.format(cheap_houses.shape[0], cheap_houses['profit'].sum()))"
   ]
  },
  {
   "cell_type": "markdown",
   "id": "80ba1223",
   "metadata": {},
   "source": [
    "## Houses with price equal or below the average price for the zip code AND condition equal '2' or '4' would be a good opportunity to high the grade and profit"
   ]
  },
  {
   "cell_type": "code",
   "execution_count": 168,
   "id": "3abc492d",
   "metadata": {
    "ExecuteTime": {
     "end_time": "2021-08-30T15:44:42.394330Z",
     "start_time": "2021-08-30T15:44:42.370364Z"
    }
   },
   "outputs": [
    {
     "data": {
      "text/html": [
       "<div>\n",
       "<style scoped>\n",
       "    .dataframe tbody tr th:only-of-type {\n",
       "        vertical-align: middle;\n",
       "    }\n",
       "\n",
       "    .dataframe tbody tr th {\n",
       "        vertical-align: top;\n",
       "    }\n",
       "\n",
       "    .dataframe thead th {\n",
       "        text-align: right;\n",
       "    }\n",
       "</style>\n",
       "<table border=\"1\" class=\"dataframe\">\n",
       "  <thead>\n",
       "    <tr style=\"text-align: right;\">\n",
       "      <th></th>\n",
       "      <th>id</th>\n",
       "      <th>price_area</th>\n",
       "      <th>area</th>\n",
       "      <th>zipcode_price</th>\n",
       "      <th>condition</th>\n",
       "    </tr>\n",
       "  </thead>\n",
       "  <tbody>\n",
       "    <tr>\n",
       "      <th>242</th>\n",
       "      <td>1868901275</td>\n",
       "      <td>318.18</td>\n",
       "      <td>1430</td>\n",
       "      <td>354.14</td>\n",
       "      <td>2</td>\n",
       "    </tr>\n",
       "    <tr>\n",
       "      <th>328</th>\n",
       "      <td>1665400045</td>\n",
       "      <td>186.38</td>\n",
       "      <td>1000</td>\n",
       "      <td>226.20</td>\n",
       "      <td>2</td>\n",
       "    </tr>\n",
       "    <tr>\n",
       "      <th>465</th>\n",
       "      <td>8658300340</td>\n",
       "      <td>186.05</td>\n",
       "      <td>430</td>\n",
       "      <td>223.08</td>\n",
       "      <td>2</td>\n",
       "    </tr>\n",
       "    <tr>\n",
       "      <th>702</th>\n",
       "      <td>6205500030</td>\n",
       "      <td>220.18</td>\n",
       "      <td>2180</td>\n",
       "      <td>314.93</td>\n",
       "      <td>2</td>\n",
       "    </tr>\n",
       "    <tr>\n",
       "      <th>880</th>\n",
       "      <td>2349300060</td>\n",
       "      <td>104.17</td>\n",
       "      <td>1920</td>\n",
       "      <td>337.22</td>\n",
       "      <td>2</td>\n",
       "    </tr>\n",
       "  </tbody>\n",
       "</table>\n",
       "</div>"
      ],
      "text/plain": [
       "             id  price_area  area  zipcode_price  condition\n",
       "242  1868901275      318.18  1430         354.14          2\n",
       "328  1665400045      186.38  1000         226.20          2\n",
       "465  8658300340      186.05   430         223.08          2\n",
       "702  6205500030      220.18  2180         314.93          2\n",
       "880  2349300060      104.17  1920         337.22          2"
      ]
     },
     "execution_count": 168,
     "metadata": {},
     "output_type": "execute_result"
    }
   ],
   "source": [
    "condition2 = aux7[(aux7['price_area'] <= aux7['zipcode_price']) & (aux7['condition'] == 2)]\n",
    "condition2.head()"
   ]
  },
  {
   "cell_type": "code",
   "execution_count": 174,
   "id": "55e7d24a",
   "metadata": {
    "ExecuteTime": {
     "end_time": "2021-08-30T15:48:05.522652Z",
     "start_time": "2021-08-30T15:48:05.499715Z"
    }
   },
   "outputs": [
    {
     "data": {
      "text/html": [
       "<div>\n",
       "<style scoped>\n",
       "    .dataframe tbody tr th:only-of-type {\n",
       "        vertical-align: middle;\n",
       "    }\n",
       "\n",
       "    .dataframe tbody tr th {\n",
       "        vertical-align: top;\n",
       "    }\n",
       "\n",
       "    .dataframe thead th {\n",
       "        text-align: right;\n",
       "    }\n",
       "</style>\n",
       "<table border=\"1\" class=\"dataframe\">\n",
       "  <thead>\n",
       "    <tr style=\"text-align: right;\">\n",
       "      <th></th>\n",
       "      <th>id</th>\n",
       "      <th>price_area</th>\n",
       "      <th>area</th>\n",
       "      <th>zipcode_price</th>\n",
       "      <th>condition</th>\n",
       "    </tr>\n",
       "  </thead>\n",
       "  <tbody>\n",
       "    <tr>\n",
       "      <th>12</th>\n",
       "      <td>114101516</td>\n",
       "      <td>216.78</td>\n",
       "      <td>1430</td>\n",
       "      <td>225.14</td>\n",
       "      <td>4</td>\n",
       "    </tr>\n",
       "    <tr>\n",
       "      <th>17</th>\n",
       "      <td>6865200140</td>\n",
       "      <td>303.12</td>\n",
       "      <td>1600</td>\n",
       "      <td>369.80</td>\n",
       "      <td>4</td>\n",
       "    </tr>\n",
       "    <tr>\n",
       "      <th>20</th>\n",
       "      <td>6300500875</td>\n",
       "      <td>237.65</td>\n",
       "      <td>1620</td>\n",
       "      <td>253.97</td>\n",
       "      <td>4</td>\n",
       "    </tr>\n",
       "    <tr>\n",
       "      <th>24</th>\n",
       "      <td>3814700200</td>\n",
       "      <td>134.29</td>\n",
       "      <td>2450</td>\n",
       "      <td>155.16</td>\n",
       "      <td>4</td>\n",
       "    </tr>\n",
       "    <tr>\n",
       "      <th>32</th>\n",
       "      <td>461000390</td>\n",
       "      <td>295.06</td>\n",
       "      <td>2330</td>\n",
       "      <td>363.54</td>\n",
       "      <td>4</td>\n",
       "    </tr>\n",
       "  </tbody>\n",
       "</table>\n",
       "</div>"
      ],
      "text/plain": [
       "            id  price_area  area  zipcode_price  condition\n",
       "12   114101516      216.78  1430         225.14          4\n",
       "17  6865200140      303.12  1600         369.80          4\n",
       "20  6300500875      237.65  1620         253.97          4\n",
       "24  3814700200      134.29  2450         155.16          4\n",
       "32   461000390      295.06  2330         363.54          4"
      ]
     },
     "execution_count": 174,
     "metadata": {},
     "output_type": "execute_result"
    }
   ],
   "source": [
    "condition4 = aux7[(aux7['price_area'] <= aux7['zipcode_price']) & (aux7['condition'] == 4)]\n",
    "condition4.head()"
   ]
  },
  {
   "cell_type": "code",
   "execution_count": 175,
   "id": "ad50df27",
   "metadata": {
    "ExecuteTime": {
     "end_time": "2021-08-30T15:48:09.201876Z",
     "start_time": "2021-08-30T15:48:09.193896Z"
    }
   },
   "outputs": [
    {
     "name": "stdout",
     "output_type": "stream",
     "text": [
      "There are 3075 houses whos price is below the average price for its region and the condition is equal 2 or 4.\n",
      " This houses should be bought and evaluate the retrofit to sell with a major profit.\n"
     ]
    }
   ],
   "source": [
    "print('There are {} houses whos price is below the average price for its region and the condition is equal 2 or 4.\\n This houses should be bought and evaluate the retrofit to sell with a major profit.'.format(condition2.shape[0] +condition4.shape[0]))"
   ]
  },
  {
   "cell_type": "code",
   "execution_count": null,
   "id": "3591288b",
   "metadata": {},
   "outputs": [],
   "source": [
    "print('To know how is the expectec profit, we have to compare the average price of condition 3 and 5 houses')"
   ]
  },
  {
   "cell_type": "code",
   "execution_count": 198,
   "id": "ccc6b706",
   "metadata": {
    "ExecuteTime": {
     "end_time": "2021-08-30T16:01:02.498105Z",
     "start_time": "2021-08-30T16:01:02.468154Z"
    }
   },
   "outputs": [
    {
     "data": {
      "text/html": [
       "<div>\n",
       "<style scoped>\n",
       "    .dataframe tbody tr th:only-of-type {\n",
       "        vertical-align: middle;\n",
       "    }\n",
       "\n",
       "    .dataframe tbody tr th {\n",
       "        vertical-align: top;\n",
       "    }\n",
       "\n",
       "    .dataframe thead th {\n",
       "        text-align: right;\n",
       "    }\n",
       "</style>\n",
       "<table border=\"1\" class=\"dataframe\">\n",
       "  <thead>\n",
       "    <tr style=\"text-align: right;\">\n",
       "      <th></th>\n",
       "      <th>id</th>\n",
       "      <th>date</th>\n",
       "      <th>bedrooms</th>\n",
       "      <th>bathrooms</th>\n",
       "      <th>area</th>\n",
       "      <th>floors</th>\n",
       "      <th>waterfront</th>\n",
       "      <th>view</th>\n",
       "      <th>condition</th>\n",
       "      <th>grade</th>\n",
       "      <th>yr_built</th>\n",
       "      <th>yr_renovated</th>\n",
       "      <th>zipcode</th>\n",
       "      <th>price_area</th>\n",
       "      <th>zipcode_price</th>\n",
       "      <th>location</th>\n",
       "      <th>trimester</th>\n",
       "    </tr>\n",
       "  </thead>\n",
       "  <tbody>\n",
       "    <tr>\n",
       "      <th>0</th>\n",
       "      <td>7129300520</td>\n",
       "      <td>2014-10-13</td>\n",
       "      <td>3</td>\n",
       "      <td>1.00</td>\n",
       "      <td>1180</td>\n",
       "      <td>1.00</td>\n",
       "      <td>no</td>\n",
       "      <td>0</td>\n",
       "      <td>3</td>\n",
       "      <td>7</td>\n",
       "      <td>1955</td>\n",
       "      <td>0</td>\n",
       "      <td>98178</td>\n",
       "      <td>188.05</td>\n",
       "      <td>189.17</td>\n",
       "      <td>17</td>\n",
       "      <td>4.00</td>\n",
       "    </tr>\n",
       "    <tr>\n",
       "      <th>1</th>\n",
       "      <td>6414100192</td>\n",
       "      <td>2014-12-09</td>\n",
       "      <td>3</td>\n",
       "      <td>2.25</td>\n",
       "      <td>2570</td>\n",
       "      <td>2.00</td>\n",
       "      <td>no</td>\n",
       "      <td>0</td>\n",
       "      <td>3</td>\n",
       "      <td>7</td>\n",
       "      <td>1951</td>\n",
       "      <td>1991</td>\n",
       "      <td>98125</td>\n",
       "      <td>209.34</td>\n",
       "      <td>282.67</td>\n",
       "      <td>45</td>\n",
       "      <td>4.00</td>\n",
       "    </tr>\n",
       "    <tr>\n",
       "      <th>2</th>\n",
       "      <td>5631500400</td>\n",
       "      <td>2015-02-25</td>\n",
       "      <td>2</td>\n",
       "      <td>1.00</td>\n",
       "      <td>770</td>\n",
       "      <td>1.00</td>\n",
       "      <td>no</td>\n",
       "      <td>0</td>\n",
       "      <td>3</td>\n",
       "      <td>6</td>\n",
       "      <td>1933</td>\n",
       "      <td>0</td>\n",
       "      <td>98028</td>\n",
       "      <td>233.77</td>\n",
       "      <td>225.14</td>\n",
       "      <td>26</td>\n",
       "      <td>1.00</td>\n",
       "    </tr>\n",
       "    <tr>\n",
       "      <th>4</th>\n",
       "      <td>1954400510</td>\n",
       "      <td>2015-02-18</td>\n",
       "      <td>3</td>\n",
       "      <td>2.00</td>\n",
       "      <td>1680</td>\n",
       "      <td>1.00</td>\n",
       "      <td>no</td>\n",
       "      <td>0</td>\n",
       "      <td>3</td>\n",
       "      <td>8</td>\n",
       "      <td>1987</td>\n",
       "      <td>0</td>\n",
       "      <td>98074</td>\n",
       "      <td>303.57</td>\n",
       "      <td>265.67</td>\n",
       "      <td>38</td>\n",
       "      <td>1.00</td>\n",
       "    </tr>\n",
       "    <tr>\n",
       "      <th>5</th>\n",
       "      <td>7237550310</td>\n",
       "      <td>2014-05-12</td>\n",
       "      <td>4</td>\n",
       "      <td>4.50</td>\n",
       "      <td>5420</td>\n",
       "      <td>1.00</td>\n",
       "      <td>no</td>\n",
       "      <td>0</td>\n",
       "      <td>3</td>\n",
       "      <td>11</td>\n",
       "      <td>2001</td>\n",
       "      <td>0</td>\n",
       "      <td>98053</td>\n",
       "      <td>226.01</td>\n",
       "      <td>268.40</td>\n",
       "      <td>40</td>\n",
       "      <td>2.00</td>\n",
       "    </tr>\n",
       "  </tbody>\n",
       "</table>\n",
       "</div>"
      ],
      "text/plain": [
       "           id       date  bedrooms  bathrooms  area  floors waterfront  view  condition  grade  yr_built  yr_renovated  zipcode  price_area  zipcode_price  location  trimester\n",
       "0  7129300520 2014-10-13         3       1.00  1180    1.00         no     0          3      7      1955             0    98178      188.05         189.17        17       4.00\n",
       "1  6414100192 2014-12-09         3       2.25  2570    2.00         no     0          3      7      1951          1991    98125      209.34         282.67        45       4.00\n",
       "2  5631500400 2015-02-25         2       1.00   770    1.00         no     0          3      6      1933             0    98028      233.77         225.14        26       1.00\n",
       "4  1954400510 2015-02-18         3       2.00  1680    1.00         no     0          3      8      1987             0    98074      303.57         265.67        38       1.00\n",
       "5  7237550310 2014-05-12         4       4.50  5420    1.00         no     0          3     11      2001             0    98053      226.01         268.40        40       2.00"
      ]
     },
     "execution_count": 198,
     "metadata": {},
     "output_type": "execute_result"
    }
   ],
   "source": [
    "condition3 = df7[df7['condition'] == 3]\n",
    "condition3.head()"
   ]
  },
  {
   "cell_type": "code",
   "execution_count": 211,
   "id": "165f25d7",
   "metadata": {
    "ExecuteTime": {
     "end_time": "2021-08-30T16:06:55.813981Z",
     "start_time": "2021-08-30T16:06:55.808995Z"
    }
   },
   "outputs": [
    {
     "data": {
      "text/plain": [
       "257.40836689451965"
      ]
     },
     "execution_count": 211,
     "metadata": {},
     "output_type": "execute_result"
    }
   ],
   "source": [
    "cond_3_price = condition3['price_area'].mean() # average price/area for the 3-condition houses"
   ]
  },
  {
   "cell_type": "code",
   "execution_count": 212,
   "id": "e34a9c55",
   "metadata": {
    "ExecuteTime": {
     "end_time": "2021-08-30T16:07:40.588915Z",
     "start_time": "2021-08-30T16:07:40.578943Z"
    }
   },
   "outputs": [
    {
     "name": "stderr",
     "output_type": "stream",
     "text": [
      "<ipython-input-212-b2e959ea4958>:1: SettingWithCopyWarning: \n",
      "A value is trying to be set on a copy of a slice from a DataFrame.\n",
      "Try using .loc[row_indexer,col_indexer] = value instead\n",
      "\n",
      "See the caveats in the documentation: https://pandas.pydata.org/pandas-docs/stable/user_guide/indexing.html#returning-a-view-versus-a-copy\n",
      "  condition2['avg_profit'] = condition2['price_area'].apply(lambda x: cond_3_price - x )\n"
     ]
    }
   ],
   "source": [
    "condition2['avg_profit'] = condition2['price_area'].apply(lambda x: cond_3_price - x )"
   ]
  },
  {
   "cell_type": "code",
   "execution_count": 214,
   "id": "af0d332a",
   "metadata": {
    "ExecuteTime": {
     "end_time": "2021-08-30T16:09:45.679838Z",
     "start_time": "2021-08-30T16:09:45.665876Z"
    }
   },
   "outputs": [
    {
     "data": {
      "text/html": [
       "<div>\n",
       "<style scoped>\n",
       "    .dataframe tbody tr th:only-of-type {\n",
       "        vertical-align: middle;\n",
       "    }\n",
       "\n",
       "    .dataframe tbody tr th {\n",
       "        vertical-align: top;\n",
       "    }\n",
       "\n",
       "    .dataframe thead th {\n",
       "        text-align: right;\n",
       "    }\n",
       "</style>\n",
       "<table border=\"1\" class=\"dataframe\">\n",
       "  <thead>\n",
       "    <tr style=\"text-align: right;\">\n",
       "      <th></th>\n",
       "      <th>id</th>\n",
       "      <th>date</th>\n",
       "      <th>bedrooms</th>\n",
       "      <th>bathrooms</th>\n",
       "      <th>area</th>\n",
       "      <th>floors</th>\n",
       "      <th>waterfront</th>\n",
       "      <th>view</th>\n",
       "      <th>condition</th>\n",
       "      <th>grade</th>\n",
       "      <th>yr_built</th>\n",
       "      <th>yr_renovated</th>\n",
       "      <th>zipcode</th>\n",
       "      <th>price_area</th>\n",
       "      <th>zipcode_price</th>\n",
       "      <th>location</th>\n",
       "      <th>trimester</th>\n",
       "    </tr>\n",
       "  </thead>\n",
       "  <tbody>\n",
       "    <tr>\n",
       "      <th>3</th>\n",
       "      <td>2487200875</td>\n",
       "      <td>2014-12-09</td>\n",
       "      <td>4</td>\n",
       "      <td>3.00</td>\n",
       "      <td>1960</td>\n",
       "      <td>1.00</td>\n",
       "      <td>no</td>\n",
       "      <td>0</td>\n",
       "      <td>5</td>\n",
       "      <td>7</td>\n",
       "      <td>1965</td>\n",
       "      <td>0</td>\n",
       "      <td>98136</td>\n",
       "      <td>308.16</td>\n",
       "      <td>337.22</td>\n",
       "      <td>53</td>\n",
       "      <td>4.00</td>\n",
       "    </tr>\n",
       "    <tr>\n",
       "      <th>25</th>\n",
       "      <td>1202000200</td>\n",
       "      <td>2014-11-03</td>\n",
       "      <td>3</td>\n",
       "      <td>2.00</td>\n",
       "      <td>1710</td>\n",
       "      <td>1.50</td>\n",
       "      <td>no</td>\n",
       "      <td>0</td>\n",
       "      <td>5</td>\n",
       "      <td>6</td>\n",
       "      <td>1941</td>\n",
       "      <td>0</td>\n",
       "      <td>98002</td>\n",
       "      <td>136.26</td>\n",
       "      <td>151.17</td>\n",
       "      <td>1</td>\n",
       "      <td>4.00</td>\n",
       "    </tr>\n",
       "    <tr>\n",
       "      <th>27</th>\n",
       "      <td>3303700376</td>\n",
       "      <td>2014-12-01</td>\n",
       "      <td>3</td>\n",
       "      <td>1.00</td>\n",
       "      <td>1400</td>\n",
       "      <td>1.50</td>\n",
       "      <td>no</td>\n",
       "      <td>0</td>\n",
       "      <td>5</td>\n",
       "      <td>8</td>\n",
       "      <td>1909</td>\n",
       "      <td>0</td>\n",
       "      <td>98112</td>\n",
       "      <td>476.43</td>\n",
       "      <td>438.64</td>\n",
       "      <td>67</td>\n",
       "      <td>4.00</td>\n",
       "    </tr>\n",
       "    <tr>\n",
       "      <th>49</th>\n",
       "      <td>822039084</td>\n",
       "      <td>2015-03-11</td>\n",
       "      <td>3</td>\n",
       "      <td>2.50</td>\n",
       "      <td>2753</td>\n",
       "      <td>1.00</td>\n",
       "      <td>yes</td>\n",
       "      <td>2</td>\n",
       "      <td>5</td>\n",
       "      <td>9</td>\n",
       "      <td>1953</td>\n",
       "      <td>0</td>\n",
       "      <td>98070</td>\n",
       "      <td>490.37</td>\n",
       "      <td>277.85</td>\n",
       "      <td>43</td>\n",
       "      <td>1.00</td>\n",
       "    </tr>\n",
       "    <tr>\n",
       "      <th>62</th>\n",
       "      <td>5072410070</td>\n",
       "      <td>2014-10-21</td>\n",
       "      <td>3</td>\n",
       "      <td>1.75</td>\n",
       "      <td>2519</td>\n",
       "      <td>2.00</td>\n",
       "      <td>no</td>\n",
       "      <td>0</td>\n",
       "      <td>5</td>\n",
       "      <td>8</td>\n",
       "      <td>1973</td>\n",
       "      <td>0</td>\n",
       "      <td>98166</td>\n",
       "      <td>200.48</td>\n",
       "      <td>226.20</td>\n",
       "      <td>29</td>\n",
       "      <td>4.00</td>\n",
       "    </tr>\n",
       "  </tbody>\n",
       "</table>\n",
       "</div>"
      ],
      "text/plain": [
       "            id       date  bedrooms  bathrooms  area  floors waterfront  view  condition  grade  yr_built  yr_renovated  zipcode  price_area  zipcode_price  location  trimester\n",
       "3   2487200875 2014-12-09         4       3.00  1960    1.00         no     0          5      7      1965             0    98136      308.16         337.22        53       4.00\n",
       "25  1202000200 2014-11-03         3       2.00  1710    1.50         no     0          5      6      1941             0    98002      136.26         151.17         1       4.00\n",
       "27  3303700376 2014-12-01         3       1.00  1400    1.50         no     0          5      8      1909             0    98112      476.43         438.64        67       4.00\n",
       "49   822039084 2015-03-11         3       2.50  2753    1.00        yes     2          5      9      1953             0    98070      490.37         277.85        43       1.00\n",
       "62  5072410070 2014-10-21         3       1.75  2519    2.00         no     0          5      8      1973             0    98166      200.48         226.20        29       4.00"
      ]
     },
     "execution_count": 214,
     "metadata": {},
     "output_type": "execute_result"
    }
   ],
   "source": [
    "condition5 = df7[df7['condition'] == 5]\n",
    "condition5.head()"
   ]
  },
  {
   "cell_type": "code",
   "execution_count": 215,
   "id": "00fb197b",
   "metadata": {
    "ExecuteTime": {
     "end_time": "2021-08-30T16:09:56.436040Z",
     "start_time": "2021-08-30T16:09:56.424074Z"
    }
   },
   "outputs": [],
   "source": [
    "cond_5_price = condition5['price_area'].mean() # average price/area for the 5-condition houses"
   ]
  },
  {
   "cell_type": "code",
   "execution_count": 216,
   "id": "86ac6eb0",
   "metadata": {
    "ExecuteTime": {
     "end_time": "2021-08-30T16:10:17.044390Z",
     "start_time": "2021-08-30T16:10:17.025931Z"
    }
   },
   "outputs": [
    {
     "name": "stderr",
     "output_type": "stream",
     "text": [
      "<ipython-input-216-1e2853a5f421>:1: SettingWithCopyWarning: \n",
      "A value is trying to be set on a copy of a slice from a DataFrame.\n",
      "Try using .loc[row_indexer,col_indexer] = value instead\n",
      "\n",
      "See the caveats in the documentation: https://pandas.pydata.org/pandas-docs/stable/user_guide/indexing.html#returning-a-view-versus-a-copy\n",
      "  condition4['avg_profit'] = condition4['price_area'].apply(lambda x: cond_5_price - x )\n"
     ]
    }
   ],
   "source": [
    "condition4['avg_profit'] = condition4['price_area'].apply(lambda x: cond_5_price - x )"
   ]
  },
  {
   "cell_type": "code",
   "execution_count": 221,
   "id": "6e5f8b27",
   "metadata": {
    "ExecuteTime": {
     "end_time": "2021-08-30T16:13:31.156046Z",
     "start_time": "2021-08-30T16:13:31.151059Z"
    }
   },
   "outputs": [
    {
     "name": "stdout",
     "output_type": "stream",
     "text": [
      "The profit witht the 2-condition houses is U$7940.11 and the profi with the 4 condition houses is U$ 232055.13\n"
     ]
    }
   ],
   "source": [
    "print('The profit witht the 2-condition houses is U${:.2f} and the profi with the 4 condition houses is U$ {:.2f}'. format(condition2['avg_profit'].sum(), condition4['avg_profit'].sum()))"
   ]
  },
  {
   "cell_type": "code",
   "execution_count": null,
   "id": "836ad560",
   "metadata": {},
   "outputs": [],
   "source": []
  },
  {
   "cell_type": "code",
   "execution_count": null,
   "id": "c65bb0dc",
   "metadata": {},
   "outputs": [],
   "source": []
  },
  {
   "cell_type": "markdown",
   "id": "8eba168c",
   "metadata": {
    "ExecuteTime": {
     "end_time": "2021-08-04T19:39:09.849081Z",
     "start_time": "2021-08-04T19:39:07.839Z"
    }
   },
   "source": [
    "# Conclusion"
   ]
  },
  {
   "cell_type": "markdown",
   "id": "e209edc5",
   "metadata": {},
   "source": [
    "cheap_houses relatorio de casas pra comprar e vender\n",
    "condition2 e condition 4 casas para reformar"
   ]
  },
  {
   "cell_type": "markdown",
   "id": "fab38ba6",
   "metadata": {
    "ExecuteTime": {
     "end_time": "2021-08-18T17:42:04.786934Z",
     "start_time": "2021-08-18T17:42:04.771945Z"
    }
   },
   "source": [
    "Produtos finais\n",
    "Lista de imóveis para compra com endereço (api na aula 4 1:53)\n",
    "Lista de imóveis para compra e reforma\n",
    "Mapa com todos os imóveis e diferenciando pelo preço\n",
    "App"
   ]
  },
  {
   "cell_type": "markdown",
   "id": "3f7bcaff",
   "metadata": {
    "ExecuteTime": {
     "end_time": "2021-08-04T19:39:09.850085Z",
     "start_time": "2021-08-04T19:39:07.842Z"
    }
   },
   "source": [
    "# Next steps"
   ]
  },
  {
   "cell_type": "markdown",
   "id": "1c91f9cd",
   "metadata": {
    "ExecuteTime": {
     "end_time": "2021-08-09T13:52:33.239479Z",
     "start_time": "2021-08-09T13:52:33.225486Z"
    }
   },
   "source": [
    "- Defining a % for 2 and 4-condition houses, it can be bought more houses\n",
    "- Use ML models to find clusters among the houses and classify them\n",
    "- Can use the data to a simple regression model to the price of selling future houses"
   ]
  }
 ],
 "metadata": {
  "kernelspec": {
   "display_name": "Python 3",
   "language": "python",
   "name": "python3"
  },
  "language_info": {
   "codemirror_mode": {
    "name": "ipython",
    "version": 3
   },
   "file_extension": ".py",
   "mimetype": "text/x-python",
   "name": "python",
   "nbconvert_exporter": "python",
   "pygments_lexer": "ipython3",
   "version": "3.8.10"
  },
  "toc": {
   "base_numbering": "0",
   "nav_menu": {},
   "number_sections": true,
   "sideBar": true,
   "skip_h1_title": false,
   "title_cell": "Table of Contents",
   "title_sidebar": "Contents",
   "toc_cell": false,
   "toc_position": {},
   "toc_section_display": true,
   "toc_window_display": false
  }
 },
 "nbformat": 4,
 "nbformat_minor": 5
}
