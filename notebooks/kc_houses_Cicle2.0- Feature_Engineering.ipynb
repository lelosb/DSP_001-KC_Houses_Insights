{
 "cells": [
  {
   "cell_type": "markdown",
   "id": "43c12e6f",
   "metadata": {
    "heading_collapsed": true
   },
   "source": [
    "# King Count Houses - Insight  Project"
   ]
  },
  {
   "cell_type": "markdown",
   "id": "31a537a6",
   "metadata": {
    "ExecuteTime": {
     "end_time": "2021-06-28T15:33:39.487347Z",
     "start_time": "2021-06-28T15:33:39.146704Z"
    }
   },
   "source": [
    "# Basic setups"
   ]
  },
  {
   "cell_type": "markdown",
   "id": "5188af92",
   "metadata": {
    "ExecuteTime": {
     "end_time": "2021-06-28T15:33:39.487347Z",
     "start_time": "2021-06-28T15:33:39.146704Z"
    }
   },
   "source": [
    "## IMPORTS"
   ]
  },
  {
   "cell_type": "code",
   "execution_count": 1,
   "id": "c705bc40",
   "metadata": {
    "ExecuteTime": {
     "end_time": "2021-08-09T13:52:28.161306Z",
     "start_time": "2021-08-09T13:52:27.113557Z"
    }
   },
   "outputs": [],
   "source": [
    "import math\n",
    "import plotly.express as px\n",
    "import pandas as pd\n",
    "from IPython.core.display     import HTML\n",
    "import seaborn       as sns\n",
    "import datetime\n",
    "import ipywidgets as widgets\n",
    "from   ipywidgets import fixed"
   ]
  },
  {
   "cell_type": "markdown",
   "id": "3751aad5",
   "metadata": {},
   "source": [
    "## Helper functions"
   ]
  },
  {
   "cell_type": "code",
   "execution_count": 2,
   "id": "85bfe522",
   "metadata": {
    "ExecuteTime": {
     "end_time": "2021-08-09T13:52:28.177090Z",
     "start_time": "2021-08-09T13:52:28.162127Z"
    }
   },
   "outputs": [
    {
     "name": "stdout",
     "output_type": "stream",
     "text": [
      "Populating the interactive namespace from numpy and matplotlib\n"
     ]
    },
    {
     "data": {
      "text/html": [
       "<style>.container { width:100% !important; }</style>"
      ],
      "text/plain": [
       "<IPython.core.display.HTML object>"
      ]
     },
     "metadata": {},
     "output_type": "display_data"
    }
   ],
   "source": [
    "def jupyter_settings():\n",
    "    %matplotlib inline\n",
    "    %pylab inline\n",
    "    plt.style.use( 'bmh' )\n",
    "    plt.rcParams['figure.figsize'] = [25, 12]\n",
    "    plt.rcParams['font.size'] = 24\n",
    "    display( HTML( '<style>.container { width:100% !important; }</style>') )\n",
    "    pd.options.display.max_columns = None\n",
    "    pd.options.display.max_rows = None\n",
    "    pd.set_option( 'display.expand_frame_repr', False )\n",
    "    sns.set()\n",
    "jupyter_settings()"
   ]
  },
  {
   "cell_type": "markdown",
   "id": "91a3595d",
   "metadata": {
    "ExecuteTime": {
     "end_time": "2021-06-28T22:15:13.510514Z",
     "start_time": "2021-06-28T22:15:13.498546Z"
    }
   },
   "source": [
    "# Initial data processing"
   ]
  },
  {
   "cell_type": "markdown",
   "id": "f25c7714",
   "metadata": {},
   "source": [
    "## Data Load"
   ]
  },
  {
   "cell_type": "code",
   "execution_count": 3,
   "id": "eb461e26",
   "metadata": {
    "ExecuteTime": {
     "end_time": "2021-08-09T13:52:28.238593Z",
     "start_time": "2021-08-09T13:52:28.179085Z"
    }
   },
   "outputs": [],
   "source": [
    "df_raw = pd.read_csv(r'../data/raw/kc_house_data.csv') "
   ]
  },
  {
   "cell_type": "markdown",
   "id": "36b47910",
   "metadata": {
    "ExecuteTime": {
     "end_time": "2021-08-02T17:59:47.486649Z",
     "start_time": "2021-08-02T17:59:47.468664Z"
    }
   },
   "source": [
    "## Data Overview"
   ]
  },
  {
   "cell_type": "code",
   "execution_count": 4,
   "id": "d006be8a",
   "metadata": {
    "ExecuteTime": {
     "end_time": "2021-08-09T13:52:28.269616Z",
     "start_time": "2021-08-09T13:52:28.239694Z"
    }
   },
   "outputs": [
    {
     "data": {
      "text/html": [
       "<div>\n",
       "<style scoped>\n",
       "    .dataframe tbody tr th:only-of-type {\n",
       "        vertical-align: middle;\n",
       "    }\n",
       "\n",
       "    .dataframe tbody tr th {\n",
       "        vertical-align: top;\n",
       "    }\n",
       "\n",
       "    .dataframe thead th {\n",
       "        text-align: right;\n",
       "    }\n",
       "</style>\n",
       "<table border=\"1\" class=\"dataframe\">\n",
       "  <thead>\n",
       "    <tr style=\"text-align: right;\">\n",
       "      <th></th>\n",
       "      <th>id</th>\n",
       "      <th>date</th>\n",
       "      <th>price</th>\n",
       "      <th>bedrooms</th>\n",
       "      <th>bathrooms</th>\n",
       "      <th>sqft_living</th>\n",
       "      <th>sqft_lot</th>\n",
       "      <th>floors</th>\n",
       "      <th>waterfront</th>\n",
       "      <th>view</th>\n",
       "      <th>condition</th>\n",
       "      <th>grade</th>\n",
       "      <th>sqft_above</th>\n",
       "      <th>sqft_basement</th>\n",
       "      <th>yr_built</th>\n",
       "      <th>yr_renovated</th>\n",
       "      <th>zipcode</th>\n",
       "      <th>lat</th>\n",
       "      <th>long</th>\n",
       "      <th>sqft_living15</th>\n",
       "      <th>sqft_lot15</th>\n",
       "    </tr>\n",
       "  </thead>\n",
       "  <tbody>\n",
       "    <tr>\n",
       "      <th>20791</th>\n",
       "      <td>6791900260</td>\n",
       "      <td>20140708T000000</td>\n",
       "      <td>760005.0</td>\n",
       "      <td>4</td>\n",
       "      <td>2.75</td>\n",
       "      <td>3090</td>\n",
       "      <td>5859</td>\n",
       "      <td>2.0</td>\n",
       "      <td>0</td>\n",
       "      <td>0</td>\n",
       "      <td>3</td>\n",
       "      <td>9</td>\n",
       "      <td>3090</td>\n",
       "      <td>0</td>\n",
       "      <td>2010</td>\n",
       "      <td>0</td>\n",
       "      <td>98074</td>\n",
       "      <td>47.6057</td>\n",
       "      <td>-122.047</td>\n",
       "      <td>2960</td>\n",
       "      <td>5250</td>\n",
       "    </tr>\n",
       "    <tr>\n",
       "      <th>7411</th>\n",
       "      <td>926069132</td>\n",
       "      <td>20140520T000000</td>\n",
       "      <td>450000.0</td>\n",
       "      <td>3</td>\n",
       "      <td>1.50</td>\n",
       "      <td>2060</td>\n",
       "      <td>44866</td>\n",
       "      <td>1.0</td>\n",
       "      <td>0</td>\n",
       "      <td>0</td>\n",
       "      <td>3</td>\n",
       "      <td>8</td>\n",
       "      <td>2060</td>\n",
       "      <td>0</td>\n",
       "      <td>1953</td>\n",
       "      <td>0</td>\n",
       "      <td>98077</td>\n",
       "      <td>47.7503</td>\n",
       "      <td>-122.051</td>\n",
       "      <td>2320</td>\n",
       "      <td>43995</td>\n",
       "    </tr>\n",
       "    <tr>\n",
       "      <th>1394</th>\n",
       "      <td>5631500254</td>\n",
       "      <td>20141007T000000</td>\n",
       "      <td>519900.0</td>\n",
       "      <td>4</td>\n",
       "      <td>2.50</td>\n",
       "      <td>2403</td>\n",
       "      <td>6172</td>\n",
       "      <td>2.0</td>\n",
       "      <td>0</td>\n",
       "      <td>0</td>\n",
       "      <td>3</td>\n",
       "      <td>9</td>\n",
       "      <td>2403</td>\n",
       "      <td>0</td>\n",
       "      <td>1999</td>\n",
       "      <td>0</td>\n",
       "      <td>98028</td>\n",
       "      <td>47.7361</td>\n",
       "      <td>-122.234</td>\n",
       "      <td>2380</td>\n",
       "      <td>6075</td>\n",
       "    </tr>\n",
       "    <tr>\n",
       "      <th>10265</th>\n",
       "      <td>224069114</td>\n",
       "      <td>20140829T000000</td>\n",
       "      <td>635000.0</td>\n",
       "      <td>4</td>\n",
       "      <td>2.50</td>\n",
       "      <td>2470</td>\n",
       "      <td>77550</td>\n",
       "      <td>1.0</td>\n",
       "      <td>0</td>\n",
       "      <td>0</td>\n",
       "      <td>4</td>\n",
       "      <td>7</td>\n",
       "      <td>2470</td>\n",
       "      <td>0</td>\n",
       "      <td>1987</td>\n",
       "      <td>0</td>\n",
       "      <td>98075</td>\n",
       "      <td>47.5888</td>\n",
       "      <td>-122.011</td>\n",
       "      <td>2490</td>\n",
       "      <td>40894</td>\n",
       "    </tr>\n",
       "    <tr>\n",
       "      <th>2124</th>\n",
       "      <td>9551202025</td>\n",
       "      <td>20140625T000000</td>\n",
       "      <td>800000.0</td>\n",
       "      <td>2</td>\n",
       "      <td>1.00</td>\n",
       "      <td>1740</td>\n",
       "      <td>5719</td>\n",
       "      <td>1.0</td>\n",
       "      <td>0</td>\n",
       "      <td>0</td>\n",
       "      <td>3</td>\n",
       "      <td>8</td>\n",
       "      <td>1740</td>\n",
       "      <td>0</td>\n",
       "      <td>1955</td>\n",
       "      <td>0</td>\n",
       "      <td>98103</td>\n",
       "      <td>47.6729</td>\n",
       "      <td>-122.335</td>\n",
       "      <td>1980</td>\n",
       "      <td>5000</td>\n",
       "    </tr>\n",
       "  </tbody>\n",
       "</table>\n",
       "</div>"
      ],
      "text/plain": [
       "               id             date     price  bedrooms  bathrooms  sqft_living  sqft_lot  floors  waterfront  view  condition  grade  sqft_above  sqft_basement  yr_built  yr_renovated  zipcode      lat     long  sqft_living15  sqft_lot15\n",
       "20791  6791900260  20140708T000000  760005.0         4       2.75         3090      5859     2.0           0     0          3      9        3090              0      2010             0    98074  47.6057 -122.047           2960        5250\n",
       "7411    926069132  20140520T000000  450000.0         3       1.50         2060     44866     1.0           0     0          3      8        2060              0      1953             0    98077  47.7503 -122.051           2320       43995\n",
       "1394   5631500254  20141007T000000  519900.0         4       2.50         2403      6172     2.0           0     0          3      9        2403              0      1999             0    98028  47.7361 -122.234           2380        6075\n",
       "10265   224069114  20140829T000000  635000.0         4       2.50         2470     77550     1.0           0     0          4      7        2470              0      1987             0    98075  47.5888 -122.011           2490       40894\n",
       "2124   9551202025  20140625T000000  800000.0         2       1.00         1740      5719     1.0           0     0          3      8        1740              0      1955             0    98103  47.6729 -122.335           1980        5000"
      ]
     },
     "execution_count": 4,
     "metadata": {},
     "output_type": "execute_result"
    }
   ],
   "source": [
    "df_raw.sample(5)"
   ]
  },
  {
   "cell_type": "code",
   "execution_count": 5,
   "id": "f15c20a3",
   "metadata": {
    "ExecuteTime": {
     "end_time": "2021-08-09T13:52:28.285147Z",
     "start_time": "2021-08-09T13:52:28.270614Z"
    }
   },
   "outputs": [
    {
     "name": "stdout",
     "output_type": "stream",
     "text": [
      "The original dataset have 21613 transation registers with 21 attributes.\n"
     ]
    }
   ],
   "source": [
    "print ('The original dataset have {} transation registers with {} attributes.'.format(df_raw.shape[0], df_raw.shape[1]))"
   ]
  },
  {
   "cell_type": "code",
   "execution_count": 6,
   "id": "9fabc2e9",
   "metadata": {
    "ExecuteTime": {
     "end_time": "2021-08-09T13:52:28.301104Z",
     "start_time": "2021-08-09T13:52:28.286143Z"
    },
    "scrolled": false
   },
   "outputs": [
    {
     "data": {
      "text/plain": [
       "Index(['id', 'date', 'price', 'bedrooms', 'bathrooms', 'sqft_living',\n",
       "       'sqft_lot', 'floors', 'waterfront', 'view', 'condition', 'grade',\n",
       "       'sqft_above', 'sqft_basement', 'yr_built', 'yr_renovated', 'zipcode',\n",
       "       'lat', 'long', 'sqft_living15', 'sqft_lot15'],\n",
       "      dtype='object')"
      ]
     },
     "execution_count": 6,
     "metadata": {},
     "output_type": "execute_result"
    }
   ],
   "source": [
    "df_raw.columns"
   ]
  },
  {
   "cell_type": "markdown",
   "id": "7867a233",
   "metadata": {},
   "source": [
    "1° Task: Whats the relevance of these attributes: 'grade','sqft_living15', 'sqft_lot15' and 'view'?\n",
    "Identify, cleaning or drop"
   ]
  },
  {
   "cell_type": "markdown",
   "id": "21fe3f33",
   "metadata": {},
   "source": [
    "## Data Types"
   ]
  },
  {
   "cell_type": "code",
   "execution_count": 7,
   "id": "8d20ab9e",
   "metadata": {
    "ExecuteTime": {
     "end_time": "2021-08-09T13:52:28.317092Z",
     "start_time": "2021-08-09T13:52:28.305092Z"
    }
   },
   "outputs": [
    {
     "data": {
      "text/plain": [
       "id                 int64\n",
       "date              object\n",
       "price            float64\n",
       "bedrooms           int64\n",
       "bathrooms        float64\n",
       "sqft_living        int64\n",
       "sqft_lot           int64\n",
       "floors           float64\n",
       "waterfront         int64\n",
       "view               int64\n",
       "condition          int64\n",
       "grade              int64\n",
       "sqft_above         int64\n",
       "sqft_basement      int64\n",
       "yr_built           int64\n",
       "yr_renovated       int64\n",
       "zipcode            int64\n",
       "lat              float64\n",
       "long             float64\n",
       "sqft_living15      int64\n",
       "sqft_lot15         int64\n",
       "dtype: object"
      ]
     },
     "execution_count": 7,
     "metadata": {},
     "output_type": "execute_result"
    }
   ],
   "source": [
    "df_raw.dtypes"
   ]
  },
  {
   "cell_type": "markdown",
   "id": "c034c996",
   "metadata": {},
   "source": [
    "Tasks:\n",
    "2°)Change 'waterfront' from 0 or 1 to yes or no\n",
    "3°)Change 'date' to date format"
   ]
  },
  {
   "cell_type": "markdown",
   "id": "a006c391",
   "metadata": {
    "ExecuteTime": {
     "end_time": "2021-08-02T18:08:22.667732Z",
     "start_time": "2021-08-02T18:08:22.651736Z"
    }
   },
   "source": [
    "## Check NA"
   ]
  },
  {
   "cell_type": "code",
   "execution_count": 8,
   "id": "ba080444",
   "metadata": {
    "ExecuteTime": {
     "end_time": "2021-08-09T13:52:28.333016Z",
     "start_time": "2021-08-09T13:52:28.319055Z"
    }
   },
   "outputs": [
    {
     "data": {
      "text/plain": [
       "id               0\n",
       "date             0\n",
       "price            0\n",
       "bedrooms         0\n",
       "bathrooms        0\n",
       "sqft_living      0\n",
       "sqft_lot         0\n",
       "floors           0\n",
       "waterfront       0\n",
       "view             0\n",
       "condition        0\n",
       "grade            0\n",
       "sqft_above       0\n",
       "sqft_basement    0\n",
       "yr_built         0\n",
       "yr_renovated     0\n",
       "zipcode          0\n",
       "lat              0\n",
       "long             0\n",
       "sqft_living15    0\n",
       "sqft_lot15       0\n",
       "dtype: int64"
      ]
     },
     "execution_count": 8,
     "metadata": {},
     "output_type": "execute_result"
    }
   ],
   "source": [
    "df_raw.isna().sum()"
   ]
  },
  {
   "cell_type": "markdown",
   "id": "aa00dd82",
   "metadata": {
    "ExecuteTime": {
     "end_time": "2021-08-03T18:07:00.244902Z",
     "start_time": "2021-08-03T18:07:00.233930Z"
    }
   },
   "source": [
    "## Check Duplicated"
   ]
  },
  {
   "cell_type": "code",
   "execution_count": 9,
   "id": "4a2385a7",
   "metadata": {
    "ExecuteTime": {
     "end_time": "2021-08-09T13:52:28.348973Z",
     "start_time": "2021-08-09T13:52:28.335014Z"
    },
    "scrolled": true
   },
   "outputs": [
    {
     "data": {
      "text/plain": [
       "177"
      ]
     },
     "execution_count": 9,
     "metadata": {},
     "output_type": "execute_result"
    }
   ],
   "source": [
    "df_raw['id'].duplicated().sum()"
   ]
  },
  {
   "cell_type": "markdown",
   "id": "f1239fd7",
   "metadata": {
    "ExecuteTime": {
     "end_time": "2021-08-04T20:06:58.716987Z",
     "start_time": "2021-08-04T20:06:58.701029Z"
    }
   },
   "source": [
    "Task:\n",
    "4) Identify the duplicated ones and drop if it is necessary"
   ]
  },
  {
   "cell_type": "markdown",
   "id": "2b070222",
   "metadata": {
    "ExecuteTime": {
     "end_time": "2021-08-06T13:00:41.651694Z",
     "start_time": "2021-08-06T13:00:41.633750Z"
    }
   },
   "source": [
    "## Check attributes"
   ]
  },
  {
   "cell_type": "markdown",
   "id": "50a0c573",
   "metadata": {
    "ExecuteTime": {
     "end_time": "2021-08-06T12:18:31.276386Z",
     "start_time": "2021-08-06T12:18:31.267378Z"
    }
   },
   "source": [
    "### Attribute 'grade'"
   ]
  },
  {
   "cell_type": "markdown",
   "id": "9d8eb092",
   "metadata": {},
   "source": [
    "It's an index from 1 to 13, where 1-3 falls short of building construction and design, 7 has an average level of construction and design, and 11-13 have a high quality level of construction and design."
   ]
  },
  {
   "cell_type": "code",
   "execution_count": 10,
   "id": "bd8d81c1",
   "metadata": {
    "ExecuteTime": {
     "end_time": "2021-08-09T13:52:28.363933Z",
     "start_time": "2021-08-09T13:52:28.349971Z"
    }
   },
   "outputs": [
    {
     "data": {
      "text/plain": [
       "array([ 7,  6,  8, 11,  9,  5, 10, 12,  4,  3, 13,  1], dtype=int64)"
      ]
     },
     "execution_count": 10,
     "metadata": {},
     "output_type": "execute_result"
    }
   ],
   "source": [
    "df_raw['grade'].unique()"
   ]
  },
  {
   "cell_type": "markdown",
   "id": "12ba5e55",
   "metadata": {},
   "source": [
    "***Definition*** \n",
    "\n",
    "Cycle 01 - Change the attribute 'grade' to low_quality_design, average_quality_design and high_quality_design\n",
    "\n",
    "Cycle 02 - After a look in the distribuition of price/grade, it seems better keep this as a number but it will be considered a categorical feature"
   ]
  },
  {
   "cell_type": "markdown",
   "id": "5fca632c",
   "metadata": {
    "ExecuteTime": {
     "end_time": "2021-08-06T12:15:24.252808Z",
     "start_time": "2021-08-06T12:15:24.238848Z"
    }
   },
   "source": [
    "### Attribute 'sqft_living15'"
   ]
  },
  {
   "cell_type": "markdown",
   "id": "66da9868",
   "metadata": {},
   "source": [
    "sqft_living15 - The square footage of interior housing living space for the nearest 15 neighbors"
   ]
  },
  {
   "cell_type": "code",
   "execution_count": 11,
   "id": "47b4e5ea",
   "metadata": {
    "ExecuteTime": {
     "end_time": "2021-08-09T13:52:28.379923Z",
     "start_time": "2021-08-09T13:52:28.365932Z"
    },
    "scrolled": false
   },
   "outputs": [
    {
     "data": {
      "text/plain": [
       "array([1340, 1690, 2720, 1360, 1800, 4760, 2238, 1650, 1780, 2390, 2210,\n",
       "       1330, 1370, 2140, 1890, 1610, 1060, 1280, 1400, 4110, 2240, 1220,\n",
       "       2200, 1030, 1760, 1860, 1520, 2630, 2580, 1390, 1460, 1570, 2020,\n",
       "       1590, 2160, 1730, 1290, 2620, 2470, 2410, 3625, 1580, 3050, 1228,\n",
       "       2680,  970, 1190, 1990, 1410, 1480, 2730, 1950, 2250, 2690, 2960,\n",
       "       2270, 2570, 2500, 1440, 2750, 2221, 1010, 3390, 3530, 1640, 1510,\n",
       "       2420, 1940, 3240, 1680,  890, 1130, 3350, 2350, 1870, 1720, 1850,\n",
       "       1900, 1980, 2520, 1350, 1750, 1160, 2550, 2370, 1240, 1270, 2990,\n",
       "       1380, 1540, 2090, 2640, 1830, 1620, 1880, 2340, 1710, 2700, 3060,\n",
       "       2660, 1700, 1970, 1420, 2060, 2480, 1550, 1170, 2820, 1560, 2230,\n",
       "       2840, 1450, 1500, 3160, 1200, 3400, 2110, 2920, 1770, 1070, 1930,\n",
       "       3740, 2260, 1670, 2290, 1050, 2540, 2190, 2030, 1230, 2330, 1300,\n",
       "       1430, 2770, 1250, 1630, 2590, 2130, 1100, 3836, 1320, 2120, 3070,\n",
       "       1910, 2080, 1960, 2280, 1150, 3430, 2070, 2600,  830, 1260, 3120,\n",
       "       2010, 1660, 1600, 2380, 3890, 4180, 2653, 2670, 3920, 2300, 2310,\n",
       "       2320, 3150, 1740, 2400, 4550, 2510, 2440, 2880, 3860, 2150, 1310,\n",
       "       1820, 3080,  880, 2560, 3470, 1020, 2040, 2610, 1810, 2860, 3480,\n",
       "       3130, 3360, 4050, 2450, 1790, 3180, 3600, 2000, 2430, 2850, 4680,\n",
       "       2360, 3930, 1490, 2460, 2077, 1920, 3630, 3220, 2100, 3230, 4300,\n",
       "       3850, 2424, 2530, 3030, 2830, 2900, 2950, 1470,  940, 2740, 4210,\n",
       "       3340, 3980, 2180, 3715, 2050, 1080, 2095, 1000, 3330, 2170, 1408,\n",
       "       1530, 2760, 3110,  950, 3000, 1307, 2220, 4190, 3440, 3250, 1110,\n",
       "       2870, 1210, 2910, 1120, 4230, 1708, 3090, 3270, 2970, 1180, 3100,\n",
       "       4100, 2930, 3510, 2688, 1840, 2490, 4090, 2810, 3260, 3680, 3420,\n",
       "       1654, 1365,  980, 1677, 1140, 3640, 3460, 3140, 1502, 3720, 2790,\n",
       "       2940,  990, 2890,  860, 4750, 1525, 3950, 5790,  760, 2234,  960,\n",
       "       3210, 2780, 2800, 2305, 2665, 3620, 2710, 4320, 2650, 3370, 1509,\n",
       "       1277, 1981, 2434, 4640, 2242, 3040, 3970, 3200, 4600,  840, 3290,\n",
       "       2214, 1162, 3010, 5600, 3820, 3540, 1975, 4800,  740, 3990, 3170,\n",
       "       1576, 1768, 3310, 2980, 1429, 3900, 3380,  820, 1090, 4060, 3910,\n",
       "       3190, 3450, 3730,  620, 3020, 3760, 3320, 1132, 3300, 3770, 3960,\n",
       "        870, 3560, 4620, 3520, 1572, 3490, 1088, 3159, 4470, 3570, 4890,\n",
       "       3690, 3280, 2083, 3780,  920, 1941, 1566,  850, 2496, 1040, 3410,\n",
       "       4240, 4670, 4350, 1714, 5380, 4330, 3830, 5000, 2144, 1494, 1357,\n",
       "        930, 3580, 4250, 4080, 3660, 1458, 3736, 1894, 2037, 1295, 4170,\n",
       "       3750, 3550, 4630, 1439, 3500, 2091,  900, 3880, 3710, 1616,  720,\n",
       "        800, 2315, 1564, 2767, 3721, 4650, 4020,  780, 1728, 2027, 1264,\n",
       "       1404, 1459, 2028, 3639, 1943, 3425, 2641, 2114, 1309, 2412, 2517,\n",
       "       1802, 2011, 1466, 1414, 3193, 1845, 1156, 3670, 1696, 5340, 4440,\n",
       "       1745, 1884, 4690, 4920, 2406, 4160, 3810, 4480, 2848, 1746, 2634,\n",
       "       2049, 5330, 1536, 2273, 3056, 4010, 4700,  910, 2125, 1665, 2683,\n",
       "       3790,  700, 1855,  750, 1078, 4150, 4340, 2344, 1098, 1175, 1188,\n",
       "       3700, 3840, 4042, 2518, 3800, 2488, 3590, 2052,  810, 1528, 5030,\n",
       "       4740, 5070, 2967, 4280, 2724, 3610, 3940, 4940, 4770, 1811, 4830,\n",
       "       2876, 1805, 1216, 5170, 1304, 2474, 4590, 4130, 1492, 1364, 2168,\n",
       "       4140, 3543, 1303, 2005, 3650, 2583, 4310, 2451, 1448, 2955, 2142,\n",
       "        790, 1638, 2554, 2441, 2216, 4220, 1961, 4540,  770, 4200, 3413,\n",
       "       1664, 2136, 3568, 4510, 1484, 1358, 2106, 1834, 2014, 4390, 4570,\n",
       "       2175, 6110, 4260,  710, 2112, 1934, 1518, 1302, 2622, 2619, 2382,\n",
       "       4290, 4560, 4000, 1336, 3112, 4070, 1468, 1571, 2605, 1138, 5110,\n",
       "       4850, 2165, 4410, 1678, 5610, 1984, 4660, 3870, 4370,  460, 4610,\n",
       "       1914, 3515, 2246, 1786, 2109, 2326, 2728, 4400, 4950, 1767, 2054,\n",
       "       5500, 2555, 3674, 2765, 1862, 1352, 4030,  399, 2415, 2901, 1815,\n",
       "       2236, 2253, 2004, 1356, 2403, 1137, 1256, 4930, 4040, 2376, 4520,\n",
       "       4490, 2189, 2566, 2396, 1282, 2155, 1056, 2389, 2256, 3618, 1326,\n",
       "       1168, 4913,  806, 1369, 2405, 2875, 1425, 5220, 1442, 2333, 3335,\n",
       "       1321, 3045, 1546, 4730, 2697, 2822, 2076, 1757, 4780,  952, 4270,\n",
       "       2075, 2667, 1092, 1217, 1716, 1792, 2961, 1125, 1463, 1886,  670,\n",
       "       4460, 2336, 3557, 5200, 2258, 1377, 2019, 2092, 4900, 2615, 1639,\n",
       "       1765, 1554, 1381, 4120, 5080, 1445, 2793, 2475,  998, 2384, 2575,\n",
       "       1398, 1584, 2439, 2197, 2029, 4362, 1443, 4420, 1691, 2495, 2437,\n",
       "       2547, 6210, 2009, 1847, 1346, 2578, 2879, 2255, 2815, 1608,  690,\n",
       "       2425, 1481, 2458, 2358, 2056, 1921, 2419, 2996, 2502, 1798, 3087,\n",
       "       1076, 2981, 2363, 3191, 1763, 1876, 1949, 2598, 1979, 1415, 2002,\n",
       "       2574, 2166, 3726, 2099, 2154, 1522, 1544, 2912, 2648, 1658, 2755,\n",
       "       2798, 1405, 2704, 2738, 3008, 2586, 2873, 1232, 2597, 2516, 1537,\n",
       "       1128, 2849, 1399, 1131, 1569, 2381, 1084, 2304, 4530, 2297, 2279,\n",
       "       2303, 2669, 4225, 2513, 2725, 1955, 2527, 4443, 2478, 1919, 1813,\n",
       "       2533,  828, 2015, 3078, 4495, 2673, 2316, 2647, 3402, 3494, 2156,\n",
       "       3236, 2612, 2323, 2409, 2354, 1285, 2616, 1427, 1516, 2456, 2844,\n",
       "       1495, 2594, 2604, 1268, 2198, 3038, 2927], dtype=int64)"
      ]
     },
     "execution_count": 11,
     "metadata": {},
     "output_type": "execute_result"
    }
   ],
   "source": [
    "df_raw['sqft_living15'].unique()"
   ]
  },
  {
   "cell_type": "markdown",
   "id": "721099ec",
   "metadata": {},
   "source": [
    "Task 5) - Drop this feature"
   ]
  },
  {
   "cell_type": "markdown",
   "id": "58d7737c",
   "metadata": {
    "ExecuteTime": {
     "end_time": "2021-08-06T12:15:24.267768Z",
     "start_time": "2021-08-06T12:15:24.254803Z"
    }
   },
   "source": [
    "### Attibute 'sqft_lot15'"
   ]
  },
  {
   "cell_type": "markdown",
   "id": "935e430b",
   "metadata": {
    "ExecuteTime": {
     "end_time": "2021-08-06T12:21:26.677867Z",
     "start_time": "2021-08-06T12:21:26.670890Z"
    }
   },
   "source": [
    "sqft_lot15 - The square footage of the land lots of the nearest 15 neighbors"
   ]
  },
  {
   "cell_type": "code",
   "execution_count": 12,
   "id": "d8edd5cc",
   "metadata": {
    "ExecuteTime": {
     "end_time": "2021-08-09T13:52:28.394851Z",
     "start_time": "2021-08-09T13:52:28.380888Z"
    }
   },
   "outputs": [
    {
     "data": {
      "text/plain": [
       "array([5650, 7639, 8062, ..., 5731, 1509, 2007], dtype=int64)"
      ]
     },
     "execution_count": 12,
     "metadata": {},
     "output_type": "execute_result"
    }
   ],
   "source": [
    "df_raw['sqft_lot15'].unique()"
   ]
  },
  {
   "cell_type": "markdown",
   "id": "7519db0c",
   "metadata": {},
   "source": [
    "Task 6): Drop this feature"
   ]
  },
  {
   "cell_type": "markdown",
   "id": "a2f358db",
   "metadata": {
    "ExecuteTime": {
     "end_time": "2021-08-06T12:15:24.314642Z",
     "start_time": "2021-08-06T12:15:24.299683Z"
    }
   },
   "source": [
    "### Attribute 'view'"
   ]
  },
  {
   "cell_type": "markdown",
   "id": "612f847a",
   "metadata": {},
   "source": [
    "view - An index from 0 to 4 of how good the view of the property was"
   ]
  },
  {
   "cell_type": "code",
   "execution_count": 13,
   "id": "d49c2db4",
   "metadata": {
    "ExecuteTime": {
     "end_time": "2021-08-09T13:52:28.410809Z",
     "start_time": "2021-08-09T13:52:28.395848Z"
    }
   },
   "outputs": [
    {
     "data": {
      "text/plain": [
       "array([0, 3, 4, 2, 1], dtype=int64)"
      ]
     },
     "execution_count": 13,
     "metadata": {},
     "output_type": "execute_result"
    }
   ],
   "source": [
    "df_raw['view'].unique()"
   ]
  },
  {
   "cell_type": "markdown",
   "id": "c24f117f",
   "metadata": {},
   "source": [
    "***Decision*** \n",
    "\n",
    "Keep this for now"
   ]
  },
  {
   "cell_type": "markdown",
   "id": "e53e3cdf",
   "metadata": {},
   "source": [
    "# Data Transform/Preparing"
   ]
  },
  {
   "cell_type": "code",
   "execution_count": 14,
   "id": "0db351f7",
   "metadata": {
    "ExecuteTime": {
     "end_time": "2021-08-09T13:52:28.426765Z",
     "start_time": "2021-08-09T13:52:28.411806Z"
    }
   },
   "outputs": [],
   "source": [
    "df3 = df_raw.copy()"
   ]
  },
  {
   "cell_type": "markdown",
   "id": "d8f173ab",
   "metadata": {
    "ExecuteTime": {
     "end_time": "2021-08-06T13:06:25.150346Z",
     "start_time": "2021-08-06T13:06:25.117471Z"
    }
   },
   "source": [
    "1) Drop 'sqft_living15'\n",
    "\n",
    "2) Drop 'sqft_lot15' "
   ]
  },
  {
   "cell_type": "code",
   "execution_count": 15,
   "id": "8210c41b",
   "metadata": {
    "ExecuteTime": {
     "end_time": "2021-08-09T13:52:28.458680Z",
     "start_time": "2021-08-09T13:52:28.427763Z"
    }
   },
   "outputs": [
    {
     "data": {
      "text/html": [
       "<div>\n",
       "<style scoped>\n",
       "    .dataframe tbody tr th:only-of-type {\n",
       "        vertical-align: middle;\n",
       "    }\n",
       "\n",
       "    .dataframe tbody tr th {\n",
       "        vertical-align: top;\n",
       "    }\n",
       "\n",
       "    .dataframe thead th {\n",
       "        text-align: right;\n",
       "    }\n",
       "</style>\n",
       "<table border=\"1\" class=\"dataframe\">\n",
       "  <thead>\n",
       "    <tr style=\"text-align: right;\">\n",
       "      <th></th>\n",
       "      <th>id</th>\n",
       "      <th>date</th>\n",
       "      <th>price</th>\n",
       "      <th>bedrooms</th>\n",
       "      <th>bathrooms</th>\n",
       "      <th>sqft_living</th>\n",
       "      <th>sqft_lot</th>\n",
       "      <th>floors</th>\n",
       "      <th>waterfront</th>\n",
       "      <th>view</th>\n",
       "      <th>condition</th>\n",
       "      <th>grade</th>\n",
       "      <th>sqft_above</th>\n",
       "      <th>sqft_basement</th>\n",
       "      <th>yr_built</th>\n",
       "      <th>yr_renovated</th>\n",
       "      <th>zipcode</th>\n",
       "      <th>lat</th>\n",
       "      <th>long</th>\n",
       "    </tr>\n",
       "  </thead>\n",
       "  <tbody>\n",
       "    <tr>\n",
       "      <th>0</th>\n",
       "      <td>7129300520</td>\n",
       "      <td>20141013T000000</td>\n",
       "      <td>221900.0</td>\n",
       "      <td>3</td>\n",
       "      <td>1.00</td>\n",
       "      <td>1180</td>\n",
       "      <td>5650</td>\n",
       "      <td>1.0</td>\n",
       "      <td>0</td>\n",
       "      <td>0</td>\n",
       "      <td>3</td>\n",
       "      <td>7</td>\n",
       "      <td>1180</td>\n",
       "      <td>0</td>\n",
       "      <td>1955</td>\n",
       "      <td>0</td>\n",
       "      <td>98178</td>\n",
       "      <td>47.5112</td>\n",
       "      <td>-122.257</td>\n",
       "    </tr>\n",
       "    <tr>\n",
       "      <th>1</th>\n",
       "      <td>6414100192</td>\n",
       "      <td>20141209T000000</td>\n",
       "      <td>538000.0</td>\n",
       "      <td>3</td>\n",
       "      <td>2.25</td>\n",
       "      <td>2570</td>\n",
       "      <td>7242</td>\n",
       "      <td>2.0</td>\n",
       "      <td>0</td>\n",
       "      <td>0</td>\n",
       "      <td>3</td>\n",
       "      <td>7</td>\n",
       "      <td>2170</td>\n",
       "      <td>400</td>\n",
       "      <td>1951</td>\n",
       "      <td>1991</td>\n",
       "      <td>98125</td>\n",
       "      <td>47.7210</td>\n",
       "      <td>-122.319</td>\n",
       "    </tr>\n",
       "    <tr>\n",
       "      <th>2</th>\n",
       "      <td>5631500400</td>\n",
       "      <td>20150225T000000</td>\n",
       "      <td>180000.0</td>\n",
       "      <td>2</td>\n",
       "      <td>1.00</td>\n",
       "      <td>770</td>\n",
       "      <td>10000</td>\n",
       "      <td>1.0</td>\n",
       "      <td>0</td>\n",
       "      <td>0</td>\n",
       "      <td>3</td>\n",
       "      <td>6</td>\n",
       "      <td>770</td>\n",
       "      <td>0</td>\n",
       "      <td>1933</td>\n",
       "      <td>0</td>\n",
       "      <td>98028</td>\n",
       "      <td>47.7379</td>\n",
       "      <td>-122.233</td>\n",
       "    </tr>\n",
       "    <tr>\n",
       "      <th>3</th>\n",
       "      <td>2487200875</td>\n",
       "      <td>20141209T000000</td>\n",
       "      <td>604000.0</td>\n",
       "      <td>4</td>\n",
       "      <td>3.00</td>\n",
       "      <td>1960</td>\n",
       "      <td>5000</td>\n",
       "      <td>1.0</td>\n",
       "      <td>0</td>\n",
       "      <td>0</td>\n",
       "      <td>5</td>\n",
       "      <td>7</td>\n",
       "      <td>1050</td>\n",
       "      <td>910</td>\n",
       "      <td>1965</td>\n",
       "      <td>0</td>\n",
       "      <td>98136</td>\n",
       "      <td>47.5208</td>\n",
       "      <td>-122.393</td>\n",
       "    </tr>\n",
       "    <tr>\n",
       "      <th>4</th>\n",
       "      <td>1954400510</td>\n",
       "      <td>20150218T000000</td>\n",
       "      <td>510000.0</td>\n",
       "      <td>3</td>\n",
       "      <td>2.00</td>\n",
       "      <td>1680</td>\n",
       "      <td>8080</td>\n",
       "      <td>1.0</td>\n",
       "      <td>0</td>\n",
       "      <td>0</td>\n",
       "      <td>3</td>\n",
       "      <td>8</td>\n",
       "      <td>1680</td>\n",
       "      <td>0</td>\n",
       "      <td>1987</td>\n",
       "      <td>0</td>\n",
       "      <td>98074</td>\n",
       "      <td>47.6168</td>\n",
       "      <td>-122.045</td>\n",
       "    </tr>\n",
       "  </tbody>\n",
       "</table>\n",
       "</div>"
      ],
      "text/plain": [
       "           id             date     price  bedrooms  bathrooms  sqft_living  sqft_lot  floors  waterfront  view  condition  grade  sqft_above  sqft_basement  yr_built  yr_renovated  zipcode      lat     long\n",
       "0  7129300520  20141013T000000  221900.0         3       1.00         1180      5650     1.0           0     0          3      7        1180              0      1955             0    98178  47.5112 -122.257\n",
       "1  6414100192  20141209T000000  538000.0         3       2.25         2570      7242     2.0           0     0          3      7        2170            400      1951          1991    98125  47.7210 -122.319\n",
       "2  5631500400  20150225T000000  180000.0         2       1.00          770     10000     1.0           0     0          3      6         770              0      1933             0    98028  47.7379 -122.233\n",
       "3  2487200875  20141209T000000  604000.0         4       3.00         1960      5000     1.0           0     0          5      7        1050            910      1965             0    98136  47.5208 -122.393\n",
       "4  1954400510  20150218T000000  510000.0         3       2.00         1680      8080     1.0           0     0          3      8        1680              0      1987             0    98074  47.6168 -122.045"
      ]
     },
     "execution_count": 15,
     "metadata": {},
     "output_type": "execute_result"
    }
   ],
   "source": [
    "df3 = df3.drop(columns = ['sqft_living15', 'sqft_lot15'], axis = 1)\n",
    "\n",
    "df3.head()"
   ]
  },
  {
   "cell_type": "markdown",
   "id": "8cafb47b",
   "metadata": {},
   "source": [
    "3) Change 'waterfront' from 0 or 1 to yes or no"
   ]
  },
  {
   "cell_type": "code",
   "execution_count": 16,
   "id": "aca17aba",
   "metadata": {
    "ExecuteTime": {
     "end_time": "2021-08-09T13:52:28.474638Z",
     "start_time": "2021-08-09T13:52:28.459677Z"
    }
   },
   "outputs": [],
   "source": [
    "df3['waterfront'] = df3['waterfront'].apply(lambda x: 'yes' if x==1 else 'no')"
   ]
  },
  {
   "cell_type": "markdown",
   "id": "5f80d672",
   "metadata": {},
   "source": [
    "4) Change 'date' to date format"
   ]
  },
  {
   "cell_type": "code",
   "execution_count": 17,
   "id": "bdcb5270",
   "metadata": {
    "ExecuteTime": {
     "end_time": "2021-08-09T13:52:28.490596Z",
     "start_time": "2021-08-09T13:52:28.475635Z"
    }
   },
   "outputs": [],
   "source": [
    "#date\n",
    "df3['date'] = pd.to_datetime(df3['date'])"
   ]
  },
  {
   "cell_type": "markdown",
   "id": "7c849497",
   "metadata": {
    "ExecuteTime": {
     "end_time": "2021-08-03T19:39:51.949040Z",
     "start_time": "2021-08-03T19:39:51.934083Z"
    }
   },
   "source": [
    "5) Identify the duplicated ones and drop if it is necessary"
   ]
  },
  {
   "cell_type": "code",
   "execution_count": 18,
   "id": "e041305e",
   "metadata": {
    "ExecuteTime": {
     "end_time": "2021-08-09T13:52:28.521513Z",
     "start_time": "2021-08-09T13:52:28.491593Z"
    },
    "scrolled": false
   },
   "outputs": [
    {
     "data": {
      "text/html": [
       "<div>\n",
       "<style scoped>\n",
       "    .dataframe tbody tr th:only-of-type {\n",
       "        vertical-align: middle;\n",
       "    }\n",
       "\n",
       "    .dataframe tbody tr th {\n",
       "        vertical-align: top;\n",
       "    }\n",
       "\n",
       "    .dataframe thead th {\n",
       "        text-align: right;\n",
       "    }\n",
       "</style>\n",
       "<table border=\"1\" class=\"dataframe\">\n",
       "  <thead>\n",
       "    <tr style=\"text-align: right;\">\n",
       "      <th></th>\n",
       "      <th>id</th>\n",
       "      <th>date</th>\n",
       "      <th>price</th>\n",
       "      <th>bedrooms</th>\n",
       "      <th>bathrooms</th>\n",
       "      <th>sqft_living</th>\n",
       "      <th>sqft_lot</th>\n",
       "      <th>floors</th>\n",
       "      <th>waterfront</th>\n",
       "      <th>view</th>\n",
       "      <th>condition</th>\n",
       "      <th>grade</th>\n",
       "      <th>sqft_above</th>\n",
       "      <th>sqft_basement</th>\n",
       "      <th>yr_built</th>\n",
       "      <th>yr_renovated</th>\n",
       "      <th>zipcode</th>\n",
       "      <th>lat</th>\n",
       "      <th>long</th>\n",
       "    </tr>\n",
       "  </thead>\n",
       "  <tbody>\n",
       "    <tr>\n",
       "      <th>0</th>\n",
       "      <td>6021501535</td>\n",
       "      <td>2014-07-25</td>\n",
       "      <td>430000.0</td>\n",
       "      <td>3</td>\n",
       "      <td>1.50</td>\n",
       "      <td>1580</td>\n",
       "      <td>5000</td>\n",
       "      <td>1.0</td>\n",
       "      <td>no</td>\n",
       "      <td>0</td>\n",
       "      <td>3</td>\n",
       "      <td>8</td>\n",
       "      <td>1290</td>\n",
       "      <td>290</td>\n",
       "      <td>1939</td>\n",
       "      <td>0</td>\n",
       "      <td>98117</td>\n",
       "      <td>47.6870</td>\n",
       "      <td>-122.386</td>\n",
       "    </tr>\n",
       "    <tr>\n",
       "      <th>1</th>\n",
       "      <td>6021501535</td>\n",
       "      <td>2014-12-23</td>\n",
       "      <td>700000.0</td>\n",
       "      <td>3</td>\n",
       "      <td>1.50</td>\n",
       "      <td>1580</td>\n",
       "      <td>5000</td>\n",
       "      <td>1.0</td>\n",
       "      <td>no</td>\n",
       "      <td>0</td>\n",
       "      <td>3</td>\n",
       "      <td>8</td>\n",
       "      <td>1290</td>\n",
       "      <td>290</td>\n",
       "      <td>1939</td>\n",
       "      <td>0</td>\n",
       "      <td>98117</td>\n",
       "      <td>47.6870</td>\n",
       "      <td>-122.386</td>\n",
       "    </tr>\n",
       "    <tr>\n",
       "      <th>2</th>\n",
       "      <td>4139480200</td>\n",
       "      <td>2014-06-18</td>\n",
       "      <td>1384000.0</td>\n",
       "      <td>4</td>\n",
       "      <td>3.25</td>\n",
       "      <td>4290</td>\n",
       "      <td>12103</td>\n",
       "      <td>1.0</td>\n",
       "      <td>no</td>\n",
       "      <td>3</td>\n",
       "      <td>3</td>\n",
       "      <td>11</td>\n",
       "      <td>2690</td>\n",
       "      <td>1600</td>\n",
       "      <td>1997</td>\n",
       "      <td>0</td>\n",
       "      <td>98006</td>\n",
       "      <td>47.5503</td>\n",
       "      <td>-122.102</td>\n",
       "    </tr>\n",
       "    <tr>\n",
       "      <th>3</th>\n",
       "      <td>4139480200</td>\n",
       "      <td>2014-12-09</td>\n",
       "      <td>1400000.0</td>\n",
       "      <td>4</td>\n",
       "      <td>3.25</td>\n",
       "      <td>4290</td>\n",
       "      <td>12103</td>\n",
       "      <td>1.0</td>\n",
       "      <td>no</td>\n",
       "      <td>3</td>\n",
       "      <td>3</td>\n",
       "      <td>11</td>\n",
       "      <td>2690</td>\n",
       "      <td>1600</td>\n",
       "      <td>1997</td>\n",
       "      <td>0</td>\n",
       "      <td>98006</td>\n",
       "      <td>47.5503</td>\n",
       "      <td>-122.102</td>\n",
       "    </tr>\n",
       "    <tr>\n",
       "      <th>4</th>\n",
       "      <td>7520000520</td>\n",
       "      <td>2014-09-05</td>\n",
       "      <td>232000.0</td>\n",
       "      <td>2</td>\n",
       "      <td>1.00</td>\n",
       "      <td>1240</td>\n",
       "      <td>12092</td>\n",
       "      <td>1.0</td>\n",
       "      <td>no</td>\n",
       "      <td>0</td>\n",
       "      <td>3</td>\n",
       "      <td>6</td>\n",
       "      <td>960</td>\n",
       "      <td>280</td>\n",
       "      <td>1922</td>\n",
       "      <td>1984</td>\n",
       "      <td>98146</td>\n",
       "      <td>47.4957</td>\n",
       "      <td>-122.352</td>\n",
       "    </tr>\n",
       "  </tbody>\n",
       "</table>\n",
       "</div>"
      ],
      "text/plain": [
       "           id       date      price  bedrooms  bathrooms  sqft_living  sqft_lot  floors waterfront  view  condition  grade  sqft_above  sqft_basement  yr_built  yr_renovated  zipcode      lat     long\n",
       "0  6021501535 2014-07-25   430000.0         3       1.50         1580      5000     1.0         no     0          3      8        1290            290      1939             0    98117  47.6870 -122.386\n",
       "1  6021501535 2014-12-23   700000.0         3       1.50         1580      5000     1.0         no     0          3      8        1290            290      1939             0    98117  47.6870 -122.386\n",
       "2  4139480200 2014-06-18  1384000.0         4       3.25         4290     12103     1.0         no     3          3     11        2690           1600      1997             0    98006  47.5503 -122.102\n",
       "3  4139480200 2014-12-09  1400000.0         4       3.25         4290     12103     1.0         no     3          3     11        2690           1600      1997             0    98006  47.5503 -122.102\n",
       "4  7520000520 2014-09-05   232000.0         2       1.00         1240     12092     1.0         no     0          3      6         960            280      1922          1984    98146  47.4957 -122.352"
      ]
     },
     "execution_count": 18,
     "metadata": {},
     "output_type": "execute_result"
    }
   ],
   "source": [
    "df_dup = df3[df3['id'].duplicated(keep = False )].reset_index(drop=True)\n",
    "df_dup.head()"
   ]
  },
  {
   "cell_type": "code",
   "execution_count": 19,
   "id": "eb328e6d",
   "metadata": {
    "ExecuteTime": {
     "end_time": "2021-08-09T13:52:28.536474Z",
     "start_time": "2021-08-09T13:52:28.522510Z"
    }
   },
   "outputs": [
    {
     "name": "stdout",
     "output_type": "stream",
     "text": [
      "There is 353 duplicated registers in the dataframe. Duplicated registers with the same date will be dropped\n"
     ]
    }
   ],
   "source": [
    "print ('There is {} duplicated registers in the dataframe. Duplicated registers with the same date will be dropped'.format(df_dup.shape[0]))"
   ]
  },
  {
   "cell_type": "markdown",
   "id": "199f9f4d",
   "metadata": {},
   "source": [
    "6°)Task: All the duplicated one with the same date will be considered errors, the ones with different dates will be keep"
   ]
  },
  {
   "cell_type": "markdown",
   "id": "df9863fb",
   "metadata": {},
   "source": [
    "# Data Exploration"
   ]
  },
  {
   "cell_type": "code",
   "execution_count": 20,
   "id": "44433a95",
   "metadata": {
    "ExecuteTime": {
     "end_time": "2021-08-09T13:52:28.552429Z",
     "start_time": "2021-08-09T13:52:28.537471Z"
    }
   },
   "outputs": [],
   "source": [
    "df4 = df3.copy()"
   ]
  },
  {
   "cell_type": "code",
   "execution_count": 21,
   "id": "c3cd2678",
   "metadata": {
    "ExecuteTime": {
     "end_time": "2021-08-09T13:52:28.568419Z",
     "start_time": "2021-08-09T13:52:28.553428Z"
    }
   },
   "outputs": [],
   "source": [
    "main_attributes = df4[['date', 'price', 'bedrooms', 'bathrooms', 'sqft_lot', 'sqft_living','floors', 'yr_built', 'yr_renovated']]"
   ]
  },
  {
   "cell_type": "code",
   "execution_count": 22,
   "id": "20477b3f",
   "metadata": {
    "ExecuteTime": {
     "end_time": "2021-08-09T13:52:28.600334Z",
     "start_time": "2021-08-09T13:52:28.571379Z"
    }
   },
   "outputs": [
    {
     "data": {
      "text/html": [
       "<div>\n",
       "<style scoped>\n",
       "    .dataframe tbody tr th:only-of-type {\n",
       "        vertical-align: middle;\n",
       "    }\n",
       "\n",
       "    .dataframe tbody tr th {\n",
       "        vertical-align: top;\n",
       "    }\n",
       "\n",
       "    .dataframe thead th {\n",
       "        text-align: right;\n",
       "    }\n",
       "</style>\n",
       "<table border=\"1\" class=\"dataframe\">\n",
       "  <thead>\n",
       "    <tr style=\"text-align: right;\">\n",
       "      <th></th>\n",
       "      <th>count</th>\n",
       "      <th>mean</th>\n",
       "      <th>std</th>\n",
       "      <th>min</th>\n",
       "      <th>25%</th>\n",
       "      <th>50%</th>\n",
       "      <th>75%</th>\n",
       "      <th>max</th>\n",
       "    </tr>\n",
       "  </thead>\n",
       "  <tbody>\n",
       "    <tr>\n",
       "      <th>price</th>\n",
       "      <td>21613.0</td>\n",
       "      <td>540088.141767</td>\n",
       "      <td>367127.196483</td>\n",
       "      <td>75000.0</td>\n",
       "      <td>321950.00</td>\n",
       "      <td>450000.00</td>\n",
       "      <td>645000.0</td>\n",
       "      <td>7700000.0</td>\n",
       "    </tr>\n",
       "    <tr>\n",
       "      <th>bedrooms</th>\n",
       "      <td>21613.0</td>\n",
       "      <td>3.370842</td>\n",
       "      <td>0.930062</td>\n",
       "      <td>0.0</td>\n",
       "      <td>3.00</td>\n",
       "      <td>3.00</td>\n",
       "      <td>4.0</td>\n",
       "      <td>33.0</td>\n",
       "    </tr>\n",
       "    <tr>\n",
       "      <th>bathrooms</th>\n",
       "      <td>21613.0</td>\n",
       "      <td>2.114757</td>\n",
       "      <td>0.770163</td>\n",
       "      <td>0.0</td>\n",
       "      <td>1.75</td>\n",
       "      <td>2.25</td>\n",
       "      <td>2.5</td>\n",
       "      <td>8.0</td>\n",
       "    </tr>\n",
       "    <tr>\n",
       "      <th>sqft_lot</th>\n",
       "      <td>21613.0</td>\n",
       "      <td>15106.967566</td>\n",
       "      <td>41420.511515</td>\n",
       "      <td>520.0</td>\n",
       "      <td>5040.00</td>\n",
       "      <td>7618.00</td>\n",
       "      <td>10688.0</td>\n",
       "      <td>1651359.0</td>\n",
       "    </tr>\n",
       "    <tr>\n",
       "      <th>sqft_living</th>\n",
       "      <td>21613.0</td>\n",
       "      <td>2079.899736</td>\n",
       "      <td>918.440897</td>\n",
       "      <td>290.0</td>\n",
       "      <td>1427.00</td>\n",
       "      <td>1910.00</td>\n",
       "      <td>2550.0</td>\n",
       "      <td>13540.0</td>\n",
       "    </tr>\n",
       "    <tr>\n",
       "      <th>floors</th>\n",
       "      <td>21613.0</td>\n",
       "      <td>1.494309</td>\n",
       "      <td>0.539989</td>\n",
       "      <td>1.0</td>\n",
       "      <td>1.00</td>\n",
       "      <td>1.50</td>\n",
       "      <td>2.0</td>\n",
       "      <td>3.5</td>\n",
       "    </tr>\n",
       "    <tr>\n",
       "      <th>yr_built</th>\n",
       "      <td>21613.0</td>\n",
       "      <td>1971.005136</td>\n",
       "      <td>29.373411</td>\n",
       "      <td>1900.0</td>\n",
       "      <td>1951.00</td>\n",
       "      <td>1975.00</td>\n",
       "      <td>1997.0</td>\n",
       "      <td>2015.0</td>\n",
       "    </tr>\n",
       "    <tr>\n",
       "      <th>yr_renovated</th>\n",
       "      <td>21613.0</td>\n",
       "      <td>84.402258</td>\n",
       "      <td>401.679240</td>\n",
       "      <td>0.0</td>\n",
       "      <td>0.00</td>\n",
       "      <td>0.00</td>\n",
       "      <td>0.0</td>\n",
       "      <td>2015.0</td>\n",
       "    </tr>\n",
       "  </tbody>\n",
       "</table>\n",
       "</div>"
      ],
      "text/plain": [
       "                count           mean            std      min        25%        50%       75%        max\n",
       "price         21613.0  540088.141767  367127.196483  75000.0  321950.00  450000.00  645000.0  7700000.0\n",
       "bedrooms      21613.0       3.370842       0.930062      0.0       3.00       3.00       4.0       33.0\n",
       "bathrooms     21613.0       2.114757       0.770163      0.0       1.75       2.25       2.5        8.0\n",
       "sqft_lot      21613.0   15106.967566   41420.511515    520.0    5040.00    7618.00   10688.0  1651359.0\n",
       "sqft_living   21613.0    2079.899736     918.440897    290.0    1427.00    1910.00    2550.0    13540.0\n",
       "floors        21613.0       1.494309       0.539989      1.0       1.00       1.50       2.0        3.5\n",
       "yr_built      21613.0    1971.005136      29.373411   1900.0    1951.00    1975.00    1997.0     2015.0\n",
       "yr_renovated  21613.0      84.402258     401.679240      0.0       0.00       0.00       0.0     2015.0"
      ]
     },
     "execution_count": 22,
     "metadata": {},
     "output_type": "execute_result"
    }
   ],
   "source": [
    "main_attributes.describe().T"
   ]
  },
  {
   "cell_type": "markdown",
   "id": "58af61bf",
   "metadata": {
    "ExecuteTime": {
     "end_time": "2021-08-05T12:47:54.215490Z",
     "start_time": "2021-08-05T12:47:54.200497Z"
    }
   },
   "source": [
    "1) There is a big std in the price, and seems to have outliers. Check it.\n",
    "\n",
    "2) There is at least one house without bedrooms and one with 33. Check it.\n",
    "\n",
    "3) There is at least one house without bathrooms. Check it.\n",
    "\n",
    "4) There are houses with the year of renovation with '0'. It has to be treated."
   ]
  },
  {
   "cell_type": "markdown",
   "id": "ed611dd5",
   "metadata": {},
   "source": [
    "## Descriptive Statistics"
   ]
  },
  {
   "cell_type": "code",
   "execution_count": 23,
   "id": "00a5b5e0",
   "metadata": {
    "ExecuteTime": {
     "end_time": "2021-08-09T13:52:28.616259Z",
     "start_time": "2021-08-09T13:52:28.601301Z"
    }
   },
   "outputs": [],
   "source": [
    "df_aux = df4.drop_duplicates(subset='id')\n",
    "num_attributes = df4.select_dtypes(include = ['int64', 'float64'] )\n",
    "cat_attributes = df4[['date', 'waterfront', 'view', 'condition', 'grade','yr_built', 'yr_renovated']]"
   ]
  },
  {
   "cell_type": "markdown",
   "id": "86b905bc",
   "metadata": {
    "ExecuteTime": {
     "end_time": "2021-08-04T19:39:09.844095Z",
     "start_time": "2021-08-04T19:39:07.828Z"
    }
   },
   "source": [
    "### Numerical Attributes"
   ]
  },
  {
   "cell_type": "code",
   "execution_count": 24,
   "id": "dc563eb3",
   "metadata": {
    "ExecuteTime": {
     "end_time": "2021-08-09T13:52:28.631221Z",
     "start_time": "2021-08-09T13:52:28.617256Z"
    }
   },
   "outputs": [],
   "source": [
    "#central tendency statistics - mean, median\n",
    "ct_mean   = pd.DataFrame ( num_attributes.apply (np.mean   ) ).T\n",
    "ct_median = pd.DataFrame ( num_attributes.apply (np.median ) ).T"
   ]
  },
  {
   "cell_type": "code",
   "execution_count": 25,
   "id": "7350cae1",
   "metadata": {
    "ExecuteTime": {
     "end_time": "2021-08-09T13:52:28.662715Z",
     "start_time": "2021-08-09T13:52:28.633214Z"
    }
   },
   "outputs": [],
   "source": [
    "# dispersion statistics - standard deviation, minimum, maximum, range, skew, kurtosis\n",
    "d_std      = pd.DataFrame ( num_attributes.apply (np.std) ).T\n",
    "d_min      = pd.DataFrame ( num_attributes.apply (np.min) ).T\n",
    "d_max      = pd.DataFrame ( num_attributes.apply (np.max) ).T\n",
    "d_range    = pd.DataFrame ( num_attributes.apply ( lambda x: x.max() - x.min())).T\n",
    "d_skew     = pd.DataFrame ( num_attributes.apply ( lambda x: x.skew() ) ).T\n",
    "d_kurtosis = pd.DataFrame ( num_attributes.apply ( lambda x: x.kurtosis() ) ).T"
   ]
  },
  {
   "cell_type": "code",
   "execution_count": 26,
   "id": "69184e9d",
   "metadata": {
    "ExecuteTime": {
     "end_time": "2021-08-09T13:52:28.694597Z",
     "start_time": "2021-08-09T13:52:28.664677Z"
    }
   },
   "outputs": [
    {
     "data": {
      "text/html": [
       "<div>\n",
       "<style scoped>\n",
       "    .dataframe tbody tr th:only-of-type {\n",
       "        vertical-align: middle;\n",
       "    }\n",
       "\n",
       "    .dataframe tbody tr th {\n",
       "        vertical-align: top;\n",
       "    }\n",
       "\n",
       "    .dataframe thead th {\n",
       "        text-align: right;\n",
       "    }\n",
       "</style>\n",
       "<table border=\"1\" class=\"dataframe\">\n",
       "  <thead>\n",
       "    <tr style=\"text-align: right;\">\n",
       "      <th></th>\n",
       "      <th>attributes</th>\n",
       "      <th>min.</th>\n",
       "      <th>max</th>\n",
       "      <th>range</th>\n",
       "      <th>mean</th>\n",
       "      <th>median</th>\n",
       "      <th>std</th>\n",
       "      <th>skew</th>\n",
       "      <th>kurtosis</th>\n",
       "    </tr>\n",
       "  </thead>\n",
       "  <tbody>\n",
       "    <tr>\n",
       "      <th>0</th>\n",
       "      <td>id</td>\n",
       "      <td>1.000102e+06</td>\n",
       "      <td>9.900000e+09</td>\n",
       "      <td>9.899000e+09</td>\n",
       "      <td>4.580302e+09</td>\n",
       "      <td>3.904930e+09</td>\n",
       "      <td>2.876499e+09</td>\n",
       "      <td>0.243329</td>\n",
       "      <td>-1.260542</td>\n",
       "    </tr>\n",
       "    <tr>\n",
       "      <th>1</th>\n",
       "      <td>price</td>\n",
       "      <td>7.500000e+04</td>\n",
       "      <td>7.700000e+06</td>\n",
       "      <td>7.625000e+06</td>\n",
       "      <td>5.400881e+05</td>\n",
       "      <td>4.500000e+05</td>\n",
       "      <td>3.671187e+05</td>\n",
       "      <td>4.024069</td>\n",
       "      <td>34.585540</td>\n",
       "    </tr>\n",
       "    <tr>\n",
       "      <th>2</th>\n",
       "      <td>bedrooms</td>\n",
       "      <td>0.000000e+00</td>\n",
       "      <td>3.300000e+01</td>\n",
       "      <td>3.300000e+01</td>\n",
       "      <td>3.370842e+00</td>\n",
       "      <td>3.000000e+00</td>\n",
       "      <td>9.300403e-01</td>\n",
       "      <td>1.974300</td>\n",
       "      <td>49.063653</td>\n",
       "    </tr>\n",
       "    <tr>\n",
       "      <th>3</th>\n",
       "      <td>bathrooms</td>\n",
       "      <td>0.000000e+00</td>\n",
       "      <td>8.000000e+00</td>\n",
       "      <td>8.000000e+00</td>\n",
       "      <td>2.114757e+00</td>\n",
       "      <td>2.250000e+00</td>\n",
       "      <td>7.701453e-01</td>\n",
       "      <td>0.511108</td>\n",
       "      <td>1.279902</td>\n",
       "    </tr>\n",
       "    <tr>\n",
       "      <th>4</th>\n",
       "      <td>sqft_living</td>\n",
       "      <td>2.900000e+02</td>\n",
       "      <td>1.354000e+04</td>\n",
       "      <td>1.325000e+04</td>\n",
       "      <td>2.079900e+03</td>\n",
       "      <td>1.910000e+03</td>\n",
       "      <td>9.184196e+02</td>\n",
       "      <td>1.471555</td>\n",
       "      <td>5.243093</td>\n",
       "    </tr>\n",
       "    <tr>\n",
       "      <th>5</th>\n",
       "      <td>sqft_lot</td>\n",
       "      <td>5.200000e+02</td>\n",
       "      <td>1.651359e+06</td>\n",
       "      <td>1.650839e+06</td>\n",
       "      <td>1.510697e+04</td>\n",
       "      <td>7.618000e+03</td>\n",
       "      <td>4.141955e+04</td>\n",
       "      <td>13.060019</td>\n",
       "      <td>285.077820</td>\n",
       "    </tr>\n",
       "    <tr>\n",
       "      <th>6</th>\n",
       "      <td>floors</td>\n",
       "      <td>1.000000e+00</td>\n",
       "      <td>3.500000e+00</td>\n",
       "      <td>2.500000e+00</td>\n",
       "      <td>1.494309e+00</td>\n",
       "      <td>1.500000e+00</td>\n",
       "      <td>5.399764e-01</td>\n",
       "      <td>0.616177</td>\n",
       "      <td>-0.484723</td>\n",
       "    </tr>\n",
       "    <tr>\n",
       "      <th>7</th>\n",
       "      <td>view</td>\n",
       "      <td>0.000000e+00</td>\n",
       "      <td>4.000000e+00</td>\n",
       "      <td>4.000000e+00</td>\n",
       "      <td>2.343034e-01</td>\n",
       "      <td>0.000000e+00</td>\n",
       "      <td>7.662998e-01</td>\n",
       "      <td>3.395750</td>\n",
       "      <td>10.893022</td>\n",
       "    </tr>\n",
       "    <tr>\n",
       "      <th>8</th>\n",
       "      <td>condition</td>\n",
       "      <td>1.000000e+00</td>\n",
       "      <td>5.000000e+00</td>\n",
       "      <td>4.000000e+00</td>\n",
       "      <td>3.409430e+00</td>\n",
       "      <td>3.000000e+00</td>\n",
       "      <td>6.507280e-01</td>\n",
       "      <td>1.032805</td>\n",
       "      <td>0.525764</td>\n",
       "    </tr>\n",
       "    <tr>\n",
       "      <th>9</th>\n",
       "      <td>grade</td>\n",
       "      <td>1.000000e+00</td>\n",
       "      <td>1.300000e+01</td>\n",
       "      <td>1.200000e+01</td>\n",
       "      <td>7.656873e+00</td>\n",
       "      <td>7.000000e+00</td>\n",
       "      <td>1.175432e+00</td>\n",
       "      <td>0.771103</td>\n",
       "      <td>1.190932</td>\n",
       "    </tr>\n",
       "    <tr>\n",
       "      <th>10</th>\n",
       "      <td>sqft_above</td>\n",
       "      <td>2.900000e+02</td>\n",
       "      <td>9.410000e+03</td>\n",
       "      <td>9.120000e+03</td>\n",
       "      <td>1.788391e+03</td>\n",
       "      <td>1.560000e+03</td>\n",
       "      <td>8.280718e+02</td>\n",
       "      <td>1.446664</td>\n",
       "      <td>3.402304</td>\n",
       "    </tr>\n",
       "    <tr>\n",
       "      <th>11</th>\n",
       "      <td>sqft_basement</td>\n",
       "      <td>0.000000e+00</td>\n",
       "      <td>4.820000e+03</td>\n",
       "      <td>4.820000e+03</td>\n",
       "      <td>2.915090e+02</td>\n",
       "      <td>0.000000e+00</td>\n",
       "      <td>4.425648e+02</td>\n",
       "      <td>1.577965</td>\n",
       "      <td>2.715574</td>\n",
       "    </tr>\n",
       "    <tr>\n",
       "      <th>12</th>\n",
       "      <td>yr_built</td>\n",
       "      <td>1.900000e+03</td>\n",
       "      <td>2.015000e+03</td>\n",
       "      <td>1.150000e+02</td>\n",
       "      <td>1.971005e+03</td>\n",
       "      <td>1.975000e+03</td>\n",
       "      <td>2.937273e+01</td>\n",
       "      <td>-0.469805</td>\n",
       "      <td>-0.657408</td>\n",
       "    </tr>\n",
       "    <tr>\n",
       "      <th>13</th>\n",
       "      <td>yr_renovated</td>\n",
       "      <td>0.000000e+00</td>\n",
       "      <td>2.015000e+03</td>\n",
       "      <td>2.015000e+03</td>\n",
       "      <td>8.440226e+01</td>\n",
       "      <td>0.000000e+00</td>\n",
       "      <td>4.016699e+02</td>\n",
       "      <td>4.549493</td>\n",
       "      <td>18.701152</td>\n",
       "    </tr>\n",
       "    <tr>\n",
       "      <th>14</th>\n",
       "      <td>zipcode</td>\n",
       "      <td>9.800100e+04</td>\n",
       "      <td>9.819900e+04</td>\n",
       "      <td>1.980000e+02</td>\n",
       "      <td>9.807794e+04</td>\n",
       "      <td>9.806500e+04</td>\n",
       "      <td>5.350379e+01</td>\n",
       "      <td>0.405661</td>\n",
       "      <td>-0.853479</td>\n",
       "    </tr>\n",
       "    <tr>\n",
       "      <th>15</th>\n",
       "      <td>lat</td>\n",
       "      <td>4.715590e+01</td>\n",
       "      <td>4.777760e+01</td>\n",
       "      <td>6.217000e-01</td>\n",
       "      <td>4.756005e+01</td>\n",
       "      <td>4.757180e+01</td>\n",
       "      <td>1.385605e-01</td>\n",
       "      <td>-0.485270</td>\n",
       "      <td>-0.676313</td>\n",
       "    </tr>\n",
       "    <tr>\n",
       "      <th>16</th>\n",
       "      <td>long</td>\n",
       "      <td>-1.225190e+02</td>\n",
       "      <td>-1.213150e+02</td>\n",
       "      <td>1.204000e+00</td>\n",
       "      <td>-1.222139e+02</td>\n",
       "      <td>-1.222300e+02</td>\n",
       "      <td>1.408251e-01</td>\n",
       "      <td>0.885053</td>\n",
       "      <td>1.049501</td>\n",
       "    </tr>\n",
       "  </tbody>\n",
       "</table>\n",
       "</div>"
      ],
      "text/plain": [
       "       attributes          min.           max         range          mean        median           std       skew    kurtosis\n",
       "0              id  1.000102e+06  9.900000e+09  9.899000e+09  4.580302e+09  3.904930e+09  2.876499e+09   0.243329   -1.260542\n",
       "1           price  7.500000e+04  7.700000e+06  7.625000e+06  5.400881e+05  4.500000e+05  3.671187e+05   4.024069   34.585540\n",
       "2        bedrooms  0.000000e+00  3.300000e+01  3.300000e+01  3.370842e+00  3.000000e+00  9.300403e-01   1.974300   49.063653\n",
       "3       bathrooms  0.000000e+00  8.000000e+00  8.000000e+00  2.114757e+00  2.250000e+00  7.701453e-01   0.511108    1.279902\n",
       "4     sqft_living  2.900000e+02  1.354000e+04  1.325000e+04  2.079900e+03  1.910000e+03  9.184196e+02   1.471555    5.243093\n",
       "5        sqft_lot  5.200000e+02  1.651359e+06  1.650839e+06  1.510697e+04  7.618000e+03  4.141955e+04  13.060019  285.077820\n",
       "6          floors  1.000000e+00  3.500000e+00  2.500000e+00  1.494309e+00  1.500000e+00  5.399764e-01   0.616177   -0.484723\n",
       "7            view  0.000000e+00  4.000000e+00  4.000000e+00  2.343034e-01  0.000000e+00  7.662998e-01   3.395750   10.893022\n",
       "8       condition  1.000000e+00  5.000000e+00  4.000000e+00  3.409430e+00  3.000000e+00  6.507280e-01   1.032805    0.525764\n",
       "9           grade  1.000000e+00  1.300000e+01  1.200000e+01  7.656873e+00  7.000000e+00  1.175432e+00   0.771103    1.190932\n",
       "10     sqft_above  2.900000e+02  9.410000e+03  9.120000e+03  1.788391e+03  1.560000e+03  8.280718e+02   1.446664    3.402304\n",
       "11  sqft_basement  0.000000e+00  4.820000e+03  4.820000e+03  2.915090e+02  0.000000e+00  4.425648e+02   1.577965    2.715574\n",
       "12       yr_built  1.900000e+03  2.015000e+03  1.150000e+02  1.971005e+03  1.975000e+03  2.937273e+01  -0.469805   -0.657408\n",
       "13   yr_renovated  0.000000e+00  2.015000e+03  2.015000e+03  8.440226e+01  0.000000e+00  4.016699e+02   4.549493   18.701152\n",
       "14        zipcode  9.800100e+04  9.819900e+04  1.980000e+02  9.807794e+04  9.806500e+04  5.350379e+01   0.405661   -0.853479\n",
       "15            lat  4.715590e+01  4.777760e+01  6.217000e-01  4.756005e+01  4.757180e+01  1.385605e-01  -0.485270   -0.676313\n",
       "16           long -1.225190e+02 -1.213150e+02  1.204000e+00 -1.222139e+02 -1.222300e+02  1.408251e-01   0.885053    1.049501"
      ]
     },
     "execution_count": 26,
     "metadata": {},
     "output_type": "execute_result"
    }
   ],
   "source": [
    "#concatenate\n",
    "df_metrics = pd.concat ([d_min,d_max,d_range,ct_mean,ct_median,d_std,d_skew,d_kurtosis]).T.reset_index()\n",
    "df_metrics.columns = ['attributes', 'min.','max','range', 'mean', 'median', 'std', 'skew', 'kurtosis']\n",
    "df_metrics"
   ]
  },
  {
   "cell_type": "markdown",
   "id": "207eba11",
   "metadata": {
    "ExecuteTime": {
     "end_time": "2021-08-04T19:39:09.845093Z",
     "start_time": "2021-08-04T19:39:07.830Z"
    }
   },
   "source": [
    "### Categorical Attributes"
   ]
  },
  {
   "cell_type": "code",
   "execution_count": 27,
   "id": "38ff4d53",
   "metadata": {
    "ExecuteTime": {
     "end_time": "2021-08-09T13:52:28.710555Z",
     "start_time": "2021-08-09T13:52:28.695595Z"
    },
    "scrolled": true
   },
   "outputs": [
    {
     "data": {
      "text/html": [
       "<div>\n",
       "<style scoped>\n",
       "    .dataframe tbody tr th:only-of-type {\n",
       "        vertical-align: middle;\n",
       "    }\n",
       "\n",
       "    .dataframe tbody tr th {\n",
       "        vertical-align: top;\n",
       "    }\n",
       "\n",
       "    .dataframe thead th {\n",
       "        text-align: right;\n",
       "    }\n",
       "</style>\n",
       "<table border=\"1\" class=\"dataframe\">\n",
       "  <thead>\n",
       "    <tr style=\"text-align: right;\">\n",
       "      <th></th>\n",
       "      <th>date</th>\n",
       "      <th>waterfront</th>\n",
       "      <th>view</th>\n",
       "      <th>condition</th>\n",
       "      <th>grade</th>\n",
       "      <th>yr_built</th>\n",
       "      <th>yr_renovated</th>\n",
       "    </tr>\n",
       "  </thead>\n",
       "  <tbody>\n",
       "    <tr>\n",
       "      <th>0</th>\n",
       "      <td>2014-10-13</td>\n",
       "      <td>no</td>\n",
       "      <td>0</td>\n",
       "      <td>3</td>\n",
       "      <td>7</td>\n",
       "      <td>1955</td>\n",
       "      <td>0</td>\n",
       "    </tr>\n",
       "    <tr>\n",
       "      <th>1</th>\n",
       "      <td>2014-12-09</td>\n",
       "      <td>no</td>\n",
       "      <td>0</td>\n",
       "      <td>3</td>\n",
       "      <td>7</td>\n",
       "      <td>1951</td>\n",
       "      <td>1991</td>\n",
       "    </tr>\n",
       "    <tr>\n",
       "      <th>2</th>\n",
       "      <td>2015-02-25</td>\n",
       "      <td>no</td>\n",
       "      <td>0</td>\n",
       "      <td>3</td>\n",
       "      <td>6</td>\n",
       "      <td>1933</td>\n",
       "      <td>0</td>\n",
       "    </tr>\n",
       "    <tr>\n",
       "      <th>3</th>\n",
       "      <td>2014-12-09</td>\n",
       "      <td>no</td>\n",
       "      <td>0</td>\n",
       "      <td>5</td>\n",
       "      <td>7</td>\n",
       "      <td>1965</td>\n",
       "      <td>0</td>\n",
       "    </tr>\n",
       "    <tr>\n",
       "      <th>4</th>\n",
       "      <td>2015-02-18</td>\n",
       "      <td>no</td>\n",
       "      <td>0</td>\n",
       "      <td>3</td>\n",
       "      <td>8</td>\n",
       "      <td>1987</td>\n",
       "      <td>0</td>\n",
       "    </tr>\n",
       "  </tbody>\n",
       "</table>\n",
       "</div>"
      ],
      "text/plain": [
       "        date waterfront  view  condition  grade  yr_built  yr_renovated\n",
       "0 2014-10-13         no     0          3      7      1955             0\n",
       "1 2014-12-09         no     0          3      7      1951          1991\n",
       "2 2015-02-25         no     0          3      6      1933             0\n",
       "3 2014-12-09         no     0          5      7      1965             0\n",
       "4 2015-02-18         no     0          3      8      1987             0"
      ]
     },
     "execution_count": 27,
     "metadata": {},
     "output_type": "execute_result"
    }
   ],
   "source": [
    "cat_attributes.head()"
   ]
  },
  {
   "cell_type": "code",
   "execution_count": 28,
   "id": "aa5d820a",
   "metadata": {
    "ExecuteTime": {
     "end_time": "2021-08-09T13:52:28.726536Z",
     "start_time": "2021-08-09T13:52:28.711552Z"
    }
   },
   "outputs": [
    {
     "data": {
      "text/html": [
       "<div>\n",
       "<style scoped>\n",
       "    .dataframe tbody tr th:only-of-type {\n",
       "        vertical-align: middle;\n",
       "    }\n",
       "\n",
       "    .dataframe tbody tr th {\n",
       "        vertical-align: top;\n",
       "    }\n",
       "\n",
       "    .dataframe thead th {\n",
       "        text-align: right;\n",
       "    }\n",
       "</style>\n",
       "<table border=\"1\" class=\"dataframe\">\n",
       "  <thead>\n",
       "    <tr style=\"text-align: right;\">\n",
       "      <th></th>\n",
       "      <th>date</th>\n",
       "      <th>waterfront</th>\n",
       "      <th>view</th>\n",
       "      <th>condition</th>\n",
       "      <th>grade</th>\n",
       "      <th>yr_built</th>\n",
       "      <th>yr_renovated</th>\n",
       "    </tr>\n",
       "  </thead>\n",
       "  <tbody>\n",
       "    <tr>\n",
       "      <th>0</th>\n",
       "      <td>2014-10-13</td>\n",
       "      <td>no</td>\n",
       "      <td>0</td>\n",
       "      <td>3</td>\n",
       "      <td>7</td>\n",
       "      <td>1955</td>\n",
       "      <td>0</td>\n",
       "    </tr>\n",
       "    <tr>\n",
       "      <th>1</th>\n",
       "      <td>2014-12-09</td>\n",
       "      <td>no</td>\n",
       "      <td>0</td>\n",
       "      <td>3</td>\n",
       "      <td>7</td>\n",
       "      <td>1951</td>\n",
       "      <td>1991</td>\n",
       "    </tr>\n",
       "    <tr>\n",
       "      <th>2</th>\n",
       "      <td>2015-02-25</td>\n",
       "      <td>no</td>\n",
       "      <td>0</td>\n",
       "      <td>3</td>\n",
       "      <td>6</td>\n",
       "      <td>1933</td>\n",
       "      <td>0</td>\n",
       "    </tr>\n",
       "    <tr>\n",
       "      <th>3</th>\n",
       "      <td>2014-12-09</td>\n",
       "      <td>no</td>\n",
       "      <td>0</td>\n",
       "      <td>5</td>\n",
       "      <td>7</td>\n",
       "      <td>1965</td>\n",
       "      <td>0</td>\n",
       "    </tr>\n",
       "    <tr>\n",
       "      <th>4</th>\n",
       "      <td>2015-02-18</td>\n",
       "      <td>no</td>\n",
       "      <td>0</td>\n",
       "      <td>3</td>\n",
       "      <td>8</td>\n",
       "      <td>1987</td>\n",
       "      <td>0</td>\n",
       "    </tr>\n",
       "  </tbody>\n",
       "</table>\n",
       "</div>"
      ],
      "text/plain": [
       "        date waterfront  view  condition  grade  yr_built  yr_renovated\n",
       "0 2014-10-13         no     0          3      7      1955             0\n",
       "1 2014-12-09         no     0          3      7      1951          1991\n",
       "2 2015-02-25         no     0          3      6      1933             0\n",
       "3 2014-12-09         no     0          5      7      1965             0\n",
       "4 2015-02-18         no     0          3      8      1987             0"
      ]
     },
     "execution_count": 28,
     "metadata": {},
     "output_type": "execute_result"
    }
   ],
   "source": [
    "cat_attributes.head()"
   ]
  },
  {
   "cell_type": "code",
   "execution_count": 29,
   "id": "8faa0c01",
   "metadata": {
    "ExecuteTime": {
     "end_time": "2021-08-09T13:52:28.741498Z",
     "start_time": "2021-08-09T13:52:28.728532Z"
    }
   },
   "outputs": [],
   "source": [
    "total = df_aux.shape[0]\n",
    "\n",
    "wf_number    = cat_attributes [ cat_attributes ['waterfront'] == 'yes'].shape[0]\n",
    "\n",
    "lqd_number   = cat_attributes [ cat_attributes ['grade'] <=3 ].shape[0]\n",
    "\n",
    "hq_number    = cat_attributes [ cat_attributes ['grade'] >= 11].shape[0]\n",
    "\n",
    "avgq_number  = total - lqd_number - hq_number"
   ]
  },
  {
   "cell_type": "code",
   "execution_count": 30,
   "id": "b9c79211",
   "metadata": {
    "ExecuteTime": {
     "end_time": "2021-08-09T13:52:28.756433Z",
     "start_time": "2021-08-09T13:52:28.742469Z"
    }
   },
   "outputs": [
    {
     "name": "stdout",
     "output_type": "stream",
     "text": [
      "Dataset has 163 houses with waterview, what corresponding to 0.76 % of the data set\n",
      "\n",
      "Dataset has 4 houses with low quality design , what corresponding to 0.02 % of the data set\n",
      "\n",
      "Dataset has 20930 houses with average quality design , what corresponding to 97.64 % of the data set\n",
      "\n",
      "Dataset has 502 houses with high quality design , what corresponding to 2.34 % of the data set\n"
     ]
    }
   ],
   "source": [
    "print ( 'Dataset has {} houses with waterview, what corresponding to {:.2f} % of the data set\\n' .format( wf_number, (wf_number/total)*100))\n",
    "print ( 'Dataset has {} houses with low quality design , what corresponding to {:.2f} % of the data set\\n' .format( lqd_number, (lqd_number/total)*100))\n",
    "print ( 'Dataset has {} houses with average quality design , what corresponding to {:.2f} % of the data set\\n' .format( avgq_number, (avgq_number/total)*100))\n",
    "print ( 'Dataset has {} houses with high quality design , what corresponding to {:.2f} % of the data set' .format( hq_number, (hq_number/total)*100))"
   ]
  },
  {
   "cell_type": "markdown",
   "id": "3b2c3dd6",
   "metadata": {
    "ExecuteTime": {
     "end_time": "2021-08-06T13:23:15.588493Z",
     "start_time": "2021-08-06T13:23:15.346147Z"
    }
   },
   "source": [
    "#### mean price for view"
   ]
  },
  {
   "cell_type": "code",
   "execution_count": 31,
   "id": "0df2f036",
   "metadata": {
    "ExecuteTime": {
     "end_time": "2021-08-09T13:52:28.961084Z",
     "start_time": "2021-08-09T13:52:28.757431Z"
    }
   },
   "outputs": [
    {
     "data": {
      "text/plain": [
       "<AxesSubplot:xlabel='view', ylabel='price'>"
      ]
     },
     "execution_count": 31,
     "metadata": {},
     "output_type": "execute_result"
    },
    {
     "data": {
      "image/png": "[encoded data removed]",
      "text/plain": [
       "<Figure size 1800x864 with 1 Axes>"
      ]
     },
     "metadata": {},
     "output_type": "display_data"
    }
   ],
   "source": [
    "df4_aux = df4[['price','view']].groupby('view').mean().reset_index()\n",
    "sns.barplot(x='view', y ='price', data=df4_aux)"
   ]
  },
  {
   "cell_type": "markdown",
   "id": "da9355e7",
   "metadata": {
    "ExecuteTime": {
     "end_time": "2021-08-09T12:27:01.380092Z",
     "start_time": "2021-08-09T12:27:01.365133Z"
    }
   },
   "source": [
    "It seems that the view has a big contribuition to the price"
   ]
  },
  {
   "cell_type": "markdown",
   "id": "04c5dbf5",
   "metadata": {
    "ExecuteTime": {
     "end_time": "2021-08-09T12:45:30.706067Z",
     "start_time": "2021-08-09T12:45:30.689079Z"
    }
   },
   "source": [
    "#### Mean price for grade"
   ]
  },
  {
   "cell_type": "code",
   "execution_count": 32,
   "id": "591f7eda",
   "metadata": {
    "ExecuteTime": {
     "end_time": "2021-08-09T13:52:29.167089Z",
     "start_time": "2021-08-09T13:52:28.962082Z"
    }
   },
   "outputs": [
    {
     "data": {
      "text/plain": [
       "<AxesSubplot:xlabel='grade', ylabel='price'>"
      ]
     },
     "execution_count": 32,
     "metadata": {},
     "output_type": "execute_result"
    },
    {
     "data": {
      "image/png": "[encoded data removed]",
      "text/plain": [
       "<Figure size 1800x864 with 1 Axes>"
      ]
     },
     "metadata": {},
     "output_type": "display_data"
    }
   ],
   "source": [
    "df4_aux2 = df4[['price', 'grade']].groupby('grade').mean().reset_index()\n",
    "sns.barplot(x='grade', y='price', data=df4_aux2)"
   ]
  },
  {
   "cell_type": "markdown",
   "id": "4f828231",
   "metadata": {},
   "source": [
    "#### Average price for condition"
   ]
  },
  {
   "cell_type": "code",
   "execution_count": 33,
   "id": "629e976f",
   "metadata": {
    "ExecuteTime": {
     "end_time": "2021-08-09T13:52:29.323437Z",
     "start_time": "2021-08-09T13:52:29.168047Z"
    }
   },
   "outputs": [
    {
     "data": {
      "image/png": "[encoded data removed]",
      "text/plain": [
       "<Figure size 1800x864 with 1 Axes>"
      ]
     },
     "metadata": {},
     "output_type": "display_data"
    }
   ],
   "source": [
    "aux = df4[['price', 'condition']].groupby('condition').mean().reset_index()\n",
    "sns.barplot (x='condition', y='price', data = aux);"
   ]
  },
  {
   "cell_type": "markdown",
   "id": "3895fc26",
   "metadata": {
    "ExecuteTime": {
     "end_time": "2021-08-09T12:27:01.383084Z",
     "start_time": "2021-08-09T12:26:58.085Z"
    }
   },
   "source": [
    "It seems that its more valuable by a 2-condition house and make a lift than buy a 4-conditon one"
   ]
  },
  {
   "cell_type": "markdown",
   "id": "ada553b5",
   "metadata": {
    "ExecuteTime": {
     "end_time": "2021-08-09T12:27:01.383084Z",
     "start_time": "2021-08-09T12:26:58.088Z"
    }
   },
   "source": [
    "#### Average price per Zipcode"
   ]
  },
  {
   "cell_type": "code",
   "execution_count": 34,
   "id": "30e05336",
   "metadata": {
    "ExecuteTime": {
     "end_time": "2021-08-09T13:52:30.732659Z",
     "start_time": "2021-08-09T13:52:29.324304Z"
    }
   },
   "outputs": [
    {
     "data": {
      "image/png": "[encoded data removed]",
      "text/plain": [
       "<Figure size 1800x864 with 1 Axes>"
      ]
     },
     "metadata": {},
     "output_type": "display_data"
    }
   ],
   "source": [
    "aux = df4[['price', 'zipcode']].groupby('zipcode').mean().reset_index()\n",
    "sns.barplot(x='zipcode', y='price', data = aux);"
   ]
  },
  {
   "cell_type": "code",
   "execution_count": 35,
   "id": "10e89231",
   "metadata": {
    "ExecuteTime": {
     "end_time": "2021-08-09T13:52:32.812328Z",
     "start_time": "2021-08-09T13:52:30.733656Z"
    }
   },
   "outputs": [
    {
     "data": {
      "image/png": "[encoded data removed]",
      "text/plain": [
       "<Figure size 1800x864 with 1 Axes>"
      ]
     },
     "metadata": {},
     "output_type": "display_data"
    }
   ],
   "source": [
    "aux = df4[['price', 'yr_built']].groupby('yr_built').mean().reset_index()\n",
    "sns.barplot(x='yr_built', y='price', data = aux);"
   ]
  },
  {
   "cell_type": "markdown",
   "id": "6359dec2",
   "metadata": {
    "ExecuteTime": {
     "end_time": "2021-08-04T22:38:49.806449Z",
     "start_time": "2021-08-04T22:38:49.791490Z"
    }
   },
   "source": [
    "# Primary Hipotesys"
   ]
  },
  {
   "cell_type": "markdown",
   "id": "df7d7d63",
   "metadata": {
    "ExecuteTime": {
     "end_time": "2021-08-04T22:38:49.806449Z",
     "start_time": "2021-08-04T22:38:49.791490Z"
    }
   },
   "source": [
    "1) Houses with waterview are more expensive.\n",
    "\n",
    "2) Houses with garage are more expensive.\n",
    "\n",
    "3) There is a main feature that raise the prices.\n",
    "\n",
    "4) Houses that were not renovated are cheaper.\n",
    "\n",
    "5) The most houses with high quality design has waterview.\n",
    "6) Houses with price below the average price for the zip code would be a good deal\n",
    "7) Houses with price belou the average price for the zip code AND condition equal '2' would be a good opportunity to high the grade and profit"
   ]
  },
  {
   "cell_type": "code",
   "execution_count": null,
   "id": "aacf68a6",
   "metadata": {},
   "outputs": [],
   "source": []
  },
  {
   "cell_type": "code",
   "execution_count": null,
   "id": "88adca30",
   "metadata": {},
   "outputs": [],
   "source": []
  },
  {
   "cell_type": "code",
   "execution_count": null,
   "id": "189e9f00",
   "metadata": {},
   "outputs": [],
   "source": []
  },
  {
   "cell_type": "code",
   "execution_count": null,
   "id": "beef4fb5",
   "metadata": {},
   "outputs": [],
   "source": []
  },
  {
   "cell_type": "markdown",
   "id": "efe04275",
   "metadata": {},
   "source": [
    "# Feature Engeneering"
   ]
  },
  {
   "cell_type": "markdown",
   "id": "0400961f",
   "metadata": {
    "ExecuteTime": {
     "end_time": "2021-08-05T14:43:31.920060Z",
     "start_time": "2021-08-05T14:43:31.911078Z"
    }
   },
   "source": [
    "## Feature filtering"
   ]
  },
  {
   "cell_type": "code",
   "execution_count": 83,
   "id": "300d30b8",
   "metadata": {
    "ExecuteTime": {
     "end_time": "2021-08-09T14:35:45.980541Z",
     "start_time": "2021-08-09T14:35:45.966550Z"
    }
   },
   "outputs": [],
   "source": [
    "df6 = df4[['id', 'price', 'sqft_living','sqft_lot', 'zipcode']].copy()"
   ]
  },
  {
   "cell_type": "markdown",
   "id": "015ba348",
   "metadata": {
    "ExecuteTime": {
     "end_time": "2021-08-05T14:10:52.734839Z",
     "start_time": "2021-08-05T14:10:50.681Z"
    }
   },
   "source": [
    "## Average price per area"
   ]
  },
  {
   "cell_type": "code",
   "execution_count": 84,
   "id": "7621971e",
   "metadata": {
    "ExecuteTime": {
     "end_time": "2021-08-09T14:35:46.683812Z",
     "start_time": "2021-08-09T14:35:46.409189Z"
    },
    "scrolled": true
   },
   "outputs": [],
   "source": [
    "df6['area'] = df6[['sqft_living', 'sqft_lot']].apply(lambda x: x['sqft_living'] if x['sqft_living'] >= x['sqft_lot'] else x['sqft_lot'], axis = 1)"
   ]
  },
  {
   "cell_type": "code",
   "execution_count": 85,
   "id": "d32dcb98",
   "metadata": {
    "ExecuteTime": {
     "end_time": "2021-08-09T14:35:46.978853Z",
     "start_time": "2021-08-09T14:35:46.964891Z"
    }
   },
   "outputs": [],
   "source": [
    "df6['price_area'] = df6['price'] / df6['area'] # price/sqft for each house"
   ]
  },
  {
   "cell_type": "code",
   "execution_count": 86,
   "id": "a01df5a3",
   "metadata": {
    "ExecuteTime": {
     "end_time": "2021-08-09T14:35:47.503761Z",
     "start_time": "2021-08-09T14:35:47.486780Z"
    }
   },
   "outputs": [
    {
     "data": {
      "text/html": [
       "<div>\n",
       "<style scoped>\n",
       "    .dataframe tbody tr th:only-of-type {\n",
       "        vertical-align: middle;\n",
       "    }\n",
       "\n",
       "    .dataframe tbody tr th {\n",
       "        vertical-align: top;\n",
       "    }\n",
       "\n",
       "    .dataframe thead th {\n",
       "        text-align: right;\n",
       "    }\n",
       "</style>\n",
       "<table border=\"1\" class=\"dataframe\">\n",
       "  <thead>\n",
       "    <tr style=\"text-align: right;\">\n",
       "      <th></th>\n",
       "      <th>id</th>\n",
       "      <th>price</th>\n",
       "      <th>sqft_living</th>\n",
       "      <th>sqft_lot</th>\n",
       "      <th>zipcode</th>\n",
       "      <th>area</th>\n",
       "      <th>price_area</th>\n",
       "    </tr>\n",
       "  </thead>\n",
       "  <tbody>\n",
       "    <tr>\n",
       "      <th>0</th>\n",
       "      <td>7129300520</td>\n",
       "      <td>221900.0</td>\n",
       "      <td>1180</td>\n",
       "      <td>5650</td>\n",
       "      <td>98178</td>\n",
       "      <td>5650</td>\n",
       "      <td>39.274336</td>\n",
       "    </tr>\n",
       "    <tr>\n",
       "      <th>1</th>\n",
       "      <td>6414100192</td>\n",
       "      <td>538000.0</td>\n",
       "      <td>2570</td>\n",
       "      <td>7242</td>\n",
       "      <td>98125</td>\n",
       "      <td>7242</td>\n",
       "      <td>74.288870</td>\n",
       "    </tr>\n",
       "    <tr>\n",
       "      <th>2</th>\n",
       "      <td>5631500400</td>\n",
       "      <td>180000.0</td>\n",
       "      <td>770</td>\n",
       "      <td>10000</td>\n",
       "      <td>98028</td>\n",
       "      <td>10000</td>\n",
       "      <td>18.000000</td>\n",
       "    </tr>\n",
       "    <tr>\n",
       "      <th>3</th>\n",
       "      <td>2487200875</td>\n",
       "      <td>604000.0</td>\n",
       "      <td>1960</td>\n",
       "      <td>5000</td>\n",
       "      <td>98136</td>\n",
       "      <td>5000</td>\n",
       "      <td>120.800000</td>\n",
       "    </tr>\n",
       "    <tr>\n",
       "      <th>4</th>\n",
       "      <td>1954400510</td>\n",
       "      <td>510000.0</td>\n",
       "      <td>1680</td>\n",
       "      <td>8080</td>\n",
       "      <td>98074</td>\n",
       "      <td>8080</td>\n",
       "      <td>63.118812</td>\n",
       "    </tr>\n",
       "  </tbody>\n",
       "</table>\n",
       "</div>"
      ],
      "text/plain": [
       "           id     price  sqft_living  sqft_lot  zipcode   area  price_area\n",
       "0  7129300520  221900.0         1180      5650    98178   5650   39.274336\n",
       "1  6414100192  538000.0         2570      7242    98125   7242   74.288870\n",
       "2  5631500400  180000.0          770     10000    98028  10000   18.000000\n",
       "3  2487200875  604000.0         1960      5000    98136   5000  120.800000\n",
       "4  1954400510  510000.0         1680      8080    98074   8080   63.118812"
      ]
     },
     "execution_count": 86,
     "metadata": {},
     "output_type": "execute_result"
    }
   ],
   "source": [
    "df6.head()"
   ]
  },
  {
   "cell_type": "markdown",
   "id": "38553cad",
   "metadata": {},
   "source": [
    "## Average price for sqft built per zipcode"
   ]
  },
  {
   "cell_type": "code",
   "execution_count": 87,
   "id": "9c5a97bb",
   "metadata": {
    "ExecuteTime": {
     "end_time": "2021-08-09T14:35:49.991317Z",
     "start_time": "2021-08-09T14:35:49.982342Z"
    }
   },
   "outputs": [],
   "source": [
    "#df6['avg_price'] = df6[['price_area', 'zipcode']].groupby(by='zipcode').mean()\n",
    "df6['avg_price'] = df6.groupby(['zipcode'])['price_area'].mean()"
   ]
  },
  {
   "cell_type": "code",
   "execution_count": 88,
   "id": "bfda07c3",
   "metadata": {
    "ExecuteTime": {
     "end_time": "2021-08-09T14:35:50.548824Z",
     "start_time": "2021-08-09T14:35:50.535825Z"
    }
   },
   "outputs": [
    {
     "data": {
      "text/html": [
       "<div>\n",
       "<style scoped>\n",
       "    .dataframe tbody tr th:only-of-type {\n",
       "        vertical-align: middle;\n",
       "    }\n",
       "\n",
       "    .dataframe tbody tr th {\n",
       "        vertical-align: top;\n",
       "    }\n",
       "\n",
       "    .dataframe thead th {\n",
       "        text-align: right;\n",
       "    }\n",
       "</style>\n",
       "<table border=\"1\" class=\"dataframe\">\n",
       "  <thead>\n",
       "    <tr style=\"text-align: right;\">\n",
       "      <th></th>\n",
       "      <th>id</th>\n",
       "      <th>price</th>\n",
       "      <th>sqft_living</th>\n",
       "      <th>sqft_lot</th>\n",
       "      <th>zipcode</th>\n",
       "      <th>area</th>\n",
       "      <th>price_area</th>\n",
       "      <th>avg_price</th>\n",
       "    </tr>\n",
       "  </thead>\n",
       "  <tbody>\n",
       "    <tr>\n",
       "      <th>0</th>\n",
       "      <td>7129300520</td>\n",
       "      <td>221900.0</td>\n",
       "      <td>1180</td>\n",
       "      <td>5650</td>\n",
       "      <td>98178</td>\n",
       "      <td>5650</td>\n",
       "      <td>39.274336</td>\n",
       "      <td>NaN</td>\n",
       "    </tr>\n",
       "    <tr>\n",
       "      <th>1</th>\n",
       "      <td>6414100192</td>\n",
       "      <td>538000.0</td>\n",
       "      <td>2570</td>\n",
       "      <td>7242</td>\n",
       "      <td>98125</td>\n",
       "      <td>7242</td>\n",
       "      <td>74.288870</td>\n",
       "      <td>NaN</td>\n",
       "    </tr>\n",
       "    <tr>\n",
       "      <th>2</th>\n",
       "      <td>5631500400</td>\n",
       "      <td>180000.0</td>\n",
       "      <td>770</td>\n",
       "      <td>10000</td>\n",
       "      <td>98028</td>\n",
       "      <td>10000</td>\n",
       "      <td>18.000000</td>\n",
       "      <td>NaN</td>\n",
       "    </tr>\n",
       "    <tr>\n",
       "      <th>3</th>\n",
       "      <td>2487200875</td>\n",
       "      <td>604000.0</td>\n",
       "      <td>1960</td>\n",
       "      <td>5000</td>\n",
       "      <td>98136</td>\n",
       "      <td>5000</td>\n",
       "      <td>120.800000</td>\n",
       "      <td>NaN</td>\n",
       "    </tr>\n",
       "    <tr>\n",
       "      <th>4</th>\n",
       "      <td>1954400510</td>\n",
       "      <td>510000.0</td>\n",
       "      <td>1680</td>\n",
       "      <td>8080</td>\n",
       "      <td>98074</td>\n",
       "      <td>8080</td>\n",
       "      <td>63.118812</td>\n",
       "      <td>NaN</td>\n",
       "    </tr>\n",
       "  </tbody>\n",
       "</table>\n",
       "</div>"
      ],
      "text/plain": [
       "           id     price  sqft_living  sqft_lot  zipcode   area  price_area  avg_price\n",
       "0  7129300520  221900.0         1180      5650    98178   5650   39.274336        NaN\n",
       "1  6414100192  538000.0         2570      7242    98125   7242   74.288870        NaN\n",
       "2  5631500400  180000.0          770     10000    98028  10000   18.000000        NaN\n",
       "3  2487200875  604000.0         1960      5000    98136   5000  120.800000        NaN\n",
       "4  1954400510  510000.0         1680      8080    98074   8080   63.118812        NaN"
      ]
     },
     "execution_count": 88,
     "metadata": {},
     "output_type": "execute_result"
    }
   ],
   "source": [
    "df6.head()"
   ]
  },
  {
   "cell_type": "code",
   "execution_count": 65,
   "id": "29877067",
   "metadata": {
    "ExecuteTime": {
     "end_time": "2021-08-09T14:13:05.915824Z",
     "start_time": "2021-08-09T14:13:05.900865Z"
    }
   },
   "outputs": [],
   "source": [
    "## Price level (cheap, average expensive)"
   ]
  },
  {
   "cell_type": "code",
   "execution_count": 66,
   "id": "8b9eed52",
   "metadata": {
    "ExecuteTime": {
     "end_time": "2021-08-09T14:13:06.179911Z",
     "start_time": "2021-08-09T14:13:06.165943Z"
    }
   },
   "outputs": [],
   "source": [
    "## Should buy"
   ]
  },
  {
   "cell_type": "markdown",
   "id": "8eba168c",
   "metadata": {
    "ExecuteTime": {
     "end_time": "2021-08-04T19:39:09.849081Z",
     "start_time": "2021-08-04T19:39:07.839Z"
    }
   },
   "source": [
    "# Conclusion"
   ]
  },
  {
   "cell_type": "markdown",
   "id": "3f7bcaff",
   "metadata": {
    "ExecuteTime": {
     "end_time": "2021-08-04T19:39:09.850085Z",
     "start_time": "2021-08-04T19:39:07.842Z"
    }
   },
   "source": [
    "# Next steps"
   ]
  },
  {
   "cell_type": "markdown",
   "id": "1c91f9cd",
   "metadata": {
    "ExecuteTime": {
     "end_time": "2021-08-09T13:52:33.239479Z",
     "start_time": "2021-08-09T13:52:33.225486Z"
    }
   },
   "source": [
    "- Use ML models to find clusters among the houses and classify them\n",
    "- Can use the data to a simple regression model to the price of selling future houses"
   ]
  }
 ],
 "metadata": {
  "kernelspec": {
   "display_name": "Python 3",
   "language": "python",
   "name": "python3"
  },
  "language_info": {
   "codemirror_mode": {
    "name": "ipython",
    "version": 3
   },
   "file_extension": ".py",
   "mimetype": "text/x-python",
   "name": "python",
   "nbconvert_exporter": "python",
   "pygments_lexer": "ipython3",
   "version": "3.8.10"
  },
  "toc": {
   "base_numbering": "0",
   "nav_menu": {},
   "number_sections": true,
   "sideBar": true,
   "skip_h1_title": false,
   "title_cell": "Table of Contents",
   "title_sidebar": "Contents",
   "toc_cell": false,
   "toc_position": {},
   "toc_section_display": true,
   "toc_window_display": false
  }
 },
 "nbformat": 4,
 "nbformat_minor": 5
}
