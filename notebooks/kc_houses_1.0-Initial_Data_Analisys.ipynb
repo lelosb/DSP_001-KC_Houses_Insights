{
 "cells": [
  {
   "cell_type": "markdown",
   "id": "43c12e6f",
   "metadata": {
    "heading_collapsed": true
   },
   "source": [
    "# King Count Houses - Insight  Project"
   ]
  },
  {
   "cell_type": "markdown",
   "id": "31a537a6",
   "metadata": {
    "ExecuteTime": {
     "end_time": "2021-06-28T15:33:39.487347Z",
     "start_time": "2021-06-28T15:33:39.146704Z"
    }
   },
   "source": [
    "# Basic setups"
   ]
  },
  {
   "cell_type": "markdown",
   "id": "5188af92",
   "metadata": {
    "ExecuteTime": {
     "end_time": "2021-06-28T15:33:39.487347Z",
     "start_time": "2021-06-28T15:33:39.146704Z"
    }
   },
   "source": [
    "## IMPORTS"
   ]
  },
  {
   "cell_type": "code",
   "execution_count": 1,
   "id": "c705bc40",
   "metadata": {
    "ExecuteTime": {
     "end_time": "2021-08-04T19:39:09.419231Z",
     "start_time": "2021-08-04T19:39:07.761439Z"
    }
   },
   "outputs": [],
   "source": [
    "import math\n",
    "import plotly.express as px\n",
    "import pandas as pd\n",
    "from IPython.core.display     import HTML\n",
    "import seaborn       as sns\n",
    "import datetime\n",
    "import ipywidgets as widgets\n",
    "from   ipywidgets import fixed"
   ]
  },
  {
   "cell_type": "markdown",
   "id": "3751aad5",
   "metadata": {},
   "source": [
    "## Helper functions"
   ]
  },
  {
   "cell_type": "code",
   "execution_count": 2,
   "id": "85bfe522",
   "metadata": {
    "ExecuteTime": {
     "end_time": "2021-08-04T19:39:09.451145Z",
     "start_time": "2021-08-04T19:39:09.420228Z"
    }
   },
   "outputs": [
    {
     "name": "stdout",
     "output_type": "stream",
     "text": [
      "Populating the interactive namespace from numpy and matplotlib\n"
     ]
    },
    {
     "data": {
      "text/html": [
       "<style>.container { width:100% !important; }</style>"
      ],
      "text/plain": [
       "<IPython.core.display.HTML object>"
      ]
     },
     "metadata": {},
     "output_type": "display_data"
    }
   ],
   "source": [
    "def jupyter_settings():\n",
    "    %matplotlib inline\n",
    "    %pylab inline\n",
    "    plt.style.use( 'bmh' )\n",
    "    plt.rcParams['figure.figsize'] = [25, 12]\n",
    "    plt.rcParams['font.size'] = 24\n",
    "    display( HTML( '<style>.container { width:100% !important; }</style>') )\n",
    "    pd.options.display.max_columns = None\n",
    "    pd.options.display.max_rows = None\n",
    "    pd.set_option( 'display.expand_frame_repr', False )\n",
    "    sns.set()\n",
    "jupyter_settings()"
   ]
  },
  {
   "cell_type": "markdown",
   "id": "91a3595d",
   "metadata": {
    "ExecuteTime": {
     "end_time": "2021-06-28T22:15:13.510514Z",
     "start_time": "2021-06-28T22:15:13.498546Z"
    }
   },
   "source": [
    "# Data Load"
   ]
  },
  {
   "cell_type": "code",
   "execution_count": 10,
   "id": "eb461e26",
   "metadata": {
    "ExecuteTime": {
     "end_time": "2021-08-04T19:45:01.679881Z",
     "start_time": "2021-08-04T19:45:01.606441Z"
    }
   },
   "outputs": [],
   "source": [
    "df_raw = pd.read_csv(r'../data/raw/kc_house_data.csv') "
   ]
  },
  {
   "cell_type": "markdown",
   "id": "36b47910",
   "metadata": {
    "ExecuteTime": {
     "end_time": "2021-08-02T17:59:47.486649Z",
     "start_time": "2021-08-02T17:59:47.468664Z"
    }
   },
   "source": [
    "## Data Overview"
   ]
  },
  {
   "cell_type": "code",
   "execution_count": 11,
   "id": "d006be8a",
   "metadata": {
    "ExecuteTime": {
     "end_time": "2021-08-04T20:06:38.438000Z",
     "start_time": "2021-08-04T20:06:38.399105Z"
    }
   },
   "outputs": [
    {
     "data": {
      "text/html": [
       "<div>\n",
       "<style scoped>\n",
       "    .dataframe tbody tr th:only-of-type {\n",
       "        vertical-align: middle;\n",
       "    }\n",
       "\n",
       "    .dataframe tbody tr th {\n",
       "        vertical-align: top;\n",
       "    }\n",
       "\n",
       "    .dataframe thead th {\n",
       "        text-align: right;\n",
       "    }\n",
       "</style>\n",
       "<table border=\"1\" class=\"dataframe\">\n",
       "  <thead>\n",
       "    <tr style=\"text-align: right;\">\n",
       "      <th></th>\n",
       "      <th>id</th>\n",
       "      <th>date</th>\n",
       "      <th>price</th>\n",
       "      <th>bedrooms</th>\n",
       "      <th>bathrooms</th>\n",
       "      <th>sqft_living</th>\n",
       "      <th>sqft_lot</th>\n",
       "      <th>floors</th>\n",
       "      <th>waterfront</th>\n",
       "      <th>view</th>\n",
       "      <th>condition</th>\n",
       "      <th>grade</th>\n",
       "      <th>sqft_above</th>\n",
       "      <th>sqft_basement</th>\n",
       "      <th>yr_built</th>\n",
       "      <th>yr_renovated</th>\n",
       "      <th>zipcode</th>\n",
       "      <th>lat</th>\n",
       "      <th>long</th>\n",
       "      <th>sqft_living15</th>\n",
       "      <th>sqft_lot15</th>\n",
       "    </tr>\n",
       "  </thead>\n",
       "  <tbody>\n",
       "    <tr>\n",
       "      <th>943</th>\n",
       "      <td>8820901670</td>\n",
       "      <td>20140811T000000</td>\n",
       "      <td>971000.0</td>\n",
       "      <td>5</td>\n",
       "      <td>3.50</td>\n",
       "      <td>4390</td>\n",
       "      <td>10140</td>\n",
       "      <td>2.0</td>\n",
       "      <td>0</td>\n",
       "      <td>0</td>\n",
       "      <td>3</td>\n",
       "      <td>9</td>\n",
       "      <td>3350</td>\n",
       "      <td>1040</td>\n",
       "      <td>2005</td>\n",
       "      <td>0</td>\n",
       "      <td>98125</td>\n",
       "      <td>47.7174</td>\n",
       "      <td>-122.282</td>\n",
       "      <td>2010</td>\n",
       "      <td>8400</td>\n",
       "    </tr>\n",
       "    <tr>\n",
       "      <th>17729</th>\n",
       "      <td>1705400361</td>\n",
       "      <td>20141208T000000</td>\n",
       "      <td>600000.0</td>\n",
       "      <td>2</td>\n",
       "      <td>1.00</td>\n",
       "      <td>2120</td>\n",
       "      <td>6897</td>\n",
       "      <td>1.0</td>\n",
       "      <td>0</td>\n",
       "      <td>0</td>\n",
       "      <td>4</td>\n",
       "      <td>7</td>\n",
       "      <td>1060</td>\n",
       "      <td>1060</td>\n",
       "      <td>1923</td>\n",
       "      <td>0</td>\n",
       "      <td>98118</td>\n",
       "      <td>47.5566</td>\n",
       "      <td>-122.278</td>\n",
       "      <td>1900</td>\n",
       "      <td>4462</td>\n",
       "    </tr>\n",
       "    <tr>\n",
       "      <th>20170</th>\n",
       "      <td>6626300095</td>\n",
       "      <td>20140519T000000</td>\n",
       "      <td>749950.0</td>\n",
       "      <td>4</td>\n",
       "      <td>2.50</td>\n",
       "      <td>3430</td>\n",
       "      <td>64441</td>\n",
       "      <td>2.0</td>\n",
       "      <td>0</td>\n",
       "      <td>0</td>\n",
       "      <td>3</td>\n",
       "      <td>8</td>\n",
       "      <td>3430</td>\n",
       "      <td>0</td>\n",
       "      <td>2013</td>\n",
       "      <td>0</td>\n",
       "      <td>98077</td>\n",
       "      <td>47.7694</td>\n",
       "      <td>-122.064</td>\n",
       "      <td>3580</td>\n",
       "      <td>64441</td>\n",
       "    </tr>\n",
       "    <tr>\n",
       "      <th>3558</th>\n",
       "      <td>4040200490</td>\n",
       "      <td>20140820T000000</td>\n",
       "      <td>461000.0</td>\n",
       "      <td>3</td>\n",
       "      <td>1.75</td>\n",
       "      <td>1420</td>\n",
       "      <td>5170</td>\n",
       "      <td>1.0</td>\n",
       "      <td>0</td>\n",
       "      <td>0</td>\n",
       "      <td>4</td>\n",
       "      <td>7</td>\n",
       "      <td>1420</td>\n",
       "      <td>0</td>\n",
       "      <td>1963</td>\n",
       "      <td>0</td>\n",
       "      <td>98007</td>\n",
       "      <td>47.6151</td>\n",
       "      <td>-122.145</td>\n",
       "      <td>2250</td>\n",
       "      <td>7700</td>\n",
       "    </tr>\n",
       "    <tr>\n",
       "      <th>16884</th>\n",
       "      <td>1088800470</td>\n",
       "      <td>20141028T000000</td>\n",
       "      <td>547500.0</td>\n",
       "      <td>3</td>\n",
       "      <td>2.50</td>\n",
       "      <td>2550</td>\n",
       "      <td>10355</td>\n",
       "      <td>2.0</td>\n",
       "      <td>0</td>\n",
       "      <td>0</td>\n",
       "      <td>3</td>\n",
       "      <td>9</td>\n",
       "      <td>2550</td>\n",
       "      <td>0</td>\n",
       "      <td>1990</td>\n",
       "      <td>0</td>\n",
       "      <td>98011</td>\n",
       "      <td>47.7390</td>\n",
       "      <td>-122.203</td>\n",
       "      <td>2550</td>\n",
       "      <td>10084</td>\n",
       "    </tr>\n",
       "  </tbody>\n",
       "</table>\n",
       "</div>"
      ],
      "text/plain": [
       "               id             date     price  bedrooms  bathrooms  sqft_living  sqft_lot  floors  waterfront  view  condition  grade  sqft_above  sqft_basement  yr_built  yr_renovated  zipcode      lat     long  sqft_living15  sqft_lot15\n",
       "943    8820901670  20140811T000000  971000.0         5       3.50         4390     10140     2.0           0     0          3      9        3350           1040      2005             0    98125  47.7174 -122.282           2010        8400\n",
       "17729  1705400361  20141208T000000  600000.0         2       1.00         2120      6897     1.0           0     0          4      7        1060           1060      1923             0    98118  47.5566 -122.278           1900        4462\n",
       "20170  6626300095  20140519T000000  749950.0         4       2.50         3430     64441     2.0           0     0          3      8        3430              0      2013             0    98077  47.7694 -122.064           3580       64441\n",
       "3558   4040200490  20140820T000000  461000.0         3       1.75         1420      5170     1.0           0     0          4      7        1420              0      1963             0    98007  47.6151 -122.145           2250        7700\n",
       "16884  1088800470  20141028T000000  547500.0         3       2.50         2550     10355     2.0           0     0          3      9        2550              0      1990             0    98011  47.7390 -122.203           2550       10084"
      ]
     },
     "execution_count": 11,
     "metadata": {},
     "output_type": "execute_result"
    }
   ],
   "source": [
    "df_raw.sample(5)"
   ]
  },
  {
   "cell_type": "code",
   "execution_count": 12,
   "id": "f15c20a3",
   "metadata": {
    "ExecuteTime": {
     "end_time": "2021-08-04T20:06:40.437082Z",
     "start_time": "2021-08-04T20:06:40.423087Z"
    }
   },
   "outputs": [
    {
     "name": "stdout",
     "output_type": "stream",
     "text": [
      "The original dataset have 21613 transation registers with 21 attributes.\n"
     ]
    }
   ],
   "source": [
    "print ('The original dataset have {} transation registers with {} attributes.'.format(df_raw.shape[0], df_raw.shape[1]))"
   ]
  },
  {
   "cell_type": "markdown",
   "id": "0ad76089",
   "metadata": {
    "ExecuteTime": {
     "end_time": "2021-06-28T22:15:13.510514Z",
     "start_time": "2021-06-28T22:15:13.498546Z"
    }
   },
   "source": [
    "# Data Analisys/Explorer"
   ]
  },
  {
   "cell_type": "code",
   "execution_count": 13,
   "id": "2a498d2a",
   "metadata": {
    "ExecuteTime": {
     "end_time": "2021-08-04T20:06:45.614231Z",
     "start_time": "2021-08-04T20:06:45.606253Z"
    }
   },
   "outputs": [],
   "source": [
    "df3 = df_raw.copy()"
   ]
  },
  {
   "cell_type": "code",
   "execution_count": 24,
   "id": "9fabc2e9",
   "metadata": {
    "ExecuteTime": {
     "end_time": "2021-08-04T22:00:19.073250Z",
     "start_time": "2021-08-04T22:00:19.043331Z"
    },
    "scrolled": false
   },
   "outputs": [
    {
     "data": {
      "text/html": [
       "<div>\n",
       "<style scoped>\n",
       "    .dataframe tbody tr th:only-of-type {\n",
       "        vertical-align: middle;\n",
       "    }\n",
       "\n",
       "    .dataframe tbody tr th {\n",
       "        vertical-align: top;\n",
       "    }\n",
       "\n",
       "    .dataframe thead th {\n",
       "        text-align: right;\n",
       "    }\n",
       "</style>\n",
       "<table border=\"1\" class=\"dataframe\">\n",
       "  <thead>\n",
       "    <tr style=\"text-align: right;\">\n",
       "      <th></th>\n",
       "      <th>id</th>\n",
       "      <th>date</th>\n",
       "      <th>price</th>\n",
       "      <th>bedrooms</th>\n",
       "      <th>bathrooms</th>\n",
       "      <th>sqft_living</th>\n",
       "      <th>sqft_lot</th>\n",
       "      <th>floors</th>\n",
       "      <th>waterfront</th>\n",
       "      <th>view</th>\n",
       "      <th>condition</th>\n",
       "      <th>grade</th>\n",
       "      <th>sqft_above</th>\n",
       "      <th>sqft_basement</th>\n",
       "      <th>yr_built</th>\n",
       "      <th>yr_renovated</th>\n",
       "      <th>zipcode</th>\n",
       "      <th>lat</th>\n",
       "      <th>long</th>\n",
       "      <th>sqft_living15</th>\n",
       "      <th>sqft_lot15</th>\n",
       "    </tr>\n",
       "  </thead>\n",
       "  <tbody>\n",
       "    <tr>\n",
       "      <th>15543</th>\n",
       "      <td>8732130680</td>\n",
       "      <td>20141027T000000</td>\n",
       "      <td>210000.0</td>\n",
       "      <td>3</td>\n",
       "      <td>2.25</td>\n",
       "      <td>2140</td>\n",
       "      <td>9775</td>\n",
       "      <td>1.0</td>\n",
       "      <td>0</td>\n",
       "      <td>0</td>\n",
       "      <td>4</td>\n",
       "      <td>7</td>\n",
       "      <td>1470</td>\n",
       "      <td>670</td>\n",
       "      <td>1978</td>\n",
       "      <td>0</td>\n",
       "      <td>98023</td>\n",
       "      <td>47.3060</td>\n",
       "      <td>-122.379</td>\n",
       "      <td>2050</td>\n",
       "      <td>8625</td>\n",
       "    </tr>\n",
       "    <tr>\n",
       "      <th>5486</th>\n",
       "      <td>2323069073</td>\n",
       "      <td>20140622T000000</td>\n",
       "      <td>439500.0</td>\n",
       "      <td>3</td>\n",
       "      <td>2.50</td>\n",
       "      <td>2050</td>\n",
       "      <td>40003</td>\n",
       "      <td>1.0</td>\n",
       "      <td>0</td>\n",
       "      <td>0</td>\n",
       "      <td>4</td>\n",
       "      <td>8</td>\n",
       "      <td>1570</td>\n",
       "      <td>480</td>\n",
       "      <td>1977</td>\n",
       "      <td>0</td>\n",
       "      <td>98027</td>\n",
       "      <td>47.4700</td>\n",
       "      <td>-122.000</td>\n",
       "      <td>2700</td>\n",
       "      <td>46769</td>\n",
       "    </tr>\n",
       "    <tr>\n",
       "      <th>14606</th>\n",
       "      <td>968000120</td>\n",
       "      <td>20141112T000000</td>\n",
       "      <td>395000.0</td>\n",
       "      <td>3</td>\n",
       "      <td>2.00</td>\n",
       "      <td>1470</td>\n",
       "      <td>10125</td>\n",
       "      <td>1.0</td>\n",
       "      <td>0</td>\n",
       "      <td>0</td>\n",
       "      <td>4</td>\n",
       "      <td>7</td>\n",
       "      <td>1470</td>\n",
       "      <td>0</td>\n",
       "      <td>1962</td>\n",
       "      <td>0</td>\n",
       "      <td>98011</td>\n",
       "      <td>47.7751</td>\n",
       "      <td>-122.222</td>\n",
       "      <td>1440</td>\n",
       "      <td>10125</td>\n",
       "    </tr>\n",
       "    <tr>\n",
       "      <th>3515</th>\n",
       "      <td>6648760100</td>\n",
       "      <td>20140711T000000</td>\n",
       "      <td>299950.0</td>\n",
       "      <td>3</td>\n",
       "      <td>2.50</td>\n",
       "      <td>1600</td>\n",
       "      <td>9830</td>\n",
       "      <td>2.0</td>\n",
       "      <td>0</td>\n",
       "      <td>0</td>\n",
       "      <td>4</td>\n",
       "      <td>8</td>\n",
       "      <td>1600</td>\n",
       "      <td>0</td>\n",
       "      <td>1993</td>\n",
       "      <td>0</td>\n",
       "      <td>98001</td>\n",
       "      <td>47.3390</td>\n",
       "      <td>-122.266</td>\n",
       "      <td>1890</td>\n",
       "      <td>8910</td>\n",
       "    </tr>\n",
       "    <tr>\n",
       "      <th>6490</th>\n",
       "      <td>1843130980</td>\n",
       "      <td>20140506T000000</td>\n",
       "      <td>284000.0</td>\n",
       "      <td>4</td>\n",
       "      <td>2.50</td>\n",
       "      <td>2000</td>\n",
       "      <td>5390</td>\n",
       "      <td>2.0</td>\n",
       "      <td>0</td>\n",
       "      <td>0</td>\n",
       "      <td>3</td>\n",
       "      <td>7</td>\n",
       "      <td>2000</td>\n",
       "      <td>0</td>\n",
       "      <td>2003</td>\n",
       "      <td>0</td>\n",
       "      <td>98042</td>\n",
       "      <td>47.3732</td>\n",
       "      <td>-122.129</td>\n",
       "      <td>2330</td>\n",
       "      <td>5390</td>\n",
       "    </tr>\n",
       "  </tbody>\n",
       "</table>\n",
       "</div>"
      ],
      "text/plain": [
       "               id             date     price  bedrooms  bathrooms  sqft_living  sqft_lot  floors  waterfront  view  condition  grade  sqft_above  sqft_basement  yr_built  yr_renovated  zipcode      lat     long  sqft_living15  sqft_lot15\n",
       "15543  8732130680  20141027T000000  210000.0         3       2.25         2140      9775     1.0           0     0          4      7        1470            670      1978             0    98023  47.3060 -122.379           2050        8625\n",
       "5486   2323069073  20140622T000000  439500.0         3       2.50         2050     40003     1.0           0     0          4      8        1570            480      1977             0    98027  47.4700 -122.000           2700       46769\n",
       "14606   968000120  20141112T000000  395000.0         3       2.00         1470     10125     1.0           0     0          4      7        1470              0      1962             0    98011  47.7751 -122.222           1440       10125\n",
       "3515   6648760100  20140711T000000  299950.0         3       2.50         1600      9830     2.0           0     0          4      8        1600              0      1993             0    98001  47.3390 -122.266           1890        8910\n",
       "6490   1843130980  20140506T000000  284000.0         4       2.50         2000      5390     2.0           0     0          3      7        2000              0      2003             0    98042  47.3732 -122.129           2330        5390"
      ]
     },
     "execution_count": 24,
     "metadata": {},
     "output_type": "execute_result"
    }
   ],
   "source": [
    "df3.sample(5)"
   ]
  },
  {
   "cell_type": "markdown",
   "id": "7867a233",
   "metadata": {},
   "source": [
    "1° Task: Whats the meaning and relevance of these attributes: 'grade','sqft_living15', 'sqft_lot15' and 'view'?\n",
    "Identify, cleaning or drop"
   ]
  },
  {
   "cell_type": "markdown",
   "id": "b8cd1e20",
   "metadata": {
    "ExecuteTime": {
     "end_time": "2021-06-28T22:15:13.510514Z",
     "start_time": "2021-06-28T22:15:13.498546Z"
    }
   },
   "source": [
    "## Data Cleaning\n"
   ]
  },
  {
   "cell_type": "markdown",
   "id": "21fe3f33",
   "metadata": {},
   "source": [
    "### Data Types"
   ]
  },
  {
   "cell_type": "code",
   "execution_count": 25,
   "id": "8d20ab9e",
   "metadata": {
    "ExecuteTime": {
     "end_time": "2021-08-04T22:00:24.328271Z",
     "start_time": "2021-08-04T22:00:24.314342Z"
    }
   },
   "outputs": [
    {
     "data": {
      "text/plain": [
       "id                 int64\n",
       "date              object\n",
       "price            float64\n",
       "bedrooms           int64\n",
       "bathrooms        float64\n",
       "sqft_living        int64\n",
       "sqft_lot           int64\n",
       "floors           float64\n",
       "waterfront         int64\n",
       "view               int64\n",
       "condition          int64\n",
       "grade              int64\n",
       "sqft_above         int64\n",
       "sqft_basement      int64\n",
       "yr_built           int64\n",
       "yr_renovated       int64\n",
       "zipcode            int64\n",
       "lat              float64\n",
       "long             float64\n",
       "sqft_living15      int64\n",
       "sqft_lot15         int64\n",
       "dtype: object"
      ]
     },
     "execution_count": 25,
     "metadata": {},
     "output_type": "execute_result"
    }
   ],
   "source": [
    "df3.dtypes"
   ]
  },
  {
   "cell_type": "markdown",
   "id": "c034c996",
   "metadata": {},
   "source": [
    "Tasks:\n",
    "2°)Change 'waterfront' from 0 or 1 to yes or no\n",
    "3°)Change 'date' to date format"
   ]
  },
  {
   "cell_type": "markdown",
   "id": "a006c391",
   "metadata": {
    "ExecuteTime": {
     "end_time": "2021-08-02T18:08:22.667732Z",
     "start_time": "2021-08-02T18:08:22.651736Z"
    }
   },
   "source": [
    "### Check NA"
   ]
  },
  {
   "cell_type": "code",
   "execution_count": 26,
   "id": "ba080444",
   "metadata": {
    "ExecuteTime": {
     "end_time": "2021-08-04T22:00:27.398290Z",
     "start_time": "2021-08-04T22:00:27.385296Z"
    }
   },
   "outputs": [
    {
     "data": {
      "text/plain": [
       "id               0\n",
       "date             0\n",
       "price            0\n",
       "bedrooms         0\n",
       "bathrooms        0\n",
       "sqft_living      0\n",
       "sqft_lot         0\n",
       "floors           0\n",
       "waterfront       0\n",
       "view             0\n",
       "condition        0\n",
       "grade            0\n",
       "sqft_above       0\n",
       "sqft_basement    0\n",
       "yr_built         0\n",
       "yr_renovated     0\n",
       "zipcode          0\n",
       "lat              0\n",
       "long             0\n",
       "sqft_living15    0\n",
       "sqft_lot15       0\n",
       "dtype: int64"
      ]
     },
     "execution_count": 26,
     "metadata": {},
     "output_type": "execute_result"
    }
   ],
   "source": [
    "df3.isna().sum()"
   ]
  },
  {
   "cell_type": "markdown",
   "id": "aa00dd82",
   "metadata": {
    "ExecuteTime": {
     "end_time": "2021-08-03T18:07:00.244902Z",
     "start_time": "2021-08-03T18:07:00.233930Z"
    }
   },
   "source": [
    "## Check Duplicated"
   ]
  },
  {
   "cell_type": "code",
   "execution_count": 27,
   "id": "4a2385a7",
   "metadata": {
    "ExecuteTime": {
     "end_time": "2021-08-04T22:00:30.056306Z",
     "start_time": "2021-08-04T22:00:30.041311Z"
    },
    "scrolled": true
   },
   "outputs": [
    {
     "data": {
      "text/plain": [
       "177"
      ]
     },
     "execution_count": 27,
     "metadata": {},
     "output_type": "execute_result"
    }
   ],
   "source": [
    "df3['id'].duplicated().sum()"
   ]
  },
  {
   "cell_type": "markdown",
   "id": "f1239fd7",
   "metadata": {
    "ExecuteTime": {
     "end_time": "2021-08-04T20:06:58.716987Z",
     "start_time": "2021-08-04T20:06:58.701029Z"
    }
   },
   "source": [
    "Task:\n",
    "4) Identify the duplicated ones and drop if it is necessary"
   ]
  },
  {
   "cell_type": "markdown",
   "id": "e53e3cdf",
   "metadata": {},
   "source": [
    "# Data Transform/Preparing"
   ]
  },
  {
   "cell_type": "code",
   "execution_count": 28,
   "id": "0db351f7",
   "metadata": {
    "ExecuteTime": {
     "end_time": "2021-08-04T22:00:38.045028Z",
     "start_time": "2021-08-04T22:00:38.026079Z"
    }
   },
   "outputs": [],
   "source": [
    "df4 = df3.copy()"
   ]
  },
  {
   "cell_type": "code",
   "execution_count": 20,
   "id": "bd8d81c1",
   "metadata": {
    "ExecuteTime": {
     "end_time": "2021-08-04T20:08:25.990031Z",
     "start_time": "2021-08-04T20:08:25.974043Z"
    }
   },
   "outputs": [
    {
     "data": {
      "text/plain": [
       "array([ 7,  6,  8, 11,  9,  5, 10, 12,  4,  3, 13,  1], dtype=int64)"
      ]
     },
     "execution_count": 20,
     "metadata": {},
     "output_type": "execute_result"
    }
   ],
   "source": [
    "# attribute grade\n",
    "df4['grade'].unique()"
   ]
  },
  {
   "cell_type": "markdown",
   "id": "12ba5e55",
   "metadata": {},
   "source": [
    "It's an index from 1 to 13, where 1-3 falls short of building construction and design, 7 has an average level of construction and design, and 11-13 have a high quality level of construction and design.\n",
    "***Definition*** - Change the attribute 'grade' to low_quality_design, average_quality_design and high_quality_design"
   ]
  },
  {
   "cell_type": "code",
   "execution_count": 21,
   "id": "fc7a935a",
   "metadata": {
    "ExecuteTime": {
     "end_time": "2021-08-04T20:08:28.051999Z",
     "start_time": "2021-08-04T20:08:28.022050Z"
    }
   },
   "outputs": [],
   "source": [
    "df4['grade'] = df4['grade'].apply (lambda x:   'high_quality_design' if x >=11 else \n",
    "                                                'avg_quality_design' if (x>3) & (x<=10) else\n",
    "                                                'low_quality_design'                         )"
   ]
  },
  {
   "cell_type": "code",
   "execution_count": 29,
   "id": "47b4e5ea",
   "metadata": {
    "ExecuteTime": {
     "end_time": "2021-08-04T22:02:17.368233Z",
     "start_time": "2021-08-04T22:02:17.354273Z"
    }
   },
   "outputs": [
    {
     "data": {
      "text/plain": [
       "array([1340, 1690, 2720, 1360, 1800, 4760, 2238, 1650, 1780, 2390, 2210,\n",
       "       1330, 1370, 2140, 1890, 1610, 1060, 1280, 1400, 4110, 2240, 1220,\n",
       "       2200, 1030, 1760, 1860, 1520, 2630, 2580, 1390, 1460, 1570, 2020,\n",
       "       1590, 2160, 1730, 1290, 2620, 2470, 2410, 3625, 1580, 3050, 1228,\n",
       "       2680,  970, 1190, 1990, 1410, 1480, 2730, 1950, 2250, 2690, 2960,\n",
       "       2270, 2570, 2500, 1440, 2750, 2221, 1010, 3390, 3530, 1640, 1510,\n",
       "       2420, 1940, 3240, 1680,  890, 1130, 3350, 2350, 1870, 1720, 1850,\n",
       "       1900, 1980, 2520, 1350, 1750, 1160, 2550, 2370, 1240, 1270, 2990,\n",
       "       1380, 1540, 2090, 2640, 1830, 1620, 1880, 2340, 1710, 2700, 3060,\n",
       "       2660, 1700, 1970, 1420, 2060, 2480, 1550, 1170, 2820, 1560, 2230,\n",
       "       2840, 1450, 1500, 3160, 1200, 3400, 2110, 2920, 1770, 1070, 1930,\n",
       "       3740, 2260, 1670, 2290, 1050, 2540, 2190, 2030, 1230, 2330, 1300,\n",
       "       1430, 2770, 1250, 1630, 2590, 2130, 1100, 3836, 1320, 2120, 3070,\n",
       "       1910, 2080, 1960, 2280, 1150, 3430, 2070, 2600,  830, 1260, 3120,\n",
       "       2010, 1660, 1600, 2380, 3890, 4180, 2653, 2670, 3920, 2300, 2310,\n",
       "       2320, 3150, 1740, 2400, 4550, 2510, 2440, 2880, 3860, 2150, 1310,\n",
       "       1820, 3080,  880, 2560, 3470, 1020, 2040, 2610, 1810, 2860, 3480,\n",
       "       3130, 3360, 4050, 2450, 1790, 3180, 3600, 2000, 2430, 2850, 4680,\n",
       "       2360, 3930, 1490, 2460, 2077, 1920, 3630, 3220, 2100, 3230, 4300,\n",
       "       3850, 2424, 2530, 3030, 2830, 2900, 2950, 1470,  940, 2740, 4210,\n",
       "       3340, 3980, 2180, 3715, 2050, 1080, 2095, 1000, 3330, 2170, 1408,\n",
       "       1530, 2760, 3110,  950, 3000, 1307, 2220, 4190, 3440, 3250, 1110,\n",
       "       2870, 1210, 2910, 1120, 4230, 1708, 3090, 3270, 2970, 1180, 3100,\n",
       "       4100, 2930, 3510, 2688, 1840, 2490, 4090, 2810, 3260, 3680, 3420,\n",
       "       1654, 1365,  980, 1677, 1140, 3640, 3460, 3140, 1502, 3720, 2790,\n",
       "       2940,  990, 2890,  860, 4750, 1525, 3950, 5790,  760, 2234,  960,\n",
       "       3210, 2780, 2800, 2305, 2665, 3620, 2710, 4320, 2650, 3370, 1509,\n",
       "       1277, 1981, 2434, 4640, 2242, 3040, 3970, 3200, 4600,  840, 3290,\n",
       "       2214, 1162, 3010, 5600, 3820, 3540, 1975, 4800,  740, 3990, 3170,\n",
       "       1576, 1768, 3310, 2980, 1429, 3900, 3380,  820, 1090, 4060, 3910,\n",
       "       3190, 3450, 3730,  620, 3020, 3760, 3320, 1132, 3300, 3770, 3960,\n",
       "        870, 3560, 4620, 3520, 1572, 3490, 1088, 3159, 4470, 3570, 4890,\n",
       "       3690, 3280, 2083, 3780,  920, 1941, 1566,  850, 2496, 1040, 3410,\n",
       "       4240, 4670, 4350, 1714, 5380, 4330, 3830, 5000, 2144, 1494, 1357,\n",
       "        930, 3580, 4250, 4080, 3660, 1458, 3736, 1894, 2037, 1295, 4170,\n",
       "       3750, 3550, 4630, 1439, 3500, 2091,  900, 3880, 3710, 1616,  720,\n",
       "        800, 2315, 1564, 2767, 3721, 4650, 4020,  780, 1728, 2027, 1264,\n",
       "       1404, 1459, 2028, 3639, 1943, 3425, 2641, 2114, 1309, 2412, 2517,\n",
       "       1802, 2011, 1466, 1414, 3193, 1845, 1156, 3670, 1696, 5340, 4440,\n",
       "       1745, 1884, 4690, 4920, 2406, 4160, 3810, 4480, 2848, 1746, 2634,\n",
       "       2049, 5330, 1536, 2273, 3056, 4010, 4700,  910, 2125, 1665, 2683,\n",
       "       3790,  700, 1855,  750, 1078, 4150, 4340, 2344, 1098, 1175, 1188,\n",
       "       3700, 3840, 4042, 2518, 3800, 2488, 3590, 2052,  810, 1528, 5030,\n",
       "       4740, 5070, 2967, 4280, 2724, 3610, 3940, 4940, 4770, 1811, 4830,\n",
       "       2876, 1805, 1216, 5170, 1304, 2474, 4590, 4130, 1492, 1364, 2168,\n",
       "       4140, 3543, 1303, 2005, 3650, 2583, 4310, 2451, 1448, 2955, 2142,\n",
       "        790, 1638, 2554, 2441, 2216, 4220, 1961, 4540,  770, 4200, 3413,\n",
       "       1664, 2136, 3568, 4510, 1484, 1358, 2106, 1834, 2014, 4390, 4570,\n",
       "       2175, 6110, 4260,  710, 2112, 1934, 1518, 1302, 2622, 2619, 2382,\n",
       "       4290, 4560, 4000, 1336, 3112, 4070, 1468, 1571, 2605, 1138, 5110,\n",
       "       4850, 2165, 4410, 1678, 5610, 1984, 4660, 3870, 4370,  460, 4610,\n",
       "       1914, 3515, 2246, 1786, 2109, 2326, 2728, 4400, 4950, 1767, 2054,\n",
       "       5500, 2555, 3674, 2765, 1862, 1352, 4030,  399, 2415, 2901, 1815,\n",
       "       2236, 2253, 2004, 1356, 2403, 1137, 1256, 4930, 4040, 2376, 4520,\n",
       "       4490, 2189, 2566, 2396, 1282, 2155, 1056, 2389, 2256, 3618, 1326,\n",
       "       1168, 4913,  806, 1369, 2405, 2875, 1425, 5220, 1442, 2333, 3335,\n",
       "       1321, 3045, 1546, 4730, 2697, 2822, 2076, 1757, 4780,  952, 4270,\n",
       "       2075, 2667, 1092, 1217, 1716, 1792, 2961, 1125, 1463, 1886,  670,\n",
       "       4460, 2336, 3557, 5200, 2258, 1377, 2019, 2092, 4900, 2615, 1639,\n",
       "       1765, 1554, 1381, 4120, 5080, 1445, 2793, 2475,  998, 2384, 2575,\n",
       "       1398, 1584, 2439, 2197, 2029, 4362, 1443, 4420, 1691, 2495, 2437,\n",
       "       2547, 6210, 2009, 1847, 1346, 2578, 2879, 2255, 2815, 1608,  690,\n",
       "       2425, 1481, 2458, 2358, 2056, 1921, 2419, 2996, 2502, 1798, 3087,\n",
       "       1076, 2981, 2363, 3191, 1763, 1876, 1949, 2598, 1979, 1415, 2002,\n",
       "       2574, 2166, 3726, 2099, 2154, 1522, 1544, 2912, 2648, 1658, 2755,\n",
       "       2798, 1405, 2704, 2738, 3008, 2586, 2873, 1232, 2597, 2516, 1537,\n",
       "       1128, 2849, 1399, 1131, 1569, 2381, 1084, 2304, 4530, 2297, 2279,\n",
       "       2303, 2669, 4225, 2513, 2725, 1955, 2527, 4443, 2478, 1919, 1813,\n",
       "       2533,  828, 2015, 3078, 4495, 2673, 2316, 2647, 3402, 3494, 2156,\n",
       "       3236, 2612, 2323, 2409, 2354, 1285, 2616, 1427, 1516, 2456, 2844,\n",
       "       1495, 2594, 2604, 1268, 2198, 3038, 2927], dtype=int64)"
      ]
     },
     "execution_count": 29,
     "metadata": {},
     "output_type": "execute_result"
    }
   ],
   "source": [
    "# attribute 'sqft_living15', \n",
    "df4['sqft_living15'].unique()"
   ]
  },
  {
   "cell_type": "code",
   "execution_count": 30,
   "id": "d8edd5cc",
   "metadata": {
    "ExecuteTime": {
     "end_time": "2021-08-04T22:02:24.880259Z",
     "start_time": "2021-08-04T22:02:24.866256Z"
    }
   },
   "outputs": [
    {
     "data": {
      "text/plain": [
       "array([5650, 7639, 8062, ..., 5731, 1509, 2007], dtype=int64)"
      ]
     },
     "execution_count": 30,
     "metadata": {},
     "output_type": "execute_result"
    }
   ],
   "source": [
    "# attibute 'sqft_lot15'\n",
    "df4['sqft_lot15'].unique()"
   ]
  },
  {
   "cell_type": "markdown",
   "id": "66da9868",
   "metadata": {},
   "source": [
    "sqft_living15 - The square footage of interior housing living space for the nearest 15 neighbors\n",
    "sqft_lot15 - The square footage of the land lots of the nearest 15 neighbors\n",
    "\n",
    "Task:\n",
    "Drop these features"
   ]
  },
  {
   "cell_type": "code",
   "execution_count": 31,
   "id": "8210c41b",
   "metadata": {
    "ExecuteTime": {
     "end_time": "2021-08-04T22:02:29.073631Z",
     "start_time": "2021-08-04T22:02:29.048699Z"
    }
   },
   "outputs": [
    {
     "data": {
      "text/html": [
       "<div>\n",
       "<style scoped>\n",
       "    .dataframe tbody tr th:only-of-type {\n",
       "        vertical-align: middle;\n",
       "    }\n",
       "\n",
       "    .dataframe tbody tr th {\n",
       "        vertical-align: top;\n",
       "    }\n",
       "\n",
       "    .dataframe thead th {\n",
       "        text-align: right;\n",
       "    }\n",
       "</style>\n",
       "<table border=\"1\" class=\"dataframe\">\n",
       "  <thead>\n",
       "    <tr style=\"text-align: right;\">\n",
       "      <th></th>\n",
       "      <th>id</th>\n",
       "      <th>date</th>\n",
       "      <th>price</th>\n",
       "      <th>bedrooms</th>\n",
       "      <th>bathrooms</th>\n",
       "      <th>sqft_living</th>\n",
       "      <th>sqft_lot</th>\n",
       "      <th>floors</th>\n",
       "      <th>waterfront</th>\n",
       "      <th>view</th>\n",
       "      <th>condition</th>\n",
       "      <th>grade</th>\n",
       "      <th>sqft_above</th>\n",
       "      <th>sqft_basement</th>\n",
       "      <th>yr_built</th>\n",
       "      <th>yr_renovated</th>\n",
       "      <th>zipcode</th>\n",
       "      <th>lat</th>\n",
       "      <th>long</th>\n",
       "    </tr>\n",
       "  </thead>\n",
       "  <tbody>\n",
       "    <tr>\n",
       "      <th>0</th>\n",
       "      <td>7129300520</td>\n",
       "      <td>20141013T000000</td>\n",
       "      <td>221900.0</td>\n",
       "      <td>3</td>\n",
       "      <td>1.00</td>\n",
       "      <td>1180</td>\n",
       "      <td>5650</td>\n",
       "      <td>1.0</td>\n",
       "      <td>0</td>\n",
       "      <td>0</td>\n",
       "      <td>3</td>\n",
       "      <td>7</td>\n",
       "      <td>1180</td>\n",
       "      <td>0</td>\n",
       "      <td>1955</td>\n",
       "      <td>0</td>\n",
       "      <td>98178</td>\n",
       "      <td>47.5112</td>\n",
       "      <td>-122.257</td>\n",
       "    </tr>\n",
       "    <tr>\n",
       "      <th>1</th>\n",
       "      <td>6414100192</td>\n",
       "      <td>20141209T000000</td>\n",
       "      <td>538000.0</td>\n",
       "      <td>3</td>\n",
       "      <td>2.25</td>\n",
       "      <td>2570</td>\n",
       "      <td>7242</td>\n",
       "      <td>2.0</td>\n",
       "      <td>0</td>\n",
       "      <td>0</td>\n",
       "      <td>3</td>\n",
       "      <td>7</td>\n",
       "      <td>2170</td>\n",
       "      <td>400</td>\n",
       "      <td>1951</td>\n",
       "      <td>1991</td>\n",
       "      <td>98125</td>\n",
       "      <td>47.7210</td>\n",
       "      <td>-122.319</td>\n",
       "    </tr>\n",
       "    <tr>\n",
       "      <th>2</th>\n",
       "      <td>5631500400</td>\n",
       "      <td>20150225T000000</td>\n",
       "      <td>180000.0</td>\n",
       "      <td>2</td>\n",
       "      <td>1.00</td>\n",
       "      <td>770</td>\n",
       "      <td>10000</td>\n",
       "      <td>1.0</td>\n",
       "      <td>0</td>\n",
       "      <td>0</td>\n",
       "      <td>3</td>\n",
       "      <td>6</td>\n",
       "      <td>770</td>\n",
       "      <td>0</td>\n",
       "      <td>1933</td>\n",
       "      <td>0</td>\n",
       "      <td>98028</td>\n",
       "      <td>47.7379</td>\n",
       "      <td>-122.233</td>\n",
       "    </tr>\n",
       "    <tr>\n",
       "      <th>3</th>\n",
       "      <td>2487200875</td>\n",
       "      <td>20141209T000000</td>\n",
       "      <td>604000.0</td>\n",
       "      <td>4</td>\n",
       "      <td>3.00</td>\n",
       "      <td>1960</td>\n",
       "      <td>5000</td>\n",
       "      <td>1.0</td>\n",
       "      <td>0</td>\n",
       "      <td>0</td>\n",
       "      <td>5</td>\n",
       "      <td>7</td>\n",
       "      <td>1050</td>\n",
       "      <td>910</td>\n",
       "      <td>1965</td>\n",
       "      <td>0</td>\n",
       "      <td>98136</td>\n",
       "      <td>47.5208</td>\n",
       "      <td>-122.393</td>\n",
       "    </tr>\n",
       "    <tr>\n",
       "      <th>4</th>\n",
       "      <td>1954400510</td>\n",
       "      <td>20150218T000000</td>\n",
       "      <td>510000.0</td>\n",
       "      <td>3</td>\n",
       "      <td>2.00</td>\n",
       "      <td>1680</td>\n",
       "      <td>8080</td>\n",
       "      <td>1.0</td>\n",
       "      <td>0</td>\n",
       "      <td>0</td>\n",
       "      <td>3</td>\n",
       "      <td>8</td>\n",
       "      <td>1680</td>\n",
       "      <td>0</td>\n",
       "      <td>1987</td>\n",
       "      <td>0</td>\n",
       "      <td>98074</td>\n",
       "      <td>47.6168</td>\n",
       "      <td>-122.045</td>\n",
       "    </tr>\n",
       "  </tbody>\n",
       "</table>\n",
       "</div>"
      ],
      "text/plain": [
       "           id             date     price  bedrooms  bathrooms  sqft_living  sqft_lot  floors  waterfront  view  condition  grade  sqft_above  sqft_basement  yr_built  yr_renovated  zipcode      lat     long\n",
       "0  7129300520  20141013T000000  221900.0         3       1.00         1180      5650     1.0           0     0          3      7        1180              0      1955             0    98178  47.5112 -122.257\n",
       "1  6414100192  20141209T000000  538000.0         3       2.25         2570      7242     2.0           0     0          3      7        2170            400      1951          1991    98125  47.7210 -122.319\n",
       "2  5631500400  20150225T000000  180000.0         2       1.00          770     10000     1.0           0     0          3      6         770              0      1933             0    98028  47.7379 -122.233\n",
       "3  2487200875  20141209T000000  604000.0         4       3.00         1960      5000     1.0           0     0          5      7        1050            910      1965             0    98136  47.5208 -122.393\n",
       "4  1954400510  20150218T000000  510000.0         3       2.00         1680      8080     1.0           0     0          3      8        1680              0      1987             0    98074  47.6168 -122.045"
      ]
     },
     "execution_count": 31,
     "metadata": {},
     "output_type": "execute_result"
    }
   ],
   "source": [
    "df4 = df4.drop(columns = ['sqft_living15', 'sqft_lot15'], axis = 1)\n",
    "df4.head()"
   ]
  },
  {
   "cell_type": "code",
   "execution_count": 32,
   "id": "d49c2db4",
   "metadata": {
    "ExecuteTime": {
     "end_time": "2021-08-04T22:02:32.206285Z",
     "start_time": "2021-08-04T22:02:32.201270Z"
    }
   },
   "outputs": [
    {
     "data": {
      "text/plain": [
       "array([0, 3, 4, 2, 1], dtype=int64)"
      ]
     },
     "execution_count": 32,
     "metadata": {},
     "output_type": "execute_result"
    }
   ],
   "source": [
    "# attribute 'view'\n",
    "df4['view'].unique()"
   ]
  },
  {
   "cell_type": "markdown",
   "id": "c24f117f",
   "metadata": {},
   "source": [
    "view - An index from 0 to 4 of how good the view of the property was\n",
    "***Decision*** keep this for now"
   ]
  },
  {
   "cell_type": "markdown",
   "id": "8cafb47b",
   "metadata": {},
   "source": [
    "2)Change 'waterfront' from 0 or 1 to yes or no"
   ]
  },
  {
   "cell_type": "code",
   "execution_count": null,
   "id": "aca17aba",
   "metadata": {
    "ExecuteTime": {
     "end_time": "2021-08-04T19:39:09.837113Z",
     "start_time": "2021-08-04T19:39:07.800Z"
    }
   },
   "outputs": [],
   "source": [
    "df4['waterfront'] = df4['waterfront'].apply(lambda x: 'yes' if x==1 else 'no')"
   ]
  },
  {
   "cell_type": "markdown",
   "id": "5f80d672",
   "metadata": {},
   "source": [
    "3)Change 'date' to date format"
   ]
  },
  {
   "cell_type": "code",
   "execution_count": null,
   "id": "bdcb5270",
   "metadata": {
    "ExecuteTime": {
     "end_time": "2021-08-04T19:39:09.838110Z",
     "start_time": "2021-08-04T19:39:07.803Z"
    }
   },
   "outputs": [],
   "source": [
    "#date\n",
    "df4['date'] = pd.to_datetime(df4['date'])\n",
    "#year built\n",
    "df4['yr_built']"
   ]
  },
  {
   "cell_type": "markdown",
   "id": "7c849497",
   "metadata": {
    "ExecuteTime": {
     "end_time": "2021-08-03T19:39:51.949040Z",
     "start_time": "2021-08-03T19:39:51.934083Z"
    }
   },
   "source": [
    "4) Identify the duplicated ones and drop if it is necessary"
   ]
  },
  {
   "cell_type": "code",
   "execution_count": 36,
   "id": "e041305e",
   "metadata": {
    "ExecuteTime": {
     "end_time": "2021-08-04T22:05:43.883298Z",
     "start_time": "2021-08-04T22:05:43.857400Z"
    },
    "scrolled": false
   },
   "outputs": [
    {
     "data": {
      "text/html": [
       "<div>\n",
       "<style scoped>\n",
       "    .dataframe tbody tr th:only-of-type {\n",
       "        vertical-align: middle;\n",
       "    }\n",
       "\n",
       "    .dataframe tbody tr th {\n",
       "        vertical-align: top;\n",
       "    }\n",
       "\n",
       "    .dataframe thead th {\n",
       "        text-align: right;\n",
       "    }\n",
       "</style>\n",
       "<table border=\"1\" class=\"dataframe\">\n",
       "  <thead>\n",
       "    <tr style=\"text-align: right;\">\n",
       "      <th></th>\n",
       "      <th>index</th>\n",
       "      <th>id</th>\n",
       "      <th>date</th>\n",
       "      <th>price</th>\n",
       "      <th>bedrooms</th>\n",
       "      <th>bathrooms</th>\n",
       "      <th>sqft_living</th>\n",
       "      <th>sqft_lot</th>\n",
       "      <th>floors</th>\n",
       "      <th>waterfront</th>\n",
       "      <th>view</th>\n",
       "      <th>condition</th>\n",
       "      <th>grade</th>\n",
       "      <th>sqft_above</th>\n",
       "      <th>sqft_basement</th>\n",
       "      <th>yr_built</th>\n",
       "      <th>yr_renovated</th>\n",
       "      <th>zipcode</th>\n",
       "      <th>lat</th>\n",
       "      <th>long</th>\n",
       "    </tr>\n",
       "  </thead>\n",
       "  <tbody>\n",
       "    <tr>\n",
       "      <th>0</th>\n",
       "      <td>94</td>\n",
       "      <td>6021501535</td>\n",
       "      <td>20141223T000000</td>\n",
       "      <td>700000.0</td>\n",
       "      <td>3</td>\n",
       "      <td>1.50</td>\n",
       "      <td>1580</td>\n",
       "      <td>5000</td>\n",
       "      <td>1.0</td>\n",
       "      <td>0</td>\n",
       "      <td>0</td>\n",
       "      <td>3</td>\n",
       "      <td>8</td>\n",
       "      <td>1290</td>\n",
       "      <td>290</td>\n",
       "      <td>1939</td>\n",
       "      <td>0</td>\n",
       "      <td>98117</td>\n",
       "      <td>47.6870</td>\n",
       "      <td>-122.386</td>\n",
       "    </tr>\n",
       "    <tr>\n",
       "      <th>1</th>\n",
       "      <td>314</td>\n",
       "      <td>4139480200</td>\n",
       "      <td>20141209T000000</td>\n",
       "      <td>1400000.0</td>\n",
       "      <td>4</td>\n",
       "      <td>3.25</td>\n",
       "      <td>4290</td>\n",
       "      <td>12103</td>\n",
       "      <td>1.0</td>\n",
       "      <td>0</td>\n",
       "      <td>3</td>\n",
       "      <td>3</td>\n",
       "      <td>11</td>\n",
       "      <td>2690</td>\n",
       "      <td>1600</td>\n",
       "      <td>1997</td>\n",
       "      <td>0</td>\n",
       "      <td>98006</td>\n",
       "      <td>47.5503</td>\n",
       "      <td>-122.102</td>\n",
       "    </tr>\n",
       "    <tr>\n",
       "      <th>2</th>\n",
       "      <td>325</td>\n",
       "      <td>7520000520</td>\n",
       "      <td>20150311T000000</td>\n",
       "      <td>240500.0</td>\n",
       "      <td>2</td>\n",
       "      <td>1.00</td>\n",
       "      <td>1240</td>\n",
       "      <td>12092</td>\n",
       "      <td>1.0</td>\n",
       "      <td>0</td>\n",
       "      <td>0</td>\n",
       "      <td>3</td>\n",
       "      <td>6</td>\n",
       "      <td>960</td>\n",
       "      <td>280</td>\n",
       "      <td>1922</td>\n",
       "      <td>1984</td>\n",
       "      <td>98146</td>\n",
       "      <td>47.4957</td>\n",
       "      <td>-122.352</td>\n",
       "    </tr>\n",
       "    <tr>\n",
       "      <th>3</th>\n",
       "      <td>346</td>\n",
       "      <td>3969300030</td>\n",
       "      <td>20141229T000000</td>\n",
       "      <td>239900.0</td>\n",
       "      <td>4</td>\n",
       "      <td>1.00</td>\n",
       "      <td>1000</td>\n",
       "      <td>7134</td>\n",
       "      <td>1.0</td>\n",
       "      <td>0</td>\n",
       "      <td>0</td>\n",
       "      <td>3</td>\n",
       "      <td>6</td>\n",
       "      <td>1000</td>\n",
       "      <td>0</td>\n",
       "      <td>1943</td>\n",
       "      <td>0</td>\n",
       "      <td>98178</td>\n",
       "      <td>47.4897</td>\n",
       "      <td>-122.240</td>\n",
       "    </tr>\n",
       "    <tr>\n",
       "      <th>4</th>\n",
       "      <td>372</td>\n",
       "      <td>2231500030</td>\n",
       "      <td>20150324T000000</td>\n",
       "      <td>530000.0</td>\n",
       "      <td>4</td>\n",
       "      <td>2.25</td>\n",
       "      <td>2180</td>\n",
       "      <td>10754</td>\n",
       "      <td>1.0</td>\n",
       "      <td>0</td>\n",
       "      <td>0</td>\n",
       "      <td>5</td>\n",
       "      <td>7</td>\n",
       "      <td>1100</td>\n",
       "      <td>1080</td>\n",
       "      <td>1954</td>\n",
       "      <td>0</td>\n",
       "      <td>98133</td>\n",
       "      <td>47.7711</td>\n",
       "      <td>-122.341</td>\n",
       "    </tr>\n",
       "  </tbody>\n",
       "</table>\n",
       "</div>"
      ],
      "text/plain": [
       "   index          id             date      price  bedrooms  bathrooms  sqft_living  sqft_lot  floors  waterfront  view  condition  grade  sqft_above  sqft_basement  yr_built  yr_renovated  zipcode      lat     long\n",
       "0     94  6021501535  20141223T000000   700000.0         3       1.50         1580      5000     1.0           0     0          3      8        1290            290      1939             0    98117  47.6870 -122.386\n",
       "1    314  4139480200  20141209T000000  1400000.0         4       3.25         4290     12103     1.0           0     3          3     11        2690           1600      1997             0    98006  47.5503 -122.102\n",
       "2    325  7520000520  20150311T000000   240500.0         2       1.00         1240     12092     1.0           0     0          3      6         960            280      1922          1984    98146  47.4957 -122.352\n",
       "3    346  3969300030  20141229T000000   239900.0         4       1.00         1000      7134     1.0           0     0          3      6        1000              0      1943             0    98178  47.4897 -122.240\n",
       "4    372  2231500030  20150324T000000   530000.0         4       2.25         2180     10754     1.0           0     0          5      7        1100           1080      1954             0    98133  47.7711 -122.341"
      ]
     },
     "execution_count": 36,
     "metadata": {},
     "output_type": "execute_result"
    }
   ],
   "source": [
    "df_dup  = df4[df4['id'].duplicated()].reset_index()\n",
    "df_dup.head()"
   ]
  },
  {
   "cell_type": "markdown",
   "id": "199f9f4d",
   "metadata": {},
   "source": [
    "6°)Task: All the duplicated one with the same date will be considered errors, the ones with different dates will be keep"
   ]
  },
  {
   "cell_type": "markdown",
   "id": "df9863fb",
   "metadata": {},
   "source": [
    "# Data Exploration"
   ]
  },
  {
   "cell_type": "markdown",
   "id": "ed611dd5",
   "metadata": {},
   "source": [
    "## Descriptive Statistics"
   ]
  },
  {
   "cell_type": "markdown",
   "id": "86b905bc",
   "metadata": {
    "ExecuteTime": {
     "end_time": "2021-08-04T19:39:09.844095Z",
     "start_time": "2021-08-04T19:39:07.828Z"
    }
   },
   "source": [
    "## Numerical Attributes"
   ]
  },
  {
   "cell_type": "markdown",
   "id": "207eba11",
   "metadata": {
    "ExecuteTime": {
     "end_time": "2021-08-04T19:39:09.845093Z",
     "start_time": "2021-08-04T19:39:07.830Z"
    }
   },
   "source": [
    "## Categorical Attributes"
   ]
  },
  {
   "cell_type": "markdown",
   "id": "d3d53cc1",
   "metadata": {
    "ExecuteTime": {
     "end_time": "2021-08-04T19:39:09.846091Z",
     "start_time": "2021-08-04T19:39:07.832Z"
    }
   },
   "source": [
    "## Univariated Analisys"
   ]
  },
  {
   "cell_type": "markdown",
   "id": "e38b6748",
   "metadata": {
    "ExecuteTime": {
     "end_time": "2021-08-04T19:39:09.847087Z",
     "start_time": "2021-08-04T19:39:07.835Z"
    }
   },
   "source": [
    "## Multivariated Analisys"
   ]
  },
  {
   "cell_type": "markdown",
   "id": "efe04275",
   "metadata": {},
   "source": [
    "# Feature Engeneering"
   ]
  },
  {
   "cell_type": "code",
   "execution_count": null,
   "id": "272a3283",
   "metadata": {
    "ExecuteTime": {
     "end_time": "2021-08-04T19:39:09.848083Z",
     "start_time": "2021-08-04T19:39:07.838Z"
    }
   },
   "outputs": [],
   "source": [
    "# Prmary Hipotesys\n",
    "1) Houses with waterview are more expensive\n",
    "2) Houses with garage are more expensive\n",
    "3) There is a main feature that raise the prices?"
   ]
  },
  {
   "cell_type": "code",
   "execution_count": null,
   "id": "ebcbb63e",
   "metadata": {},
   "outputs": [],
   "source": [
    "## Average price per zipcode"
   ]
  },
  {
   "cell_type": "code",
   "execution_count": null,
   "id": "29877067",
   "metadata": {},
   "outputs": [],
   "source": [
    "## Price level (cheap, average expensive)"
   ]
  },
  {
   "cell_type": "code",
   "execution_count": null,
   "id": "8b9eed52",
   "metadata": {},
   "outputs": [],
   "source": [
    "## Should buy"
   ]
  },
  {
   "cell_type": "code",
   "execution_count": null,
   "id": "c05d7ff0",
   "metadata": {},
   "outputs": [],
   "source": []
  },
  {
   "cell_type": "code",
   "execution_count": null,
   "id": "7bcd4710",
   "metadata": {},
   "outputs": [],
   "source": []
  },
  {
   "cell_type": "code",
   "execution_count": null,
   "id": "b4763eda",
   "metadata": {},
   "outputs": [],
   "source": []
  },
  {
   "cell_type": "markdown",
   "id": "8eba168c",
   "metadata": {
    "ExecuteTime": {
     "end_time": "2021-08-04T19:39:09.849081Z",
     "start_time": "2021-08-04T19:39:07.839Z"
    }
   },
   "source": [
    "# Conclusion"
   ]
  },
  {
   "cell_type": "markdown",
   "id": "3f7bcaff",
   "metadata": {
    "ExecuteTime": {
     "end_time": "2021-08-04T19:39:09.850085Z",
     "start_time": "2021-08-04T19:39:07.842Z"
    }
   },
   "source": [
    "# Next steps"
   ]
  }
 ],
 "metadata": {
  "kernelspec": {
   "display_name": "Python 3",
   "language": "python",
   "name": "python3"
  },
  "language_info": {
   "codemirror_mode": {
    "name": "ipython",
    "version": 3
   },
   "file_extension": ".py",
   "mimetype": "text/x-python",
   "name": "python",
   "nbconvert_exporter": "python",
   "pygments_lexer": "ipython3",
   "version": "3.8.10"
  },
  "toc": {
   "base_numbering": "0",
   "nav_menu": {},
   "number_sections": true,
   "sideBar": true,
   "skip_h1_title": false,
   "title_cell": "Table of Contents",
   "title_sidebar": "Contents",
   "toc_cell": false,
   "toc_position": {},
   "toc_section_display": true,
   "toc_window_display": false
  }
 },
 "nbformat": 4,
 "nbformat_minor": 5
}
