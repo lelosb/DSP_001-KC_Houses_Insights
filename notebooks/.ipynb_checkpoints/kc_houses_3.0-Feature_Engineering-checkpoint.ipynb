{
 "cells": [
  {
   "cell_type": "markdown",
   "id": "43c12e6f",
   "metadata": {},
   "source": [
    "# King Count Houses - Insight  Project"
   ]
  },
  {
   "cell_type": "markdown",
   "id": "31a537a6",
   "metadata": {
    "ExecuteTime": {
     "end_time": "2021-06-28T15:33:39.487347Z",
     "start_time": "2021-06-28T15:33:39.146704Z"
    }
   },
   "source": [
    "# Basic setups"
   ]
  },
  {
   "cell_type": "markdown",
   "id": "5188af92",
   "metadata": {
    "ExecuteTime": {
     "end_time": "2021-06-28T15:33:39.487347Z",
     "start_time": "2021-06-28T15:33:39.146704Z"
    }
   },
   "source": [
    "## IMPORTS"
   ]
  },
  {
   "cell_type": "code",
   "execution_count": 90,
   "id": "c705bc40",
   "metadata": {
    "ExecuteTime": {
     "end_time": "2021-08-11T02:30:38.387207Z",
     "start_time": "2021-08-11T02:30:38.382221Z"
    }
   },
   "outputs": [],
   "source": [
    "import math\n",
    "import plotly.express as px\n",
    "import pandas as pd\n",
    "from IPython.core.display     import HTML\n",
    "import seaborn       as sns\n",
    "import datetime\n",
    "import ipywidgets as widgets\n",
    "from   ipywidgets import fixed\n",
    "import matplotlib.pyplot as plt"
   ]
  },
  {
   "cell_type": "markdown",
   "id": "3751aad5",
   "metadata": {},
   "source": [
    "## Helper functions"
   ]
  },
  {
   "cell_type": "code",
   "execution_count": 2,
   "id": "85bfe522",
   "metadata": {
    "ExecuteTime": {
     "end_time": "2021-08-11T01:35:04.400377Z",
     "start_time": "2021-08-11T01:35:04.371473Z"
    }
   },
   "outputs": [
    {
     "name": "stdout",
     "output_type": "stream",
     "text": [
      "Populating the interactive namespace from numpy and matplotlib\n"
     ]
    },
    {
     "data": {
      "text/html": [
       "<style>.container { width:100% !important; }</style>"
      ],
      "text/plain": [
       "<IPython.core.display.HTML object>"
      ]
     },
     "metadata": {},
     "output_type": "display_data"
    }
   ],
   "source": [
    "def jupyter_settings():\n",
    "    %matplotlib inline\n",
    "    %pylab inline\n",
    "    plt.style.use( 'bmh' )\n",
    "    plt.rcParams['figure.figsize'] = [25, 12]\n",
    "    plt.rcParams['font.size'] = 24\n",
    "    display( HTML( '<style>.container { width:100% !important; }</style>') )\n",
    "    pd.options.display.max_columns = None\n",
    "    pd.options.display.max_rows = None\n",
    "    pd.set_option( 'display.expand_frame_repr', False )\n",
    "    sns.set()\n",
    "jupyter_settings()"
   ]
  },
  {
   "cell_type": "markdown",
   "id": "91a3595d",
   "metadata": {
    "ExecuteTime": {
     "end_time": "2021-06-28T22:15:13.510514Z",
     "start_time": "2021-06-28T22:15:13.498546Z"
    }
   },
   "source": [
    "# Initial data processing"
   ]
  },
  {
   "cell_type": "markdown",
   "id": "f25c7714",
   "metadata": {},
   "source": [
    "## Data Load"
   ]
  },
  {
   "cell_type": "code",
   "execution_count": 3,
   "id": "eb461e26",
   "metadata": {
    "ExecuteTime": {
     "end_time": "2021-08-11T01:35:04.463209Z",
     "start_time": "2021-08-11T01:35:04.401399Z"
    }
   },
   "outputs": [],
   "source": [
    "df_raw = pd.read_csv(r'../data/raw/kc_house_data.csv') "
   ]
  },
  {
   "cell_type": "markdown",
   "id": "36b47910",
   "metadata": {
    "ExecuteTime": {
     "end_time": "2021-08-02T17:59:47.486649Z",
     "start_time": "2021-08-02T17:59:47.468664Z"
    }
   },
   "source": [
    "## Data Overview"
   ]
  },
  {
   "cell_type": "code",
   "execution_count": 4,
   "id": "d006be8a",
   "metadata": {
    "ExecuteTime": {
     "end_time": "2021-08-11T01:35:04.495124Z",
     "start_time": "2021-08-11T01:35:04.465203Z"
    }
   },
   "outputs": [
    {
     "data": {
      "text/html": [
       "<div>\n",
       "<style scoped>\n",
       "    .dataframe tbody tr th:only-of-type {\n",
       "        vertical-align: middle;\n",
       "    }\n",
       "\n",
       "    .dataframe tbody tr th {\n",
       "        vertical-align: top;\n",
       "    }\n",
       "\n",
       "    .dataframe thead th {\n",
       "        text-align: right;\n",
       "    }\n",
       "</style>\n",
       "<table border=\"1\" class=\"dataframe\">\n",
       "  <thead>\n",
       "    <tr style=\"text-align: right;\">\n",
       "      <th></th>\n",
       "      <th>id</th>\n",
       "      <th>date</th>\n",
       "      <th>price</th>\n",
       "      <th>bedrooms</th>\n",
       "      <th>bathrooms</th>\n",
       "      <th>sqft_living</th>\n",
       "      <th>sqft_lot</th>\n",
       "      <th>floors</th>\n",
       "      <th>waterfront</th>\n",
       "      <th>view</th>\n",
       "      <th>condition</th>\n",
       "      <th>grade</th>\n",
       "      <th>sqft_above</th>\n",
       "      <th>sqft_basement</th>\n",
       "      <th>yr_built</th>\n",
       "      <th>yr_renovated</th>\n",
       "      <th>zipcode</th>\n",
       "      <th>lat</th>\n",
       "      <th>long</th>\n",
       "      <th>sqft_living15</th>\n",
       "      <th>sqft_lot15</th>\n",
       "    </tr>\n",
       "  </thead>\n",
       "  <tbody>\n",
       "    <tr>\n",
       "      <th>8702</th>\n",
       "      <td>4435000490</td>\n",
       "      <td>20141015T000000</td>\n",
       "      <td>249000.0</td>\n",
       "      <td>4</td>\n",
       "      <td>1.75</td>\n",
       "      <td>1630</td>\n",
       "      <td>8410</td>\n",
       "      <td>1.5</td>\n",
       "      <td>0</td>\n",
       "      <td>0</td>\n",
       "      <td>5</td>\n",
       "      <td>7</td>\n",
       "      <td>1630</td>\n",
       "      <td>0</td>\n",
       "      <td>1943</td>\n",
       "      <td>0</td>\n",
       "      <td>98188</td>\n",
       "      <td>47.4538</td>\n",
       "      <td>-122.288</td>\n",
       "      <td>1390</td>\n",
       "      <td>8410</td>\n",
       "    </tr>\n",
       "    <tr>\n",
       "      <th>6733</th>\n",
       "      <td>9284802045</td>\n",
       "      <td>20140630T000000</td>\n",
       "      <td>345000.0</td>\n",
       "      <td>2</td>\n",
       "      <td>1.00</td>\n",
       "      <td>970</td>\n",
       "      <td>5750</td>\n",
       "      <td>1.0</td>\n",
       "      <td>0</td>\n",
       "      <td>0</td>\n",
       "      <td>4</td>\n",
       "      <td>6</td>\n",
       "      <td>970</td>\n",
       "      <td>0</td>\n",
       "      <td>1932</td>\n",
       "      <td>0</td>\n",
       "      <td>98126</td>\n",
       "      <td>47.5518</td>\n",
       "      <td>-122.370</td>\n",
       "      <td>1650</td>\n",
       "      <td>8625</td>\n",
       "    </tr>\n",
       "    <tr>\n",
       "      <th>9949</th>\n",
       "      <td>9407150350</td>\n",
       "      <td>20150410T000000</td>\n",
       "      <td>308950.0</td>\n",
       "      <td>3</td>\n",
       "      <td>2.50</td>\n",
       "      <td>1600</td>\n",
       "      <td>6250</td>\n",
       "      <td>2.0</td>\n",
       "      <td>0</td>\n",
       "      <td>0</td>\n",
       "      <td>3</td>\n",
       "      <td>7</td>\n",
       "      <td>1600</td>\n",
       "      <td>0</td>\n",
       "      <td>1995</td>\n",
       "      <td>0</td>\n",
       "      <td>98038</td>\n",
       "      <td>47.3675</td>\n",
       "      <td>-122.020</td>\n",
       "      <td>1760</td>\n",
       "      <td>6110</td>\n",
       "    </tr>\n",
       "    <tr>\n",
       "      <th>2811</th>\n",
       "      <td>7203220370</td>\n",
       "      <td>20150320T000000</td>\n",
       "      <td>963990.0</td>\n",
       "      <td>4</td>\n",
       "      <td>3.50</td>\n",
       "      <td>3915</td>\n",
       "      <td>6364</td>\n",
       "      <td>2.0</td>\n",
       "      <td>0</td>\n",
       "      <td>0</td>\n",
       "      <td>3</td>\n",
       "      <td>9</td>\n",
       "      <td>3915</td>\n",
       "      <td>0</td>\n",
       "      <td>2014</td>\n",
       "      <td>0</td>\n",
       "      <td>98053</td>\n",
       "      <td>47.6844</td>\n",
       "      <td>-122.016</td>\n",
       "      <td>3830</td>\n",
       "      <td>6507</td>\n",
       "    </tr>\n",
       "    <tr>\n",
       "      <th>882</th>\n",
       "      <td>7749500370</td>\n",
       "      <td>20141021T000000</td>\n",
       "      <td>225000.0</td>\n",
       "      <td>4</td>\n",
       "      <td>2.25</td>\n",
       "      <td>1800</td>\n",
       "      <td>9350</td>\n",
       "      <td>1.0</td>\n",
       "      <td>0</td>\n",
       "      <td>0</td>\n",
       "      <td>3</td>\n",
       "      <td>8</td>\n",
       "      <td>1800</td>\n",
       "      <td>0</td>\n",
       "      <td>1969</td>\n",
       "      <td>0</td>\n",
       "      <td>98092</td>\n",
       "      <td>47.2959</td>\n",
       "      <td>-122.191</td>\n",
       "      <td>2060</td>\n",
       "      <td>8800</td>\n",
       "    </tr>\n",
       "  </tbody>\n",
       "</table>\n",
       "</div>"
      ],
      "text/plain": [
       "              id             date     price  bedrooms  bathrooms  sqft_living  sqft_lot  floors  waterfront  view  condition  grade  sqft_above  sqft_basement  yr_built  yr_renovated  zipcode      lat     long  sqft_living15  sqft_lot15\n",
       "8702  4435000490  20141015T000000  249000.0         4       1.75         1630      8410     1.5           0     0          5      7        1630              0      1943             0    98188  47.4538 -122.288           1390        8410\n",
       "6733  9284802045  20140630T000000  345000.0         2       1.00          970      5750     1.0           0     0          4      6         970              0      1932             0    98126  47.5518 -122.370           1650        8625\n",
       "9949  9407150350  20150410T000000  308950.0         3       2.50         1600      6250     2.0           0     0          3      7        1600              0      1995             0    98038  47.3675 -122.020           1760        6110\n",
       "2811  7203220370  20150320T000000  963990.0         4       3.50         3915      6364     2.0           0     0          3      9        3915              0      2014             0    98053  47.6844 -122.016           3830        6507\n",
       "882   7749500370  20141021T000000  225000.0         4       2.25         1800      9350     1.0           0     0          3      8        1800              0      1969             0    98092  47.2959 -122.191           2060        8800"
      ]
     },
     "execution_count": 4,
     "metadata": {},
     "output_type": "execute_result"
    }
   ],
   "source": [
    "df_raw.sample(5)"
   ]
  },
  {
   "cell_type": "code",
   "execution_count": 5,
   "id": "f15c20a3",
   "metadata": {
    "ExecuteTime": {
     "end_time": "2021-08-11T01:35:04.511080Z",
     "start_time": "2021-08-11T01:35:04.496122Z"
    }
   },
   "outputs": [
    {
     "name": "stdout",
     "output_type": "stream",
     "text": [
      "The original dataset have 21613 transation registers with 21 attributes.\n"
     ]
    }
   ],
   "source": [
    "print ('The original dataset have {} transation registers with {} attributes.'.format(df_raw.shape[0], df_raw.shape[1]))"
   ]
  },
  {
   "cell_type": "code",
   "execution_count": 6,
   "id": "9fabc2e9",
   "metadata": {
    "ExecuteTime": {
     "end_time": "2021-08-11T01:35:04.532026Z",
     "start_time": "2021-08-11T01:35:04.513077Z"
    },
    "scrolled": false
   },
   "outputs": [
    {
     "data": {
      "text/plain": [
       "Index(['id', 'date', 'price', 'bedrooms', 'bathrooms', 'sqft_living',\n",
       "       'sqft_lot', 'floors', 'waterfront', 'view', 'condition', 'grade',\n",
       "       'sqft_above', 'sqft_basement', 'yr_built', 'yr_renovated', 'zipcode',\n",
       "       'lat', 'long', 'sqft_living15', 'sqft_lot15'],\n",
       "      dtype='object')"
      ]
     },
     "execution_count": 6,
     "metadata": {},
     "output_type": "execute_result"
    }
   ],
   "source": [
    "df_raw.columns"
   ]
  },
  {
   "cell_type": "markdown",
   "id": "7867a233",
   "metadata": {},
   "source": [
    "1° Task: Whats the relevance of these attributes: 'grade','sqft_living15', 'sqft_lot15' and 'view'?\n",
    "Identify, cleaning or drop"
   ]
  },
  {
   "cell_type": "markdown",
   "id": "21fe3f33",
   "metadata": {},
   "source": [
    "## Data Types"
   ]
  },
  {
   "cell_type": "code",
   "execution_count": 7,
   "id": "8d20ab9e",
   "metadata": {
    "ExecuteTime": {
     "end_time": "2021-08-11T01:35:04.557954Z",
     "start_time": "2021-08-11T01:35:04.538010Z"
    }
   },
   "outputs": [
    {
     "data": {
      "text/plain": [
       "id                 int64\n",
       "date              object\n",
       "price            float64\n",
       "bedrooms           int64\n",
       "bathrooms        float64\n",
       "sqft_living        int64\n",
       "sqft_lot           int64\n",
       "floors           float64\n",
       "waterfront         int64\n",
       "view               int64\n",
       "condition          int64\n",
       "grade              int64\n",
       "sqft_above         int64\n",
       "sqft_basement      int64\n",
       "yr_built           int64\n",
       "yr_renovated       int64\n",
       "zipcode            int64\n",
       "lat              float64\n",
       "long             float64\n",
       "sqft_living15      int64\n",
       "sqft_lot15         int64\n",
       "dtype: object"
      ]
     },
     "execution_count": 7,
     "metadata": {},
     "output_type": "execute_result"
    }
   ],
   "source": [
    "df_raw.dtypes"
   ]
  },
  {
   "cell_type": "markdown",
   "id": "c034c996",
   "metadata": {},
   "source": [
    "Tasks:\n",
    "2°)Change 'waterfront' from 0 or 1 to yes or no\n",
    "\n",
    "3°)Change 'date' to date format"
   ]
  },
  {
   "cell_type": "markdown",
   "id": "a006c391",
   "metadata": {
    "ExecuteTime": {
     "end_time": "2021-08-02T18:08:22.667732Z",
     "start_time": "2021-08-02T18:08:22.651736Z"
    }
   },
   "source": [
    "## Check NA"
   ]
  },
  {
   "cell_type": "code",
   "execution_count": 8,
   "id": "ba080444",
   "metadata": {
    "ExecuteTime": {
     "end_time": "2021-08-11T01:35:04.573912Z",
     "start_time": "2021-08-11T01:35:04.559983Z"
    }
   },
   "outputs": [
    {
     "data": {
      "text/plain": [
       "id               0\n",
       "date             0\n",
       "price            0\n",
       "bedrooms         0\n",
       "bathrooms        0\n",
       "sqft_living      0\n",
       "sqft_lot         0\n",
       "floors           0\n",
       "waterfront       0\n",
       "view             0\n",
       "condition        0\n",
       "grade            0\n",
       "sqft_above       0\n",
       "sqft_basement    0\n",
       "yr_built         0\n",
       "yr_renovated     0\n",
       "zipcode          0\n",
       "lat              0\n",
       "long             0\n",
       "sqft_living15    0\n",
       "sqft_lot15       0\n",
       "dtype: int64"
      ]
     },
     "execution_count": 8,
     "metadata": {},
     "output_type": "execute_result"
    }
   ],
   "source": [
    "df_raw.isna().sum()"
   ]
  },
  {
   "cell_type": "markdown",
   "id": "aa00dd82",
   "metadata": {
    "ExecuteTime": {
     "end_time": "2021-08-03T18:07:00.244902Z",
     "start_time": "2021-08-03T18:07:00.233930Z"
    }
   },
   "source": [
    "## Check Duplicated"
   ]
  },
  {
   "cell_type": "code",
   "execution_count": 9,
   "id": "4a2385a7",
   "metadata": {
    "ExecuteTime": {
     "end_time": "2021-08-11T01:35:04.588905Z",
     "start_time": "2021-08-11T01:35:04.575907Z"
    },
    "scrolled": true
   },
   "outputs": [
    {
     "data": {
      "text/plain": [
       "177"
      ]
     },
     "execution_count": 9,
     "metadata": {},
     "output_type": "execute_result"
    }
   ],
   "source": [
    "df_raw['id'].duplicated().sum()"
   ]
  },
  {
   "cell_type": "markdown",
   "id": "f1239fd7",
   "metadata": {
    "ExecuteTime": {
     "end_time": "2021-08-04T20:06:58.716987Z",
     "start_time": "2021-08-04T20:06:58.701029Z"
    }
   },
   "source": [
    "Task:\n",
    "4) Identify the duplicated ones and drop if it is necessary"
   ]
  },
  {
   "cell_type": "markdown",
   "id": "2b070222",
   "metadata": {
    "ExecuteTime": {
     "end_time": "2021-08-06T13:00:41.651694Z",
     "start_time": "2021-08-06T13:00:41.633750Z"
    }
   },
   "source": [
    "## Check attributes"
   ]
  },
  {
   "cell_type": "markdown",
   "id": "50a0c573",
   "metadata": {
    "ExecuteTime": {
     "end_time": "2021-08-06T12:18:31.276386Z",
     "start_time": "2021-08-06T12:18:31.267378Z"
    }
   },
   "source": [
    "### Attribute 'grade'"
   ]
  },
  {
   "cell_type": "markdown",
   "id": "9d8eb092",
   "metadata": {},
   "source": [
    "It's an index from 1 to 13, where 1-3 falls short of building construction and design, 7 has an average level of construction and design, and 11-13 have a high quality level of construction and design."
   ]
  },
  {
   "cell_type": "code",
   "execution_count": 10,
   "id": "bd8d81c1",
   "metadata": {
    "ExecuteTime": {
     "end_time": "2021-08-11T01:35:04.604863Z",
     "start_time": "2021-08-11T01:35:04.589871Z"
    }
   },
   "outputs": [
    {
     "data": {
      "text/plain": [
       "array([ 7,  6,  8, 11,  9,  5, 10, 12,  4,  3, 13,  1], dtype=int64)"
      ]
     },
     "execution_count": 10,
     "metadata": {},
     "output_type": "execute_result"
    }
   ],
   "source": [
    "df_raw['grade'].unique()"
   ]
  },
  {
   "cell_type": "markdown",
   "id": "12ba5e55",
   "metadata": {},
   "source": [
    "***Definition*** \n",
    "\n",
    "Cycle 01 - Change the attribute 'grade' to low_quality_design, average_quality_design and high_quality_design\n",
    "\n",
    "Cycle 02 - After a look in the distribuition of price/grade, it seems better keep this as a number but it will be considered a categorical feature"
   ]
  },
  {
   "cell_type": "markdown",
   "id": "5fca632c",
   "metadata": {
    "ExecuteTime": {
     "end_time": "2021-08-06T12:15:24.252808Z",
     "start_time": "2021-08-06T12:15:24.238848Z"
    }
   },
   "source": [
    "### Attribute 'sqft_living15'"
   ]
  },
  {
   "cell_type": "markdown",
   "id": "66da9868",
   "metadata": {},
   "source": [
    "sqft_living15 - The square footage of interior housing living space for the nearest 15 neighbors"
   ]
  },
  {
   "cell_type": "code",
   "execution_count": 11,
   "id": "47b4e5ea",
   "metadata": {
    "ExecuteTime": {
     "end_time": "2021-08-11T01:35:04.619790Z",
     "start_time": "2021-08-11T01:35:04.605856Z"
    },
    "scrolled": false
   },
   "outputs": [
    {
     "data": {
      "text/plain": [
       "array([1340, 1690, 2720, 1360, 1800, 4760, 2238, 1650, 1780, 2390, 2210,\n",
       "       1330, 1370, 2140, 1890, 1610, 1060, 1280, 1400, 4110, 2240, 1220,\n",
       "       2200, 1030, 1760, 1860, 1520, 2630, 2580, 1390, 1460, 1570, 2020,\n",
       "       1590, 2160, 1730, 1290, 2620, 2470, 2410, 3625, 1580, 3050, 1228,\n",
       "       2680,  970, 1190, 1990, 1410, 1480, 2730, 1950, 2250, 2690, 2960,\n",
       "       2270, 2570, 2500, 1440, 2750, 2221, 1010, 3390, 3530, 1640, 1510,\n",
       "       2420, 1940, 3240, 1680,  890, 1130, 3350, 2350, 1870, 1720, 1850,\n",
       "       1900, 1980, 2520, 1350, 1750, 1160, 2550, 2370, 1240, 1270, 2990,\n",
       "       1380, 1540, 2090, 2640, 1830, 1620, 1880, 2340, 1710, 2700, 3060,\n",
       "       2660, 1700, 1970, 1420, 2060, 2480, 1550, 1170, 2820, 1560, 2230,\n",
       "       2840, 1450, 1500, 3160, 1200, 3400, 2110, 2920, 1770, 1070, 1930,\n",
       "       3740, 2260, 1670, 2290, 1050, 2540, 2190, 2030, 1230, 2330, 1300,\n",
       "       1430, 2770, 1250, 1630, 2590, 2130, 1100, 3836, 1320, 2120, 3070,\n",
       "       1910, 2080, 1960, 2280, 1150, 3430, 2070, 2600,  830, 1260, 3120,\n",
       "       2010, 1660, 1600, 2380, 3890, 4180, 2653, 2670, 3920, 2300, 2310,\n",
       "       2320, 3150, 1740, 2400, 4550, 2510, 2440, 2880, 3860, 2150, 1310,\n",
       "       1820, 3080,  880, 2560, 3470, 1020, 2040, 2610, 1810, 2860, 3480,\n",
       "       3130, 3360, 4050, 2450, 1790, 3180, 3600, 2000, 2430, 2850, 4680,\n",
       "       2360, 3930, 1490, 2460, 2077, 1920, 3630, 3220, 2100, 3230, 4300,\n",
       "       3850, 2424, 2530, 3030, 2830, 2900, 2950, 1470,  940, 2740, 4210,\n",
       "       3340, 3980, 2180, 3715, 2050, 1080, 2095, 1000, 3330, 2170, 1408,\n",
       "       1530, 2760, 3110,  950, 3000, 1307, 2220, 4190, 3440, 3250, 1110,\n",
       "       2870, 1210, 2910, 1120, 4230, 1708, 3090, 3270, 2970, 1180, 3100,\n",
       "       4100, 2930, 3510, 2688, 1840, 2490, 4090, 2810, 3260, 3680, 3420,\n",
       "       1654, 1365,  980, 1677, 1140, 3640, 3460, 3140, 1502, 3720, 2790,\n",
       "       2940,  990, 2890,  860, 4750, 1525, 3950, 5790,  760, 2234,  960,\n",
       "       3210, 2780, 2800, 2305, 2665, 3620, 2710, 4320, 2650, 3370, 1509,\n",
       "       1277, 1981, 2434, 4640, 2242, 3040, 3970, 3200, 4600,  840, 3290,\n",
       "       2214, 1162, 3010, 5600, 3820, 3540, 1975, 4800,  740, 3990, 3170,\n",
       "       1576, 1768, 3310, 2980, 1429, 3900, 3380,  820, 1090, 4060, 3910,\n",
       "       3190, 3450, 3730,  620, 3020, 3760, 3320, 1132, 3300, 3770, 3960,\n",
       "        870, 3560, 4620, 3520, 1572, 3490, 1088, 3159, 4470, 3570, 4890,\n",
       "       3690, 3280, 2083, 3780,  920, 1941, 1566,  850, 2496, 1040, 3410,\n",
       "       4240, 4670, 4350, 1714, 5380, 4330, 3830, 5000, 2144, 1494, 1357,\n",
       "        930, 3580, 4250, 4080, 3660, 1458, 3736, 1894, 2037, 1295, 4170,\n",
       "       3750, 3550, 4630, 1439, 3500, 2091,  900, 3880, 3710, 1616,  720,\n",
       "        800, 2315, 1564, 2767, 3721, 4650, 4020,  780, 1728, 2027, 1264,\n",
       "       1404, 1459, 2028, 3639, 1943, 3425, 2641, 2114, 1309, 2412, 2517,\n",
       "       1802, 2011, 1466, 1414, 3193, 1845, 1156, 3670, 1696, 5340, 4440,\n",
       "       1745, 1884, 4690, 4920, 2406, 4160, 3810, 4480, 2848, 1746, 2634,\n",
       "       2049, 5330, 1536, 2273, 3056, 4010, 4700,  910, 2125, 1665, 2683,\n",
       "       3790,  700, 1855,  750, 1078, 4150, 4340, 2344, 1098, 1175, 1188,\n",
       "       3700, 3840, 4042, 2518, 3800, 2488, 3590, 2052,  810, 1528, 5030,\n",
       "       4740, 5070, 2967, 4280, 2724, 3610, 3940, 4940, 4770, 1811, 4830,\n",
       "       2876, 1805, 1216, 5170, 1304, 2474, 4590, 4130, 1492, 1364, 2168,\n",
       "       4140, 3543, 1303, 2005, 3650, 2583, 4310, 2451, 1448, 2955, 2142,\n",
       "        790, 1638, 2554, 2441, 2216, 4220, 1961, 4540,  770, 4200, 3413,\n",
       "       1664, 2136, 3568, 4510, 1484, 1358, 2106, 1834, 2014, 4390, 4570,\n",
       "       2175, 6110, 4260,  710, 2112, 1934, 1518, 1302, 2622, 2619, 2382,\n",
       "       4290, 4560, 4000, 1336, 3112, 4070, 1468, 1571, 2605, 1138, 5110,\n",
       "       4850, 2165, 4410, 1678, 5610, 1984, 4660, 3870, 4370,  460, 4610,\n",
       "       1914, 3515, 2246, 1786, 2109, 2326, 2728, 4400, 4950, 1767, 2054,\n",
       "       5500, 2555, 3674, 2765, 1862, 1352, 4030,  399, 2415, 2901, 1815,\n",
       "       2236, 2253, 2004, 1356, 2403, 1137, 1256, 4930, 4040, 2376, 4520,\n",
       "       4490, 2189, 2566, 2396, 1282, 2155, 1056, 2389, 2256, 3618, 1326,\n",
       "       1168, 4913,  806, 1369, 2405, 2875, 1425, 5220, 1442, 2333, 3335,\n",
       "       1321, 3045, 1546, 4730, 2697, 2822, 2076, 1757, 4780,  952, 4270,\n",
       "       2075, 2667, 1092, 1217, 1716, 1792, 2961, 1125, 1463, 1886,  670,\n",
       "       4460, 2336, 3557, 5200, 2258, 1377, 2019, 2092, 4900, 2615, 1639,\n",
       "       1765, 1554, 1381, 4120, 5080, 1445, 2793, 2475,  998, 2384, 2575,\n",
       "       1398, 1584, 2439, 2197, 2029, 4362, 1443, 4420, 1691, 2495, 2437,\n",
       "       2547, 6210, 2009, 1847, 1346, 2578, 2879, 2255, 2815, 1608,  690,\n",
       "       2425, 1481, 2458, 2358, 2056, 1921, 2419, 2996, 2502, 1798, 3087,\n",
       "       1076, 2981, 2363, 3191, 1763, 1876, 1949, 2598, 1979, 1415, 2002,\n",
       "       2574, 2166, 3726, 2099, 2154, 1522, 1544, 2912, 2648, 1658, 2755,\n",
       "       2798, 1405, 2704, 2738, 3008, 2586, 2873, 1232, 2597, 2516, 1537,\n",
       "       1128, 2849, 1399, 1131, 1569, 2381, 1084, 2304, 4530, 2297, 2279,\n",
       "       2303, 2669, 4225, 2513, 2725, 1955, 2527, 4443, 2478, 1919, 1813,\n",
       "       2533,  828, 2015, 3078, 4495, 2673, 2316, 2647, 3402, 3494, 2156,\n",
       "       3236, 2612, 2323, 2409, 2354, 1285, 2616, 1427, 1516, 2456, 2844,\n",
       "       1495, 2594, 2604, 1268, 2198, 3038, 2927], dtype=int64)"
      ]
     },
     "execution_count": 11,
     "metadata": {},
     "output_type": "execute_result"
    }
   ],
   "source": [
    "df_raw['sqft_living15'].unique()"
   ]
  },
  {
   "cell_type": "markdown",
   "id": "721099ec",
   "metadata": {},
   "source": [
    "Task 5) - Drop this feature"
   ]
  },
  {
   "cell_type": "markdown",
   "id": "58d7737c",
   "metadata": {
    "ExecuteTime": {
     "end_time": "2021-08-06T12:15:24.267768Z",
     "start_time": "2021-08-06T12:15:24.254803Z"
    }
   },
   "source": [
    "### Attibute 'sqft_lot15'"
   ]
  },
  {
   "cell_type": "markdown",
   "id": "935e430b",
   "metadata": {
    "ExecuteTime": {
     "end_time": "2021-08-06T12:21:26.677867Z",
     "start_time": "2021-08-06T12:21:26.670890Z"
    }
   },
   "source": [
    "sqft_lot15 - The square footage of the land lots of the nearest 15 neighbors"
   ]
  },
  {
   "cell_type": "code",
   "execution_count": 12,
   "id": "d8edd5cc",
   "metadata": {
    "ExecuteTime": {
     "end_time": "2021-08-11T01:35:04.634751Z",
     "start_time": "2021-08-11T01:35:04.621784Z"
    }
   },
   "outputs": [
    {
     "data": {
      "text/plain": [
       "array([5650, 7639, 8062, ..., 5731, 1509, 2007], dtype=int64)"
      ]
     },
     "execution_count": 12,
     "metadata": {},
     "output_type": "execute_result"
    }
   ],
   "source": [
    "df_raw['sqft_lot15'].unique()"
   ]
  },
  {
   "cell_type": "markdown",
   "id": "7519db0c",
   "metadata": {},
   "source": [
    "Task 6): Drop this feature"
   ]
  },
  {
   "cell_type": "markdown",
   "id": "a2f358db",
   "metadata": {
    "ExecuteTime": {
     "end_time": "2021-08-06T12:15:24.314642Z",
     "start_time": "2021-08-06T12:15:24.299683Z"
    }
   },
   "source": [
    "### Attribute 'view'"
   ]
  },
  {
   "cell_type": "markdown",
   "id": "612f847a",
   "metadata": {},
   "source": [
    "view - An index from 0 to 4 of how good the view of the property was"
   ]
  },
  {
   "cell_type": "code",
   "execution_count": 13,
   "id": "d49c2db4",
   "metadata": {
    "ExecuteTime": {
     "end_time": "2021-08-11T01:35:04.650707Z",
     "start_time": "2021-08-11T01:35:04.635746Z"
    }
   },
   "outputs": [
    {
     "data": {
      "text/plain": [
       "array([0, 3, 4, 2, 1], dtype=int64)"
      ]
     },
     "execution_count": 13,
     "metadata": {},
     "output_type": "execute_result"
    }
   ],
   "source": [
    "df_raw['view'].unique()"
   ]
  },
  {
   "cell_type": "markdown",
   "id": "c24f117f",
   "metadata": {},
   "source": [
    "***Decision*** \n",
    "\n",
    "Keep this for now"
   ]
  },
  {
   "cell_type": "markdown",
   "id": "df9863fb",
   "metadata": {},
   "source": [
    "## Statistics Data Overview"
   ]
  },
  {
   "cell_type": "code",
   "execution_count": 14,
   "id": "c3cd2678",
   "metadata": {
    "ExecuteTime": {
     "end_time": "2021-08-11T01:35:04.666699Z",
     "start_time": "2021-08-11T01:35:04.652702Z"
    }
   },
   "outputs": [],
   "source": [
    "main_attributes = df_raw[['date', 'price', 'bedrooms', 'bathrooms', 'sqft_lot', 'sqft_living','floors', 'yr_built', 'yr_renovated']]"
   ]
  },
  {
   "cell_type": "code",
   "execution_count": 15,
   "id": "20477b3f",
   "metadata": {
    "ExecuteTime": {
     "end_time": "2021-08-11T01:35:04.713572Z",
     "start_time": "2021-08-11T01:35:04.669659Z"
    }
   },
   "outputs": [
    {
     "data": {
      "text/html": [
       "<div>\n",
       "<style scoped>\n",
       "    .dataframe tbody tr th:only-of-type {\n",
       "        vertical-align: middle;\n",
       "    }\n",
       "\n",
       "    .dataframe tbody tr th {\n",
       "        vertical-align: top;\n",
       "    }\n",
       "\n",
       "    .dataframe thead th {\n",
       "        text-align: right;\n",
       "    }\n",
       "</style>\n",
       "<table border=\"1\" class=\"dataframe\">\n",
       "  <thead>\n",
       "    <tr style=\"text-align: right;\">\n",
       "      <th></th>\n",
       "      <th>count</th>\n",
       "      <th>mean</th>\n",
       "      <th>std</th>\n",
       "      <th>min</th>\n",
       "      <th>25%</th>\n",
       "      <th>50%</th>\n",
       "      <th>75%</th>\n",
       "      <th>max</th>\n",
       "    </tr>\n",
       "  </thead>\n",
       "  <tbody>\n",
       "    <tr>\n",
       "      <th>price</th>\n",
       "      <td>21613.0</td>\n",
       "      <td>540088.141767</td>\n",
       "      <td>367127.196483</td>\n",
       "      <td>75000.0</td>\n",
       "      <td>321950.00</td>\n",
       "      <td>450000.00</td>\n",
       "      <td>645000.0</td>\n",
       "      <td>7700000.0</td>\n",
       "    </tr>\n",
       "    <tr>\n",
       "      <th>bedrooms</th>\n",
       "      <td>21613.0</td>\n",
       "      <td>3.370842</td>\n",
       "      <td>0.930062</td>\n",
       "      <td>0.0</td>\n",
       "      <td>3.00</td>\n",
       "      <td>3.00</td>\n",
       "      <td>4.0</td>\n",
       "      <td>33.0</td>\n",
       "    </tr>\n",
       "    <tr>\n",
       "      <th>bathrooms</th>\n",
       "      <td>21613.0</td>\n",
       "      <td>2.114757</td>\n",
       "      <td>0.770163</td>\n",
       "      <td>0.0</td>\n",
       "      <td>1.75</td>\n",
       "      <td>2.25</td>\n",
       "      <td>2.5</td>\n",
       "      <td>8.0</td>\n",
       "    </tr>\n",
       "    <tr>\n",
       "      <th>sqft_lot</th>\n",
       "      <td>21613.0</td>\n",
       "      <td>15106.967566</td>\n",
       "      <td>41420.511515</td>\n",
       "      <td>520.0</td>\n",
       "      <td>5040.00</td>\n",
       "      <td>7618.00</td>\n",
       "      <td>10688.0</td>\n",
       "      <td>1651359.0</td>\n",
       "    </tr>\n",
       "    <tr>\n",
       "      <th>sqft_living</th>\n",
       "      <td>21613.0</td>\n",
       "      <td>2079.899736</td>\n",
       "      <td>918.440897</td>\n",
       "      <td>290.0</td>\n",
       "      <td>1427.00</td>\n",
       "      <td>1910.00</td>\n",
       "      <td>2550.0</td>\n",
       "      <td>13540.0</td>\n",
       "    </tr>\n",
       "    <tr>\n",
       "      <th>floors</th>\n",
       "      <td>21613.0</td>\n",
       "      <td>1.494309</td>\n",
       "      <td>0.539989</td>\n",
       "      <td>1.0</td>\n",
       "      <td>1.00</td>\n",
       "      <td>1.50</td>\n",
       "      <td>2.0</td>\n",
       "      <td>3.5</td>\n",
       "    </tr>\n",
       "    <tr>\n",
       "      <th>yr_built</th>\n",
       "      <td>21613.0</td>\n",
       "      <td>1971.005136</td>\n",
       "      <td>29.373411</td>\n",
       "      <td>1900.0</td>\n",
       "      <td>1951.00</td>\n",
       "      <td>1975.00</td>\n",
       "      <td>1997.0</td>\n",
       "      <td>2015.0</td>\n",
       "    </tr>\n",
       "    <tr>\n",
       "      <th>yr_renovated</th>\n",
       "      <td>21613.0</td>\n",
       "      <td>84.402258</td>\n",
       "      <td>401.679240</td>\n",
       "      <td>0.0</td>\n",
       "      <td>0.00</td>\n",
       "      <td>0.00</td>\n",
       "      <td>0.0</td>\n",
       "      <td>2015.0</td>\n",
       "    </tr>\n",
       "  </tbody>\n",
       "</table>\n",
       "</div>"
      ],
      "text/plain": [
       "                count           mean            std      min        25%        50%       75%        max\n",
       "price         21613.0  540088.141767  367127.196483  75000.0  321950.00  450000.00  645000.0  7700000.0\n",
       "bedrooms      21613.0       3.370842       0.930062      0.0       3.00       3.00       4.0       33.0\n",
       "bathrooms     21613.0       2.114757       0.770163      0.0       1.75       2.25       2.5        8.0\n",
       "sqft_lot      21613.0   15106.967566   41420.511515    520.0    5040.00    7618.00   10688.0  1651359.0\n",
       "sqft_living   21613.0    2079.899736     918.440897    290.0    1427.00    1910.00    2550.0    13540.0\n",
       "floors        21613.0       1.494309       0.539989      1.0       1.00       1.50       2.0        3.5\n",
       "yr_built      21613.0    1971.005136      29.373411   1900.0    1951.00    1975.00    1997.0     2015.0\n",
       "yr_renovated  21613.0      84.402258     401.679240      0.0       0.00       0.00       0.0     2015.0"
      ]
     },
     "execution_count": 15,
     "metadata": {},
     "output_type": "execute_result"
    }
   ],
   "source": [
    "main_attributes.describe().T"
   ]
  },
  {
   "cell_type": "markdown",
   "id": "58af61bf",
   "metadata": {
    "ExecuteTime": {
     "end_time": "2021-08-05T12:47:54.215490Z",
     "start_time": "2021-08-05T12:47:54.200497Z"
    }
   },
   "source": [
    "Observations:\n",
    "\n",
    "1) There is a big std in the price, and seems to have outliers. Check it.\n",
    "\n",
    "2) There is at least one house without bedrooms and one with 33. Check it.\n",
    "\n",
    "3) There is at least one house without bathrooms. Check it.\n",
    "\n",
    "4) There are houses with the year of renovation with '0'. It has to be treated."
   ]
  },
  {
   "cell_type": "markdown",
   "id": "e53e3cdf",
   "metadata": {
    "heading_collapsed": true
   },
   "source": [
    "# Data Transform/Preparing"
   ]
  },
  {
   "cell_type": "code",
   "execution_count": 40,
   "id": "0db351f7",
   "metadata": {
    "ExecuteTime": {
     "end_time": "2021-08-11T01:48:36.524178Z",
     "start_time": "2021-08-11T01:48:36.506226Z"
    },
    "hidden": true
   },
   "outputs": [],
   "source": [
    "df3 = df_raw.copy()"
   ]
  },
  {
   "cell_type": "markdown",
   "id": "d8f173ab",
   "metadata": {
    "ExecuteTime": {
     "end_time": "2021-08-06T13:06:25.150346Z",
     "start_time": "2021-08-06T13:06:25.117471Z"
    },
    "hidden": true
   },
   "source": [
    "1) Drop 'sqft_living15'\n",
    "\n",
    "2) Drop 'sqft_lot15' "
   ]
  },
  {
   "cell_type": "code",
   "execution_count": 41,
   "id": "8210c41b",
   "metadata": {
    "ExecuteTime": {
     "end_time": "2021-08-11T01:48:38.604143Z",
     "start_time": "2021-08-11T01:48:38.572230Z"
    },
    "hidden": true
   },
   "outputs": [
    {
     "data": {
      "text/html": [
       "<div>\n",
       "<style scoped>\n",
       "    .dataframe tbody tr th:only-of-type {\n",
       "        vertical-align: middle;\n",
       "    }\n",
       "\n",
       "    .dataframe tbody tr th {\n",
       "        vertical-align: top;\n",
       "    }\n",
       "\n",
       "    .dataframe thead th {\n",
       "        text-align: right;\n",
       "    }\n",
       "</style>\n",
       "<table border=\"1\" class=\"dataframe\">\n",
       "  <thead>\n",
       "    <tr style=\"text-align: right;\">\n",
       "      <th></th>\n",
       "      <th>id</th>\n",
       "      <th>date</th>\n",
       "      <th>price</th>\n",
       "      <th>bedrooms</th>\n",
       "      <th>bathrooms</th>\n",
       "      <th>sqft_living</th>\n",
       "      <th>sqft_lot</th>\n",
       "      <th>floors</th>\n",
       "      <th>waterfront</th>\n",
       "      <th>view</th>\n",
       "      <th>condition</th>\n",
       "      <th>grade</th>\n",
       "      <th>sqft_above</th>\n",
       "      <th>sqft_basement</th>\n",
       "      <th>yr_built</th>\n",
       "      <th>yr_renovated</th>\n",
       "      <th>zipcode</th>\n",
       "      <th>lat</th>\n",
       "      <th>long</th>\n",
       "    </tr>\n",
       "  </thead>\n",
       "  <tbody>\n",
       "    <tr>\n",
       "      <th>0</th>\n",
       "      <td>7129300520</td>\n",
       "      <td>20141013T000000</td>\n",
       "      <td>221900.0</td>\n",
       "      <td>3</td>\n",
       "      <td>1.00</td>\n",
       "      <td>1180</td>\n",
       "      <td>5650</td>\n",
       "      <td>1.0</td>\n",
       "      <td>0</td>\n",
       "      <td>0</td>\n",
       "      <td>3</td>\n",
       "      <td>7</td>\n",
       "      <td>1180</td>\n",
       "      <td>0</td>\n",
       "      <td>1955</td>\n",
       "      <td>0</td>\n",
       "      <td>98178</td>\n",
       "      <td>47.5112</td>\n",
       "      <td>-122.257</td>\n",
       "    </tr>\n",
       "    <tr>\n",
       "      <th>1</th>\n",
       "      <td>6414100192</td>\n",
       "      <td>20141209T000000</td>\n",
       "      <td>538000.0</td>\n",
       "      <td>3</td>\n",
       "      <td>2.25</td>\n",
       "      <td>2570</td>\n",
       "      <td>7242</td>\n",
       "      <td>2.0</td>\n",
       "      <td>0</td>\n",
       "      <td>0</td>\n",
       "      <td>3</td>\n",
       "      <td>7</td>\n",
       "      <td>2170</td>\n",
       "      <td>400</td>\n",
       "      <td>1951</td>\n",
       "      <td>1991</td>\n",
       "      <td>98125</td>\n",
       "      <td>47.7210</td>\n",
       "      <td>-122.319</td>\n",
       "    </tr>\n",
       "    <tr>\n",
       "      <th>2</th>\n",
       "      <td>5631500400</td>\n",
       "      <td>20150225T000000</td>\n",
       "      <td>180000.0</td>\n",
       "      <td>2</td>\n",
       "      <td>1.00</td>\n",
       "      <td>770</td>\n",
       "      <td>10000</td>\n",
       "      <td>1.0</td>\n",
       "      <td>0</td>\n",
       "      <td>0</td>\n",
       "      <td>3</td>\n",
       "      <td>6</td>\n",
       "      <td>770</td>\n",
       "      <td>0</td>\n",
       "      <td>1933</td>\n",
       "      <td>0</td>\n",
       "      <td>98028</td>\n",
       "      <td>47.7379</td>\n",
       "      <td>-122.233</td>\n",
       "    </tr>\n",
       "    <tr>\n",
       "      <th>3</th>\n",
       "      <td>2487200875</td>\n",
       "      <td>20141209T000000</td>\n",
       "      <td>604000.0</td>\n",
       "      <td>4</td>\n",
       "      <td>3.00</td>\n",
       "      <td>1960</td>\n",
       "      <td>5000</td>\n",
       "      <td>1.0</td>\n",
       "      <td>0</td>\n",
       "      <td>0</td>\n",
       "      <td>5</td>\n",
       "      <td>7</td>\n",
       "      <td>1050</td>\n",
       "      <td>910</td>\n",
       "      <td>1965</td>\n",
       "      <td>0</td>\n",
       "      <td>98136</td>\n",
       "      <td>47.5208</td>\n",
       "      <td>-122.393</td>\n",
       "    </tr>\n",
       "    <tr>\n",
       "      <th>4</th>\n",
       "      <td>1954400510</td>\n",
       "      <td>20150218T000000</td>\n",
       "      <td>510000.0</td>\n",
       "      <td>3</td>\n",
       "      <td>2.00</td>\n",
       "      <td>1680</td>\n",
       "      <td>8080</td>\n",
       "      <td>1.0</td>\n",
       "      <td>0</td>\n",
       "      <td>0</td>\n",
       "      <td>3</td>\n",
       "      <td>8</td>\n",
       "      <td>1680</td>\n",
       "      <td>0</td>\n",
       "      <td>1987</td>\n",
       "      <td>0</td>\n",
       "      <td>98074</td>\n",
       "      <td>47.6168</td>\n",
       "      <td>-122.045</td>\n",
       "    </tr>\n",
       "  </tbody>\n",
       "</table>\n",
       "</div>"
      ],
      "text/plain": [
       "           id             date     price  bedrooms  bathrooms  sqft_living  sqft_lot  floors  waterfront  view  condition  grade  sqft_above  sqft_basement  yr_built  yr_renovated  zipcode      lat     long\n",
       "0  7129300520  20141013T000000  221900.0         3       1.00         1180      5650     1.0           0     0          3      7        1180              0      1955             0    98178  47.5112 -122.257\n",
       "1  6414100192  20141209T000000  538000.0         3       2.25         2570      7242     2.0           0     0          3      7        2170            400      1951          1991    98125  47.7210 -122.319\n",
       "2  5631500400  20150225T000000  180000.0         2       1.00          770     10000     1.0           0     0          3      6         770              0      1933             0    98028  47.7379 -122.233\n",
       "3  2487200875  20141209T000000  604000.0         4       3.00         1960      5000     1.0           0     0          5      7        1050            910      1965             0    98136  47.5208 -122.393\n",
       "4  1954400510  20150218T000000  510000.0         3       2.00         1680      8080     1.0           0     0          3      8        1680              0      1987             0    98074  47.6168 -122.045"
      ]
     },
     "execution_count": 41,
     "metadata": {},
     "output_type": "execute_result"
    }
   ],
   "source": [
    "df3 = df3.drop(columns = ['sqft_living15', 'sqft_lot15'], axis = 1)\n",
    "\n",
    "df3.head()"
   ]
  },
  {
   "cell_type": "markdown",
   "id": "8cafb47b",
   "metadata": {
    "hidden": true
   },
   "source": [
    "3) Change 'waterfront' from 0 or 1 to yes or no"
   ]
  },
  {
   "cell_type": "code",
   "execution_count": 42,
   "id": "aca17aba",
   "metadata": {
    "ExecuteTime": {
     "end_time": "2021-08-11T01:48:44.083110Z",
     "start_time": "2021-08-11T01:48:44.075161Z"
    },
    "hidden": true
   },
   "outputs": [],
   "source": [
    "df3['waterfront'] = df3['waterfront'].apply(lambda x: 'yes' if x==1 else 'no')"
   ]
  },
  {
   "cell_type": "markdown",
   "id": "5f80d672",
   "metadata": {
    "hidden": true
   },
   "source": [
    "4) Change 'date' to date format"
   ]
  },
  {
   "cell_type": "code",
   "execution_count": 43,
   "id": "bdcb5270",
   "metadata": {
    "ExecuteTime": {
     "end_time": "2021-08-11T01:48:45.887888Z",
     "start_time": "2021-08-11T01:48:45.875921Z"
    },
    "hidden": true
   },
   "outputs": [],
   "source": [
    "#date\n",
    "df3['date'] = pd.to_datetime(df3['date'])"
   ]
  },
  {
   "cell_type": "markdown",
   "id": "7c849497",
   "metadata": {
    "ExecuteTime": {
     "end_time": "2021-08-03T19:39:51.949040Z",
     "start_time": "2021-08-03T19:39:51.934083Z"
    },
    "hidden": true
   },
   "source": [
    "5) Identify the duplicated ones and drop if it is necessary"
   ]
  },
  {
   "cell_type": "code",
   "execution_count": 44,
   "id": "e041305e",
   "metadata": {
    "ExecuteTime": {
     "end_time": "2021-08-11T01:48:49.147098Z",
     "start_time": "2021-08-11T01:48:49.125159Z"
    },
    "hidden": true,
    "scrolled": false
   },
   "outputs": [
    {
     "data": {
      "text/html": [
       "<div>\n",
       "<style scoped>\n",
       "    .dataframe tbody tr th:only-of-type {\n",
       "        vertical-align: middle;\n",
       "    }\n",
       "\n",
       "    .dataframe tbody tr th {\n",
       "        vertical-align: top;\n",
       "    }\n",
       "\n",
       "    .dataframe thead th {\n",
       "        text-align: right;\n",
       "    }\n",
       "</style>\n",
       "<table border=\"1\" class=\"dataframe\">\n",
       "  <thead>\n",
       "    <tr style=\"text-align: right;\">\n",
       "      <th></th>\n",
       "      <th>id</th>\n",
       "      <th>date</th>\n",
       "      <th>price</th>\n",
       "      <th>bedrooms</th>\n",
       "      <th>bathrooms</th>\n",
       "      <th>sqft_living</th>\n",
       "      <th>sqft_lot</th>\n",
       "      <th>floors</th>\n",
       "      <th>waterfront</th>\n",
       "      <th>view</th>\n",
       "      <th>condition</th>\n",
       "      <th>grade</th>\n",
       "      <th>sqft_above</th>\n",
       "      <th>sqft_basement</th>\n",
       "      <th>yr_built</th>\n",
       "      <th>yr_renovated</th>\n",
       "      <th>zipcode</th>\n",
       "      <th>lat</th>\n",
       "      <th>long</th>\n",
       "    </tr>\n",
       "  </thead>\n",
       "  <tbody>\n",
       "    <tr>\n",
       "      <th>0</th>\n",
       "      <td>6021501535</td>\n",
       "      <td>2014-07-25</td>\n",
       "      <td>430000.0</td>\n",
       "      <td>3</td>\n",
       "      <td>1.50</td>\n",
       "      <td>1580</td>\n",
       "      <td>5000</td>\n",
       "      <td>1.0</td>\n",
       "      <td>no</td>\n",
       "      <td>0</td>\n",
       "      <td>3</td>\n",
       "      <td>8</td>\n",
       "      <td>1290</td>\n",
       "      <td>290</td>\n",
       "      <td>1939</td>\n",
       "      <td>0</td>\n",
       "      <td>98117</td>\n",
       "      <td>47.6870</td>\n",
       "      <td>-122.386</td>\n",
       "    </tr>\n",
       "    <tr>\n",
       "      <th>1</th>\n",
       "      <td>6021501535</td>\n",
       "      <td>2014-12-23</td>\n",
       "      <td>700000.0</td>\n",
       "      <td>3</td>\n",
       "      <td>1.50</td>\n",
       "      <td>1580</td>\n",
       "      <td>5000</td>\n",
       "      <td>1.0</td>\n",
       "      <td>no</td>\n",
       "      <td>0</td>\n",
       "      <td>3</td>\n",
       "      <td>8</td>\n",
       "      <td>1290</td>\n",
       "      <td>290</td>\n",
       "      <td>1939</td>\n",
       "      <td>0</td>\n",
       "      <td>98117</td>\n",
       "      <td>47.6870</td>\n",
       "      <td>-122.386</td>\n",
       "    </tr>\n",
       "    <tr>\n",
       "      <th>2</th>\n",
       "      <td>4139480200</td>\n",
       "      <td>2014-06-18</td>\n",
       "      <td>1384000.0</td>\n",
       "      <td>4</td>\n",
       "      <td>3.25</td>\n",
       "      <td>4290</td>\n",
       "      <td>12103</td>\n",
       "      <td>1.0</td>\n",
       "      <td>no</td>\n",
       "      <td>3</td>\n",
       "      <td>3</td>\n",
       "      <td>11</td>\n",
       "      <td>2690</td>\n",
       "      <td>1600</td>\n",
       "      <td>1997</td>\n",
       "      <td>0</td>\n",
       "      <td>98006</td>\n",
       "      <td>47.5503</td>\n",
       "      <td>-122.102</td>\n",
       "    </tr>\n",
       "    <tr>\n",
       "      <th>3</th>\n",
       "      <td>4139480200</td>\n",
       "      <td>2014-12-09</td>\n",
       "      <td>1400000.0</td>\n",
       "      <td>4</td>\n",
       "      <td>3.25</td>\n",
       "      <td>4290</td>\n",
       "      <td>12103</td>\n",
       "      <td>1.0</td>\n",
       "      <td>no</td>\n",
       "      <td>3</td>\n",
       "      <td>3</td>\n",
       "      <td>11</td>\n",
       "      <td>2690</td>\n",
       "      <td>1600</td>\n",
       "      <td>1997</td>\n",
       "      <td>0</td>\n",
       "      <td>98006</td>\n",
       "      <td>47.5503</td>\n",
       "      <td>-122.102</td>\n",
       "    </tr>\n",
       "    <tr>\n",
       "      <th>4</th>\n",
       "      <td>7520000520</td>\n",
       "      <td>2014-09-05</td>\n",
       "      <td>232000.0</td>\n",
       "      <td>2</td>\n",
       "      <td>1.00</td>\n",
       "      <td>1240</td>\n",
       "      <td>12092</td>\n",
       "      <td>1.0</td>\n",
       "      <td>no</td>\n",
       "      <td>0</td>\n",
       "      <td>3</td>\n",
       "      <td>6</td>\n",
       "      <td>960</td>\n",
       "      <td>280</td>\n",
       "      <td>1922</td>\n",
       "      <td>1984</td>\n",
       "      <td>98146</td>\n",
       "      <td>47.4957</td>\n",
       "      <td>-122.352</td>\n",
       "    </tr>\n",
       "  </tbody>\n",
       "</table>\n",
       "</div>"
      ],
      "text/plain": [
       "           id       date      price  bedrooms  bathrooms  sqft_living  sqft_lot  floors waterfront  view  condition  grade  sqft_above  sqft_basement  yr_built  yr_renovated  zipcode      lat     long\n",
       "0  6021501535 2014-07-25   430000.0         3       1.50         1580      5000     1.0         no     0          3      8        1290            290      1939             0    98117  47.6870 -122.386\n",
       "1  6021501535 2014-12-23   700000.0         3       1.50         1580      5000     1.0         no     0          3      8        1290            290      1939             0    98117  47.6870 -122.386\n",
       "2  4139480200 2014-06-18  1384000.0         4       3.25         4290     12103     1.0         no     3          3     11        2690           1600      1997             0    98006  47.5503 -122.102\n",
       "3  4139480200 2014-12-09  1400000.0         4       3.25         4290     12103     1.0         no     3          3     11        2690           1600      1997             0    98006  47.5503 -122.102\n",
       "4  7520000520 2014-09-05   232000.0         2       1.00         1240     12092     1.0         no     0          3      6         960            280      1922          1984    98146  47.4957 -122.352"
      ]
     },
     "execution_count": 44,
     "metadata": {},
     "output_type": "execute_result"
    }
   ],
   "source": [
    "df_dup = df3[df3['id'].duplicated(keep = False )].reset_index(drop=True)\n",
    "df_dup.head()"
   ]
  },
  {
   "cell_type": "code",
   "execution_count": 45,
   "id": "eb328e6d",
   "metadata": {
    "ExecuteTime": {
     "end_time": "2021-08-11T01:48:50.097934Z",
     "start_time": "2021-08-11T01:48:50.091952Z"
    },
    "hidden": true
   },
   "outputs": [
    {
     "name": "stdout",
     "output_type": "stream",
     "text": [
      "There is 353 duplicated registers in the dataframe. Duplicated registers with the same date will be dropped\n"
     ]
    }
   ],
   "source": [
    "print ('There is {} duplicated registers in the dataframe. Duplicated registers with the same date will be dropped'.format(df_dup.shape[0]))"
   ]
  },
  {
   "cell_type": "code",
   "execution_count": 89,
   "id": "31f8fb65",
   "metadata": {
    "ExecuteTime": {
     "end_time": "2021-08-11T02:18:02.385920Z",
     "start_time": "2021-08-11T02:18:02.354007Z"
    },
    "hidden": true
   },
   "outputs": [
    {
     "name": "stderr",
     "output_type": "stream",
     "text": [
      "<ipython-input-89-f38ed3f59090>:1: FutureWarning: Treating datetime data as categorical rather than numeric in `.describe` is deprecated and will be removed in a future version of pandas. Specify `datetime_is_numeric=True` to silence this warning and adopt the future behavior now.\n",
      "  df_dup['date'].describe()\n"
     ]
    },
    {
     "data": {
      "text/plain": [
       "count                     353\n",
       "unique                    186\n",
       "top       2015-04-28 00:00:00\n",
       "freq                        6\n",
       "first     2014-05-05 00:00:00\n",
       "last      2015-05-14 00:00:00\n",
       "Name: date, dtype: object"
      ]
     },
     "execution_count": 89,
     "metadata": {},
     "output_type": "execute_result"
    }
   ],
   "source": [
    "df_dup['date'].describe()"
   ]
  },
  {
   "cell_type": "code",
   "execution_count": null,
   "id": "ac9f5da6",
   "metadata": {
    "hidden": true
   },
   "outputs": [],
   "source": []
  },
  {
   "cell_type": "markdown",
   "id": "199f9f4d",
   "metadata": {
    "hidden": true
   },
   "source": [
    "6°)Task: All the duplicated one with the same date will be considered errors, the ones with different dates will be keep"
   ]
  },
  {
   "cell_type": "markdown",
   "id": "b8d32345",
   "metadata": {
    "ExecuteTime": {
     "end_time": "2021-08-10T14:48:22.514053Z",
     "start_time": "2021-08-10T14:48:22.496116Z"
    },
    "hidden": true
   },
   "source": [
    "## Tratamento das observações\n"
   ]
  },
  {
   "cell_type": "markdown",
   "id": "bbcddf3b",
   "metadata": {
    "ExecuteTime": {
     "end_time": "2021-08-10T18:36:31.322265Z",
     "start_time": "2021-08-10T18:36:31.310267Z"
    },
    "hidden": true
   },
   "source": [
    "1) There is a big std in the price, and seems to have outliers. Check it."
   ]
  },
  {
   "cell_type": "markdown",
   "id": "0cd560cd",
   "metadata": {
    "hidden": true
   },
   "source": [
    "2) Registers with 0 bedrooms"
   ]
  },
  {
   "cell_type": "code",
   "execution_count": 49,
   "id": "78b56239",
   "metadata": {
    "ExecuteTime": {
     "end_time": "2021-08-11T01:52:28.470841Z",
     "start_time": "2021-08-11T01:52:28.459871Z"
    },
    "hidden": true,
    "scrolled": true
   },
   "outputs": [
    {
     "data": {
      "text/html": [
       "<div>\n",
       "<style scoped>\n",
       "    .dataframe tbody tr th:only-of-type {\n",
       "        vertical-align: middle;\n",
       "    }\n",
       "\n",
       "    .dataframe tbody tr th {\n",
       "        vertical-align: top;\n",
       "    }\n",
       "\n",
       "    .dataframe thead th {\n",
       "        text-align: right;\n",
       "    }\n",
       "</style>\n",
       "<table border=\"1\" class=\"dataframe\">\n",
       "  <thead>\n",
       "    <tr style=\"text-align: right;\">\n",
       "      <th></th>\n",
       "      <th>id</th>\n",
       "      <th>bathrooms</th>\n",
       "      <th>bedrooms</th>\n",
       "      <th>sqft_living</th>\n",
       "      <th>sqft_lot</th>\n",
       "    </tr>\n",
       "  </thead>\n",
       "  <tbody>\n",
       "    <tr>\n",
       "      <th>875</th>\n",
       "      <td>6306400140</td>\n",
       "      <td>0.00</td>\n",
       "      <td>0</td>\n",
       "      <td>3064</td>\n",
       "      <td>4764</td>\n",
       "    </tr>\n",
       "    <tr>\n",
       "      <th>3119</th>\n",
       "      <td>3918400017</td>\n",
       "      <td>0.00</td>\n",
       "      <td>0</td>\n",
       "      <td>1470</td>\n",
       "      <td>979</td>\n",
       "    </tr>\n",
       "    <tr>\n",
       "      <th>3467</th>\n",
       "      <td>1453602309</td>\n",
       "      <td>1.50</td>\n",
       "      <td>0</td>\n",
       "      <td>1430</td>\n",
       "      <td>1650</td>\n",
       "    </tr>\n",
       "    <tr>\n",
       "      <th>4868</th>\n",
       "      <td>6896300380</td>\n",
       "      <td>1.00</td>\n",
       "      <td>0</td>\n",
       "      <td>390</td>\n",
       "      <td>5900</td>\n",
       "    </tr>\n",
       "    <tr>\n",
       "      <th>6994</th>\n",
       "      <td>2954400190</td>\n",
       "      <td>0.00</td>\n",
       "      <td>0</td>\n",
       "      <td>4810</td>\n",
       "      <td>28008</td>\n",
       "    </tr>\n",
       "    <tr>\n",
       "      <th>8477</th>\n",
       "      <td>2569500210</td>\n",
       "      <td>2.50</td>\n",
       "      <td>0</td>\n",
       "      <td>2290</td>\n",
       "      <td>8319</td>\n",
       "    </tr>\n",
       "    <tr>\n",
       "      <th>8484</th>\n",
       "      <td>2310060040</td>\n",
       "      <td>2.50</td>\n",
       "      <td>0</td>\n",
       "      <td>1810</td>\n",
       "      <td>5669</td>\n",
       "    </tr>\n",
       "    <tr>\n",
       "      <th>9773</th>\n",
       "      <td>3374500520</td>\n",
       "      <td>0.00</td>\n",
       "      <td>0</td>\n",
       "      <td>2460</td>\n",
       "      <td>8049</td>\n",
       "    </tr>\n",
       "    <tr>\n",
       "      <th>9854</th>\n",
       "      <td>7849202190</td>\n",
       "      <td>0.00</td>\n",
       "      <td>0</td>\n",
       "      <td>1470</td>\n",
       "      <td>4800</td>\n",
       "    </tr>\n",
       "    <tr>\n",
       "      <th>12653</th>\n",
       "      <td>7849202299</td>\n",
       "      <td>2.50</td>\n",
       "      <td>0</td>\n",
       "      <td>1490</td>\n",
       "      <td>7111</td>\n",
       "    </tr>\n",
       "    <tr>\n",
       "      <th>14423</th>\n",
       "      <td>9543000205</td>\n",
       "      <td>0.00</td>\n",
       "      <td>0</td>\n",
       "      <td>844</td>\n",
       "      <td>4269</td>\n",
       "    </tr>\n",
       "    <tr>\n",
       "      <th>18379</th>\n",
       "      <td>1222029077</td>\n",
       "      <td>0.75</td>\n",
       "      <td>0</td>\n",
       "      <td>384</td>\n",
       "      <td>213444</td>\n",
       "    </tr>\n",
       "    <tr>\n",
       "      <th>19452</th>\n",
       "      <td>3980300371</td>\n",
       "      <td>0.00</td>\n",
       "      <td>0</td>\n",
       "      <td>290</td>\n",
       "      <td>20875</td>\n",
       "    </tr>\n",
       "  </tbody>\n",
       "</table>\n",
       "</div>"
      ],
      "text/plain": [
       "               id  bathrooms  bedrooms  sqft_living  sqft_lot\n",
       "875    6306400140       0.00         0         3064      4764\n",
       "3119   3918400017       0.00         0         1470       979\n",
       "3467   1453602309       1.50         0         1430      1650\n",
       "4868   6896300380       1.00         0          390      5900\n",
       "6994   2954400190       0.00         0         4810     28008\n",
       "8477   2569500210       2.50         0         2290      8319\n",
       "8484   2310060040       2.50         0         1810      5669\n",
       "9773   3374500520       0.00         0         2460      8049\n",
       "9854   7849202190       0.00         0         1470      4800\n",
       "12653  7849202299       2.50         0         1490      7111\n",
       "14423  9543000205       0.00         0          844      4269\n",
       "18379  1222029077       0.75         0          384    213444\n",
       "19452  3980300371       0.00         0          290     20875"
      ]
     },
     "execution_count": 49,
     "metadata": {},
     "output_type": "execute_result"
    }
   ],
   "source": [
    "df3[df3['bedrooms'] == 0] [['id','bathrooms','bedrooms','sqft_living', 'sqft_lot']]"
   ]
  },
  {
   "cell_type": "markdown",
   "id": "a9635de5",
   "metadata": {
    "ExecuteTime": {
     "end_time": "2021-08-11T01:52:32.218500Z",
     "start_time": "2021-08-11T01:52:32.210522Z"
    },
    "hidden": true
   },
   "source": [
    "There are just 13 registers without bedrooms. It will be droped"
   ]
  },
  {
   "cell_type": "code",
   "execution_count": 60,
   "id": "f7965220",
   "metadata": {
    "ExecuteTime": {
     "end_time": "2021-08-11T02:04:05.669923Z",
     "start_time": "2021-08-11T02:04:05.650925Z"
    },
    "hidden": true
   },
   "outputs": [],
   "source": [
    "zero_bed = df3[df3['bedrooms'] == 0] ['id'].reset_index(drop=True).to_list()\n",
    "df3 = df3[~df3['id'].isin(zero_bed)]"
   ]
  },
  {
   "cell_type": "markdown",
   "id": "37426405",
   "metadata": {
    "hidden": true
   },
   "source": [
    "3) Registers without bathrooms"
   ]
  },
  {
   "cell_type": "code",
   "execution_count": 61,
   "id": "6a1b7bf7",
   "metadata": {
    "ExecuteTime": {
     "end_time": "2021-08-11T02:04:13.411715Z",
     "start_time": "2021-08-11T02:04:13.402740Z"
    },
    "hidden": true
   },
   "outputs": [
    {
     "data": {
      "text/plain": [
       "3"
      ]
     },
     "execution_count": 61,
     "metadata": {},
     "output_type": "execute_result"
    }
   ],
   "source": [
    "zero_bath = df3[df3['bathrooms'] == 0] ['id'].reset_index(drop=True).to_list()\n",
    "len(zero_bath)"
   ]
  },
  {
   "cell_type": "markdown",
   "id": "fbc6dd26",
   "metadata": {
    "hidden": true
   },
   "source": [
    "There are just 3 register without bathrooms. It will be droped."
   ]
  },
  {
   "cell_type": "code",
   "execution_count": 63,
   "id": "e21703e3",
   "metadata": {
    "ExecuteTime": {
     "end_time": "2021-08-11T02:05:46.747972Z",
     "start_time": "2021-08-11T02:05:46.736004Z"
    },
    "hidden": true
   },
   "outputs": [],
   "source": [
    "df3 = df3[~df3['id'].isin(zero_bath)]"
   ]
  },
  {
   "cell_type": "markdown",
   "id": "c483a09b",
   "metadata": {
    "ExecuteTime": {
     "end_time": "2021-08-11T01:35:04.930412Z",
     "start_time": "2021-08-11T01:35:04.915452Z"
    },
    "hidden": true
   },
   "source": [
    "4) There are houses with the year of renovation with '0'. It has to be treated."
   ]
  },
  {
   "cell_type": "code",
   "execution_count": null,
   "id": "42710bc6",
   "metadata": {
    "ExecuteTime": {
     "end_time": "2021-08-11T02:05:49.680502Z",
     "start_time": "2021-08-11T02:05:49.673519Z"
    },
    "hidden": true
   },
   "outputs": [],
   "source": []
  },
  {
   "cell_type": "markdown",
   "id": "efe04275",
   "metadata": {
    "heading_collapsed": true
   },
   "source": [
    "# Feature Engeneering"
   ]
  },
  {
   "cell_type": "code",
   "execution_count": 65,
   "id": "cbc9401d",
   "metadata": {
    "ExecuteTime": {
     "end_time": "2021-08-11T02:08:12.153574Z",
     "start_time": "2021-08-11T02:08:12.137617Z"
    },
    "hidden": true
   },
   "outputs": [],
   "source": [
    "df4 = df3.copy()"
   ]
  },
  {
   "cell_type": "markdown",
   "id": "015ba348",
   "metadata": {
    "ExecuteTime": {
     "end_time": "2021-08-05T14:10:52.734839Z",
     "start_time": "2021-08-05T14:10:50.681Z"
    },
    "hidden": true
   },
   "source": [
    "## Average price per area"
   ]
  },
  {
   "cell_type": "code",
   "execution_count": 66,
   "id": "7621971e",
   "metadata": {
    "ExecuteTime": {
     "end_time": "2021-08-11T02:08:28.972845Z",
     "start_time": "2021-08-11T02:08:28.671333Z"
    },
    "hidden": true,
    "scrolled": true
   },
   "outputs": [],
   "source": [
    "# selectin the major area for each house\n",
    "df4['area'] = df4[['sqft_living', 'sqft_lot']].apply(lambda x: x['sqft_living'] if x['sqft_living'] >= x['sqft_lot'] else x['sqft_lot'], axis = 1)"
   ]
  },
  {
   "cell_type": "code",
   "execution_count": 67,
   "id": "d32dcb98",
   "metadata": {
    "ExecuteTime": {
     "end_time": "2021-08-11T02:08:30.742028Z",
     "start_time": "2021-08-11T02:08:30.731091Z"
    },
    "hidden": true
   },
   "outputs": [],
   "source": [
    "df4['price_area'] = df4['price'] / df4['area'] # price/sqft for each house"
   ]
  },
  {
   "cell_type": "markdown",
   "id": "ed611dd5",
   "metadata": {},
   "source": [
    "# Descriptive Statistics"
   ]
  },
  {
   "cell_type": "code",
   "execution_count": 68,
   "id": "d963eef8",
   "metadata": {
    "ExecuteTime": {
     "end_time": "2021-08-11T02:08:36.500462Z",
     "start_time": "2021-08-11T02:08:36.491488Z"
    }
   },
   "outputs": [],
   "source": [
    "df5 = df4.copy()"
   ]
  },
  {
   "cell_type": "code",
   "execution_count": 69,
   "id": "13429669",
   "metadata": {
    "ExecuteTime": {
     "end_time": "2021-08-11T02:08:40.372524Z",
     "start_time": "2021-08-11T02:08:40.347595Z"
    }
   },
   "outputs": [],
   "source": [
    "df5_aux = df5.drop_duplicates(subset='id')"
   ]
  },
  {
   "cell_type": "code",
   "execution_count": 70,
   "id": "355138f0",
   "metadata": {
    "ExecuteTime": {
     "end_time": "2021-08-11T02:08:41.316442Z",
     "start_time": "2021-08-11T02:08:41.306470Z"
    }
   },
   "outputs": [],
   "source": [
    "# attributes filtering\n",
    "num_attributes = df5_aux[['price', 'bedrooms', 'bathrooms', 'sqft_living','sqft_lot', 'floors', 'sqft_above', \n",
    "                      'sqft_basement', 'yr_built', 'yr_renovated', 'area', 'price_area']]\n",
    "\n",
    "cat_attributes = df5_aux[['price_area','date', 'waterfront', 'view', 'condition', 'grade', 'yr_built', 'yr_renovated', 'zipcode']]\n",
    "#price_area in cat_attributes just to use for comparation\n",
    "       "
   ]
  },
  {
   "cell_type": "code",
   "execution_count": 71,
   "id": "00a5b5e0",
   "metadata": {
    "ExecuteTime": {
     "end_time": "2021-08-11T02:08:42.375450Z",
     "start_time": "2021-08-11T02:08:42.371493Z"
    }
   },
   "outputs": [],
   "source": [
    "#num_attributes = df_aux.select_dtypes(include = ['int64', 'float64'] )\n",
    "#cat_attributes = df_aux[['date', 'waterfront', 'view', 'condition', 'grade','yr_built', 'yr_renovated']]"
   ]
  },
  {
   "cell_type": "markdown",
   "id": "86b905bc",
   "metadata": {
    "ExecuteTime": {
     "end_time": "2021-08-04T19:39:09.844095Z",
     "start_time": "2021-08-04T19:39:07.828Z"
    }
   },
   "source": [
    "## Numerical Attributes"
   ]
  },
  {
   "cell_type": "code",
   "execution_count": 72,
   "id": "dc563eb3",
   "metadata": {
    "ExecuteTime": {
     "end_time": "2021-08-11T02:08:43.600541Z",
     "start_time": "2021-08-11T02:08:43.580564Z"
    }
   },
   "outputs": [],
   "source": [
    "#central tendency statistics - mean, median\n",
    "ct_mean   = pd.DataFrame ( num_attributes.apply (np.mean   ) ).T\n",
    "ct_median = pd.DataFrame ( num_attributes.apply (np.median ) ).T"
   ]
  },
  {
   "cell_type": "code",
   "execution_count": 73,
   "id": "7350cae1",
   "metadata": {
    "ExecuteTime": {
     "end_time": "2021-08-11T02:08:44.291203Z",
     "start_time": "2021-08-11T02:08:44.257773Z"
    }
   },
   "outputs": [],
   "source": [
    "# dispersion statistics - standard deviation, minimum, maximum, range, skew, kurtosis\n",
    "d_std      = pd.DataFrame ( num_attributes.apply (np.std) ).T\n",
    "d_min      = pd.DataFrame ( num_attributes.apply (np.min) ).T\n",
    "d_max      = pd.DataFrame ( num_attributes.apply (np.max) ).T\n",
    "d_range    = pd.DataFrame ( num_attributes.apply ( lambda x: x.max() - x.min())).T\n",
    "d_skew     = pd.DataFrame ( num_attributes.apply ( lambda x: x.skew() ) ).T\n",
    "d_kurtosis = pd.DataFrame ( num_attributes.apply ( lambda x: x.kurtosis() ) ).T"
   ]
  },
  {
   "cell_type": "code",
   "execution_count": 74,
   "id": "69184e9d",
   "metadata": {
    "ExecuteTime": {
     "end_time": "2021-08-11T02:08:45.735580Z",
     "start_time": "2021-08-11T02:08:45.699329Z"
    }
   },
   "outputs": [
    {
     "data": {
      "text/html": [
       "<div>\n",
       "<style scoped>\n",
       "    .dataframe tbody tr th:only-of-type {\n",
       "        vertical-align: middle;\n",
       "    }\n",
       "\n",
       "    .dataframe tbody tr th {\n",
       "        vertical-align: top;\n",
       "    }\n",
       "\n",
       "    .dataframe thead th {\n",
       "        text-align: right;\n",
       "    }\n",
       "</style>\n",
       "<table border=\"1\" class=\"dataframe\">\n",
       "  <thead>\n",
       "    <tr style=\"text-align: right;\">\n",
       "      <th></th>\n",
       "      <th>attributes</th>\n",
       "      <th>min.</th>\n",
       "      <th>max</th>\n",
       "      <th>range</th>\n",
       "      <th>mean</th>\n",
       "      <th>median</th>\n",
       "      <th>std</th>\n",
       "      <th>skew</th>\n",
       "      <th>kurtosis</th>\n",
       "    </tr>\n",
       "  </thead>\n",
       "  <tbody>\n",
       "    <tr>\n",
       "      <th>0</th>\n",
       "      <td>price</td>\n",
       "      <td>78000.000000</td>\n",
       "      <td>7.700000e+06</td>\n",
       "      <td>7.622000e+06</td>\n",
       "      <td>540645.343137</td>\n",
       "      <td>450000.000000</td>\n",
       "      <td>367687.571954</td>\n",
       "      <td>4.030135</td>\n",
       "      <td>34.637848</td>\n",
       "    </tr>\n",
       "    <tr>\n",
       "      <th>1</th>\n",
       "      <td>bedrooms</td>\n",
       "      <td>1.000000</td>\n",
       "      <td>3.300000e+01</td>\n",
       "      <td>3.200000e+01</td>\n",
       "      <td>3.373950</td>\n",
       "      <td>3.000000</td>\n",
       "      <td>0.925383</td>\n",
       "      <td>2.039982</td>\n",
       "      <td>50.414154</td>\n",
       "    </tr>\n",
       "    <tr>\n",
       "      <th>2</th>\n",
       "      <td>bathrooms</td>\n",
       "      <td>0.500000</td>\n",
       "      <td>8.000000e+00</td>\n",
       "      <td>7.500000e+00</td>\n",
       "      <td>2.118429</td>\n",
       "      <td>2.250000</td>\n",
       "      <td>0.768702</td>\n",
       "      <td>0.518898</td>\n",
       "      <td>1.290904</td>\n",
       "    </tr>\n",
       "    <tr>\n",
       "      <th>3</th>\n",
       "      <td>sqft_living</td>\n",
       "      <td>370.000000</td>\n",
       "      <td>1.354000e+04</td>\n",
       "      <td>1.317000e+04</td>\n",
       "      <td>2083.132633</td>\n",
       "      <td>1920.000000</td>\n",
       "      <td>918.786964</td>\n",
       "      <td>1.472702</td>\n",
       "      <td>5.258187</td>\n",
       "    </tr>\n",
       "    <tr>\n",
       "      <th>4</th>\n",
       "      <td>sqft_lot</td>\n",
       "      <td>520.000000</td>\n",
       "      <td>1.651359e+06</td>\n",
       "      <td>1.650839e+06</td>\n",
       "      <td>15128.038002</td>\n",
       "      <td>7614.000000</td>\n",
       "      <td>41529.827387</td>\n",
       "      <td>13.056252</td>\n",
       "      <td>284.499875</td>\n",
       "    </tr>\n",
       "    <tr>\n",
       "      <th>5</th>\n",
       "      <td>floors</td>\n",
       "      <td>1.000000</td>\n",
       "      <td>3.500000e+00</td>\n",
       "      <td>2.500000e+00</td>\n",
       "      <td>1.495985</td>\n",
       "      <td>1.500000</td>\n",
       "      <td>0.540068</td>\n",
       "      <td>0.608788</td>\n",
       "      <td>-0.497126</td>\n",
       "    </tr>\n",
       "    <tr>\n",
       "      <th>6</th>\n",
       "      <td>sqft_above</td>\n",
       "      <td>370.000000</td>\n",
       "      <td>9.410000e+03</td>\n",
       "      <td>9.040000e+03</td>\n",
       "      <td>1791.170215</td>\n",
       "      <td>1560.000000</td>\n",
       "      <td>828.673621</td>\n",
       "      <td>1.445001</td>\n",
       "      <td>3.398336</td>\n",
       "    </tr>\n",
       "    <tr>\n",
       "      <th>7</th>\n",
       "      <td>sqft_basement</td>\n",
       "      <td>0.000000</td>\n",
       "      <td>4.820000e+03</td>\n",
       "      <td>4.820000e+03</td>\n",
       "      <td>291.962418</td>\n",
       "      <td>0.000000</td>\n",
       "      <td>442.865164</td>\n",
       "      <td>1.575789</td>\n",
       "      <td>2.708185</td>\n",
       "    </tr>\n",
       "    <tr>\n",
       "      <th>8</th>\n",
       "      <td>yr_built</td>\n",
       "      <td>1900.000000</td>\n",
       "      <td>2.015000e+03</td>\n",
       "      <td>1.150000e+02</td>\n",
       "      <td>1971.092997</td>\n",
       "      <td>1975.000000</td>\n",
       "      <td>29.386455</td>\n",
       "      <td>-0.474222</td>\n",
       "      <td>-0.654639</td>\n",
       "    </tr>\n",
       "    <tr>\n",
       "      <th>9</th>\n",
       "      <td>yr_renovated</td>\n",
       "      <td>0.000000</td>\n",
       "      <td>2.015000e+03</td>\n",
       "      <td>2.015000e+03</td>\n",
       "      <td>84.793091</td>\n",
       "      <td>0.000000</td>\n",
       "      <td>402.565229</td>\n",
       "      <td>4.537614</td>\n",
       "      <td>18.593194</td>\n",
       "    </tr>\n",
       "    <tr>\n",
       "      <th>10</th>\n",
       "      <td>area</td>\n",
       "      <td>772.000000</td>\n",
       "      <td>1.651359e+06</td>\n",
       "      <td>1.650587e+06</td>\n",
       "      <td>15138.909150</td>\n",
       "      <td>7614.000000</td>\n",
       "      <td>41526.250748</td>\n",
       "      <td>13.058925</td>\n",
       "      <td>284.585222</td>\n",
       "    </tr>\n",
       "    <tr>\n",
       "      <th>11</th>\n",
       "      <td>price_area</td>\n",
       "      <td>0.163119</td>\n",
       "      <td>6.776316e+02</td>\n",
       "      <td>6.774685e+02</td>\n",
       "      <td>85.928303</td>\n",
       "      <td>59.372722</td>\n",
       "      <td>81.145340</td>\n",
       "      <td>2.040624</td>\n",
       "      <td>4.822861</td>\n",
       "    </tr>\n",
       "  </tbody>\n",
       "</table>\n",
       "</div>"
      ],
      "text/plain": [
       "       attributes          min.           max         range           mean         median            std       skew    kurtosis\n",
       "0           price  78000.000000  7.700000e+06  7.622000e+06  540645.343137  450000.000000  367687.571954   4.030135   34.637848\n",
       "1        bedrooms      1.000000  3.300000e+01  3.200000e+01       3.373950       3.000000       0.925383   2.039982   50.414154\n",
       "2       bathrooms      0.500000  8.000000e+00  7.500000e+00       2.118429       2.250000       0.768702   0.518898    1.290904\n",
       "3     sqft_living    370.000000  1.354000e+04  1.317000e+04    2083.132633    1920.000000     918.786964   1.472702    5.258187\n",
       "4        sqft_lot    520.000000  1.651359e+06  1.650839e+06   15128.038002    7614.000000   41529.827387  13.056252  284.499875\n",
       "5          floors      1.000000  3.500000e+00  2.500000e+00       1.495985       1.500000       0.540068   0.608788   -0.497126\n",
       "6      sqft_above    370.000000  9.410000e+03  9.040000e+03    1791.170215    1560.000000     828.673621   1.445001    3.398336\n",
       "7   sqft_basement      0.000000  4.820000e+03  4.820000e+03     291.962418       0.000000     442.865164   1.575789    2.708185\n",
       "8        yr_built   1900.000000  2.015000e+03  1.150000e+02    1971.092997    1975.000000      29.386455  -0.474222   -0.654639\n",
       "9    yr_renovated      0.000000  2.015000e+03  2.015000e+03      84.793091       0.000000     402.565229   4.537614   18.593194\n",
       "10           area    772.000000  1.651359e+06  1.650587e+06   15138.909150    7614.000000   41526.250748  13.058925  284.585222\n",
       "11     price_area      0.163119  6.776316e+02  6.774685e+02      85.928303      59.372722      81.145340   2.040624    4.822861"
      ]
     },
     "execution_count": 74,
     "metadata": {},
     "output_type": "execute_result"
    }
   ],
   "source": [
    "#concatenate\n",
    "df_metrics = pd.concat ([d_min,d_max,d_range,ct_mean,ct_median,d_std,d_skew,d_kurtosis]).T.reset_index()\n",
    "df_metrics.columns = ['attributes', 'min.','max','range', 'mean', 'median', 'std', 'skew', 'kurtosis']\n",
    "df_metrics"
   ]
  },
  {
   "cell_type": "markdown",
   "id": "42d0ff59",
   "metadata": {},
   "source": [
    "Observations:\n",
    "    There is a wide range in price/area . The minimum is almost zero"
   ]
  },
  {
   "cell_type": "markdown",
   "id": "207eba11",
   "metadata": {
    "ExecuteTime": {
     "end_time": "2021-08-04T19:39:09.845093Z",
     "start_time": "2021-08-04T19:39:07.830Z"
    }
   },
   "source": [
    "### Categorical Attributes"
   ]
  },
  {
   "cell_type": "code",
   "execution_count": 75,
   "id": "38ff4d53",
   "metadata": {
    "ExecuteTime": {
     "end_time": "2021-08-11T02:08:55.004223Z",
     "start_time": "2021-08-11T02:08:54.994219Z"
    },
    "scrolled": true
   },
   "outputs": [
    {
     "data": {
      "text/html": [
       "<div>\n",
       "<style scoped>\n",
       "    .dataframe tbody tr th:only-of-type {\n",
       "        vertical-align: middle;\n",
       "    }\n",
       "\n",
       "    .dataframe tbody tr th {\n",
       "        vertical-align: top;\n",
       "    }\n",
       "\n",
       "    .dataframe thead th {\n",
       "        text-align: right;\n",
       "    }\n",
       "</style>\n",
       "<table border=\"1\" class=\"dataframe\">\n",
       "  <thead>\n",
       "    <tr style=\"text-align: right;\">\n",
       "      <th></th>\n",
       "      <th>price_area</th>\n",
       "      <th>date</th>\n",
       "      <th>waterfront</th>\n",
       "      <th>view</th>\n",
       "      <th>condition</th>\n",
       "      <th>grade</th>\n",
       "      <th>yr_built</th>\n",
       "      <th>yr_renovated</th>\n",
       "      <th>zipcode</th>\n",
       "    </tr>\n",
       "  </thead>\n",
       "  <tbody>\n",
       "    <tr>\n",
       "      <th>0</th>\n",
       "      <td>39.274336</td>\n",
       "      <td>2014-10-13</td>\n",
       "      <td>no</td>\n",
       "      <td>0</td>\n",
       "      <td>3</td>\n",
       "      <td>7</td>\n",
       "      <td>1955</td>\n",
       "      <td>0</td>\n",
       "      <td>98178</td>\n",
       "    </tr>\n",
       "    <tr>\n",
       "      <th>1</th>\n",
       "      <td>74.288870</td>\n",
       "      <td>2014-12-09</td>\n",
       "      <td>no</td>\n",
       "      <td>0</td>\n",
       "      <td>3</td>\n",
       "      <td>7</td>\n",
       "      <td>1951</td>\n",
       "      <td>1991</td>\n",
       "      <td>98125</td>\n",
       "    </tr>\n",
       "    <tr>\n",
       "      <th>2</th>\n",
       "      <td>18.000000</td>\n",
       "      <td>2015-02-25</td>\n",
       "      <td>no</td>\n",
       "      <td>0</td>\n",
       "      <td>3</td>\n",
       "      <td>6</td>\n",
       "      <td>1933</td>\n",
       "      <td>0</td>\n",
       "      <td>98028</td>\n",
       "    </tr>\n",
       "    <tr>\n",
       "      <th>3</th>\n",
       "      <td>120.800000</td>\n",
       "      <td>2014-12-09</td>\n",
       "      <td>no</td>\n",
       "      <td>0</td>\n",
       "      <td>5</td>\n",
       "      <td>7</td>\n",
       "      <td>1965</td>\n",
       "      <td>0</td>\n",
       "      <td>98136</td>\n",
       "    </tr>\n",
       "    <tr>\n",
       "      <th>4</th>\n",
       "      <td>63.118812</td>\n",
       "      <td>2015-02-18</td>\n",
       "      <td>no</td>\n",
       "      <td>0</td>\n",
       "      <td>3</td>\n",
       "      <td>8</td>\n",
       "      <td>1987</td>\n",
       "      <td>0</td>\n",
       "      <td>98074</td>\n",
       "    </tr>\n",
       "  </tbody>\n",
       "</table>\n",
       "</div>"
      ],
      "text/plain": [
       "   price_area       date waterfront  view  condition  grade  yr_built  yr_renovated  zipcode\n",
       "0   39.274336 2014-10-13         no     0          3      7      1955             0    98178\n",
       "1   74.288870 2014-12-09         no     0          3      7      1951          1991    98125\n",
       "2   18.000000 2015-02-25         no     0          3      6      1933             0    98028\n",
       "3  120.800000 2014-12-09         no     0          5      7      1965             0    98136\n",
       "4   63.118812 2015-02-18         no     0          3      8      1987             0    98074"
      ]
     },
     "execution_count": 75,
     "metadata": {},
     "output_type": "execute_result"
    }
   ],
   "source": [
    "cat_attributes.head()"
   ]
  },
  {
   "cell_type": "code",
   "execution_count": 78,
   "id": "8faa0c01",
   "metadata": {
    "ExecuteTime": {
     "end_time": "2021-08-11T02:09:49.248126Z",
     "start_time": "2021-08-11T02:09:49.227183Z"
    }
   },
   "outputs": [],
   "source": [
    "total = df5_aux.shape[0]\n",
    "\n",
    "wf_number    = cat_attributes [ cat_attributes ['waterfront'] == 'yes'].shape[0]\n",
    "\n",
    "lqd_number   = cat_attributes [ cat_attributes ['grade'] <=3 ].shape[0]\n",
    "\n",
    "hq_number    = cat_attributes [ cat_attributes ['grade'] >= 11].shape[0]\n",
    "\n",
    "avgq_number  = total - lqd_number - hq_number"
   ]
  },
  {
   "cell_type": "code",
   "execution_count": 79,
   "id": "b9c79211",
   "metadata": {
    "ExecuteTime": {
     "end_time": "2021-08-11T02:09:53.825172Z",
     "start_time": "2021-08-11T02:09:53.818191Z"
    }
   },
   "outputs": [
    {
     "name": "stdout",
     "output_type": "stream",
     "text": [
      "Dataset has 163 houses with waterview, what corresponding to 0.76 % of the data set\n",
      "\n",
      "Dataset has 1 houses with low quality design , what corresponding to 0.00 % of the data set\n",
      "\n",
      "Dataset has 20922 houses with average quality design , what corresponding to 97.68 % of the data set\n",
      "\n",
      "Dataset has 497 houses with high quality design , what corresponding to 2.32 % of the data set\n"
     ]
    }
   ],
   "source": [
    "print ( 'Dataset has {} houses with waterview, what corresponding to {:.2f} % of the data set\\n' .format( wf_number, (wf_number/total)*100))\n",
    "print ( 'Dataset has {} houses with low quality design , what corresponding to {:.2f} % of the data set\\n' .format( lqd_number, (lqd_number/total)*100))\n",
    "print ( 'Dataset has {} houses with average quality design , what corresponding to {:.2f} % of the data set\\n' .format( avgq_number, (avgq_number/total)*100))\n",
    "print ( 'Dataset has {} houses with high quality design , what corresponding to {:.2f} % of the data set' .format( hq_number, (hq_number/total)*100))"
   ]
  },
  {
   "cell_type": "markdown",
   "id": "3b2c3dd6",
   "metadata": {
    "ExecuteTime": {
     "end_time": "2021-08-06T13:23:15.588493Z",
     "start_time": "2021-08-06T13:23:15.346147Z"
    }
   },
   "source": [
    "#### Average price for view"
   ]
  },
  {
   "cell_type": "code",
   "execution_count": 95,
   "id": "0df2f036",
   "metadata": {
    "ExecuteTime": {
     "end_time": "2021-08-11T02:42:38.145240Z",
     "start_time": "2021-08-11T02:42:37.919700Z"
    }
   },
   "outputs": [
    {
     "data": {
      "image/png": "[encoded data removed]",
      "text/plain": [
       "<Figure size 1800x864 with 1 Axes>"
      ]
     },
     "metadata": {},
     "output_type": "display_data"
    }
   ],
   "source": [
    "aux5 = cat_attributes[['price_area','view']].groupby('view').mean().reset_index()\n",
    "sns.barplot(x='view', y ='price_area', data=aux5).set_title('Average price X View')\n",
    "plt.savefig(r'../reports/figures/avg_price_view.png')"
   ]
  },
  {
   "cell_type": "markdown",
   "id": "da9355e7",
   "metadata": {
    "ExecuteTime": {
     "end_time": "2021-08-09T12:27:01.380092Z",
     "start_time": "2021-08-09T12:27:01.365133Z"
    }
   },
   "source": [
    "It seems that the view has a big contribuition to the price"
   ]
  },
  {
   "cell_type": "markdown",
   "id": "04c5dbf5",
   "metadata": {
    "ExecuteTime": {
     "end_time": "2021-08-09T12:45:30.706067Z",
     "start_time": "2021-08-09T12:45:30.689079Z"
    }
   },
   "source": [
    "#### Average price for grade"
   ]
  },
  {
   "cell_type": "code",
   "execution_count": 97,
   "id": "591f7eda",
   "metadata": {
    "ExecuteTime": {
     "end_time": "2021-08-11T02:47:39.132077Z",
     "start_time": "2021-08-11T02:47:38.831420Z"
    }
   },
   "outputs": [
    {
     "data": {
      "image/png": "[encoded data removed]",
      "text/plain": [
       "<Figure size 1800x864 with 1 Axes>"
      ]
     },
     "metadata": {},
     "output_type": "display_data"
    }
   ],
   "source": [
    "aux51 = cat_attributes[['price_area', 'grade']].groupby('grade').mean().reset_index()\n",
    "sns.barplot(x='grade', y='price_area', data=aux51).set_title('Average Price X Grade')\n",
    "plt.savefig(r'../reports/figures/avg_price_grade.png')"
   ]
  },
  {
   "cell_type": "markdown",
   "id": "4f828231",
   "metadata": {},
   "source": [
    "#### Average price for condition"
   ]
  },
  {
   "cell_type": "code",
   "execution_count": 82,
   "id": "629e976f",
   "metadata": {
    "ExecuteTime": {
     "end_time": "2021-08-11T02:10:20.032433Z",
     "start_time": "2021-08-11T02:10:19.888817Z"
    }
   },
   "outputs": [
    {
     "data": {
      "image/png": "[encoded data removed]",
      "text/plain": [
       "<Figure size 1800x864 with 1 Axes>"
      ]
     },
     "metadata": {},
     "output_type": "display_data"
    }
   ],
   "source": [
    "aux52 = cat_attributes[['price_area', 'condition']].groupby('condition').mean().reset_index()\n",
    "sns.barplot (x='condition', y='price_area', data = aux52);"
   ]
  },
  {
   "cell_type": "markdown",
   "id": "3895fc26",
   "metadata": {
    "ExecuteTime": {
     "end_time": "2021-08-09T12:27:01.383084Z",
     "start_time": "2021-08-09T12:26:58.085Z"
    }
   },
   "source": [
    "It seems that its more valuable by a 2-condition house and make a lift than buy a 4-conditon one"
   ]
  },
  {
   "cell_type": "markdown",
   "id": "ada553b5",
   "metadata": {
    "ExecuteTime": {
     "end_time": "2021-08-09T12:27:01.383084Z",
     "start_time": "2021-08-09T12:26:58.088Z"
    }
   },
   "source": [
    "#### Average price per Zipcode"
   ]
  },
  {
   "cell_type": "code",
   "execution_count": 83,
   "id": "22b4a8a2",
   "metadata": {
    "ExecuteTime": {
     "end_time": "2021-08-11T02:10:25.650138Z",
     "start_time": "2021-08-11T02:10:25.627200Z"
    }
   },
   "outputs": [
    {
     "data": {
      "text/html": [
       "<div>\n",
       "<style scoped>\n",
       "    .dataframe tbody tr th:only-of-type {\n",
       "        vertical-align: middle;\n",
       "    }\n",
       "\n",
       "    .dataframe tbody tr th {\n",
       "        vertical-align: top;\n",
       "    }\n",
       "\n",
       "    .dataframe thead th {\n",
       "        text-align: right;\n",
       "    }\n",
       "</style>\n",
       "<table border=\"1\" class=\"dataframe\">\n",
       "  <thead>\n",
       "    <tr style=\"text-align: right;\">\n",
       "      <th></th>\n",
       "      <th>zipcode</th>\n",
       "      <th>price_area</th>\n",
       "    </tr>\n",
       "  </thead>\n",
       "  <tbody>\n",
       "    <tr>\n",
       "      <th>0</th>\n",
       "      <td>98001</td>\n",
       "      <td>30.978432</td>\n",
       "    </tr>\n",
       "    <tr>\n",
       "      <th>1</th>\n",
       "      <td>98002</td>\n",
       "      <td>37.340177</td>\n",
       "    </tr>\n",
       "    <tr>\n",
       "      <th>2</th>\n",
       "      <td>98003</td>\n",
       "      <td>32.966967</td>\n",
       "    </tr>\n",
       "    <tr>\n",
       "      <th>3</th>\n",
       "      <td>98004</td>\n",
       "      <td>119.281968</td>\n",
       "    </tr>\n",
       "    <tr>\n",
       "      <th>4</th>\n",
       "      <td>98005</td>\n",
       "      <td>60.918559</td>\n",
       "    </tr>\n",
       "  </tbody>\n",
       "</table>\n",
       "</div>"
      ],
      "text/plain": [
       "   zipcode  price_area\n",
       "0    98001   30.978432\n",
       "1    98002   37.340177\n",
       "2    98003   32.966967\n",
       "3    98004  119.281968\n",
       "4    98005   60.918559"
      ]
     },
     "execution_count": 83,
     "metadata": {},
     "output_type": "execute_result"
    }
   ],
   "source": [
    "aux53 = cat_attributes[['price_area', 'zipcode']].groupby('zipcode').mean().reset_index()\n",
    "aux53.head()"
   ]
  },
  {
   "cell_type": "code",
   "execution_count": 84,
   "id": "f20bbfb8",
   "metadata": {
    "ExecuteTime": {
     "end_time": "2021-08-11T02:10:29.199166Z",
     "start_time": "2021-08-11T02:10:29.186201Z"
    }
   },
   "outputs": [
    {
     "data": {
      "text/html": [
       "<div>\n",
       "<style scoped>\n",
       "    .dataframe tbody tr th:only-of-type {\n",
       "        vertical-align: middle;\n",
       "    }\n",
       "\n",
       "    .dataframe tbody tr th {\n",
       "        vertical-align: top;\n",
       "    }\n",
       "\n",
       "    .dataframe thead th {\n",
       "        text-align: right;\n",
       "    }\n",
       "</style>\n",
       "<table border=\"1\" class=\"dataframe\">\n",
       "  <thead>\n",
       "    <tr style=\"text-align: right;\">\n",
       "      <th></th>\n",
       "      <th>zipcode</th>\n",
       "      <th>price_area</th>\n",
       "    </tr>\n",
       "  </thead>\n",
       "  <tbody>\n",
       "    <tr>\n",
       "      <th>0</th>\n",
       "      <td>98070</td>\n",
       "      <td>15.278300</td>\n",
       "    </tr>\n",
       "    <tr>\n",
       "      <th>1</th>\n",
       "      <td>98024</td>\n",
       "      <td>17.056354</td>\n",
       "    </tr>\n",
       "    <tr>\n",
       "      <th>2</th>\n",
       "      <td>98014</td>\n",
       "      <td>17.743604</td>\n",
       "    </tr>\n",
       "    <tr>\n",
       "      <th>3</th>\n",
       "      <td>98010</td>\n",
       "      <td>21.263879</td>\n",
       "    </tr>\n",
       "    <tr>\n",
       "      <th>4</th>\n",
       "      <td>98022</td>\n",
       "      <td>21.987446</td>\n",
       "    </tr>\n",
       "  </tbody>\n",
       "</table>\n",
       "</div>"
      ],
      "text/plain": [
       "   zipcode  price_area\n",
       "0    98070   15.278300\n",
       "1    98024   17.056354\n",
       "2    98014   17.743604\n",
       "3    98010   21.263879\n",
       "4    98022   21.987446"
      ]
     },
     "execution_count": 84,
     "metadata": {},
     "output_type": "execute_result"
    }
   ],
   "source": [
    "aux53 = aux53.sort_values(['price_area']).reset_index(drop=True)\n",
    "aux53.head()"
   ]
  },
  {
   "cell_type": "code",
   "execution_count": 85,
   "id": "30e05336",
   "metadata": {
    "ExecuteTime": {
     "end_time": "2021-08-11T02:10:45.349784Z",
     "start_time": "2021-08-11T02:10:43.967875Z"
    },
    "scrolled": true
   },
   "outputs": [
    {
     "data": {
      "image/png": "[encoded data removed]",
      "text/plain": [
       "<Figure size 1800x864 with 1 Axes>"
      ]
     },
     "metadata": {},
     "output_type": "display_data"
    }
   ],
   "source": [
    "sns.barplot(x='zipcode', y='price_area', data = aux53);"
   ]
  },
  {
   "cell_type": "markdown",
   "id": "35b24215",
   "metadata": {},
   "source": [
    "#### Average price per year built"
   ]
  },
  {
   "cell_type": "code",
   "execution_count": 86,
   "id": "10e89231",
   "metadata": {
    "ExecuteTime": {
     "end_time": "2021-08-11T02:10:53.497518Z",
     "start_time": "2021-08-11T02:10:51.447992Z"
    }
   },
   "outputs": [
    {
     "data": {
      "image/png": "[encoded data removed]",
      "text/plain": [
       "<Figure size 1800x864 with 1 Axes>"
      ]
     },
     "metadata": {},
     "output_type": "display_data"
    }
   ],
   "source": [
    "aux54 = cat_attributes[['price_area', 'yr_built']].groupby('yr_built').mean().reset_index()\n",
    "sns.barplot(x='yr_built', y='price_area', data = aux54);"
   ]
  },
  {
   "cell_type": "markdown",
   "id": "be33f0f1",
   "metadata": {
    "ExecuteTime": {
     "end_time": "2021-08-10T14:39:22.574759Z",
     "start_time": "2021-08-10T14:39:20.177Z"
    }
   },
   "source": [
    "#### Average price per year renovated"
   ]
  },
  {
   "cell_type": "code",
   "execution_count": 87,
   "id": "4751d2c6",
   "metadata": {
    "ExecuteTime": {
     "end_time": "2021-08-11T02:10:59.425675Z",
     "start_time": "2021-08-11T02:10:58.153080Z"
    }
   },
   "outputs": [
    {
     "data": {
      "image/png": "[encoded data removed]",
      "text/plain": [
       "<Figure size 1800x864 with 1 Axes>"
      ]
     },
     "metadata": {},
     "output_type": "display_data"
    }
   ],
   "source": [
    "aux55 = cat_attributes[['price_area', 'yr_renovated']].groupby('yr_renovated').mean().reset_index()\n",
    "sns.barplot(x='yr_renovated', y='price_area', data = aux55);"
   ]
  },
  {
   "cell_type": "markdown",
   "id": "6359dec2",
   "metadata": {
    "ExecuteTime": {
     "end_time": "2021-08-04T22:38:49.806449Z",
     "start_time": "2021-08-04T22:38:49.791490Z"
    }
   },
   "source": [
    "# Primary Hipotesys"
   ]
  },
  {
   "cell_type": "markdown",
   "id": "df7d7d63",
   "metadata": {
    "ExecuteTime": {
     "end_time": "2021-08-04T22:38:49.806449Z",
     "start_time": "2021-08-04T22:38:49.791490Z"
    }
   },
   "source": [
    "1) Houses with waterview are more expensive.\n",
    "Estratégia: - Comparar o preço médio por area das casas com vista com as casas sem vista\n",
    "Comparar o preço médio das casas com vista e sem vista no mesmo zipcode\n",
    "\n",
    "2) There is a main categorical feature that raise the prices.\n",
    "\n",
    "Verificar a realação do preço por area contra cada feature\n",
    "\n",
    "3) There is a main numerical feature that raise the prices\n",
    "\n",
    "4) Houses that were not renovated are cheaper.\n",
    "\n",
    "5) The most houses with high quality design has waterview.\n",
    "\n",
    "6) Houses with price below the average price for the zip code would be a good deal\n",
    "\n",
    "7) Houses with price below the average price for the zip code AND condition equal '2' would be a good opportunity to high the grade and profit\n",
    "\n",
    "8) Existe uma época do ano em que mais imóveis são comercializados"
   ]
  },
  {
   "cell_type": "markdown",
   "id": "67bf9276",
   "metadata": {
    "ExecuteTime": {
     "end_time": "2021-08-10T14:39:22.576755Z",
     "start_time": "2021-08-10T14:39:20.185Z"
    }
   },
   "source": [
    "## Price level (cheap, average expensive)\n",
    "Cheap - preço abaixo dos preços médios da região - \n",
    "Avg - preço na média da região\n",
    "Expensive - preço acima da média da região"
   ]
  },
  {
   "cell_type": "code",
   "execution_count": null,
   "id": "8b9eed52",
   "metadata": {
    "ExecuteTime": {
     "end_time": "2021-08-11T01:35:04.956343Z",
     "start_time": "2021-08-11T01:35:02.956Z"
    }
   },
   "outputs": [],
   "source": [
    "## Should buy\n",
    "\n",
    "Deve comprar - Cheap\n",
    "Deve avaliar para reforma average e expensive com grade ou condition interessante\n"
   ]
  },
  {
   "cell_type": "markdown",
   "id": "8eba168c",
   "metadata": {
    "ExecuteTime": {
     "end_time": "2021-08-04T19:39:09.849081Z",
     "start_time": "2021-08-04T19:39:07.839Z"
    }
   },
   "source": [
    "# Conclusion"
   ]
  },
  {
   "cell_type": "markdown",
   "id": "3f7bcaff",
   "metadata": {
    "ExecuteTime": {
     "end_time": "2021-08-04T19:39:09.850085Z",
     "start_time": "2021-08-04T19:39:07.842Z"
    }
   },
   "source": [
    "# Next steps"
   ]
  },
  {
   "cell_type": "markdown",
   "id": "1c91f9cd",
   "metadata": {
    "ExecuteTime": {
     "end_time": "2021-08-09T13:52:33.239479Z",
     "start_time": "2021-08-09T13:52:33.225486Z"
    }
   },
   "source": [
    "- Use ML models to find clusters among the houses and classify them\n",
    "- Can use the data to a simple regression model to the price of selling future houses"
   ]
  }
 ],
 "metadata": {
  "kernelspec": {
   "display_name": "Python 3",
   "language": "python",
   "name": "python3"
  },
  "language_info": {
   "codemirror_mode": {
    "name": "ipython",
    "version": 3
   },
   "file_extension": ".py",
   "mimetype": "text/x-python",
   "name": "python",
   "nbconvert_exporter": "python",
   "pygments_lexer": "ipython3",
   "version": "3.8.10"
  },
  "toc": {
   "base_numbering": "0",
   "nav_menu": {},
   "number_sections": true,
   "sideBar": true,
   "skip_h1_title": false,
   "title_cell": "Table of Contents",
   "title_sidebar": "Contents",
   "toc_cell": false,
   "toc_position": {},
   "toc_section_display": true,
   "toc_window_display": false
  }
 },
 "nbformat": 4,
 "nbformat_minor": 5
}
