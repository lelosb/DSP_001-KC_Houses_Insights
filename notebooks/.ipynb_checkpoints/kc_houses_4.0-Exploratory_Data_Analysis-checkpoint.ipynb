{
 "cells": [
  {
   "cell_type": "markdown",
   "id": "43c12e6f",
   "metadata": {},
   "source": [
    "# King Count Houses - Insights  Project"
   ]
  },
  {
   "cell_type": "markdown",
   "id": "31a537a6",
   "metadata": {
    "ExecuteTime": {
     "end_time": "2021-06-28T15:33:39.487347Z",
     "start_time": "2021-06-28T15:33:39.146704Z"
    },
    "heading_collapsed": true
   },
   "source": [
    "# Basic setups"
   ]
  },
  {
   "cell_type": "markdown",
   "id": "5188af92",
   "metadata": {
    "ExecuteTime": {
     "end_time": "2021-06-28T15:33:39.487347Z",
     "start_time": "2021-06-28T15:33:39.146704Z"
    },
    "hidden": true
   },
   "source": [
    "## IMPORTS"
   ]
  },
  {
   "cell_type": "code",
   "execution_count": 1,
   "id": "c705bc40",
   "metadata": {
    "ExecuteTime": {
     "end_time": "2021-08-23T15:10:29.894355Z",
     "start_time": "2021-08-23T15:10:28.807520Z"
    },
    "hidden": true
   },
   "outputs": [],
   "source": [
    "import math\n",
    "import plotly.express as px\n",
    "import pandas as pd\n",
    "from IPython.core.display     import HTML\n",
    "import seaborn       as sns\n",
    "import datetime\n",
    "import ipywidgets as widgets\n",
    "from   ipywidgets import fixed\n",
    "import matplotlib.pyplot as plt"
   ]
  },
  {
   "cell_type": "markdown",
   "id": "3751aad5",
   "metadata": {
    "hidden": true
   },
   "source": [
    "## Helper functions"
   ]
  },
  {
   "cell_type": "code",
   "execution_count": 2,
   "id": "85bfe522",
   "metadata": {
    "ExecuteTime": {
     "end_time": "2021-08-23T15:10:29.925111Z",
     "start_time": "2021-08-23T15:10:29.896185Z"
    },
    "hidden": true
   },
   "outputs": [
    {
     "name": "stdout",
     "output_type": "stream",
     "text": [
      "Populating the interactive namespace from numpy and matplotlib\n"
     ]
    },
    {
     "data": {
      "text/html": [
       "<style>.container { width:100% !important; }</style>"
      ],
      "text/plain": [
       "<IPython.core.display.HTML object>"
      ]
     },
     "metadata": {},
     "output_type": "display_data"
    }
   ],
   "source": [
    "#jupyter notebook settings\n",
    "def jupyter_settings():\n",
    "    %matplotlib inline\n",
    "    %pylab inline\n",
    "    plt.style.use( 'bmh' )\n",
    "    plt.rcParams['figure.figsize'] = [25, 12]\n",
    "    plt.rcParams['font.size'] = 24\n",
    "    display( HTML( '<style>.container { width:100% !important; }</style>') )\n",
    "    pd.options.display.max_columns = None\n",
    "    pd.options.display.max_rows = None\n",
    "    pd.set_option( 'display.expand_frame_repr', False )\n",
    "    sns.set()\n",
    "jupyter_settings()"
   ]
  },
  {
   "cell_type": "code",
   "execution_count": 3,
   "id": "1e9eb4de",
   "metadata": {
    "ExecuteTime": {
     "end_time": "2021-08-23T15:10:29.940069Z",
     "start_time": "2021-08-23T15:10:29.927107Z"
    },
    "hidden": true
   },
   "outputs": [],
   "source": [
    "# Supress Scientific Notation\n",
    "np.set_printoptions(suppress=True)\n",
    "pd.set_option('display.float_format', '{:.2f}'.format)"
   ]
  },
  {
   "cell_type": "markdown",
   "id": "91a3595d",
   "metadata": {
    "ExecuteTime": {
     "end_time": "2021-06-28T22:15:13.510514Z",
     "start_time": "2021-06-28T22:15:13.498546Z"
    }
   },
   "source": [
    "# Data Description"
   ]
  },
  {
   "cell_type": "markdown",
   "id": "f25c7714",
   "metadata": {},
   "source": [
    "## Data Load"
   ]
  },
  {
   "cell_type": "code",
   "execution_count": 4,
   "id": "eb461e26",
   "metadata": {
    "ExecuteTime": {
     "end_time": "2021-08-23T15:10:30.019431Z",
     "start_time": "2021-08-23T15:10:29.942063Z"
    }
   },
   "outputs": [],
   "source": [
    "df_raw = pd.read_csv(r'../data/raw/kc_house_data.csv') "
   ]
  },
  {
   "cell_type": "markdown",
   "id": "36b47910",
   "metadata": {
    "ExecuteTime": {
     "end_time": "2021-08-02T17:59:47.486649Z",
     "start_time": "2021-08-02T17:59:47.468664Z"
    }
   },
   "source": [
    "## Data Overview"
   ]
  },
  {
   "cell_type": "code",
   "execution_count": 5,
   "id": "d006be8a",
   "metadata": {
    "ExecuteTime": {
     "end_time": "2021-08-23T15:10:30.050318Z",
     "start_time": "2021-08-23T15:10:30.020398Z"
    },
    "scrolled": true
   },
   "outputs": [
    {
     "data": {
      "text/html": [
       "<div>\n",
       "<style scoped>\n",
       "    .dataframe tbody tr th:only-of-type {\n",
       "        vertical-align: middle;\n",
       "    }\n",
       "\n",
       "    .dataframe tbody tr th {\n",
       "        vertical-align: top;\n",
       "    }\n",
       "\n",
       "    .dataframe thead th {\n",
       "        text-align: right;\n",
       "    }\n",
       "</style>\n",
       "<table border=\"1\" class=\"dataframe\">\n",
       "  <thead>\n",
       "    <tr style=\"text-align: right;\">\n",
       "      <th></th>\n",
       "      <th>id</th>\n",
       "      <th>date</th>\n",
       "      <th>price</th>\n",
       "      <th>bedrooms</th>\n",
       "      <th>bathrooms</th>\n",
       "      <th>sqft_living</th>\n",
       "      <th>sqft_lot</th>\n",
       "      <th>floors</th>\n",
       "      <th>waterfront</th>\n",
       "      <th>view</th>\n",
       "      <th>condition</th>\n",
       "      <th>grade</th>\n",
       "      <th>sqft_above</th>\n",
       "      <th>sqft_basement</th>\n",
       "      <th>yr_built</th>\n",
       "      <th>yr_renovated</th>\n",
       "      <th>zipcode</th>\n",
       "      <th>lat</th>\n",
       "      <th>long</th>\n",
       "      <th>sqft_living15</th>\n",
       "      <th>sqft_lot15</th>\n",
       "    </tr>\n",
       "  </thead>\n",
       "  <tbody>\n",
       "    <tr>\n",
       "      <th>3668</th>\n",
       "      <td>293700110</td>\n",
       "      <td>20140926T000000</td>\n",
       "      <td>775000.00</td>\n",
       "      <td>4</td>\n",
       "      <td>2.50</td>\n",
       "      <td>3890</td>\n",
       "      <td>34513</td>\n",
       "      <td>2.00</td>\n",
       "      <td>0</td>\n",
       "      <td>0</td>\n",
       "      <td>3</td>\n",
       "      <td>10</td>\n",
       "      <td>3890</td>\n",
       "      <td>0</td>\n",
       "      <td>1996</td>\n",
       "      <td>0</td>\n",
       "      <td>98077</td>\n",
       "      <td>47.77</td>\n",
       "      <td>-122.05</td>\n",
       "      <td>3600</td>\n",
       "      <td>28435</td>\n",
       "    </tr>\n",
       "    <tr>\n",
       "      <th>696</th>\n",
       "      <td>7527200030</td>\n",
       "      <td>20141229T000000</td>\n",
       "      <td>700000.00</td>\n",
       "      <td>5</td>\n",
       "      <td>2.50</td>\n",
       "      <td>2830</td>\n",
       "      <td>25958</td>\n",
       "      <td>1.00</td>\n",
       "      <td>0</td>\n",
       "      <td>1</td>\n",
       "      <td>5</td>\n",
       "      <td>8</td>\n",
       "      <td>1610</td>\n",
       "      <td>1220</td>\n",
       "      <td>1979</td>\n",
       "      <td>0</td>\n",
       "      <td>98075</td>\n",
       "      <td>47.59</td>\n",
       "      <td>-122.08</td>\n",
       "      <td>2670</td>\n",
       "      <td>21567</td>\n",
       "    </tr>\n",
       "    <tr>\n",
       "      <th>11757</th>\n",
       "      <td>9133600135</td>\n",
       "      <td>20150211T000000</td>\n",
       "      <td>160000.00</td>\n",
       "      <td>4</td>\n",
       "      <td>2.25</td>\n",
       "      <td>1800</td>\n",
       "      <td>14722</td>\n",
       "      <td>1.00</td>\n",
       "      <td>0</td>\n",
       "      <td>0</td>\n",
       "      <td>3</td>\n",
       "      <td>7</td>\n",
       "      <td>1440</td>\n",
       "      <td>360</td>\n",
       "      <td>1962</td>\n",
       "      <td>0</td>\n",
       "      <td>98055</td>\n",
       "      <td>47.49</td>\n",
       "      <td>-122.22</td>\n",
       "      <td>2400</td>\n",
       "      <td>10000</td>\n",
       "    </tr>\n",
       "    <tr>\n",
       "      <th>9647</th>\n",
       "      <td>5634500234</td>\n",
       "      <td>20150513T000000</td>\n",
       "      <td>554990.00</td>\n",
       "      <td>3</td>\n",
       "      <td>2.50</td>\n",
       "      <td>2100</td>\n",
       "      <td>6092</td>\n",
       "      <td>2.00</td>\n",
       "      <td>0</td>\n",
       "      <td>0</td>\n",
       "      <td>3</td>\n",
       "      <td>8</td>\n",
       "      <td>2100</td>\n",
       "      <td>0</td>\n",
       "      <td>2013</td>\n",
       "      <td>0</td>\n",
       "      <td>98028</td>\n",
       "      <td>47.75</td>\n",
       "      <td>-122.24</td>\n",
       "      <td>2250</td>\n",
       "      <td>8592</td>\n",
       "    </tr>\n",
       "    <tr>\n",
       "      <th>15820</th>\n",
       "      <td>1193000480</td>\n",
       "      <td>20140724T000000</td>\n",
       "      <td>784000.00</td>\n",
       "      <td>4</td>\n",
       "      <td>2.75</td>\n",
       "      <td>3540</td>\n",
       "      <td>7091</td>\n",
       "      <td>1.50</td>\n",
       "      <td>0</td>\n",
       "      <td>1</td>\n",
       "      <td>4</td>\n",
       "      <td>8</td>\n",
       "      <td>1970</td>\n",
       "      <td>1570</td>\n",
       "      <td>1947</td>\n",
       "      <td>0</td>\n",
       "      <td>98199</td>\n",
       "      <td>47.65</td>\n",
       "      <td>-122.39</td>\n",
       "      <td>2200</td>\n",
       "      <td>6000</td>\n",
       "    </tr>\n",
       "  </tbody>\n",
       "</table>\n",
       "</div>"
      ],
      "text/plain": [
       "               id             date     price  bedrooms  bathrooms  sqft_living  sqft_lot  floors  waterfront  view  condition  grade  sqft_above  sqft_basement  yr_built  yr_renovated  zipcode   lat    long  sqft_living15  sqft_lot15\n",
       "3668    293700110  20140926T000000 775000.00         4       2.50         3890     34513    2.00           0     0          3     10        3890              0      1996             0    98077 47.77 -122.05           3600       28435\n",
       "696    7527200030  20141229T000000 700000.00         5       2.50         2830     25958    1.00           0     1          5      8        1610           1220      1979             0    98075 47.59 -122.08           2670       21567\n",
       "11757  9133600135  20150211T000000 160000.00         4       2.25         1800     14722    1.00           0     0          3      7        1440            360      1962             0    98055 47.49 -122.22           2400       10000\n",
       "9647   5634500234  20150513T000000 554990.00         3       2.50         2100      6092    2.00           0     0          3      8        2100              0      2013             0    98028 47.75 -122.24           2250        8592\n",
       "15820  1193000480  20140724T000000 784000.00         4       2.75         3540      7091    1.50           0     1          4      8        1970           1570      1947             0    98199 47.65 -122.39           2200        6000"
      ]
     },
     "execution_count": 5,
     "metadata": {},
     "output_type": "execute_result"
    }
   ],
   "source": [
    "df_raw.sample(5)"
   ]
  },
  {
   "cell_type": "code",
   "execution_count": 6,
   "id": "f15c20a3",
   "metadata": {
    "ExecuteTime": {
     "end_time": "2021-08-23T15:10:30.065871Z",
     "start_time": "2021-08-23T15:10:30.051313Z"
    }
   },
   "outputs": [
    {
     "name": "stdout",
     "output_type": "stream",
     "text": [
      "The original dataset have 21613 transation registers with 21 attributes.\n"
     ]
    }
   ],
   "source": [
    "print ('The original dataset have {} transation registers with {} attributes.'.format(df_raw.shape[0], df_raw.shape[1]))"
   ]
  },
  {
   "cell_type": "code",
   "execution_count": 7,
   "id": "9fabc2e9",
   "metadata": {
    "ExecuteTime": {
     "end_time": "2021-08-23T15:10:30.081818Z",
     "start_time": "2021-08-23T15:10:30.067820Z"
    },
    "scrolled": false
   },
   "outputs": [
    {
     "data": {
      "text/plain": [
       "Index(['id', 'date', 'price', 'bedrooms', 'bathrooms', 'sqft_living',\n",
       "       'sqft_lot', 'floors', 'waterfront', 'view', 'condition', 'grade',\n",
       "       'sqft_above', 'sqft_basement', 'yr_built', 'yr_renovated', 'zipcode',\n",
       "       'lat', 'long', 'sqft_living15', 'sqft_lot15'],\n",
       "      dtype='object')"
      ]
     },
     "execution_count": 7,
     "metadata": {},
     "output_type": "execute_result"
    }
   ],
   "source": [
    "df_raw.columns"
   ]
  },
  {
   "cell_type": "markdown",
   "id": "7867a233",
   "metadata": {},
   "source": [
    "1° Task: Check the attributes: 'grade','sqft_living15', 'sqft_lot15' and 'view'\n",
    "Identify, cleaning or drop."
   ]
  },
  {
   "cell_type": "markdown",
   "id": "21fe3f33",
   "metadata": {},
   "source": [
    "## Data Types"
   ]
  },
  {
   "cell_type": "code",
   "execution_count": 8,
   "id": "8d20ab9e",
   "metadata": {
    "ExecuteTime": {
     "end_time": "2021-08-23T15:10:30.097775Z",
     "start_time": "2021-08-23T15:10:30.082780Z"
    }
   },
   "outputs": [
    {
     "data": {
      "text/plain": [
       "id                 int64\n",
       "date              object\n",
       "price            float64\n",
       "bedrooms           int64\n",
       "bathrooms        float64\n",
       "sqft_living        int64\n",
       "sqft_lot           int64\n",
       "floors           float64\n",
       "waterfront         int64\n",
       "view               int64\n",
       "condition          int64\n",
       "grade              int64\n",
       "sqft_above         int64\n",
       "sqft_basement      int64\n",
       "yr_built           int64\n",
       "yr_renovated       int64\n",
       "zipcode            int64\n",
       "lat              float64\n",
       "long             float64\n",
       "sqft_living15      int64\n",
       "sqft_lot15         int64\n",
       "dtype: object"
      ]
     },
     "execution_count": 8,
     "metadata": {},
     "output_type": "execute_result"
    }
   ],
   "source": [
    "df_raw.dtypes"
   ]
  },
  {
   "cell_type": "markdown",
   "id": "c034c996",
   "metadata": {},
   "source": [
    "Tasks:\n",
    "\n",
    "2°)Change 'waterfront' from 0 or 1 to yes or no\n",
    "\n",
    "3°)Change 'date' to date format"
   ]
  },
  {
   "cell_type": "markdown",
   "id": "a006c391",
   "metadata": {
    "ExecuteTime": {
     "end_time": "2021-08-02T18:08:22.667732Z",
     "start_time": "2021-08-02T18:08:22.651736Z"
    }
   },
   "source": [
    "## Check NA"
   ]
  },
  {
   "cell_type": "code",
   "execution_count": 9,
   "id": "ba080444",
   "metadata": {
    "ExecuteTime": {
     "end_time": "2021-08-23T15:10:30.113861Z",
     "start_time": "2021-08-23T15:10:30.098743Z"
    }
   },
   "outputs": [
    {
     "data": {
      "text/plain": [
       "id               0\n",
       "date             0\n",
       "price            0\n",
       "bedrooms         0\n",
       "bathrooms        0\n",
       "sqft_living      0\n",
       "sqft_lot         0\n",
       "floors           0\n",
       "waterfront       0\n",
       "view             0\n",
       "condition        0\n",
       "grade            0\n",
       "sqft_above       0\n",
       "sqft_basement    0\n",
       "yr_built         0\n",
       "yr_renovated     0\n",
       "zipcode          0\n",
       "lat              0\n",
       "long             0\n",
       "sqft_living15    0\n",
       "sqft_lot15       0\n",
       "dtype: int64"
      ]
     },
     "execution_count": 9,
     "metadata": {},
     "output_type": "execute_result"
    }
   ],
   "source": [
    "df_raw.isna().sum()"
   ]
  },
  {
   "cell_type": "markdown",
   "id": "aa00dd82",
   "metadata": {
    "ExecuteTime": {
     "end_time": "2021-08-03T18:07:00.244902Z",
     "start_time": "2021-08-03T18:07:00.233930Z"
    }
   },
   "source": [
    "## Check Duplicated"
   ]
  },
  {
   "cell_type": "code",
   "execution_count": 10,
   "id": "4a2385a7",
   "metadata": {
    "ExecuteTime": {
     "end_time": "2021-08-23T15:10:30.129696Z",
     "start_time": "2021-08-23T15:10:30.114695Z"
    },
    "scrolled": true
   },
   "outputs": [
    {
     "data": {
      "text/plain": [
       "177"
      ]
     },
     "execution_count": 10,
     "metadata": {},
     "output_type": "execute_result"
    }
   ],
   "source": [
    "df_raw['id'].duplicated().sum()"
   ]
  },
  {
   "cell_type": "markdown",
   "id": "f1239fd7",
   "metadata": {
    "ExecuteTime": {
     "end_time": "2021-08-04T20:06:58.716987Z",
     "start_time": "2021-08-04T20:06:58.701029Z"
    }
   },
   "source": [
    "Task:\n",
    "\n",
    "4) Identify the duplicated ones and drop if it is necessary."
   ]
  },
  {
   "cell_type": "markdown",
   "id": "2b070222",
   "metadata": {
    "ExecuteTime": {
     "end_time": "2021-08-06T13:00:41.651694Z",
     "start_time": "2021-08-06T13:00:41.633750Z"
    }
   },
   "source": [
    "## Check attributes"
   ]
  },
  {
   "cell_type": "markdown",
   "id": "50a0c573",
   "metadata": {
    "ExecuteTime": {
     "end_time": "2021-08-06T12:18:31.276386Z",
     "start_time": "2021-08-06T12:18:31.267378Z"
    }
   },
   "source": [
    "### Attribute 'grade'"
   ]
  },
  {
   "cell_type": "markdown",
   "id": "9d8eb092",
   "metadata": {},
   "source": [
    "It's an index from 1 to 13, where 1-3 falls short of building construction and design, 7 has an average level of construction and design, and 11-13 have a high quality level of construction and design."
   ]
  },
  {
   "cell_type": "code",
   "execution_count": 11,
   "id": "bd8d81c1",
   "metadata": {
    "ExecuteTime": {
     "end_time": "2021-08-23T15:10:30.145653Z",
     "start_time": "2021-08-23T15:10:30.130654Z"
    }
   },
   "outputs": [
    {
     "data": {
      "text/plain": [
       "array([ 7,  6,  8, 11,  9,  5, 10, 12,  4,  3, 13,  1], dtype=int64)"
      ]
     },
     "execution_count": 11,
     "metadata": {},
     "output_type": "execute_result"
    }
   ],
   "source": [
    "df_raw['grade'].unique()"
   ]
  },
  {
   "cell_type": "markdown",
   "id": "5fca632c",
   "metadata": {
    "ExecuteTime": {
     "end_time": "2021-08-06T12:15:24.252808Z",
     "start_time": "2021-08-06T12:15:24.238848Z"
    }
   },
   "source": [
    "### Attribute 'sqft_living15'"
   ]
  },
  {
   "cell_type": "markdown",
   "id": "66da9868",
   "metadata": {},
   "source": [
    "sqft_living15 - The square footage of interior housing living space for the nearest 15 neighbors"
   ]
  },
  {
   "cell_type": "code",
   "execution_count": 12,
   "id": "47b4e5ea",
   "metadata": {
    "ExecuteTime": {
     "end_time": "2021-08-23T15:10:30.161628Z",
     "start_time": "2021-08-23T15:10:30.146609Z"
    },
    "scrolled": false
   },
   "outputs": [
    {
     "data": {
      "text/plain": [
       "array([1340, 1690, 2720, 1360, 1800, 4760, 2238, 1650, 1780, 2390, 2210,\n",
       "       1330, 1370, 2140, 1890, 1610, 1060, 1280, 1400, 4110, 2240, 1220,\n",
       "       2200, 1030, 1760, 1860, 1520, 2630, 2580, 1390, 1460, 1570, 2020,\n",
       "       1590, 2160, 1730, 1290, 2620, 2470, 2410, 3625, 1580, 3050, 1228,\n",
       "       2680,  970, 1190, 1990, 1410, 1480, 2730, 1950, 2250, 2690, 2960,\n",
       "       2270, 2570, 2500, 1440, 2750, 2221, 1010, 3390, 3530, 1640, 1510,\n",
       "       2420, 1940, 3240, 1680,  890, 1130, 3350, 2350, 1870, 1720, 1850,\n",
       "       1900, 1980, 2520, 1350, 1750, 1160, 2550, 2370, 1240, 1270, 2990,\n",
       "       1380, 1540, 2090, 2640, 1830, 1620, 1880, 2340, 1710, 2700, 3060,\n",
       "       2660, 1700, 1970, 1420, 2060, 2480, 1550, 1170, 2820, 1560, 2230,\n",
       "       2840, 1450, 1500, 3160, 1200, 3400, 2110, 2920, 1770, 1070, 1930,\n",
       "       3740, 2260, 1670, 2290, 1050, 2540, 2190, 2030, 1230, 2330, 1300,\n",
       "       1430, 2770, 1250, 1630, 2590, 2130, 1100, 3836, 1320, 2120, 3070,\n",
       "       1910, 2080, 1960, 2280, 1150, 3430, 2070, 2600,  830, 1260, 3120,\n",
       "       2010, 1660, 1600, 2380, 3890, 4180, 2653, 2670, 3920, 2300, 2310,\n",
       "       2320, 3150, 1740, 2400, 4550, 2510, 2440, 2880, 3860, 2150, 1310,\n",
       "       1820, 3080,  880, 2560, 3470, 1020, 2040, 2610, 1810, 2860, 3480,\n",
       "       3130, 3360, 4050, 2450, 1790, 3180, 3600, 2000, 2430, 2850, 4680,\n",
       "       2360, 3930, 1490, 2460, 2077, 1920, 3630, 3220, 2100, 3230, 4300,\n",
       "       3850, 2424, 2530, 3030, 2830, 2900, 2950, 1470,  940, 2740, 4210,\n",
       "       3340, 3980, 2180, 3715, 2050, 1080, 2095, 1000, 3330, 2170, 1408,\n",
       "       1530, 2760, 3110,  950, 3000, 1307, 2220, 4190, 3440, 3250, 1110,\n",
       "       2870, 1210, 2910, 1120, 4230, 1708, 3090, 3270, 2970, 1180, 3100,\n",
       "       4100, 2930, 3510, 2688, 1840, 2490, 4090, 2810, 3260, 3680, 3420,\n",
       "       1654, 1365,  980, 1677, 1140, 3640, 3460, 3140, 1502, 3720, 2790,\n",
       "       2940,  990, 2890,  860, 4750, 1525, 3950, 5790,  760, 2234,  960,\n",
       "       3210, 2780, 2800, 2305, 2665, 3620, 2710, 4320, 2650, 3370, 1509,\n",
       "       1277, 1981, 2434, 4640, 2242, 3040, 3970, 3200, 4600,  840, 3290,\n",
       "       2214, 1162, 3010, 5600, 3820, 3540, 1975, 4800,  740, 3990, 3170,\n",
       "       1576, 1768, 3310, 2980, 1429, 3900, 3380,  820, 1090, 4060, 3910,\n",
       "       3190, 3450, 3730,  620, 3020, 3760, 3320, 1132, 3300, 3770, 3960,\n",
       "        870, 3560, 4620, 3520, 1572, 3490, 1088, 3159, 4470, 3570, 4890,\n",
       "       3690, 3280, 2083, 3780,  920, 1941, 1566,  850, 2496, 1040, 3410,\n",
       "       4240, 4670, 4350, 1714, 5380, 4330, 3830, 5000, 2144, 1494, 1357,\n",
       "        930, 3580, 4250, 4080, 3660, 1458, 3736, 1894, 2037, 1295, 4170,\n",
       "       3750, 3550, 4630, 1439, 3500, 2091,  900, 3880, 3710, 1616,  720,\n",
       "        800, 2315, 1564, 2767, 3721, 4650, 4020,  780, 1728, 2027, 1264,\n",
       "       1404, 1459, 2028, 3639, 1943, 3425, 2641, 2114, 1309, 2412, 2517,\n",
       "       1802, 2011, 1466, 1414, 3193, 1845, 1156, 3670, 1696, 5340, 4440,\n",
       "       1745, 1884, 4690, 4920, 2406, 4160, 3810, 4480, 2848, 1746, 2634,\n",
       "       2049, 5330, 1536, 2273, 3056, 4010, 4700,  910, 2125, 1665, 2683,\n",
       "       3790,  700, 1855,  750, 1078, 4150, 4340, 2344, 1098, 1175, 1188,\n",
       "       3700, 3840, 4042, 2518, 3800, 2488, 3590, 2052,  810, 1528, 5030,\n",
       "       4740, 5070, 2967, 4280, 2724, 3610, 3940, 4940, 4770, 1811, 4830,\n",
       "       2876, 1805, 1216, 5170, 1304, 2474, 4590, 4130, 1492, 1364, 2168,\n",
       "       4140, 3543, 1303, 2005, 3650, 2583, 4310, 2451, 1448, 2955, 2142,\n",
       "        790, 1638, 2554, 2441, 2216, 4220, 1961, 4540,  770, 4200, 3413,\n",
       "       1664, 2136, 3568, 4510, 1484, 1358, 2106, 1834, 2014, 4390, 4570,\n",
       "       2175, 6110, 4260,  710, 2112, 1934, 1518, 1302, 2622, 2619, 2382,\n",
       "       4290, 4560, 4000, 1336, 3112, 4070, 1468, 1571, 2605, 1138, 5110,\n",
       "       4850, 2165, 4410, 1678, 5610, 1984, 4660, 3870, 4370,  460, 4610,\n",
       "       1914, 3515, 2246, 1786, 2109, 2326, 2728, 4400, 4950, 1767, 2054,\n",
       "       5500, 2555, 3674, 2765, 1862, 1352, 4030,  399, 2415, 2901, 1815,\n",
       "       2236, 2253, 2004, 1356, 2403, 1137, 1256, 4930, 4040, 2376, 4520,\n",
       "       4490, 2189, 2566, 2396, 1282, 2155, 1056, 2389, 2256, 3618, 1326,\n",
       "       1168, 4913,  806, 1369, 2405, 2875, 1425, 5220, 1442, 2333, 3335,\n",
       "       1321, 3045, 1546, 4730, 2697, 2822, 2076, 1757, 4780,  952, 4270,\n",
       "       2075, 2667, 1092, 1217, 1716, 1792, 2961, 1125, 1463, 1886,  670,\n",
       "       4460, 2336, 3557, 5200, 2258, 1377, 2019, 2092, 4900, 2615, 1639,\n",
       "       1765, 1554, 1381, 4120, 5080, 1445, 2793, 2475,  998, 2384, 2575,\n",
       "       1398, 1584, 2439, 2197, 2029, 4362, 1443, 4420, 1691, 2495, 2437,\n",
       "       2547, 6210, 2009, 1847, 1346, 2578, 2879, 2255, 2815, 1608,  690,\n",
       "       2425, 1481, 2458, 2358, 2056, 1921, 2419, 2996, 2502, 1798, 3087,\n",
       "       1076, 2981, 2363, 3191, 1763, 1876, 1949, 2598, 1979, 1415, 2002,\n",
       "       2574, 2166, 3726, 2099, 2154, 1522, 1544, 2912, 2648, 1658, 2755,\n",
       "       2798, 1405, 2704, 2738, 3008, 2586, 2873, 1232, 2597, 2516, 1537,\n",
       "       1128, 2849, 1399, 1131, 1569, 2381, 1084, 2304, 4530, 2297, 2279,\n",
       "       2303, 2669, 4225, 2513, 2725, 1955, 2527, 4443, 2478, 1919, 1813,\n",
       "       2533,  828, 2015, 3078, 4495, 2673, 2316, 2647, 3402, 3494, 2156,\n",
       "       3236, 2612, 2323, 2409, 2354, 1285, 2616, 1427, 1516, 2456, 2844,\n",
       "       1495, 2594, 2604, 1268, 2198, 3038, 2927], dtype=int64)"
      ]
     },
     "execution_count": 12,
     "metadata": {},
     "output_type": "execute_result"
    }
   ],
   "source": [
    "df_raw['sqft_living15'].unique()"
   ]
  },
  {
   "cell_type": "markdown",
   "id": "721099ec",
   "metadata": {},
   "source": [
    "Task 5) - Drop this feature"
   ]
  },
  {
   "cell_type": "markdown",
   "id": "58d7737c",
   "metadata": {
    "ExecuteTime": {
     "end_time": "2021-08-06T12:15:24.267768Z",
     "start_time": "2021-08-06T12:15:24.254803Z"
    }
   },
   "source": [
    "### Attibute 'sqft_lot15'"
   ]
  },
  {
   "cell_type": "markdown",
   "id": "935e430b",
   "metadata": {
    "ExecuteTime": {
     "end_time": "2021-08-06T12:21:26.677867Z",
     "start_time": "2021-08-06T12:21:26.670890Z"
    }
   },
   "source": [
    "sqft_lot15 - The square footage of the land lots of the nearest 15 neighbors"
   ]
  },
  {
   "cell_type": "code",
   "execution_count": 13,
   "id": "d8edd5cc",
   "metadata": {
    "ExecuteTime": {
     "end_time": "2021-08-23T15:10:30.176589Z",
     "start_time": "2021-08-23T15:10:30.162626Z"
    }
   },
   "outputs": [
    {
     "data": {
      "text/plain": [
       "array([5650, 7639, 8062, ..., 5731, 1509, 2007], dtype=int64)"
      ]
     },
     "execution_count": 13,
     "metadata": {},
     "output_type": "execute_result"
    }
   ],
   "source": [
    "df_raw['sqft_lot15'].unique()"
   ]
  },
  {
   "cell_type": "markdown",
   "id": "7519db0c",
   "metadata": {},
   "source": [
    "Task 6): Drop this feature"
   ]
  },
  {
   "cell_type": "markdown",
   "id": "a2f358db",
   "metadata": {
    "ExecuteTime": {
     "end_time": "2021-08-06T12:15:24.314642Z",
     "start_time": "2021-08-06T12:15:24.299683Z"
    }
   },
   "source": [
    "### Attribute 'view'"
   ]
  },
  {
   "cell_type": "markdown",
   "id": "612f847a",
   "metadata": {},
   "source": [
    "view - An index from 0 to 4 of how good the view of the property was"
   ]
  },
  {
   "cell_type": "code",
   "execution_count": 14,
   "id": "d49c2db4",
   "metadata": {
    "ExecuteTime": {
     "end_time": "2021-08-23T15:10:30.192167Z",
     "start_time": "2021-08-23T15:10:30.178587Z"
    }
   },
   "outputs": [
    {
     "data": {
      "text/plain": [
       "array([0, 3, 4, 2, 1], dtype=int64)"
      ]
     },
     "execution_count": 14,
     "metadata": {},
     "output_type": "execute_result"
    }
   ],
   "source": [
    "df_raw['view'].unique()"
   ]
  },
  {
   "cell_type": "markdown",
   "id": "c24f117f",
   "metadata": {},
   "source": [
    "***Decision*** \n",
    "\n",
    "Keep it."
   ]
  },
  {
   "cell_type": "markdown",
   "id": "df9863fb",
   "metadata": {},
   "source": [
    "## Statistics Data Overview"
   ]
  },
  {
   "cell_type": "code",
   "execution_count": 15,
   "id": "c3cd2678",
   "metadata": {
    "ExecuteTime": {
     "end_time": "2021-08-23T15:10:30.240030Z",
     "start_time": "2021-08-23T15:10:30.193133Z"
    }
   },
   "outputs": [
    {
     "data": {
      "text/html": [
       "<div>\n",
       "<style scoped>\n",
       "    .dataframe tbody tr th:only-of-type {\n",
       "        vertical-align: middle;\n",
       "    }\n",
       "\n",
       "    .dataframe tbody tr th {\n",
       "        vertical-align: top;\n",
       "    }\n",
       "\n",
       "    .dataframe thead th {\n",
       "        text-align: right;\n",
       "    }\n",
       "</style>\n",
       "<table border=\"1\" class=\"dataframe\">\n",
       "  <thead>\n",
       "    <tr style=\"text-align: right;\">\n",
       "      <th></th>\n",
       "      <th>count</th>\n",
       "      <th>mean</th>\n",
       "      <th>std</th>\n",
       "      <th>min</th>\n",
       "      <th>25%</th>\n",
       "      <th>50%</th>\n",
       "      <th>75%</th>\n",
       "      <th>max</th>\n",
       "    </tr>\n",
       "  </thead>\n",
       "  <tbody>\n",
       "    <tr>\n",
       "      <th>id</th>\n",
       "      <td>21613.00</td>\n",
       "      <td>4580301520.86</td>\n",
       "      <td>2876565571.31</td>\n",
       "      <td>1000102.00</td>\n",
       "      <td>2123049194.00</td>\n",
       "      <td>3904930410.00</td>\n",
       "      <td>7308900445.00</td>\n",
       "      <td>9900000190.00</td>\n",
       "    </tr>\n",
       "    <tr>\n",
       "      <th>price</th>\n",
       "      <td>21613.00</td>\n",
       "      <td>540088.14</td>\n",
       "      <td>367127.20</td>\n",
       "      <td>75000.00</td>\n",
       "      <td>321950.00</td>\n",
       "      <td>450000.00</td>\n",
       "      <td>645000.00</td>\n",
       "      <td>7700000.00</td>\n",
       "    </tr>\n",
       "    <tr>\n",
       "      <th>bedrooms</th>\n",
       "      <td>21613.00</td>\n",
       "      <td>3.37</td>\n",
       "      <td>0.93</td>\n",
       "      <td>0.00</td>\n",
       "      <td>3.00</td>\n",
       "      <td>3.00</td>\n",
       "      <td>4.00</td>\n",
       "      <td>33.00</td>\n",
       "    </tr>\n",
       "    <tr>\n",
       "      <th>bathrooms</th>\n",
       "      <td>21613.00</td>\n",
       "      <td>2.11</td>\n",
       "      <td>0.77</td>\n",
       "      <td>0.00</td>\n",
       "      <td>1.75</td>\n",
       "      <td>2.25</td>\n",
       "      <td>2.50</td>\n",
       "      <td>8.00</td>\n",
       "    </tr>\n",
       "    <tr>\n",
       "      <th>sqft_living</th>\n",
       "      <td>21613.00</td>\n",
       "      <td>2079.90</td>\n",
       "      <td>918.44</td>\n",
       "      <td>290.00</td>\n",
       "      <td>1427.00</td>\n",
       "      <td>1910.00</td>\n",
       "      <td>2550.00</td>\n",
       "      <td>13540.00</td>\n",
       "    </tr>\n",
       "    <tr>\n",
       "      <th>sqft_lot</th>\n",
       "      <td>21613.00</td>\n",
       "      <td>15106.97</td>\n",
       "      <td>41420.51</td>\n",
       "      <td>520.00</td>\n",
       "      <td>5040.00</td>\n",
       "      <td>7618.00</td>\n",
       "      <td>10688.00</td>\n",
       "      <td>1651359.00</td>\n",
       "    </tr>\n",
       "    <tr>\n",
       "      <th>floors</th>\n",
       "      <td>21613.00</td>\n",
       "      <td>1.49</td>\n",
       "      <td>0.54</td>\n",
       "      <td>1.00</td>\n",
       "      <td>1.00</td>\n",
       "      <td>1.50</td>\n",
       "      <td>2.00</td>\n",
       "      <td>3.50</td>\n",
       "    </tr>\n",
       "    <tr>\n",
       "      <th>waterfront</th>\n",
       "      <td>21613.00</td>\n",
       "      <td>0.01</td>\n",
       "      <td>0.09</td>\n",
       "      <td>0.00</td>\n",
       "      <td>0.00</td>\n",
       "      <td>0.00</td>\n",
       "      <td>0.00</td>\n",
       "      <td>1.00</td>\n",
       "    </tr>\n",
       "    <tr>\n",
       "      <th>view</th>\n",
       "      <td>21613.00</td>\n",
       "      <td>0.23</td>\n",
       "      <td>0.77</td>\n",
       "      <td>0.00</td>\n",
       "      <td>0.00</td>\n",
       "      <td>0.00</td>\n",
       "      <td>0.00</td>\n",
       "      <td>4.00</td>\n",
       "    </tr>\n",
       "    <tr>\n",
       "      <th>condition</th>\n",
       "      <td>21613.00</td>\n",
       "      <td>3.41</td>\n",
       "      <td>0.65</td>\n",
       "      <td>1.00</td>\n",
       "      <td>3.00</td>\n",
       "      <td>3.00</td>\n",
       "      <td>4.00</td>\n",
       "      <td>5.00</td>\n",
       "    </tr>\n",
       "    <tr>\n",
       "      <th>grade</th>\n",
       "      <td>21613.00</td>\n",
       "      <td>7.66</td>\n",
       "      <td>1.18</td>\n",
       "      <td>1.00</td>\n",
       "      <td>7.00</td>\n",
       "      <td>7.00</td>\n",
       "      <td>8.00</td>\n",
       "      <td>13.00</td>\n",
       "    </tr>\n",
       "    <tr>\n",
       "      <th>sqft_above</th>\n",
       "      <td>21613.00</td>\n",
       "      <td>1788.39</td>\n",
       "      <td>828.09</td>\n",
       "      <td>290.00</td>\n",
       "      <td>1190.00</td>\n",
       "      <td>1560.00</td>\n",
       "      <td>2210.00</td>\n",
       "      <td>9410.00</td>\n",
       "    </tr>\n",
       "    <tr>\n",
       "      <th>sqft_basement</th>\n",
       "      <td>21613.00</td>\n",
       "      <td>291.51</td>\n",
       "      <td>442.58</td>\n",
       "      <td>0.00</td>\n",
       "      <td>0.00</td>\n",
       "      <td>0.00</td>\n",
       "      <td>560.00</td>\n",
       "      <td>4820.00</td>\n",
       "    </tr>\n",
       "    <tr>\n",
       "      <th>yr_built</th>\n",
       "      <td>21613.00</td>\n",
       "      <td>1971.01</td>\n",
       "      <td>29.37</td>\n",
       "      <td>1900.00</td>\n",
       "      <td>1951.00</td>\n",
       "      <td>1975.00</td>\n",
       "      <td>1997.00</td>\n",
       "      <td>2015.00</td>\n",
       "    </tr>\n",
       "    <tr>\n",
       "      <th>yr_renovated</th>\n",
       "      <td>21613.00</td>\n",
       "      <td>84.40</td>\n",
       "      <td>401.68</td>\n",
       "      <td>0.00</td>\n",
       "      <td>0.00</td>\n",
       "      <td>0.00</td>\n",
       "      <td>0.00</td>\n",
       "      <td>2015.00</td>\n",
       "    </tr>\n",
       "    <tr>\n",
       "      <th>zipcode</th>\n",
       "      <td>21613.00</td>\n",
       "      <td>98077.94</td>\n",
       "      <td>53.51</td>\n",
       "      <td>98001.00</td>\n",
       "      <td>98033.00</td>\n",
       "      <td>98065.00</td>\n",
       "      <td>98118.00</td>\n",
       "      <td>98199.00</td>\n",
       "    </tr>\n",
       "    <tr>\n",
       "      <th>lat</th>\n",
       "      <td>21613.00</td>\n",
       "      <td>47.56</td>\n",
       "      <td>0.14</td>\n",
       "      <td>47.16</td>\n",
       "      <td>47.47</td>\n",
       "      <td>47.57</td>\n",
       "      <td>47.68</td>\n",
       "      <td>47.78</td>\n",
       "    </tr>\n",
       "    <tr>\n",
       "      <th>long</th>\n",
       "      <td>21613.00</td>\n",
       "      <td>-122.21</td>\n",
       "      <td>0.14</td>\n",
       "      <td>-122.52</td>\n",
       "      <td>-122.33</td>\n",
       "      <td>-122.23</td>\n",
       "      <td>-122.12</td>\n",
       "      <td>-121.31</td>\n",
       "    </tr>\n",
       "    <tr>\n",
       "      <th>sqft_living15</th>\n",
       "      <td>21613.00</td>\n",
       "      <td>1986.55</td>\n",
       "      <td>685.39</td>\n",
       "      <td>399.00</td>\n",
       "      <td>1490.00</td>\n",
       "      <td>1840.00</td>\n",
       "      <td>2360.00</td>\n",
       "      <td>6210.00</td>\n",
       "    </tr>\n",
       "    <tr>\n",
       "      <th>sqft_lot15</th>\n",
       "      <td>21613.00</td>\n",
       "      <td>12768.46</td>\n",
       "      <td>27304.18</td>\n",
       "      <td>651.00</td>\n",
       "      <td>5100.00</td>\n",
       "      <td>7620.00</td>\n",
       "      <td>10083.00</td>\n",
       "      <td>871200.00</td>\n",
       "    </tr>\n",
       "  </tbody>\n",
       "</table>\n",
       "</div>"
      ],
      "text/plain": [
       "                 count          mean           std        min           25%           50%           75%           max\n",
       "id            21613.00 4580301520.86 2876565571.31 1000102.00 2123049194.00 3904930410.00 7308900445.00 9900000190.00\n",
       "price         21613.00     540088.14     367127.20   75000.00     321950.00     450000.00     645000.00    7700000.00\n",
       "bedrooms      21613.00          3.37          0.93       0.00          3.00          3.00          4.00         33.00\n",
       "bathrooms     21613.00          2.11          0.77       0.00          1.75          2.25          2.50          8.00\n",
       "sqft_living   21613.00       2079.90        918.44     290.00       1427.00       1910.00       2550.00      13540.00\n",
       "sqft_lot      21613.00      15106.97      41420.51     520.00       5040.00       7618.00      10688.00    1651359.00\n",
       "floors        21613.00          1.49          0.54       1.00          1.00          1.50          2.00          3.50\n",
       "waterfront    21613.00          0.01          0.09       0.00          0.00          0.00          0.00          1.00\n",
       "view          21613.00          0.23          0.77       0.00          0.00          0.00          0.00          4.00\n",
       "condition     21613.00          3.41          0.65       1.00          3.00          3.00          4.00          5.00\n",
       "grade         21613.00          7.66          1.18       1.00          7.00          7.00          8.00         13.00\n",
       "sqft_above    21613.00       1788.39        828.09     290.00       1190.00       1560.00       2210.00       9410.00\n",
       "sqft_basement 21613.00        291.51        442.58       0.00          0.00          0.00        560.00       4820.00\n",
       "yr_built      21613.00       1971.01         29.37    1900.00       1951.00       1975.00       1997.00       2015.00\n",
       "yr_renovated  21613.00         84.40        401.68       0.00          0.00          0.00          0.00       2015.00\n",
       "zipcode       21613.00      98077.94         53.51   98001.00      98033.00      98065.00      98118.00      98199.00\n",
       "lat           21613.00         47.56          0.14      47.16         47.47         47.57         47.68         47.78\n",
       "long          21613.00       -122.21          0.14    -122.52       -122.33       -122.23       -122.12       -121.31\n",
       "sqft_living15 21613.00       1986.55        685.39     399.00       1490.00       1840.00       2360.00       6210.00\n",
       "sqft_lot15    21613.00      12768.46      27304.18     651.00       5100.00       7620.00      10083.00     871200.00"
      ]
     },
     "execution_count": 15,
     "metadata": {},
     "output_type": "execute_result"
    }
   ],
   "source": [
    "df_raw.describe().T"
   ]
  },
  {
   "cell_type": "markdown",
   "id": "58af61bf",
   "metadata": {
    "ExecuteTime": {
     "end_time": "2021-08-05T12:47:54.215490Z",
     "start_time": "2021-08-05T12:47:54.200497Z"
    }
   },
   "source": [
    "Tasks:\n",
    "\n",
    "7) There is a big std in the price, and seems to have outliers. Check it.\n",
    "\n",
    "8) There is at least one house without bedrooms and one with 33. Check it.\n",
    "\n",
    "9) There is at least one house without bathrooms. Check it.\n",
    "\n",
    "10) There are houses with the year of renovation with '0'. It has to be treated."
   ]
  },
  {
   "cell_type": "markdown",
   "id": "e53e3cdf",
   "metadata": {},
   "source": [
    "# Data Transform/Preparing"
   ]
  },
  {
   "cell_type": "code",
   "execution_count": 16,
   "id": "0db351f7",
   "metadata": {
    "ExecuteTime": {
     "end_time": "2021-08-23T15:10:30.254965Z",
     "start_time": "2021-08-23T15:10:30.241004Z"
    }
   },
   "outputs": [],
   "source": [
    "df3 = df_raw.copy()"
   ]
  },
  {
   "cell_type": "markdown",
   "id": "d8f173ab",
   "metadata": {
    "ExecuteTime": {
     "end_time": "2021-08-06T13:06:25.150346Z",
     "start_time": "2021-08-06T13:06:25.117471Z"
    }
   },
   "source": [
    "1) Drop 'sqft_living15'\n",
    "\n",
    "2) Drop 'sqft_lot15' "
   ]
  },
  {
   "cell_type": "code",
   "execution_count": 17,
   "id": "8210c41b",
   "metadata": {
    "ExecuteTime": {
     "end_time": "2021-08-23T15:10:30.270923Z",
     "start_time": "2021-08-23T15:10:30.255963Z"
    },
    "scrolled": true
   },
   "outputs": [
    {
     "data": {
      "text/html": [
       "<div>\n",
       "<style scoped>\n",
       "    .dataframe tbody tr th:only-of-type {\n",
       "        vertical-align: middle;\n",
       "    }\n",
       "\n",
       "    .dataframe tbody tr th {\n",
       "        vertical-align: top;\n",
       "    }\n",
       "\n",
       "    .dataframe thead th {\n",
       "        text-align: right;\n",
       "    }\n",
       "</style>\n",
       "<table border=\"1\" class=\"dataframe\">\n",
       "  <thead>\n",
       "    <tr style=\"text-align: right;\">\n",
       "      <th></th>\n",
       "      <th>id</th>\n",
       "      <th>date</th>\n",
       "      <th>price</th>\n",
       "      <th>bedrooms</th>\n",
       "      <th>bathrooms</th>\n",
       "      <th>sqft_living</th>\n",
       "      <th>sqft_lot</th>\n",
       "      <th>floors</th>\n",
       "      <th>waterfront</th>\n",
       "      <th>view</th>\n",
       "      <th>condition</th>\n",
       "      <th>grade</th>\n",
       "      <th>sqft_above</th>\n",
       "      <th>sqft_basement</th>\n",
       "      <th>yr_built</th>\n",
       "      <th>yr_renovated</th>\n",
       "      <th>zipcode</th>\n",
       "      <th>lat</th>\n",
       "      <th>long</th>\n",
       "    </tr>\n",
       "  </thead>\n",
       "  <tbody>\n",
       "    <tr>\n",
       "      <th>0</th>\n",
       "      <td>7129300520</td>\n",
       "      <td>20141013T000000</td>\n",
       "      <td>221900.00</td>\n",
       "      <td>3</td>\n",
       "      <td>1.00</td>\n",
       "      <td>1180</td>\n",
       "      <td>5650</td>\n",
       "      <td>1.00</td>\n",
       "      <td>0</td>\n",
       "      <td>0</td>\n",
       "      <td>3</td>\n",
       "      <td>7</td>\n",
       "      <td>1180</td>\n",
       "      <td>0</td>\n",
       "      <td>1955</td>\n",
       "      <td>0</td>\n",
       "      <td>98178</td>\n",
       "      <td>47.51</td>\n",
       "      <td>-122.26</td>\n",
       "    </tr>\n",
       "    <tr>\n",
       "      <th>1</th>\n",
       "      <td>6414100192</td>\n",
       "      <td>20141209T000000</td>\n",
       "      <td>538000.00</td>\n",
       "      <td>3</td>\n",
       "      <td>2.25</td>\n",
       "      <td>2570</td>\n",
       "      <td>7242</td>\n",
       "      <td>2.00</td>\n",
       "      <td>0</td>\n",
       "      <td>0</td>\n",
       "      <td>3</td>\n",
       "      <td>7</td>\n",
       "      <td>2170</td>\n",
       "      <td>400</td>\n",
       "      <td>1951</td>\n",
       "      <td>1991</td>\n",
       "      <td>98125</td>\n",
       "      <td>47.72</td>\n",
       "      <td>-122.32</td>\n",
       "    </tr>\n",
       "    <tr>\n",
       "      <th>2</th>\n",
       "      <td>5631500400</td>\n",
       "      <td>20150225T000000</td>\n",
       "      <td>180000.00</td>\n",
       "      <td>2</td>\n",
       "      <td>1.00</td>\n",
       "      <td>770</td>\n",
       "      <td>10000</td>\n",
       "      <td>1.00</td>\n",
       "      <td>0</td>\n",
       "      <td>0</td>\n",
       "      <td>3</td>\n",
       "      <td>6</td>\n",
       "      <td>770</td>\n",
       "      <td>0</td>\n",
       "      <td>1933</td>\n",
       "      <td>0</td>\n",
       "      <td>98028</td>\n",
       "      <td>47.74</td>\n",
       "      <td>-122.23</td>\n",
       "    </tr>\n",
       "    <tr>\n",
       "      <th>3</th>\n",
       "      <td>2487200875</td>\n",
       "      <td>20141209T000000</td>\n",
       "      <td>604000.00</td>\n",
       "      <td>4</td>\n",
       "      <td>3.00</td>\n",
       "      <td>1960</td>\n",
       "      <td>5000</td>\n",
       "      <td>1.00</td>\n",
       "      <td>0</td>\n",
       "      <td>0</td>\n",
       "      <td>5</td>\n",
       "      <td>7</td>\n",
       "      <td>1050</td>\n",
       "      <td>910</td>\n",
       "      <td>1965</td>\n",
       "      <td>0</td>\n",
       "      <td>98136</td>\n",
       "      <td>47.52</td>\n",
       "      <td>-122.39</td>\n",
       "    </tr>\n",
       "    <tr>\n",
       "      <th>4</th>\n",
       "      <td>1954400510</td>\n",
       "      <td>20150218T000000</td>\n",
       "      <td>510000.00</td>\n",
       "      <td>3</td>\n",
       "      <td>2.00</td>\n",
       "      <td>1680</td>\n",
       "      <td>8080</td>\n",
       "      <td>1.00</td>\n",
       "      <td>0</td>\n",
       "      <td>0</td>\n",
       "      <td>3</td>\n",
       "      <td>8</td>\n",
       "      <td>1680</td>\n",
       "      <td>0</td>\n",
       "      <td>1987</td>\n",
       "      <td>0</td>\n",
       "      <td>98074</td>\n",
       "      <td>47.62</td>\n",
       "      <td>-122.05</td>\n",
       "    </tr>\n",
       "  </tbody>\n",
       "</table>\n",
       "</div>"
      ],
      "text/plain": [
       "           id             date     price  bedrooms  bathrooms  sqft_living  sqft_lot  floors  waterfront  view  condition  grade  sqft_above  sqft_basement  yr_built  yr_renovated  zipcode   lat    long\n",
       "0  7129300520  20141013T000000 221900.00         3       1.00         1180      5650    1.00           0     0          3      7        1180              0      1955             0    98178 47.51 -122.26\n",
       "1  6414100192  20141209T000000 538000.00         3       2.25         2570      7242    2.00           0     0          3      7        2170            400      1951          1991    98125 47.72 -122.32\n",
       "2  5631500400  20150225T000000 180000.00         2       1.00          770     10000    1.00           0     0          3      6         770              0      1933             0    98028 47.74 -122.23\n",
       "3  2487200875  20141209T000000 604000.00         4       3.00         1960      5000    1.00           0     0          5      7        1050            910      1965             0    98136 47.52 -122.39\n",
       "4  1954400510  20150218T000000 510000.00         3       2.00         1680      8080    1.00           0     0          3      8        1680              0      1987             0    98074 47.62 -122.05"
      ]
     },
     "execution_count": 17,
     "metadata": {},
     "output_type": "execute_result"
    }
   ],
   "source": [
    "df3 = df3.drop(columns = ['sqft_living15', 'sqft_lot15'], axis = 1)\n",
    "df3.head()"
   ]
  },
  {
   "cell_type": "markdown",
   "id": "8cafb47b",
   "metadata": {},
   "source": [
    "3) Change 'waterfront' from 0 or 1 to yes or no"
   ]
  },
  {
   "cell_type": "code",
   "execution_count": 18,
   "id": "aca17aba",
   "metadata": {
    "ExecuteTime": {
     "end_time": "2021-08-23T15:10:30.286880Z",
     "start_time": "2021-08-23T15:10:30.271920Z"
    }
   },
   "outputs": [],
   "source": [
    "df3['waterfront'] = df3['waterfront'].apply(lambda x: 'yes' if x==1 else 'no')"
   ]
  },
  {
   "cell_type": "markdown",
   "id": "5f80d672",
   "metadata": {},
   "source": [
    "4) Change 'date' to date format"
   ]
  },
  {
   "cell_type": "code",
   "execution_count": 19,
   "id": "bdcb5270",
   "metadata": {
    "ExecuteTime": {
     "end_time": "2021-08-23T15:10:30.302437Z",
     "start_time": "2021-08-23T15:10:30.287879Z"
    }
   },
   "outputs": [],
   "source": [
    "df3['date'] = pd.to_datetime(df3['date'])"
   ]
  },
  {
   "cell_type": "markdown",
   "id": "7c849497",
   "metadata": {
    "ExecuteTime": {
     "end_time": "2021-08-03T19:39:51.949040Z",
     "start_time": "2021-08-03T19:39:51.934083Z"
    }
   },
   "source": [
    "5) Identify the duplicated ones and drop if it is necessary"
   ]
  },
  {
   "cell_type": "code",
   "execution_count": 20,
   "id": "e041305e",
   "metadata": {
    "ExecuteTime": {
     "end_time": "2021-08-23T15:10:30.318394Z",
     "start_time": "2021-08-23T15:10:30.304402Z"
    },
    "scrolled": false
   },
   "outputs": [
    {
     "data": {
      "text/plain": [
       "353"
      ]
     },
     "execution_count": 20,
     "metadata": {},
     "output_type": "execute_result"
    }
   ],
   "source": [
    "df_dup = df3[df3['id'].duplicated(keep = False )].reset_index(drop=True)\n",
    "df_dup.shape[0]"
   ]
  },
  {
   "cell_type": "code",
   "execution_count": 21,
   "id": "eb328e6d",
   "metadata": {
    "ExecuteTime": {
     "end_time": "2021-08-23T15:10:30.334445Z",
     "start_time": "2021-08-23T15:10:30.319359Z"
    }
   },
   "outputs": [
    {
     "name": "stdout",
     "output_type": "stream",
     "text": [
      "There is 353 duplicated registers in the dataframe. Duplicated registers with the same date will be dropped\n"
     ]
    }
   ],
   "source": [
    "print ('There is {} duplicated registers in the dataframe. Duplicated registers with the same date will be dropped'.format(df_dup.shape[0]))"
   ]
  },
  {
   "cell_type": "code",
   "execution_count": 22,
   "id": "31f8fb65",
   "metadata": {
    "ExecuteTime": {
     "end_time": "2021-08-23T15:10:30.366260Z",
     "start_time": "2021-08-23T15:10:30.337312Z"
    }
   },
   "outputs": [
    {
     "data": {
      "text/html": [
       "<div>\n",
       "<style scoped>\n",
       "    .dataframe tbody tr th:only-of-type {\n",
       "        vertical-align: middle;\n",
       "    }\n",
       "\n",
       "    .dataframe tbody tr th {\n",
       "        vertical-align: top;\n",
       "    }\n",
       "\n",
       "    .dataframe thead th {\n",
       "        text-align: right;\n",
       "    }\n",
       "</style>\n",
       "<table border=\"1\" class=\"dataframe\">\n",
       "  <thead>\n",
       "    <tr style=\"text-align: right;\">\n",
       "      <th></th>\n",
       "      <th>id</th>\n",
       "      <th>date</th>\n",
       "      <th>price</th>\n",
       "      <th>bedrooms</th>\n",
       "      <th>bathrooms</th>\n",
       "      <th>sqft_living</th>\n",
       "      <th>sqft_lot</th>\n",
       "      <th>floors</th>\n",
       "      <th>waterfront</th>\n",
       "      <th>view</th>\n",
       "      <th>condition</th>\n",
       "      <th>grade</th>\n",
       "      <th>sqft_above</th>\n",
       "      <th>sqft_basement</th>\n",
       "      <th>yr_built</th>\n",
       "      <th>yr_renovated</th>\n",
       "      <th>zipcode</th>\n",
       "      <th>lat</th>\n",
       "      <th>long</th>\n",
       "    </tr>\n",
       "  </thead>\n",
       "  <tbody>\n",
       "    <tr>\n",
       "      <th>0</th>\n",
       "      <td>6021501535</td>\n",
       "      <td>2014-07-25</td>\n",
       "      <td>430000.00</td>\n",
       "      <td>3</td>\n",
       "      <td>1.50</td>\n",
       "      <td>1580</td>\n",
       "      <td>5000</td>\n",
       "      <td>1.00</td>\n",
       "      <td>no</td>\n",
       "      <td>0</td>\n",
       "      <td>3</td>\n",
       "      <td>8</td>\n",
       "      <td>1290</td>\n",
       "      <td>290</td>\n",
       "      <td>1939</td>\n",
       "      <td>0</td>\n",
       "      <td>98117</td>\n",
       "      <td>47.69</td>\n",
       "      <td>-122.39</td>\n",
       "    </tr>\n",
       "    <tr>\n",
       "      <th>1</th>\n",
       "      <td>6021501535</td>\n",
       "      <td>2014-12-23</td>\n",
       "      <td>700000.00</td>\n",
       "      <td>3</td>\n",
       "      <td>1.50</td>\n",
       "      <td>1580</td>\n",
       "      <td>5000</td>\n",
       "      <td>1.00</td>\n",
       "      <td>no</td>\n",
       "      <td>0</td>\n",
       "      <td>3</td>\n",
       "      <td>8</td>\n",
       "      <td>1290</td>\n",
       "      <td>290</td>\n",
       "      <td>1939</td>\n",
       "      <td>0</td>\n",
       "      <td>98117</td>\n",
       "      <td>47.69</td>\n",
       "      <td>-122.39</td>\n",
       "    </tr>\n",
       "    <tr>\n",
       "      <th>2</th>\n",
       "      <td>4139480200</td>\n",
       "      <td>2014-06-18</td>\n",
       "      <td>1384000.00</td>\n",
       "      <td>4</td>\n",
       "      <td>3.25</td>\n",
       "      <td>4290</td>\n",
       "      <td>12103</td>\n",
       "      <td>1.00</td>\n",
       "      <td>no</td>\n",
       "      <td>3</td>\n",
       "      <td>3</td>\n",
       "      <td>11</td>\n",
       "      <td>2690</td>\n",
       "      <td>1600</td>\n",
       "      <td>1997</td>\n",
       "      <td>0</td>\n",
       "      <td>98006</td>\n",
       "      <td>47.55</td>\n",
       "      <td>-122.10</td>\n",
       "    </tr>\n",
       "    <tr>\n",
       "      <th>3</th>\n",
       "      <td>4139480200</td>\n",
       "      <td>2014-12-09</td>\n",
       "      <td>1400000.00</td>\n",
       "      <td>4</td>\n",
       "      <td>3.25</td>\n",
       "      <td>4290</td>\n",
       "      <td>12103</td>\n",
       "      <td>1.00</td>\n",
       "      <td>no</td>\n",
       "      <td>3</td>\n",
       "      <td>3</td>\n",
       "      <td>11</td>\n",
       "      <td>2690</td>\n",
       "      <td>1600</td>\n",
       "      <td>1997</td>\n",
       "      <td>0</td>\n",
       "      <td>98006</td>\n",
       "      <td>47.55</td>\n",
       "      <td>-122.10</td>\n",
       "    </tr>\n",
       "    <tr>\n",
       "      <th>4</th>\n",
       "      <td>7520000520</td>\n",
       "      <td>2014-09-05</td>\n",
       "      <td>232000.00</td>\n",
       "      <td>2</td>\n",
       "      <td>1.00</td>\n",
       "      <td>1240</td>\n",
       "      <td>12092</td>\n",
       "      <td>1.00</td>\n",
       "      <td>no</td>\n",
       "      <td>0</td>\n",
       "      <td>3</td>\n",
       "      <td>6</td>\n",
       "      <td>960</td>\n",
       "      <td>280</td>\n",
       "      <td>1922</td>\n",
       "      <td>1984</td>\n",
       "      <td>98146</td>\n",
       "      <td>47.50</td>\n",
       "      <td>-122.35</td>\n",
       "    </tr>\n",
       "    <tr>\n",
       "      <th>5</th>\n",
       "      <td>7520000520</td>\n",
       "      <td>2015-03-11</td>\n",
       "      <td>240500.00</td>\n",
       "      <td>2</td>\n",
       "      <td>1.00</td>\n",
       "      <td>1240</td>\n",
       "      <td>12092</td>\n",
       "      <td>1.00</td>\n",
       "      <td>no</td>\n",
       "      <td>0</td>\n",
       "      <td>3</td>\n",
       "      <td>6</td>\n",
       "      <td>960</td>\n",
       "      <td>280</td>\n",
       "      <td>1922</td>\n",
       "      <td>1984</td>\n",
       "      <td>98146</td>\n",
       "      <td>47.50</td>\n",
       "      <td>-122.35</td>\n",
       "    </tr>\n",
       "    <tr>\n",
       "      <th>6</th>\n",
       "      <td>3969300030</td>\n",
       "      <td>2014-07-23</td>\n",
       "      <td>165000.00</td>\n",
       "      <td>4</td>\n",
       "      <td>1.00</td>\n",
       "      <td>1000</td>\n",
       "      <td>7134</td>\n",
       "      <td>1.00</td>\n",
       "      <td>no</td>\n",
       "      <td>0</td>\n",
       "      <td>3</td>\n",
       "      <td>6</td>\n",
       "      <td>1000</td>\n",
       "      <td>0</td>\n",
       "      <td>1943</td>\n",
       "      <td>0</td>\n",
       "      <td>98178</td>\n",
       "      <td>47.49</td>\n",
       "      <td>-122.24</td>\n",
       "    </tr>\n",
       "    <tr>\n",
       "      <th>7</th>\n",
       "      <td>3969300030</td>\n",
       "      <td>2014-12-29</td>\n",
       "      <td>239900.00</td>\n",
       "      <td>4</td>\n",
       "      <td>1.00</td>\n",
       "      <td>1000</td>\n",
       "      <td>7134</td>\n",
       "      <td>1.00</td>\n",
       "      <td>no</td>\n",
       "      <td>0</td>\n",
       "      <td>3</td>\n",
       "      <td>6</td>\n",
       "      <td>1000</td>\n",
       "      <td>0</td>\n",
       "      <td>1943</td>\n",
       "      <td>0</td>\n",
       "      <td>98178</td>\n",
       "      <td>47.49</td>\n",
       "      <td>-122.24</td>\n",
       "    </tr>\n",
       "    <tr>\n",
       "      <th>8</th>\n",
       "      <td>2231500030</td>\n",
       "      <td>2014-10-01</td>\n",
       "      <td>315000.00</td>\n",
       "      <td>4</td>\n",
       "      <td>2.25</td>\n",
       "      <td>2180</td>\n",
       "      <td>10754</td>\n",
       "      <td>1.00</td>\n",
       "      <td>no</td>\n",
       "      <td>0</td>\n",
       "      <td>5</td>\n",
       "      <td>7</td>\n",
       "      <td>1100</td>\n",
       "      <td>1080</td>\n",
       "      <td>1954</td>\n",
       "      <td>0</td>\n",
       "      <td>98133</td>\n",
       "      <td>47.77</td>\n",
       "      <td>-122.34</td>\n",
       "    </tr>\n",
       "    <tr>\n",
       "      <th>9</th>\n",
       "      <td>2231500030</td>\n",
       "      <td>2015-03-24</td>\n",
       "      <td>530000.00</td>\n",
       "      <td>4</td>\n",
       "      <td>2.25</td>\n",
       "      <td>2180</td>\n",
       "      <td>10754</td>\n",
       "      <td>1.00</td>\n",
       "      <td>no</td>\n",
       "      <td>0</td>\n",
       "      <td>5</td>\n",
       "      <td>7</td>\n",
       "      <td>1100</td>\n",
       "      <td>1080</td>\n",
       "      <td>1954</td>\n",
       "      <td>0</td>\n",
       "      <td>98133</td>\n",
       "      <td>47.77</td>\n",
       "      <td>-122.34</td>\n",
       "    </tr>\n",
       "    <tr>\n",
       "      <th>10</th>\n",
       "      <td>8820903380</td>\n",
       "      <td>2014-07-28</td>\n",
       "      <td>452000.00</td>\n",
       "      <td>6</td>\n",
       "      <td>2.25</td>\n",
       "      <td>2660</td>\n",
       "      <td>13579</td>\n",
       "      <td>2.00</td>\n",
       "      <td>no</td>\n",
       "      <td>0</td>\n",
       "      <td>3</td>\n",
       "      <td>7</td>\n",
       "      <td>2660</td>\n",
       "      <td>0</td>\n",
       "      <td>1937</td>\n",
       "      <td>1990</td>\n",
       "      <td>98125</td>\n",
       "      <td>47.71</td>\n",
       "      <td>-122.29</td>\n",
       "    </tr>\n",
       "    <tr>\n",
       "      <th>11</th>\n",
       "      <td>8820903380</td>\n",
       "      <td>2015-01-02</td>\n",
       "      <td>730000.00</td>\n",
       "      <td>6</td>\n",
       "      <td>2.25</td>\n",
       "      <td>2660</td>\n",
       "      <td>13579</td>\n",
       "      <td>2.00</td>\n",
       "      <td>no</td>\n",
       "      <td>0</td>\n",
       "      <td>3</td>\n",
       "      <td>7</td>\n",
       "      <td>2660</td>\n",
       "      <td>0</td>\n",
       "      <td>1937</td>\n",
       "      <td>1990</td>\n",
       "      <td>98125</td>\n",
       "      <td>47.71</td>\n",
       "      <td>-122.29</td>\n",
       "    </tr>\n",
       "    <tr>\n",
       "      <th>12</th>\n",
       "      <td>726049190</td>\n",
       "      <td>2014-10-02</td>\n",
       "      <td>287500.00</td>\n",
       "      <td>3</td>\n",
       "      <td>1.00</td>\n",
       "      <td>1810</td>\n",
       "      <td>7200</td>\n",
       "      <td>1.00</td>\n",
       "      <td>no</td>\n",
       "      <td>0</td>\n",
       "      <td>4</td>\n",
       "      <td>7</td>\n",
       "      <td>1130</td>\n",
       "      <td>680</td>\n",
       "      <td>1954</td>\n",
       "      <td>0</td>\n",
       "      <td>98133</td>\n",
       "      <td>47.75</td>\n",
       "      <td>-122.35</td>\n",
       "    </tr>\n",
       "    <tr>\n",
       "      <th>13</th>\n",
       "      <td>726049190</td>\n",
       "      <td>2015-02-18</td>\n",
       "      <td>431000.00</td>\n",
       "      <td>3</td>\n",
       "      <td>1.00</td>\n",
       "      <td>1810</td>\n",
       "      <td>7200</td>\n",
       "      <td>1.00</td>\n",
       "      <td>no</td>\n",
       "      <td>0</td>\n",
       "      <td>4</td>\n",
       "      <td>7</td>\n",
       "      <td>1130</td>\n",
       "      <td>680</td>\n",
       "      <td>1954</td>\n",
       "      <td>0</td>\n",
       "      <td>98133</td>\n",
       "      <td>47.75</td>\n",
       "      <td>-122.35</td>\n",
       "    </tr>\n",
       "    <tr>\n",
       "      <th>14</th>\n",
       "      <td>8682262400</td>\n",
       "      <td>2014-07-18</td>\n",
       "      <td>430000.00</td>\n",
       "      <td>2</td>\n",
       "      <td>1.75</td>\n",
       "      <td>1350</td>\n",
       "      <td>4003</td>\n",
       "      <td>1.00</td>\n",
       "      <td>no</td>\n",
       "      <td>0</td>\n",
       "      <td>3</td>\n",
       "      <td>8</td>\n",
       "      <td>1350</td>\n",
       "      <td>0</td>\n",
       "      <td>2004</td>\n",
       "      <td>0</td>\n",
       "      <td>98053</td>\n",
       "      <td>47.72</td>\n",
       "      <td>-122.03</td>\n",
       "    </tr>\n",
       "    <tr>\n",
       "      <th>15</th>\n",
       "      <td>8682262400</td>\n",
       "      <td>2015-05-13</td>\n",
       "      <td>419950.00</td>\n",
       "      <td>2</td>\n",
       "      <td>1.75</td>\n",
       "      <td>1350</td>\n",
       "      <td>4003</td>\n",
       "      <td>1.00</td>\n",
       "      <td>no</td>\n",
       "      <td>0</td>\n",
       "      <td>3</td>\n",
       "      <td>8</td>\n",
       "      <td>1350</td>\n",
       "      <td>0</td>\n",
       "      <td>2004</td>\n",
       "      <td>0</td>\n",
       "      <td>98053</td>\n",
       "      <td>47.72</td>\n",
       "      <td>-122.03</td>\n",
       "    </tr>\n",
       "    <tr>\n",
       "      <th>16</th>\n",
       "      <td>9834200885</td>\n",
       "      <td>2014-07-17</td>\n",
       "      <td>360000.00</td>\n",
       "      <td>4</td>\n",
       "      <td>2.50</td>\n",
       "      <td>2080</td>\n",
       "      <td>4080</td>\n",
       "      <td>1.00</td>\n",
       "      <td>no</td>\n",
       "      <td>0</td>\n",
       "      <td>5</td>\n",
       "      <td>7</td>\n",
       "      <td>1040</td>\n",
       "      <td>1040</td>\n",
       "      <td>1962</td>\n",
       "      <td>0</td>\n",
       "      <td>98144</td>\n",
       "      <td>47.57</td>\n",
       "      <td>-122.29</td>\n",
       "    </tr>\n",
       "    <tr>\n",
       "      <th>17</th>\n",
       "      <td>9834200885</td>\n",
       "      <td>2015-04-20</td>\n",
       "      <td>550000.00</td>\n",
       "      <td>4</td>\n",
       "      <td>2.50</td>\n",
       "      <td>2080</td>\n",
       "      <td>4080</td>\n",
       "      <td>1.00</td>\n",
       "      <td>no</td>\n",
       "      <td>0</td>\n",
       "      <td>5</td>\n",
       "      <td>7</td>\n",
       "      <td>1040</td>\n",
       "      <td>1040</td>\n",
       "      <td>1962</td>\n",
       "      <td>0</td>\n",
       "      <td>98144</td>\n",
       "      <td>47.57</td>\n",
       "      <td>-122.29</td>\n",
       "    </tr>\n",
       "    <tr>\n",
       "      <th>18</th>\n",
       "      <td>8062900070</td>\n",
       "      <td>2014-09-09</td>\n",
       "      <td>272000.00</td>\n",
       "      <td>5</td>\n",
       "      <td>1.50</td>\n",
       "      <td>2550</td>\n",
       "      <td>6300</td>\n",
       "      <td>1.00</td>\n",
       "      <td>no</td>\n",
       "      <td>0</td>\n",
       "      <td>4</td>\n",
       "      <td>7</td>\n",
       "      <td>1560</td>\n",
       "      <td>990</td>\n",
       "      <td>1959</td>\n",
       "      <td>0</td>\n",
       "      <td>98056</td>\n",
       "      <td>47.50</td>\n",
       "      <td>-122.17</td>\n",
       "    </tr>\n",
       "    <tr>\n",
       "      <th>19</th>\n",
       "      <td>8062900070</td>\n",
       "      <td>2015-02-13</td>\n",
       "      <td>369000.00</td>\n",
       "      <td>5</td>\n",
       "      <td>1.50</td>\n",
       "      <td>2550</td>\n",
       "      <td>6300</td>\n",
       "      <td>1.00</td>\n",
       "      <td>no</td>\n",
       "      <td>0</td>\n",
       "      <td>4</td>\n",
       "      <td>7</td>\n",
       "      <td>1560</td>\n",
       "      <td>990</td>\n",
       "      <td>1959</td>\n",
       "      <td>0</td>\n",
       "      <td>98056</td>\n",
       "      <td>47.50</td>\n",
       "      <td>-122.17</td>\n",
       "    </tr>\n",
       "    <tr>\n",
       "      <th>20</th>\n",
       "      <td>1231000510</td>\n",
       "      <td>2014-09-22</td>\n",
       "      <td>263000.00</td>\n",
       "      <td>3</td>\n",
       "      <td>1.75</td>\n",
       "      <td>1490</td>\n",
       "      <td>3800</td>\n",
       "      <td>1.00</td>\n",
       "      <td>no</td>\n",
       "      <td>0</td>\n",
       "      <td>3</td>\n",
       "      <td>6</td>\n",
       "      <td>700</td>\n",
       "      <td>790</td>\n",
       "      <td>1913</td>\n",
       "      <td>0</td>\n",
       "      <td>98118</td>\n",
       "      <td>47.56</td>\n",
       "      <td>-122.27</td>\n",
       "    </tr>\n",
       "    <tr>\n",
       "      <th>21</th>\n",
       "      <td>1231000510</td>\n",
       "      <td>2015-05-04</td>\n",
       "      <td>510000.00</td>\n",
       "      <td>3</td>\n",
       "      <td>1.75</td>\n",
       "      <td>1490</td>\n",
       "      <td>3800</td>\n",
       "      <td>1.00</td>\n",
       "      <td>no</td>\n",
       "      <td>0</td>\n",
       "      <td>3</td>\n",
       "      <td>6</td>\n",
       "      <td>700</td>\n",
       "      <td>790</td>\n",
       "      <td>1913</td>\n",
       "      <td>0</td>\n",
       "      <td>98118</td>\n",
       "      <td>47.56</td>\n",
       "      <td>-122.27</td>\n",
       "    </tr>\n",
       "    <tr>\n",
       "      <th>22</th>\n",
       "      <td>6117501820</td>\n",
       "      <td>2014-06-18</td>\n",
       "      <td>250275.00</td>\n",
       "      <td>2</td>\n",
       "      <td>1.00</td>\n",
       "      <td>790</td>\n",
       "      <td>11234</td>\n",
       "      <td>1.00</td>\n",
       "      <td>no</td>\n",
       "      <td>0</td>\n",
       "      <td>4</td>\n",
       "      <td>6</td>\n",
       "      <td>790</td>\n",
       "      <td>0</td>\n",
       "      <td>1942</td>\n",
       "      <td>0</td>\n",
       "      <td>98166</td>\n",
       "      <td>47.44</td>\n",
       "      <td>-122.35</td>\n",
       "    </tr>\n",
       "    <tr>\n",
       "      <th>23</th>\n",
       "      <td>6117501820</td>\n",
       "      <td>2015-04-28</td>\n",
       "      <td>435000.00</td>\n",
       "      <td>2</td>\n",
       "      <td>1.00</td>\n",
       "      <td>790</td>\n",
       "      <td>11234</td>\n",
       "      <td>1.00</td>\n",
       "      <td>no</td>\n",
       "      <td>0</td>\n",
       "      <td>4</td>\n",
       "      <td>6</td>\n",
       "      <td>790</td>\n",
       "      <td>0</td>\n",
       "      <td>1942</td>\n",
       "      <td>0</td>\n",
       "      <td>98166</td>\n",
       "      <td>47.44</td>\n",
       "      <td>-122.35</td>\n",
       "    </tr>\n",
       "    <tr>\n",
       "      <th>24</th>\n",
       "      <td>2228900270</td>\n",
       "      <td>2014-08-12</td>\n",
       "      <td>215000.00</td>\n",
       "      <td>2</td>\n",
       "      <td>1.00</td>\n",
       "      <td>1010</td>\n",
       "      <td>6000</td>\n",
       "      <td>1.00</td>\n",
       "      <td>no</td>\n",
       "      <td>0</td>\n",
       "      <td>4</td>\n",
       "      <td>6</td>\n",
       "      <td>1010</td>\n",
       "      <td>0</td>\n",
       "      <td>1944</td>\n",
       "      <td>0</td>\n",
       "      <td>98133</td>\n",
       "      <td>47.77</td>\n",
       "      <td>-122.35</td>\n",
       "    </tr>\n",
       "    <tr>\n",
       "      <th>25</th>\n",
       "      <td>2228900270</td>\n",
       "      <td>2015-02-12</td>\n",
       "      <td>302000.00</td>\n",
       "      <td>2</td>\n",
       "      <td>1.00</td>\n",
       "      <td>1010</td>\n",
       "      <td>6000</td>\n",
       "      <td>1.00</td>\n",
       "      <td>no</td>\n",
       "      <td>0</td>\n",
       "      <td>4</td>\n",
       "      <td>6</td>\n",
       "      <td>1010</td>\n",
       "      <td>0</td>\n",
       "      <td>1944</td>\n",
       "      <td>0</td>\n",
       "      <td>98133</td>\n",
       "      <td>47.77</td>\n",
       "      <td>-122.35</td>\n",
       "    </tr>\n",
       "    <tr>\n",
       "      <th>26</th>\n",
       "      <td>3630120700</td>\n",
       "      <td>2014-05-13</td>\n",
       "      <td>757000.00</td>\n",
       "      <td>3</td>\n",
       "      <td>3.25</td>\n",
       "      <td>3190</td>\n",
       "      <td>5283</td>\n",
       "      <td>2.00</td>\n",
       "      <td>no</td>\n",
       "      <td>0</td>\n",
       "      <td>3</td>\n",
       "      <td>9</td>\n",
       "      <td>3190</td>\n",
       "      <td>0</td>\n",
       "      <td>2007</td>\n",
       "      <td>0</td>\n",
       "      <td>98029</td>\n",
       "      <td>47.55</td>\n",
       "      <td>-122.00</td>\n",
       "    </tr>\n",
       "    <tr>\n",
       "      <th>27</th>\n",
       "      <td>3630120700</td>\n",
       "      <td>2015-01-07</td>\n",
       "      <td>765000.00</td>\n",
       "      <td>3</td>\n",
       "      <td>3.25</td>\n",
       "      <td>3190</td>\n",
       "      <td>5283</td>\n",
       "      <td>2.00</td>\n",
       "      <td>no</td>\n",
       "      <td>0</td>\n",
       "      <td>3</td>\n",
       "      <td>9</td>\n",
       "      <td>3190</td>\n",
       "      <td>0</td>\n",
       "      <td>2007</td>\n",
       "      <td>0</td>\n",
       "      <td>98029</td>\n",
       "      <td>47.55</td>\n",
       "      <td>-122.00</td>\n",
       "    </tr>\n",
       "    <tr>\n",
       "      <th>28</th>\n",
       "      <td>7888000390</td>\n",
       "      <td>2014-06-27</td>\n",
       "      <td>140000.00</td>\n",
       "      <td>3</td>\n",
       "      <td>1.00</td>\n",
       "      <td>1060</td>\n",
       "      <td>7473</td>\n",
       "      <td>1.00</td>\n",
       "      <td>no</td>\n",
       "      <td>0</td>\n",
       "      <td>3</td>\n",
       "      <td>7</td>\n",
       "      <td>1060</td>\n",
       "      <td>0</td>\n",
       "      <td>1959</td>\n",
       "      <td>0</td>\n",
       "      <td>98198</td>\n",
       "      <td>47.37</td>\n",
       "      <td>-122.31</td>\n",
       "    </tr>\n",
       "    <tr>\n",
       "      <th>29</th>\n",
       "      <td>7888000390</td>\n",
       "      <td>2015-04-01</td>\n",
       "      <td>235000.00</td>\n",
       "      <td>3</td>\n",
       "      <td>1.00</td>\n",
       "      <td>1060</td>\n",
       "      <td>7473</td>\n",
       "      <td>1.00</td>\n",
       "      <td>no</td>\n",
       "      <td>0</td>\n",
       "      <td>3</td>\n",
       "      <td>7</td>\n",
       "      <td>1060</td>\n",
       "      <td>0</td>\n",
       "      <td>1959</td>\n",
       "      <td>0</td>\n",
       "      <td>98198</td>\n",
       "      <td>47.37</td>\n",
       "      <td>-122.31</td>\n",
       "    </tr>\n",
       "    <tr>\n",
       "      <th>30</th>\n",
       "      <td>2143700830</td>\n",
       "      <td>2014-10-06</td>\n",
       "      <td>207000.00</td>\n",
       "      <td>4</td>\n",
       "      <td>2.50</td>\n",
       "      <td>2100</td>\n",
       "      <td>19680</td>\n",
       "      <td>1.50</td>\n",
       "      <td>no</td>\n",
       "      <td>0</td>\n",
       "      <td>3</td>\n",
       "      <td>6</td>\n",
       "      <td>2100</td>\n",
       "      <td>0</td>\n",
       "      <td>1914</td>\n",
       "      <td>0</td>\n",
       "      <td>98055</td>\n",
       "      <td>47.48</td>\n",
       "      <td>-122.23</td>\n",
       "    </tr>\n",
       "    <tr>\n",
       "      <th>31</th>\n",
       "      <td>2143700830</td>\n",
       "      <td>2015-03-12</td>\n",
       "      <td>370000.00</td>\n",
       "      <td>4</td>\n",
       "      <td>2.50</td>\n",
       "      <td>2100</td>\n",
       "      <td>19680</td>\n",
       "      <td>1.50</td>\n",
       "      <td>no</td>\n",
       "      <td>0</td>\n",
       "      <td>3</td>\n",
       "      <td>6</td>\n",
       "      <td>2100</td>\n",
       "      <td>0</td>\n",
       "      <td>1914</td>\n",
       "      <td>0</td>\n",
       "      <td>98055</td>\n",
       "      <td>47.48</td>\n",
       "      <td>-122.23</td>\n",
       "    </tr>\n",
       "    <tr>\n",
       "      <th>32</th>\n",
       "      <td>3395040550</td>\n",
       "      <td>2014-07-28</td>\n",
       "      <td>250000.00</td>\n",
       "      <td>3</td>\n",
       "      <td>2.50</td>\n",
       "      <td>1530</td>\n",
       "      <td>2890</td>\n",
       "      <td>2.00</td>\n",
       "      <td>no</td>\n",
       "      <td>0</td>\n",
       "      <td>3</td>\n",
       "      <td>7</td>\n",
       "      <td>1530</td>\n",
       "      <td>0</td>\n",
       "      <td>2001</td>\n",
       "      <td>0</td>\n",
       "      <td>98108</td>\n",
       "      <td>47.54</td>\n",
       "      <td>-122.29</td>\n",
       "    </tr>\n",
       "    <tr>\n",
       "      <th>33</th>\n",
       "      <td>3395040550</td>\n",
       "      <td>2015-04-29</td>\n",
       "      <td>320000.00</td>\n",
       "      <td>3</td>\n",
       "      <td>2.50</td>\n",
       "      <td>1530</td>\n",
       "      <td>2890</td>\n",
       "      <td>2.00</td>\n",
       "      <td>no</td>\n",
       "      <td>0</td>\n",
       "      <td>3</td>\n",
       "      <td>7</td>\n",
       "      <td>1530</td>\n",
       "      <td>0</td>\n",
       "      <td>2001</td>\n",
       "      <td>0</td>\n",
       "      <td>98108</td>\n",
       "      <td>47.54</td>\n",
       "      <td>-122.29</td>\n",
       "    </tr>\n",
       "    <tr>\n",
       "      <th>34</th>\n",
       "      <td>4345000510</td>\n",
       "      <td>2014-10-15</td>\n",
       "      <td>180500.00</td>\n",
       "      <td>3</td>\n",
       "      <td>2.50</td>\n",
       "      <td>1800</td>\n",
       "      <td>8518</td>\n",
       "      <td>2.00</td>\n",
       "      <td>no</td>\n",
       "      <td>0</td>\n",
       "      <td>3</td>\n",
       "      <td>7</td>\n",
       "      <td>1800</td>\n",
       "      <td>0</td>\n",
       "      <td>1996</td>\n",
       "      <td>0</td>\n",
       "      <td>98030</td>\n",
       "      <td>47.36</td>\n",
       "      <td>-122.19</td>\n",
       "    </tr>\n",
       "    <tr>\n",
       "      <th>35</th>\n",
       "      <td>4345000510</td>\n",
       "      <td>2015-04-28</td>\n",
       "      <td>325000.00</td>\n",
       "      <td>3</td>\n",
       "      <td>2.50</td>\n",
       "      <td>1800</td>\n",
       "      <td>8518</td>\n",
       "      <td>2.00</td>\n",
       "      <td>no</td>\n",
       "      <td>0</td>\n",
       "      <td>3</td>\n",
       "      <td>7</td>\n",
       "      <td>1800</td>\n",
       "      <td>0</td>\n",
       "      <td>1996</td>\n",
       "      <td>0</td>\n",
       "      <td>98030</td>\n",
       "      <td>47.36</td>\n",
       "      <td>-122.19</td>\n",
       "    </tr>\n",
       "    <tr>\n",
       "      <th>36</th>\n",
       "      <td>9407110710</td>\n",
       "      <td>2014-11-07</td>\n",
       "      <td>195000.00</td>\n",
       "      <td>3</td>\n",
       "      <td>1.75</td>\n",
       "      <td>1510</td>\n",
       "      <td>8400</td>\n",
       "      <td>1.00</td>\n",
       "      <td>no</td>\n",
       "      <td>0</td>\n",
       "      <td>2</td>\n",
       "      <td>7</td>\n",
       "      <td>980</td>\n",
       "      <td>530</td>\n",
       "      <td>1979</td>\n",
       "      <td>0</td>\n",
       "      <td>98045</td>\n",
       "      <td>47.45</td>\n",
       "      <td>-121.77</td>\n",
       "    </tr>\n",
       "    <tr>\n",
       "      <th>37</th>\n",
       "      <td>9407110710</td>\n",
       "      <td>2015-02-26</td>\n",
       "      <td>322000.00</td>\n",
       "      <td>3</td>\n",
       "      <td>1.75</td>\n",
       "      <td>1510</td>\n",
       "      <td>8400</td>\n",
       "      <td>1.00</td>\n",
       "      <td>no</td>\n",
       "      <td>0</td>\n",
       "      <td>2</td>\n",
       "      <td>7</td>\n",
       "      <td>980</td>\n",
       "      <td>530</td>\n",
       "      <td>1979</td>\n",
       "      <td>0</td>\n",
       "      <td>98045</td>\n",
       "      <td>47.45</td>\n",
       "      <td>-121.77</td>\n",
       "    </tr>\n",
       "    <tr>\n",
       "      <th>38</th>\n",
       "      <td>1000102</td>\n",
       "      <td>2014-09-16</td>\n",
       "      <td>280000.00</td>\n",
       "      <td>6</td>\n",
       "      <td>3.00</td>\n",
       "      <td>2400</td>\n",
       "      <td>9373</td>\n",
       "      <td>2.00</td>\n",
       "      <td>no</td>\n",
       "      <td>0</td>\n",
       "      <td>3</td>\n",
       "      <td>7</td>\n",
       "      <td>2400</td>\n",
       "      <td>0</td>\n",
       "      <td>1991</td>\n",
       "      <td>0</td>\n",
       "      <td>98002</td>\n",
       "      <td>47.33</td>\n",
       "      <td>-122.21</td>\n",
       "    </tr>\n",
       "    <tr>\n",
       "      <th>39</th>\n",
       "      <td>1000102</td>\n",
       "      <td>2015-04-22</td>\n",
       "      <td>300000.00</td>\n",
       "      <td>6</td>\n",
       "      <td>3.00</td>\n",
       "      <td>2400</td>\n",
       "      <td>9373</td>\n",
       "      <td>2.00</td>\n",
       "      <td>no</td>\n",
       "      <td>0</td>\n",
       "      <td>3</td>\n",
       "      <td>7</td>\n",
       "      <td>2400</td>\n",
       "      <td>0</td>\n",
       "      <td>1991</td>\n",
       "      <td>0</td>\n",
       "      <td>98002</td>\n",
       "      <td>47.33</td>\n",
       "      <td>-122.21</td>\n",
       "    </tr>\n",
       "    <tr>\n",
       "      <th>40</th>\n",
       "      <td>1781500435</td>\n",
       "      <td>2014-08-20</td>\n",
       "      <td>260000.00</td>\n",
       "      <td>3</td>\n",
       "      <td>1.75</td>\n",
       "      <td>1580</td>\n",
       "      <td>7344</td>\n",
       "      <td>1.00</td>\n",
       "      <td>no</td>\n",
       "      <td>0</td>\n",
       "      <td>5</td>\n",
       "      <td>7</td>\n",
       "      <td>1580</td>\n",
       "      <td>0</td>\n",
       "      <td>1911</td>\n",
       "      <td>0</td>\n",
       "      <td>98126</td>\n",
       "      <td>47.53</td>\n",
       "      <td>-122.38</td>\n",
       "    </tr>\n",
       "    <tr>\n",
       "      <th>41</th>\n",
       "      <td>1781500435</td>\n",
       "      <td>2015-02-25</td>\n",
       "      <td>575000.00</td>\n",
       "      <td>3</td>\n",
       "      <td>1.75</td>\n",
       "      <td>1580</td>\n",
       "      <td>7344</td>\n",
       "      <td>1.00</td>\n",
       "      <td>no</td>\n",
       "      <td>0</td>\n",
       "      <td>5</td>\n",
       "      <td>7</td>\n",
       "      <td>1580</td>\n",
       "      <td>0</td>\n",
       "      <td>1911</td>\n",
       "      <td>0</td>\n",
       "      <td>98126</td>\n",
       "      <td>47.53</td>\n",
       "      <td>-122.38</td>\n",
       "    </tr>\n",
       "    <tr>\n",
       "      <th>42</th>\n",
       "      <td>1232000810</td>\n",
       "      <td>2014-09-12</td>\n",
       "      <td>340000.00</td>\n",
       "      <td>3</td>\n",
       "      <td>2.50</td>\n",
       "      <td>1400</td>\n",
       "      <td>4800</td>\n",
       "      <td>1.00</td>\n",
       "      <td>no</td>\n",
       "      <td>0</td>\n",
       "      <td>3</td>\n",
       "      <td>7</td>\n",
       "      <td>1200</td>\n",
       "      <td>200</td>\n",
       "      <td>1921</td>\n",
       "      <td>0</td>\n",
       "      <td>98117</td>\n",
       "      <td>47.69</td>\n",
       "      <td>-122.38</td>\n",
       "    </tr>\n",
       "    <tr>\n",
       "      <th>43</th>\n",
       "      <td>1232000810</td>\n",
       "      <td>2015-03-26</td>\n",
       "      <td>537000.00</td>\n",
       "      <td>3</td>\n",
       "      <td>2.50</td>\n",
       "      <td>1400</td>\n",
       "      <td>4800</td>\n",
       "      <td>1.00</td>\n",
       "      <td>no</td>\n",
       "      <td>0</td>\n",
       "      <td>3</td>\n",
       "      <td>7</td>\n",
       "      <td>1200</td>\n",
       "      <td>200</td>\n",
       "      <td>1921</td>\n",
       "      <td>0</td>\n",
       "      <td>98117</td>\n",
       "      <td>47.69</td>\n",
       "      <td>-122.38</td>\n",
       "    </tr>\n",
       "    <tr>\n",
       "      <th>44</th>\n",
       "      <td>7856400240</td>\n",
       "      <td>2014-06-27</td>\n",
       "      <td>1620000.00</td>\n",
       "      <td>4</td>\n",
       "      <td>3.00</td>\n",
       "      <td>3900</td>\n",
       "      <td>9750</td>\n",
       "      <td>1.00</td>\n",
       "      <td>no</td>\n",
       "      <td>4</td>\n",
       "      <td>5</td>\n",
       "      <td>10</td>\n",
       "      <td>2520</td>\n",
       "      <td>1380</td>\n",
       "      <td>1972</td>\n",
       "      <td>0</td>\n",
       "      <td>98006</td>\n",
       "      <td>47.56</td>\n",
       "      <td>-122.16</td>\n",
       "    </tr>\n",
       "    <tr>\n",
       "      <th>45</th>\n",
       "      <td>7856400240</td>\n",
       "      <td>2015-02-11</td>\n",
       "      <td>1650000.00</td>\n",
       "      <td>4</td>\n",
       "      <td>3.00</td>\n",
       "      <td>3900</td>\n",
       "      <td>9750</td>\n",
       "      <td>1.00</td>\n",
       "      <td>no</td>\n",
       "      <td>4</td>\n",
       "      <td>5</td>\n",
       "      <td>10</td>\n",
       "      <td>2520</td>\n",
       "      <td>1380</td>\n",
       "      <td>1972</td>\n",
       "      <td>0</td>\n",
       "      <td>98006</td>\n",
       "      <td>47.56</td>\n",
       "      <td>-122.16</td>\n",
       "    </tr>\n",
       "    <tr>\n",
       "      <th>46</th>\n",
       "      <td>7983000200</td>\n",
       "      <td>2014-10-05</td>\n",
       "      <td>169575.00</td>\n",
       "      <td>3</td>\n",
       "      <td>1.00</td>\n",
       "      <td>1300</td>\n",
       "      <td>8284</td>\n",
       "      <td>1.00</td>\n",
       "      <td>no</td>\n",
       "      <td>0</td>\n",
       "      <td>3</td>\n",
       "      <td>7</td>\n",
       "      <td>1300</td>\n",
       "      <td>0</td>\n",
       "      <td>1968</td>\n",
       "      <td>0</td>\n",
       "      <td>98003</td>\n",
       "      <td>47.33</td>\n",
       "      <td>-122.31</td>\n",
       "    </tr>\n",
       "    <tr>\n",
       "      <th>47</th>\n",
       "      <td>7983000200</td>\n",
       "      <td>2015-02-25</td>\n",
       "      <td>250000.00</td>\n",
       "      <td>3</td>\n",
       "      <td>1.00</td>\n",
       "      <td>1300</td>\n",
       "      <td>8284</td>\n",
       "      <td>1.00</td>\n",
       "      <td>no</td>\n",
       "      <td>0</td>\n",
       "      <td>3</td>\n",
       "      <td>7</td>\n",
       "      <td>1300</td>\n",
       "      <td>0</td>\n",
       "      <td>1968</td>\n",
       "      <td>0</td>\n",
       "      <td>98003</td>\n",
       "      <td>47.33</td>\n",
       "      <td>-122.31</td>\n",
       "    </tr>\n",
       "    <tr>\n",
       "      <th>48</th>\n",
       "      <td>9136103130</td>\n",
       "      <td>2014-12-01</td>\n",
       "      <td>430000.00</td>\n",
       "      <td>2</td>\n",
       "      <td>1.50</td>\n",
       "      <td>1090</td>\n",
       "      <td>4013</td>\n",
       "      <td>1.50</td>\n",
       "      <td>no</td>\n",
       "      <td>0</td>\n",
       "      <td>3</td>\n",
       "      <td>7</td>\n",
       "      <td>1090</td>\n",
       "      <td>0</td>\n",
       "      <td>1900</td>\n",
       "      <td>0</td>\n",
       "      <td>98103</td>\n",
       "      <td>47.67</td>\n",
       "      <td>-122.34</td>\n",
       "    </tr>\n",
       "    <tr>\n",
       "      <th>49</th>\n",
       "      <td>9136103130</td>\n",
       "      <td>2015-05-12</td>\n",
       "      <td>685000.00</td>\n",
       "      <td>2</td>\n",
       "      <td>1.50</td>\n",
       "      <td>1090</td>\n",
       "      <td>4013</td>\n",
       "      <td>1.50</td>\n",
       "      <td>no</td>\n",
       "      <td>0</td>\n",
       "      <td>3</td>\n",
       "      <td>7</td>\n",
       "      <td>1090</td>\n",
       "      <td>0</td>\n",
       "      <td>1900</td>\n",
       "      <td>0</td>\n",
       "      <td>98103</td>\n",
       "      <td>47.67</td>\n",
       "      <td>-122.34</td>\n",
       "    </tr>\n",
       "  </tbody>\n",
       "</table>\n",
       "</div>"
      ],
      "text/plain": [
       "            id       date      price  bedrooms  bathrooms  sqft_living  sqft_lot  floors waterfront  view  condition  grade  sqft_above  sqft_basement  yr_built  yr_renovated  zipcode   lat    long\n",
       "0   6021501535 2014-07-25  430000.00         3       1.50         1580      5000    1.00         no     0          3      8        1290            290      1939             0    98117 47.69 -122.39\n",
       "1   6021501535 2014-12-23  700000.00         3       1.50         1580      5000    1.00         no     0          3      8        1290            290      1939             0    98117 47.69 -122.39\n",
       "2   4139480200 2014-06-18 1384000.00         4       3.25         4290     12103    1.00         no     3          3     11        2690           1600      1997             0    98006 47.55 -122.10\n",
       "3   4139480200 2014-12-09 1400000.00         4       3.25         4290     12103    1.00         no     3          3     11        2690           1600      1997             0    98006 47.55 -122.10\n",
       "4   7520000520 2014-09-05  232000.00         2       1.00         1240     12092    1.00         no     0          3      6         960            280      1922          1984    98146 47.50 -122.35\n",
       "5   7520000520 2015-03-11  240500.00         2       1.00         1240     12092    1.00         no     0          3      6         960            280      1922          1984    98146 47.50 -122.35\n",
       "6   3969300030 2014-07-23  165000.00         4       1.00         1000      7134    1.00         no     0          3      6        1000              0      1943             0    98178 47.49 -122.24\n",
       "7   3969300030 2014-12-29  239900.00         4       1.00         1000      7134    1.00         no     0          3      6        1000              0      1943             0    98178 47.49 -122.24\n",
       "8   2231500030 2014-10-01  315000.00         4       2.25         2180     10754    1.00         no     0          5      7        1100           1080      1954             0    98133 47.77 -122.34\n",
       "9   2231500030 2015-03-24  530000.00         4       2.25         2180     10754    1.00         no     0          5      7        1100           1080      1954             0    98133 47.77 -122.34\n",
       "10  8820903380 2014-07-28  452000.00         6       2.25         2660     13579    2.00         no     0          3      7        2660              0      1937          1990    98125 47.71 -122.29\n",
       "11  8820903380 2015-01-02  730000.00         6       2.25         2660     13579    2.00         no     0          3      7        2660              0      1937          1990    98125 47.71 -122.29\n",
       "12   726049190 2014-10-02  287500.00         3       1.00         1810      7200    1.00         no     0          4      7        1130            680      1954             0    98133 47.75 -122.35\n",
       "13   726049190 2015-02-18  431000.00         3       1.00         1810      7200    1.00         no     0          4      7        1130            680      1954             0    98133 47.75 -122.35\n",
       "14  8682262400 2014-07-18  430000.00         2       1.75         1350      4003    1.00         no     0          3      8        1350              0      2004             0    98053 47.72 -122.03\n",
       "15  8682262400 2015-05-13  419950.00         2       1.75         1350      4003    1.00         no     0          3      8        1350              0      2004             0    98053 47.72 -122.03\n",
       "16  9834200885 2014-07-17  360000.00         4       2.50         2080      4080    1.00         no     0          5      7        1040           1040      1962             0    98144 47.57 -122.29\n",
       "17  9834200885 2015-04-20  550000.00         4       2.50         2080      4080    1.00         no     0          5      7        1040           1040      1962             0    98144 47.57 -122.29\n",
       "18  8062900070 2014-09-09  272000.00         5       1.50         2550      6300    1.00         no     0          4      7        1560            990      1959             0    98056 47.50 -122.17\n",
       "19  8062900070 2015-02-13  369000.00         5       1.50         2550      6300    1.00         no     0          4      7        1560            990      1959             0    98056 47.50 -122.17\n",
       "20  1231000510 2014-09-22  263000.00         3       1.75         1490      3800    1.00         no     0          3      6         700            790      1913             0    98118 47.56 -122.27\n",
       "21  1231000510 2015-05-04  510000.00         3       1.75         1490      3800    1.00         no     0          3      6         700            790      1913             0    98118 47.56 -122.27\n",
       "22  6117501820 2014-06-18  250275.00         2       1.00          790     11234    1.00         no     0          4      6         790              0      1942             0    98166 47.44 -122.35\n",
       "23  6117501820 2015-04-28  435000.00         2       1.00          790     11234    1.00         no     0          4      6         790              0      1942             0    98166 47.44 -122.35\n",
       "24  2228900270 2014-08-12  215000.00         2       1.00         1010      6000    1.00         no     0          4      6        1010              0      1944             0    98133 47.77 -122.35\n",
       "25  2228900270 2015-02-12  302000.00         2       1.00         1010      6000    1.00         no     0          4      6        1010              0      1944             0    98133 47.77 -122.35\n",
       "26  3630120700 2014-05-13  757000.00         3       3.25         3190      5283    2.00         no     0          3      9        3190              0      2007             0    98029 47.55 -122.00\n",
       "27  3630120700 2015-01-07  765000.00         3       3.25         3190      5283    2.00         no     0          3      9        3190              0      2007             0    98029 47.55 -122.00\n",
       "28  7888000390 2014-06-27  140000.00         3       1.00         1060      7473    1.00         no     0          3      7        1060              0      1959             0    98198 47.37 -122.31\n",
       "29  7888000390 2015-04-01  235000.00         3       1.00         1060      7473    1.00         no     0          3      7        1060              0      1959             0    98198 47.37 -122.31\n",
       "30  2143700830 2014-10-06  207000.00         4       2.50         2100     19680    1.50         no     0          3      6        2100              0      1914             0    98055 47.48 -122.23\n",
       "31  2143700830 2015-03-12  370000.00         4       2.50         2100     19680    1.50         no     0          3      6        2100              0      1914             0    98055 47.48 -122.23\n",
       "32  3395040550 2014-07-28  250000.00         3       2.50         1530      2890    2.00         no     0          3      7        1530              0      2001             0    98108 47.54 -122.29\n",
       "33  3395040550 2015-04-29  320000.00         3       2.50         1530      2890    2.00         no     0          3      7        1530              0      2001             0    98108 47.54 -122.29\n",
       "34  4345000510 2014-10-15  180500.00         3       2.50         1800      8518    2.00         no     0          3      7        1800              0      1996             0    98030 47.36 -122.19\n",
       "35  4345000510 2015-04-28  325000.00         3       2.50         1800      8518    2.00         no     0          3      7        1800              0      1996             0    98030 47.36 -122.19\n",
       "36  9407110710 2014-11-07  195000.00         3       1.75         1510      8400    1.00         no     0          2      7         980            530      1979             0    98045 47.45 -121.77\n",
       "37  9407110710 2015-02-26  322000.00         3       1.75         1510      8400    1.00         no     0          2      7         980            530      1979             0    98045 47.45 -121.77\n",
       "38     1000102 2014-09-16  280000.00         6       3.00         2400      9373    2.00         no     0          3      7        2400              0      1991             0    98002 47.33 -122.21\n",
       "39     1000102 2015-04-22  300000.00         6       3.00         2400      9373    2.00         no     0          3      7        2400              0      1991             0    98002 47.33 -122.21\n",
       "40  1781500435 2014-08-20  260000.00         3       1.75         1580      7344    1.00         no     0          5      7        1580              0      1911             0    98126 47.53 -122.38\n",
       "41  1781500435 2015-02-25  575000.00         3       1.75         1580      7344    1.00         no     0          5      7        1580              0      1911             0    98126 47.53 -122.38\n",
       "42  1232000810 2014-09-12  340000.00         3       2.50         1400      4800    1.00         no     0          3      7        1200            200      1921             0    98117 47.69 -122.38\n",
       "43  1232000810 2015-03-26  537000.00         3       2.50         1400      4800    1.00         no     0          3      7        1200            200      1921             0    98117 47.69 -122.38\n",
       "44  7856400240 2014-06-27 1620000.00         4       3.00         3900      9750    1.00         no     4          5     10        2520           1380      1972             0    98006 47.56 -122.16\n",
       "45  7856400240 2015-02-11 1650000.00         4       3.00         3900      9750    1.00         no     4          5     10        2520           1380      1972             0    98006 47.56 -122.16\n",
       "46  7983000200 2014-10-05  169575.00         3       1.00         1300      8284    1.00         no     0          3      7        1300              0      1968             0    98003 47.33 -122.31\n",
       "47  7983000200 2015-02-25  250000.00         3       1.00         1300      8284    1.00         no     0          3      7        1300              0      1968             0    98003 47.33 -122.31\n",
       "48  9136103130 2014-12-01  430000.00         2       1.50         1090      4013    1.50         no     0          3      7        1090              0      1900             0    98103 47.67 -122.34\n",
       "49  9136103130 2015-05-12  685000.00         2       1.50         1090      4013    1.50         no     0          3      7        1090              0      1900             0    98103 47.67 -122.34"
      ]
     },
     "execution_count": 22,
     "metadata": {},
     "output_type": "execute_result"
    }
   ],
   "source": [
    "df_dup.drop_duplicates(subset = ['id', 'date']).reset_index()\n",
    "df_dup.head(50)"
   ]
  },
  {
   "cell_type": "code",
   "execution_count": 23,
   "id": "ac9f5da6",
   "metadata": {
    "ExecuteTime": {
     "end_time": "2021-08-23T15:10:30.381194Z",
     "start_time": "2021-08-23T15:10:30.368228Z"
    }
   },
   "outputs": [
    {
     "data": {
      "text/plain": [
       "353"
      ]
     },
     "execution_count": 23,
     "metadata": {},
     "output_type": "execute_result"
    }
   ],
   "source": [
    "df_dup.shape[0]"
   ]
  },
  {
   "cell_type": "markdown",
   "id": "199f9f4d",
   "metadata": {},
   "source": [
    "There are not duplicated rows with the same id and date. "
   ]
  },
  {
   "cell_type": "markdown",
   "id": "bbcddf3b",
   "metadata": {
    "ExecuteTime": {
     "end_time": "2021-08-10T18:36:31.322265Z",
     "start_time": "2021-08-10T18:36:31.310267Z"
    }
   },
   "source": [
    "7) There is a big std in the price, and seems to have outliers. Check it."
   ]
  },
  {
   "cell_type": "code",
   "execution_count": 24,
   "id": "d79c26cc",
   "metadata": {
    "ExecuteTime": {
     "end_time": "2021-08-23T15:10:30.412153Z",
     "start_time": "2021-08-23T15:10:30.383191Z"
    }
   },
   "outputs": [
    {
     "data": {
      "text/html": [
       "<div>\n",
       "<style scoped>\n",
       "    .dataframe tbody tr th:only-of-type {\n",
       "        vertical-align: middle;\n",
       "    }\n",
       "\n",
       "    .dataframe tbody tr th {\n",
       "        vertical-align: top;\n",
       "    }\n",
       "\n",
       "    .dataframe thead th {\n",
       "        text-align: right;\n",
       "    }\n",
       "</style>\n",
       "<table border=\"1\" class=\"dataframe\">\n",
       "  <thead>\n",
       "    <tr style=\"text-align: right;\">\n",
       "      <th></th>\n",
       "      <th>id</th>\n",
       "      <th>date</th>\n",
       "      <th>price</th>\n",
       "      <th>bedrooms</th>\n",
       "      <th>bathrooms</th>\n",
       "      <th>sqft_living</th>\n",
       "      <th>sqft_lot</th>\n",
       "      <th>floors</th>\n",
       "      <th>waterfront</th>\n",
       "      <th>view</th>\n",
       "      <th>condition</th>\n",
       "      <th>grade</th>\n",
       "      <th>sqft_above</th>\n",
       "      <th>sqft_basement</th>\n",
       "      <th>yr_built</th>\n",
       "      <th>yr_renovated</th>\n",
       "      <th>zipcode</th>\n",
       "      <th>lat</th>\n",
       "      <th>long</th>\n",
       "    </tr>\n",
       "  </thead>\n",
       "  <tbody>\n",
       "    <tr>\n",
       "      <th>7252</th>\n",
       "      <td>6762700020</td>\n",
       "      <td>2014-10-13</td>\n",
       "      <td>7700000.00</td>\n",
       "      <td>6</td>\n",
       "      <td>8.00</td>\n",
       "      <td>12050</td>\n",
       "      <td>27600</td>\n",
       "      <td>2.50</td>\n",
       "      <td>no</td>\n",
       "      <td>3</td>\n",
       "      <td>4</td>\n",
       "      <td>13</td>\n",
       "      <td>8570</td>\n",
       "      <td>3480</td>\n",
       "      <td>1910</td>\n",
       "      <td>1987</td>\n",
       "      <td>98102</td>\n",
       "      <td>47.63</td>\n",
       "      <td>-122.32</td>\n",
       "    </tr>\n",
       "  </tbody>\n",
       "</table>\n",
       "</div>"
      ],
      "text/plain": [
       "              id       date      price  bedrooms  bathrooms  sqft_living  sqft_lot  floors waterfront  view  condition  grade  sqft_above  sqft_basement  yr_built  yr_renovated  zipcode   lat    long\n",
       "7252  6762700020 2014-10-13 7700000.00         6       8.00        12050     27600    2.50         no     3          4     13        8570           3480      1910          1987    98102 47.63 -122.32"
      ]
     },
     "execution_count": 24,
     "metadata": {},
     "output_type": "execute_result"
    }
   ],
   "source": [
    "df3[df3['price'] == 7700000] # most expensive house on dataset"
   ]
  },
  {
   "cell_type": "markdown",
   "id": "4d301bff",
   "metadata": {},
   "source": [
    "It seems a big classic house. The lot size fit with the size of the house. It will be keeped. "
   ]
  },
  {
   "cell_type": "markdown",
   "id": "0cd560cd",
   "metadata": {},
   "source": [
    "8) Registers with 0 and 33 bedrooms"
   ]
  },
  {
   "cell_type": "code",
   "execution_count": 25,
   "id": "78b56239",
   "metadata": {
    "ExecuteTime": {
     "end_time": "2021-08-23T15:10:30.428095Z",
     "start_time": "2021-08-23T15:10:30.413108Z"
    },
    "scrolled": false
   },
   "outputs": [],
   "source": [
    "zero_bed_df = df3[df3['bedrooms'] == 0] [['id','bathrooms','bedrooms','sqft_living', 'sqft_lot']]"
   ]
  },
  {
   "cell_type": "code",
   "execution_count": 26,
   "id": "a947a06c",
   "metadata": {
    "ExecuteTime": {
     "end_time": "2021-08-23T15:10:30.444060Z",
     "start_time": "2021-08-23T15:10:30.429067Z"
    }
   },
   "outputs": [
    {
     "name": "stdout",
     "output_type": "stream",
     "text": [
      "There are 13 registers without bedrooms. It will be droped.\n"
     ]
    }
   ],
   "source": [
    "print('There are {} registers without bedrooms. It will be droped.'.format(zero_bed_df.shape[0]))"
   ]
  },
  {
   "cell_type": "code",
   "execution_count": 27,
   "id": "f7965220",
   "metadata": {
    "ExecuteTime": {
     "end_time": "2021-08-23T15:10:30.459985Z",
     "start_time": "2021-08-23T15:10:30.445023Z"
    }
   },
   "outputs": [],
   "source": [
    "zero_bed = df3[df3['bedrooms'] == 0] ['id'].reset_index(drop=True).to_list()\n",
    "df3 = df3[~df3['id'].isin(zero_bed)]"
   ]
  },
  {
   "cell_type": "code",
   "execution_count": 28,
   "id": "22ed0f6a",
   "metadata": {
    "ExecuteTime": {
     "end_time": "2021-08-23T15:10:30.475970Z",
     "start_time": "2021-08-23T15:10:30.460980Z"
    }
   },
   "outputs": [
    {
     "data": {
      "text/html": [
       "<div>\n",
       "<style scoped>\n",
       "    .dataframe tbody tr th:only-of-type {\n",
       "        vertical-align: middle;\n",
       "    }\n",
       "\n",
       "    .dataframe tbody tr th {\n",
       "        vertical-align: top;\n",
       "    }\n",
       "\n",
       "    .dataframe thead th {\n",
       "        text-align: right;\n",
       "    }\n",
       "</style>\n",
       "<table border=\"1\" class=\"dataframe\">\n",
       "  <thead>\n",
       "    <tr style=\"text-align: right;\">\n",
       "      <th></th>\n",
       "      <th>id</th>\n",
       "      <th>date</th>\n",
       "      <th>price</th>\n",
       "      <th>bedrooms</th>\n",
       "      <th>bathrooms</th>\n",
       "      <th>sqft_living</th>\n",
       "      <th>sqft_lot</th>\n",
       "      <th>floors</th>\n",
       "      <th>waterfront</th>\n",
       "      <th>view</th>\n",
       "      <th>condition</th>\n",
       "      <th>grade</th>\n",
       "      <th>sqft_above</th>\n",
       "      <th>sqft_basement</th>\n",
       "      <th>yr_built</th>\n",
       "      <th>yr_renovated</th>\n",
       "      <th>zipcode</th>\n",
       "      <th>lat</th>\n",
       "      <th>long</th>\n",
       "    </tr>\n",
       "  </thead>\n",
       "  <tbody>\n",
       "    <tr>\n",
       "      <th>15870</th>\n",
       "      <td>2402100895</td>\n",
       "      <td>2014-06-25</td>\n",
       "      <td>640000.00</td>\n",
       "      <td>33</td>\n",
       "      <td>1.75</td>\n",
       "      <td>1620</td>\n",
       "      <td>6000</td>\n",
       "      <td>1.00</td>\n",
       "      <td>no</td>\n",
       "      <td>0</td>\n",
       "      <td>5</td>\n",
       "      <td>7</td>\n",
       "      <td>1040</td>\n",
       "      <td>580</td>\n",
       "      <td>1947</td>\n",
       "      <td>0</td>\n",
       "      <td>98103</td>\n",
       "      <td>47.69</td>\n",
       "      <td>-122.33</td>\n",
       "    </tr>\n",
       "  </tbody>\n",
       "</table>\n",
       "</div>"
      ],
      "text/plain": [
       "               id       date     price  bedrooms  bathrooms  sqft_living  sqft_lot  floors waterfront  view  condition  grade  sqft_above  sqft_basement  yr_built  yr_renovated  zipcode   lat    long\n",
       "15870  2402100895 2014-06-25 640000.00        33       1.75         1620      6000    1.00         no     0          5      7        1040            580      1947             0    98103 47.69 -122.33"
      ]
     },
     "execution_count": 28,
     "metadata": {},
     "output_type": "execute_result"
    }
   ],
   "source": [
    "df3[df3['bedrooms']==33] # house with 33 bedrooms"
   ]
  },
  {
   "cell_type": "markdown",
   "id": "f1091347",
   "metadata": {},
   "source": [
    "The lot size and number of floor do not fit with a 33 bedrooms house. It will be droped."
   ]
  },
  {
   "cell_type": "code",
   "execution_count": 29,
   "id": "475bb178",
   "metadata": {
    "ExecuteTime": {
     "end_time": "2021-08-23T15:10:30.491898Z",
     "start_time": "2021-08-23T15:10:30.476938Z"
    }
   },
   "outputs": [],
   "source": [
    "df3 = df3.drop(index = 15870) # index of the 33-bedrooms house"
   ]
  },
  {
   "cell_type": "markdown",
   "id": "37426405",
   "metadata": {},
   "source": [
    "9) Registers without bathrooms"
   ]
  },
  {
   "cell_type": "code",
   "execution_count": 30,
   "id": "6a1b7bf7",
   "metadata": {
    "ExecuteTime": {
     "end_time": "2021-08-23T15:10:30.507855Z",
     "start_time": "2021-08-23T15:10:30.492895Z"
    }
   },
   "outputs": [],
   "source": [
    "zero_bath = df3[df3['bathrooms'] == 0] ['id'].reset_index(drop=True).to_list()"
   ]
  },
  {
   "cell_type": "code",
   "execution_count": 31,
   "id": "c5d8ed53",
   "metadata": {
    "ExecuteTime": {
     "end_time": "2021-08-23T15:10:30.523402Z",
     "start_time": "2021-08-23T15:10:30.508853Z"
    }
   },
   "outputs": [
    {
     "name": "stdout",
     "output_type": "stream",
     "text": [
      "There are 3 registers without bathrooms. It will be droped.\n"
     ]
    }
   ],
   "source": [
    "print ('There are {} registers without bathrooms. It will be droped.'.format(len(zero_bath)))"
   ]
  },
  {
   "cell_type": "code",
   "execution_count": 32,
   "id": "e21703e3",
   "metadata": {
    "ExecuteTime": {
     "end_time": "2021-08-23T15:10:30.539392Z",
     "start_time": "2021-08-23T15:10:30.525399Z"
    }
   },
   "outputs": [],
   "source": [
    "df3 = df3[~df3['id'].isin(zero_bath)]"
   ]
  },
  {
   "cell_type": "markdown",
   "id": "c483a09b",
   "metadata": {
    "ExecuteTime": {
     "end_time": "2021-08-11T01:35:04.930412Z",
     "start_time": "2021-08-11T01:35:04.915452Z"
    }
   },
   "source": [
    "10) There are houses with the year of renovation with '0'. "
   ]
  },
  {
   "cell_type": "markdown",
   "id": "1b5963a1",
   "metadata": {},
   "source": [
    "Decision: Keep this."
   ]
  },
  {
   "cell_type": "markdown",
   "id": "efe04275",
   "metadata": {},
   "source": [
    "# Feature Engeneering"
   ]
  },
  {
   "cell_type": "code",
   "execution_count": 33,
   "id": "cbc9401d",
   "metadata": {
    "ExecuteTime": {
     "end_time": "2021-08-23T15:10:30.555454Z",
     "start_time": "2021-08-23T15:10:30.540358Z"
    }
   },
   "outputs": [],
   "source": [
    "df4 = df3.copy()"
   ]
  },
  {
   "cell_type": "markdown",
   "id": "098dac43",
   "metadata": {
    "ExecuteTime": {
     "end_time": "2021-08-04T22:38:49.806449Z",
     "start_time": "2021-08-04T22:38:49.791490Z"
    }
   },
   "source": [
    "## Business Hipotesys"
   ]
  },
  {
   "cell_type": "markdown",
   "id": "6359dec2",
   "metadata": {
    "ExecuteTime": {
     "end_time": "2021-08-04T22:38:49.806449Z",
     "start_time": "2021-08-04T22:38:49.791490Z"
    }
   },
   "source": [
    "1) Houses with waterview are more expensive.\n",
    "\n",
    "2) Houses that were not renovated are cheaper.\n",
    "\n",
    "3) There is a season in the year that more houses are sell\n",
    "\n",
    "4) There is a main numerical feature that raise the prices\n",
    "\n",
    "5) There is a main categorical feature that raise the prices.\n"
   ]
  },
  {
   "cell_type": "markdown",
   "id": "451bf702",
   "metadata": {},
   "source": [
    "## Area"
   ]
  },
  {
   "cell_type": "code",
   "execution_count": 34,
   "id": "7621971e",
   "metadata": {
    "ExecuteTime": {
     "end_time": "2021-08-23T15:10:30.879282Z",
     "start_time": "2021-08-23T15:10:30.556314Z"
    },
    "scrolled": true
   },
   "outputs": [],
   "source": [
    "# selecting the major area for each house\n",
    "df4['area'] = df4[['sqft_living', 'sqft_lot']].apply(lambda x: x['sqft_living'] if x['sqft_living'] >= x['sqft_lot'] else x['sqft_lot'], axis = 1)"
   ]
  },
  {
   "cell_type": "code",
   "execution_count": 35,
   "id": "db993776",
   "metadata": {
    "ExecuteTime": {
     "end_time": "2021-08-23T15:10:30.903725Z",
     "start_time": "2021-08-23T15:10:30.880289Z"
    }
   },
   "outputs": [
    {
     "data": {
      "text/plain": [
       "id               0\n",
       "date             0\n",
       "price            0\n",
       "bedrooms         0\n",
       "bathrooms        0\n",
       "sqft_living      0\n",
       "sqft_lot         0\n",
       "floors           0\n",
       "waterfront       0\n",
       "view             0\n",
       "condition        0\n",
       "grade            0\n",
       "sqft_above       0\n",
       "sqft_basement    0\n",
       "yr_built         0\n",
       "yr_renovated     0\n",
       "zipcode          0\n",
       "lat              0\n",
       "long             0\n",
       "area             0\n",
       "dtype: int64"
      ]
     },
     "execution_count": 35,
     "metadata": {},
     "output_type": "execute_result"
    }
   ],
   "source": [
    "df4.isna().sum()"
   ]
  },
  {
   "cell_type": "markdown",
   "id": "015ba348",
   "metadata": {
    "ExecuteTime": {
     "end_time": "2021-08-05T14:10:52.734839Z",
     "start_time": "2021-08-05T14:10:50.681Z"
    }
   },
   "source": [
    "## Average price per area"
   ]
  },
  {
   "cell_type": "code",
   "execution_count": 36,
   "id": "d32dcb98",
   "metadata": {
    "ExecuteTime": {
     "end_time": "2021-08-23T15:10:30.919682Z",
     "start_time": "2021-08-23T15:10:30.905721Z"
    }
   },
   "outputs": [],
   "source": [
    "df4['price_area'] = df4['price'] / df4['area'] # price/sqft for each house"
   ]
  },
  {
   "cell_type": "code",
   "execution_count": 37,
   "id": "09415e2b",
   "metadata": {
    "ExecuteTime": {
     "end_time": "2021-08-23T15:10:30.935646Z",
     "start_time": "2021-08-23T15:10:30.921677Z"
    }
   },
   "outputs": [
    {
     "data": {
      "text/plain": [
       "id               0\n",
       "date             0\n",
       "price            0\n",
       "bedrooms         0\n",
       "bathrooms        0\n",
       "sqft_living      0\n",
       "sqft_lot         0\n",
       "floors           0\n",
       "waterfront       0\n",
       "view             0\n",
       "condition        0\n",
       "grade            0\n",
       "sqft_above       0\n",
       "sqft_basement    0\n",
       "yr_built         0\n",
       "yr_renovated     0\n",
       "zipcode          0\n",
       "lat              0\n",
       "long             0\n",
       "area             0\n",
       "price_area       0\n",
       "dtype: int64"
      ]
     },
     "execution_count": 37,
     "metadata": {},
     "output_type": "execute_result"
    }
   ],
   "source": [
    "df4.isna().sum()"
   ]
  },
  {
   "cell_type": "markdown",
   "id": "b7313d92",
   "metadata": {
    "ExecuteTime": {
     "end_time": "2021-08-11T14:53:54.415326Z",
     "start_time": "2021-08-11T14:53:54.410340Z"
    }
   },
   "source": [
    "## Average price per area per zipcode"
   ]
  },
  {
   "cell_type": "code",
   "execution_count": 38,
   "id": "4c87b5cf",
   "metadata": {
    "ExecuteTime": {
     "end_time": "2021-08-23T15:10:30.951598Z",
     "start_time": "2021-08-23T15:10:30.937636Z"
    }
   },
   "outputs": [
    {
     "data": {
      "text/html": [
       "<div>\n",
       "<style scoped>\n",
       "    .dataframe tbody tr th:only-of-type {\n",
       "        vertical-align: middle;\n",
       "    }\n",
       "\n",
       "    .dataframe tbody tr th {\n",
       "        vertical-align: top;\n",
       "    }\n",
       "\n",
       "    .dataframe thead th {\n",
       "        text-align: right;\n",
       "    }\n",
       "</style>\n",
       "<table border=\"1\" class=\"dataframe\">\n",
       "  <thead>\n",
       "    <tr style=\"text-align: right;\">\n",
       "      <th></th>\n",
       "      <th>zipcode</th>\n",
       "      <th>zipcode_price</th>\n",
       "    </tr>\n",
       "  </thead>\n",
       "  <tbody>\n",
       "    <tr>\n",
       "      <th>0</th>\n",
       "      <td>98001</td>\n",
       "      <td>30.87</td>\n",
       "    </tr>\n",
       "    <tr>\n",
       "      <th>1</th>\n",
       "      <td>98002</td>\n",
       "      <td>37.27</td>\n",
       "    </tr>\n",
       "    <tr>\n",
       "      <th>2</th>\n",
       "      <td>98003</td>\n",
       "      <td>32.95</td>\n",
       "    </tr>\n",
       "    <tr>\n",
       "      <th>3</th>\n",
       "      <td>98004</td>\n",
       "      <td>119.13</td>\n",
       "    </tr>\n",
       "    <tr>\n",
       "      <th>4</th>\n",
       "      <td>98005</td>\n",
       "      <td>60.92</td>\n",
       "    </tr>\n",
       "  </tbody>\n",
       "</table>\n",
       "</div>"
      ],
      "text/plain": [
       "   zipcode  zipcode_price\n",
       "0    98001          30.87\n",
       "1    98002          37.27\n",
       "2    98003          32.95\n",
       "3    98004         119.13\n",
       "4    98005          60.92"
      ]
     },
     "execution_count": 38,
     "metadata": {},
     "output_type": "execute_result"
    }
   ],
   "source": [
    "zipcode_price_df = df4[['price_area', 'zipcode']].groupby('zipcode').mean().reset_index()\n",
    "zipcode_price_df.rename(columns ={'price_area':'zipcode_price'},inplace=True)\n",
    "zipcode_price_df.head()"
   ]
  },
  {
   "cell_type": "code",
   "execution_count": 39,
   "id": "42330f65",
   "metadata": {
    "ExecuteTime": {
     "end_time": "2021-08-23T15:10:30.983511Z",
     "start_time": "2021-08-23T15:10:30.952596Z"
    }
   },
   "outputs": [],
   "source": [
    "df4 = pd.merge(df4,zipcode_price_df, how='left', on='zipcode')"
   ]
  },
  {
   "cell_type": "code",
   "execution_count": 40,
   "id": "67916964",
   "metadata": {
    "ExecuteTime": {
     "end_time": "2021-08-23T15:10:30.999469Z",
     "start_time": "2021-08-23T15:10:30.984535Z"
    }
   },
   "outputs": [
    {
     "data": {
      "text/plain": [
       "id               0\n",
       "date             0\n",
       "price            0\n",
       "bedrooms         0\n",
       "bathrooms        0\n",
       "sqft_living      0\n",
       "sqft_lot         0\n",
       "floors           0\n",
       "waterfront       0\n",
       "view             0\n",
       "condition        0\n",
       "grade            0\n",
       "sqft_above       0\n",
       "sqft_basement    0\n",
       "yr_built         0\n",
       "yr_renovated     0\n",
       "zipcode          0\n",
       "lat              0\n",
       "long             0\n",
       "area             0\n",
       "price_area       0\n",
       "zipcode_price    0\n",
       "dtype: int64"
      ]
     },
     "execution_count": 40,
     "metadata": {},
     "output_type": "execute_result"
    }
   ],
   "source": [
    "df4.isna().sum()"
   ]
  },
  {
   "cell_type": "markdown",
   "id": "54b440c4",
   "metadata": {
    "ExecuteTime": {
     "end_time": "2021-08-12T20:13:23.359407Z",
     "start_time": "2021-08-12T20:13:23.347404Z"
    }
   },
   "source": [
    "## Trimester"
   ]
  },
  {
   "cell_type": "code",
   "execution_count": 41,
   "id": "b217af92",
   "metadata": {
    "ExecuteTime": {
     "end_time": "2021-08-23T15:10:31.015426Z",
     "start_time": "2021-08-23T15:10:31.000466Z"
    }
   },
   "outputs": [
    {
     "name": "stdout",
     "output_type": "stream",
     "text": [
      "Dataset goes since 2014-05-02 00:00:00 to 2015-05-27 00:00:00.\n"
     ]
    }
   ],
   "source": [
    "print('Dataset goes since {} to {}.'.format(df4['date'].min(),df4['date'].max()) )"
   ]
  },
  {
   "cell_type": "code",
   "execution_count": 42,
   "id": "30d9c918",
   "metadata": {
    "ExecuteTime": {
     "end_time": "2021-08-23T15:10:31.031424Z",
     "start_time": "2021-08-23T15:10:31.016424Z"
    }
   },
   "outputs": [],
   "source": [
    "def trimester_of_year(date):\n",
    "    year = str(date.year)\n",
    "    trimesters={ 'First': pd.date_range( start='01/01/'+year, end ='31/03/' +year),\n",
    "            'Second': pd.date_range( start='01/04/'+year, end ='30/06/' +year),\n",
    "             'Third': pd.date_range( start='01/07/'+year, end ='30/09/' +year),\n",
    "            'Fourth': pd.date_range( start='01/10/'+year, end ='31/12/' +year)}\n",
    "    if date in trimesters['First']:\n",
    "        return 'First'\n",
    "    if date in trimesters['Second']:\n",
    "        return 'Second'\n",
    "    if date in trimesters['Third' ]:\n",
    "        return 'Third'\n",
    "    else:\n",
    "        return 'Fourth'\n"
   ]
  },
  {
   "cell_type": "code",
   "execution_count": 43,
   "id": "c544344c",
   "metadata": {
    "ExecuteTime": {
     "end_time": "2021-08-23T15:10:40.865301Z",
     "start_time": "2021-08-23T15:10:31.032380Z"
    }
   },
   "outputs": [],
   "source": [
    "df4['trimester'] = df4['date'].map(trimester_of_year)"
   ]
  },
  {
   "cell_type": "code",
   "execution_count": 44,
   "id": "26577879",
   "metadata": {
    "ExecuteTime": {
     "end_time": "2021-08-23T15:10:40.881085Z",
     "start_time": "2021-08-23T15:10:40.866096Z"
    }
   },
   "outputs": [
    {
     "data": {
      "text/plain": [
       "id               0\n",
       "date             0\n",
       "price            0\n",
       "bedrooms         0\n",
       "bathrooms        0\n",
       "sqft_living      0\n",
       "sqft_lot         0\n",
       "floors           0\n",
       "waterfront       0\n",
       "view             0\n",
       "condition        0\n",
       "grade            0\n",
       "sqft_above       0\n",
       "sqft_basement    0\n",
       "yr_built         0\n",
       "yr_renovated     0\n",
       "zipcode          0\n",
       "lat              0\n",
       "long             0\n",
       "area             0\n",
       "price_area       0\n",
       "zipcode_price    0\n",
       "trimester        0\n",
       "dtype: int64"
      ]
     },
     "execution_count": 44,
     "metadata": {},
     "output_type": "execute_result"
    }
   ],
   "source": [
    "df4.isna().sum()"
   ]
  },
  {
   "cell_type": "code",
   "execution_count": 45,
   "id": "975a35b7",
   "metadata": {
    "ExecuteTime": {
     "end_time": "2021-08-23T15:10:40.911977Z",
     "start_time": "2021-08-23T15:10:40.883055Z"
    }
   },
   "outputs": [
    {
     "data": {
      "text/html": [
       "<div>\n",
       "<style scoped>\n",
       "    .dataframe tbody tr th:only-of-type {\n",
       "        vertical-align: middle;\n",
       "    }\n",
       "\n",
       "    .dataframe tbody tr th {\n",
       "        vertical-align: top;\n",
       "    }\n",
       "\n",
       "    .dataframe thead th {\n",
       "        text-align: right;\n",
       "    }\n",
       "</style>\n",
       "<table border=\"1\" class=\"dataframe\">\n",
       "  <thead>\n",
       "    <tr style=\"text-align: right;\">\n",
       "      <th></th>\n",
       "      <th>id</th>\n",
       "      <th>date</th>\n",
       "      <th>price</th>\n",
       "      <th>bedrooms</th>\n",
       "      <th>bathrooms</th>\n",
       "      <th>sqft_living</th>\n",
       "      <th>sqft_lot</th>\n",
       "      <th>floors</th>\n",
       "      <th>waterfront</th>\n",
       "      <th>view</th>\n",
       "      <th>condition</th>\n",
       "      <th>grade</th>\n",
       "      <th>sqft_above</th>\n",
       "      <th>sqft_basement</th>\n",
       "      <th>yr_built</th>\n",
       "      <th>yr_renovated</th>\n",
       "      <th>zipcode</th>\n",
       "      <th>lat</th>\n",
       "      <th>long</th>\n",
       "      <th>area</th>\n",
       "      <th>price_area</th>\n",
       "      <th>zipcode_price</th>\n",
       "      <th>trimester</th>\n",
       "    </tr>\n",
       "  </thead>\n",
       "  <tbody>\n",
       "    <tr>\n",
       "      <th>0</th>\n",
       "      <td>7129300520</td>\n",
       "      <td>2014-10-13</td>\n",
       "      <td>221900.00</td>\n",
       "      <td>3</td>\n",
       "      <td>1.00</td>\n",
       "      <td>1180</td>\n",
       "      <td>5650</td>\n",
       "      <td>1.00</td>\n",
       "      <td>no</td>\n",
       "      <td>0</td>\n",
       "      <td>3</td>\n",
       "      <td>7</td>\n",
       "      <td>1180</td>\n",
       "      <td>0</td>\n",
       "      <td>1955</td>\n",
       "      <td>0</td>\n",
       "      <td>98178</td>\n",
       "      <td>47.51</td>\n",
       "      <td>-122.26</td>\n",
       "      <td>5650</td>\n",
       "      <td>39.27</td>\n",
       "      <td>42.61</td>\n",
       "      <td>Fourth</td>\n",
       "    </tr>\n",
       "    <tr>\n",
       "      <th>1</th>\n",
       "      <td>6414100192</td>\n",
       "      <td>2014-12-09</td>\n",
       "      <td>538000.00</td>\n",
       "      <td>3</td>\n",
       "      <td>2.25</td>\n",
       "      <td>2570</td>\n",
       "      <td>7242</td>\n",
       "      <td>2.00</td>\n",
       "      <td>no</td>\n",
       "      <td>0</td>\n",
       "      <td>3</td>\n",
       "      <td>7</td>\n",
       "      <td>2170</td>\n",
       "      <td>400</td>\n",
       "      <td>1951</td>\n",
       "      <td>1991</td>\n",
       "      <td>98125</td>\n",
       "      <td>47.72</td>\n",
       "      <td>-122.32</td>\n",
       "      <td>7242</td>\n",
       "      <td>74.29</td>\n",
       "      <td>78.56</td>\n",
       "      <td>Fourth</td>\n",
       "    </tr>\n",
       "    <tr>\n",
       "      <th>2</th>\n",
       "      <td>5631500400</td>\n",
       "      <td>2015-02-25</td>\n",
       "      <td>180000.00</td>\n",
       "      <td>2</td>\n",
       "      <td>1.00</td>\n",
       "      <td>770</td>\n",
       "      <td>10000</td>\n",
       "      <td>1.00</td>\n",
       "      <td>no</td>\n",
       "      <td>0</td>\n",
       "      <td>3</td>\n",
       "      <td>6</td>\n",
       "      <td>770</td>\n",
       "      <td>0</td>\n",
       "      <td>1933</td>\n",
       "      <td>0</td>\n",
       "      <td>98028</td>\n",
       "      <td>47.74</td>\n",
       "      <td>-122.23</td>\n",
       "      <td>10000</td>\n",
       "      <td>18.00</td>\n",
       "      <td>55.71</td>\n",
       "      <td>First</td>\n",
       "    </tr>\n",
       "    <tr>\n",
       "      <th>3</th>\n",
       "      <td>2487200875</td>\n",
       "      <td>2014-12-09</td>\n",
       "      <td>604000.00</td>\n",
       "      <td>4</td>\n",
       "      <td>3.00</td>\n",
       "      <td>1960</td>\n",
       "      <td>5000</td>\n",
       "      <td>1.00</td>\n",
       "      <td>no</td>\n",
       "      <td>0</td>\n",
       "      <td>5</td>\n",
       "      <td>7</td>\n",
       "      <td>1050</td>\n",
       "      <td>910</td>\n",
       "      <td>1965</td>\n",
       "      <td>0</td>\n",
       "      <td>98136</td>\n",
       "      <td>47.52</td>\n",
       "      <td>-122.39</td>\n",
       "      <td>5000</td>\n",
       "      <td>120.80</td>\n",
       "      <td>126.71</td>\n",
       "      <td>Fourth</td>\n",
       "    </tr>\n",
       "    <tr>\n",
       "      <th>4</th>\n",
       "      <td>1954400510</td>\n",
       "      <td>2015-02-18</td>\n",
       "      <td>510000.00</td>\n",
       "      <td>3</td>\n",
       "      <td>2.00</td>\n",
       "      <td>1680</td>\n",
       "      <td>8080</td>\n",
       "      <td>1.00</td>\n",
       "      <td>no</td>\n",
       "      <td>0</td>\n",
       "      <td>3</td>\n",
       "      <td>8</td>\n",
       "      <td>1680</td>\n",
       "      <td>0</td>\n",
       "      <td>1987</td>\n",
       "      <td>0</td>\n",
       "      <td>98074</td>\n",
       "      <td>47.62</td>\n",
       "      <td>-122.05</td>\n",
       "      <td>8080</td>\n",
       "      <td>63.12</td>\n",
       "      <td>71.44</td>\n",
       "      <td>First</td>\n",
       "    </tr>\n",
       "  </tbody>\n",
       "</table>\n",
       "</div>"
      ],
      "text/plain": [
       "           id       date     price  bedrooms  bathrooms  sqft_living  sqft_lot  floors waterfront  view  condition  grade  sqft_above  sqft_basement  yr_built  yr_renovated  zipcode   lat    long   area  price_area  zipcode_price trimester\n",
       "0  7129300520 2014-10-13 221900.00         3       1.00         1180      5650    1.00         no     0          3      7        1180              0      1955             0    98178 47.51 -122.26   5650       39.27          42.61    Fourth\n",
       "1  6414100192 2014-12-09 538000.00         3       2.25         2570      7242    2.00         no     0          3      7        2170            400      1951          1991    98125 47.72 -122.32   7242       74.29          78.56    Fourth\n",
       "2  5631500400 2015-02-25 180000.00         2       1.00          770     10000    1.00         no     0          3      6         770              0      1933             0    98028 47.74 -122.23  10000       18.00          55.71     First\n",
       "3  2487200875 2014-12-09 604000.00         4       3.00         1960      5000    1.00         no     0          5      7        1050            910      1965             0    98136 47.52 -122.39   5000      120.80         126.71    Fourth\n",
       "4  1954400510 2015-02-18 510000.00         3       2.00         1680      8080    1.00         no     0          3      8        1680              0      1987             0    98074 47.62 -122.05   8080       63.12          71.44     First"
      ]
     },
     "execution_count": 45,
     "metadata": {},
     "output_type": "execute_result"
    }
   ],
   "source": [
    "df4.head()"
   ]
  },
  {
   "cell_type": "markdown",
   "id": "ed611dd5",
   "metadata": {},
   "source": [
    "# Exploratory Data Analisys (EDA)"
   ]
  },
  {
   "cell_type": "code",
   "execution_count": 46,
   "id": "74540f18",
   "metadata": {
    "ExecuteTime": {
     "end_time": "2021-08-23T15:10:40.927977Z",
     "start_time": "2021-08-23T15:10:40.913974Z"
    }
   },
   "outputs": [],
   "source": [
    "df5 = df4.copy()"
   ]
  },
  {
   "cell_type": "markdown",
   "id": "8832deaa",
   "metadata": {},
   "source": [
    "## Feature filtering"
   ]
  },
  {
   "cell_type": "code",
   "execution_count": 47,
   "id": "46f5f947",
   "metadata": {
    "ExecuteTime": {
     "end_time": "2021-08-23T15:10:40.959880Z",
     "start_time": "2021-08-23T15:10:40.929929Z"
    }
   },
   "outputs": [
    {
     "data": {
      "text/html": [
       "<div>\n",
       "<style scoped>\n",
       "    .dataframe tbody tr th:only-of-type {\n",
       "        vertical-align: middle;\n",
       "    }\n",
       "\n",
       "    .dataframe tbody tr th {\n",
       "        vertical-align: top;\n",
       "    }\n",
       "\n",
       "    .dataframe thead th {\n",
       "        text-align: right;\n",
       "    }\n",
       "</style>\n",
       "<table border=\"1\" class=\"dataframe\">\n",
       "  <thead>\n",
       "    <tr style=\"text-align: right;\">\n",
       "      <th></th>\n",
       "      <th>id</th>\n",
       "      <th>date</th>\n",
       "      <th>bedrooms</th>\n",
       "      <th>bathrooms</th>\n",
       "      <th>floors</th>\n",
       "      <th>waterfront</th>\n",
       "      <th>view</th>\n",
       "      <th>condition</th>\n",
       "      <th>grade</th>\n",
       "      <th>yr_built</th>\n",
       "      <th>yr_renovated</th>\n",
       "      <th>zipcode</th>\n",
       "      <th>lat</th>\n",
       "      <th>long</th>\n",
       "      <th>area</th>\n",
       "      <th>price_area</th>\n",
       "      <th>zipcode_price</th>\n",
       "      <th>trimester</th>\n",
       "    </tr>\n",
       "  </thead>\n",
       "  <tbody>\n",
       "    <tr>\n",
       "      <th>0</th>\n",
       "      <td>7129300520</td>\n",
       "      <td>2014-10-13</td>\n",
       "      <td>3</td>\n",
       "      <td>1.00</td>\n",
       "      <td>1.00</td>\n",
       "      <td>no</td>\n",
       "      <td>0</td>\n",
       "      <td>3</td>\n",
       "      <td>7</td>\n",
       "      <td>1955</td>\n",
       "      <td>0</td>\n",
       "      <td>98178</td>\n",
       "      <td>47.51</td>\n",
       "      <td>-122.26</td>\n",
       "      <td>5650</td>\n",
       "      <td>39.27</td>\n",
       "      <td>42.61</td>\n",
       "      <td>Fourth</td>\n",
       "    </tr>\n",
       "    <tr>\n",
       "      <th>1</th>\n",
       "      <td>6414100192</td>\n",
       "      <td>2014-12-09</td>\n",
       "      <td>3</td>\n",
       "      <td>2.25</td>\n",
       "      <td>2.00</td>\n",
       "      <td>no</td>\n",
       "      <td>0</td>\n",
       "      <td>3</td>\n",
       "      <td>7</td>\n",
       "      <td>1951</td>\n",
       "      <td>1991</td>\n",
       "      <td>98125</td>\n",
       "      <td>47.72</td>\n",
       "      <td>-122.32</td>\n",
       "      <td>7242</td>\n",
       "      <td>74.29</td>\n",
       "      <td>78.56</td>\n",
       "      <td>Fourth</td>\n",
       "    </tr>\n",
       "    <tr>\n",
       "      <th>2</th>\n",
       "      <td>5631500400</td>\n",
       "      <td>2015-02-25</td>\n",
       "      <td>2</td>\n",
       "      <td>1.00</td>\n",
       "      <td>1.00</td>\n",
       "      <td>no</td>\n",
       "      <td>0</td>\n",
       "      <td>3</td>\n",
       "      <td>6</td>\n",
       "      <td>1933</td>\n",
       "      <td>0</td>\n",
       "      <td>98028</td>\n",
       "      <td>47.74</td>\n",
       "      <td>-122.23</td>\n",
       "      <td>10000</td>\n",
       "      <td>18.00</td>\n",
       "      <td>55.71</td>\n",
       "      <td>First</td>\n",
       "    </tr>\n",
       "    <tr>\n",
       "      <th>3</th>\n",
       "      <td>2487200875</td>\n",
       "      <td>2014-12-09</td>\n",
       "      <td>4</td>\n",
       "      <td>3.00</td>\n",
       "      <td>1.00</td>\n",
       "      <td>no</td>\n",
       "      <td>0</td>\n",
       "      <td>5</td>\n",
       "      <td>7</td>\n",
       "      <td>1965</td>\n",
       "      <td>0</td>\n",
       "      <td>98136</td>\n",
       "      <td>47.52</td>\n",
       "      <td>-122.39</td>\n",
       "      <td>5000</td>\n",
       "      <td>120.80</td>\n",
       "      <td>126.71</td>\n",
       "      <td>Fourth</td>\n",
       "    </tr>\n",
       "    <tr>\n",
       "      <th>4</th>\n",
       "      <td>1954400510</td>\n",
       "      <td>2015-02-18</td>\n",
       "      <td>3</td>\n",
       "      <td>2.00</td>\n",
       "      <td>1.00</td>\n",
       "      <td>no</td>\n",
       "      <td>0</td>\n",
       "      <td>3</td>\n",
       "      <td>8</td>\n",
       "      <td>1987</td>\n",
       "      <td>0</td>\n",
       "      <td>98074</td>\n",
       "      <td>47.62</td>\n",
       "      <td>-122.05</td>\n",
       "      <td>8080</td>\n",
       "      <td>63.12</td>\n",
       "      <td>71.44</td>\n",
       "      <td>First</td>\n",
       "    </tr>\n",
       "  </tbody>\n",
       "</table>\n",
       "</div>"
      ],
      "text/plain": [
       "           id       date  bedrooms  bathrooms  floors waterfront  view  condition  grade  yr_built  yr_renovated  zipcode   lat    long   area  price_area  zipcode_price trimester\n",
       "0  7129300520 2014-10-13         3       1.00    1.00         no     0          3      7      1955             0    98178 47.51 -122.26   5650       39.27          42.61    Fourth\n",
       "1  6414100192 2014-12-09         3       2.25    2.00         no     0          3      7      1951          1991    98125 47.72 -122.32   7242       74.29          78.56    Fourth\n",
       "2  5631500400 2015-02-25         2       1.00    1.00         no     0          3      6      1933             0    98028 47.74 -122.23  10000       18.00          55.71     First\n",
       "3  2487200875 2014-12-09         4       3.00    1.00         no     0          5      7      1965             0    98136 47.52 -122.39   5000      120.80         126.71    Fourth\n",
       "4  1954400510 2015-02-18         3       2.00    1.00         no     0          3      8      1987             0    98074 47.62 -122.05   8080       63.12          71.44     First"
      ]
     },
     "execution_count": 47,
     "metadata": {},
     "output_type": "execute_result"
    }
   ],
   "source": [
    "df5 = df5.drop(columns = ['price', 'sqft_living','sqft_lot', 'sqft_above', 'sqft_basement'], axis=1)\n",
    "df5.head()"
   ]
  },
  {
   "cell_type": "code",
   "execution_count": 48,
   "id": "355138f0",
   "metadata": {
    "ExecuteTime": {
     "end_time": "2021-08-23T15:10:40.975834Z",
     "start_time": "2021-08-23T15:10:40.961844Z"
    }
   },
   "outputs": [],
   "source": [
    "# attributes filtering\n",
    "num_attributes = df5[['bedrooms', 'bathrooms', 'floors','area','price_area','zipcode_price']]\n",
    "\n",
    "cat_attributes = df5[['id','price_area','date','trimester', 'waterfront', 'view', 'condition', 'grade', 'yr_built', 'yr_renovated', 'zipcode']]\n",
    "#price_area in cat_attributes just to use for comparation\n",
    "       "
   ]
  },
  {
   "cell_type": "markdown",
   "id": "08369138",
   "metadata": {
    "ExecuteTime": {
     "end_time": "2021-08-11T13:19:34.356578Z",
     "start_time": "2021-08-11T13:19:34.345640Z"
    }
   },
   "source": [
    "## Univariate Analisys"
   ]
  },
  {
   "cell_type": "markdown",
   "id": "86b905bc",
   "metadata": {
    "ExecuteTime": {
     "end_time": "2021-08-04T19:39:09.844095Z",
     "start_time": "2021-08-04T19:39:07.828Z"
    }
   },
   "source": [
    "### Numerical Attributes"
   ]
  },
  {
   "cell_type": "code",
   "execution_count": 49,
   "id": "dc563eb3",
   "metadata": {
    "ExecuteTime": {
     "end_time": "2021-08-23T15:10:40.990767Z",
     "start_time": "2021-08-23T15:10:40.977801Z"
    }
   },
   "outputs": [],
   "source": [
    "#central tendency statistics - mean, median\n",
    "ct_mean   = pd.DataFrame ( num_attributes.apply (np.mean   ) ).T\n",
    "ct_median = pd.DataFrame ( num_attributes.apply (np.median ) ).T"
   ]
  },
  {
   "cell_type": "code",
   "execution_count": 50,
   "id": "7350cae1",
   "metadata": {
    "ExecuteTime": {
     "end_time": "2021-08-23T15:10:41.021412Z",
     "start_time": "2021-08-23T15:10:40.993761Z"
    }
   },
   "outputs": [],
   "source": [
    "# dispersion statistics - standard deviation, minimum, maximum, range, skew, kurtosis\n",
    "d_std      = pd.DataFrame ( num_attributes.apply (np.std) ).T\n",
    "d_min      = pd.DataFrame ( num_attributes.apply (np.min) ).T\n",
    "d_max      = pd.DataFrame ( num_attributes.apply (np.max) ).T\n",
    "d_range    = pd.DataFrame ( num_attributes.apply ( lambda x: x.max() - x.min())).T\n",
    "d_skew     = pd.DataFrame ( num_attributes.apply ( lambda x: x.skew() ) ).T\n",
    "d_kurtosis = pd.DataFrame ( num_attributes.apply ( lambda x: x.kurtosis() ) ).T"
   ]
  },
  {
   "cell_type": "code",
   "execution_count": 51,
   "id": "69184e9d",
   "metadata": {
    "ExecuteTime": {
     "end_time": "2021-08-23T15:10:41.036940Z",
     "start_time": "2021-08-23T15:10:41.022378Z"
    }
   },
   "outputs": [
    {
     "data": {
      "text/html": [
       "<div>\n",
       "<style scoped>\n",
       "    .dataframe tbody tr th:only-of-type {\n",
       "        vertical-align: middle;\n",
       "    }\n",
       "\n",
       "    .dataframe tbody tr th {\n",
       "        vertical-align: top;\n",
       "    }\n",
       "\n",
       "    .dataframe thead th {\n",
       "        text-align: right;\n",
       "    }\n",
       "</style>\n",
       "<table border=\"1\" class=\"dataframe\">\n",
       "  <thead>\n",
       "    <tr style=\"text-align: right;\">\n",
       "      <th></th>\n",
       "      <th>attributes</th>\n",
       "      <th>min.</th>\n",
       "      <th>max</th>\n",
       "      <th>range</th>\n",
       "      <th>mean</th>\n",
       "      <th>median</th>\n",
       "      <th>std</th>\n",
       "      <th>skew</th>\n",
       "      <th>kurtosis</th>\n",
       "    </tr>\n",
       "  </thead>\n",
       "  <tbody>\n",
       "    <tr>\n",
       "      <th>0</th>\n",
       "      <td>bedrooms</td>\n",
       "      <td>1.00</td>\n",
       "      <td>11.00</td>\n",
       "      <td>10.00</td>\n",
       "      <td>3.37</td>\n",
       "      <td>3.00</td>\n",
       "      <td>0.90</td>\n",
       "      <td>0.55</td>\n",
       "      <td>1.80</td>\n",
       "    </tr>\n",
       "    <tr>\n",
       "      <th>1</th>\n",
       "      <td>bathrooms</td>\n",
       "      <td>0.50</td>\n",
       "      <td>8.00</td>\n",
       "      <td>7.50</td>\n",
       "      <td>2.12</td>\n",
       "      <td>2.25</td>\n",
       "      <td>0.77</td>\n",
       "      <td>0.52</td>\n",
       "      <td>1.28</td>\n",
       "    </tr>\n",
       "    <tr>\n",
       "      <th>2</th>\n",
       "      <td>floors</td>\n",
       "      <td>1.00</td>\n",
       "      <td>3.50</td>\n",
       "      <td>2.50</td>\n",
       "      <td>1.49</td>\n",
       "      <td>1.50</td>\n",
       "      <td>0.54</td>\n",
       "      <td>0.61</td>\n",
       "      <td>-0.49</td>\n",
       "    </tr>\n",
       "    <tr>\n",
       "      <th>3</th>\n",
       "      <td>area</td>\n",
       "      <td>772.00</td>\n",
       "      <td>1651359.00</td>\n",
       "      <td>1650587.00</td>\n",
       "      <td>15110.61</td>\n",
       "      <td>7619.00</td>\n",
       "      <td>41409.04</td>\n",
       "      <td>13.07</td>\n",
       "      <td>285.57</td>\n",
       "    </tr>\n",
       "    <tr>\n",
       "      <th>4</th>\n",
       "      <td>price_area</td>\n",
       "      <td>0.16</td>\n",
       "      <td>677.63</td>\n",
       "      <td>677.47</td>\n",
       "      <td>85.80</td>\n",
       "      <td>59.26</td>\n",
       "      <td>81.00</td>\n",
       "      <td>2.04</td>\n",
       "      <td>4.84</td>\n",
       "    </tr>\n",
       "    <tr>\n",
       "      <th>5</th>\n",
       "      <td>zipcode_price</td>\n",
       "      <td>15.20</td>\n",
       "      <td>293.28</td>\n",
       "      <td>278.08</td>\n",
       "      <td>85.80</td>\n",
       "      <td>71.44</td>\n",
       "      <td>58.62</td>\n",
       "      <td>1.35</td>\n",
       "      <td>1.23</td>\n",
       "    </tr>\n",
       "  </tbody>\n",
       "</table>\n",
       "</div>"
      ],
      "text/plain": [
       "      attributes   min.        max      range     mean  median      std  skew  kurtosis\n",
       "0       bedrooms   1.00      11.00      10.00     3.37    3.00     0.90  0.55      1.80\n",
       "1      bathrooms   0.50       8.00       7.50     2.12    2.25     0.77  0.52      1.28\n",
       "2         floors   1.00       3.50       2.50     1.49    1.50     0.54  0.61     -0.49\n",
       "3           area 772.00 1651359.00 1650587.00 15110.61 7619.00 41409.04 13.07    285.57\n",
       "4     price_area   0.16     677.63     677.47    85.80   59.26    81.00  2.04      4.84\n",
       "5  zipcode_price  15.20     293.28     278.08    85.80   71.44    58.62  1.35      1.23"
      ]
     },
     "execution_count": 51,
     "metadata": {},
     "output_type": "execute_result"
    }
   ],
   "source": [
    "#concatenate\n",
    "df_metrics = pd.concat ([d_min,d_max,d_range,ct_mean,ct_median,d_std,d_skew,d_kurtosis]).T.reset_index()\n",
    "df_metrics.columns = ['attributes', 'min.','max','range', 'mean', 'median', 'std', 'skew', 'kurtosis']\n",
    "df_metrics"
   ]
  },
  {
   "cell_type": "markdown",
   "id": "42d0ff59",
   "metadata": {},
   "source": [
    "Observations:\n",
    "    There is a wide range in price/area . The minimum is aproximatelly U$ 0,16 per/squarefoot"
   ]
  },
  {
   "cell_type": "code",
   "execution_count": 52,
   "id": "767916bd",
   "metadata": {
    "ExecuteTime": {
     "end_time": "2021-08-23T15:10:41.052869Z",
     "start_time": "2021-08-23T15:10:41.037910Z"
    }
   },
   "outputs": [],
   "source": [
    "min_price = df5['price_area'].min()"
   ]
  },
  {
   "cell_type": "code",
   "execution_count": 53,
   "id": "f4e4ee93",
   "metadata": {
    "ExecuteTime": {
     "end_time": "2021-08-23T15:10:41.084335Z",
     "start_time": "2021-08-23T15:10:41.053869Z"
    }
   },
   "outputs": [
    {
     "data": {
      "text/html": [
       "<div>\n",
       "<style scoped>\n",
       "    .dataframe tbody tr th:only-of-type {\n",
       "        vertical-align: middle;\n",
       "    }\n",
       "\n",
       "    .dataframe tbody tr th {\n",
       "        vertical-align: top;\n",
       "    }\n",
       "\n",
       "    .dataframe thead th {\n",
       "        text-align: right;\n",
       "    }\n",
       "</style>\n",
       "<table border=\"1\" class=\"dataframe\">\n",
       "  <thead>\n",
       "    <tr style=\"text-align: right;\">\n",
       "      <th></th>\n",
       "      <th>id</th>\n",
       "      <th>date</th>\n",
       "      <th>bedrooms</th>\n",
       "      <th>bathrooms</th>\n",
       "      <th>floors</th>\n",
       "      <th>waterfront</th>\n",
       "      <th>view</th>\n",
       "      <th>condition</th>\n",
       "      <th>grade</th>\n",
       "      <th>yr_built</th>\n",
       "      <th>yr_renovated</th>\n",
       "      <th>zipcode</th>\n",
       "      <th>lat</th>\n",
       "      <th>long</th>\n",
       "      <th>area</th>\n",
       "      <th>price_area</th>\n",
       "      <th>zipcode_price</th>\n",
       "      <th>trimester</th>\n",
       "    </tr>\n",
       "  </thead>\n",
       "  <tbody>\n",
       "    <tr>\n",
       "      <th>17304</th>\n",
       "      <td>3326079016</td>\n",
       "      <td>2015-05-04</td>\n",
       "      <td>2</td>\n",
       "      <td>1.00</td>\n",
       "      <td>1.00</td>\n",
       "      <td>no</td>\n",
       "      <td>0</td>\n",
       "      <td>2</td>\n",
       "      <td>5</td>\n",
       "      <td>1915</td>\n",
       "      <td>0</td>\n",
       "      <td>98014</td>\n",
       "      <td>47.69</td>\n",
       "      <td>-121.91</td>\n",
       "      <td>1164794</td>\n",
       "      <td>0.16</td>\n",
       "      <td>17.77</td>\n",
       "      <td>Second</td>\n",
       "    </tr>\n",
       "  </tbody>\n",
       "</table>\n",
       "</div>"
      ],
      "text/plain": [
       "               id       date  bedrooms  bathrooms  floors waterfront  view  condition  grade  yr_built  yr_renovated  zipcode   lat    long     area  price_area  zipcode_price trimester\n",
       "17304  3326079016 2015-05-04         2       1.00    1.00         no     0          2      5      1915             0    98014 47.69 -121.91  1164794        0.16          17.77    Second"
      ]
     },
     "execution_count": 53,
     "metadata": {},
     "output_type": "execute_result"
    }
   ],
   "source": [
    "df5[df5['price_area'] == min_price]"
   ]
  },
  {
   "cell_type": "markdown",
   "id": "53578f91",
   "metadata": {
    "ExecuteTime": {
     "end_time": "2021-08-23T12:45:26.819034Z",
     "start_time": "2021-08-23T12:45:26.804041Z"
    }
   },
   "source": [
    "It is a very large house, old and not renovated. Let's take a look into price/area distribution"
   ]
  },
  {
   "cell_type": "code",
   "execution_count": 54,
   "id": "90267374",
   "metadata": {
    "ExecuteTime": {
     "end_time": "2021-08-23T15:10:41.667956Z",
     "start_time": "2021-08-23T15:10:41.085298Z"
    }
   },
   "outputs": [
    {
     "data": {
      "text/plain": [
       "array([[<AxesSubplot:title={'center':'price_area'}>]], dtype=object)"
      ]
     },
     "execution_count": 54,
     "metadata": {},
     "output_type": "execute_result"
    },
    {
     "data": {
      "image/png": "[encoded data removed]",
      "text/plain": [
       "<Figure size 1800x864 with 1 Axes>"
      ]
     },
     "metadata": {},
     "output_type": "display_data"
    }
   ],
   "source": [
    "df5.hist(column='price_area', bins=100)"
   ]
  },
  {
   "cell_type": "code",
   "execution_count": 55,
   "id": "90514b4b",
   "metadata": {
    "ExecuteTime": {
     "end_time": "2021-08-23T15:10:41.714839Z",
     "start_time": "2021-08-23T15:10:41.668918Z"
    }
   },
   "outputs": [
    {
     "data": {
      "text/html": [
       "<div>\n",
       "<style scoped>\n",
       "    .dataframe tbody tr th:only-of-type {\n",
       "        vertical-align: middle;\n",
       "    }\n",
       "\n",
       "    .dataframe tbody tr th {\n",
       "        vertical-align: top;\n",
       "    }\n",
       "\n",
       "    .dataframe thead th {\n",
       "        text-align: right;\n",
       "    }\n",
       "</style>\n",
       "<table border=\"1\" class=\"dataframe\">\n",
       "  <thead>\n",
       "    <tr style=\"text-align: right;\">\n",
       "      <th></th>\n",
       "      <th>count</th>\n",
       "      <th>mean</th>\n",
       "      <th>std</th>\n",
       "      <th>min</th>\n",
       "      <th>25%</th>\n",
       "      <th>50%</th>\n",
       "      <th>75%</th>\n",
       "      <th>max</th>\n",
       "    </tr>\n",
       "  </thead>\n",
       "  <tbody>\n",
       "    <tr>\n",
       "      <th>id</th>\n",
       "      <td>14701.00</td>\n",
       "      <td>4466738553.66</td>\n",
       "      <td>2824444755.12</td>\n",
       "      <td>1000102.00</td>\n",
       "      <td>2045400075.00</td>\n",
       "      <td>3876000120.00</td>\n",
       "      <td>7227501369.00</td>\n",
       "      <td>9900000190.00</td>\n",
       "    </tr>\n",
       "    <tr>\n",
       "      <th>bedrooms</th>\n",
       "      <td>14701.00</td>\n",
       "      <td>3.38</td>\n",
       "      <td>0.87</td>\n",
       "      <td>1.00</td>\n",
       "      <td>3.00</td>\n",
       "      <td>3.00</td>\n",
       "      <td>4.00</td>\n",
       "      <td>10.00</td>\n",
       "    </tr>\n",
       "    <tr>\n",
       "      <th>bathrooms</th>\n",
       "      <td>14701.00</td>\n",
       "      <td>2.01</td>\n",
       "      <td>0.72</td>\n",
       "      <td>0.50</td>\n",
       "      <td>1.50</td>\n",
       "      <td>2.00</td>\n",
       "      <td>2.50</td>\n",
       "      <td>8.00</td>\n",
       "    </tr>\n",
       "    <tr>\n",
       "      <th>floors</th>\n",
       "      <td>14701.00</td>\n",
       "      <td>1.36</td>\n",
       "      <td>0.47</td>\n",
       "      <td>1.00</td>\n",
       "      <td>1.00</td>\n",
       "      <td>1.00</td>\n",
       "      <td>2.00</td>\n",
       "      <td>3.00</td>\n",
       "    </tr>\n",
       "    <tr>\n",
       "      <th>view</th>\n",
       "      <td>14701.00</td>\n",
       "      <td>0.18</td>\n",
       "      <td>0.67</td>\n",
       "      <td>0.00</td>\n",
       "      <td>0.00</td>\n",
       "      <td>0.00</td>\n",
       "      <td>0.00</td>\n",
       "      <td>4.00</td>\n",
       "    </tr>\n",
       "    <tr>\n",
       "      <th>condition</th>\n",
       "      <td>14701.00</td>\n",
       "      <td>3.43</td>\n",
       "      <td>0.65</td>\n",
       "      <td>1.00</td>\n",
       "      <td>3.00</td>\n",
       "      <td>3.00</td>\n",
       "      <td>4.00</td>\n",
       "      <td>5.00</td>\n",
       "    </tr>\n",
       "    <tr>\n",
       "      <th>grade</th>\n",
       "      <td>14701.00</td>\n",
       "      <td>7.48</td>\n",
       "      <td>1.14</td>\n",
       "      <td>3.00</td>\n",
       "      <td>7.00</td>\n",
       "      <td>7.00</td>\n",
       "      <td>8.00</td>\n",
       "      <td>13.00</td>\n",
       "    </tr>\n",
       "    <tr>\n",
       "      <th>yr_built</th>\n",
       "      <td>14701.00</td>\n",
       "      <td>1970.97</td>\n",
       "      <td>23.69</td>\n",
       "      <td>1900.00</td>\n",
       "      <td>1955.00</td>\n",
       "      <td>1972.00</td>\n",
       "      <td>1989.00</td>\n",
       "      <td>2015.00</td>\n",
       "    </tr>\n",
       "    <tr>\n",
       "      <th>yr_renovated</th>\n",
       "      <td>14701.00</td>\n",
       "      <td>68.32</td>\n",
       "      <td>362.65</td>\n",
       "      <td>0.00</td>\n",
       "      <td>0.00</td>\n",
       "      <td>0.00</td>\n",
       "      <td>0.00</td>\n",
       "      <td>2015.00</td>\n",
       "    </tr>\n",
       "    <tr>\n",
       "      <th>zipcode</th>\n",
       "      <td>14701.00</td>\n",
       "      <td>98070.04</td>\n",
       "      <td>55.06</td>\n",
       "      <td>98001.00</td>\n",
       "      <td>98028.00</td>\n",
       "      <td>98055.00</td>\n",
       "      <td>98117.00</td>\n",
       "      <td>98199.00</td>\n",
       "    </tr>\n",
       "    <tr>\n",
       "      <th>lat</th>\n",
       "      <td>14701.00</td>\n",
       "      <td>47.53</td>\n",
       "      <td>0.15</td>\n",
       "      <td>47.16</td>\n",
       "      <td>47.40</td>\n",
       "      <td>47.53</td>\n",
       "      <td>47.68</td>\n",
       "      <td>47.78</td>\n",
       "    </tr>\n",
       "    <tr>\n",
       "      <th>long</th>\n",
       "      <td>14701.00</td>\n",
       "      <td>-122.19</td>\n",
       "      <td>0.14</td>\n",
       "      <td>-122.52</td>\n",
       "      <td>-122.31</td>\n",
       "      <td>-122.20</td>\n",
       "      <td>-122.11</td>\n",
       "      <td>-121.31</td>\n",
       "    </tr>\n",
       "    <tr>\n",
       "      <th>area</th>\n",
       "      <td>14701.00</td>\n",
       "      <td>19890.43</td>\n",
       "      <td>49420.27</td>\n",
       "      <td>1500.00</td>\n",
       "      <td>7200.00</td>\n",
       "      <td>8976.00</td>\n",
       "      <td>13084.00</td>\n",
       "      <td>1651359.00</td>\n",
       "    </tr>\n",
       "    <tr>\n",
       "      <th>price_area</th>\n",
       "      <td>14701.00</td>\n",
       "      <td>43.41</td>\n",
       "      <td>22.41</td>\n",
       "      <td>0.16</td>\n",
       "      <td>26.43</td>\n",
       "      <td>41.10</td>\n",
       "      <td>60.67</td>\n",
       "      <td>90.00</td>\n",
       "    </tr>\n",
       "    <tr>\n",
       "      <th>zipcode_price</th>\n",
       "      <td>14701.00</td>\n",
       "      <td>59.69</td>\n",
       "      <td>31.82</td>\n",
       "      <td>15.20</td>\n",
       "      <td>36.81</td>\n",
       "      <td>48.94</td>\n",
       "      <td>77.24</td>\n",
       "      <td>293.28</td>\n",
       "    </tr>\n",
       "  </tbody>\n",
       "</table>\n",
       "</div>"
      ],
      "text/plain": [
       "                 count          mean           std        min           25%           50%           75%           max\n",
       "id            14701.00 4466738553.66 2824444755.12 1000102.00 2045400075.00 3876000120.00 7227501369.00 9900000190.00\n",
       "bedrooms      14701.00          3.38          0.87       1.00          3.00          3.00          4.00         10.00\n",
       "bathrooms     14701.00          2.01          0.72       0.50          1.50          2.00          2.50          8.00\n",
       "floors        14701.00          1.36          0.47       1.00          1.00          1.00          2.00          3.00\n",
       "view          14701.00          0.18          0.67       0.00          0.00          0.00          0.00          4.00\n",
       "condition     14701.00          3.43          0.65       1.00          3.00          3.00          4.00          5.00\n",
       "grade         14701.00          7.48          1.14       3.00          7.00          7.00          8.00         13.00\n",
       "yr_built      14701.00       1970.97         23.69    1900.00       1955.00       1972.00       1989.00       2015.00\n",
       "yr_renovated  14701.00         68.32        362.65       0.00          0.00          0.00          0.00       2015.00\n",
       "zipcode       14701.00      98070.04         55.06   98001.00      98028.00      98055.00      98117.00      98199.00\n",
       "lat           14701.00         47.53          0.15      47.16         47.40         47.53         47.68         47.78\n",
       "long          14701.00       -122.19          0.14    -122.52       -122.31       -122.20       -122.11       -121.31\n",
       "area          14701.00      19890.43      49420.27    1500.00       7200.00       8976.00      13084.00    1651359.00\n",
       "price_area    14701.00         43.41         22.41       0.16         26.43         41.10         60.67         90.00\n",
       "zipcode_price 14701.00         59.69         31.82      15.20         36.81         48.94         77.24        293.28"
      ]
     },
     "execution_count": 55,
     "metadata": {},
     "output_type": "execute_result"
    }
   ],
   "source": [
    "#statistics of the houses below the average price \n",
    "below_median = df5[df5['price_area'] < 90]\n",
    "below_median.describe().T"
   ]
  },
  {
   "cell_type": "markdown",
   "id": "207eba11",
   "metadata": {
    "ExecuteTime": {
     "end_time": "2021-08-04T19:39:09.845093Z",
     "start_time": "2021-08-04T19:39:07.830Z"
    }
   },
   "source": [
    "### Categorical Attributes"
   ]
  },
  {
   "cell_type": "code",
   "execution_count": 56,
   "id": "38ff4d53",
   "metadata": {
    "ExecuteTime": {
     "end_time": "2021-08-23T15:10:41.731379Z",
     "start_time": "2021-08-23T15:10:41.715793Z"
    },
    "scrolled": false
   },
   "outputs": [
    {
     "data": {
      "text/html": [
       "<div>\n",
       "<style scoped>\n",
       "    .dataframe tbody tr th:only-of-type {\n",
       "        vertical-align: middle;\n",
       "    }\n",
       "\n",
       "    .dataframe tbody tr th {\n",
       "        vertical-align: top;\n",
       "    }\n",
       "\n",
       "    .dataframe thead th {\n",
       "        text-align: right;\n",
       "    }\n",
       "</style>\n",
       "<table border=\"1\" class=\"dataframe\">\n",
       "  <thead>\n",
       "    <tr style=\"text-align: right;\">\n",
       "      <th></th>\n",
       "      <th>id</th>\n",
       "      <th>price_area</th>\n",
       "      <th>date</th>\n",
       "      <th>trimester</th>\n",
       "      <th>waterfront</th>\n",
       "      <th>view</th>\n",
       "      <th>condition</th>\n",
       "      <th>grade</th>\n",
       "      <th>yr_built</th>\n",
       "      <th>yr_renovated</th>\n",
       "      <th>zipcode</th>\n",
       "    </tr>\n",
       "  </thead>\n",
       "  <tbody>\n",
       "    <tr>\n",
       "      <th>0</th>\n",
       "      <td>7129300520</td>\n",
       "      <td>39.27</td>\n",
       "      <td>2014-10-13</td>\n",
       "      <td>Fourth</td>\n",
       "      <td>no</td>\n",
       "      <td>0</td>\n",
       "      <td>3</td>\n",
       "      <td>7</td>\n",
       "      <td>1955</td>\n",
       "      <td>0</td>\n",
       "      <td>98178</td>\n",
       "    </tr>\n",
       "    <tr>\n",
       "      <th>1</th>\n",
       "      <td>6414100192</td>\n",
       "      <td>74.29</td>\n",
       "      <td>2014-12-09</td>\n",
       "      <td>Fourth</td>\n",
       "      <td>no</td>\n",
       "      <td>0</td>\n",
       "      <td>3</td>\n",
       "      <td>7</td>\n",
       "      <td>1951</td>\n",
       "      <td>1991</td>\n",
       "      <td>98125</td>\n",
       "    </tr>\n",
       "    <tr>\n",
       "      <th>2</th>\n",
       "      <td>5631500400</td>\n",
       "      <td>18.00</td>\n",
       "      <td>2015-02-25</td>\n",
       "      <td>First</td>\n",
       "      <td>no</td>\n",
       "      <td>0</td>\n",
       "      <td>3</td>\n",
       "      <td>6</td>\n",
       "      <td>1933</td>\n",
       "      <td>0</td>\n",
       "      <td>98028</td>\n",
       "    </tr>\n",
       "    <tr>\n",
       "      <th>3</th>\n",
       "      <td>2487200875</td>\n",
       "      <td>120.80</td>\n",
       "      <td>2014-12-09</td>\n",
       "      <td>Fourth</td>\n",
       "      <td>no</td>\n",
       "      <td>0</td>\n",
       "      <td>5</td>\n",
       "      <td>7</td>\n",
       "      <td>1965</td>\n",
       "      <td>0</td>\n",
       "      <td>98136</td>\n",
       "    </tr>\n",
       "    <tr>\n",
       "      <th>4</th>\n",
       "      <td>1954400510</td>\n",
       "      <td>63.12</td>\n",
       "      <td>2015-02-18</td>\n",
       "      <td>First</td>\n",
       "      <td>no</td>\n",
       "      <td>0</td>\n",
       "      <td>3</td>\n",
       "      <td>8</td>\n",
       "      <td>1987</td>\n",
       "      <td>0</td>\n",
       "      <td>98074</td>\n",
       "    </tr>\n",
       "  </tbody>\n",
       "</table>\n",
       "</div>"
      ],
      "text/plain": [
       "           id  price_area       date trimester waterfront  view  condition  grade  yr_built  yr_renovated  zipcode\n",
       "0  7129300520       39.27 2014-10-13    Fourth         no     0          3      7      1955             0    98178\n",
       "1  6414100192       74.29 2014-12-09    Fourth         no     0          3      7      1951          1991    98125\n",
       "2  5631500400       18.00 2015-02-25     First         no     0          3      6      1933             0    98028\n",
       "3  2487200875      120.80 2014-12-09    Fourth         no     0          5      7      1965             0    98136\n",
       "4  1954400510       63.12 2015-02-18     First         no     0          3      8      1987             0    98074"
      ]
     },
     "execution_count": 56,
     "metadata": {},
     "output_type": "execute_result"
    }
   ],
   "source": [
    "cat_attributes.head()"
   ]
  },
  {
   "cell_type": "code",
   "execution_count": 57,
   "id": "8faa0c01",
   "metadata": {
    "ExecuteTime": {
     "end_time": "2021-08-23T15:10:41.746710Z",
     "start_time": "2021-08-23T15:10:41.732747Z"
    }
   },
   "outputs": [],
   "source": [
    "total_houses = df5.shape[0]\n",
    "\n",
    "wf_number    = cat_attributes [ cat_attributes ['waterfront'] == 'yes'].shape[0]\n",
    "\n",
    "lqd_number   = cat_attributes [ cat_attributes ['grade'] <=3 ].shape[0]\n",
    "\n",
    "hq_number    = cat_attributes [ cat_attributes ['grade'] >= 11].shape[0]\n",
    "\n",
    "avgq_number  = total_houses - lqd_number - hq_number"
   ]
  },
  {
   "cell_type": "code",
   "execution_count": 58,
   "id": "b9c79211",
   "metadata": {
    "ExecuteTime": {
     "end_time": "2021-08-23T15:10:41.762667Z",
     "start_time": "2021-08-23T15:10:41.747707Z"
    }
   },
   "outputs": [
    {
     "name": "stdout",
     "output_type": "stream",
     "text": [
      "Dataset has 163 houses with waterview, what corresponding to 0.75 % of the dataset\n",
      "\n",
      "Dataset has 1 houses with low quality design , what corresponding to 0.00 % of the dataset\n",
      "\n",
      "Dataset has 21094 houses with average quality design , what corresponding to 97.68 % of the dataset\n",
      "\n",
      "Dataset has 501 houses with high quality design , what corresponding to 2.32 % of the dataset\n"
     ]
    }
   ],
   "source": [
    "print ( 'Dataset has {} houses with waterview, what corresponding to {:.2f} % of the dataset\\n' .format( wf_number, (wf_number/total_houses)*100))\n",
    "print ( 'Dataset has {} houses with low quality design , what corresponding to {:.2f} % of the dataset\\n' .format( lqd_number, (lqd_number/total_houses)*100))\n",
    "print ( 'Dataset has {} houses with average quality design , what corresponding to {:.2f} % of the dataset\\n' .format( avgq_number, (avgq_number/total_houses)*100))\n",
    "print ( 'Dataset has {} houses with high quality design , what corresponding to {:.2f} % of the dataset' .format( hq_number, (hq_number/total_houses)*100))"
   ]
  },
  {
   "cell_type": "markdown",
   "id": "f01971fb",
   "metadata": {},
   "source": [
    "## Bivariate Analysis"
   ]
  },
  {
   "cell_type": "markdown",
   "id": "3b2c3dd6",
   "metadata": {
    "ExecuteTime": {
     "end_time": "2021-08-06T13:23:15.588493Z",
     "start_time": "2021-08-06T13:23:15.346147Z"
    }
   },
   "source": [
    "### Average price for view"
   ]
  },
  {
   "cell_type": "code",
   "execution_count": 59,
   "id": "0df2f036",
   "metadata": {
    "ExecuteTime": {
     "end_time": "2021-08-23T15:10:42.013605Z",
     "start_time": "2021-08-23T15:10:41.763664Z"
    }
   },
   "outputs": [
    {
     "data": {
      "image/png": "[encoded data removed]",
      "text/plain": [
       "<Figure size 1800x864 with 1 Axes>"
      ]
     },
     "metadata": {},
     "output_type": "display_data"
    }
   ],
   "source": [
    "aux5 = cat_attributes[['price_area','view']].groupby('view').mean().reset_index()\n",
    "sns.barplot(x='view', y ='price_area', data=aux5).set_title('Average price X View')\n",
    "plt.savefig(r'../reports/figures/avg_price_view.png')"
   ]
  },
  {
   "cell_type": "markdown",
   "id": "da9355e7",
   "metadata": {
    "ExecuteTime": {
     "end_time": "2021-08-09T12:27:01.380092Z",
     "start_time": "2021-08-09T12:27:01.365133Z"
    }
   },
   "source": [
    "As we can spected, the view has a big contribuition to the price."
   ]
  },
  {
   "cell_type": "markdown",
   "id": "04c5dbf5",
   "metadata": {
    "ExecuteTime": {
     "end_time": "2021-08-09T12:45:30.706067Z",
     "start_time": "2021-08-09T12:45:30.689079Z"
    }
   },
   "source": [
    "### Average price for grade"
   ]
  },
  {
   "cell_type": "code",
   "execution_count": 60,
   "id": "591f7eda",
   "metadata": {
    "ExecuteTime": {
     "end_time": "2021-08-23T15:10:42.341704Z",
     "start_time": "2021-08-23T15:10:42.016540Z"
    }
   },
   "outputs": [
    {
     "data": {
      "image/png": "[encoded data removed]",
      "text/plain": [
       "<Figure size 1800x864 with 1 Axes>"
      ]
     },
     "metadata": {},
     "output_type": "display_data"
    }
   ],
   "source": [
    "aux51 = cat_attributes[['price_area', 'grade']].groupby('grade').mean().reset_index()\n",
    "sns.barplot(x='grade', y='price_area', data=aux51).set_title('Average Price X Grade')\n",
    "plt.savefig(r'../reports/figures/avg_price_grade.png')"
   ]
  },
  {
   "cell_type": "markdown",
   "id": "93ae189c",
   "metadata": {},
   "source": [
    "There is a big elevation in the price from 7 to 8 and 12 to 13"
   ]
  },
  {
   "cell_type": "markdown",
   "id": "4f828231",
   "metadata": {},
   "source": [
    "### Average price for condition"
   ]
  },
  {
   "cell_type": "code",
   "execution_count": 61,
   "id": "629e976f",
   "metadata": {
    "ExecuteTime": {
     "end_time": "2021-08-23T15:10:42.590408Z",
     "start_time": "2021-08-23T15:10:42.343702Z"
    }
   },
   "outputs": [
    {
     "data": {
      "image/png": "[encoded data removed]",
      "text/plain": [
       "<Figure size 1800x864 with 1 Axes>"
      ]
     },
     "metadata": {},
     "output_type": "display_data"
    }
   ],
   "source": [
    "aux52 = cat_attributes[['price_area', 'condition']].groupby('condition').mean().reset_index()\n",
    "sns.barplot (x='condition', y='price_area', data = aux52).set_title('Average Price X Condition');\n",
    "plt.savefig(r'../reports/figures/avg_price_condition.png')"
   ]
  },
  {
   "cell_type": "markdown",
   "id": "3895fc26",
   "metadata": {
    "ExecuteTime": {
     "end_time": "2021-08-09T12:27:01.383084Z",
     "start_time": "2021-08-09T12:26:58.085Z"
    }
   },
   "source": [
    "It seems that its more valuable buy a 2-condition house and make a lift than buy a 4-conditon one"
   ]
  },
  {
   "cell_type": "markdown",
   "id": "ada553b5",
   "metadata": {
    "ExecuteTime": {
     "end_time": "2021-08-09T12:27:01.383084Z",
     "start_time": "2021-08-09T12:26:58.088Z"
    }
   },
   "source": [
    "### Average price per Zipcode"
   ]
  },
  {
   "cell_type": "code",
   "execution_count": 62,
   "id": "22b4a8a2",
   "metadata": {
    "ExecuteTime": {
     "end_time": "2021-08-23T15:10:42.606366Z",
     "start_time": "2021-08-23T15:10:42.591406Z"
    }
   },
   "outputs": [
    {
     "data": {
      "text/html": [
       "<div>\n",
       "<style scoped>\n",
       "    .dataframe tbody tr th:only-of-type {\n",
       "        vertical-align: middle;\n",
       "    }\n",
       "\n",
       "    .dataframe tbody tr th {\n",
       "        vertical-align: top;\n",
       "    }\n",
       "\n",
       "    .dataframe thead th {\n",
       "        text-align: right;\n",
       "    }\n",
       "</style>\n",
       "<table border=\"1\" class=\"dataframe\">\n",
       "  <thead>\n",
       "    <tr style=\"text-align: right;\">\n",
       "      <th></th>\n",
       "      <th>zipcode</th>\n",
       "      <th>price_area</th>\n",
       "    </tr>\n",
       "  </thead>\n",
       "  <tbody>\n",
       "    <tr>\n",
       "      <th>0</th>\n",
       "      <td>98070</td>\n",
       "      <td>15.20</td>\n",
       "    </tr>\n",
       "    <tr>\n",
       "      <th>1</th>\n",
       "      <td>98024</td>\n",
       "      <td>17.07</td>\n",
       "    </tr>\n",
       "    <tr>\n",
       "      <th>2</th>\n",
       "      <td>98014</td>\n",
       "      <td>17.77</td>\n",
       "    </tr>\n",
       "    <tr>\n",
       "      <th>3</th>\n",
       "      <td>98010</td>\n",
       "      <td>21.09</td>\n",
       "    </tr>\n",
       "    <tr>\n",
       "      <th>4</th>\n",
       "      <td>98022</td>\n",
       "      <td>21.99</td>\n",
       "    </tr>\n",
       "  </tbody>\n",
       "</table>\n",
       "</div>"
      ],
      "text/plain": [
       "   zipcode  price_area\n",
       "0    98070       15.20\n",
       "1    98024       17.07\n",
       "2    98014       17.77\n",
       "3    98010       21.09\n",
       "4    98022       21.99"
      ]
     },
     "execution_count": 62,
     "metadata": {},
     "output_type": "execute_result"
    }
   ],
   "source": [
    "aux53 = cat_attributes[['price_area', 'zipcode']].groupby('zipcode').mean().reset_index()\n",
    "aux53 = aux53.sort_values(['price_area']).reset_index(drop=True)\n",
    "aux53.head()"
   ]
  },
  {
   "cell_type": "code",
   "execution_count": 63,
   "id": "30e05336",
   "metadata": {
    "ExecuteTime": {
     "end_time": "2021-08-23T15:10:44.071083Z",
     "start_time": "2021-08-23T15:10:42.607395Z"
    },
    "scrolled": true
   },
   "outputs": [
    {
     "data": {
      "image/png": "[encoded data removed]",
      "text/plain": [
       "<Figure size 1800x864 with 1 Axes>"
      ]
     },
     "metadata": {},
     "output_type": "display_data"
    }
   ],
   "source": [
    "sns.barplot(x='zipcode', y='price_area', data = aux53);"
   ]
  },
  {
   "cell_type": "markdown",
   "id": "35b24215",
   "metadata": {},
   "source": [
    "### Average price per year built"
   ]
  },
  {
   "cell_type": "code",
   "execution_count": 64,
   "id": "10e89231",
   "metadata": {
    "ExecuteTime": {
     "end_time": "2021-08-23T15:10:47.317274Z",
     "start_time": "2021-08-23T15:10:44.073078Z"
    }
   },
   "outputs": [
    {
     "data": {
      "image/png": "[encoded data removed]",
      "text/plain": [
       "<Figure size 1800x864 with 1 Axes>"
      ]
     },
     "metadata": {},
     "output_type": "display_data"
    }
   ],
   "source": [
    "aux54 = cat_attributes[['price_area', 'yr_built']].groupby('yr_built').mean().reset_index()\n",
    "sns.barplot(x='yr_built', y='price_area', data = aux54).set_title('Average Price X Yr. Built');\n",
    "plt.savefig(r'../reports/figures/avg_price_yr_built')"
   ]
  },
  {
   "cell_type": "markdown",
   "id": "be33f0f1",
   "metadata": {
    "ExecuteTime": {
     "end_time": "2021-08-10T14:39:22.574759Z",
     "start_time": "2021-08-10T14:39:20.177Z"
    }
   },
   "source": [
    "### Average price per year renovated"
   ]
  },
  {
   "cell_type": "code",
   "execution_count": 65,
   "id": "4751d2c6",
   "metadata": {
    "ExecuteTime": {
     "end_time": "2021-08-23T15:10:49.305728Z",
     "start_time": "2021-08-23T15:10:47.318271Z"
    }
   },
   "outputs": [
    {
     "data": {
      "image/png": "[encoded data removed]",
      "text/plain": [
       "<Figure size 1800x864 with 1 Axes>"
      ]
     },
     "metadata": {},
     "output_type": "display_data"
    }
   ],
   "source": [
    "aux55 = cat_attributes[['price_area', 'yr_renovated']].groupby('yr_renovated').mean().reset_index()\n",
    "sns.barplot(x='yr_renovated', y='price_area', data = aux55).set_title('Average Price X Yr. Renovated');\n",
    "plt.savefig(r'../reports/figures/avg_price_yr_renovated.png')"
   ]
  },
  {
   "cell_type": "markdown",
   "id": "34cb1317",
   "metadata": {
    "ExecuteTime": {
     "end_time": "2021-08-12T22:16:03.460138Z",
     "start_time": "2021-08-12T22:16:03.446126Z"
    }
   },
   "source": [
    "### Number of transations for time of year"
   ]
  },
  {
   "cell_type": "code",
   "execution_count": 66,
   "id": "3287db6e",
   "metadata": {
    "ExecuteTime": {
     "end_time": "2021-08-23T15:10:49.540189Z",
     "start_time": "2021-08-23T15:10:49.306727Z"
    }
   },
   "outputs": [
    {
     "data": {
      "image/png": "[encoded data removed]",
      "text/plain": [
       "<Figure size 1800x864 with 1 Axes>"
      ]
     },
     "metadata": {},
     "output_type": "display_data"
    }
   ],
   "source": [
    "aux56 = cat_attributes[['id','trimester']].groupby('trimester').count().reset_index()\n",
    "sns.barplot(x='trimester', y='id', data = aux56).set_title('Number of transations X Time of year');\n",
    "plt.savefig(r'../reports/figures/transations_per__yr.png')"
   ]
  },
  {
   "cell_type": "markdown",
   "id": "2a587193",
   "metadata": {
    "ExecuteTime": {
     "end_time": "2021-08-23T15:10:49.556275Z",
     "start_time": "2021-08-23T15:10:49.546174Z"
    }
   },
   "source": [
    "The major part of house transations occurs in the second trimester, as the minor is in the first."
   ]
  },
  {
   "cell_type": "markdown",
   "id": "7a81c5b7",
   "metadata": {},
   "source": [
    "# Hipotesys validation"
   ]
  },
  {
   "cell_type": "code",
   "execution_count": 68,
   "id": "c568208a",
   "metadata": {
    "ExecuteTime": {
     "end_time": "2021-08-23T15:14:54.101763Z",
     "start_time": "2021-08-23T15:14:54.096778Z"
    }
   },
   "outputs": [],
   "source": [
    "df6 = df5.copy()"
   ]
  },
  {
   "cell_type": "markdown",
   "id": "8d098034",
   "metadata": {},
   "source": [
    "## Houses with waterfront are more expensive - True"
   ]
  },
  {
   "cell_type": "code",
   "execution_count": 69,
   "id": "c3e24706",
   "metadata": {
    "ExecuteTime": {
     "end_time": "2021-08-23T15:14:56.959615Z",
     "start_time": "2021-08-23T15:14:56.936707Z"
    }
   },
   "outputs": [
    {
     "name": "stdout",
     "output_type": "stream",
     "text": [
      "The average price per squarefoot of the no waterview houses is U$ 85.53\n",
      "The average price per squarefoot of the  waterview houses is U$ 121.08\n"
     ]
    }
   ],
   "source": [
    "df_nowater = df6[df6 ['waterfront'] == 'no' ]\n",
    "df_water   = df6[df6 ['waterfront'] == 'yes']\n",
    "\n",
    "print('The average price per squarefoot of the no waterview houses is U$ {:.2f}'.format( df_nowater['price_area'].mean() ) )\n",
    "\n",
    "print('The average price per squarefoot of the  waterview houses is U$ {:.2f}'.  format( df_water  ['price_area'].mean() ) )\n"
   ]
  },
  {
   "cell_type": "code",
   "execution_count": 70,
   "id": "9f38b345",
   "metadata": {
    "ExecuteTime": {
     "end_time": "2021-08-23T15:15:01.025214Z",
     "start_time": "2021-08-23T15:15:01.004270Z"
    }
   },
   "outputs": [
    {
     "name": "stdout",
     "output_type": "stream",
     "text": [
      "The average price per squarefoot of the no waterview houses that are in the same zipcode that the ones with it is U$ 85.78\n"
     ]
    }
   ],
   "source": [
    "#Comparing water and zipcodes\n",
    "zipcode_water = df_water['zipcode'].tolist()\n",
    "aux6 = df_nowater[df_nowater['zipcode'].isin(zipcode_water)]\n",
    "\n",
    "print('The average price per squarefoot of the no waterview houses that are in the same zipcode that the ones with it is U$ {:.2f}'.format( aux6['price_area'].mean())  )\n"
   ]
  },
  {
   "cell_type": "markdown",
   "id": "afc07e2c",
   "metadata": {},
   "source": [
    "## Houses that were not renovated are cheaper."
   ]
  },
  {
   "cell_type": "code",
   "execution_count": 73,
   "id": "261b1314",
   "metadata": {
    "ExecuteTime": {
     "end_time": "2021-08-23T15:16:16.919358Z",
     "start_time": "2021-08-23T15:16:16.902397Z"
    }
   },
   "outputs": [],
   "source": [
    "aux6 = df6[df6['yr_renovated'] == 0]\n",
    "not_renovated_price= aux6['price_area'].mean()"
   ]
  },
  {
   "cell_type": "code",
   "execution_count": 74,
   "id": "12e2c398",
   "metadata": {
    "ExecuteTime": {
     "end_time": "2021-08-23T15:16:33.759607Z",
     "start_time": "2021-08-23T15:16:33.742331Z"
    }
   },
   "outputs": [],
   "source": [
    "aux6 = df6[df6['yr_renovated'] != 0]\n",
    "renovated_price=aux6['price_area'].mean()"
   ]
  },
  {
   "cell_type": "code",
   "execution_count": 83,
   "id": "7cefb357",
   "metadata": {
    "ExecuteTime": {
     "end_time": "2021-08-23T15:19:28.553090Z",
     "start_time": "2021-08-23T15:19:28.535109Z"
    }
   },
   "outputs": [
    {
     "name": "stdout",
     "output_type": "stream",
     "text": [
      "House that were not renovated are 23.61 % cheaper than the renovated ones\n"
     ]
    }
   ],
   "source": [
    "print('House that were not renovated are {:.2f} % cheaper than the renovated ones'.format(  ((renovated_price/not_renovated_price) - 1 )*100))"
   ]
  },
  {
   "cell_type": "markdown",
   "id": "7f8f3be9",
   "metadata": {},
   "source": [
    "## There is a time of year that more houses are sold"
   ]
  },
  {
   "cell_type": "code",
   "execution_count": 85,
   "id": "c4ae0b92",
   "metadata": {
    "ExecuteTime": {
     "end_time": "2021-08-23T15:26:41.523503Z",
     "start_time": "2021-08-23T15:26:41.504554Z"
    }
   },
   "outputs": [
    {
     "data": {
      "text/html": [
       "<div>\n",
       "<style scoped>\n",
       "    .dataframe tbody tr th:only-of-type {\n",
       "        vertical-align: middle;\n",
       "    }\n",
       "\n",
       "    .dataframe tbody tr th {\n",
       "        vertical-align: top;\n",
       "    }\n",
       "\n",
       "    .dataframe thead th {\n",
       "        text-align: right;\n",
       "    }\n",
       "</style>\n",
       "<table border=\"1\" class=\"dataframe\">\n",
       "  <thead>\n",
       "    <tr style=\"text-align: right;\">\n",
       "      <th></th>\n",
       "      <th>id</th>\n",
       "      <th>date</th>\n",
       "      <th>bedrooms</th>\n",
       "      <th>bathrooms</th>\n",
       "      <th>floors</th>\n",
       "      <th>waterfront</th>\n",
       "      <th>view</th>\n",
       "      <th>condition</th>\n",
       "      <th>grade</th>\n",
       "      <th>yr_built</th>\n",
       "      <th>yr_renovated</th>\n",
       "      <th>zipcode</th>\n",
       "      <th>lat</th>\n",
       "      <th>long</th>\n",
       "      <th>area</th>\n",
       "      <th>price_area</th>\n",
       "      <th>zipcode_price</th>\n",
       "      <th>trimester</th>\n",
       "    </tr>\n",
       "  </thead>\n",
       "  <tbody>\n",
       "    <tr>\n",
       "      <th>0</th>\n",
       "      <td>7129300520</td>\n",
       "      <td>2014-10-13</td>\n",
       "      <td>3</td>\n",
       "      <td>1.00</td>\n",
       "      <td>1.00</td>\n",
       "      <td>no</td>\n",
       "      <td>0</td>\n",
       "      <td>3</td>\n",
       "      <td>7</td>\n",
       "      <td>1955</td>\n",
       "      <td>0</td>\n",
       "      <td>98178</td>\n",
       "      <td>47.51</td>\n",
       "      <td>-122.26</td>\n",
       "      <td>5650</td>\n",
       "      <td>39.27</td>\n",
       "      <td>42.61</td>\n",
       "      <td>Fourth</td>\n",
       "    </tr>\n",
       "    <tr>\n",
       "      <th>1</th>\n",
       "      <td>6414100192</td>\n",
       "      <td>2014-12-09</td>\n",
       "      <td>3</td>\n",
       "      <td>2.25</td>\n",
       "      <td>2.00</td>\n",
       "      <td>no</td>\n",
       "      <td>0</td>\n",
       "      <td>3</td>\n",
       "      <td>7</td>\n",
       "      <td>1951</td>\n",
       "      <td>1991</td>\n",
       "      <td>98125</td>\n",
       "      <td>47.72</td>\n",
       "      <td>-122.32</td>\n",
       "      <td>7242</td>\n",
       "      <td>74.29</td>\n",
       "      <td>78.56</td>\n",
       "      <td>Fourth</td>\n",
       "    </tr>\n",
       "    <tr>\n",
       "      <th>2</th>\n",
       "      <td>5631500400</td>\n",
       "      <td>2015-02-25</td>\n",
       "      <td>2</td>\n",
       "      <td>1.00</td>\n",
       "      <td>1.00</td>\n",
       "      <td>no</td>\n",
       "      <td>0</td>\n",
       "      <td>3</td>\n",
       "      <td>6</td>\n",
       "      <td>1933</td>\n",
       "      <td>0</td>\n",
       "      <td>98028</td>\n",
       "      <td>47.74</td>\n",
       "      <td>-122.23</td>\n",
       "      <td>10000</td>\n",
       "      <td>18.00</td>\n",
       "      <td>55.71</td>\n",
       "      <td>First</td>\n",
       "    </tr>\n",
       "    <tr>\n",
       "      <th>3</th>\n",
       "      <td>2487200875</td>\n",
       "      <td>2014-12-09</td>\n",
       "      <td>4</td>\n",
       "      <td>3.00</td>\n",
       "      <td>1.00</td>\n",
       "      <td>no</td>\n",
       "      <td>0</td>\n",
       "      <td>5</td>\n",
       "      <td>7</td>\n",
       "      <td>1965</td>\n",
       "      <td>0</td>\n",
       "      <td>98136</td>\n",
       "      <td>47.52</td>\n",
       "      <td>-122.39</td>\n",
       "      <td>5000</td>\n",
       "      <td>120.80</td>\n",
       "      <td>126.71</td>\n",
       "      <td>Fourth</td>\n",
       "    </tr>\n",
       "    <tr>\n",
       "      <th>4</th>\n",
       "      <td>1954400510</td>\n",
       "      <td>2015-02-18</td>\n",
       "      <td>3</td>\n",
       "      <td>2.00</td>\n",
       "      <td>1.00</td>\n",
       "      <td>no</td>\n",
       "      <td>0</td>\n",
       "      <td>3</td>\n",
       "      <td>8</td>\n",
       "      <td>1987</td>\n",
       "      <td>0</td>\n",
       "      <td>98074</td>\n",
       "      <td>47.62</td>\n",
       "      <td>-122.05</td>\n",
       "      <td>8080</td>\n",
       "      <td>63.12</td>\n",
       "      <td>71.44</td>\n",
       "      <td>First</td>\n",
       "    </tr>\n",
       "  </tbody>\n",
       "</table>\n",
       "</div>"
      ],
      "text/plain": [
       "           id       date  bedrooms  bathrooms  floors waterfront  view  condition  grade  yr_built  yr_renovated  zipcode   lat    long   area  price_area  zipcode_price trimester\n",
       "0  7129300520 2014-10-13         3       1.00    1.00         no     0          3      7      1955             0    98178 47.51 -122.26   5650       39.27          42.61    Fourth\n",
       "1  6414100192 2014-12-09         3       2.25    2.00         no     0          3      7      1951          1991    98125 47.72 -122.32   7242       74.29          78.56    Fourth\n",
       "2  5631500400 2015-02-25         2       1.00    1.00         no     0          3      6      1933             0    98028 47.74 -122.23  10000       18.00          55.71     First\n",
       "3  2487200875 2014-12-09         4       3.00    1.00         no     0          5      7      1965             0    98136 47.52 -122.39   5000      120.80         126.71    Fourth\n",
       "4  1954400510 2015-02-18         3       2.00    1.00         no     0          3      8      1987             0    98074 47.62 -122.05   8080       63.12          71.44     First"
      ]
     },
     "execution_count": 85,
     "metadata": {},
     "output_type": "execute_result"
    }
   ],
   "source": [
    "df6.head()"
   ]
  },
  {
   "cell_type": "code",
   "execution_count": 86,
   "id": "73130364",
   "metadata": {
    "ExecuteTime": {
     "end_time": "2021-08-23T15:26:42.532381Z",
     "start_time": "2021-08-23T15:26:42.517422Z"
    }
   },
   "outputs": [
    {
     "data": {
      "text/html": [
       "<div>\n",
       "<style scoped>\n",
       "    .dataframe tbody tr th:only-of-type {\n",
       "        vertical-align: middle;\n",
       "    }\n",
       "\n",
       "    .dataframe tbody tr th {\n",
       "        vertical-align: top;\n",
       "    }\n",
       "\n",
       "    .dataframe thead th {\n",
       "        text-align: right;\n",
       "    }\n",
       "</style>\n",
       "<table border=\"1\" class=\"dataframe\">\n",
       "  <thead>\n",
       "    <tr style=\"text-align: right;\">\n",
       "      <th></th>\n",
       "      <th>trimester</th>\n",
       "      <th>id</th>\n",
       "    </tr>\n",
       "  </thead>\n",
       "  <tbody>\n",
       "    <tr>\n",
       "      <th>0</th>\n",
       "      <td>First</td>\n",
       "      <td>4100</td>\n",
       "    </tr>\n",
       "    <tr>\n",
       "      <th>1</th>\n",
       "      <td>Fourth</td>\n",
       "      <td>4755</td>\n",
       "    </tr>\n",
       "    <tr>\n",
       "      <th>2</th>\n",
       "      <td>Second</td>\n",
       "      <td>6820</td>\n",
       "    </tr>\n",
       "    <tr>\n",
       "      <th>3</th>\n",
       "      <td>Third</td>\n",
       "      <td>5921</td>\n",
       "    </tr>\n",
       "  </tbody>\n",
       "</table>\n",
       "</div>"
      ],
      "text/plain": [
       "  trimester    id\n",
       "0     First  4100\n",
       "1    Fourth  4755\n",
       "2    Second  6820\n",
       "3     Third  5921"
      ]
     },
     "execution_count": 86,
     "metadata": {},
     "output_type": "execute_result"
    }
   ],
   "source": [
    "trimester_sales = df6[['id','trimester']].groupby('trimester').count().reset_index()\n",
    "trimester_sales"
   ]
  },
  {
   "cell_type": "code",
   "execution_count": 87,
   "id": "eb4077cb",
   "metadata": {
    "ExecuteTime": {
     "end_time": "2021-08-23T15:26:44.681226Z",
     "start_time": "2021-08-23T15:26:44.656294Z"
    }
   },
   "outputs": [
    {
     "data": {
      "text/html": [
       "<div>\n",
       "<style scoped>\n",
       "    .dataframe tbody tr th:only-of-type {\n",
       "        vertical-align: middle;\n",
       "    }\n",
       "\n",
       "    .dataframe tbody tr th {\n",
       "        vertical-align: top;\n",
       "    }\n",
       "\n",
       "    .dataframe thead th {\n",
       "        text-align: right;\n",
       "    }\n",
       "</style>\n",
       "<table border=\"1\" class=\"dataframe\">\n",
       "  <thead>\n",
       "    <tr style=\"text-align: right;\">\n",
       "      <th></th>\n",
       "      <th>trimester</th>\n",
       "      <th>id</th>\n",
       "      <th>%</th>\n",
       "    </tr>\n",
       "  </thead>\n",
       "  <tbody>\n",
       "    <tr>\n",
       "      <th>0</th>\n",
       "      <td>First</td>\n",
       "      <td>4100</td>\n",
       "      <td>18.98</td>\n",
       "    </tr>\n",
       "    <tr>\n",
       "      <th>1</th>\n",
       "      <td>Fourth</td>\n",
       "      <td>4755</td>\n",
       "      <td>22.02</td>\n",
       "    </tr>\n",
       "    <tr>\n",
       "      <th>2</th>\n",
       "      <td>Second</td>\n",
       "      <td>6820</td>\n",
       "      <td>31.58</td>\n",
       "    </tr>\n",
       "    <tr>\n",
       "      <th>3</th>\n",
       "      <td>Third</td>\n",
       "      <td>5921</td>\n",
       "      <td>27.42</td>\n",
       "    </tr>\n",
       "  </tbody>\n",
       "</table>\n",
       "</div>"
      ],
      "text/plain": [
       "  trimester    id     %\n",
       "0     First  4100 18.98\n",
       "1    Fourth  4755 22.02\n",
       "2    Second  6820 31.58\n",
       "3     Third  5921 27.42"
      ]
     },
     "execution_count": 87,
     "metadata": {},
     "output_type": "execute_result"
    }
   ],
   "source": [
    "trimester_sales['%'] = (trimester_sales['id'] / total_houses) * 100\n",
    "trimester_sales"
   ]
  },
  {
   "cell_type": "code",
   "execution_count": 88,
   "id": "b3bb4271",
   "metadata": {
    "ExecuteTime": {
     "end_time": "2021-08-23T15:27:50.211339Z",
     "start_time": "2021-08-23T15:27:50.197377Z"
    },
    "scrolled": true
   },
   "outputs": [
    {
     "name": "stdout",
     "output_type": "stream",
     "text": [
      "The second trimester is when most houses were sold, and the lower number of houses where negociated in the first trimester\n"
     ]
    }
   ],
   "source": [
    "print('The second trimester is when most houses were sold, and the lower number of houses where negociated in the first trimester')"
   ]
  },
  {
   "cell_type": "markdown",
   "id": "ef771d33",
   "metadata": {},
   "source": [
    "## There is a main categorical feature that raise the prices."
   ]
  },
  {
   "cell_type": "code",
   "execution_count": 89,
   "id": "d0f8a8dc",
   "metadata": {
    "ExecuteTime": {
     "end_time": "2021-08-23T15:27:53.401707Z",
     "start_time": "2021-08-23T15:27:52.815037Z"
    },
    "scrolled": true
   },
   "outputs": [
    {
     "data": {
      "image/png": "[encoded data removed]",
      "text/plain": [
       "<Figure size 1800x864 with 2 Axes>"
      ]
     },
     "metadata": {},
     "output_type": "display_data"
    }
   ],
   "source": [
    "sns.heatmap(cat_attributes.corr(), annot=True, vmin = -1, vmax=1, cmap='coolwarm')\n",
    "#annot to put the correlations inside the graph\n",
    "#coolwarm - coll to hot collors\n",
    "plt.title('\\nHEATMAP OF CORRELATIONS FOR CATEGORICAL ATTRIBUTES\\n')\n",
    "plt.savefig(r'../reports/figures/cat_heatmap.png')"
   ]
  },
  {
   "cell_type": "markdown",
   "id": "980ade6c",
   "metadata": {},
   "source": [
    "## There is a main numerical feature that raise the prices"
   ]
  },
  {
   "cell_type": "code",
   "execution_count": 90,
   "id": "f023d509",
   "metadata": {
    "ExecuteTime": {
     "end_time": "2021-08-23T15:27:56.003636Z",
     "start_time": "2021-08-23T15:27:55.565189Z"
    }
   },
   "outputs": [
    {
     "data": {
      "image/png": "[encoded data removed]",
      "text/plain": [
       "<Figure size 1800x864 with 2 Axes>"
      ]
     },
     "metadata": {},
     "output_type": "display_data"
    }
   ],
   "source": [
    "sns.heatmap(num_attributes.corr(), annot=True, vmin = -1, vmax=1, cmap='coolwarm')\n",
    "plt.title('\\nHEATMAP OF CORRELATIONS FOR NUMERICAL ATTRIBUTES\\n')\n",
    "plt.savefig(r'../reports/figures/num_heatmap.png')"
   ]
  },
  {
   "cell_type": "code",
   "execution_count": 91,
   "id": "a68290fc",
   "metadata": {
    "ExecuteTime": {
     "end_time": "2021-08-23T15:27:56.548837Z",
     "start_time": "2021-08-23T15:27:56.541829Z"
    }
   },
   "outputs": [
    {
     "name": "stdout",
     "output_type": "stream",
     "text": [
      "Among the numerical attributes beyond the obvious relationship between price/area and price/location (zipcode),  the number of floors is the feature that has more correlation with the price\n"
     ]
    }
   ],
   "source": [
    "print('Among the numerical attributes beyond the obvious relationship between price/area and price/location (zipcode),  the number of floors is the feature that has more correlation with the price')"
   ]
  },
  {
   "cell_type": "code",
   "execution_count": 92,
   "id": "ccdd4733",
   "metadata": {
    "ExecuteTime": {
     "end_time": "2021-08-23T15:28:00.209002Z",
     "start_time": "2021-08-23T15:28:00.200013Z"
    }
   },
   "outputs": [
    {
     "name": "stdout",
     "output_type": "stream",
     "text": [
      "We can go beyound and discover how much the number of floors affect the prices\n"
     ]
    }
   ],
   "source": [
    "print( 'We can go beyound and discover how much the number of floors affect the prices')"
   ]
  },
  {
   "cell_type": "code",
   "execution_count": 93,
   "id": "17ab6590",
   "metadata": {
    "ExecuteTime": {
     "end_time": "2021-08-23T15:28:01.921831Z",
     "start_time": "2021-08-23T15:28:01.583833Z"
    }
   },
   "outputs": [
    {
     "data": {
      "image/png": "[encoded data removed]",
      "text/plain": [
       "<Figure size 1800x864 with 1 Axes>"
      ]
     },
     "metadata": {},
     "output_type": "display_data"
    }
   ],
   "source": [
    "aux66 = num_attributes[['floors', 'price_area']].groupby('floors').mean().reset_index()\n",
    "sns.barplot(data=aux66, x='floors', y='price_area').set_title('Average Price X Number of Floors')\n",
    "plt.savefig(r'../reports/figures/avg_price_floors.png')"
   ]
  },
  {
   "cell_type": "code",
   "execution_count": 94,
   "id": "f73b1878",
   "metadata": {
    "ExecuteTime": {
     "end_time": "2021-08-23T15:28:02.698486Z",
     "start_time": "2021-08-23T15:28:02.694496Z"
    }
   },
   "outputs": [],
   "source": [
    "aux66.columns = ['floors', 'avg_price/area']"
   ]
  },
  {
   "cell_type": "code",
   "execution_count": 95,
   "id": "9ee02132",
   "metadata": {
    "ExecuteTime": {
     "end_time": "2021-08-23T15:28:04.048748Z",
     "start_time": "2021-08-23T15:28:04.023784Z"
    }
   },
   "outputs": [
    {
     "data": {
      "text/html": [
       "<div>\n",
       "<style scoped>\n",
       "    .dataframe tbody tr th:only-of-type {\n",
       "        vertical-align: middle;\n",
       "    }\n",
       "\n",
       "    .dataframe tbody tr th {\n",
       "        vertical-align: top;\n",
       "    }\n",
       "\n",
       "    .dataframe thead th {\n",
       "        text-align: right;\n",
       "    }\n",
       "</style>\n",
       "<table border=\"1\" class=\"dataframe\">\n",
       "  <thead>\n",
       "    <tr style=\"text-align: right;\">\n",
       "      <th></th>\n",
       "      <th>floors</th>\n",
       "      <th>avg_price/area</th>\n",
       "      <th>increase_floor</th>\n",
       "    </tr>\n",
       "  </thead>\n",
       "  <tbody>\n",
       "    <tr>\n",
       "      <th>0</th>\n",
       "      <td>1.00</td>\n",
       "      <td>55.18</td>\n",
       "      <td>100.01</td>\n",
       "    </tr>\n",
       "    <tr>\n",
       "      <th>1</th>\n",
       "      <td>1.50</td>\n",
       "      <td>98.42</td>\n",
       "      <td>178.36</td>\n",
       "    </tr>\n",
       "    <tr>\n",
       "      <th>2</th>\n",
       "      <td>2.00</td>\n",
       "      <td>104.76</td>\n",
       "      <td>189.85</td>\n",
       "    </tr>\n",
       "    <tr>\n",
       "      <th>3</th>\n",
       "      <td>2.50</td>\n",
       "      <td>193.55</td>\n",
       "      <td>350.77</td>\n",
       "    </tr>\n",
       "    <tr>\n",
       "      <th>4</th>\n",
       "      <td>3.00</td>\n",
       "      <td>294.36</td>\n",
       "      <td>533.46</td>\n",
       "    </tr>\n",
       "    <tr>\n",
       "      <th>5</th>\n",
       "      <td>3.50</td>\n",
       "      <td>325.09</td>\n",
       "      <td>589.15</td>\n",
       "    </tr>\n",
       "  </tbody>\n",
       "</table>\n",
       "</div>"
      ],
      "text/plain": [
       "   floors  avg_price/area  increase_floor\n",
       "0    1.00           55.18          100.01\n",
       "1    1.50           98.42          178.36\n",
       "2    2.00          104.76          189.85\n",
       "3    2.50          193.55          350.77\n",
       "4    3.00          294.36          533.46\n",
       "5    3.50          325.09          589.15"
      ]
     },
     "execution_count": 95,
     "metadata": {},
     "output_type": "execute_result"
    }
   ],
   "source": [
    "aux66['increase_floor'] = ((aux66['avg_price/area'] * 100) / 55.18)\n",
    "aux66"
   ]
  },
  {
   "cell_type": "markdown",
   "id": "96b78999",
   "metadata": {},
   "source": [
    "For each floor addictioned, there is a average rise about 118% in the price."
   ]
  },
  {
   "cell_type": "markdown",
   "id": "a7513547",
   "metadata": {},
   "source": [
    "# Business Insights"
   ]
  },
  {
   "cell_type": "code",
   "execution_count": 112,
   "id": "2da45543",
   "metadata": {
    "ExecuteTime": {
     "end_time": "2021-08-23T15:42:35.914775Z",
     "start_time": "2021-08-23T15:42:35.904802Z"
    }
   },
   "outputs": [],
   "source": [
    "df7 = df6.copy()"
   ]
  },
  {
   "cell_type": "markdown",
   "id": "26fb02ea",
   "metadata": {},
   "source": [
    "## Houses with price below the average price for the zip code would be a good deal"
   ]
  },
  {
   "cell_type": "code",
   "execution_count": 133,
   "id": "7b34a1b3",
   "metadata": {
    "ExecuteTime": {
     "end_time": "2021-08-23T16:02:01.441367Z",
     "start_time": "2021-08-23T16:02:01.425372Z"
    }
   },
   "outputs": [
    {
     "data": {
      "text/html": [
       "<div>\n",
       "<style scoped>\n",
       "    .dataframe tbody tr th:only-of-type {\n",
       "        vertical-align: middle;\n",
       "    }\n",
       "\n",
       "    .dataframe tbody tr th {\n",
       "        vertical-align: top;\n",
       "    }\n",
       "\n",
       "    .dataframe thead th {\n",
       "        text-align: right;\n",
       "    }\n",
       "</style>\n",
       "<table border=\"1\" class=\"dataframe\">\n",
       "  <thead>\n",
       "    <tr style=\"text-align: right;\">\n",
       "      <th></th>\n",
       "      <th>id</th>\n",
       "      <th>price_area</th>\n",
       "      <th>area</th>\n",
       "      <th>zipcode_price</th>\n",
       "      <th>condition</th>\n",
       "    </tr>\n",
       "  </thead>\n",
       "  <tbody>\n",
       "    <tr>\n",
       "      <th>0</th>\n",
       "      <td>7129300520</td>\n",
       "      <td>39.27</td>\n",
       "      <td>5650</td>\n",
       "      <td>42.61</td>\n",
       "      <td>3</td>\n",
       "    </tr>\n",
       "    <tr>\n",
       "      <th>1</th>\n",
       "      <td>6414100192</td>\n",
       "      <td>74.29</td>\n",
       "      <td>7242</td>\n",
       "      <td>78.56</td>\n",
       "      <td>3</td>\n",
       "    </tr>\n",
       "    <tr>\n",
       "      <th>2</th>\n",
       "      <td>5631500400</td>\n",
       "      <td>18.00</td>\n",
       "      <td>10000</td>\n",
       "      <td>55.71</td>\n",
       "      <td>3</td>\n",
       "    </tr>\n",
       "    <tr>\n",
       "      <th>3</th>\n",
       "      <td>2487200875</td>\n",
       "      <td>120.80</td>\n",
       "      <td>5000</td>\n",
       "      <td>126.71</td>\n",
       "      <td>5</td>\n",
       "    </tr>\n",
       "    <tr>\n",
       "      <th>4</th>\n",
       "      <td>1954400510</td>\n",
       "      <td>63.12</td>\n",
       "      <td>8080</td>\n",
       "      <td>71.44</td>\n",
       "      <td>3</td>\n",
       "    </tr>\n",
       "  </tbody>\n",
       "</table>\n",
       "</div>"
      ],
      "text/plain": [
       "           id  price_area   area  zipcode_price  condition\n",
       "0  7129300520       39.27   5650          42.61          3\n",
       "1  6414100192       74.29   7242          78.56          3\n",
       "2  5631500400       18.00  10000          55.71          3\n",
       "3  2487200875      120.80   5000         126.71          5\n",
       "4  1954400510       63.12   8080          71.44          3"
      ]
     },
     "execution_count": 133,
     "metadata": {},
     "output_type": "execute_result"
    }
   ],
   "source": [
    "aux7 = df7[['id','price_area','area','zipcode_price', 'condition']]\n",
    "cheap_price = aux7[aux7['price_area'] <= aux7['zipcode_price']]\n",
    "cheap_price.head()"
   ]
  },
  {
   "cell_type": "code",
   "execution_count": 134,
   "id": "20b265a6",
   "metadata": {
    "ExecuteTime": {
     "end_time": "2021-08-23T16:02:03.794707Z",
     "start_time": "2021-08-23T16:02:03.776792Z"
    }
   },
   "outputs": [
    {
     "name": "stderr",
     "output_type": "stream",
     "text": [
      "<ipython-input-134-0c93bd700231>:1: SettingWithCopyWarning: \n",
      "A value is trying to be set on a copy of a slice from a DataFrame.\n",
      "Try using .loc[row_indexer,col_indexer] = value instead\n",
      "\n",
      "See the caveats in the documentation: https://pandas.pydata.org/pandas-docs/stable/user_guide/indexing.html#returning-a-view-versus-a-copy\n",
      "  cheap_price['profit'] = (cheap_price['zipcode_price'] - cheap_price['price_area']) * cheap_price['area']\n"
     ]
    }
   ],
   "source": [
    "cheap_price['profit'] = (cheap_price['zipcode_price'] - cheap_price['price_area']) * cheap_price['area']\n",
    "total_profit = cheap_price['profit'].sum()"
   ]
  },
  {
   "cell_type": "code",
   "execution_count": 135,
   "id": "bbce1a51",
   "metadata": {
    "ExecuteTime": {
     "end_time": "2021-08-23T16:02:04.307311Z",
     "start_time": "2021-08-23T16:02:04.301301Z"
    }
   },
   "outputs": [
    {
     "name": "stdout",
     "output_type": "stream",
     "text": [
      "There is 13097 houses who price is below the average price for its region. This houses should be bought. The profi earned is about U$ 8997560380.03\n"
     ]
    }
   ],
   "source": [
    "print('There is {} houses who price is below the average price for its region. This houses should be bought. The profi earned is about U$ {:.2f}'.format(cheap_price.shape[0], total_profit))"
   ]
  },
  {
   "cell_type": "markdown",
   "id": "80ba1223",
   "metadata": {},
   "source": [
    "## Houses with price below the average price for the zip code AND condition equal '2' and '4' would be a good opportunity to high the grade and profit"
   ]
  },
  {
   "cell_type": "code",
   "execution_count": 136,
   "id": "55e7d24a",
   "metadata": {
    "ExecuteTime": {
     "end_time": "2021-08-23T16:02:07.342465Z",
     "start_time": "2021-08-23T16:02:07.323516Z"
    }
   },
   "outputs": [
    {
     "data": {
      "text/html": [
       "<div>\n",
       "<style scoped>\n",
       "    .dataframe tbody tr th:only-of-type {\n",
       "        vertical-align: middle;\n",
       "    }\n",
       "\n",
       "    .dataframe tbody tr th {\n",
       "        vertical-align: top;\n",
       "    }\n",
       "\n",
       "    .dataframe thead th {\n",
       "        text-align: right;\n",
       "    }\n",
       "</style>\n",
       "<table border=\"1\" class=\"dataframe\">\n",
       "  <thead>\n",
       "    <tr style=\"text-align: right;\">\n",
       "      <th></th>\n",
       "      <th>id</th>\n",
       "      <th>price_area</th>\n",
       "      <th>area</th>\n",
       "      <th>zipcode_price</th>\n",
       "      <th>condition</th>\n",
       "      <th>profit</th>\n",
       "    </tr>\n",
       "  </thead>\n",
       "  <tbody>\n",
       "    <tr>\n",
       "      <th>38</th>\n",
       "      <td>7895500070</td>\n",
       "      <td>29.72</td>\n",
       "      <td>8075</td>\n",
       "      <td>30.87</td>\n",
       "      <td>2</td>\n",
       "      <td>9288.38</td>\n",
       "    </tr>\n",
       "    <tr>\n",
       "      <th>242</th>\n",
       "      <td>1868901275</td>\n",
       "      <td>91.00</td>\n",
       "      <td>5000</td>\n",
       "      <td>137.12</td>\n",
       "      <td>2</td>\n",
       "      <td>230604.84</td>\n",
       "    </tr>\n",
       "    <tr>\n",
       "      <th>328</th>\n",
       "      <td>1665400045</td>\n",
       "      <td>24.41</td>\n",
       "      <td>7636</td>\n",
       "      <td>39.82</td>\n",
       "      <td>2</td>\n",
       "      <td>117725.23</td>\n",
       "    </tr>\n",
       "    <tr>\n",
       "      <th>465</th>\n",
       "      <td>8658300340</td>\n",
       "      <td>15.84</td>\n",
       "      <td>5050</td>\n",
       "      <td>17.77</td>\n",
       "      <td>2</td>\n",
       "      <td>9763.25</td>\n",
       "    </tr>\n",
       "    <tr>\n",
       "      <th>702</th>\n",
       "      <td>6205500030</td>\n",
       "      <td>45.39</td>\n",
       "      <td>10575</td>\n",
       "      <td>60.92</td>\n",
       "      <td>2</td>\n",
       "      <td>164213.76</td>\n",
       "    </tr>\n",
       "  </tbody>\n",
       "</table>\n",
       "</div>"
      ],
      "text/plain": [
       "             id  price_area   area  zipcode_price  condition    profit\n",
       "38   7895500070       29.72   8075          30.87          2   9288.38\n",
       "242  1868901275       91.00   5000         137.12          2 230604.84\n",
       "328  1665400045       24.41   7636          39.82          2 117725.23\n",
       "465  8658300340       15.84   5050          17.77          2   9763.25\n",
       "702  6205500030       45.39  10575          60.92          2 164213.76"
      ]
     },
     "execution_count": 136,
     "metadata": {},
     "output_type": "execute_result"
    }
   ],
   "source": [
    "cheap_price_2 = cheap_price[cheap_price['condition'] == 2]\n",
    "cheap_price_2.head()"
   ]
  },
  {
   "cell_type": "code",
   "execution_count": 137,
   "id": "945deb7a",
   "metadata": {
    "ExecuteTime": {
     "end_time": "2021-08-23T16:02:18.348737Z",
     "start_time": "2021-08-23T16:02:18.334743Z"
    }
   },
   "outputs": [
    {
     "data": {
      "text/html": [
       "<div>\n",
       "<style scoped>\n",
       "    .dataframe tbody tr th:only-of-type {\n",
       "        vertical-align: middle;\n",
       "    }\n",
       "\n",
       "    .dataframe tbody tr th {\n",
       "        vertical-align: top;\n",
       "    }\n",
       "\n",
       "    .dataframe thead th {\n",
       "        text-align: right;\n",
       "    }\n",
       "</style>\n",
       "<table border=\"1\" class=\"dataframe\">\n",
       "  <thead>\n",
       "    <tr style=\"text-align: right;\">\n",
       "      <th></th>\n",
       "      <th>id</th>\n",
       "      <th>price_area</th>\n",
       "      <th>area</th>\n",
       "      <th>zipcode_price</th>\n",
       "      <th>condition</th>\n",
       "      <th>profit</th>\n",
       "    </tr>\n",
       "  </thead>\n",
       "  <tbody>\n",
       "    <tr>\n",
       "      <th>11</th>\n",
       "      <td>9212900260</td>\n",
       "      <td>78.00</td>\n",
       "      <td>6000</td>\n",
       "      <td>137.12</td>\n",
       "      <td>4</td>\n",
       "      <td>354725.80</td>\n",
       "    </tr>\n",
       "    <tr>\n",
       "      <th>12</th>\n",
       "      <td>114101516</td>\n",
       "      <td>15.58</td>\n",
       "      <td>19901</td>\n",
       "      <td>55.71</td>\n",
       "      <td>4</td>\n",
       "      <td>798716.16</td>\n",
       "    </tr>\n",
       "    <tr>\n",
       "      <th>13</th>\n",
       "      <td>6054650070</td>\n",
       "      <td>41.32</td>\n",
       "      <td>9680</td>\n",
       "      <td>71.44</td>\n",
       "      <td>4</td>\n",
       "      <td>291553.14</td>\n",
       "    </tr>\n",
       "    <tr>\n",
       "      <th>17</th>\n",
       "      <td>6865200140</td>\n",
       "      <td>112.79</td>\n",
       "      <td>4300</td>\n",
       "      <td>204.90</td>\n",
       "      <td>4</td>\n",
       "      <td>396050.02</td>\n",
       "    </tr>\n",
       "    <tr>\n",
       "      <th>18</th>\n",
       "      <td>16000397</td>\n",
       "      <td>19.19</td>\n",
       "      <td>9850</td>\n",
       "      <td>37.27</td>\n",
       "      <td>4</td>\n",
       "      <td>178096.15</td>\n",
       "    </tr>\n",
       "  </tbody>\n",
       "</table>\n",
       "</div>"
      ],
      "text/plain": [
       "            id  price_area   area  zipcode_price  condition    profit\n",
       "11  9212900260       78.00   6000         137.12          4 354725.80\n",
       "12   114101516       15.58  19901          55.71          4 798716.16\n",
       "13  6054650070       41.32   9680          71.44          4 291553.14\n",
       "17  6865200140      112.79   4300         204.90          4 396050.02\n",
       "18    16000397       19.19   9850          37.27          4 178096.15"
      ]
     },
     "execution_count": 137,
     "metadata": {},
     "output_type": "execute_result"
    }
   ],
   "source": [
    "cheap_price_4 = cheap_price[cheap_price['condition'] == 4]\n",
    "cheap_price_4.head()"
   ]
  },
  {
   "cell_type": "code",
   "execution_count": 138,
   "id": "ad50df27",
   "metadata": {
    "ExecuteTime": {
     "end_time": "2021-08-23T16:02:23.853399Z",
     "start_time": "2021-08-23T16:02:23.840356Z"
    }
   },
   "outputs": [
    {
     "name": "stdout",
     "output_type": "stream",
     "text": [
      "There are 4443 houses whos price is below the average price for its region and the condition is equal 2 or 4.\n",
      " This houses should be bought and evaluate the retrofit to sell with a major profit.\n"
     ]
    }
   ],
   "source": [
    "print('There are {} houses whos price is below the average price for its region and the condition is equal 2 or 4.\\n This houses should be bought and evaluate the retrofit to sell with a major profit.'.format(cheap_price_2.shape[0]+cheap_price_4.shape[0]))"
   ]
  },
  {
   "cell_type": "code",
   "execution_count": null,
   "id": "3591288b",
   "metadata": {},
   "outputs": [],
   "source": []
  },
  {
   "cell_type": "code",
   "execution_count": null,
   "id": "72cdb111",
   "metadata": {},
   "outputs": [],
   "source": []
  },
  {
   "cell_type": "code",
   "execution_count": null,
   "id": "ccc6b706",
   "metadata": {},
   "outputs": [],
   "source": []
  },
  {
   "cell_type": "code",
   "execution_count": null,
   "id": "165f25d7",
   "metadata": {},
   "outputs": [],
   "source": []
  },
  {
   "cell_type": "markdown",
   "id": "8eba168c",
   "metadata": {
    "ExecuteTime": {
     "end_time": "2021-08-04T19:39:09.849081Z",
     "start_time": "2021-08-04T19:39:07.839Z"
    },
    "heading_collapsed": true
   },
   "source": [
    "# Conclusion"
   ]
  },
  {
   "cell_type": "markdown",
   "id": "fab38ba6",
   "metadata": {
    "ExecuteTime": {
     "end_time": "2021-08-18T17:42:04.786934Z",
     "start_time": "2021-08-18T17:42:04.771945Z"
    },
    "hidden": true
   },
   "source": [
    "Produtos finais\n",
    "Lista de imóveis para compra\n",
    "Lista de imóveis para compra e reforma\n",
    "Mapa com todos os imóveis e diferenciando pelo preço\n",
    "App"
   ]
  },
  {
   "cell_type": "markdown",
   "id": "3f7bcaff",
   "metadata": {
    "ExecuteTime": {
     "end_time": "2021-08-04T19:39:09.850085Z",
     "start_time": "2021-08-04T19:39:07.842Z"
    }
   },
   "source": [
    "# Next steps"
   ]
  },
  {
   "cell_type": "markdown",
   "id": "1c91f9cd",
   "metadata": {
    "ExecuteTime": {
     "end_time": "2021-08-09T13:52:33.239479Z",
     "start_time": "2021-08-09T13:52:33.225486Z"
    }
   },
   "source": [
    "- Defining a % for 2-condition houses, it can be bought more houses\n",
    "- Expand the study for retrofit to 4-condition houses\n",
    "- Use ML models to find clusters among the houses and classify them\n",
    "- Can use the data to a simple regression model to the price of selling future houses"
   ]
  }
 ],
 "metadata": {
  "kernelspec": {
   "display_name": "Python 3",
   "language": "python",
   "name": "python3"
  },
  "language_info": {
   "codemirror_mode": {
    "name": "ipython",
    "version": 3
   },
   "file_extension": ".py",
   "mimetype": "text/x-python",
   "name": "python",
   "nbconvert_exporter": "python",
   "pygments_lexer": "ipython3",
   "version": "3.8.10"
  },
  "toc": {
   "base_numbering": "0",
   "nav_menu": {},
   "number_sections": true,
   "sideBar": true,
   "skip_h1_title": false,
   "title_cell": "Table of Contents",
   "title_sidebar": "Contents",
   "toc_cell": false,
   "toc_position": {},
   "toc_section_display": true,
   "toc_window_display": false
  }
 },
 "nbformat": 4,
 "nbformat_minor": 5
}
