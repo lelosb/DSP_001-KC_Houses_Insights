{
 "cells": [
  {
   "cell_type": "markdown",
   "id": "43c12e6f",
   "metadata": {
    "heading_collapsed": true
   },
   "source": [
    "# King Count Houses - Insights  Project"
   ]
  },
  {
   "cell_type": "markdown",
   "id": "31a537a6",
   "metadata": {
    "ExecuteTime": {
     "end_time": "2021-06-28T15:33:39.487347Z",
     "start_time": "2021-06-28T15:33:39.146704Z"
    },
    "heading_collapsed": true
   },
   "source": [
    "# Basic setups"
   ]
  },
  {
   "cell_type": "markdown",
   "id": "5188af92",
   "metadata": {
    "ExecuteTime": {
     "end_time": "2021-06-28T15:33:39.487347Z",
     "start_time": "2021-06-28T15:33:39.146704Z"
    },
    "heading_collapsed": true,
    "hidden": true
   },
   "source": [
    "## IMPORTS"
   ]
  },
  {
   "cell_type": "code",
   "execution_count": 1,
   "id": "c705bc40",
   "metadata": {
    "ExecuteTime": {
     "end_time": "2021-08-17T19:52:57.853528Z",
     "start_time": "2021-08-17T19:52:56.649116Z"
    },
    "hidden": true
   },
   "outputs": [],
   "source": [
    "import math\n",
    "import plotly.express as px\n",
    "import pandas as pd\n",
    "from IPython.core.display     import HTML\n",
    "import seaborn       as sns\n",
    "import datetime\n",
    "import ipywidgets as widgets\n",
    "from   ipywidgets import fixed\n",
    "import matplotlib.pyplot as plt"
   ]
  },
  {
   "cell_type": "markdown",
   "id": "3751aad5",
   "metadata": {
    "heading_collapsed": true,
    "hidden": true
   },
   "source": [
    "## Helper functions"
   ]
  },
  {
   "cell_type": "code",
   "execution_count": 2,
   "id": "85bfe522",
   "metadata": {
    "ExecuteTime": {
     "end_time": "2021-08-17T19:52:57.883660Z",
     "start_time": "2021-08-17T19:52:57.854373Z"
    },
    "hidden": true
   },
   "outputs": [
    {
     "name": "stdout",
     "output_type": "stream",
     "text": [
      "Populating the interactive namespace from numpy and matplotlib\n"
     ]
    },
    {
     "data": {
      "text/html": [
       "<style>.container { width:100% !important; }</style>"
      ],
      "text/plain": [
       "<IPython.core.display.HTML object>"
      ]
     },
     "metadata": {},
     "output_type": "display_data"
    }
   ],
   "source": [
    "def jupyter_settings():\n",
    "    %matplotlib inline\n",
    "    %pylab inline\n",
    "    plt.style.use( 'bmh' )\n",
    "    plt.rcParams['figure.figsize'] = [25, 12]\n",
    "    plt.rcParams['font.size'] = 24\n",
    "    display( HTML( '<style>.container { width:100% !important; }</style>') )\n",
    "    pd.options.display.max_columns = None\n",
    "    pd.options.display.max_rows = None\n",
    "    pd.set_option( 'display.expand_frame_repr', False )\n",
    "    sns.set()\n",
    "jupyter_settings()"
   ]
  },
  {
   "cell_type": "markdown",
   "id": "91a3595d",
   "metadata": {
    "ExecuteTime": {
     "end_time": "2021-06-28T22:15:13.510514Z",
     "start_time": "2021-06-28T22:15:13.498546Z"
    }
   },
   "source": [
    "# Data Description"
   ]
  },
  {
   "cell_type": "markdown",
   "id": "f25c7714",
   "metadata": {},
   "source": [
    "## Data Load"
   ]
  },
  {
   "cell_type": "code",
   "execution_count": 3,
   "id": "eb461e26",
   "metadata": {
    "ExecuteTime": {
     "end_time": "2021-08-17T19:52:57.946787Z",
     "start_time": "2021-08-17T19:52:57.885655Z"
    }
   },
   "outputs": [],
   "source": [
    "df_raw = pd.read_csv(r'../data/raw/kc_house_data.csv') "
   ]
  },
  {
   "cell_type": "markdown",
   "id": "36b47910",
   "metadata": {
    "ExecuteTime": {
     "end_time": "2021-08-02T17:59:47.486649Z",
     "start_time": "2021-08-02T17:59:47.468664Z"
    }
   },
   "source": [
    "## Data Overview"
   ]
  },
  {
   "cell_type": "code",
   "execution_count": 4,
   "id": "d006be8a",
   "metadata": {
    "ExecuteTime": {
     "end_time": "2021-08-17T19:52:57.977731Z",
     "start_time": "2021-08-17T19:52:57.947789Z"
    }
   },
   "outputs": [
    {
     "data": {
      "text/html": [
       "<div>\n",
       "<style scoped>\n",
       "    .dataframe tbody tr th:only-of-type {\n",
       "        vertical-align: middle;\n",
       "    }\n",
       "\n",
       "    .dataframe tbody tr th {\n",
       "        vertical-align: top;\n",
       "    }\n",
       "\n",
       "    .dataframe thead th {\n",
       "        text-align: right;\n",
       "    }\n",
       "</style>\n",
       "<table border=\"1\" class=\"dataframe\">\n",
       "  <thead>\n",
       "    <tr style=\"text-align: right;\">\n",
       "      <th></th>\n",
       "      <th>id</th>\n",
       "      <th>date</th>\n",
       "      <th>price</th>\n",
       "      <th>bedrooms</th>\n",
       "      <th>bathrooms</th>\n",
       "      <th>sqft_living</th>\n",
       "      <th>sqft_lot</th>\n",
       "      <th>floors</th>\n",
       "      <th>waterfront</th>\n",
       "      <th>view</th>\n",
       "      <th>condition</th>\n",
       "      <th>grade</th>\n",
       "      <th>sqft_above</th>\n",
       "      <th>sqft_basement</th>\n",
       "      <th>yr_built</th>\n",
       "      <th>yr_renovated</th>\n",
       "      <th>zipcode</th>\n",
       "      <th>lat</th>\n",
       "      <th>long</th>\n",
       "      <th>sqft_living15</th>\n",
       "      <th>sqft_lot15</th>\n",
       "    </tr>\n",
       "  </thead>\n",
       "  <tbody>\n",
       "    <tr>\n",
       "      <th>16907</th>\n",
       "      <td>3530420020</td>\n",
       "      <td>20140711T000000</td>\n",
       "      <td>162950.0</td>\n",
       "      <td>2</td>\n",
       "      <td>1.0</td>\n",
       "      <td>950</td>\n",
       "      <td>2784</td>\n",
       "      <td>1.0</td>\n",
       "      <td>0</td>\n",
       "      <td>0</td>\n",
       "      <td>4</td>\n",
       "      <td>8</td>\n",
       "      <td>950</td>\n",
       "      <td>0</td>\n",
       "      <td>1972</td>\n",
       "      <td>0</td>\n",
       "      <td>98198</td>\n",
       "      <td>47.3793</td>\n",
       "      <td>-122.321</td>\n",
       "      <td>1080</td>\n",
       "      <td>3899</td>\n",
       "    </tr>\n",
       "    <tr>\n",
       "      <th>8548</th>\n",
       "      <td>2991000220</td>\n",
       "      <td>20150317T000000</td>\n",
       "      <td>330000.0</td>\n",
       "      <td>4</td>\n",
       "      <td>2.5</td>\n",
       "      <td>2310</td>\n",
       "      <td>6320</td>\n",
       "      <td>2.0</td>\n",
       "      <td>0</td>\n",
       "      <td>0</td>\n",
       "      <td>3</td>\n",
       "      <td>8</td>\n",
       "      <td>2310</td>\n",
       "      <td>0</td>\n",
       "      <td>1997</td>\n",
       "      <td>0</td>\n",
       "      <td>98092</td>\n",
       "      <td>47.3287</td>\n",
       "      <td>-122.167</td>\n",
       "      <td>1850</td>\n",
       "      <td>6181</td>\n",
       "    </tr>\n",
       "    <tr>\n",
       "      <th>14246</th>\n",
       "      <td>4099100210</td>\n",
       "      <td>20140813T000000</td>\n",
       "      <td>545000.0</td>\n",
       "      <td>3</td>\n",
       "      <td>2.5</td>\n",
       "      <td>1900</td>\n",
       "      <td>3366</td>\n",
       "      <td>2.0</td>\n",
       "      <td>0</td>\n",
       "      <td>0</td>\n",
       "      <td>3</td>\n",
       "      <td>9</td>\n",
       "      <td>1900</td>\n",
       "      <td>0</td>\n",
       "      <td>1996</td>\n",
       "      <td>0</td>\n",
       "      <td>98033</td>\n",
       "      <td>47.6679</td>\n",
       "      <td>-122.184</td>\n",
       "      <td>2500</td>\n",
       "      <td>3954</td>\n",
       "    </tr>\n",
       "    <tr>\n",
       "      <th>1728</th>\n",
       "      <td>1823059205</td>\n",
       "      <td>20140604T000000</td>\n",
       "      <td>200000.0</td>\n",
       "      <td>3</td>\n",
       "      <td>1.5</td>\n",
       "      <td>2060</td>\n",
       "      <td>15837</td>\n",
       "      <td>1.5</td>\n",
       "      <td>0</td>\n",
       "      <td>0</td>\n",
       "      <td>3</td>\n",
       "      <td>6</td>\n",
       "      <td>2060</td>\n",
       "      <td>0</td>\n",
       "      <td>1903</td>\n",
       "      <td>0</td>\n",
       "      <td>98055</td>\n",
       "      <td>47.4819</td>\n",
       "      <td>-122.223</td>\n",
       "      <td>2190</td>\n",
       "      <td>8549</td>\n",
       "    </tr>\n",
       "    <tr>\n",
       "      <th>3869</th>\n",
       "      <td>1732800820</td>\n",
       "      <td>20140619T000000</td>\n",
       "      <td>1325000.0</td>\n",
       "      <td>4</td>\n",
       "      <td>2.5</td>\n",
       "      <td>2440</td>\n",
       "      <td>3600</td>\n",
       "      <td>2.5</td>\n",
       "      <td>0</td>\n",
       "      <td>0</td>\n",
       "      <td>4</td>\n",
       "      <td>8</td>\n",
       "      <td>2440</td>\n",
       "      <td>0</td>\n",
       "      <td>1902</td>\n",
       "      <td>0</td>\n",
       "      <td>98119</td>\n",
       "      <td>47.6298</td>\n",
       "      <td>-122.362</td>\n",
       "      <td>2440</td>\n",
       "      <td>5440</td>\n",
       "    </tr>\n",
       "  </tbody>\n",
       "</table>\n",
       "</div>"
      ],
      "text/plain": [
       "               id             date      price  bedrooms  bathrooms  sqft_living  sqft_lot  floors  waterfront  view  condition  grade  sqft_above  sqft_basement  yr_built  yr_renovated  zipcode      lat     long  sqft_living15  sqft_lot15\n",
       "16907  3530420020  20140711T000000   162950.0         2        1.0          950      2784     1.0           0     0          4      8         950              0      1972             0    98198  47.3793 -122.321           1080        3899\n",
       "8548   2991000220  20150317T000000   330000.0         4        2.5         2310      6320     2.0           0     0          3      8        2310              0      1997             0    98092  47.3287 -122.167           1850        6181\n",
       "14246  4099100210  20140813T000000   545000.0         3        2.5         1900      3366     2.0           0     0          3      9        1900              0      1996             0    98033  47.6679 -122.184           2500        3954\n",
       "1728   1823059205  20140604T000000   200000.0         3        1.5         2060     15837     1.5           0     0          3      6        2060              0      1903             0    98055  47.4819 -122.223           2190        8549\n",
       "3869   1732800820  20140619T000000  1325000.0         4        2.5         2440      3600     2.5           0     0          4      8        2440              0      1902             0    98119  47.6298 -122.362           2440        5440"
      ]
     },
     "execution_count": 4,
     "metadata": {},
     "output_type": "execute_result"
    }
   ],
   "source": [
    "df_raw.sample(5)"
   ]
  },
  {
   "cell_type": "code",
   "execution_count": 5,
   "id": "f15c20a3",
   "metadata": {
    "ExecuteTime": {
     "end_time": "2021-08-17T19:52:57.993667Z",
     "start_time": "2021-08-17T19:52:57.978717Z"
    }
   },
   "outputs": [
    {
     "name": "stdout",
     "output_type": "stream",
     "text": [
      "The original dataset have 21613 transation registers with 21 attributes.\n"
     ]
    }
   ],
   "source": [
    "print ('The original dataset have {} transation registers with {} attributes.'.format(df_raw.shape[0], df_raw.shape[1]))"
   ]
  },
  {
   "cell_type": "code",
   "execution_count": 6,
   "id": "9fabc2e9",
   "metadata": {
    "ExecuteTime": {
     "end_time": "2021-08-17T19:52:58.009623Z",
     "start_time": "2021-08-17T19:52:57.994663Z"
    },
    "scrolled": false
   },
   "outputs": [
    {
     "data": {
      "text/plain": [
       "Index(['id', 'date', 'price', 'bedrooms', 'bathrooms', 'sqft_living',\n",
       "       'sqft_lot', 'floors', 'waterfront', 'view', 'condition', 'grade',\n",
       "       'sqft_above', 'sqft_basement', 'yr_built', 'yr_renovated', 'zipcode',\n",
       "       'lat', 'long', 'sqft_living15', 'sqft_lot15'],\n",
       "      dtype='object')"
      ]
     },
     "execution_count": 6,
     "metadata": {},
     "output_type": "execute_result"
    }
   ],
   "source": [
    "df_raw.columns"
   ]
  },
  {
   "cell_type": "markdown",
   "id": "7867a233",
   "metadata": {},
   "source": [
    "1° Task: Check the attributes: 'grade','sqft_living15', 'sqft_lot15' and 'view'\n",
    "Identify, cleaning or drop."
   ]
  },
  {
   "cell_type": "markdown",
   "id": "21fe3f33",
   "metadata": {},
   "source": [
    "## Data Types"
   ]
  },
  {
   "cell_type": "code",
   "execution_count": 7,
   "id": "8d20ab9e",
   "metadata": {
    "ExecuteTime": {
     "end_time": "2021-08-17T19:52:58.025614Z",
     "start_time": "2021-08-17T19:52:58.011618Z"
    }
   },
   "outputs": [
    {
     "data": {
      "text/plain": [
       "id                 int64\n",
       "date              object\n",
       "price            float64\n",
       "bedrooms           int64\n",
       "bathrooms        float64\n",
       "sqft_living        int64\n",
       "sqft_lot           int64\n",
       "floors           float64\n",
       "waterfront         int64\n",
       "view               int64\n",
       "condition          int64\n",
       "grade              int64\n",
       "sqft_above         int64\n",
       "sqft_basement      int64\n",
       "yr_built           int64\n",
       "yr_renovated       int64\n",
       "zipcode            int64\n",
       "lat              float64\n",
       "long             float64\n",
       "sqft_living15      int64\n",
       "sqft_lot15         int64\n",
       "dtype: object"
      ]
     },
     "execution_count": 7,
     "metadata": {},
     "output_type": "execute_result"
    }
   ],
   "source": [
    "df_raw.dtypes"
   ]
  },
  {
   "cell_type": "markdown",
   "id": "c034c996",
   "metadata": {},
   "source": [
    "Tasks:\n",
    "\n",
    "2°)Change 'waterfront' from 0 or 1 to yes or no\n",
    "\n",
    "3°)Change 'date' to date format"
   ]
  },
  {
   "cell_type": "markdown",
   "id": "a006c391",
   "metadata": {
    "ExecuteTime": {
     "end_time": "2021-08-02T18:08:22.667732Z",
     "start_time": "2021-08-02T18:08:22.651736Z"
    }
   },
   "source": [
    "## Check NA"
   ]
  },
  {
   "cell_type": "code",
   "execution_count": 8,
   "id": "ba080444",
   "metadata": {
    "ExecuteTime": {
     "end_time": "2021-08-17T19:52:58.041574Z",
     "start_time": "2021-08-17T19:52:58.027605Z"
    }
   },
   "outputs": [
    {
     "data": {
      "text/plain": [
       "id               0\n",
       "date             0\n",
       "price            0\n",
       "bedrooms         0\n",
       "bathrooms        0\n",
       "sqft_living      0\n",
       "sqft_lot         0\n",
       "floors           0\n",
       "waterfront       0\n",
       "view             0\n",
       "condition        0\n",
       "grade            0\n",
       "sqft_above       0\n",
       "sqft_basement    0\n",
       "yr_built         0\n",
       "yr_renovated     0\n",
       "zipcode          0\n",
       "lat              0\n",
       "long             0\n",
       "sqft_living15    0\n",
       "sqft_lot15       0\n",
       "dtype: int64"
      ]
     },
     "execution_count": 8,
     "metadata": {},
     "output_type": "execute_result"
    }
   ],
   "source": [
    "df_raw.isna().sum()"
   ]
  },
  {
   "cell_type": "markdown",
   "id": "aa00dd82",
   "metadata": {
    "ExecuteTime": {
     "end_time": "2021-08-03T18:07:00.244902Z",
     "start_time": "2021-08-03T18:07:00.233930Z"
    }
   },
   "source": [
    "## Check Duplicated"
   ]
  },
  {
   "cell_type": "code",
   "execution_count": 9,
   "id": "4a2385a7",
   "metadata": {
    "ExecuteTime": {
     "end_time": "2021-08-17T19:52:58.057528Z",
     "start_time": "2021-08-17T19:52:58.043533Z"
    },
    "scrolled": true
   },
   "outputs": [
    {
     "data": {
      "text/plain": [
       "177"
      ]
     },
     "execution_count": 9,
     "metadata": {},
     "output_type": "execute_result"
    }
   ],
   "source": [
    "df_raw['id'].duplicated().sum()"
   ]
  },
  {
   "cell_type": "markdown",
   "id": "f1239fd7",
   "metadata": {
    "ExecuteTime": {
     "end_time": "2021-08-04T20:06:58.716987Z",
     "start_time": "2021-08-04T20:06:58.701029Z"
    }
   },
   "source": [
    "Task:\n",
    "\n",
    "4) Identify the duplicated ones and drop if it is necessary."
   ]
  },
  {
   "cell_type": "markdown",
   "id": "2b070222",
   "metadata": {
    "ExecuteTime": {
     "end_time": "2021-08-06T13:00:41.651694Z",
     "start_time": "2021-08-06T13:00:41.633750Z"
    }
   },
   "source": [
    "## Check attributes"
   ]
  },
  {
   "cell_type": "markdown",
   "id": "50a0c573",
   "metadata": {
    "ExecuteTime": {
     "end_time": "2021-08-06T12:18:31.276386Z",
     "start_time": "2021-08-06T12:18:31.267378Z"
    }
   },
   "source": [
    "### Attribute 'grade'"
   ]
  },
  {
   "cell_type": "markdown",
   "id": "9d8eb092",
   "metadata": {},
   "source": [
    "It's an index from 1 to 13, where 1-3 falls short of building construction and design, 7 has an average level of construction and design, and 11-13 have a high quality level of construction and design."
   ]
  },
  {
   "cell_type": "code",
   "execution_count": 10,
   "id": "bd8d81c1",
   "metadata": {
    "ExecuteTime": {
     "end_time": "2021-08-17T19:52:58.073494Z",
     "start_time": "2021-08-17T19:52:58.058493Z"
    }
   },
   "outputs": [
    {
     "data": {
      "text/plain": [
       "array([ 7,  6,  8, 11,  9,  5, 10, 12,  4,  3, 13,  1], dtype=int64)"
      ]
     },
     "execution_count": 10,
     "metadata": {},
     "output_type": "execute_result"
    }
   ],
   "source": [
    "df_raw['grade'].unique()"
   ]
  },
  {
   "cell_type": "markdown",
   "id": "5fca632c",
   "metadata": {
    "ExecuteTime": {
     "end_time": "2021-08-06T12:15:24.252808Z",
     "start_time": "2021-08-06T12:15:24.238848Z"
    }
   },
   "source": [
    "### Attribute 'sqft_living15'"
   ]
  },
  {
   "cell_type": "markdown",
   "id": "66da9868",
   "metadata": {},
   "source": [
    "sqft_living15 - The square footage of interior housing living space for the nearest 15 neighbors"
   ]
  },
  {
   "cell_type": "code",
   "execution_count": 11,
   "id": "47b4e5ea",
   "metadata": {
    "ExecuteTime": {
     "end_time": "2021-08-17T19:52:58.089412Z",
     "start_time": "2021-08-17T19:52:58.075448Z"
    },
    "scrolled": false
   },
   "outputs": [
    {
     "data": {
      "text/plain": [
       "array([1340, 1690, 2720, 1360, 1800, 4760, 2238, 1650, 1780, 2390, 2210,\n",
       "       1330, 1370, 2140, 1890, 1610, 1060, 1280, 1400, 4110, 2240, 1220,\n",
       "       2200, 1030, 1760, 1860, 1520, 2630, 2580, 1390, 1460, 1570, 2020,\n",
       "       1590, 2160, 1730, 1290, 2620, 2470, 2410, 3625, 1580, 3050, 1228,\n",
       "       2680,  970, 1190, 1990, 1410, 1480, 2730, 1950, 2250, 2690, 2960,\n",
       "       2270, 2570, 2500, 1440, 2750, 2221, 1010, 3390, 3530, 1640, 1510,\n",
       "       2420, 1940, 3240, 1680,  890, 1130, 3350, 2350, 1870, 1720, 1850,\n",
       "       1900, 1980, 2520, 1350, 1750, 1160, 2550, 2370, 1240, 1270, 2990,\n",
       "       1380, 1540, 2090, 2640, 1830, 1620, 1880, 2340, 1710, 2700, 3060,\n",
       "       2660, 1700, 1970, 1420, 2060, 2480, 1550, 1170, 2820, 1560, 2230,\n",
       "       2840, 1450, 1500, 3160, 1200, 3400, 2110, 2920, 1770, 1070, 1930,\n",
       "       3740, 2260, 1670, 2290, 1050, 2540, 2190, 2030, 1230, 2330, 1300,\n",
       "       1430, 2770, 1250, 1630, 2590, 2130, 1100, 3836, 1320, 2120, 3070,\n",
       "       1910, 2080, 1960, 2280, 1150, 3430, 2070, 2600,  830, 1260, 3120,\n",
       "       2010, 1660, 1600, 2380, 3890, 4180, 2653, 2670, 3920, 2300, 2310,\n",
       "       2320, 3150, 1740, 2400, 4550, 2510, 2440, 2880, 3860, 2150, 1310,\n",
       "       1820, 3080,  880, 2560, 3470, 1020, 2040, 2610, 1810, 2860, 3480,\n",
       "       3130, 3360, 4050, 2450, 1790, 3180, 3600, 2000, 2430, 2850, 4680,\n",
       "       2360, 3930, 1490, 2460, 2077, 1920, 3630, 3220, 2100, 3230, 4300,\n",
       "       3850, 2424, 2530, 3030, 2830, 2900, 2950, 1470,  940, 2740, 4210,\n",
       "       3340, 3980, 2180, 3715, 2050, 1080, 2095, 1000, 3330, 2170, 1408,\n",
       "       1530, 2760, 3110,  950, 3000, 1307, 2220, 4190, 3440, 3250, 1110,\n",
       "       2870, 1210, 2910, 1120, 4230, 1708, 3090, 3270, 2970, 1180, 3100,\n",
       "       4100, 2930, 3510, 2688, 1840, 2490, 4090, 2810, 3260, 3680, 3420,\n",
       "       1654, 1365,  980, 1677, 1140, 3640, 3460, 3140, 1502, 3720, 2790,\n",
       "       2940,  990, 2890,  860, 4750, 1525, 3950, 5790,  760, 2234,  960,\n",
       "       3210, 2780, 2800, 2305, 2665, 3620, 2710, 4320, 2650, 3370, 1509,\n",
       "       1277, 1981, 2434, 4640, 2242, 3040, 3970, 3200, 4600,  840, 3290,\n",
       "       2214, 1162, 3010, 5600, 3820, 3540, 1975, 4800,  740, 3990, 3170,\n",
       "       1576, 1768, 3310, 2980, 1429, 3900, 3380,  820, 1090, 4060, 3910,\n",
       "       3190, 3450, 3730,  620, 3020, 3760, 3320, 1132, 3300, 3770, 3960,\n",
       "        870, 3560, 4620, 3520, 1572, 3490, 1088, 3159, 4470, 3570, 4890,\n",
       "       3690, 3280, 2083, 3780,  920, 1941, 1566,  850, 2496, 1040, 3410,\n",
       "       4240, 4670, 4350, 1714, 5380, 4330, 3830, 5000, 2144, 1494, 1357,\n",
       "        930, 3580, 4250, 4080, 3660, 1458, 3736, 1894, 2037, 1295, 4170,\n",
       "       3750, 3550, 4630, 1439, 3500, 2091,  900, 3880, 3710, 1616,  720,\n",
       "        800, 2315, 1564, 2767, 3721, 4650, 4020,  780, 1728, 2027, 1264,\n",
       "       1404, 1459, 2028, 3639, 1943, 3425, 2641, 2114, 1309, 2412, 2517,\n",
       "       1802, 2011, 1466, 1414, 3193, 1845, 1156, 3670, 1696, 5340, 4440,\n",
       "       1745, 1884, 4690, 4920, 2406, 4160, 3810, 4480, 2848, 1746, 2634,\n",
       "       2049, 5330, 1536, 2273, 3056, 4010, 4700,  910, 2125, 1665, 2683,\n",
       "       3790,  700, 1855,  750, 1078, 4150, 4340, 2344, 1098, 1175, 1188,\n",
       "       3700, 3840, 4042, 2518, 3800, 2488, 3590, 2052,  810, 1528, 5030,\n",
       "       4740, 5070, 2967, 4280, 2724, 3610, 3940, 4940, 4770, 1811, 4830,\n",
       "       2876, 1805, 1216, 5170, 1304, 2474, 4590, 4130, 1492, 1364, 2168,\n",
       "       4140, 3543, 1303, 2005, 3650, 2583, 4310, 2451, 1448, 2955, 2142,\n",
       "        790, 1638, 2554, 2441, 2216, 4220, 1961, 4540,  770, 4200, 3413,\n",
       "       1664, 2136, 3568, 4510, 1484, 1358, 2106, 1834, 2014, 4390, 4570,\n",
       "       2175, 6110, 4260,  710, 2112, 1934, 1518, 1302, 2622, 2619, 2382,\n",
       "       4290, 4560, 4000, 1336, 3112, 4070, 1468, 1571, 2605, 1138, 5110,\n",
       "       4850, 2165, 4410, 1678, 5610, 1984, 4660, 3870, 4370,  460, 4610,\n",
       "       1914, 3515, 2246, 1786, 2109, 2326, 2728, 4400, 4950, 1767, 2054,\n",
       "       5500, 2555, 3674, 2765, 1862, 1352, 4030,  399, 2415, 2901, 1815,\n",
       "       2236, 2253, 2004, 1356, 2403, 1137, 1256, 4930, 4040, 2376, 4520,\n",
       "       4490, 2189, 2566, 2396, 1282, 2155, 1056, 2389, 2256, 3618, 1326,\n",
       "       1168, 4913,  806, 1369, 2405, 2875, 1425, 5220, 1442, 2333, 3335,\n",
       "       1321, 3045, 1546, 4730, 2697, 2822, 2076, 1757, 4780,  952, 4270,\n",
       "       2075, 2667, 1092, 1217, 1716, 1792, 2961, 1125, 1463, 1886,  670,\n",
       "       4460, 2336, 3557, 5200, 2258, 1377, 2019, 2092, 4900, 2615, 1639,\n",
       "       1765, 1554, 1381, 4120, 5080, 1445, 2793, 2475,  998, 2384, 2575,\n",
       "       1398, 1584, 2439, 2197, 2029, 4362, 1443, 4420, 1691, 2495, 2437,\n",
       "       2547, 6210, 2009, 1847, 1346, 2578, 2879, 2255, 2815, 1608,  690,\n",
       "       2425, 1481, 2458, 2358, 2056, 1921, 2419, 2996, 2502, 1798, 3087,\n",
       "       1076, 2981, 2363, 3191, 1763, 1876, 1949, 2598, 1979, 1415, 2002,\n",
       "       2574, 2166, 3726, 2099, 2154, 1522, 1544, 2912, 2648, 1658, 2755,\n",
       "       2798, 1405, 2704, 2738, 3008, 2586, 2873, 1232, 2597, 2516, 1537,\n",
       "       1128, 2849, 1399, 1131, 1569, 2381, 1084, 2304, 4530, 2297, 2279,\n",
       "       2303, 2669, 4225, 2513, 2725, 1955, 2527, 4443, 2478, 1919, 1813,\n",
       "       2533,  828, 2015, 3078, 4495, 2673, 2316, 2647, 3402, 3494, 2156,\n",
       "       3236, 2612, 2323, 2409, 2354, 1285, 2616, 1427, 1516, 2456, 2844,\n",
       "       1495, 2594, 2604, 1268, 2198, 3038, 2927], dtype=int64)"
      ]
     },
     "execution_count": 11,
     "metadata": {},
     "output_type": "execute_result"
    }
   ],
   "source": [
    "df_raw['sqft_living15'].unique()"
   ]
  },
  {
   "cell_type": "markdown",
   "id": "721099ec",
   "metadata": {},
   "source": [
    "Task 5) - Drop this feature"
   ]
  },
  {
   "cell_type": "markdown",
   "id": "58d7737c",
   "metadata": {
    "ExecuteTime": {
     "end_time": "2021-08-06T12:15:24.267768Z",
     "start_time": "2021-08-06T12:15:24.254803Z"
    }
   },
   "source": [
    "### Attibute 'sqft_lot15'"
   ]
  },
  {
   "cell_type": "markdown",
   "id": "935e430b",
   "metadata": {
    "ExecuteTime": {
     "end_time": "2021-08-06T12:21:26.677867Z",
     "start_time": "2021-08-06T12:21:26.670890Z"
    }
   },
   "source": [
    "sqft_lot15 - The square footage of the land lots of the nearest 15 neighbors"
   ]
  },
  {
   "cell_type": "code",
   "execution_count": 12,
   "id": "d8edd5cc",
   "metadata": {
    "ExecuteTime": {
     "end_time": "2021-08-17T19:52:58.105367Z",
     "start_time": "2021-08-17T19:52:58.091406Z"
    }
   },
   "outputs": [
    {
     "data": {
      "text/plain": [
       "array([5650, 7639, 8062, ..., 5731, 1509, 2007], dtype=int64)"
      ]
     },
     "execution_count": 12,
     "metadata": {},
     "output_type": "execute_result"
    }
   ],
   "source": [
    "df_raw['sqft_lot15'].unique()"
   ]
  },
  {
   "cell_type": "markdown",
   "id": "7519db0c",
   "metadata": {},
   "source": [
    "Task 6): Drop this feature"
   ]
  },
  {
   "cell_type": "markdown",
   "id": "a2f358db",
   "metadata": {
    "ExecuteTime": {
     "end_time": "2021-08-06T12:15:24.314642Z",
     "start_time": "2021-08-06T12:15:24.299683Z"
    }
   },
   "source": [
    "### Attribute 'view'"
   ]
  },
  {
   "cell_type": "markdown",
   "id": "612f847a",
   "metadata": {},
   "source": [
    "view - An index from 0 to 4 of how good the view of the property was"
   ]
  },
  {
   "cell_type": "code",
   "execution_count": 13,
   "id": "d49c2db4",
   "metadata": {
    "ExecuteTime": {
     "end_time": "2021-08-17T19:52:58.121358Z",
     "start_time": "2021-08-17T19:52:58.106367Z"
    }
   },
   "outputs": [
    {
     "data": {
      "text/plain": [
       "array([0, 3, 4, 2, 1], dtype=int64)"
      ]
     },
     "execution_count": 13,
     "metadata": {},
     "output_type": "execute_result"
    }
   ],
   "source": [
    "df_raw['view'].unique()"
   ]
  },
  {
   "cell_type": "markdown",
   "id": "c24f117f",
   "metadata": {},
   "source": [
    "***Decision*** \n",
    "\n",
    "Keep it."
   ]
  },
  {
   "cell_type": "markdown",
   "id": "df9863fb",
   "metadata": {},
   "source": [
    "## Statistics Data Overview"
   ]
  },
  {
   "cell_type": "code",
   "execution_count": 14,
   "id": "c3cd2678",
   "metadata": {
    "ExecuteTime": {
     "end_time": "2021-08-17T19:52:58.185154Z",
     "start_time": "2021-08-17T19:52:58.122323Z"
    }
   },
   "outputs": [
    {
     "data": {
      "text/html": [
       "<div>\n",
       "<style scoped>\n",
       "    .dataframe tbody tr th:only-of-type {\n",
       "        vertical-align: middle;\n",
       "    }\n",
       "\n",
       "    .dataframe tbody tr th {\n",
       "        vertical-align: top;\n",
       "    }\n",
       "\n",
       "    .dataframe thead th {\n",
       "        text-align: right;\n",
       "    }\n",
       "</style>\n",
       "<table border=\"1\" class=\"dataframe\">\n",
       "  <thead>\n",
       "    <tr style=\"text-align: right;\">\n",
       "      <th></th>\n",
       "      <th>count</th>\n",
       "      <th>mean</th>\n",
       "      <th>std</th>\n",
       "      <th>min</th>\n",
       "      <th>25%</th>\n",
       "      <th>50%</th>\n",
       "      <th>75%</th>\n",
       "      <th>max</th>\n",
       "    </tr>\n",
       "  </thead>\n",
       "  <tbody>\n",
       "    <tr>\n",
       "      <th>id</th>\n",
       "      <td>21613.0</td>\n",
       "      <td>4.580302e+09</td>\n",
       "      <td>2.876566e+09</td>\n",
       "      <td>1.000102e+06</td>\n",
       "      <td>2.123049e+09</td>\n",
       "      <td>3.904930e+09</td>\n",
       "      <td>7.308900e+09</td>\n",
       "      <td>9.900000e+09</td>\n",
       "    </tr>\n",
       "    <tr>\n",
       "      <th>price</th>\n",
       "      <td>21613.0</td>\n",
       "      <td>5.400881e+05</td>\n",
       "      <td>3.671272e+05</td>\n",
       "      <td>7.500000e+04</td>\n",
       "      <td>3.219500e+05</td>\n",
       "      <td>4.500000e+05</td>\n",
       "      <td>6.450000e+05</td>\n",
       "      <td>7.700000e+06</td>\n",
       "    </tr>\n",
       "    <tr>\n",
       "      <th>bedrooms</th>\n",
       "      <td>21613.0</td>\n",
       "      <td>3.370842e+00</td>\n",
       "      <td>9.300618e-01</td>\n",
       "      <td>0.000000e+00</td>\n",
       "      <td>3.000000e+00</td>\n",
       "      <td>3.000000e+00</td>\n",
       "      <td>4.000000e+00</td>\n",
       "      <td>3.300000e+01</td>\n",
       "    </tr>\n",
       "    <tr>\n",
       "      <th>bathrooms</th>\n",
       "      <td>21613.0</td>\n",
       "      <td>2.114757e+00</td>\n",
       "      <td>7.701632e-01</td>\n",
       "      <td>0.000000e+00</td>\n",
       "      <td>1.750000e+00</td>\n",
       "      <td>2.250000e+00</td>\n",
       "      <td>2.500000e+00</td>\n",
       "      <td>8.000000e+00</td>\n",
       "    </tr>\n",
       "    <tr>\n",
       "      <th>sqft_living</th>\n",
       "      <td>21613.0</td>\n",
       "      <td>2.079900e+03</td>\n",
       "      <td>9.184409e+02</td>\n",
       "      <td>2.900000e+02</td>\n",
       "      <td>1.427000e+03</td>\n",
       "      <td>1.910000e+03</td>\n",
       "      <td>2.550000e+03</td>\n",
       "      <td>1.354000e+04</td>\n",
       "    </tr>\n",
       "    <tr>\n",
       "      <th>sqft_lot</th>\n",
       "      <td>21613.0</td>\n",
       "      <td>1.510697e+04</td>\n",
       "      <td>4.142051e+04</td>\n",
       "      <td>5.200000e+02</td>\n",
       "      <td>5.040000e+03</td>\n",
       "      <td>7.618000e+03</td>\n",
       "      <td>1.068800e+04</td>\n",
       "      <td>1.651359e+06</td>\n",
       "    </tr>\n",
       "    <tr>\n",
       "      <th>floors</th>\n",
       "      <td>21613.0</td>\n",
       "      <td>1.494309e+00</td>\n",
       "      <td>5.399889e-01</td>\n",
       "      <td>1.000000e+00</td>\n",
       "      <td>1.000000e+00</td>\n",
       "      <td>1.500000e+00</td>\n",
       "      <td>2.000000e+00</td>\n",
       "      <td>3.500000e+00</td>\n",
       "    </tr>\n",
       "    <tr>\n",
       "      <th>waterfront</th>\n",
       "      <td>21613.0</td>\n",
       "      <td>7.541757e-03</td>\n",
       "      <td>8.651720e-02</td>\n",
       "      <td>0.000000e+00</td>\n",
       "      <td>0.000000e+00</td>\n",
       "      <td>0.000000e+00</td>\n",
       "      <td>0.000000e+00</td>\n",
       "      <td>1.000000e+00</td>\n",
       "    </tr>\n",
       "    <tr>\n",
       "      <th>view</th>\n",
       "      <td>21613.0</td>\n",
       "      <td>2.343034e-01</td>\n",
       "      <td>7.663176e-01</td>\n",
       "      <td>0.000000e+00</td>\n",
       "      <td>0.000000e+00</td>\n",
       "      <td>0.000000e+00</td>\n",
       "      <td>0.000000e+00</td>\n",
       "      <td>4.000000e+00</td>\n",
       "    </tr>\n",
       "    <tr>\n",
       "      <th>condition</th>\n",
       "      <td>21613.0</td>\n",
       "      <td>3.409430e+00</td>\n",
       "      <td>6.507430e-01</td>\n",
       "      <td>1.000000e+00</td>\n",
       "      <td>3.000000e+00</td>\n",
       "      <td>3.000000e+00</td>\n",
       "      <td>4.000000e+00</td>\n",
       "      <td>5.000000e+00</td>\n",
       "    </tr>\n",
       "    <tr>\n",
       "      <th>grade</th>\n",
       "      <td>21613.0</td>\n",
       "      <td>7.656873e+00</td>\n",
       "      <td>1.175459e+00</td>\n",
       "      <td>1.000000e+00</td>\n",
       "      <td>7.000000e+00</td>\n",
       "      <td>7.000000e+00</td>\n",
       "      <td>8.000000e+00</td>\n",
       "      <td>1.300000e+01</td>\n",
       "    </tr>\n",
       "    <tr>\n",
       "      <th>sqft_above</th>\n",
       "      <td>21613.0</td>\n",
       "      <td>1.788391e+03</td>\n",
       "      <td>8.280910e+02</td>\n",
       "      <td>2.900000e+02</td>\n",
       "      <td>1.190000e+03</td>\n",
       "      <td>1.560000e+03</td>\n",
       "      <td>2.210000e+03</td>\n",
       "      <td>9.410000e+03</td>\n",
       "    </tr>\n",
       "    <tr>\n",
       "      <th>sqft_basement</th>\n",
       "      <td>21613.0</td>\n",
       "      <td>2.915090e+02</td>\n",
       "      <td>4.425750e+02</td>\n",
       "      <td>0.000000e+00</td>\n",
       "      <td>0.000000e+00</td>\n",
       "      <td>0.000000e+00</td>\n",
       "      <td>5.600000e+02</td>\n",
       "      <td>4.820000e+03</td>\n",
       "    </tr>\n",
       "    <tr>\n",
       "      <th>yr_built</th>\n",
       "      <td>21613.0</td>\n",
       "      <td>1.971005e+03</td>\n",
       "      <td>2.937341e+01</td>\n",
       "      <td>1.900000e+03</td>\n",
       "      <td>1.951000e+03</td>\n",
       "      <td>1.975000e+03</td>\n",
       "      <td>1.997000e+03</td>\n",
       "      <td>2.015000e+03</td>\n",
       "    </tr>\n",
       "    <tr>\n",
       "      <th>yr_renovated</th>\n",
       "      <td>21613.0</td>\n",
       "      <td>8.440226e+01</td>\n",
       "      <td>4.016792e+02</td>\n",
       "      <td>0.000000e+00</td>\n",
       "      <td>0.000000e+00</td>\n",
       "      <td>0.000000e+00</td>\n",
       "      <td>0.000000e+00</td>\n",
       "      <td>2.015000e+03</td>\n",
       "    </tr>\n",
       "    <tr>\n",
       "      <th>zipcode</th>\n",
       "      <td>21613.0</td>\n",
       "      <td>9.807794e+04</td>\n",
       "      <td>5.350503e+01</td>\n",
       "      <td>9.800100e+04</td>\n",
       "      <td>9.803300e+04</td>\n",
       "      <td>9.806500e+04</td>\n",
       "      <td>9.811800e+04</td>\n",
       "      <td>9.819900e+04</td>\n",
       "    </tr>\n",
       "    <tr>\n",
       "      <th>lat</th>\n",
       "      <td>21613.0</td>\n",
       "      <td>4.756005e+01</td>\n",
       "      <td>1.385637e-01</td>\n",
       "      <td>4.715590e+01</td>\n",
       "      <td>4.747100e+01</td>\n",
       "      <td>4.757180e+01</td>\n",
       "      <td>4.767800e+01</td>\n",
       "      <td>4.777760e+01</td>\n",
       "    </tr>\n",
       "    <tr>\n",
       "      <th>long</th>\n",
       "      <td>21613.0</td>\n",
       "      <td>-1.222139e+02</td>\n",
       "      <td>1.408283e-01</td>\n",
       "      <td>-1.225190e+02</td>\n",
       "      <td>-1.223280e+02</td>\n",
       "      <td>-1.222300e+02</td>\n",
       "      <td>-1.221250e+02</td>\n",
       "      <td>-1.213150e+02</td>\n",
       "    </tr>\n",
       "    <tr>\n",
       "      <th>sqft_living15</th>\n",
       "      <td>21613.0</td>\n",
       "      <td>1.986552e+03</td>\n",
       "      <td>6.853913e+02</td>\n",
       "      <td>3.990000e+02</td>\n",
       "      <td>1.490000e+03</td>\n",
       "      <td>1.840000e+03</td>\n",
       "      <td>2.360000e+03</td>\n",
       "      <td>6.210000e+03</td>\n",
       "    </tr>\n",
       "    <tr>\n",
       "      <th>sqft_lot15</th>\n",
       "      <td>21613.0</td>\n",
       "      <td>1.276846e+04</td>\n",
       "      <td>2.730418e+04</td>\n",
       "      <td>6.510000e+02</td>\n",
       "      <td>5.100000e+03</td>\n",
       "      <td>7.620000e+03</td>\n",
       "      <td>1.008300e+04</td>\n",
       "      <td>8.712000e+05</td>\n",
       "    </tr>\n",
       "  </tbody>\n",
       "</table>\n",
       "</div>"
      ],
      "text/plain": [
       "                 count          mean           std           min           25%           50%           75%           max\n",
       "id             21613.0  4.580302e+09  2.876566e+09  1.000102e+06  2.123049e+09  3.904930e+09  7.308900e+09  9.900000e+09\n",
       "price          21613.0  5.400881e+05  3.671272e+05  7.500000e+04  3.219500e+05  4.500000e+05  6.450000e+05  7.700000e+06\n",
       "bedrooms       21613.0  3.370842e+00  9.300618e-01  0.000000e+00  3.000000e+00  3.000000e+00  4.000000e+00  3.300000e+01\n",
       "bathrooms      21613.0  2.114757e+00  7.701632e-01  0.000000e+00  1.750000e+00  2.250000e+00  2.500000e+00  8.000000e+00\n",
       "sqft_living    21613.0  2.079900e+03  9.184409e+02  2.900000e+02  1.427000e+03  1.910000e+03  2.550000e+03  1.354000e+04\n",
       "sqft_lot       21613.0  1.510697e+04  4.142051e+04  5.200000e+02  5.040000e+03  7.618000e+03  1.068800e+04  1.651359e+06\n",
       "floors         21613.0  1.494309e+00  5.399889e-01  1.000000e+00  1.000000e+00  1.500000e+00  2.000000e+00  3.500000e+00\n",
       "waterfront     21613.0  7.541757e-03  8.651720e-02  0.000000e+00  0.000000e+00  0.000000e+00  0.000000e+00  1.000000e+00\n",
       "view           21613.0  2.343034e-01  7.663176e-01  0.000000e+00  0.000000e+00  0.000000e+00  0.000000e+00  4.000000e+00\n",
       "condition      21613.0  3.409430e+00  6.507430e-01  1.000000e+00  3.000000e+00  3.000000e+00  4.000000e+00  5.000000e+00\n",
       "grade          21613.0  7.656873e+00  1.175459e+00  1.000000e+00  7.000000e+00  7.000000e+00  8.000000e+00  1.300000e+01\n",
       "sqft_above     21613.0  1.788391e+03  8.280910e+02  2.900000e+02  1.190000e+03  1.560000e+03  2.210000e+03  9.410000e+03\n",
       "sqft_basement  21613.0  2.915090e+02  4.425750e+02  0.000000e+00  0.000000e+00  0.000000e+00  5.600000e+02  4.820000e+03\n",
       "yr_built       21613.0  1.971005e+03  2.937341e+01  1.900000e+03  1.951000e+03  1.975000e+03  1.997000e+03  2.015000e+03\n",
       "yr_renovated   21613.0  8.440226e+01  4.016792e+02  0.000000e+00  0.000000e+00  0.000000e+00  0.000000e+00  2.015000e+03\n",
       "zipcode        21613.0  9.807794e+04  5.350503e+01  9.800100e+04  9.803300e+04  9.806500e+04  9.811800e+04  9.819900e+04\n",
       "lat            21613.0  4.756005e+01  1.385637e-01  4.715590e+01  4.747100e+01  4.757180e+01  4.767800e+01  4.777760e+01\n",
       "long           21613.0 -1.222139e+02  1.408283e-01 -1.225190e+02 -1.223280e+02 -1.222300e+02 -1.221250e+02 -1.213150e+02\n",
       "sqft_living15  21613.0  1.986552e+03  6.853913e+02  3.990000e+02  1.490000e+03  1.840000e+03  2.360000e+03  6.210000e+03\n",
       "sqft_lot15     21613.0  1.276846e+04  2.730418e+04  6.510000e+02  5.100000e+03  7.620000e+03  1.008300e+04  8.712000e+05"
      ]
     },
     "execution_count": 14,
     "metadata": {},
     "output_type": "execute_result"
    }
   ],
   "source": [
    "df_raw.describe().T"
   ]
  },
  {
   "cell_type": "markdown",
   "id": "58af61bf",
   "metadata": {
    "ExecuteTime": {
     "end_time": "2021-08-05T12:47:54.215490Z",
     "start_time": "2021-08-05T12:47:54.200497Z"
    }
   },
   "source": [
    "Tasks:\n",
    "\n",
    "7) There is a big std in the price, and seems to have outliers. Check it.\n",
    "\n",
    "8) There is at least one house without bedrooms and one with 33. Check it.\n",
    "\n",
    "9) There is at least one house without bathrooms. Check it.\n",
    "\n",
    "10) There are houses with the year of renovation with '0'. It has to be treated."
   ]
  },
  {
   "cell_type": "markdown",
   "id": "e53e3cdf",
   "metadata": {},
   "source": [
    "# Data Transform/Preparing"
   ]
  },
  {
   "cell_type": "code",
   "execution_count": 15,
   "id": "0db351f7",
   "metadata": {
    "ExecuteTime": {
     "end_time": "2021-08-17T19:52:58.201111Z",
     "start_time": "2021-08-17T19:52:58.186153Z"
    }
   },
   "outputs": [],
   "source": [
    "df3 = df_raw.copy()"
   ]
  },
  {
   "cell_type": "markdown",
   "id": "d8f173ab",
   "metadata": {
    "ExecuteTime": {
     "end_time": "2021-08-06T13:06:25.150346Z",
     "start_time": "2021-08-06T13:06:25.117471Z"
    }
   },
   "source": [
    "1) Drop 'sqft_living15'\n",
    "\n",
    "2) Drop 'sqft_lot15' "
   ]
  },
  {
   "cell_type": "code",
   "execution_count": 16,
   "id": "8210c41b",
   "metadata": {
    "ExecuteTime": {
     "end_time": "2021-08-17T19:52:58.217070Z",
     "start_time": "2021-08-17T19:52:58.202111Z"
    },
    "scrolled": true
   },
   "outputs": [
    {
     "data": {
      "text/html": [
       "<div>\n",
       "<style scoped>\n",
       "    .dataframe tbody tr th:only-of-type {\n",
       "        vertical-align: middle;\n",
       "    }\n",
       "\n",
       "    .dataframe tbody tr th {\n",
       "        vertical-align: top;\n",
       "    }\n",
       "\n",
       "    .dataframe thead th {\n",
       "        text-align: right;\n",
       "    }\n",
       "</style>\n",
       "<table border=\"1\" class=\"dataframe\">\n",
       "  <thead>\n",
       "    <tr style=\"text-align: right;\">\n",
       "      <th></th>\n",
       "      <th>id</th>\n",
       "      <th>date</th>\n",
       "      <th>price</th>\n",
       "      <th>bedrooms</th>\n",
       "      <th>bathrooms</th>\n",
       "      <th>sqft_living</th>\n",
       "      <th>sqft_lot</th>\n",
       "      <th>floors</th>\n",
       "      <th>waterfront</th>\n",
       "      <th>view</th>\n",
       "      <th>condition</th>\n",
       "      <th>grade</th>\n",
       "      <th>sqft_above</th>\n",
       "      <th>sqft_basement</th>\n",
       "      <th>yr_built</th>\n",
       "      <th>yr_renovated</th>\n",
       "      <th>zipcode</th>\n",
       "      <th>lat</th>\n",
       "      <th>long</th>\n",
       "    </tr>\n",
       "  </thead>\n",
       "  <tbody>\n",
       "    <tr>\n",
       "      <th>0</th>\n",
       "      <td>7129300520</td>\n",
       "      <td>20141013T000000</td>\n",
       "      <td>221900.0</td>\n",
       "      <td>3</td>\n",
       "      <td>1.00</td>\n",
       "      <td>1180</td>\n",
       "      <td>5650</td>\n",
       "      <td>1.0</td>\n",
       "      <td>0</td>\n",
       "      <td>0</td>\n",
       "      <td>3</td>\n",
       "      <td>7</td>\n",
       "      <td>1180</td>\n",
       "      <td>0</td>\n",
       "      <td>1955</td>\n",
       "      <td>0</td>\n",
       "      <td>98178</td>\n",
       "      <td>47.5112</td>\n",
       "      <td>-122.257</td>\n",
       "    </tr>\n",
       "    <tr>\n",
       "      <th>1</th>\n",
       "      <td>6414100192</td>\n",
       "      <td>20141209T000000</td>\n",
       "      <td>538000.0</td>\n",
       "      <td>3</td>\n",
       "      <td>2.25</td>\n",
       "      <td>2570</td>\n",
       "      <td>7242</td>\n",
       "      <td>2.0</td>\n",
       "      <td>0</td>\n",
       "      <td>0</td>\n",
       "      <td>3</td>\n",
       "      <td>7</td>\n",
       "      <td>2170</td>\n",
       "      <td>400</td>\n",
       "      <td>1951</td>\n",
       "      <td>1991</td>\n",
       "      <td>98125</td>\n",
       "      <td>47.7210</td>\n",
       "      <td>-122.319</td>\n",
       "    </tr>\n",
       "    <tr>\n",
       "      <th>2</th>\n",
       "      <td>5631500400</td>\n",
       "      <td>20150225T000000</td>\n",
       "      <td>180000.0</td>\n",
       "      <td>2</td>\n",
       "      <td>1.00</td>\n",
       "      <td>770</td>\n",
       "      <td>10000</td>\n",
       "      <td>1.0</td>\n",
       "      <td>0</td>\n",
       "      <td>0</td>\n",
       "      <td>3</td>\n",
       "      <td>6</td>\n",
       "      <td>770</td>\n",
       "      <td>0</td>\n",
       "      <td>1933</td>\n",
       "      <td>0</td>\n",
       "      <td>98028</td>\n",
       "      <td>47.7379</td>\n",
       "      <td>-122.233</td>\n",
       "    </tr>\n",
       "    <tr>\n",
       "      <th>3</th>\n",
       "      <td>2487200875</td>\n",
       "      <td>20141209T000000</td>\n",
       "      <td>604000.0</td>\n",
       "      <td>4</td>\n",
       "      <td>3.00</td>\n",
       "      <td>1960</td>\n",
       "      <td>5000</td>\n",
       "      <td>1.0</td>\n",
       "      <td>0</td>\n",
       "      <td>0</td>\n",
       "      <td>5</td>\n",
       "      <td>7</td>\n",
       "      <td>1050</td>\n",
       "      <td>910</td>\n",
       "      <td>1965</td>\n",
       "      <td>0</td>\n",
       "      <td>98136</td>\n",
       "      <td>47.5208</td>\n",
       "      <td>-122.393</td>\n",
       "    </tr>\n",
       "    <tr>\n",
       "      <th>4</th>\n",
       "      <td>1954400510</td>\n",
       "      <td>20150218T000000</td>\n",
       "      <td>510000.0</td>\n",
       "      <td>3</td>\n",
       "      <td>2.00</td>\n",
       "      <td>1680</td>\n",
       "      <td>8080</td>\n",
       "      <td>1.0</td>\n",
       "      <td>0</td>\n",
       "      <td>0</td>\n",
       "      <td>3</td>\n",
       "      <td>8</td>\n",
       "      <td>1680</td>\n",
       "      <td>0</td>\n",
       "      <td>1987</td>\n",
       "      <td>0</td>\n",
       "      <td>98074</td>\n",
       "      <td>47.6168</td>\n",
       "      <td>-122.045</td>\n",
       "    </tr>\n",
       "  </tbody>\n",
       "</table>\n",
       "</div>"
      ],
      "text/plain": [
       "           id             date     price  bedrooms  bathrooms  sqft_living  sqft_lot  floors  waterfront  view  condition  grade  sqft_above  sqft_basement  yr_built  yr_renovated  zipcode      lat     long\n",
       "0  7129300520  20141013T000000  221900.0         3       1.00         1180      5650     1.0           0     0          3      7        1180              0      1955             0    98178  47.5112 -122.257\n",
       "1  6414100192  20141209T000000  538000.0         3       2.25         2570      7242     2.0           0     0          3      7        2170            400      1951          1991    98125  47.7210 -122.319\n",
       "2  5631500400  20150225T000000  180000.0         2       1.00          770     10000     1.0           0     0          3      6         770              0      1933             0    98028  47.7379 -122.233\n",
       "3  2487200875  20141209T000000  604000.0         4       3.00         1960      5000     1.0           0     0          5      7        1050            910      1965             0    98136  47.5208 -122.393\n",
       "4  1954400510  20150218T000000  510000.0         3       2.00         1680      8080     1.0           0     0          3      8        1680              0      1987             0    98074  47.6168 -122.045"
      ]
     },
     "execution_count": 16,
     "metadata": {},
     "output_type": "execute_result"
    }
   ],
   "source": [
    "df3 = df3.drop(columns = ['sqft_living15', 'sqft_lot15'], axis = 1)\n",
    "df3.head()"
   ]
  },
  {
   "cell_type": "markdown",
   "id": "8cafb47b",
   "metadata": {},
   "source": [
    "3) Change 'waterfront' from 0 or 1 to yes or no"
   ]
  },
  {
   "cell_type": "code",
   "execution_count": 17,
   "id": "aca17aba",
   "metadata": {
    "ExecuteTime": {
     "end_time": "2021-08-17T19:52:58.233051Z",
     "start_time": "2021-08-17T19:52:58.218067Z"
    }
   },
   "outputs": [],
   "source": [
    "df3['waterfront'] = df3['waterfront'].apply(lambda x: 'yes' if x==1 else 'no')"
   ]
  },
  {
   "cell_type": "markdown",
   "id": "5f80d672",
   "metadata": {},
   "source": [
    "4) Change 'date' to date format"
   ]
  },
  {
   "cell_type": "code",
   "execution_count": 18,
   "id": "bdcb5270",
   "metadata": {
    "ExecuteTime": {
     "end_time": "2021-08-17T19:52:58.248983Z",
     "start_time": "2021-08-17T19:52:58.234024Z"
    }
   },
   "outputs": [],
   "source": [
    "df3['date'] = pd.to_datetime(df3['date'])"
   ]
  },
  {
   "cell_type": "markdown",
   "id": "7c849497",
   "metadata": {
    "ExecuteTime": {
     "end_time": "2021-08-03T19:39:51.949040Z",
     "start_time": "2021-08-03T19:39:51.934083Z"
    }
   },
   "source": [
    "5) Identify the duplicated ones and drop if it is necessary"
   ]
  },
  {
   "cell_type": "code",
   "execution_count": 19,
   "id": "e041305e",
   "metadata": {
    "ExecuteTime": {
     "end_time": "2021-08-17T19:52:58.264431Z",
     "start_time": "2021-08-17T19:52:58.249982Z"
    },
    "scrolled": false
   },
   "outputs": [
    {
     "data": {
      "text/plain": [
       "353"
      ]
     },
     "execution_count": 19,
     "metadata": {},
     "output_type": "execute_result"
    }
   ],
   "source": [
    "df_dup = df3[df3['id'].duplicated(keep = False )].reset_index(drop=True)\n",
    "df_dup.shape[0]"
   ]
  },
  {
   "cell_type": "code",
   "execution_count": 20,
   "id": "eb328e6d",
   "metadata": {
    "ExecuteTime": {
     "end_time": "2021-08-17T19:52:58.280388Z",
     "start_time": "2021-08-17T19:52:58.265429Z"
    }
   },
   "outputs": [
    {
     "name": "stdout",
     "output_type": "stream",
     "text": [
      "There is 353 duplicated registers in the dataframe. Duplicated registers with the same date will be dropped\n"
     ]
    }
   ],
   "source": [
    "print ('There is {} duplicated registers in the dataframe. Duplicated registers with the same date will be dropped'.format(df_dup.shape[0]))"
   ]
  },
  {
   "cell_type": "code",
   "execution_count": 21,
   "id": "31f8fb65",
   "metadata": {
    "ExecuteTime": {
     "end_time": "2021-08-17T19:52:58.296346Z",
     "start_time": "2021-08-17T19:52:58.281386Z"
    }
   },
   "outputs": [
    {
     "data": {
      "text/html": [
       "<div>\n",
       "<style scoped>\n",
       "    .dataframe tbody tr th:only-of-type {\n",
       "        vertical-align: middle;\n",
       "    }\n",
       "\n",
       "    .dataframe tbody tr th {\n",
       "        vertical-align: top;\n",
       "    }\n",
       "\n",
       "    .dataframe thead th {\n",
       "        text-align: right;\n",
       "    }\n",
       "</style>\n",
       "<table border=\"1\" class=\"dataframe\">\n",
       "  <thead>\n",
       "    <tr style=\"text-align: right;\">\n",
       "      <th></th>\n",
       "      <th>id</th>\n",
       "      <th>date</th>\n",
       "      <th>price</th>\n",
       "      <th>bedrooms</th>\n",
       "      <th>bathrooms</th>\n",
       "      <th>sqft_living</th>\n",
       "      <th>sqft_lot</th>\n",
       "      <th>floors</th>\n",
       "      <th>waterfront</th>\n",
       "      <th>view</th>\n",
       "      <th>condition</th>\n",
       "      <th>grade</th>\n",
       "      <th>sqft_above</th>\n",
       "      <th>sqft_basement</th>\n",
       "      <th>yr_built</th>\n",
       "      <th>yr_renovated</th>\n",
       "      <th>zipcode</th>\n",
       "      <th>lat</th>\n",
       "      <th>long</th>\n",
       "    </tr>\n",
       "  </thead>\n",
       "  <tbody>\n",
       "    <tr>\n",
       "      <th>0</th>\n",
       "      <td>6021501535</td>\n",
       "      <td>2014-07-25</td>\n",
       "      <td>430000.0</td>\n",
       "      <td>3</td>\n",
       "      <td>1.50</td>\n",
       "      <td>1580</td>\n",
       "      <td>5000</td>\n",
       "      <td>1.0</td>\n",
       "      <td>no</td>\n",
       "      <td>0</td>\n",
       "      <td>3</td>\n",
       "      <td>8</td>\n",
       "      <td>1290</td>\n",
       "      <td>290</td>\n",
       "      <td>1939</td>\n",
       "      <td>0</td>\n",
       "      <td>98117</td>\n",
       "      <td>47.6870</td>\n",
       "      <td>-122.386</td>\n",
       "    </tr>\n",
       "    <tr>\n",
       "      <th>1</th>\n",
       "      <td>6021501535</td>\n",
       "      <td>2014-12-23</td>\n",
       "      <td>700000.0</td>\n",
       "      <td>3</td>\n",
       "      <td>1.50</td>\n",
       "      <td>1580</td>\n",
       "      <td>5000</td>\n",
       "      <td>1.0</td>\n",
       "      <td>no</td>\n",
       "      <td>0</td>\n",
       "      <td>3</td>\n",
       "      <td>8</td>\n",
       "      <td>1290</td>\n",
       "      <td>290</td>\n",
       "      <td>1939</td>\n",
       "      <td>0</td>\n",
       "      <td>98117</td>\n",
       "      <td>47.6870</td>\n",
       "      <td>-122.386</td>\n",
       "    </tr>\n",
       "    <tr>\n",
       "      <th>2</th>\n",
       "      <td>4139480200</td>\n",
       "      <td>2014-06-18</td>\n",
       "      <td>1384000.0</td>\n",
       "      <td>4</td>\n",
       "      <td>3.25</td>\n",
       "      <td>4290</td>\n",
       "      <td>12103</td>\n",
       "      <td>1.0</td>\n",
       "      <td>no</td>\n",
       "      <td>3</td>\n",
       "      <td>3</td>\n",
       "      <td>11</td>\n",
       "      <td>2690</td>\n",
       "      <td>1600</td>\n",
       "      <td>1997</td>\n",
       "      <td>0</td>\n",
       "      <td>98006</td>\n",
       "      <td>47.5503</td>\n",
       "      <td>-122.102</td>\n",
       "    </tr>\n",
       "    <tr>\n",
       "      <th>3</th>\n",
       "      <td>4139480200</td>\n",
       "      <td>2014-12-09</td>\n",
       "      <td>1400000.0</td>\n",
       "      <td>4</td>\n",
       "      <td>3.25</td>\n",
       "      <td>4290</td>\n",
       "      <td>12103</td>\n",
       "      <td>1.0</td>\n",
       "      <td>no</td>\n",
       "      <td>3</td>\n",
       "      <td>3</td>\n",
       "      <td>11</td>\n",
       "      <td>2690</td>\n",
       "      <td>1600</td>\n",
       "      <td>1997</td>\n",
       "      <td>0</td>\n",
       "      <td>98006</td>\n",
       "      <td>47.5503</td>\n",
       "      <td>-122.102</td>\n",
       "    </tr>\n",
       "    <tr>\n",
       "      <th>4</th>\n",
       "      <td>7520000520</td>\n",
       "      <td>2014-09-05</td>\n",
       "      <td>232000.0</td>\n",
       "      <td>2</td>\n",
       "      <td>1.00</td>\n",
       "      <td>1240</td>\n",
       "      <td>12092</td>\n",
       "      <td>1.0</td>\n",
       "      <td>no</td>\n",
       "      <td>0</td>\n",
       "      <td>3</td>\n",
       "      <td>6</td>\n",
       "      <td>960</td>\n",
       "      <td>280</td>\n",
       "      <td>1922</td>\n",
       "      <td>1984</td>\n",
       "      <td>98146</td>\n",
       "      <td>47.4957</td>\n",
       "      <td>-122.352</td>\n",
       "    </tr>\n",
       "  </tbody>\n",
       "</table>\n",
       "</div>"
      ],
      "text/plain": [
       "           id       date      price  bedrooms  bathrooms  sqft_living  sqft_lot  floors waterfront  view  condition  grade  sqft_above  sqft_basement  yr_built  yr_renovated  zipcode      lat     long\n",
       "0  6021501535 2014-07-25   430000.0         3       1.50         1580      5000     1.0         no     0          3      8        1290            290      1939             0    98117  47.6870 -122.386\n",
       "1  6021501535 2014-12-23   700000.0         3       1.50         1580      5000     1.0         no     0          3      8        1290            290      1939             0    98117  47.6870 -122.386\n",
       "2  4139480200 2014-06-18  1384000.0         4       3.25         4290     12103     1.0         no     3          3     11        2690           1600      1997             0    98006  47.5503 -122.102\n",
       "3  4139480200 2014-12-09  1400000.0         4       3.25         4290     12103     1.0         no     3          3     11        2690           1600      1997             0    98006  47.5503 -122.102\n",
       "4  7520000520 2014-09-05   232000.0         2       1.00         1240     12092     1.0         no     0          3      6         960            280      1922          1984    98146  47.4957 -122.352"
      ]
     },
     "execution_count": 21,
     "metadata": {},
     "output_type": "execute_result"
    }
   ],
   "source": [
    "df_dup.drop_duplicates(subset = ['id', 'date']).reset_index()\n",
    "df_dup.head()"
   ]
  },
  {
   "cell_type": "code",
   "execution_count": 22,
   "id": "ac9f5da6",
   "metadata": {
    "ExecuteTime": {
     "end_time": "2021-08-17T19:52:58.311537Z",
     "start_time": "2021-08-17T19:52:58.300566Z"
    }
   },
   "outputs": [
    {
     "data": {
      "text/plain": [
       "353"
      ]
     },
     "execution_count": 22,
     "metadata": {},
     "output_type": "execute_result"
    }
   ],
   "source": [
    "df_dup.shape[0]"
   ]
  },
  {
   "cell_type": "markdown",
   "id": "199f9f4d",
   "metadata": {},
   "source": [
    "There are not duplicated rows with the same id and date. "
   ]
  },
  {
   "cell_type": "markdown",
   "id": "bbcddf3b",
   "metadata": {
    "ExecuteTime": {
     "end_time": "2021-08-10T18:36:31.322265Z",
     "start_time": "2021-08-10T18:36:31.310267Z"
    }
   },
   "source": [
    "7) There is a big std in the price, and seems to have outliers. Check it."
   ]
  },
  {
   "cell_type": "code",
   "execution_count": 23,
   "id": "d79c26cc",
   "metadata": {
    "ExecuteTime": {
     "end_time": "2021-08-17T19:52:58.327495Z",
     "start_time": "2021-08-17T19:52:58.313531Z"
    }
   },
   "outputs": [
    {
     "data": {
      "text/html": [
       "<div>\n",
       "<style scoped>\n",
       "    .dataframe tbody tr th:only-of-type {\n",
       "        vertical-align: middle;\n",
       "    }\n",
       "\n",
       "    .dataframe tbody tr th {\n",
       "        vertical-align: top;\n",
       "    }\n",
       "\n",
       "    .dataframe thead th {\n",
       "        text-align: right;\n",
       "    }\n",
       "</style>\n",
       "<table border=\"1\" class=\"dataframe\">\n",
       "  <thead>\n",
       "    <tr style=\"text-align: right;\">\n",
       "      <th></th>\n",
       "      <th>id</th>\n",
       "      <th>date</th>\n",
       "      <th>price</th>\n",
       "      <th>bedrooms</th>\n",
       "      <th>bathrooms</th>\n",
       "      <th>sqft_living</th>\n",
       "      <th>sqft_lot</th>\n",
       "      <th>floors</th>\n",
       "      <th>waterfront</th>\n",
       "      <th>view</th>\n",
       "      <th>condition</th>\n",
       "      <th>grade</th>\n",
       "      <th>sqft_above</th>\n",
       "      <th>sqft_basement</th>\n",
       "      <th>yr_built</th>\n",
       "      <th>yr_renovated</th>\n",
       "      <th>zipcode</th>\n",
       "      <th>lat</th>\n",
       "      <th>long</th>\n",
       "    </tr>\n",
       "  </thead>\n",
       "  <tbody>\n",
       "    <tr>\n",
       "      <th>7252</th>\n",
       "      <td>6762700020</td>\n",
       "      <td>2014-10-13</td>\n",
       "      <td>7700000.0</td>\n",
       "      <td>6</td>\n",
       "      <td>8.0</td>\n",
       "      <td>12050</td>\n",
       "      <td>27600</td>\n",
       "      <td>2.5</td>\n",
       "      <td>no</td>\n",
       "      <td>3</td>\n",
       "      <td>4</td>\n",
       "      <td>13</td>\n",
       "      <td>8570</td>\n",
       "      <td>3480</td>\n",
       "      <td>1910</td>\n",
       "      <td>1987</td>\n",
       "      <td>98102</td>\n",
       "      <td>47.6298</td>\n",
       "      <td>-122.323</td>\n",
       "    </tr>\n",
       "  </tbody>\n",
       "</table>\n",
       "</div>"
      ],
      "text/plain": [
       "              id       date      price  bedrooms  bathrooms  sqft_living  sqft_lot  floors waterfront  view  condition  grade  sqft_above  sqft_basement  yr_built  yr_renovated  zipcode      lat     long\n",
       "7252  6762700020 2014-10-13  7700000.0         6        8.0        12050     27600     2.5         no     3          4     13        8570           3480      1910          1987    98102  47.6298 -122.323"
      ]
     },
     "execution_count": 23,
     "metadata": {},
     "output_type": "execute_result"
    }
   ],
   "source": [
    "df3[df3['price'] == 7700000] # most expensive house on dataset"
   ]
  },
  {
   "cell_type": "markdown",
   "id": "4d301bff",
   "metadata": {},
   "source": [
    "It seems a big classic house. The lot size fit with the size of the house. It will be keeped. "
   ]
  },
  {
   "cell_type": "markdown",
   "id": "0cd560cd",
   "metadata": {},
   "source": [
    "8) Registers with 0 and 33 bedrooms"
   ]
  },
  {
   "cell_type": "code",
   "execution_count": 24,
   "id": "78b56239",
   "metadata": {
    "ExecuteTime": {
     "end_time": "2021-08-17T19:52:58.343452Z",
     "start_time": "2021-08-17T19:52:58.328492Z"
    },
    "scrolled": false
   },
   "outputs": [],
   "source": [
    "zero_bed_df = df3[df3['bedrooms'] == 0] [['id','bathrooms','bedrooms','sqft_living', 'sqft_lot']]"
   ]
  },
  {
   "cell_type": "code",
   "execution_count": 25,
   "id": "a947a06c",
   "metadata": {
    "ExecuteTime": {
     "end_time": "2021-08-17T19:52:58.358917Z",
     "start_time": "2021-08-17T19:52:58.344450Z"
    }
   },
   "outputs": [
    {
     "name": "stdout",
     "output_type": "stream",
     "text": [
      "There are 13 registers without bedrooms. It will be droped.\n"
     ]
    }
   ],
   "source": [
    "print('There are {} registers without bedrooms. It will be droped.'.format(zero_bed_df.shape[0]))"
   ]
  },
  {
   "cell_type": "code",
   "execution_count": 26,
   "id": "f7965220",
   "metadata": {
    "ExecuteTime": {
     "end_time": "2021-08-17T19:52:58.374874Z",
     "start_time": "2021-08-17T19:52:58.359914Z"
    }
   },
   "outputs": [],
   "source": [
    "zero_bed = df3[df3['bedrooms'] == 0] ['id'].reset_index(drop=True).to_list()\n",
    "df3 = df3[~df3['id'].isin(zero_bed)]"
   ]
  },
  {
   "cell_type": "code",
   "execution_count": 27,
   "id": "22ed0f6a",
   "metadata": {
    "ExecuteTime": {
     "end_time": "2021-08-17T19:52:58.390831Z",
     "start_time": "2021-08-17T19:52:58.375871Z"
    }
   },
   "outputs": [
    {
     "data": {
      "text/html": [
       "<div>\n",
       "<style scoped>\n",
       "    .dataframe tbody tr th:only-of-type {\n",
       "        vertical-align: middle;\n",
       "    }\n",
       "\n",
       "    .dataframe tbody tr th {\n",
       "        vertical-align: top;\n",
       "    }\n",
       "\n",
       "    .dataframe thead th {\n",
       "        text-align: right;\n",
       "    }\n",
       "</style>\n",
       "<table border=\"1\" class=\"dataframe\">\n",
       "  <thead>\n",
       "    <tr style=\"text-align: right;\">\n",
       "      <th></th>\n",
       "      <th>id</th>\n",
       "      <th>date</th>\n",
       "      <th>price</th>\n",
       "      <th>bedrooms</th>\n",
       "      <th>bathrooms</th>\n",
       "      <th>sqft_living</th>\n",
       "      <th>sqft_lot</th>\n",
       "      <th>floors</th>\n",
       "      <th>waterfront</th>\n",
       "      <th>view</th>\n",
       "      <th>condition</th>\n",
       "      <th>grade</th>\n",
       "      <th>sqft_above</th>\n",
       "      <th>sqft_basement</th>\n",
       "      <th>yr_built</th>\n",
       "      <th>yr_renovated</th>\n",
       "      <th>zipcode</th>\n",
       "      <th>lat</th>\n",
       "      <th>long</th>\n",
       "    </tr>\n",
       "  </thead>\n",
       "  <tbody>\n",
       "    <tr>\n",
       "      <th>15870</th>\n",
       "      <td>2402100895</td>\n",
       "      <td>2014-06-25</td>\n",
       "      <td>640000.0</td>\n",
       "      <td>33</td>\n",
       "      <td>1.75</td>\n",
       "      <td>1620</td>\n",
       "      <td>6000</td>\n",
       "      <td>1.0</td>\n",
       "      <td>no</td>\n",
       "      <td>0</td>\n",
       "      <td>5</td>\n",
       "      <td>7</td>\n",
       "      <td>1040</td>\n",
       "      <td>580</td>\n",
       "      <td>1947</td>\n",
       "      <td>0</td>\n",
       "      <td>98103</td>\n",
       "      <td>47.6878</td>\n",
       "      <td>-122.331</td>\n",
       "    </tr>\n",
       "  </tbody>\n",
       "</table>\n",
       "</div>"
      ],
      "text/plain": [
       "               id       date     price  bedrooms  bathrooms  sqft_living  sqft_lot  floors waterfront  view  condition  grade  sqft_above  sqft_basement  yr_built  yr_renovated  zipcode      lat     long\n",
       "15870  2402100895 2014-06-25  640000.0        33       1.75         1620      6000     1.0         no     0          5      7        1040            580      1947             0    98103  47.6878 -122.331"
      ]
     },
     "execution_count": 27,
     "metadata": {},
     "output_type": "execute_result"
    }
   ],
   "source": [
    "df3[df3['bedrooms']==33] # house with 33 bedrooms"
   ]
  },
  {
   "cell_type": "markdown",
   "id": "f1091347",
   "metadata": {},
   "source": [
    "The lot size and number of floor do not fit with a 33 bedrooms house. It will be droped."
   ]
  },
  {
   "cell_type": "code",
   "execution_count": 28,
   "id": "475bb178",
   "metadata": {
    "ExecuteTime": {
     "end_time": "2021-08-17T19:52:58.406789Z",
     "start_time": "2021-08-17T19:52:58.391829Z"
    }
   },
   "outputs": [],
   "source": [
    "df3 = df3.drop(index = 15870) # index of the 33-bedrooms house"
   ]
  },
  {
   "cell_type": "markdown",
   "id": "37426405",
   "metadata": {},
   "source": [
    "9) Registers without bathrooms"
   ]
  },
  {
   "cell_type": "code",
   "execution_count": 29,
   "id": "6a1b7bf7",
   "metadata": {
    "ExecuteTime": {
     "end_time": "2021-08-17T19:52:58.422287Z",
     "start_time": "2021-08-17T19:52:58.407786Z"
    }
   },
   "outputs": [],
   "source": [
    "zero_bath = df3[df3['bathrooms'] == 0] ['id'].reset_index(drop=True).to_list()"
   ]
  },
  {
   "cell_type": "code",
   "execution_count": 30,
   "id": "c5d8ed53",
   "metadata": {
    "ExecuteTime": {
     "end_time": "2021-08-17T19:52:58.438213Z",
     "start_time": "2021-08-17T19:52:58.423253Z"
    }
   },
   "outputs": [
    {
     "name": "stdout",
     "output_type": "stream",
     "text": [
      "There are 3 registers without bathrooms. It will be droped.\n"
     ]
    }
   ],
   "source": [
    "print ('There are {} registers without bathrooms. It will be droped.'.format(len(zero_bath)))"
   ]
  },
  {
   "cell_type": "code",
   "execution_count": 31,
   "id": "e21703e3",
   "metadata": {
    "ExecuteTime": {
     "end_time": "2021-08-17T19:52:58.454170Z",
     "start_time": "2021-08-17T19:52:58.439211Z"
    }
   },
   "outputs": [],
   "source": [
    "df3 = df3[~df3['id'].isin(zero_bath)]"
   ]
  },
  {
   "cell_type": "markdown",
   "id": "c483a09b",
   "metadata": {
    "ExecuteTime": {
     "end_time": "2021-08-11T01:35:04.930412Z",
     "start_time": "2021-08-11T01:35:04.915452Z"
    }
   },
   "source": [
    "10) There are houses with the year of renovation with '0'. It has to be treated."
   ]
  },
  {
   "cell_type": "markdown",
   "id": "1b5963a1",
   "metadata": {},
   "source": [
    "Next cycle"
   ]
  },
  {
   "cell_type": "markdown",
   "id": "efe04275",
   "metadata": {},
   "source": [
    "# Feature Engeneering"
   ]
  },
  {
   "cell_type": "code",
   "execution_count": 32,
   "id": "cbc9401d",
   "metadata": {
    "ExecuteTime": {
     "end_time": "2021-08-17T19:52:58.470169Z",
     "start_time": "2021-08-17T19:52:58.456166Z"
    }
   },
   "outputs": [],
   "source": [
    "df4 = df3.copy()"
   ]
  },
  {
   "cell_type": "markdown",
   "id": "098dac43",
   "metadata": {
    "ExecuteTime": {
     "end_time": "2021-08-04T22:38:49.806449Z",
     "start_time": "2021-08-04T22:38:49.791490Z"
    }
   },
   "source": [
    "## Hipotesys"
   ]
  },
  {
   "cell_type": "markdown",
   "id": "6359dec2",
   "metadata": {
    "ExecuteTime": {
     "end_time": "2021-08-04T22:38:49.806449Z",
     "start_time": "2021-08-04T22:38:49.791490Z"
    }
   },
   "source": [
    "1) Houses with waterview are more expensive.\n",
    "Estratégia: - Comparar o preço médio por area das casas com vista com as casas sem vista\n",
    "Comparar o preço médio das casas com vista e sem vista no mesmo zipcode\n",
    "\n",
    "2) There is a main categorical feature that raise the prices.\n",
    "\n",
    "Verificar a realação do preço por area contra cada feature\n",
    "\n",
    "3) There is a main numerical feature that raise the prices\n",
    "Análise e correlação\n",
    "\n",
    "4) Houses that were not renovated are cheaper.\n",
    "\n",
    "5) The most houses with high quality design has waterview.\n",
    "\n",
    "6) Houses with price below the average price for the zip code would be a good deal\n",
    "\n",
    "- Descobrir o preço médio por zipcode\n",
    "- Criar uma coluna acima ou abaixo do preço médio do zipcode\n",
    "\n",
    "7) Houses with price below the average price for the zip code AND condition equal '2' would be a good opportunity to high the grade and profit\n",
    "\n",
    "8) Existe uma época do ano em que mais imóveis são comercializados\n",
    "\n",
    "9) Propriedades que não foram renovadas são mais baratas"
   ]
  },
  {
   "cell_type": "markdown",
   "id": "451bf702",
   "metadata": {},
   "source": [
    "## Area"
   ]
  },
  {
   "cell_type": "code",
   "execution_count": 33,
   "id": "7621971e",
   "metadata": {
    "ExecuteTime": {
     "end_time": "2021-08-17T19:52:58.783797Z",
     "start_time": "2021-08-17T19:52:58.471127Z"
    },
    "scrolled": true
   },
   "outputs": [],
   "source": [
    "# selecting the major area for each house\n",
    "df4['area'] = df4[['sqft_living', 'sqft_lot']].apply(lambda x: x['sqft_living'] if x['sqft_living'] >= x['sqft_lot'] else x['sqft_lot'], axis = 1)"
   ]
  },
  {
   "cell_type": "markdown",
   "id": "015ba348",
   "metadata": {
    "ExecuteTime": {
     "end_time": "2021-08-05T14:10:52.734839Z",
     "start_time": "2021-08-05T14:10:50.681Z"
    }
   },
   "source": [
    "## Average price per area"
   ]
  },
  {
   "cell_type": "code",
   "execution_count": 34,
   "id": "d32dcb98",
   "metadata": {
    "ExecuteTime": {
     "end_time": "2021-08-17T19:52:58.799795Z",
     "start_time": "2021-08-17T19:52:58.785794Z"
    }
   },
   "outputs": [],
   "source": [
    "df4['price_area'] = df4['price'] / df4['area'] # price/sqft for each house"
   ]
  },
  {
   "cell_type": "markdown",
   "id": "b7313d92",
   "metadata": {
    "ExecuteTime": {
     "end_time": "2021-08-11T14:53:54.415326Z",
     "start_time": "2021-08-11T14:53:54.410340Z"
    }
   },
   "source": [
    "## Average price per area per zipcode"
   ]
  },
  {
   "cell_type": "code",
   "execution_count": 35,
   "id": "4c87b5cf",
   "metadata": {
    "ExecuteTime": {
     "end_time": "2021-08-17T19:52:58.815712Z",
     "start_time": "2021-08-17T19:52:58.801752Z"
    }
   },
   "outputs": [
    {
     "data": {
      "text/html": [
       "<div>\n",
       "<style scoped>\n",
       "    .dataframe tbody tr th:only-of-type {\n",
       "        vertical-align: middle;\n",
       "    }\n",
       "\n",
       "    .dataframe tbody tr th {\n",
       "        vertical-align: top;\n",
       "    }\n",
       "\n",
       "    .dataframe thead th {\n",
       "        text-align: right;\n",
       "    }\n",
       "</style>\n",
       "<table border=\"1\" class=\"dataframe\">\n",
       "  <thead>\n",
       "    <tr style=\"text-align: right;\">\n",
       "      <th></th>\n",
       "      <th>zipcode</th>\n",
       "      <th>zipcode_price</th>\n",
       "    </tr>\n",
       "  </thead>\n",
       "  <tbody>\n",
       "    <tr>\n",
       "      <th>0</th>\n",
       "      <td>98001</td>\n",
       "      <td>30.871626</td>\n",
       "    </tr>\n",
       "    <tr>\n",
       "      <th>1</th>\n",
       "      <td>98002</td>\n",
       "      <td>37.268644</td>\n",
       "    </tr>\n",
       "    <tr>\n",
       "      <th>2</th>\n",
       "      <td>98003</td>\n",
       "      <td>32.951079</td>\n",
       "    </tr>\n",
       "    <tr>\n",
       "      <th>3</th>\n",
       "      <td>98004</td>\n",
       "      <td>119.134247</td>\n",
       "    </tr>\n",
       "    <tr>\n",
       "      <th>4</th>\n",
       "      <td>98005</td>\n",
       "      <td>60.918559</td>\n",
       "    </tr>\n",
       "  </tbody>\n",
       "</table>\n",
       "</div>"
      ],
      "text/plain": [
       "   zipcode  zipcode_price\n",
       "0    98001      30.871626\n",
       "1    98002      37.268644\n",
       "2    98003      32.951079\n",
       "3    98004     119.134247\n",
       "4    98005      60.918559"
      ]
     },
     "execution_count": 35,
     "metadata": {},
     "output_type": "execute_result"
    }
   ],
   "source": [
    "zipcode_price_df = df4[['price_area', 'zipcode']].groupby('zipcode').mean().reset_index()\n",
    "zipcode_price_df.rename(columns ={'price_area':'zipcode_price'},inplace=True)\n",
    "zipcode_price_df.head()"
   ]
  },
  {
   "cell_type": "code",
   "execution_count": 36,
   "id": "42330f65",
   "metadata": {
    "ExecuteTime": {
     "end_time": "2021-08-17T19:52:58.847628Z",
     "start_time": "2021-08-17T19:52:58.816710Z"
    }
   },
   "outputs": [],
   "source": [
    "df4 = pd.merge(df4,zipcode_price_df, how='left', on='zipcode')"
   ]
  },
  {
   "cell_type": "markdown",
   "id": "54b440c4",
   "metadata": {
    "ExecuteTime": {
     "end_time": "2021-08-12T20:13:23.359407Z",
     "start_time": "2021-08-12T20:13:23.347404Z"
    }
   },
   "source": [
    "## Trimester"
   ]
  },
  {
   "cell_type": "code",
   "execution_count": 37,
   "id": "b217af92",
   "metadata": {
    "ExecuteTime": {
     "end_time": "2021-08-17T19:52:58.863011Z",
     "start_time": "2021-08-17T19:52:58.848626Z"
    }
   },
   "outputs": [
    {
     "name": "stdout",
     "output_type": "stream",
     "text": [
      "Dataset goes since 2014-05-02 00:00:00 to 2015-05-27 00:00:00.\n"
     ]
    }
   ],
   "source": [
    "print('Dataset goes since {} to {}.'.format(df4['date'].min(),df4['date'].max()) )"
   ]
  },
  {
   "cell_type": "code",
   "execution_count": 38,
   "id": "30d9c918",
   "metadata": {
    "ExecuteTime": {
     "end_time": "2021-08-17T19:52:58.877937Z",
     "start_time": "2021-08-17T19:52:58.863974Z"
    }
   },
   "outputs": [],
   "source": [
    "def trimester_of_year(date):\n",
    "    year = str(date.year)\n",
    "    trimesters={ 'First': pd.date_range( start='01/01/'+year, end ='31/03/' +year),\n",
    "            'Second': pd.date_range( start='01/04/'+year, end ='30/06/' +year),\n",
    "             'Third': pd.date_range( start='01/07/'+year, end ='30/09/' +year),\n",
    "            'Fourth': pd.date_range( start='01/10/'+year, end ='31/12/' +year)}\n",
    "    if date in trimesters['First']:\n",
    "        return 'First'\n",
    "    if date in trimesters['Second']:\n",
    "        return 'Second'\n",
    "    if date in trimesters['Third' ]:\n",
    "        return 'Third'\n",
    "    else:\n",
    "        return 'Fourth'\n"
   ]
  },
  {
   "cell_type": "code",
   "execution_count": 39,
   "id": "c544344c",
   "metadata": {
    "ExecuteTime": {
     "end_time": "2021-08-17T19:53:08.661982Z",
     "start_time": "2021-08-17T19:52:58.878933Z"
    }
   },
   "outputs": [],
   "source": [
    "df4['trimester'] = df4['date'].map(trimester_of_year)"
   ]
  },
  {
   "cell_type": "code",
   "execution_count": 40,
   "id": "975a35b7",
   "metadata": {
    "ExecuteTime": {
     "end_time": "2021-08-17T19:53:08.692827Z",
     "start_time": "2021-08-17T19:53:08.662869Z"
    }
   },
   "outputs": [
    {
     "data": {
      "text/html": [
       "<div>\n",
       "<style scoped>\n",
       "    .dataframe tbody tr th:only-of-type {\n",
       "        vertical-align: middle;\n",
       "    }\n",
       "\n",
       "    .dataframe tbody tr th {\n",
       "        vertical-align: top;\n",
       "    }\n",
       "\n",
       "    .dataframe thead th {\n",
       "        text-align: right;\n",
       "    }\n",
       "</style>\n",
       "<table border=\"1\" class=\"dataframe\">\n",
       "  <thead>\n",
       "    <tr style=\"text-align: right;\">\n",
       "      <th></th>\n",
       "      <th>id</th>\n",
       "      <th>date</th>\n",
       "      <th>price</th>\n",
       "      <th>bedrooms</th>\n",
       "      <th>bathrooms</th>\n",
       "      <th>sqft_living</th>\n",
       "      <th>sqft_lot</th>\n",
       "      <th>floors</th>\n",
       "      <th>waterfront</th>\n",
       "      <th>view</th>\n",
       "      <th>condition</th>\n",
       "      <th>grade</th>\n",
       "      <th>sqft_above</th>\n",
       "      <th>sqft_basement</th>\n",
       "      <th>yr_built</th>\n",
       "      <th>yr_renovated</th>\n",
       "      <th>zipcode</th>\n",
       "      <th>lat</th>\n",
       "      <th>long</th>\n",
       "      <th>area</th>\n",
       "      <th>price_area</th>\n",
       "      <th>zipcode_price</th>\n",
       "      <th>trimester</th>\n",
       "    </tr>\n",
       "  </thead>\n",
       "  <tbody>\n",
       "    <tr>\n",
       "      <th>0</th>\n",
       "      <td>7129300520</td>\n",
       "      <td>2014-10-13</td>\n",
       "      <td>221900.0</td>\n",
       "      <td>3</td>\n",
       "      <td>1.00</td>\n",
       "      <td>1180</td>\n",
       "      <td>5650</td>\n",
       "      <td>1.0</td>\n",
       "      <td>no</td>\n",
       "      <td>0</td>\n",
       "      <td>3</td>\n",
       "      <td>7</td>\n",
       "      <td>1180</td>\n",
       "      <td>0</td>\n",
       "      <td>1955</td>\n",
       "      <td>0</td>\n",
       "      <td>98178</td>\n",
       "      <td>47.5112</td>\n",
       "      <td>-122.257</td>\n",
       "      <td>5650</td>\n",
       "      <td>39.274336</td>\n",
       "      <td>42.607939</td>\n",
       "      <td>Fourth</td>\n",
       "    </tr>\n",
       "    <tr>\n",
       "      <th>1</th>\n",
       "      <td>6414100192</td>\n",
       "      <td>2014-12-09</td>\n",
       "      <td>538000.0</td>\n",
       "      <td>3</td>\n",
       "      <td>2.25</td>\n",
       "      <td>2570</td>\n",
       "      <td>7242</td>\n",
       "      <td>2.0</td>\n",
       "      <td>no</td>\n",
       "      <td>0</td>\n",
       "      <td>3</td>\n",
       "      <td>7</td>\n",
       "      <td>2170</td>\n",
       "      <td>400</td>\n",
       "      <td>1951</td>\n",
       "      <td>1991</td>\n",
       "      <td>98125</td>\n",
       "      <td>47.7210</td>\n",
       "      <td>-122.319</td>\n",
       "      <td>7242</td>\n",
       "      <td>74.288870</td>\n",
       "      <td>78.558969</td>\n",
       "      <td>Fourth</td>\n",
       "    </tr>\n",
       "    <tr>\n",
       "      <th>2</th>\n",
       "      <td>5631500400</td>\n",
       "      <td>2015-02-25</td>\n",
       "      <td>180000.0</td>\n",
       "      <td>2</td>\n",
       "      <td>1.00</td>\n",
       "      <td>770</td>\n",
       "      <td>10000</td>\n",
       "      <td>1.0</td>\n",
       "      <td>no</td>\n",
       "      <td>0</td>\n",
       "      <td>3</td>\n",
       "      <td>6</td>\n",
       "      <td>770</td>\n",
       "      <td>0</td>\n",
       "      <td>1933</td>\n",
       "      <td>0</td>\n",
       "      <td>98028</td>\n",
       "      <td>47.7379</td>\n",
       "      <td>-122.233</td>\n",
       "      <td>10000</td>\n",
       "      <td>18.000000</td>\n",
       "      <td>55.711581</td>\n",
       "      <td>First</td>\n",
       "    </tr>\n",
       "    <tr>\n",
       "      <th>3</th>\n",
       "      <td>2487200875</td>\n",
       "      <td>2014-12-09</td>\n",
       "      <td>604000.0</td>\n",
       "      <td>4</td>\n",
       "      <td>3.00</td>\n",
       "      <td>1960</td>\n",
       "      <td>5000</td>\n",
       "      <td>1.0</td>\n",
       "      <td>no</td>\n",
       "      <td>0</td>\n",
       "      <td>5</td>\n",
       "      <td>7</td>\n",
       "      <td>1050</td>\n",
       "      <td>910</td>\n",
       "      <td>1965</td>\n",
       "      <td>0</td>\n",
       "      <td>98136</td>\n",
       "      <td>47.5208</td>\n",
       "      <td>-122.393</td>\n",
       "      <td>5000</td>\n",
       "      <td>120.800000</td>\n",
       "      <td>126.712198</td>\n",
       "      <td>Fourth</td>\n",
       "    </tr>\n",
       "    <tr>\n",
       "      <th>4</th>\n",
       "      <td>1954400510</td>\n",
       "      <td>2015-02-18</td>\n",
       "      <td>510000.0</td>\n",
       "      <td>3</td>\n",
       "      <td>2.00</td>\n",
       "      <td>1680</td>\n",
       "      <td>8080</td>\n",
       "      <td>1.0</td>\n",
       "      <td>no</td>\n",
       "      <td>0</td>\n",
       "      <td>3</td>\n",
       "      <td>8</td>\n",
       "      <td>1680</td>\n",
       "      <td>0</td>\n",
       "      <td>1987</td>\n",
       "      <td>0</td>\n",
       "      <td>98074</td>\n",
       "      <td>47.6168</td>\n",
       "      <td>-122.045</td>\n",
       "      <td>8080</td>\n",
       "      <td>63.118812</td>\n",
       "      <td>71.441440</td>\n",
       "      <td>First</td>\n",
       "    </tr>\n",
       "  </tbody>\n",
       "</table>\n",
       "</div>"
      ],
      "text/plain": [
       "           id       date     price  bedrooms  bathrooms  sqft_living  sqft_lot  floors waterfront  view  condition  grade  sqft_above  sqft_basement  yr_built  yr_renovated  zipcode      lat     long   area  price_area  zipcode_price trimester\n",
       "0  7129300520 2014-10-13  221900.0         3       1.00         1180      5650     1.0         no     0          3      7        1180              0      1955             0    98178  47.5112 -122.257   5650   39.274336      42.607939    Fourth\n",
       "1  6414100192 2014-12-09  538000.0         3       2.25         2570      7242     2.0         no     0          3      7        2170            400      1951          1991    98125  47.7210 -122.319   7242   74.288870      78.558969    Fourth\n",
       "2  5631500400 2015-02-25  180000.0         2       1.00          770     10000     1.0         no     0          3      6         770              0      1933             0    98028  47.7379 -122.233  10000   18.000000      55.711581     First\n",
       "3  2487200875 2014-12-09  604000.0         4       3.00         1960      5000     1.0         no     0          5      7        1050            910      1965             0    98136  47.5208 -122.393   5000  120.800000     126.712198    Fourth\n",
       "4  1954400510 2015-02-18  510000.0         3       2.00         1680      8080     1.0         no     0          3      8        1680              0      1987             0    98074  47.6168 -122.045   8080   63.118812      71.441440     First"
      ]
     },
     "execution_count": 40,
     "metadata": {},
     "output_type": "execute_result"
    }
   ],
   "source": [
    "df4.head()"
   ]
  },
  {
   "cell_type": "markdown",
   "id": "ed611dd5",
   "metadata": {},
   "source": [
    "# Exploratory Data Analisys (EDA)"
   ]
  },
  {
   "cell_type": "code",
   "execution_count": 41,
   "id": "74540f18",
   "metadata": {
    "ExecuteTime": {
     "end_time": "2021-08-17T19:53:08.708749Z",
     "start_time": "2021-08-17T19:53:08.693789Z"
    }
   },
   "outputs": [],
   "source": [
    "df5 = df4.copy()"
   ]
  },
  {
   "cell_type": "markdown",
   "id": "8832deaa",
   "metadata": {},
   "source": [
    "## Feature filtering"
   ]
  },
  {
   "cell_type": "code",
   "execution_count": 42,
   "id": "46f5f947",
   "metadata": {
    "ExecuteTime": {
     "end_time": "2021-08-17T19:53:08.738669Z",
     "start_time": "2021-08-17T19:53:08.710749Z"
    }
   },
   "outputs": [
    {
     "data": {
      "text/html": [
       "<div>\n",
       "<style scoped>\n",
       "    .dataframe tbody tr th:only-of-type {\n",
       "        vertical-align: middle;\n",
       "    }\n",
       "\n",
       "    .dataframe tbody tr th {\n",
       "        vertical-align: top;\n",
       "    }\n",
       "\n",
       "    .dataframe thead th {\n",
       "        text-align: right;\n",
       "    }\n",
       "</style>\n",
       "<table border=\"1\" class=\"dataframe\">\n",
       "  <thead>\n",
       "    <tr style=\"text-align: right;\">\n",
       "      <th></th>\n",
       "      <th>id</th>\n",
       "      <th>date</th>\n",
       "      <th>bedrooms</th>\n",
       "      <th>bathrooms</th>\n",
       "      <th>floors</th>\n",
       "      <th>waterfront</th>\n",
       "      <th>view</th>\n",
       "      <th>condition</th>\n",
       "      <th>grade</th>\n",
       "      <th>yr_built</th>\n",
       "      <th>yr_renovated</th>\n",
       "      <th>zipcode</th>\n",
       "      <th>lat</th>\n",
       "      <th>long</th>\n",
       "      <th>area</th>\n",
       "      <th>price_area</th>\n",
       "      <th>zipcode_price</th>\n",
       "      <th>trimester</th>\n",
       "    </tr>\n",
       "  </thead>\n",
       "  <tbody>\n",
       "    <tr>\n",
       "      <th>0</th>\n",
       "      <td>7129300520</td>\n",
       "      <td>2014-10-13</td>\n",
       "      <td>3</td>\n",
       "      <td>1.00</td>\n",
       "      <td>1.0</td>\n",
       "      <td>no</td>\n",
       "      <td>0</td>\n",
       "      <td>3</td>\n",
       "      <td>7</td>\n",
       "      <td>1955</td>\n",
       "      <td>0</td>\n",
       "      <td>98178</td>\n",
       "      <td>47.5112</td>\n",
       "      <td>-122.257</td>\n",
       "      <td>5650</td>\n",
       "      <td>39.274336</td>\n",
       "      <td>42.607939</td>\n",
       "      <td>Fourth</td>\n",
       "    </tr>\n",
       "    <tr>\n",
       "      <th>1</th>\n",
       "      <td>6414100192</td>\n",
       "      <td>2014-12-09</td>\n",
       "      <td>3</td>\n",
       "      <td>2.25</td>\n",
       "      <td>2.0</td>\n",
       "      <td>no</td>\n",
       "      <td>0</td>\n",
       "      <td>3</td>\n",
       "      <td>7</td>\n",
       "      <td>1951</td>\n",
       "      <td>1991</td>\n",
       "      <td>98125</td>\n",
       "      <td>47.7210</td>\n",
       "      <td>-122.319</td>\n",
       "      <td>7242</td>\n",
       "      <td>74.288870</td>\n",
       "      <td>78.558969</td>\n",
       "      <td>Fourth</td>\n",
       "    </tr>\n",
       "    <tr>\n",
       "      <th>2</th>\n",
       "      <td>5631500400</td>\n",
       "      <td>2015-02-25</td>\n",
       "      <td>2</td>\n",
       "      <td>1.00</td>\n",
       "      <td>1.0</td>\n",
       "      <td>no</td>\n",
       "      <td>0</td>\n",
       "      <td>3</td>\n",
       "      <td>6</td>\n",
       "      <td>1933</td>\n",
       "      <td>0</td>\n",
       "      <td>98028</td>\n",
       "      <td>47.7379</td>\n",
       "      <td>-122.233</td>\n",
       "      <td>10000</td>\n",
       "      <td>18.000000</td>\n",
       "      <td>55.711581</td>\n",
       "      <td>First</td>\n",
       "    </tr>\n",
       "    <tr>\n",
       "      <th>3</th>\n",
       "      <td>2487200875</td>\n",
       "      <td>2014-12-09</td>\n",
       "      <td>4</td>\n",
       "      <td>3.00</td>\n",
       "      <td>1.0</td>\n",
       "      <td>no</td>\n",
       "      <td>0</td>\n",
       "      <td>5</td>\n",
       "      <td>7</td>\n",
       "      <td>1965</td>\n",
       "      <td>0</td>\n",
       "      <td>98136</td>\n",
       "      <td>47.5208</td>\n",
       "      <td>-122.393</td>\n",
       "      <td>5000</td>\n",
       "      <td>120.800000</td>\n",
       "      <td>126.712198</td>\n",
       "      <td>Fourth</td>\n",
       "    </tr>\n",
       "    <tr>\n",
       "      <th>4</th>\n",
       "      <td>1954400510</td>\n",
       "      <td>2015-02-18</td>\n",
       "      <td>3</td>\n",
       "      <td>2.00</td>\n",
       "      <td>1.0</td>\n",
       "      <td>no</td>\n",
       "      <td>0</td>\n",
       "      <td>3</td>\n",
       "      <td>8</td>\n",
       "      <td>1987</td>\n",
       "      <td>0</td>\n",
       "      <td>98074</td>\n",
       "      <td>47.6168</td>\n",
       "      <td>-122.045</td>\n",
       "      <td>8080</td>\n",
       "      <td>63.118812</td>\n",
       "      <td>71.441440</td>\n",
       "      <td>First</td>\n",
       "    </tr>\n",
       "  </tbody>\n",
       "</table>\n",
       "</div>"
      ],
      "text/plain": [
       "           id       date  bedrooms  bathrooms  floors waterfront  view  condition  grade  yr_built  yr_renovated  zipcode      lat     long   area  price_area  zipcode_price trimester\n",
       "0  7129300520 2014-10-13         3       1.00     1.0         no     0          3      7      1955             0    98178  47.5112 -122.257   5650   39.274336      42.607939    Fourth\n",
       "1  6414100192 2014-12-09         3       2.25     2.0         no     0          3      7      1951          1991    98125  47.7210 -122.319   7242   74.288870      78.558969    Fourth\n",
       "2  5631500400 2015-02-25         2       1.00     1.0         no     0          3      6      1933             0    98028  47.7379 -122.233  10000   18.000000      55.711581     First\n",
       "3  2487200875 2014-12-09         4       3.00     1.0         no     0          5      7      1965             0    98136  47.5208 -122.393   5000  120.800000     126.712198    Fourth\n",
       "4  1954400510 2015-02-18         3       2.00     1.0         no     0          3      8      1987             0    98074  47.6168 -122.045   8080   63.118812      71.441440     First"
      ]
     },
     "execution_count": 42,
     "metadata": {},
     "output_type": "execute_result"
    }
   ],
   "source": [
    "df5 = df5.drop(columns = ['price', 'sqft_living','sqft_lot', 'sqft_above', 'sqft_basement'], axis=1)\n",
    "df5.head()"
   ]
  },
  {
   "cell_type": "code",
   "execution_count": 43,
   "id": "355138f0",
   "metadata": {
    "ExecuteTime": {
     "end_time": "2021-08-17T19:53:08.754625Z",
     "start_time": "2021-08-17T19:53:08.740665Z"
    }
   },
   "outputs": [],
   "source": [
    "# attributes filtering\n",
    "num_attributes = df5[['bedrooms', 'bathrooms', 'floors','area','price_area','zipcode_price']]\n",
    "\n",
    "cat_attributes = df5[['id','price_area','date','trimester', 'waterfront', 'view', 'condition', 'grade', 'yr_built', 'yr_renovated', 'zipcode']]\n",
    "#price_area in cat_attributes just to use for comparation\n",
    "       "
   ]
  },
  {
   "cell_type": "markdown",
   "id": "08369138",
   "metadata": {
    "ExecuteTime": {
     "end_time": "2021-08-11T13:19:34.356578Z",
     "start_time": "2021-08-11T13:19:34.345640Z"
    }
   },
   "source": [
    "## Univariate Analisys"
   ]
  },
  {
   "cell_type": "markdown",
   "id": "86b905bc",
   "metadata": {
    "ExecuteTime": {
     "end_time": "2021-08-04T19:39:09.844095Z",
     "start_time": "2021-08-04T19:39:07.828Z"
    }
   },
   "source": [
    "### Numerical Attributes"
   ]
  },
  {
   "cell_type": "code",
   "execution_count": 44,
   "id": "dc563eb3",
   "metadata": {
    "ExecuteTime": {
     "end_time": "2021-08-17T19:53:08.770622Z",
     "start_time": "2021-08-17T19:53:08.756623Z"
    }
   },
   "outputs": [],
   "source": [
    "#central tendency statistics - mean, median\n",
    "ct_mean   = pd.DataFrame ( num_attributes.apply (np.mean   ) ).T\n",
    "ct_median = pd.DataFrame ( num_attributes.apply (np.median ) ).T"
   ]
  },
  {
   "cell_type": "code",
   "execution_count": 45,
   "id": "7350cae1",
   "metadata": {
    "ExecuteTime": {
     "end_time": "2021-08-17T19:53:08.802498Z",
     "start_time": "2021-08-17T19:53:08.771581Z"
    }
   },
   "outputs": [],
   "source": [
    "# dispersion statistics - standard deviation, minimum, maximum, range, skew, kurtosis\n",
    "d_std      = pd.DataFrame ( num_attributes.apply (np.std) ).T\n",
    "d_min      = pd.DataFrame ( num_attributes.apply (np.min) ).T\n",
    "d_max      = pd.DataFrame ( num_attributes.apply (np.max) ).T\n",
    "d_range    = pd.DataFrame ( num_attributes.apply ( lambda x: x.max() - x.min())).T\n",
    "d_skew     = pd.DataFrame ( num_attributes.apply ( lambda x: x.skew() ) ).T\n",
    "d_kurtosis = pd.DataFrame ( num_attributes.apply ( lambda x: x.kurtosis() ) ).T"
   ]
  },
  {
   "cell_type": "code",
   "execution_count": 46,
   "id": "69184e9d",
   "metadata": {
    "ExecuteTime": {
     "end_time": "2021-08-17T19:53:08.818458Z",
     "start_time": "2021-08-17T19:53:08.803496Z"
    }
   },
   "outputs": [
    {
     "data": {
      "text/html": [
       "<div>\n",
       "<style scoped>\n",
       "    .dataframe tbody tr th:only-of-type {\n",
       "        vertical-align: middle;\n",
       "    }\n",
       "\n",
       "    .dataframe tbody tr th {\n",
       "        vertical-align: top;\n",
       "    }\n",
       "\n",
       "    .dataframe thead th {\n",
       "        text-align: right;\n",
       "    }\n",
       "</style>\n",
       "<table border=\"1\" class=\"dataframe\">\n",
       "  <thead>\n",
       "    <tr style=\"text-align: right;\">\n",
       "      <th></th>\n",
       "      <th>attributes</th>\n",
       "      <th>min.</th>\n",
       "      <th>max</th>\n",
       "      <th>range</th>\n",
       "      <th>mean</th>\n",
       "      <th>median</th>\n",
       "      <th>std</th>\n",
       "      <th>skew</th>\n",
       "      <th>kurtosis</th>\n",
       "    </tr>\n",
       "  </thead>\n",
       "  <tbody>\n",
       "    <tr>\n",
       "      <th>0</th>\n",
       "      <td>bedrooms</td>\n",
       "      <td>1.000000</td>\n",
       "      <td>1.100000e+01</td>\n",
       "      <td>1.000000e+01</td>\n",
       "      <td>3.371828</td>\n",
       "      <td>3.000000</td>\n",
       "      <td>0.904093</td>\n",
       "      <td>0.551382</td>\n",
       "      <td>1.797482</td>\n",
       "    </tr>\n",
       "    <tr>\n",
       "      <th>1</th>\n",
       "      <td>bathrooms</td>\n",
       "      <td>0.500000</td>\n",
       "      <td>8.000000e+00</td>\n",
       "      <td>7.500000e+00</td>\n",
       "      <td>2.115843</td>\n",
       "      <td>2.250000</td>\n",
       "      <td>0.768980</td>\n",
       "      <td>0.519644</td>\n",
       "      <td>1.279159</td>\n",
       "    </tr>\n",
       "    <tr>\n",
       "      <th>2</th>\n",
       "      <td>floors</td>\n",
       "      <td>1.000000</td>\n",
       "      <td>3.500000e+00</td>\n",
       "      <td>2.500000e+00</td>\n",
       "      <td>1.494119</td>\n",
       "      <td>1.500000</td>\n",
       "      <td>0.539672</td>\n",
       "      <td>0.614427</td>\n",
       "      <td>-0.491124</td>\n",
       "    </tr>\n",
       "    <tr>\n",
       "      <th>3</th>\n",
       "      <td>area</td>\n",
       "      <td>772.000000</td>\n",
       "      <td>1.651359e+06</td>\n",
       "      <td>1.650587e+06</td>\n",
       "      <td>15110.612660</td>\n",
       "      <td>7619.000000</td>\n",
       "      <td>41409.040407</td>\n",
       "      <td>13.074981</td>\n",
       "      <td>285.568501</td>\n",
       "    </tr>\n",
       "    <tr>\n",
       "      <th>4</th>\n",
       "      <td>price_area</td>\n",
       "      <td>0.163119</td>\n",
       "      <td>6.776316e+02</td>\n",
       "      <td>6.774685e+02</td>\n",
       "      <td>85.798158</td>\n",
       "      <td>59.259259</td>\n",
       "      <td>80.999937</td>\n",
       "      <td>2.043598</td>\n",
       "      <td>4.843591</td>\n",
       "    </tr>\n",
       "    <tr>\n",
       "      <th>5</th>\n",
       "      <td>zipcode_price</td>\n",
       "      <td>15.196621</td>\n",
       "      <td>2.932758e+02</td>\n",
       "      <td>2.780792e+02</td>\n",
       "      <td>85.798158</td>\n",
       "      <td>71.441440</td>\n",
       "      <td>58.619914</td>\n",
       "      <td>1.353481</td>\n",
       "      <td>1.232373</td>\n",
       "    </tr>\n",
       "  </tbody>\n",
       "</table>\n",
       "</div>"
      ],
      "text/plain": [
       "      attributes        min.           max         range          mean       median           std       skew    kurtosis\n",
       "0       bedrooms    1.000000  1.100000e+01  1.000000e+01      3.371828     3.000000      0.904093   0.551382    1.797482\n",
       "1      bathrooms    0.500000  8.000000e+00  7.500000e+00      2.115843     2.250000      0.768980   0.519644    1.279159\n",
       "2         floors    1.000000  3.500000e+00  2.500000e+00      1.494119     1.500000      0.539672   0.614427   -0.491124\n",
       "3           area  772.000000  1.651359e+06  1.650587e+06  15110.612660  7619.000000  41409.040407  13.074981  285.568501\n",
       "4     price_area    0.163119  6.776316e+02  6.774685e+02     85.798158    59.259259     80.999937   2.043598    4.843591\n",
       "5  zipcode_price   15.196621  2.932758e+02  2.780792e+02     85.798158    71.441440     58.619914   1.353481    1.232373"
      ]
     },
     "execution_count": 46,
     "metadata": {},
     "output_type": "execute_result"
    }
   ],
   "source": [
    "#concatenate\n",
    "df_metrics = pd.concat ([d_min,d_max,d_range,ct_mean,ct_median,d_std,d_skew,d_kurtosis]).T.reset_index()\n",
    "df_metrics.columns = ['attributes', 'min.','max','range', 'mean', 'median', 'std', 'skew', 'kurtosis']\n",
    "df_metrics"
   ]
  },
  {
   "cell_type": "markdown",
   "id": "42d0ff59",
   "metadata": {},
   "source": [
    "Observations:\n",
    "    There is a wide range in price/area . The minimum is almost zero"
   ]
  },
  {
   "cell_type": "code",
   "execution_count": 47,
   "id": "f4e4ee93",
   "metadata": {
    "ExecuteTime": {
     "end_time": "2021-08-17T19:53:08.834503Z",
     "start_time": "2021-08-17T19:53:08.820451Z"
    }
   },
   "outputs": [
    {
     "data": {
      "text/plain": [
       "0.16311897211008985"
      ]
     },
     "execution_count": 47,
     "metadata": {},
     "output_type": "execute_result"
    }
   ],
   "source": [
    "df5['price_area'].min()"
   ]
  },
  {
   "cell_type": "code",
   "execution_count": 48,
   "id": "1d1b18a3",
   "metadata": {
    "ExecuteTime": {
     "end_time": "2021-08-17T19:53:08.849877Z",
     "start_time": "2021-08-17T19:53:08.835410Z"
    }
   },
   "outputs": [
    {
     "data": {
      "text/html": [
       "<div>\n",
       "<style scoped>\n",
       "    .dataframe tbody tr th:only-of-type {\n",
       "        vertical-align: middle;\n",
       "    }\n",
       "\n",
       "    .dataframe tbody tr th {\n",
       "        vertical-align: top;\n",
       "    }\n",
       "\n",
       "    .dataframe thead th {\n",
       "        text-align: right;\n",
       "    }\n",
       "</style>\n",
       "<table border=\"1\" class=\"dataframe\">\n",
       "  <thead>\n",
       "    <tr style=\"text-align: right;\">\n",
       "      <th></th>\n",
       "      <th>id</th>\n",
       "      <th>date</th>\n",
       "      <th>bedrooms</th>\n",
       "      <th>bathrooms</th>\n",
       "      <th>floors</th>\n",
       "      <th>waterfront</th>\n",
       "      <th>view</th>\n",
       "      <th>condition</th>\n",
       "      <th>grade</th>\n",
       "      <th>yr_built</th>\n",
       "      <th>yr_renovated</th>\n",
       "      <th>zipcode</th>\n",
       "      <th>lat</th>\n",
       "      <th>long</th>\n",
       "      <th>area</th>\n",
       "      <th>price_area</th>\n",
       "      <th>zipcode_price</th>\n",
       "      <th>trimester</th>\n",
       "    </tr>\n",
       "  </thead>\n",
       "  <tbody>\n",
       "    <tr>\n",
       "      <th>17304</th>\n",
       "      <td>3326079016</td>\n",
       "      <td>2015-05-04</td>\n",
       "      <td>2</td>\n",
       "      <td>1.0</td>\n",
       "      <td>1.0</td>\n",
       "      <td>no</td>\n",
       "      <td>0</td>\n",
       "      <td>2</td>\n",
       "      <td>5</td>\n",
       "      <td>1915</td>\n",
       "      <td>0</td>\n",
       "      <td>98014</td>\n",
       "      <td>47.6888</td>\n",
       "      <td>-121.909</td>\n",
       "      <td>1164794</td>\n",
       "      <td>0.163119</td>\n",
       "      <td>17.7749</td>\n",
       "      <td>Second</td>\n",
       "    </tr>\n",
       "  </tbody>\n",
       "</table>\n",
       "</div>"
      ],
      "text/plain": [
       "               id       date  bedrooms  bathrooms  floors waterfront  view  condition  grade  yr_built  yr_renovated  zipcode      lat     long     area  price_area  zipcode_price trimester\n",
       "17304  3326079016 2015-05-04         2        1.0     1.0         no     0          2      5      1915             0    98014  47.6888 -121.909  1164794    0.163119        17.7749    Second"
      ]
     },
     "execution_count": 48,
     "metadata": {},
     "output_type": "execute_result"
    }
   ],
   "source": [
    "df5[df5['price_area'] == 0.16311897211008985]"
   ]
  },
  {
   "cell_type": "markdown",
   "id": "207eba11",
   "metadata": {
    "ExecuteTime": {
     "end_time": "2021-08-04T19:39:09.845093Z",
     "start_time": "2021-08-04T19:39:07.830Z"
    }
   },
   "source": [
    "### Categorical Attributes"
   ]
  },
  {
   "cell_type": "code",
   "execution_count": 49,
   "id": "38ff4d53",
   "metadata": {
    "ExecuteTime": {
     "end_time": "2021-08-17T19:53:08.865837Z",
     "start_time": "2021-08-17T19:53:08.850877Z"
    },
    "scrolled": false
   },
   "outputs": [
    {
     "data": {
      "text/html": [
       "<div>\n",
       "<style scoped>\n",
       "    .dataframe tbody tr th:only-of-type {\n",
       "        vertical-align: middle;\n",
       "    }\n",
       "\n",
       "    .dataframe tbody tr th {\n",
       "        vertical-align: top;\n",
       "    }\n",
       "\n",
       "    .dataframe thead th {\n",
       "        text-align: right;\n",
       "    }\n",
       "</style>\n",
       "<table border=\"1\" class=\"dataframe\">\n",
       "  <thead>\n",
       "    <tr style=\"text-align: right;\">\n",
       "      <th></th>\n",
       "      <th>id</th>\n",
       "      <th>price_area</th>\n",
       "      <th>date</th>\n",
       "      <th>trimester</th>\n",
       "      <th>waterfront</th>\n",
       "      <th>view</th>\n",
       "      <th>condition</th>\n",
       "      <th>grade</th>\n",
       "      <th>yr_built</th>\n",
       "      <th>yr_renovated</th>\n",
       "      <th>zipcode</th>\n",
       "    </tr>\n",
       "  </thead>\n",
       "  <tbody>\n",
       "    <tr>\n",
       "      <th>0</th>\n",
       "      <td>7129300520</td>\n",
       "      <td>39.274336</td>\n",
       "      <td>2014-10-13</td>\n",
       "      <td>Fourth</td>\n",
       "      <td>no</td>\n",
       "      <td>0</td>\n",
       "      <td>3</td>\n",
       "      <td>7</td>\n",
       "      <td>1955</td>\n",
       "      <td>0</td>\n",
       "      <td>98178</td>\n",
       "    </tr>\n",
       "    <tr>\n",
       "      <th>1</th>\n",
       "      <td>6414100192</td>\n",
       "      <td>74.288870</td>\n",
       "      <td>2014-12-09</td>\n",
       "      <td>Fourth</td>\n",
       "      <td>no</td>\n",
       "      <td>0</td>\n",
       "      <td>3</td>\n",
       "      <td>7</td>\n",
       "      <td>1951</td>\n",
       "      <td>1991</td>\n",
       "      <td>98125</td>\n",
       "    </tr>\n",
       "    <tr>\n",
       "      <th>2</th>\n",
       "      <td>5631500400</td>\n",
       "      <td>18.000000</td>\n",
       "      <td>2015-02-25</td>\n",
       "      <td>First</td>\n",
       "      <td>no</td>\n",
       "      <td>0</td>\n",
       "      <td>3</td>\n",
       "      <td>6</td>\n",
       "      <td>1933</td>\n",
       "      <td>0</td>\n",
       "      <td>98028</td>\n",
       "    </tr>\n",
       "    <tr>\n",
       "      <th>3</th>\n",
       "      <td>2487200875</td>\n",
       "      <td>120.800000</td>\n",
       "      <td>2014-12-09</td>\n",
       "      <td>Fourth</td>\n",
       "      <td>no</td>\n",
       "      <td>0</td>\n",
       "      <td>5</td>\n",
       "      <td>7</td>\n",
       "      <td>1965</td>\n",
       "      <td>0</td>\n",
       "      <td>98136</td>\n",
       "    </tr>\n",
       "    <tr>\n",
       "      <th>4</th>\n",
       "      <td>1954400510</td>\n",
       "      <td>63.118812</td>\n",
       "      <td>2015-02-18</td>\n",
       "      <td>First</td>\n",
       "      <td>no</td>\n",
       "      <td>0</td>\n",
       "      <td>3</td>\n",
       "      <td>8</td>\n",
       "      <td>1987</td>\n",
       "      <td>0</td>\n",
       "      <td>98074</td>\n",
       "    </tr>\n",
       "  </tbody>\n",
       "</table>\n",
       "</div>"
      ],
      "text/plain": [
       "           id  price_area       date trimester waterfront  view  condition  grade  yr_built  yr_renovated  zipcode\n",
       "0  7129300520   39.274336 2014-10-13    Fourth         no     0          3      7      1955             0    98178\n",
       "1  6414100192   74.288870 2014-12-09    Fourth         no     0          3      7      1951          1991    98125\n",
       "2  5631500400   18.000000 2015-02-25     First         no     0          3      6      1933             0    98028\n",
       "3  2487200875  120.800000 2014-12-09    Fourth         no     0          5      7      1965             0    98136\n",
       "4  1954400510   63.118812 2015-02-18     First         no     0          3      8      1987             0    98074"
      ]
     },
     "execution_count": 49,
     "metadata": {},
     "output_type": "execute_result"
    }
   ],
   "source": [
    "cat_attributes.head()"
   ]
  },
  {
   "cell_type": "code",
   "execution_count": 50,
   "id": "8faa0c01",
   "metadata": {
    "ExecuteTime": {
     "end_time": "2021-08-17T19:53:08.881794Z",
     "start_time": "2021-08-17T19:53:08.866835Z"
    }
   },
   "outputs": [],
   "source": [
    "total = df5.shape[0]\n",
    "\n",
    "wf_number    = cat_attributes [ cat_attributes ['waterfront'] == 'yes'].shape[0]\n",
    "\n",
    "lqd_number   = cat_attributes [ cat_attributes ['grade'] <=3 ].shape[0]\n",
    "\n",
    "hq_number    = cat_attributes [ cat_attributes ['grade'] >= 11].shape[0]\n",
    "\n",
    "avgq_number  = total - lqd_number - hq_number"
   ]
  },
  {
   "cell_type": "code",
   "execution_count": 51,
   "id": "b9c79211",
   "metadata": {
    "ExecuteTime": {
     "end_time": "2021-08-17T19:53:08.897752Z",
     "start_time": "2021-08-17T19:53:08.882791Z"
    }
   },
   "outputs": [
    {
     "name": "stdout",
     "output_type": "stream",
     "text": [
      "Dataset has 163 houses with waterview, what corresponding to 0.75 % of the data set\n",
      "\n",
      "Dataset has 1 houses with low quality design , what corresponding to 0.00 % of the data set\n",
      "\n",
      "Dataset has 21094 houses with average quality design , what corresponding to 97.68 % of the data set\n",
      "\n",
      "Dataset has 501 houses with high quality design , what corresponding to 2.32 % of the data set\n"
     ]
    }
   ],
   "source": [
    "print ( 'Dataset has {} houses with waterview, what corresponding to {:.2f} % of the data set\\n' .format( wf_number, (wf_number/total)*100))\n",
    "print ( 'Dataset has {} houses with low quality design , what corresponding to {:.2f} % of the data set\\n' .format( lqd_number, (lqd_number/total)*100))\n",
    "print ( 'Dataset has {} houses with average quality design , what corresponding to {:.2f} % of the data set\\n' .format( avgq_number, (avgq_number/total)*100))\n",
    "print ( 'Dataset has {} houses with high quality design , what corresponding to {:.2f} % of the data set' .format( hq_number, (hq_number/total)*100))"
   ]
  },
  {
   "cell_type": "markdown",
   "id": "f01971fb",
   "metadata": {},
   "source": [
    "## Bivariate Analysis"
   ]
  },
  {
   "cell_type": "markdown",
   "id": "3b2c3dd6",
   "metadata": {
    "ExecuteTime": {
     "end_time": "2021-08-06T13:23:15.588493Z",
     "start_time": "2021-08-06T13:23:15.346147Z"
    }
   },
   "source": [
    "### Average price for view"
   ]
  },
  {
   "cell_type": "code",
   "execution_count": 52,
   "id": "0df2f036",
   "metadata": {
    "ExecuteTime": {
     "end_time": "2021-08-17T19:53:09.167539Z",
     "start_time": "2021-08-17T19:53:08.899748Z"
    }
   },
   "outputs": [
    {
     "data": {
      "image/png": "[encoded data removed]",
      "text/plain": [
       "<Figure size 1800x864 with 1 Axes>"
      ]
     },
     "metadata": {},
     "output_type": "display_data"
    }
   ],
   "source": [
    "aux5 = cat_attributes[['price_area','view']].groupby('view').mean().reset_index()\n",
    "sns.barplot(x='view', y ='price_area', data=aux5).set_title('Average price X View')\n",
    "plt.savefig(r'../reports/figures/avg_price_view.png')"
   ]
  },
  {
   "cell_type": "markdown",
   "id": "da9355e7",
   "metadata": {
    "ExecuteTime": {
     "end_time": "2021-08-09T12:27:01.380092Z",
     "start_time": "2021-08-09T12:27:01.365133Z"
    }
   },
   "source": [
    "It seems that the view has a big contribuition to the price"
   ]
  },
  {
   "cell_type": "markdown",
   "id": "04c5dbf5",
   "metadata": {
    "ExecuteTime": {
     "end_time": "2021-08-09T12:45:30.706067Z",
     "start_time": "2021-08-09T12:45:30.689079Z"
    }
   },
   "source": [
    "### Average price for grade"
   ]
  },
  {
   "cell_type": "code",
   "execution_count": 53,
   "id": "591f7eda",
   "metadata": {
    "ExecuteTime": {
     "end_time": "2021-08-17T19:53:09.454330Z",
     "start_time": "2021-08-17T19:53:09.168538Z"
    }
   },
   "outputs": [
    {
     "data": {
      "image/png": "[encoded data removed]",
      "text/plain": [
       "<Figure size 1800x864 with 1 Axes>"
      ]
     },
     "metadata": {},
     "output_type": "display_data"
    }
   ],
   "source": [
    "aux51 = cat_attributes[['price_area', 'grade']].groupby('grade').mean().reset_index()\n",
    "sns.barplot(x='grade', y='price_area', data=aux51).set_title('Average Price X Grade')\n",
    "plt.savefig(r'../reports/figures/avg_price_grade.png')"
   ]
  },
  {
   "cell_type": "markdown",
   "id": "4f828231",
   "metadata": {},
   "source": [
    "### Average price for condition"
   ]
  },
  {
   "cell_type": "code",
   "execution_count": 54,
   "id": "629e976f",
   "metadata": {
    "ExecuteTime": {
     "end_time": "2021-08-17T19:53:09.707653Z",
     "start_time": "2021-08-17T19:53:09.455326Z"
    }
   },
   "outputs": [
    {
     "data": {
      "image/png": "[encoded data removed]",
      "text/plain": [
       "<Figure size 1800x864 with 1 Axes>"
      ]
     },
     "metadata": {},
     "output_type": "display_data"
    }
   ],
   "source": [
    "aux52 = cat_attributes[['price_area', 'condition']].groupby('condition').mean().reset_index()\n",
    "sns.barplot (x='condition', y='price_area', data = aux52).set_title('Average Price X Condition');\n",
    "plt.savefig(r'../reports/figures/avg_price_condition.png')"
   ]
  },
  {
   "cell_type": "markdown",
   "id": "3895fc26",
   "metadata": {
    "ExecuteTime": {
     "end_time": "2021-08-09T12:27:01.383084Z",
     "start_time": "2021-08-09T12:26:58.085Z"
    }
   },
   "source": [
    "It seems that its more valuable by a 2-condition house and make a lift than buy a 4-conditon one"
   ]
  },
  {
   "cell_type": "markdown",
   "id": "ada553b5",
   "metadata": {
    "ExecuteTime": {
     "end_time": "2021-08-09T12:27:01.383084Z",
     "start_time": "2021-08-09T12:26:58.088Z"
    }
   },
   "source": [
    "### Average price per Zipcode"
   ]
  },
  {
   "cell_type": "code",
   "execution_count": 55,
   "id": "22b4a8a2",
   "metadata": {
    "ExecuteTime": {
     "end_time": "2021-08-17T19:53:09.723756Z",
     "start_time": "2021-08-17T19:53:09.708650Z"
    }
   },
   "outputs": [
    {
     "data": {
      "text/html": [
       "<div>\n",
       "<style scoped>\n",
       "    .dataframe tbody tr th:only-of-type {\n",
       "        vertical-align: middle;\n",
       "    }\n",
       "\n",
       "    .dataframe tbody tr th {\n",
       "        vertical-align: top;\n",
       "    }\n",
       "\n",
       "    .dataframe thead th {\n",
       "        text-align: right;\n",
       "    }\n",
       "</style>\n",
       "<table border=\"1\" class=\"dataframe\">\n",
       "  <thead>\n",
       "    <tr style=\"text-align: right;\">\n",
       "      <th></th>\n",
       "      <th>zipcode</th>\n",
       "      <th>price_area</th>\n",
       "    </tr>\n",
       "  </thead>\n",
       "  <tbody>\n",
       "    <tr>\n",
       "      <th>0</th>\n",
       "      <td>98070</td>\n",
       "      <td>15.196621</td>\n",
       "    </tr>\n",
       "    <tr>\n",
       "      <th>1</th>\n",
       "      <td>98024</td>\n",
       "      <td>17.066277</td>\n",
       "    </tr>\n",
       "    <tr>\n",
       "      <th>2</th>\n",
       "      <td>98014</td>\n",
       "      <td>17.774900</td>\n",
       "    </tr>\n",
       "    <tr>\n",
       "      <th>3</th>\n",
       "      <td>98010</td>\n",
       "      <td>21.086372</td>\n",
       "    </tr>\n",
       "    <tr>\n",
       "      <th>4</th>\n",
       "      <td>98022</td>\n",
       "      <td>21.987446</td>\n",
       "    </tr>\n",
       "  </tbody>\n",
       "</table>\n",
       "</div>"
      ],
      "text/plain": [
       "   zipcode  price_area\n",
       "0    98070   15.196621\n",
       "1    98024   17.066277\n",
       "2    98014   17.774900\n",
       "3    98010   21.086372\n",
       "4    98022   21.987446"
      ]
     },
     "execution_count": 55,
     "metadata": {},
     "output_type": "execute_result"
    }
   ],
   "source": [
    "aux53 = cat_attributes[['price_area', 'zipcode']].groupby('zipcode').mean().reset_index()\n",
    "aux53 = aux53.sort_values(['price_area']).reset_index(drop=True)\n",
    "aux53.head()"
   ]
  },
  {
   "cell_type": "code",
   "execution_count": 56,
   "id": "30e05336",
   "metadata": {
    "ExecuteTime": {
     "end_time": "2021-08-17T19:53:11.103504Z",
     "start_time": "2021-08-17T19:53:09.724642Z"
    },
    "scrolled": true
   },
   "outputs": [
    {
     "data": {
      "image/png": "[encoded data removed]",
      "text/plain": [
       "<Figure size 1800x864 with 1 Axes>"
      ]
     },
     "metadata": {},
     "output_type": "display_data"
    }
   ],
   "source": [
    "sns.barplot(x='zipcode', y='price_area', data = aux53);"
   ]
  },
  {
   "cell_type": "markdown",
   "id": "35b24215",
   "metadata": {},
   "source": [
    "### Average price per year built"
   ]
  },
  {
   "cell_type": "code",
   "execution_count": 57,
   "id": "10e89231",
   "metadata": {
    "ExecuteTime": {
     "end_time": "2021-08-17T19:53:14.085477Z",
     "start_time": "2021-08-17T19:53:11.104501Z"
    }
   },
   "outputs": [
    {
     "data": {
      "image/png": "[encoded data removed]",
      "text/plain": [
       "<Figure size 1800x864 with 1 Axes>"
      ]
     },
     "metadata": {},
     "output_type": "display_data"
    }
   ],
   "source": [
    "aux54 = cat_attributes[['price_area', 'yr_built']].groupby('yr_built').mean().reset_index()\n",
    "sns.barplot(x='yr_built', y='price_area', data = aux54).set_title('Average Price X Yr. Built');\n",
    "plt.savefig(r'../reports/figures/avg_price_yr_built')"
   ]
  },
  {
   "cell_type": "markdown",
   "id": "be33f0f1",
   "metadata": {
    "ExecuteTime": {
     "end_time": "2021-08-10T14:39:22.574759Z",
     "start_time": "2021-08-10T14:39:20.177Z"
    }
   },
   "source": [
    "### Average price per year renovated"
   ]
  },
  {
   "cell_type": "code",
   "execution_count": 58,
   "id": "4751d2c6",
   "metadata": {
    "ExecuteTime": {
     "end_time": "2021-08-17T19:53:16.130701Z",
     "start_time": "2021-08-17T19:53:14.087472Z"
    }
   },
   "outputs": [
    {
     "data": {
      "image/png": "[encoded data removed]",
      "text/plain": [
       "<Figure size 1800x864 with 1 Axes>"
      ]
     },
     "metadata": {},
     "output_type": "display_data"
    }
   ],
   "source": [
    "aux55 = cat_attributes[['price_area', 'yr_renovated']].groupby('yr_renovated').mean().reset_index()\n",
    "sns.barplot(x='yr_renovated', y='price_area', data = aux55).set_title('Average Price X Yr. Renovated');\n",
    "plt.savefig(r'../reports/figures/avg_price_yr_renovated.png')"
   ]
  },
  {
   "cell_type": "markdown",
   "id": "34cb1317",
   "metadata": {
    "ExecuteTime": {
     "end_time": "2021-08-12T22:16:03.460138Z",
     "start_time": "2021-08-12T22:16:03.446126Z"
    }
   },
   "source": [
    "### Number of transations for time of year"
   ]
  },
  {
   "cell_type": "code",
   "execution_count": 59,
   "id": "3287db6e",
   "metadata": {
    "ExecuteTime": {
     "end_time": "2021-08-17T19:53:16.354140Z",
     "start_time": "2021-08-17T19:53:16.131665Z"
    }
   },
   "outputs": [
    {
     "data": {
      "image/png": "[encoded data removed]",
      "text/plain": [
       "<Figure size 1800x864 with 1 Axes>"
      ]
     },
     "metadata": {},
     "output_type": "display_data"
    }
   ],
   "source": [
    "aux56 = cat_attributes[['id','trimester']].groupby('trimester').count().reset_index()\n",
    "sns.barplot(x='trimester', y='id', data = aux56).set_title('Number of transations X Time of year');\n",
    "plt.savefig(r'../reports/figures/transations_per__yr.png')"
   ]
  },
  {
   "cell_type": "markdown",
   "id": "7a81c5b7",
   "metadata": {},
   "source": [
    "# Hipotesys validation"
   ]
  },
  {
   "cell_type": "code",
   "execution_count": 60,
   "id": "c568208a",
   "metadata": {
    "ExecuteTime": {
     "end_time": "2021-08-17T19:53:16.369806Z",
     "start_time": "2021-08-17T19:53:16.355102Z"
    }
   },
   "outputs": [],
   "source": [
    "df6 = df5.copy()"
   ]
  },
  {
   "cell_type": "markdown",
   "id": "8d098034",
   "metadata": {},
   "source": [
    "## Houses with waterfront are more expensive - True"
   ]
  },
  {
   "cell_type": "code",
   "execution_count": 61,
   "id": "c3e24706",
   "metadata": {
    "ExecuteTime": {
     "end_time": "2021-08-17T19:53:16.385739Z",
     "start_time": "2021-08-17T19:53:16.370779Z"
    }
   },
   "outputs": [
    {
     "name": "stdout",
     "output_type": "stream",
     "text": [
      "The average price per squarefoot of the no waterview houses is U$ 85.53\n",
      "The average price per squarefoot of the  waterview houses is U$ 121.08\n"
     ]
    }
   ],
   "source": [
    "df_nowater = df6[df6 ['waterfront'] == 'no' ]\n",
    "df_water   = df6[df6 ['waterfront'] == 'yes']\n",
    "\n",
    "print('The average price per squarefoot of the no waterview houses is U$ {:.2f}'.format( df_nowater['price_area'].mean() ) )\n",
    "\n",
    "print('The average price per squarefoot of the  waterview houses is U$ {:.2f}'.  format( df_water  ['price_area'].mean() ) )\n"
   ]
  },
  {
   "cell_type": "code",
   "execution_count": 62,
   "id": "9f38b345",
   "metadata": {
    "ExecuteTime": {
     "end_time": "2021-08-17T19:53:16.401425Z",
     "start_time": "2021-08-17T19:53:16.386738Z"
    }
   },
   "outputs": [
    {
     "name": "stdout",
     "output_type": "stream",
     "text": [
      "The average price per squarefoot of the no waterview houses that are in the same zipcode that the ones with it is U$ 85.78\n"
     ]
    }
   ],
   "source": [
    "#Comparing water and zipcodes\n",
    "zipcode_water = df_water['zipcode'].tolist()\n",
    "aux6 = df_nowater[df_nowater['zipcode'].isin(zipcode_water)]\n",
    "\n",
    "print('The average price per squarefoot of the no waterview houses that are in the same zipcode that the ones with it is U$ {:.2f}'.format( aux6['price_area'].mean())  )\n"
   ]
  },
  {
   "cell_type": "markdown",
   "id": "ef771d33",
   "metadata": {},
   "source": [
    "## There is a main categorical feature that raise the prices."
   ]
  },
  {
   "cell_type": "markdown",
   "id": "afc07e2c",
   "metadata": {},
   "source": [
    "Verificar a realação do preço por area contra cada feature\n",
    "\n",
    "## There is a main numerical feature that raise the prices\n",
    "Análise e correlação\n",
    "\n",
    "## Houses that were not renovated are cheaper.\n",
    "\n"
   ]
  },
  {
   "cell_type": "markdown",
   "id": "26fb02ea",
   "metadata": {},
   "source": [
    "## Houses with price below the average price for the zip code would be a good deal"
   ]
  },
  {
   "cell_type": "code",
   "execution_count": 67,
   "id": "7b34a1b3",
   "metadata": {
    "ExecuteTime": {
     "end_time": "2021-08-17T19:57:53.630623Z",
     "start_time": "2021-08-17T19:57:53.607686Z"
    }
   },
   "outputs": [
    {
     "data": {
      "text/html": [
       "<div>\n",
       "<style scoped>\n",
       "    .dataframe tbody tr th:only-of-type {\n",
       "        vertical-align: middle;\n",
       "    }\n",
       "\n",
       "    .dataframe tbody tr th {\n",
       "        vertical-align: top;\n",
       "    }\n",
       "\n",
       "    .dataframe thead th {\n",
       "        text-align: right;\n",
       "    }\n",
       "</style>\n",
       "<table border=\"1\" class=\"dataframe\">\n",
       "  <thead>\n",
       "    <tr style=\"text-align: right;\">\n",
       "      <th></th>\n",
       "      <th>id</th>\n",
       "      <th>price_area</th>\n",
       "      <th>zipcode_price</th>\n",
       "      <th>grade</th>\n",
       "      <th>condition</th>\n",
       "    </tr>\n",
       "  </thead>\n",
       "  <tbody>\n",
       "    <tr>\n",
       "      <th>0</th>\n",
       "      <td>7129300520</td>\n",
       "      <td>39.274336</td>\n",
       "      <td>42.607939</td>\n",
       "      <td>7</td>\n",
       "      <td>3</td>\n",
       "    </tr>\n",
       "    <tr>\n",
       "      <th>1</th>\n",
       "      <td>6414100192</td>\n",
       "      <td>74.288870</td>\n",
       "      <td>78.558969</td>\n",
       "      <td>7</td>\n",
       "      <td>3</td>\n",
       "    </tr>\n",
       "    <tr>\n",
       "      <th>2</th>\n",
       "      <td>5631500400</td>\n",
       "      <td>18.000000</td>\n",
       "      <td>55.711581</td>\n",
       "      <td>6</td>\n",
       "      <td>3</td>\n",
       "    </tr>\n",
       "    <tr>\n",
       "      <th>3</th>\n",
       "      <td>2487200875</td>\n",
       "      <td>120.800000</td>\n",
       "      <td>126.712198</td>\n",
       "      <td>7</td>\n",
       "      <td>5</td>\n",
       "    </tr>\n",
       "    <tr>\n",
       "      <th>4</th>\n",
       "      <td>1954400510</td>\n",
       "      <td>63.118812</td>\n",
       "      <td>71.441440</td>\n",
       "      <td>8</td>\n",
       "      <td>3</td>\n",
       "    </tr>\n",
       "  </tbody>\n",
       "</table>\n",
       "</div>"
      ],
      "text/plain": [
       "           id  price_area  zipcode_price  grade  condition\n",
       "0  7129300520   39.274336      42.607939      7          3\n",
       "1  6414100192   74.288870      78.558969      7          3\n",
       "2  5631500400   18.000000      55.711581      6          3\n",
       "3  2487200875  120.800000     126.712198      7          5\n",
       "4  1954400510   63.118812      71.441440      8          3"
      ]
     },
     "execution_count": 67,
     "metadata": {},
     "output_type": "execute_result"
    }
   ],
   "source": [
    "aux6 = df6[['id','price_area','zipcode_price', 'grade', 'condition']]\n",
    "cheap_price = aux6[aux6['price_area'] <= aux6['zipcode_price']]\n",
    "cheap_price.head()"
   ]
  },
  {
   "cell_type": "code",
   "execution_count": 71,
   "id": "bbce1a51",
   "metadata": {
    "ExecuteTime": {
     "end_time": "2021-08-17T20:01:20.417793Z",
     "start_time": "2021-08-17T20:01:20.406791Z"
    }
   },
   "outputs": [
    {
     "name": "stdout",
     "output_type": "stream",
     "text": [
      "There is 13097 houses who price is below the average price for its region. This houses should be bought\n"
     ]
    }
   ],
   "source": [
    "print('There is {} houses who price is below the average price for its region. This houses should be bought.'.format(cheap_price.shape[0]))"
   ]
  },
  {
   "cell_type": "markdown",
   "id": "80ba1223",
   "metadata": {},
   "source": [
    "## Houses with price below the average price for the zip code AND condition equal '2' and '4' would be a good opportunity to high the grade and profit"
   ]
  },
  {
   "cell_type": "code",
   "execution_count": 80,
   "id": "55e7d24a",
   "metadata": {
    "ExecuteTime": {
     "end_time": "2021-08-17T20:10:53.039289Z",
     "start_time": "2021-08-17T20:10:53.028319Z"
    }
   },
   "outputs": [
    {
     "data": {
      "text/html": [
       "<div>\n",
       "<style scoped>\n",
       "    .dataframe tbody tr th:only-of-type {\n",
       "        vertical-align: middle;\n",
       "    }\n",
       "\n",
       "    .dataframe tbody tr th {\n",
       "        vertical-align: top;\n",
       "    }\n",
       "\n",
       "    .dataframe thead th {\n",
       "        text-align: right;\n",
       "    }\n",
       "</style>\n",
       "<table border=\"1\" class=\"dataframe\">\n",
       "  <thead>\n",
       "    <tr style=\"text-align: right;\">\n",
       "      <th></th>\n",
       "      <th>id</th>\n",
       "      <th>price_area</th>\n",
       "      <th>zipcode_price</th>\n",
       "      <th>grade</th>\n",
       "      <th>condition</th>\n",
       "    </tr>\n",
       "  </thead>\n",
       "  <tbody>\n",
       "    <tr>\n",
       "      <th>38</th>\n",
       "      <td>7895500070</td>\n",
       "      <td>29.721362</td>\n",
       "      <td>30.871626</td>\n",
       "      <td>7</td>\n",
       "      <td>2</td>\n",
       "    </tr>\n",
       "    <tr>\n",
       "      <th>242</th>\n",
       "      <td>1868901275</td>\n",
       "      <td>91.000000</td>\n",
       "      <td>137.120967</td>\n",
       "      <td>7</td>\n",
       "      <td>2</td>\n",
       "    </tr>\n",
       "    <tr>\n",
       "      <th>328</th>\n",
       "      <td>1665400045</td>\n",
       "      <td>24.407412</td>\n",
       "      <td>39.824545</td>\n",
       "      <td>7</td>\n",
       "      <td>2</td>\n",
       "    </tr>\n",
       "    <tr>\n",
       "      <th>465</th>\n",
       "      <td>8658300340</td>\n",
       "      <td>15.841584</td>\n",
       "      <td>17.774900</td>\n",
       "      <td>4</td>\n",
       "      <td>2</td>\n",
       "    </tr>\n",
       "    <tr>\n",
       "      <th>702</th>\n",
       "      <td>6205500030</td>\n",
       "      <td>45.390071</td>\n",
       "      <td>60.918559</td>\n",
       "      <td>6</td>\n",
       "      <td>2</td>\n",
       "    </tr>\n",
       "  </tbody>\n",
       "</table>\n",
       "</div>"
      ],
      "text/plain": [
       "             id  price_area  zipcode_price  grade  condition\n",
       "38   7895500070   29.721362      30.871626      7          2\n",
       "242  1868901275   91.000000     137.120967      7          2\n",
       "328  1665400045   24.407412      39.824545      7          2\n",
       "465  8658300340   15.841584      17.774900      4          2\n",
       "702  6205500030   45.390071      60.918559      6          2"
      ]
     },
     "execution_count": 80,
     "metadata": {},
     "output_type": "execute_result"
    }
   ],
   "source": [
    "cheap_price_2 = cheap_price[cheap_price['condition'] == 2]\n",
    "cheap_price_2.head()"
   ]
  },
  {
   "cell_type": "code",
   "execution_count": 81,
   "id": "945deb7a",
   "metadata": {
    "ExecuteTime": {
     "end_time": "2021-08-17T20:11:08.304345Z",
     "start_time": "2021-08-17T20:11:08.284292Z"
    }
   },
   "outputs": [
    {
     "data": {
      "text/html": [
       "<div>\n",
       "<style scoped>\n",
       "    .dataframe tbody tr th:only-of-type {\n",
       "        vertical-align: middle;\n",
       "    }\n",
       "\n",
       "    .dataframe tbody tr th {\n",
       "        vertical-align: top;\n",
       "    }\n",
       "\n",
       "    .dataframe thead th {\n",
       "        text-align: right;\n",
       "    }\n",
       "</style>\n",
       "<table border=\"1\" class=\"dataframe\">\n",
       "  <thead>\n",
       "    <tr style=\"text-align: right;\">\n",
       "      <th></th>\n",
       "      <th>id</th>\n",
       "      <th>price_area</th>\n",
       "      <th>zipcode_price</th>\n",
       "      <th>grade</th>\n",
       "      <th>condition</th>\n",
       "    </tr>\n",
       "  </thead>\n",
       "  <tbody>\n",
       "    <tr>\n",
       "      <th>11</th>\n",
       "      <td>9212900260</td>\n",
       "      <td>78.000000</td>\n",
       "      <td>137.120967</td>\n",
       "      <td>7</td>\n",
       "      <td>4</td>\n",
       "    </tr>\n",
       "    <tr>\n",
       "      <th>12</th>\n",
       "      <td>114101516</td>\n",
       "      <td>15.577107</td>\n",
       "      <td>55.711581</td>\n",
       "      <td>7</td>\n",
       "      <td>4</td>\n",
       "    </tr>\n",
       "    <tr>\n",
       "      <th>13</th>\n",
       "      <td>6054650070</td>\n",
       "      <td>41.322314</td>\n",
       "      <td>71.441440</td>\n",
       "      <td>7</td>\n",
       "      <td>4</td>\n",
       "    </tr>\n",
       "    <tr>\n",
       "      <th>17</th>\n",
       "      <td>6865200140</td>\n",
       "      <td>112.790698</td>\n",
       "      <td>204.895353</td>\n",
       "      <td>7</td>\n",
       "      <td>4</td>\n",
       "    </tr>\n",
       "    <tr>\n",
       "      <th>18</th>\n",
       "      <td>16000397</td>\n",
       "      <td>19.187817</td>\n",
       "      <td>37.268644</td>\n",
       "      <td>7</td>\n",
       "      <td>4</td>\n",
       "    </tr>\n",
       "  </tbody>\n",
       "</table>\n",
       "</div>"
      ],
      "text/plain": [
       "            id  price_area  zipcode_price  grade  condition\n",
       "11  9212900260   78.000000     137.120967      7          4\n",
       "12   114101516   15.577107      55.711581      7          4\n",
       "13  6054650070   41.322314      71.441440      7          4\n",
       "17  6865200140  112.790698     204.895353      7          4\n",
       "18    16000397   19.187817      37.268644      7          4"
      ]
     },
     "execution_count": 81,
     "metadata": {},
     "output_type": "execute_result"
    }
   ],
   "source": [
    "cheap_price_4 = cheap_price[cheap_price['condition'] == 4]\n",
    "cheap_price_4.head()"
   ]
  },
  {
   "cell_type": "code",
   "execution_count": 85,
   "id": "ad50df27",
   "metadata": {
    "ExecuteTime": {
     "end_time": "2021-08-17T20:43:56.010848Z",
     "start_time": "2021-08-17T20:43:56.003867Z"
    }
   },
   "outputs": [
    {
     "name": "stdout",
     "output_type": "stream",
     "text": [
      "There are 4443 houses whos price is below the average price for its region and the condition is equal 2 or 4.\n",
      " This houses should be bought and evaluate the retrofit to sell with a major profit.\n"
     ]
    }
   ],
   "source": [
    "print('There are {} houses whos price is below the average price for its region and the condition is equal 2 or 4.\\n This houses should be bought and evaluate the retrofit to sell with a major profit.'.format(cheap_price_2.shape[0]+cheap_price_4.shape[0]))"
   ]
  },
  {
   "cell_type": "code",
   "execution_count": 101,
   "id": "c4ae0b92",
   "metadata": {
    "ExecuteTime": {
     "end_time": "2021-08-17T21:16:44.459177Z",
     "start_time": "2021-08-17T21:16:44.436239Z"
    }
   },
   "outputs": [
    {
     "data": {
      "text/html": [
       "<div>\n",
       "<style scoped>\n",
       "    .dataframe tbody tr th:only-of-type {\n",
       "        vertical-align: middle;\n",
       "    }\n",
       "\n",
       "    .dataframe tbody tr th {\n",
       "        vertical-align: top;\n",
       "    }\n",
       "\n",
       "    .dataframe thead th {\n",
       "        text-align: right;\n",
       "    }\n",
       "</style>\n",
       "<table border=\"1\" class=\"dataframe\">\n",
       "  <thead>\n",
       "    <tr style=\"text-align: right;\">\n",
       "      <th></th>\n",
       "      <th>id</th>\n",
       "      <th>date</th>\n",
       "      <th>bedrooms</th>\n",
       "      <th>bathrooms</th>\n",
       "      <th>floors</th>\n",
       "      <th>waterfront</th>\n",
       "      <th>view</th>\n",
       "      <th>condition</th>\n",
       "      <th>grade</th>\n",
       "      <th>yr_built</th>\n",
       "      <th>yr_renovated</th>\n",
       "      <th>zipcode</th>\n",
       "      <th>lat</th>\n",
       "      <th>long</th>\n",
       "      <th>area</th>\n",
       "      <th>price_area</th>\n",
       "      <th>zipcode_price</th>\n",
       "      <th>trimester</th>\n",
       "    </tr>\n",
       "  </thead>\n",
       "  <tbody>\n",
       "    <tr>\n",
       "      <th>0</th>\n",
       "      <td>7129300520</td>\n",
       "      <td>2014-10-13</td>\n",
       "      <td>3</td>\n",
       "      <td>1.00</td>\n",
       "      <td>1.0</td>\n",
       "      <td>no</td>\n",
       "      <td>0</td>\n",
       "      <td>3</td>\n",
       "      <td>7</td>\n",
       "      <td>1955</td>\n",
       "      <td>0</td>\n",
       "      <td>98178</td>\n",
       "      <td>47.5112</td>\n",
       "      <td>-122.257</td>\n",
       "      <td>5650</td>\n",
       "      <td>39.274336</td>\n",
       "      <td>42.607939</td>\n",
       "      <td>Fourth</td>\n",
       "    </tr>\n",
       "    <tr>\n",
       "      <th>1</th>\n",
       "      <td>6414100192</td>\n",
       "      <td>2014-12-09</td>\n",
       "      <td>3</td>\n",
       "      <td>2.25</td>\n",
       "      <td>2.0</td>\n",
       "      <td>no</td>\n",
       "      <td>0</td>\n",
       "      <td>3</td>\n",
       "      <td>7</td>\n",
       "      <td>1951</td>\n",
       "      <td>1991</td>\n",
       "      <td>98125</td>\n",
       "      <td>47.7210</td>\n",
       "      <td>-122.319</td>\n",
       "      <td>7242</td>\n",
       "      <td>74.288870</td>\n",
       "      <td>78.558969</td>\n",
       "      <td>Fourth</td>\n",
       "    </tr>\n",
       "    <tr>\n",
       "      <th>2</th>\n",
       "      <td>5631500400</td>\n",
       "      <td>2015-02-25</td>\n",
       "      <td>2</td>\n",
       "      <td>1.00</td>\n",
       "      <td>1.0</td>\n",
       "      <td>no</td>\n",
       "      <td>0</td>\n",
       "      <td>3</td>\n",
       "      <td>6</td>\n",
       "      <td>1933</td>\n",
       "      <td>0</td>\n",
       "      <td>98028</td>\n",
       "      <td>47.7379</td>\n",
       "      <td>-122.233</td>\n",
       "      <td>10000</td>\n",
       "      <td>18.000000</td>\n",
       "      <td>55.711581</td>\n",
       "      <td>First</td>\n",
       "    </tr>\n",
       "    <tr>\n",
       "      <th>3</th>\n",
       "      <td>2487200875</td>\n",
       "      <td>2014-12-09</td>\n",
       "      <td>4</td>\n",
       "      <td>3.00</td>\n",
       "      <td>1.0</td>\n",
       "      <td>no</td>\n",
       "      <td>0</td>\n",
       "      <td>5</td>\n",
       "      <td>7</td>\n",
       "      <td>1965</td>\n",
       "      <td>0</td>\n",
       "      <td>98136</td>\n",
       "      <td>47.5208</td>\n",
       "      <td>-122.393</td>\n",
       "      <td>5000</td>\n",
       "      <td>120.800000</td>\n",
       "      <td>126.712198</td>\n",
       "      <td>Fourth</td>\n",
       "    </tr>\n",
       "    <tr>\n",
       "      <th>4</th>\n",
       "      <td>1954400510</td>\n",
       "      <td>2015-02-18</td>\n",
       "      <td>3</td>\n",
       "      <td>2.00</td>\n",
       "      <td>1.0</td>\n",
       "      <td>no</td>\n",
       "      <td>0</td>\n",
       "      <td>3</td>\n",
       "      <td>8</td>\n",
       "      <td>1987</td>\n",
       "      <td>0</td>\n",
       "      <td>98074</td>\n",
       "      <td>47.6168</td>\n",
       "      <td>-122.045</td>\n",
       "      <td>8080</td>\n",
       "      <td>63.118812</td>\n",
       "      <td>71.441440</td>\n",
       "      <td>First</td>\n",
       "    </tr>\n",
       "  </tbody>\n",
       "</table>\n",
       "</div>"
      ],
      "text/plain": [
       "           id       date  bedrooms  bathrooms  floors waterfront  view  condition  grade  yr_built  yr_renovated  zipcode      lat     long   area  price_area  zipcode_price trimester\n",
       "0  7129300520 2014-10-13         3       1.00     1.0         no     0          3      7      1955             0    98178  47.5112 -122.257   5650   39.274336      42.607939    Fourth\n",
       "1  6414100192 2014-12-09         3       2.25     2.0         no     0          3      7      1951          1991    98125  47.7210 -122.319   7242   74.288870      78.558969    Fourth\n",
       "2  5631500400 2015-02-25         2       1.00     1.0         no     0          3      6      1933             0    98028  47.7379 -122.233  10000   18.000000      55.711581     First\n",
       "3  2487200875 2014-12-09         4       3.00     1.0         no     0          5      7      1965             0    98136  47.5208 -122.393   5000  120.800000     126.712198    Fourth\n",
       "4  1954400510 2015-02-18         3       2.00     1.0         no     0          3      8      1987             0    98074  47.6168 -122.045   8080   63.118812      71.441440     First"
      ]
     },
     "execution_count": 101,
     "metadata": {},
     "output_type": "execute_result"
    }
   ],
   "source": [
    "df6.head()"
   ]
  },
  {
   "cell_type": "markdown",
   "id": "7f8f3be9",
   "metadata": {},
   "source": [
    "## There is a time of year that more houses are sell"
   ]
  },
  {
   "cell_type": "code",
   "execution_count": 117,
   "id": "73130364",
   "metadata": {
    "ExecuteTime": {
     "end_time": "2021-08-17T21:22:28.625171Z",
     "start_time": "2021-08-17T21:22:28.607106Z"
    }
   },
   "outputs": [
    {
     "data": {
      "text/html": [
       "<div>\n",
       "<style scoped>\n",
       "    .dataframe tbody tr th:only-of-type {\n",
       "        vertical-align: middle;\n",
       "    }\n",
       "\n",
       "    .dataframe tbody tr th {\n",
       "        vertical-align: top;\n",
       "    }\n",
       "\n",
       "    .dataframe thead th {\n",
       "        text-align: right;\n",
       "    }\n",
       "</style>\n",
       "<table border=\"1\" class=\"dataframe\">\n",
       "  <thead>\n",
       "    <tr style=\"text-align: right;\">\n",
       "      <th></th>\n",
       "      <th>trimester</th>\n",
       "      <th>id</th>\n",
       "    </tr>\n",
       "  </thead>\n",
       "  <tbody>\n",
       "    <tr>\n",
       "      <th>0</th>\n",
       "      <td>First</td>\n",
       "      <td>4100</td>\n",
       "    </tr>\n",
       "    <tr>\n",
       "      <th>1</th>\n",
       "      <td>Fourth</td>\n",
       "      <td>4755</td>\n",
       "    </tr>\n",
       "    <tr>\n",
       "      <th>2</th>\n",
       "      <td>Second</td>\n",
       "      <td>6820</td>\n",
       "    </tr>\n",
       "    <tr>\n",
       "      <th>3</th>\n",
       "      <td>Third</td>\n",
       "      <td>5921</td>\n",
       "    </tr>\n",
       "  </tbody>\n",
       "</table>\n",
       "</div>"
      ],
      "text/plain": [
       "  trimester    id\n",
       "0     First  4100\n",
       "1    Fourth  4755\n",
       "2    Second  6820\n",
       "3     Third  5921"
      ]
     },
     "execution_count": 117,
     "metadata": {},
     "output_type": "execute_result"
    }
   ],
   "source": [
    "trimester_sales = df6[['id','trimester']].groupby('trimester').count().reset_index()\n",
    "trimester_sales"
   ]
  },
  {
   "cell_type": "code",
   "execution_count": 119,
   "id": "7fa3e65d",
   "metadata": {
    "ExecuteTime": {
     "end_time": "2021-08-17T21:22:56.995514Z",
     "start_time": "2021-08-17T21:22:56.982550Z"
    }
   },
   "outputs": [
    {
     "data": {
      "text/plain": [
       "21596"
      ]
     },
     "execution_count": 119,
     "metadata": {},
     "output_type": "execute_result"
    }
   ],
   "source": [
    "total = df6.shape[0]"
   ]
  },
  {
   "cell_type": "code",
   "execution_count": 120,
   "id": "eb4077cb",
   "metadata": {
    "ExecuteTime": {
     "end_time": "2021-08-17T21:23:59.185148Z",
     "start_time": "2021-08-17T21:23:59.156226Z"
    }
   },
   "outputs": [
    {
     "ename": "AssertionError",
     "evalue": "",
     "output_type": "error",
     "traceback": [
      "\u001b[1;31m---------------------------------------------------------------------------\u001b[0m",
      "\u001b[1;31mAssertionError\u001b[0m                            Traceback (most recent call last)",
      "\u001b[1;32m<ipython-input-120-d4bb2646b9d0>\u001b[0m in \u001b[0;36m<module>\u001b[1;34m\u001b[0m\n\u001b[1;32m----> 1\u001b[1;33m \u001b[0mtrimester_sales\u001b[0m\u001b[1;33m[\u001b[0m\u001b[1;34m'%'\u001b[0m\u001b[1;33m]\u001b[0m \u001b[1;33m=\u001b[0m \u001b[0mtrimester_sales\u001b[0m\u001b[1;33m.\u001b[0m\u001b[0mapply\u001b[0m\u001b[1;33m(\u001b[0m\u001b[1;33m(\u001b[0m\u001b[0mtrimester_sales\u001b[0m\u001b[1;33m[\u001b[0m\u001b[1;34m'id'\u001b[0m\u001b[1;33m]\u001b[0m \u001b[1;33m/\u001b[0m \u001b[0mtotal\u001b[0m\u001b[1;33m)\u001b[0m\u001b[1;33m,\u001b[0m \u001b[0maxis\u001b[0m\u001b[1;33m=\u001b[0m\u001b[1;36m1\u001b[0m\u001b[1;33m)\u001b[0m\u001b[1;33m\u001b[0m\u001b[1;33m\u001b[0m\u001b[0m\n\u001b[0m",
      "\u001b[1;32m~\\anaconda3\\envs\\DSP_001\\lib\\site-packages\\pandas\\core\\frame.py\u001b[0m in \u001b[0;36mapply\u001b[1;34m(self, func, axis, raw, result_type, args, **kwargs)\u001b[0m\n\u001b[0;32m   8734\u001b[0m             \u001b[0mkwargs\u001b[0m\u001b[1;33m=\u001b[0m\u001b[0mkwargs\u001b[0m\u001b[1;33m,\u001b[0m\u001b[1;33m\u001b[0m\u001b[1;33m\u001b[0m\u001b[0m\n\u001b[0;32m   8735\u001b[0m         )\n\u001b[1;32m-> 8736\u001b[1;33m         \u001b[1;32mreturn\u001b[0m \u001b[0mop\u001b[0m\u001b[1;33m.\u001b[0m\u001b[0mapply\u001b[0m\u001b[1;33m(\u001b[0m\u001b[1;33m)\u001b[0m\u001b[1;33m\u001b[0m\u001b[1;33m\u001b[0m\u001b[0m\n\u001b[0m\u001b[0;32m   8737\u001b[0m \u001b[1;33m\u001b[0m\u001b[0m\n\u001b[0;32m   8738\u001b[0m     def applymap(\n",
      "\u001b[1;32m~\\anaconda3\\envs\\DSP_001\\lib\\site-packages\\pandas\\core\\apply.py\u001b[0m in \u001b[0;36mapply\u001b[1;34m(self)\u001b[0m\n\u001b[0;32m    657\u001b[0m         \u001b[1;31m# dispatch to agg\u001b[0m\u001b[1;33m\u001b[0m\u001b[1;33m\u001b[0m\u001b[1;33m\u001b[0m\u001b[0m\n\u001b[0;32m    658\u001b[0m         \u001b[1;32mif\u001b[0m \u001b[0mis_list_like\u001b[0m\u001b[1;33m(\u001b[0m\u001b[0mself\u001b[0m\u001b[1;33m.\u001b[0m\u001b[0mf\u001b[0m\u001b[1;33m)\u001b[0m\u001b[1;33m:\u001b[0m\u001b[1;33m\u001b[0m\u001b[1;33m\u001b[0m\u001b[0m\n\u001b[1;32m--> 659\u001b[1;33m             \u001b[1;32mreturn\u001b[0m \u001b[0mself\u001b[0m\u001b[1;33m.\u001b[0m\u001b[0mapply_multiple\u001b[0m\u001b[1;33m(\u001b[0m\u001b[1;33m)\u001b[0m\u001b[1;33m\u001b[0m\u001b[1;33m\u001b[0m\u001b[0m\n\u001b[0m\u001b[0;32m    660\u001b[0m \u001b[1;33m\u001b[0m\u001b[0m\n\u001b[0;32m    661\u001b[0m         \u001b[1;31m# all empty\u001b[0m\u001b[1;33m\u001b[0m\u001b[1;33m\u001b[0m\u001b[1;33m\u001b[0m\u001b[0m\n",
      "\u001b[1;32m~\\anaconda3\\envs\\DSP_001\\lib\\site-packages\\pandas\\core\\apply.py\u001b[0m in \u001b[0;36mapply_multiple\u001b[1;34m(self)\u001b[0m\n\u001b[0;32m    516\u001b[0m             \u001b[0mResult\u001b[0m \u001b[0mwhen\u001b[0m \u001b[0mself\u001b[0m\u001b[1;33m.\u001b[0m\u001b[0mf\u001b[0m \u001b[1;32mis\u001b[0m \u001b[0ma\u001b[0m \u001b[0mlist\u001b[0m\u001b[1;33m-\u001b[0m\u001b[0mlike\u001b[0m \u001b[1;32mor\u001b[0m \u001b[0mdict\u001b[0m\u001b[1;33m-\u001b[0m\u001b[0mlike\u001b[0m\u001b[1;33m,\u001b[0m \u001b[1;32mNone\u001b[0m \u001b[0motherwise\u001b[0m\u001b[1;33m.\u001b[0m\u001b[1;33m\u001b[0m\u001b[1;33m\u001b[0m\u001b[0m\n\u001b[0;32m    517\u001b[0m         \"\"\"\n\u001b[1;32m--> 518\u001b[1;33m         \u001b[1;32mreturn\u001b[0m \u001b[0mself\u001b[0m\u001b[1;33m.\u001b[0m\u001b[0mobj\u001b[0m\u001b[1;33m.\u001b[0m\u001b[0maggregate\u001b[0m\u001b[1;33m(\u001b[0m\u001b[0mself\u001b[0m\u001b[1;33m.\u001b[0m\u001b[0mf\u001b[0m\u001b[1;33m,\u001b[0m \u001b[0mself\u001b[0m\u001b[1;33m.\u001b[0m\u001b[0maxis\u001b[0m\u001b[1;33m,\u001b[0m \u001b[1;33m*\u001b[0m\u001b[0mself\u001b[0m\u001b[1;33m.\u001b[0m\u001b[0margs\u001b[0m\u001b[1;33m,\u001b[0m \u001b[1;33m**\u001b[0m\u001b[0mself\u001b[0m\u001b[1;33m.\u001b[0m\u001b[0mkwargs\u001b[0m\u001b[1;33m)\u001b[0m\u001b[1;33m\u001b[0m\u001b[1;33m\u001b[0m\u001b[0m\n\u001b[0m\u001b[0;32m    519\u001b[0m \u001b[1;33m\u001b[0m\u001b[0m\n\u001b[0;32m    520\u001b[0m     def normalize_dictlike_arg(\n",
      "\u001b[1;32m~\\anaconda3\\envs\\DSP_001\\lib\\site-packages\\pandas\\core\\frame.py\u001b[0m in \u001b[0;36maggregate\u001b[1;34m(self, func, axis, *args, **kwargs)\u001b[0m\n\u001b[0;32m   8544\u001b[0m \u001b[1;33m\u001b[0m\u001b[0m\n\u001b[0;32m   8545\u001b[0m         \u001b[0mop\u001b[0m \u001b[1;33m=\u001b[0m \u001b[0mframe_apply\u001b[0m\u001b[1;33m(\u001b[0m\u001b[0mself\u001b[0m\u001b[1;33m,\u001b[0m \u001b[0mfunc\u001b[0m\u001b[1;33m=\u001b[0m\u001b[0mfunc\u001b[0m\u001b[1;33m,\u001b[0m \u001b[0maxis\u001b[0m\u001b[1;33m=\u001b[0m\u001b[0maxis\u001b[0m\u001b[1;33m,\u001b[0m \u001b[0margs\u001b[0m\u001b[1;33m=\u001b[0m\u001b[0margs\u001b[0m\u001b[1;33m,\u001b[0m \u001b[0mkwargs\u001b[0m\u001b[1;33m=\u001b[0m\u001b[0mkwargs\u001b[0m\u001b[1;33m)\u001b[0m\u001b[1;33m\u001b[0m\u001b[1;33m\u001b[0m\u001b[0m\n\u001b[1;32m-> 8546\u001b[1;33m         \u001b[0mresult\u001b[0m \u001b[1;33m=\u001b[0m \u001b[0mop\u001b[0m\u001b[1;33m.\u001b[0m\u001b[0magg\u001b[0m\u001b[1;33m(\u001b[0m\u001b[1;33m)\u001b[0m\u001b[1;33m\u001b[0m\u001b[1;33m\u001b[0m\u001b[0m\n\u001b[0m\u001b[0;32m   8547\u001b[0m \u001b[1;33m\u001b[0m\u001b[0m\n\u001b[0;32m   8548\u001b[0m         \u001b[1;32mif\u001b[0m \u001b[0mrelabeling\u001b[0m\u001b[1;33m:\u001b[0m\u001b[1;33m\u001b[0m\u001b[1;33m\u001b[0m\u001b[0m\n",
      "\u001b[1;32m~\\anaconda3\\envs\\DSP_001\\lib\\site-packages\\pandas\\core\\apply.py\u001b[0m in \u001b[0;36magg\u001b[1;34m(self)\u001b[0m\n\u001b[0;32m    693\u001b[0m \u001b[1;33m\u001b[0m\u001b[0m\n\u001b[0;32m    694\u001b[0m         \u001b[1;32mif\u001b[0m \u001b[0maxis\u001b[0m \u001b[1;33m==\u001b[0m \u001b[1;36m1\u001b[0m\u001b[1;33m:\u001b[0m\u001b[1;33m\u001b[0m\u001b[1;33m\u001b[0m\u001b[0m\n\u001b[1;32m--> 695\u001b[1;33m             result = FrameRowApply(\n\u001b[0m\u001b[0;32m    696\u001b[0m                 \u001b[0mobj\u001b[0m\u001b[1;33m.\u001b[0m\u001b[0mT\u001b[0m\u001b[1;33m,\u001b[0m\u001b[1;33m\u001b[0m\u001b[1;33m\u001b[0m\u001b[0m\n\u001b[0;32m    697\u001b[0m                 \u001b[0mself\u001b[0m\u001b[1;33m.\u001b[0m\u001b[0morig_f\u001b[0m\u001b[1;33m,\u001b[0m\u001b[1;33m\u001b[0m\u001b[1;33m\u001b[0m\u001b[0m\n",
      "\u001b[1;32m~\\anaconda3\\envs\\DSP_001\\lib\\site-packages\\pandas\\core\\apply.py\u001b[0m in \u001b[0;36magg\u001b[1;34m(self)\u001b[0m\n\u001b[0;32m    703\u001b[0m             \u001b[0mresult\u001b[0m \u001b[1;33m=\u001b[0m \u001b[0mresult\u001b[0m\u001b[1;33m.\u001b[0m\u001b[0mT\u001b[0m \u001b[1;32mif\u001b[0m \u001b[0mresult\u001b[0m \u001b[1;32mis\u001b[0m \u001b[1;32mnot\u001b[0m \u001b[1;32mNone\u001b[0m \u001b[1;32melse\u001b[0m \u001b[0mresult\u001b[0m\u001b[1;33m\u001b[0m\u001b[1;33m\u001b[0m\u001b[0m\n\u001b[0;32m    704\u001b[0m         \u001b[1;32melse\u001b[0m\u001b[1;33m:\u001b[0m\u001b[1;33m\u001b[0m\u001b[1;33m\u001b[0m\u001b[0m\n\u001b[1;32m--> 705\u001b[1;33m             \u001b[0mresult\u001b[0m \u001b[1;33m=\u001b[0m \u001b[0msuper\u001b[0m\u001b[1;33m(\u001b[0m\u001b[1;33m)\u001b[0m\u001b[1;33m.\u001b[0m\u001b[0magg\u001b[0m\u001b[1;33m(\u001b[0m\u001b[1;33m)\u001b[0m\u001b[1;33m\u001b[0m\u001b[1;33m\u001b[0m\u001b[0m\n\u001b[0m\u001b[0;32m    706\u001b[0m \u001b[1;33m\u001b[0m\u001b[0m\n\u001b[0;32m    707\u001b[0m         \u001b[1;32mif\u001b[0m \u001b[0mresult\u001b[0m \u001b[1;32mis\u001b[0m \u001b[1;32mNone\u001b[0m\u001b[1;33m:\u001b[0m\u001b[1;33m\u001b[0m\u001b[1;33m\u001b[0m\u001b[0m\n",
      "\u001b[1;32m~\\anaconda3\\envs\\DSP_001\\lib\\site-packages\\pandas\\core\\apply.py\u001b[0m in \u001b[0;36magg\u001b[1;34m(self)\u001b[0m\n\u001b[0;32m    159\u001b[0m \u001b[1;33m\u001b[0m\u001b[0m\n\u001b[0;32m    160\u001b[0m         \u001b[1;32mif\u001b[0m \u001b[0mis_dict_like\u001b[0m\u001b[1;33m(\u001b[0m\u001b[0marg\u001b[0m\u001b[1;33m)\u001b[0m\u001b[1;33m:\u001b[0m\u001b[1;33m\u001b[0m\u001b[1;33m\u001b[0m\u001b[0m\n\u001b[1;32m--> 161\u001b[1;33m             \u001b[1;32mreturn\u001b[0m \u001b[0mself\u001b[0m\u001b[1;33m.\u001b[0m\u001b[0magg_dict_like\u001b[0m\u001b[1;33m(\u001b[0m\u001b[1;33m)\u001b[0m\u001b[1;33m\u001b[0m\u001b[1;33m\u001b[0m\u001b[0m\n\u001b[0m\u001b[0;32m    162\u001b[0m         \u001b[1;32melif\u001b[0m \u001b[0mis_list_like\u001b[0m\u001b[1;33m(\u001b[0m\u001b[0marg\u001b[0m\u001b[1;33m)\u001b[0m\u001b[1;33m:\u001b[0m\u001b[1;33m\u001b[0m\u001b[1;33m\u001b[0m\u001b[0m\n\u001b[0;32m    163\u001b[0m             \u001b[1;31m# we require a list, but not a 'str'\u001b[0m\u001b[1;33m\u001b[0m\u001b[1;33m\u001b[0m\u001b[1;33m\u001b[0m\u001b[0m\n",
      "\u001b[1;32m~\\anaconda3\\envs\\DSP_001\\lib\\site-packages\\pandas\\core\\apply.py\u001b[0m in \u001b[0;36magg_dict_like\u001b[1;34m(self)\u001b[0m\n\u001b[0;32m    433\u001b[0m         \u001b[1;32melse\u001b[0m\u001b[1;33m:\u001b[0m\u001b[1;33m\u001b[0m\u001b[1;33m\u001b[0m\u001b[0m\n\u001b[0;32m    434\u001b[0m             \u001b[1;31m# key used for column selection and output\u001b[0m\u001b[1;33m\u001b[0m\u001b[1;33m\u001b[0m\u001b[1;33m\u001b[0m\u001b[0m\n\u001b[1;32m--> 435\u001b[1;33m             results = {\n\u001b[0m\u001b[0;32m    436\u001b[0m                 \u001b[0mkey\u001b[0m\u001b[1;33m:\u001b[0m \u001b[0mobj\u001b[0m\u001b[1;33m.\u001b[0m\u001b[0m_gotitem\u001b[0m\u001b[1;33m(\u001b[0m\u001b[0mkey\u001b[0m\u001b[1;33m,\u001b[0m \u001b[0mndim\u001b[0m\u001b[1;33m=\u001b[0m\u001b[1;36m1\u001b[0m\u001b[1;33m)\u001b[0m\u001b[1;33m.\u001b[0m\u001b[0magg\u001b[0m\u001b[1;33m(\u001b[0m\u001b[0mhow\u001b[0m\u001b[1;33m)\u001b[0m \u001b[1;32mfor\u001b[0m \u001b[0mkey\u001b[0m\u001b[1;33m,\u001b[0m \u001b[0mhow\u001b[0m \u001b[1;32min\u001b[0m \u001b[0marg\u001b[0m\u001b[1;33m.\u001b[0m\u001b[0mitems\u001b[0m\u001b[1;33m(\u001b[0m\u001b[1;33m)\u001b[0m\u001b[1;33m\u001b[0m\u001b[1;33m\u001b[0m\u001b[0m\n\u001b[0;32m    437\u001b[0m             }\n",
      "\u001b[1;32m~\\anaconda3\\envs\\DSP_001\\lib\\site-packages\\pandas\\core\\apply.py\u001b[0m in \u001b[0;36m<dictcomp>\u001b[1;34m(.0)\u001b[0m\n\u001b[0;32m    434\u001b[0m             \u001b[1;31m# key used for column selection and output\u001b[0m\u001b[1;33m\u001b[0m\u001b[1;33m\u001b[0m\u001b[1;33m\u001b[0m\u001b[0m\n\u001b[0;32m    435\u001b[0m             results = {\n\u001b[1;32m--> 436\u001b[1;33m                 \u001b[0mkey\u001b[0m\u001b[1;33m:\u001b[0m \u001b[0mobj\u001b[0m\u001b[1;33m.\u001b[0m\u001b[0m_gotitem\u001b[0m\u001b[1;33m(\u001b[0m\u001b[0mkey\u001b[0m\u001b[1;33m,\u001b[0m \u001b[0mndim\u001b[0m\u001b[1;33m=\u001b[0m\u001b[1;36m1\u001b[0m\u001b[1;33m)\u001b[0m\u001b[1;33m.\u001b[0m\u001b[0magg\u001b[0m\u001b[1;33m(\u001b[0m\u001b[0mhow\u001b[0m\u001b[1;33m)\u001b[0m \u001b[1;32mfor\u001b[0m \u001b[0mkey\u001b[0m\u001b[1;33m,\u001b[0m \u001b[0mhow\u001b[0m \u001b[1;32min\u001b[0m \u001b[0marg\u001b[0m\u001b[1;33m.\u001b[0m\u001b[0mitems\u001b[0m\u001b[1;33m(\u001b[0m\u001b[1;33m)\u001b[0m\u001b[1;33m\u001b[0m\u001b[1;33m\u001b[0m\u001b[0m\n\u001b[0m\u001b[0;32m    437\u001b[0m             }\n\u001b[0;32m    438\u001b[0m \u001b[1;33m\u001b[0m\u001b[0m\n",
      "\u001b[1;32m~\\anaconda3\\envs\\DSP_001\\lib\\site-packages\\pandas\\core\\series.py\u001b[0m in \u001b[0;36maggregate\u001b[1;34m(self, func, axis, *args, **kwargs)\u001b[0m\n\u001b[0;32m   4224\u001b[0m \u001b[1;33m\u001b[0m\u001b[0m\n\u001b[0;32m   4225\u001b[0m         \u001b[0mop\u001b[0m \u001b[1;33m=\u001b[0m \u001b[0mSeriesApply\u001b[0m\u001b[1;33m(\u001b[0m\u001b[0mself\u001b[0m\u001b[1;33m,\u001b[0m \u001b[0mfunc\u001b[0m\u001b[1;33m,\u001b[0m \u001b[0mconvert_dtype\u001b[0m\u001b[1;33m=\u001b[0m\u001b[1;32mFalse\u001b[0m\u001b[1;33m,\u001b[0m \u001b[0margs\u001b[0m\u001b[1;33m=\u001b[0m\u001b[0margs\u001b[0m\u001b[1;33m,\u001b[0m \u001b[0mkwargs\u001b[0m\u001b[1;33m=\u001b[0m\u001b[0mkwargs\u001b[0m\u001b[1;33m)\u001b[0m\u001b[1;33m\u001b[0m\u001b[1;33m\u001b[0m\u001b[0m\n\u001b[1;32m-> 4226\u001b[1;33m         \u001b[0mresult\u001b[0m \u001b[1;33m=\u001b[0m \u001b[0mop\u001b[0m\u001b[1;33m.\u001b[0m\u001b[0magg\u001b[0m\u001b[1;33m(\u001b[0m\u001b[1;33m)\u001b[0m\u001b[1;33m\u001b[0m\u001b[1;33m\u001b[0m\u001b[0m\n\u001b[0m\u001b[0;32m   4227\u001b[0m         \u001b[1;32mreturn\u001b[0m \u001b[0mresult\u001b[0m\u001b[1;33m\u001b[0m\u001b[1;33m\u001b[0m\u001b[0m\n\u001b[0;32m   4228\u001b[0m \u001b[1;33m\u001b[0m\u001b[0m\n",
      "\u001b[1;32m~\\anaconda3\\envs\\DSP_001\\lib\\site-packages\\pandas\\core\\apply.py\u001b[0m in \u001b[0;36magg\u001b[1;34m(self)\u001b[0m\n\u001b[0;32m   1044\u001b[0m \u001b[1;33m\u001b[0m\u001b[0m\n\u001b[0;32m   1045\u001b[0m             \u001b[1;31m# string, list-like, and dict-like are entirely handled in super\u001b[0m\u001b[1;33m\u001b[0m\u001b[1;33m\u001b[0m\u001b[1;33m\u001b[0m\u001b[0m\n\u001b[1;32m-> 1046\u001b[1;33m             \u001b[1;32massert\u001b[0m \u001b[0mcallable\u001b[0m\u001b[1;33m(\u001b[0m\u001b[0mf\u001b[0m\u001b[1;33m)\u001b[0m\u001b[1;33m\u001b[0m\u001b[1;33m\u001b[0m\u001b[0m\n\u001b[0m\u001b[0;32m   1047\u001b[0m \u001b[1;33m\u001b[0m\u001b[0m\n\u001b[0;32m   1048\u001b[0m             \u001b[1;31m# we can be called from an inner function which\u001b[0m\u001b[1;33m\u001b[0m\u001b[1;33m\u001b[0m\u001b[1;33m\u001b[0m\u001b[0m\n",
      "\u001b[1;31mAssertionError\u001b[0m: "
     ]
    }
   ],
   "source": [
    "trimester_sales['%'] = trimester_sales.apply((trimester_sales['id'] / total), axis=1)"
   ]
  },
  {
   "cell_type": "code",
   "execution_count": null,
   "id": "b3bb4271",
   "metadata": {},
   "outputs": [],
   "source": []
  },
  {
   "cell_type": "code",
   "execution_count": null,
   "id": "3591288b",
   "metadata": {},
   "outputs": [],
   "source": []
  },
  {
   "cell_type": "code",
   "execution_count": null,
   "id": "72cdb111",
   "metadata": {},
   "outputs": [],
   "source": []
  },
  {
   "cell_type": "code",
   "execution_count": null,
   "id": "ccc6b706",
   "metadata": {},
   "outputs": [],
   "source": []
  },
  {
   "cell_type": "code",
   "execution_count": null,
   "id": "165f25d7",
   "metadata": {},
   "outputs": [],
   "source": []
  },
  {
   "cell_type": "markdown",
   "id": "8eba168c",
   "metadata": {
    "ExecuteTime": {
     "end_time": "2021-08-04T19:39:09.849081Z",
     "start_time": "2021-08-04T19:39:07.839Z"
    }
   },
   "source": [
    "# Conclusion"
   ]
  },
  {
   "cell_type": "code",
   "execution_count": null,
   "id": "abef6694",
   "metadata": {},
   "outputs": [],
   "source": [
    "Produtos finais\n",
    "Lista de imóveis para compra\n",
    "Lista de imóveis para compra e reforma\n",
    "Mapa com todos os imóveis e diferenciando pelo preço\n",
    "App"
   ]
  },
  {
   "cell_type": "markdown",
   "id": "3f7bcaff",
   "metadata": {
    "ExecuteTime": {
     "end_time": "2021-08-04T19:39:09.850085Z",
     "start_time": "2021-08-04T19:39:07.842Z"
    }
   },
   "source": [
    "# Next steps"
   ]
  },
  {
   "cell_type": "markdown",
   "id": "1c91f9cd",
   "metadata": {
    "ExecuteTime": {
     "end_time": "2021-08-09T13:52:33.239479Z",
     "start_time": "2021-08-09T13:52:33.225486Z"
    }
   },
   "source": [
    "- Defining a % for 2-condition houses, it can be bought more houses\n",
    "- Use ML models to find clusters among the houses and classify them\n",
    "- Can use the data to a simple regression model to the price of selling future houses"
   ]
  }
 ],
 "metadata": {
  "kernelspec": {
   "display_name": "Python 3",
   "language": "python",
   "name": "python3"
  },
  "language_info": {
   "codemirror_mode": {
    "name": "ipython",
    "version": 3
   },
   "file_extension": ".py",
   "mimetype": "text/x-python",
   "name": "python",
   "nbconvert_exporter": "python",
   "pygments_lexer": "ipython3",
   "version": "3.8.10"
  },
  "toc": {
   "base_numbering": "0",
   "nav_menu": {},
   "number_sections": true,
   "sideBar": true,
   "skip_h1_title": false,
   "title_cell": "Table of Contents",
   "title_sidebar": "Contents",
   "toc_cell": false,
   "toc_position": {},
   "toc_section_display": true,
   "toc_window_display": false
  }
 },
 "nbformat": 4,
 "nbformat_minor": 5
}
